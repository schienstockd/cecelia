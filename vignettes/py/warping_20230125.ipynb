{
 "cells": [
  {
   "cell_type": "code",
   "execution_count": 1,
   "id": "d913e680",
   "metadata": {},
   "outputs": [],
   "source": [
    "import os\n",
    "import numpy as np\n",
    "# import working directory to check functions\n",
    "os.chdir('/Users/schiend/Desktop/DOHERTY/R-workspace/cecelia/inst')\n",
    "\n",
    "# config\n",
    "import py.config_utils as cfg\n",
    "\n",
    "%load_ext autoreload\n",
    "%autoreload 2"
   ]
  },
  {
   "cell_type": "code",
   "execution_count": 2,
   "id": "e43a213a",
   "metadata": {},
   "outputs": [],
   "source": [
    "base_dir = '/Volumes/Analysis_SSD/Dominik/cecelia/projects/8BR53W/ANALYSIS/'"
   ]
  },
  {
   "cell_type": "code",
   "execution_count": 3,
   "id": "95055b49",
   "metadata": {},
   "outputs": [],
   "source": [
    "im_paths = [\n",
    "    #os.path.join(base_dir, '0', 'h4bJUq','ccidImage.ome.zarr'),\n",
    "    #os.path.join(base_dir, '0', 'h4bJUq','ccidCorrected.zarr'),\n",
    "    os.path.join(base_dir, '0', 'h4bJUq','_ccidCorrected.zarr'),\n",
    "]"
   ]
  },
  {
   "cell_type": "code",
   "execution_count": 4,
   "id": "79ff5c95",
   "metadata": {},
   "outputs": [
    {
     "name": "stderr",
     "output_type": "stream",
     "text": [
      "Could not find Java JRE compatible with x86_64 architecture\n"
     ]
    }
   ],
   "source": [
    "import py.zarr_utils as zarr_utils\n",
    "import py.ome_xml_utils as ome_xml_utils\n",
    "from py.dim_utils import DimUtils\n",
    "import py.correction_utils as correction_utils\n",
    "import matplotlib.pyplot as plt\n",
    "from skimage.color import combine_stains, rgb_from_hdx"
   ]
  },
  {
   "cell_type": "code",
   "execution_count": 5,
   "id": "17d0de13",
   "metadata": {},
   "outputs": [],
   "source": [
    "import py.zarr_utils as zarr_utils\n",
    "import py.ome_xml_utils as ome_xml_utils\n",
    "from py.dim_utils import DimUtils\n",
    "import py.correction_utils as correction_utils"
   ]
  },
  {
   "cell_type": "code",
   "execution_count": 6,
   "id": "6537b83a",
   "metadata": {},
   "outputs": [],
   "source": [
    "# get image information\n",
    "im_zarrs = [zarr_utils.open_as_zarr(x, as_dask = False)[0] for x in im_paths]\n",
    "im_zarrs = [x[0] for x in im_zarrs]"
   ]
  },
  {
   "cell_type": "code",
   "execution_count": 7,
   "id": "a87a06dc",
   "metadata": {},
   "outputs": [],
   "source": [
    "# create dim utils for images\n",
    "dim_utils = [\n",
    "    DimUtils(ome_xml_utils.parse_meta(x), use_channel_axis = True) for x in im_paths\n",
    "]\n",
    "\n",
    "for i, x in enumerate(dim_utils):\n",
    "    x.calc_image_dimensions(im_zarrs[i].shape)"
   ]
  },
  {
   "cell_type": "code",
   "execution_count": null,
   "id": "7721100d",
   "metadata": {},
   "outputs": [],
   "source": [
    "import SimpleITK as sitk"
   ]
  },
  {
   "cell_type": "code",
   "execution_count": null,
   "id": "33b4f2bc",
   "metadata": {
    "scrolled": true
   },
   "outputs": [],
   "source": [
    "# now.. can you detect warps?\n",
    "# https://simpleelastix.readthedocs.io/NonRigidRegistration.html\n",
    "def detect_warp(fixed_im, moving_im, param_maps = ['affine', 'bspline']):\n",
    "    elastixImageFilter = sitk.ElastixImageFilter()\n",
    "    elastixImageFilter.SetFixedImage(fixed_im)\n",
    "    elastixImageFilter.SetMovingImage(moving_im)\n",
    "\n",
    "    parameterMapVector = sitk.VectorOfParameterMap()\n",
    "    for x in param_maps:\n",
    "        parameterMapVector.append(sitk.GetDefaultParameterMap(x))\n",
    "    elastixImageFilter.SetParameterMap(parameterMapVector)\n",
    "\n",
    "    elastixImageFilter.Execute()\n",
    "    \n",
    "    return elastixImageFilter"
   ]
  },
  {
   "cell_type": "code",
   "execution_count": null,
   "id": "c860bcdd",
   "metadata": {
    "scrolled": true
   },
   "outputs": [],
   "source": [
    "# now apply to cells\n",
    "def apply_warp(elastixImageFilter, moving_im):\n",
    "    transformixImageFilter = sitk.TransformixImageFilter()\n",
    "    transformixImageFilter.SetTransformParameterMap(elastixImageFilter.GetTransformParameterMap())\n",
    "    transformixImageFilter.ComputeDeformationFieldOn()\n",
    "    transformixImageFilter.SetMovingImage(moving_im)\n",
    "    transformixImageFilter.Execute()\n",
    "    \n",
    "    return sitk.GetArrayFromImage(transformixImageFilter.GetResultImage())"
   ]
  },
  {
   "cell_type": "code",
   "execution_count": null,
   "id": "e6598f24",
   "metadata": {},
   "outputs": [],
   "source": [
    "sliding_window = 2\n",
    "\n",
    "for j in range(dim_utils[0].dim_val('T')):\n",
    "    # build average image over time for warping \n",
    "    w_start = j - sliding_window\n",
    "    w_end = j + sliding_window\n",
    "\n",
    "    if w_start < 0:\n",
    "        w_start = 0\n",
    "\n",
    "    if w_start >= dim_utils[0].dim_val('T') - (sliding_window * 2):\n",
    "        w_end = dim_utils[0].dim_val('T')\n",
    "\n",
    "    print(f'{j} - {w_start}:{w_end}')"
   ]
  },
  {
   "cell_type": "code",
   "execution_count": null,
   "id": "7e1d7f6b",
   "metadata": {},
   "outputs": [],
   "source": [
    "# detect warp\n",
    "#elastixImageFilter = detect_warp(\n",
    "#    sitk.GetImageFromArray(avg_im[i, : , :].astype(np.uint16)),\n",
    "#    sitk.GetImageFromArray(im[moving_slices].astype(np.uint16))\n",
    "#)\n",
    "\n",
    "# get images for detection and warp\n",
    "#warped_zarr[im_slices] = apply_warp(\n",
    "#    elastixImageFilter,\n",
    "#    sitk.GetImageFromArray(im[im_slices].astype(np.uint16)))"
   ]
  },
  {
   "cell_type": "code",
   "execution_count": 14,
   "id": "034fd90e",
   "metadata": {},
   "outputs": [
    {
     "name": "stdout",
     "output_type": "stream",
     "text": [
      "T - 0\n",
      "C - 0\n",
      "C - 1\n",
      "C - 2\n",
      "C - 3\n",
      "T - 1\n",
      "C - 0\n",
      "C - 1\n",
      "C - 2\n",
      "C - 3\n",
      "T - 2\n",
      "C - 0\n",
      "C - 1\n",
      "C - 2\n",
      "C - 3\n",
      "T - 3\n",
      "C - 0\n",
      "C - 1\n",
      "C - 2\n",
      "C - 3\n",
      "T - 4\n",
      "C - 0\n",
      "C - 1\n",
      "C - 2\n",
      "C - 3\n",
      "T - 5\n",
      "C - 0\n",
      "C - 1\n",
      "C - 2\n",
      "C - 3\n",
      "T - 6\n",
      "C - 0\n",
      "C - 1\n",
      "C - 2\n",
      "C - 3\n",
      "T - 7\n",
      "C - 0\n",
      "C - 1\n",
      "C - 2\n",
      "C - 3\n",
      "T - 8\n",
      "C - 0\n",
      "C - 1\n",
      "C - 2\n",
      "C - 3\n",
      "T - 9\n",
      "C - 0\n",
      "C - 1\n",
      "C - 2\n",
      "C - 3\n",
      "T - 10\n",
      "C - 0\n",
      "C - 1\n",
      "C - 2\n",
      "C - 3\n"
     ]
    }
   ],
   "source": [
    "import zarr\n",
    "\n",
    "sum_zarr = zarr.zeros_like(im)\n",
    "sliding_window = 2\n",
    "\n",
    "# go through timepoints and channels\n",
    "for i in range(dim_utils[0].dim_val('T')):\n",
    "    print(f'T - {i}')\n",
    "    \n",
    "    for j in range(dim_utils[0].dim_val('C')):\n",
    "        # build average image over time for warping \n",
    "        w_start = i - sliding_window\n",
    "        w_end = i + sliding_window\n",
    "\n",
    "        if w_start < 0:\n",
    "            w_start = 0\n",
    "            #w_end = sliding_window * 2\n",
    "\n",
    "        if w_start >= dim_utils[0].dim_val('T') - (sliding_window * 2):\n",
    "            #w_start = dim_utils[0].dim_val('T') - (sliding_window * 2)\n",
    "            w_end = dim_utils[0].dim_val('T')\n",
    "\n",
    "        # set slices\n",
    "        im_slices = [slice(None) for _ in range(len(im.shape))]\n",
    "        im_slices[dim_utils[0].dim_idx('T')] = slice(w_start, w_end, 1)\n",
    "        im_slices[dim_utils[0].dim_idx('C')] = j\n",
    "        im_slices = tuple(im_slices)\n",
    "\n",
    "        sum_slices = [slice(None) for _ in range(len(sum_zarr.shape))]\n",
    "        sum_slices[dim_utils[0].dim_idx('T')] = i\n",
    "        sum_slices[dim_utils[0].dim_idx('C')] = j\n",
    "        sum_slices = tuple(sum_slices)\n",
    "\n",
    "        #avg_im = np.average(im[avg_slices], axis = dim_utils[0].dim_idx('T'))\n",
    "        sum_zarr[sum_slices] = np.squeeze(np.median(\n",
    "            im[im_slices], axis = dim_utils[0].dim_idx('T', ignore_channel = True), keepdims = True))"
   ]
  },
  {
   "cell_type": "code",
   "execution_count": 16,
   "id": "85a4877d",
   "metadata": {},
   "outputs": [
    {
     "data": {
      "text/plain": [
       "[<Image layer 'Image [4]' at 0x1770070d0>,\n",
       " <Image layer 'Image [5]' at 0x178380fd0>,\n",
       " <Image layer 'Image [6]' at 0x1783a46d0>,\n",
       " <Image layer 'Image [7]' at 0x178439ee0>]"
      ]
     },
     "execution_count": 16,
     "metadata": {},
     "output_type": "execute_result"
    }
   ],
   "source": [
    "viewer.layers.clear()\n",
    "\n",
    "viewer.add_image(im, channel_axis = dim_utils[0].dim_idx('C'), blending = 'additive')\n",
    "viewer.add_image(sum_zarr, channel_axis = dim_utils[0].dim_idx('C'), blending = 'additive')"
   ]
  },
  {
   "cell_type": "code",
   "execution_count": 17,
   "id": "db1e857d",
   "metadata": {},
   "outputs": [],
   "source": [
    "# can we segment this ..?\n",
    "zarr_utils.create_multiscales(\n",
    "    sum_zarr, '/Volumes/Analysis_SSD/Dominik/cecelia/projects/8BR53W/ANALYSIS/0/h4bJUq/ccidMedian.zarr')"
   ]
  },
  {
   "cell_type": "code",
   "execution_count": 20,
   "id": "7ef7ac5c",
   "metadata": {},
   "outputs": [
    {
     "data": {
      "text/plain": [
       "<napari._qt.widgets.qt_viewer_dock_widget.QtViewerDockWidget at 0x1770c7a60>"
      ]
     },
     "execution_count": 20,
     "metadata": {},
     "output_type": "execute_result"
    },
    {
     "name": "stdout",
     "output_type": "stream",
     "text": [
      "Rendering frames...\n"
     ]
    },
    {
     "name": "stderr",
     "output_type": "stream",
     "text": [
      "  0%|                                                                        | 0/10 [00:00<?, ?it/s]IMAGEIO FFMPEG_WRITER WARNING: input image is not divisible by macro_block_size=16, resizing from (1462, 1440) to (1472, 1440) to ensure video compatibility with most codecs and players. To prevent resizing, make your input image divisible by the macro_block_size or set the macro_block_size to 1 (risking incompatibility).\n",
      " 10%|██████▍                                                         | 1/10 [00:00<00:04,  2.16it/s][swscaler @ 0x7fada4f4a000] Warning: data is not aligned! This can lead to a speed loss\n",
      "100%|███████████████████████████████████████████████████████████████| 10/10 [00:01<00:00,  5.73it/s]\n"
     ]
    },
    {
     "name": "stdout",
     "output_type": "stream",
     "text": [
      "Rendering frames...\n"
     ]
    },
    {
     "name": "stderr",
     "output_type": "stream",
     "text": [
      "  0%|                                                                        | 0/10 [00:00<?, ?it/s]IMAGEIO FFMPEG_WRITER WARNING: input image is not divisible by macro_block_size=16, resizing from (1462, 1440) to (1472, 1440) to ensure video compatibility with most codecs and players. To prevent resizing, make your input image divisible by the macro_block_size or set the macro_block_size to 1 (risking incompatibility).\n",
      " 10%|██████▍                                                         | 1/10 [00:00<00:02,  4.30it/s][swscaler @ 0x7f90cdb4a000] Warning: data is not aligned! This can lead to a speed loss\n",
      "100%|███████████████████████████████████████████████████████████████| 10/10 [00:01<00:00,  6.57it/s]\n"
     ]
    },
    {
     "name": "stdout",
     "output_type": "stream",
     "text": [
      "Rendering frames...\n"
     ]
    },
    {
     "name": "stderr",
     "output_type": "stream",
     "text": [
      "  0%|                                                                        | 0/10 [00:00<?, ?it/s]IMAGEIO FFMPEG_WRITER WARNING: input image is not divisible by macro_block_size=16, resizing from (1462, 1440) to (1472, 1440) to ensure video compatibility with most codecs and players. To prevent resizing, make your input image divisible by the macro_block_size or set the macro_block_size to 1 (risking incompatibility).\n",
      " 10%|██████▍                                                         | 1/10 [00:00<00:03,  2.96it/s][swscaler @ 0x7f9d7884a000] Warning: data is not aligned! This can lead to a speed loss\n",
      "100%|███████████████████████████████████████████████████████████████| 10/10 [00:01<00:00,  6.08it/s]\n"
     ]
    }
   ],
   "source": [
    "from napari_animation import AnimationWidget\n",
    "animation_widget = AnimationWidget(viewer)\n",
    "viewer.window.add_dock_widget(animation_widget, area='right')"
   ]
  },
  {
   "cell_type": "code",
   "execution_count": null,
   "id": "293b74ba",
   "metadata": {},
   "outputs": [],
   "source": []
  }
 ],
 "metadata": {
  "kernelspec": {
   "display_name": "Python 3 (ipykernel)",
   "language": "python",
   "name": "python3"
  },
  "language_info": {
   "codemirror_mode": {
    "name": "ipython",
    "version": 3
   },
   "file_extension": ".py",
   "mimetype": "text/x-python",
   "name": "python",
   "nbconvert_exporter": "python",
   "pygments_lexer": "ipython3",
   "version": "3.9.13"
  }
 },
 "nbformat": 4,
 "nbformat_minor": 5
}
