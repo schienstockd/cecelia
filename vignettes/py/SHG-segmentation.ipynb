{
 "cells": [
  {
   "cell_type": "code",
   "execution_count": 1,
   "id": "a2fc902c",
   "metadata": {},
   "outputs": [],
   "source": [
    "import os\n",
    "import numpy as np\n",
    "# import working directory to check functions\n",
    "os.chdir('/Users/Dominik/R-workspace/cecelia/inst')\n",
    "\n",
    "# MacOS\n",
    "os.environ['KMP_DUPLICATE_LIB_OK'] = 'TRUE'\n",
    "\n",
    "# config\n",
    "import py.config_utils as cfg\n",
    "\n",
    "%load_ext autoreload\n",
    "%autoreload 2"
   ]
  },
  {
   "cell_type": "code",
   "execution_count": 2,
   "id": "8f75f4eb",
   "metadata": {},
   "outputs": [],
   "source": [
    "base_dir = '/Volumes/USER_data/Dominik/CECELIA_BACKUP/CV5iNI/ANALYSIS/'\n",
    "zero_dir = os.path.join(base_dir, '0/HYmMxh/')\n",
    "#im_path = os.path.join(zero_dir, 'ccidImage.ome.zarr')\n",
    "#im_path = os.path.join(zero_dir, 'ccidCorrected.zarr')\n",
    "im_path = os.path.join(zero_dir, 'ccidSlidingWindow.zarr')\n",
    "version_num = 1\n",
    "task_dir = os.path.join(base_dir, str(version_num), 'HYmMxh')"
   ]
  },
  {
   "cell_type": "code",
   "execution_count": null,
   "id": "45af0bef",
   "metadata": {},
   "outputs": [],
   "source": [
    "base_dir = '/Volumes/USER_data/Dominik/CECELIA_BACKUP/8BR53W/ANALYSIS/'\n",
    "zero_dir = os.path.join(base_dir, '0/mYdPG4/')\n",
    "#im_path = os.path.join(zero_dir, 'ccidImage.ome.zarr')\n",
    "im_path = os.path.join(zero_dir, 'ccidCorrected.zarr')\n",
    "#im_path = os.path.join(zero_dir, 'ccidSlidingWindow.zarr')\n",
    "version_num = 1\n",
    "task_dir = os.path.join(base_dir, str(version_num), 'mYdPG4')"
   ]
  },
  {
   "cell_type": "code",
   "execution_count": 6,
   "id": "be9c6b67",
   "metadata": {},
   "outputs": [],
   "source": [
    "base_dir = '/Volumes/USER_data/Dominik/CECELIA_BACKUP/uh0h3c/ANALYSIS/'\n",
    "zero_dir = os.path.join(base_dir, '0/b9o98P/')\n",
    "#im_path = os.path.join(zero_dir, 'ccidImage.ome.zarr')\n",
    "#im_path = os.path.join(zero_dir, 'ccidCorrected.zarr')\n",
    "im_path = os.path.join(zero_dir, 'ccidSlidingWindow.zarr')\n",
    "version_num = 1\n",
    "task_dir = os.path.join(base_dir, str(version_num), 'b9o98P')"
   ]
  },
  {
   "cell_type": "code",
   "execution_count": 7,
   "id": "68bceb7b",
   "metadata": {},
   "outputs": [],
   "source": [
    "from py.napari_utils import NapariUtils\n",
    "\n",
    "napari_utils = NapariUtils()\n",
    "napari_utils.open_viewer()\n",
    "napari_utils.task_dir = task_dir"
   ]
  },
  {
   "cell_type": "code",
   "execution_count": 8,
   "id": "75724ef2",
   "metadata": {},
   "outputs": [],
   "source": [
    "channel_names = [\n",
    "    # 'EB', 'T-A', 'T-B', 'AF', 'gen'\n",
    "    'One'\n",
    "]"
   ]
  },
  {
   "cell_type": "code",
   "execution_count": 9,
   "id": "10e3e72e",
   "metadata": {},
   "outputs": [
    {
     "name": "stdout",
     "output_type": "stream",
     "text": [
      "<zarr.hierarchy.Group '/' read-only>\n",
      "[4, 2, 1, 461, 578]\n",
      "[578, 461, 1, 2, 4]\n",
      "['X', 'Y', 'Z', 'C', 'T']\n",
      "[4, 2, 1, 461, 578]\n"
     ]
    }
   ],
   "source": [
    "napari_utils.open_image(\n",
    "    im_path,\n",
    "    use_channel_axis = True, as_dask = True,\n",
    "    downsample_z = False, squeeze = False\n",
    ")"
   ]
  },
  {
   "cell_type": "code",
   "execution_count": 11,
   "id": "1236c23d",
   "metadata": {},
   "outputs": [
    {
     "name": "stdout",
     "output_type": "stream",
     "text": [
      "{'base': '/Volumes/USER_data/Dominik/CECELIA_BACKUP/uh0h3c/ANALYSIS/1/b9o98P/labels/vessels.zarr'}\n",
      "(1, 461, 578)\n",
      "{'base': '/Volumes/USER_data/Dominik/CECELIA_BACKUP/uh0h3c/ANALYSIS/1/b9o98P/labels/vessels.branch.zarr'}\n",
      "(1, 461, 578)\n"
     ]
    },
    {
     "ename": "AttributeError",
     "evalue": "module 'numpy' has no attribute 'int'.\n`np.int` was a deprecated alias for the builtin `int`. To avoid this error in existing code, use `int` by itself. Doing this will not modify any behavior and is safe. When replacing `np.int`, you may wish to use e.g. `np.int64` or `np.int32` to specify the precision. If you wish to review your current use, check the release note link for additional information.\nThe aliases was originally deprecated in NumPy 1.20; for more details and guidance see the original release note at:\n    https://numpy.org/devdocs/release/1.20.0-notes.html#deprecations",
     "output_type": "error",
     "traceback": [
      "\u001b[0;31m---------------------------------------------------------------------------\u001b[0m",
      "\u001b[0;31mAttributeError\u001b[0m                            Traceback (most recent call last)",
      "Cell \u001b[0;32mIn[11], line 1\u001b[0m\n\u001b[0;32m----> 1\u001b[0m \u001b[43mnapari_utils\u001b[49m\u001b[38;5;241;43m.\u001b[39;49m\u001b[43mshow_labels_all\u001b[49m\u001b[43m(\u001b[49m\n\u001b[1;32m      2\u001b[0m \u001b[43m    \u001b[49m\u001b[43mshow_labels\u001b[49m\u001b[43m \u001b[49m\u001b[38;5;241;43m=\u001b[39;49m\u001b[43m \u001b[49m\u001b[38;5;28;43;01mTrue\u001b[39;49;00m\u001b[43m,\u001b[49m\n\u001b[1;32m      3\u001b[0m \u001b[43m    \u001b[49m\u001b[43mshow_points\u001b[49m\u001b[43m \u001b[49m\u001b[38;5;241;43m=\u001b[39;49m\u001b[43m \u001b[49m\u001b[38;5;28;43;01mFalse\u001b[39;49;00m\u001b[43m,\u001b[49m\n\u001b[1;32m      4\u001b[0m \u001b[43m    \u001b[49m\u001b[43mshow_tracks\u001b[49m\u001b[43m \u001b[49m\u001b[38;5;241;43m=\u001b[39;49m\u001b[43m \u001b[49m\u001b[38;5;28;43;01mFalse\u001b[39;49;00m\u001b[43m,\u001b[49m\n\u001b[1;32m      5\u001b[0m \u001b[43m    \u001b[49m\u001b[43mshow_branching\u001b[49m\u001b[43m \u001b[49m\u001b[38;5;241;43m=\u001b[39;49m\u001b[43m \u001b[49m\u001b[38;5;28;43;01mTrue\u001b[39;49;00m\u001b[43m,\u001b[49m\n\u001b[1;32m      6\u001b[0m \u001b[43m    \u001b[49m\u001b[43mbinarise_labels\u001b[49m\u001b[43m \u001b[49m\u001b[38;5;241;43m=\u001b[39;49m\u001b[43m \u001b[49m\u001b[38;5;28;43;01mTrue\u001b[39;49;00m\u001b[43m,\u001b[49m\n\u001b[1;32m      7\u001b[0m \u001b[43m    \u001b[49m\u001b[43mbranching_property\u001b[49m\u001b[43m \u001b[49m\u001b[38;5;241;43m=\u001b[39;49m\u001b[43m \u001b[49m\u001b[38;5;124;43m'\u001b[39;49m\u001b[38;5;124;43mtype\u001b[39;49m\u001b[38;5;124;43m'\u001b[39;49m\u001b[43m,\u001b[49m\n\u001b[1;32m      8\u001b[0m \u001b[43m    \u001b[49m\u001b[43mvalue_names\u001b[49m\u001b[43m \u001b[49m\u001b[38;5;241;43m=\u001b[39;49m\u001b[43m \u001b[49m\u001b[43m[\u001b[49m\u001b[38;5;124;43m'\u001b[39;49m\u001b[38;5;124;43mvessels\u001b[39;49m\u001b[38;5;124;43m'\u001b[39;49m\u001b[43m,\u001b[49m\u001b[43m \u001b[49m\u001b[38;5;124;43m'\u001b[39;49m\u001b[38;5;124;43mvessels.branch\u001b[39;49m\u001b[38;5;124;43m'\u001b[39;49m\u001b[43m]\u001b[49m\n\u001b[1;32m      9\u001b[0m \u001b[43m)\u001b[49m\n",
      "File \u001b[0;32m~/R-workspace/cecelia/inst/py/napari_utils.py:444\u001b[0m, in \u001b[0;36mNapariUtils.show_labels_all\u001b[0;34m(self, value_names, label_suffixes, **kwargs)\u001b[0m\n\u001b[1;32m    440\u001b[0m \u001b[38;5;28;01mfor\u001b[39;00m i, x \u001b[38;5;129;01min\u001b[39;00m \u001b[38;5;28menumerate\u001b[39m(value_names):\n\u001b[1;32m    441\u001b[0m   \u001b[38;5;66;03m# get suffixes for value name\u001b[39;00m\n\u001b[1;32m    442\u001b[0m   value_name_suffixes \u001b[38;5;241m=\u001b[39m label_suffixes[x] \u001b[38;5;28;01mif\u001b[39;00m x \u001b[38;5;129;01min\u001b[39;00m label_suffixes \u001b[38;5;28;01melse\u001b[39;00m []\n\u001b[0;32m--> 444\u001b[0m   \u001b[38;5;28;43mself\u001b[39;49m\u001b[38;5;241;43m.\u001b[39;49m\u001b[43mshow_labels\u001b[49m\u001b[43m(\u001b[49m\u001b[43mx\u001b[49m\u001b[43m,\u001b[49m\u001b[43m \u001b[49m\u001b[43mlabel_suffixes\u001b[49m\u001b[43m \u001b[49m\u001b[38;5;241;43m=\u001b[39;49m\u001b[43m \u001b[49m\u001b[43mvalue_name_suffixes\u001b[49m\u001b[43m,\u001b[49m\u001b[43m \u001b[49m\u001b[38;5;241;43m*\u001b[39;49m\u001b[38;5;241;43m*\u001b[39;49m\u001b[43mkwargs\u001b[49m\u001b[43m)\u001b[49m\n",
      "File \u001b[0;32m~/R-workspace/cecelia/inst/py/napari_utils.py:601\u001b[0m, in \u001b[0;36mNapariUtils.show_labels\u001b[0;34m(self, value_name, show_labels, show_points, show_label_ids, as_np_array, show_tracks, points_colour, cache, label_suffixes, show_branching, branching_property, slices, split_tracks, tracks_blending, binarise_labels)\u001b[0m\n\u001b[1;32m    598\u001b[0m \u001b[38;5;66;03m# insert background\u001b[39;00m\n\u001b[1;32m    599\u001b[0m labels_cm \u001b[38;5;241m=\u001b[39m np\u001b[38;5;241m.\u001b[39minsert(labels_cm, \u001b[38;5;241m0\u001b[39m, \u001b[38;5;241m0\u001b[39m, axis \u001b[38;5;241m=\u001b[39m \u001b[38;5;241m0\u001b[39m)\n\u001b[0;32m--> 601\u001b[0m layer_chnl_colours \u001b[38;5;241m=\u001b[39m np\u001b[38;5;241m.\u001b[39marray(branching_values\u001b[38;5;241m/\u001b[39mmax_chnl_val \u001b[38;5;241m*\u001b[39m chnl_scale \u001b[38;5;241m-\u001b[39m \u001b[38;5;241m1\u001b[39m)\u001b[38;5;241m.\u001b[39mastype(\u001b[43mnp\u001b[49m\u001b[38;5;241;43m.\u001b[39;49m\u001b[43mint\u001b[49m)\n\u001b[1;32m    602\u001b[0m layer_chnl_colours[layer_chnl_colours \u001b[38;5;241m>\u001b[39m\u001b[38;5;241m=\u001b[39m chnl_scale] \u001b[38;5;241m=\u001b[39m chnl_scale \u001b[38;5;241m-\u001b[39m \u001b[38;5;241m1\u001b[39m\n\u001b[1;32m    603\u001b[0m layer_chnl_colours[layer_chnl_colours \u001b[38;5;241m<\u001b[39m\u001b[38;5;241m=\u001b[39m \u001b[38;5;241m0\u001b[39m] \u001b[38;5;241m=\u001b[39m \u001b[38;5;241m1\u001b[39m\n",
      "File \u001b[0;32m~/Library/r-miniconda/envs/r-cecelia-env/lib/python3.9/site-packages/numpy/__init__.py:324\u001b[0m, in \u001b[0;36m__getattr__\u001b[0;34m(attr)\u001b[0m\n\u001b[1;32m    319\u001b[0m     warnings\u001b[38;5;241m.\u001b[39mwarn(\n\u001b[1;32m    320\u001b[0m         \u001b[38;5;124mf\u001b[39m\u001b[38;5;124m\"\u001b[39m\u001b[38;5;124mIn the future `np.\u001b[39m\u001b[38;5;132;01m{\u001b[39;00mattr\u001b[38;5;132;01m}\u001b[39;00m\u001b[38;5;124m` will be defined as the \u001b[39m\u001b[38;5;124m\"\u001b[39m\n\u001b[1;32m    321\u001b[0m         \u001b[38;5;124m\"\u001b[39m\u001b[38;5;124mcorresponding NumPy scalar.\u001b[39m\u001b[38;5;124m\"\u001b[39m, \u001b[38;5;167;01mFutureWarning\u001b[39;00m, stacklevel\u001b[38;5;241m=\u001b[39m\u001b[38;5;241m2\u001b[39m)\n\u001b[1;32m    323\u001b[0m \u001b[38;5;28;01mif\u001b[39;00m attr \u001b[38;5;129;01min\u001b[39;00m __former_attrs__:\n\u001b[0;32m--> 324\u001b[0m     \u001b[38;5;28;01mraise\u001b[39;00m \u001b[38;5;167;01mAttributeError\u001b[39;00m(__former_attrs__[attr])\n\u001b[1;32m    326\u001b[0m \u001b[38;5;28;01mif\u001b[39;00m attr \u001b[38;5;241m==\u001b[39m \u001b[38;5;124m'\u001b[39m\u001b[38;5;124mtesting\u001b[39m\u001b[38;5;124m'\u001b[39m:\n\u001b[1;32m    327\u001b[0m     \u001b[38;5;28;01mimport\u001b[39;00m \u001b[38;5;21;01mnumpy\u001b[39;00m\u001b[38;5;21;01m.\u001b[39;00m\u001b[38;5;21;01mtesting\u001b[39;00m \u001b[38;5;28;01mas\u001b[39;00m \u001b[38;5;21;01mtesting\u001b[39;00m\n",
      "\u001b[0;31mAttributeError\u001b[0m: module 'numpy' has no attribute 'int'.\n`np.int` was a deprecated alias for the builtin `int`. To avoid this error in existing code, use `int` by itself. Doing this will not modify any behavior and is safe. When replacing `np.int`, you may wish to use e.g. `np.int64` or `np.int32` to specify the precision. If you wish to review your current use, check the release note link for additional information.\nThe aliases was originally deprecated in NumPy 1.20; for more details and guidance see the original release note at:\n    https://numpy.org/devdocs/release/1.20.0-notes.html#deprecations"
     ]
    },
    {
     "name": "stderr",
     "output_type": "stream",
     "text": [
      "2023-10-31 17:08:04.013 python[56295:2818394] -[NSNull length]: unrecognized selector sent to instance 0x7ff84584a0b0\n",
      "2023-10-31 17:08:04.013 python[56295:2818394] Exception calling directoryDidChange: on delegate <QNSOpenSavePanelDelegate: 0x60000a0afe90> exception=-[NSNull length]: unrecognized selector sent to instance 0x7ff84584a0b0\n",
      "2023-10-31 17:08:04.047 python[56295:2818394] -[NSNull length]: unrecognized selector sent to instance 0x7ff84584a0b0\n",
      "2023-10-31 17:08:04.047 python[56295:2818394] Exception calling directoryDidChange: on delegate <QNSOpenSavePanelDelegate: 0x60000a0afe90> exception=-[NSNull length]: unrecognized selector sent to instance 0x7ff84584a0b0\n",
      "2023-10-31 17:08:04.362 python[56295:2818394] -[NSNull length]: unrecognized selector sent to instance 0x7ff84584a0b0\n",
      "2023-10-31 17:08:04.363 python[56295:2818394] Exception calling directoryDidChange: on delegate <QNSOpenSavePanelDelegate: 0x60000a0afe90> exception=-[NSNull length]: unrecognized selector sent to instance 0x7ff84584a0b0\n",
      "2023-10-31 17:08:04.363 python[56295:2818394] -[NSNull length]: unrecognized selector sent to instance 0x7ff84584a0b0\n",
      "2023-10-31 17:08:04.363 python[56295:2818394] Exception calling directoryDidChange: on delegate <QNSOpenSavePanelDelegate: 0x60000a0afe90> exception=-[NSNull length]: unrecognized selector sent to instance 0x7ff84584a0b0\n",
      "2023-10-31 17:08:06.263 python[56295:2818394] -[NSNull length]: unrecognized selector sent to instance 0x7ff84584a0b0\n",
      "2023-10-31 17:08:06.263 python[56295:2818394] Exception calling directoryDidChange: on delegate <QNSOpenSavePanelDelegate: 0x60000a0afe90> exception=-[NSNull length]: unrecognized selector sent to instance 0x7ff84584a0b0\n",
      "2023-10-31 17:08:06.263 python[56295:2818394] -[NSNull length]: unrecognized selector sent to instance 0x7ff84584a0b0\n",
      "2023-10-31 17:08:06.263 python[56295:2818394] Exception calling directoryDidChange: on delegate <QNSOpenSavePanelDelegate: 0x60000a0afe90> exception=-[NSNull length]: unrecognized selector sent to instance 0x7ff84584a0b0\n",
      "2023-10-31 17:08:07.076 python[56295:2818394] -[NSNull length]: unrecognized selector sent to instance 0x7ff84584a0b0\n",
      "2023-10-31 17:08:07.076 python[56295:2818394] Exception calling directoryDidChange: on delegate <QNSOpenSavePanelDelegate: 0x60000a0afe90> exception=-[NSNull length]: unrecognized selector sent to instance 0x7ff84584a0b0\n",
      "2023-10-31 17:08:07.123 python[56295:2818394] -[NSNull length]: unrecognized selector sent to instance 0x7ff84584a0b0\n",
      "2023-10-31 17:08:07.123 python[56295:2818394] Exception calling directoryDidChange: on delegate <QNSOpenSavePanelDelegate: 0x60000a0afe90> exception=-[NSNull length]: unrecognized selector sent to instance 0x7ff84584a0b0\n"
     ]
    }
   ],
   "source": [
    "napari_utils.show_labels_all(\n",
    "    show_labels = True,\n",
    "    show_points = False,\n",
    "    show_tracks = False,\n",
    "    show_branching = True,\n",
    "    binarise_labels = True,\n",
    "    branching_property = 'type',\n",
    "    value_names = ['vessels', 'vessels.branch']\n",
    ")"
   ]
  },
  {
   "cell_type": "code",
   "execution_count": null,
   "id": "112d6e0f",
   "metadata": {},
   "outputs": [],
   "source": [
    "import py.zarr_utils as zarr_utils"
   ]
  },
  {
   "cell_type": "code",
   "execution_count": null,
   "id": "a91999f6",
   "metadata": {},
   "outputs": [],
   "source": [
    "napari_utils.im_data[0].shape"
   ]
  },
  {
   "cell_type": "code",
   "execution_count": null,
   "id": "9d6288e9",
   "metadata": {
    "scrolled": true
   },
   "outputs": [],
   "source": [
    "im = np.average(zarr_utils.fortify(napari_utils.im_data[0][:,3,:,:,:]), axis = 0)\n",
    "im.shape"
   ]
  },
  {
   "cell_type": "code",
   "execution_count": null,
   "id": "59106c0d",
   "metadata": {},
   "outputs": [],
   "source": [
    "#im = np.average(zarr_utils.fortify(napari_utils.im_data[0][:,5,:,:,:]), axis = 0)[3,:,:]"
   ]
  },
  {
   "cell_type": "code",
   "execution_count": null,
   "id": "e20dc869",
   "metadata": {},
   "outputs": [],
   "source": [
    "import py.ILEE_CSK as ILEE_CSK\n",
    "from skimage import io\n",
    "import numpy as np\n",
    "import matplotlib.pyplot as plt\n",
    "\n",
    "from IPython.utils import io"
   ]
  },
  {
   "cell_type": "code",
   "execution_count": null,
   "id": "23d7dd05",
   "metadata": {},
   "outputs": [],
   "source": [
    "# https://github.com/phylars/ILEE_CSK/wiki/Tutorial\n",
    "k1 = 2.5\n",
    "k2 = 500\n",
    "\n",
    "#img = io.imread('your_path') #substitute to your tiff file path\n",
    "#img = np.max(zarr_utils.fortify(napari_utils.im_data[0][6,5,:,:,:]), axis = 0)\n",
    "img = np.copy(im)\n",
    "img[img < np.percentile(im, 80)] = 0\n",
    "img = img-img.min()\n",
    "img = img.astype('float')\n",
    "\n",
    "# go through z-slices instead of 3D segmentation\n",
    "im_slices = [slice(None) for _ in range(len(img.shape))]\n",
    "z_idx = napari_utils.dim_utils.dim_idx('z', ignore_channel = True, ignore_time = True)\n",
    "diff_im = np.zeros_like(img)"
   ]
  },
  {
   "cell_type": "code",
   "execution_count": null,
   "id": "76b8d4d3",
   "metadata": {},
   "outputs": [],
   "source": [
    "# can you show local anisotropy?\n",
    "diff, _ = zarr_utils.open_labels_as_zarr(os.path.join(task_dir, 'labels', 'SHG.zarr'))\n",
    "diff = diff[0]"
   ]
  },
  {
   "cell_type": "code",
   "execution_count": null,
   "id": "180f4051",
   "metadata": {},
   "outputs": [],
   "source": [
    "from skimage.morphology import skeletonize\n",
    "import skan\n",
    "\n",
    "img_binary = np.max(zarr_utils.fortify(diff), axis=0)>0\n",
    "img_sk = skeletonize(img_binary).astype('bool')\n",
    "radius=20\n",
    "box_size=radius/2\n",
    "weighting_method='by_length'\n",
    "return_box_data=False\n",
    "\n",
    "sk_data = skan.Skeleton(img_sk)\n",
    "adj = sk_data.nbgraph\n",
    "point_list = sk_data.coordinates\n",
    "shape_tuple = img_sk.shape"
   ]
  },
  {
   "cell_type": "code",
   "execution_count": null,
   "id": "bf3394c1",
   "metadata": {},
   "outputs": [],
   "source": [
    "# display results\n",
    "fig, axes = plt.subplots(nrows=1, ncols=2, figsize=(8, 4),\n",
    "                         sharex=True, sharey=True)\n",
    "\n",
    "ax = axes.ravel()\n",
    "\n",
    "ax[0].imshow(np.max(zarr_utils.fortify(diff), axis=0), cmap=plt.cm.gray)\n",
    "ax[0].axis('off')\n",
    "ax[0].set_title('Bin', fontsize=20)\n",
    "\n",
    "ax[1].imshow(img_sk, cmap=plt.cm.gray)\n",
    "ax[1].axis('off')\n",
    "ax[1].set_title('Contours', fontsize=20)\n",
    "\n",
    "fig.tight_layout()\n",
    "plt.show()"
   ]
  },
  {
   "cell_type": "code",
   "execution_count": null,
   "id": "40e254b6",
   "metadata": {},
   "outputs": [],
   "source": [
    "# get anisotropy\n",
    "eigval, eigvec, box_total_length, coor_list = ILEE_CSK.anisotropy_2d_internal(\n",
    "    shape=shape_tuple, adj=adj, point_list=point_list, radius=radius, box_size=box_size)"
   ]
  },
  {
   "cell_type": "code",
   "execution_count": null,
   "id": "ddba21c5",
   "metadata": {},
   "outputs": [],
   "source": [
    "ILEE_CSK.analyze_actin_2d_standard(\n",
    "  np.squeeze(channels_im), np.max(zarr_utils.fortify(diff), axis=0),\n",
    "  pixel_size = dim_utils.im_physical_size('x'),\n",
    "  aniso_radius = aniso_radius,\n",
    "  aniso_box_size = math.floor(aniso_radius/2),\n",
    "  return_box_data = True\n",
    ")"
   ]
  },
  {
   "cell_type": "code",
   "execution_count": null,
   "id": "948fd9e2",
   "metadata": {},
   "outputs": [],
   "source": [
    "import numpy as np \n",
    "import matplotlib.pyplot as plt \n",
    "\n",
    "# display results\n",
    "fig, axes = plt.subplots(nrows=1, ncols=3, figsize=(18, 6),\n",
    "                         sharex=True, sharey=True)\n",
    "\n",
    "ax = axes.ravel()\n",
    "\n",
    "x = ax[2]\n",
    "\n",
    "z_val = 8\n",
    "ax[0].imshow(np.max(zarr_utils.fortify(diff), axis=0), cmap=plt.cm.gray)\n",
    "ax[0].axis('off')\n",
    "ax[0].set_title('SHG', fontsize=20)\n",
    "\n",
    "ax[1].imshow(img_sk, cmap=plt.cm.gray)\n",
    "ax[1].axis('off')\n",
    "ax[1].set_title('ILEE', fontsize=20)\n",
    "\n",
    "ax[2].imshow(img_sk, cmap=plt.cm.gray)\n",
    "ax[2].quiver(\n",
    "    coor_list[:,:,1].flatten(),\n",
    "    coor_list[:,:,0].flatten(),\n",
    "    eigval[:,:,1].flatten() * eigvec[:,:,1,0].flatten(),\n",
    "    eigval[:,:,0].flatten() * eigvec[:,:,0,0].flatten(),\n",
    "    color = 'red'\n",
    ") \n",
    "ax[2].set_aspect('equal', 'box')\n",
    "ax[2].axis('off')\n",
    "ax[2].set_title('Anisotropy', fontsize=20)\n",
    "\n",
    "fig.tight_layout()\n",
    "plt.show()"
   ]
  },
  {
   "cell_type": "code",
   "execution_count": null,
   "id": "556c7096",
   "metadata": {
    "scrolled": false
   },
   "outputs": [],
   "source": [
    "for i in range(napari_utils.dim_utils.dim_val('z')):\n",
    "    im_slices = list(im_slices)\n",
    "    im_slices[z_idx] = slice(i, i+1, 1)\n",
    "    im_slices = tuple(im_slices)\n",
    "    \n",
    "    print(f'>> Process Z: {i}')\n",
    "    \n",
    "    # https://stackoverflow.com/a/52559560\n",
    "    with io.capture_output() as captured:\n",
    "        diff_im[im_slices] = ILEE_CSK.ILEE_2d(\n",
    "            np.squeeze(img[im_slices]), k2 = k2, k1 = k1, pL_type = 'pL_8', gauss_dif = True)\n",
    "\n",
    "# binarise\n",
    "bin_im = diff_im > 0"
   ]
  },
  {
   "cell_type": "code",
   "execution_count": null,
   "id": "f00da3d9",
   "metadata": {},
   "outputs": [],
   "source": [
    "diff_im.dtype"
   ]
  },
  {
   "cell_type": "code",
   "execution_count": null,
   "id": "4405a363",
   "metadata": {},
   "outputs": [],
   "source": [
    "# get quantification\n",
    "sk_df = ILEE_CSK.analyze_actin_3d_standard(\n",
    "    img, diff_im,\n",
    "    napari_utils.dim_utils.im_physical_size('x'),\n",
    "    napari_utils.dim_utils.im_physical_size('z'),\n",
    "    # TODO this takes a long time - not sure this is necessary for our case?\n",
    "    # oversampling_for_bundle = True,\n",
    "    oversampling_for_bundle = False,\n",
    "    pixel_size = napari_utils.dim_utils.im_physical_size('x')\n",
    ")"
   ]
  },
  {
   "cell_type": "code",
   "execution_count": null,
   "id": "743d59fa",
   "metadata": {},
   "outputs": [],
   "source": [
    "labels.ndim"
   ]
  },
  {
   "cell_type": "code",
   "execution_count": null,
   "id": "01e6ee73",
   "metadata": {},
   "outputs": [],
   "source": [
    "from scipy import ndimage as ndi\n",
    "\n",
    "contours = np.copy(labels)\n",
    "eroded_labels = np.copy(labels)\n",
    "thickness = 1\n",
    "background_label = 0\n",
    "\n",
    "# go through all z-axis\n",
    "for i in range(labels.shape[0]):\n",
    "    cur_labels = labels[i,:,:]\n",
    "    \n",
    "    # adapted from from napari\n",
    "    # https://github.com/napari/napari/blob/996f502a7f94f68275625dd8b9e94978167f63f9/napari/layers/labels/_labels_utils.py#L208\n",
    "    struct_elem = ndi.generate_binary_structure(cur_labels.ndim, 1)\n",
    "    thick_struct_elem = ndi.iterate_structure(struct_elem, thickness).astype(bool)\n",
    "\n",
    "    dilated_labels = ndi.grey_dilation(cur_labels, footprint=struct_elem)\n",
    "    eroded_labels[i,:,:] = ndi.grey_erosion(cur_labels, footprint=thick_struct_elem)\n",
    "    not_boundaries = dilated_labels == eroded_labels[i,:,:]\n",
    "\n",
    "    contours[i,:,:][not_boundaries] = background_label\n",
    "    eroded_labels[i,:,:] = eroded_labels[i,:,:] - contours[i,:,:]"
   ]
  },
  {
   "cell_type": "code",
   "execution_count": null,
   "id": "36080b3e",
   "metadata": {},
   "outputs": [],
   "source": [
    "from skimage.morphology import skeletonize\n",
    "import matplotlib.pyplot as plt\n",
    "\n",
    "# perform skeletonization\n",
    "skeleton = skeletonize(contours)\n",
    "\n",
    "# now convert to skan\n",
    "import skan\n",
    "\n",
    "sk_skeleton = skan.Skeleton(skeleton)\n",
    "paths_table = skan.summarize(sk_skeleton)"
   ]
  },
  {
   "cell_type": "code",
   "execution_count": null,
   "id": "697d7bca",
   "metadata": {},
   "outputs": [],
   "source": [
    "from skimage.util import invert\n",
    "\n",
    "bin_labels = np.copy(eroded_labels)\n",
    "bin_labels[bin_labels > 0] = 2\n",
    "bin_labels[bin_labels == 0] = 1\n",
    "bin_labels[bin_labels == 2] = 0\n",
    "\n",
    "from skimage.morphology import (erosion, dilation, opening, closing,\n",
    "                                white_tophat)\n",
    "\n",
    "morph_labels = white_tophat(bin_labels, ndi.generate_binary_structure(bin_labels.ndim, 1))\n",
    "\n",
    "# perform skeletonization\n",
    "skeleton = skeletonize(morph_labels)\n",
    "\n",
    "# display results\n",
    "fig, axes = plt.subplots(nrows=1, ncols=3, figsize=(12, 4),\n",
    "                         sharex=True, sharey=True)\n",
    "\n",
    "ax = axes.ravel()\n",
    "\n",
    "z_val = 8\n",
    "ax[0].imshow(bin_labels[z_val,:,:], cmap=plt.cm.gray)\n",
    "ax[0].axis('off')\n",
    "ax[0].set_title('Bin', fontsize=20)\n",
    "\n",
    "ax[1].imshow(morph_labels[z_val,:,:], cmap=plt.cm.gray)\n",
    "ax[1].axis('off')\n",
    "ax[1].set_title('Contours', fontsize=20)\n",
    "\n",
    "ax[2].imshow(np.max(skeleton, axis=0), cmap=plt.cm.gray)\n",
    "ax[2].axis('off')\n",
    "ax[2].set_title('Skeleton', fontsize=20)\n",
    "\n",
    "fig.tight_layout()\n",
    "plt.show()"
   ]
  },
  {
   "cell_type": "code",
   "execution_count": null,
   "id": "b48a29f7",
   "metadata": {},
   "outputs": [],
   "source": [
    "import matplotlib.pyplot as plt\n",
    "import numpy as np\n",
    "from skimage import data\n",
    "from skimage.color import label2rgb\n",
    "from skimage.filters import sobel\n",
    "from skimage.morphology import dilation, disk\n",
    "from skimage.measure import label\n",
    "from skimage.segmentation import expand_labels, watershed\n",
    "\n",
    "coins = data.coins()\n",
    "\n",
    "# Make segmentation using edge-detection and watershed.\n",
    "edges = sobel(coins)\n",
    "\n",
    "# Identify some background and foreground pixels from the intensity values.\n",
    "# These pixels are used as seeds for watershed.\n",
    "markers = np.zeros_like(coins)\n",
    "foreground, background = 1, 2\n",
    "markers[coins < 30.0] = background\n",
    "markers[coins > 150.0] = foreground\n",
    "\n",
    "ws = watershed(edges, markers)\n",
    "seg1 = label(ws == foreground)\n",
    "\n",
    "# expanded = expand_labels(seg1, distance=10)\n",
    "expanded = dilation(seg1, disk(20))\n",
    "\n",
    "# Show the segmentations.\n",
    "fig, axes = plt.subplots(\n",
    "    nrows=1,\n",
    "    ncols=3,\n",
    "    figsize=(9, 5),\n",
    "    sharex=True,\n",
    "    sharey=True,\n",
    ")\n",
    "\n",
    "axes[0].imshow(coins, cmap=\"Greys_r\")\n",
    "axes[0].set_title(\"Original\")\n",
    "\n",
    "color1 = label2rgb(seg1, image=coins, bg_label=0)\n",
    "axes[1].imshow(color1)\n",
    "axes[1].set_title(\"Sobel+Watershed\")\n",
    "\n",
    "color2 = label2rgb(expanded, image=coins, bg_label=0)\n",
    "axes[2].imshow(color2)\n",
    "axes[2].set_title(\"Expanded labels\")\n",
    "\n",
    "for a in axes:\n",
    "    a.axis(\"off\")\n",
    "fig.tight_layout()\n",
    "plt.show()\n"
   ]
  },
  {
   "cell_type": "code",
   "execution_count": null,
   "id": "56f3e14b",
   "metadata": {},
   "outputs": [],
   "source": [
    "all([True, False])"
   ]
  },
  {
   "cell_type": "code",
   "execution_count": null,
   "id": "7659217d",
   "metadata": {},
   "outputs": [],
   "source": [
    "import py.slice_utils as slice_utils"
   ]
  },
  {
   "cell_type": "code",
   "execution_count": null,
   "id": "b5bf1e27",
   "metadata": {},
   "outputs": [],
   "source": [
    "zarr_shape = list(napari_utils.im_data[0].shape)\n",
    "zarr_shape.pop(napari_utils.dim_utils.dim_idx('C'))"
   ]
  },
  {
   "cell_type": "code",
   "execution_count": null,
   "id": "d7b71dee",
   "metadata": {},
   "outputs": [],
   "source": [
    "a = [[.1],[2],[34]]"
   ]
  },
  {
   "cell_type": "code",
   "execution_count": null,
   "id": "bd1b992d",
   "metadata": {},
   "outputs": [],
   "source": [
    "a[1].insert(0, 1)"
   ]
  },
  {
   "cell_type": "code",
   "execution_count": null,
   "id": "d648ce08",
   "metadata": {},
   "outputs": [],
   "source": [
    "a"
   ]
  },
  {
   "cell_type": "code",
   "execution_count": null,
   "id": "6be2f4d2",
   "metadata": {},
   "outputs": [],
   "source": [
    "slice_utils.create_slices(\n",
    "  zarr_shape, napari_utils.dim_utils, 1000, -1,\n",
    "  block_size_z = -1, overlap_z = -1)"
   ]
  },
  {
   "cell_type": "code",
   "execution_count": null,
   "id": "f984f16f",
   "metadata": {},
   "outputs": [],
   "source": [
    "napari_utils.show_labels_all(\n",
    "    show_labels = True,\n",
    "    show_points = False,\n",
    "    show_tracks = False,\n",
    "    show_branching = True,\n",
    "    branching_property = 'weight',\n",
    "    value_names = ['SHG.branch']\n",
    ")"
   ]
  },
  {
   "cell_type": "code",
   "execution_count": null,
   "id": "99f68987",
   "metadata": {},
   "outputs": [],
   "source": [
    "napari_utils.show_labels_all(\n",
    "    show_labels = False,\n",
    "    show_points = False,\n",
    "    show_tracks = True,\n",
    "    value_names = ['P14-CTDR']\n",
    ")"
   ]
  },
  {
   "cell_type": "code",
   "execution_count": null,
   "id": "8056458e",
   "metadata": {},
   "outputs": [],
   "source": [
    "# get timescale\n",
    "napari_utils.time_interval = 0.5"
   ]
  },
  {
   "cell_type": "code",
   "execution_count": null,
   "id": "d2c3b11e",
   "metadata": {},
   "outputs": [],
   "source": [
    "napari_utils.viewer.text_overlay.position = napa"
   ]
  },
  {
   "cell_type": "code",
   "execution_count": null,
   "id": "676e3976",
   "metadata": {},
   "outputs": [],
   "source": [
    "def update_slider(event):\n",
    "    # https://forum.image.sc/t/napari-how-add-a-text-label-time-always-in-the-same-spot-in-viewer/52932/5\n",
    "    time = napari_utils.viewer.dims.current_step[0]\n",
    "    napari_utils.viewer.text_overlay.text = str(datetime.timedelta(seconds = time * napari_utils.time_interval * 60))\n",
    "\n",
    "import datetime\n",
    "\n",
    "napari_utils.viewer.text_overlay.position\n",
    "napari_utils.viewer.text_overlay.visible = True\n",
    "napari_utils.viewer.text_overlay.font_size = 12\n",
    "napari_utils.viewer.text_overlay.color = 'white'\n",
    "napari_utils.viewer.dims.events.current_step.connect(update_slider)"
   ]
  },
  {
   "cell_type": "code",
   "execution_count": null,
   "id": "f6b6f4da",
   "metadata": {},
   "outputs": [],
   "source": [
    "napari_utils.im_scale"
   ]
  },
  {
   "cell_type": "code",
   "execution_count": null,
   "id": "4181f11d",
   "metadata": {},
   "outputs": [],
   "source": [
    "napari_utils.show_labels_all(\n",
    "    show_labels = True,\n",
    "    show_points = False,\n",
    "    show_tracks = False,\n",
    "    value_names = ['manual'],\n",
    "    as_np_array = True\n",
    ")"
   ]
  },
  {
   "cell_type": "code",
   "execution_count": null,
   "id": "a4795aa6",
   "metadata": {},
   "outputs": [],
   "source": [
    "# show populations\n",
    "napari_utils.show_pop_mapping('live')"
   ]
  },
  {
   "cell_type": "code",
   "execution_count": null,
   "id": "9dc9ea21",
   "metadata": {},
   "outputs": [],
   "source": [
    "# save image as tiff\n",
    "import py.tiff_utils as tiff_utils\n",
    "\n",
    "tiff_utils.save_as_tiff(\n",
    "    '/Volumes/USER_data/Dominik/Experiments/TEAGEN_SKIN/DATA/PuJo5p.tif',\n",
    "    napari_utils.im_data[0], napari_utils.dim_utils, imagej = True)"
   ]
  },
  {
   "cell_type": "code",
   "execution_count": null,
   "id": "11d94ed5",
   "metadata": {},
   "outputs": [],
   "source": [
    "print('here')"
   ]
  },
  {
   "cell_type": "code",
   "execution_count": null,
   "id": "845275bb",
   "metadata": {},
   "outputs": [],
   "source": [
    "napari_utils.im_scale"
   ]
  },
  {
   "cell_type": "code",
   "execution_count": null,
   "id": "a1f26ae6",
   "metadata": {},
   "outputs": [],
   "source": [
    "from napari_animation import AnimationWidget\n",
    "animation_widget = AnimationWidget(napari_utils.viewer)\n",
    "napari_utils.viewer.window.add_dock_widget(animation_widget, area='right')"
   ]
  },
  {
   "cell_type": "code",
   "execution_count": null,
   "id": "a6ab6541",
   "metadata": {},
   "outputs": [],
   "source": [
    "pop_type = 'live'\n",
    "pop_map = napari_utils.pop_utils.pop_map(napari_utils.task_dir, pop_type)\n",
    "pop_data = napari_utils.pop_utils.pop_data(napari_utils.task_dir, pop_type)"
   ]
  },
  {
   "cell_type": "code",
   "execution_count": null,
   "id": "971a2e9f",
   "metadata": {},
   "outputs": [],
   "source": [
    "pop_info = pop_map['5iaWSo']"
   ]
  },
  {
   "cell_type": "code",
   "execution_count": null,
   "id": "56530832",
   "metadata": {},
   "outputs": [],
   "source": [
    "pop_info"
   ]
  },
  {
   "cell_type": "code",
   "execution_count": null,
   "id": "bbf3c9e9",
   "metadata": {},
   "outputs": [],
   "source": []
  }
 ],
 "metadata": {
  "kernelspec": {
   "display_name": "Python 3 (ipykernel)",
   "language": "python",
   "name": "python3"
  },
  "language_info": {
   "codemirror_mode": {
    "name": "ipython",
    "version": 3
   },
   "file_extension": ".py",
   "mimetype": "text/x-python",
   "name": "python",
   "nbconvert_exporter": "python",
   "pygments_lexer": "ipython3",
   "version": "3.9.16"
  }
 },
 "nbformat": 4,
 "nbformat_minor": 5
}
