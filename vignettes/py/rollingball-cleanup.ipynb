{
 "cells": [
  {
   "cell_type": "code",
   "execution_count": 1,
   "id": "822562ab",
   "metadata": {},
   "outputs": [],
   "source": [
    "import os\n",
    "import numpy as np\n",
    "# import working directory to check functions\n",
    "os.chdir('/Users/Dominik/R-workspace/cecelia/inst')\n",
    "\n",
    "# MacOS\n",
    "os.environ['KMP_DUPLICATE_LIB_OK'] = 'TRUE'\n",
    "\n",
    "# config\n",
    "import py.config_utils as cfg"
   ]
  },
  {
   "cell_type": "code",
   "execution_count": 2,
   "id": "4a04f1c6",
   "metadata": {},
   "outputs": [],
   "source": [
    "base_dir = '/Volumes/USER_data/Dominik/CECELIA_BACKUP/8BR53W/ANALYSIS/'\n",
    "zero_dir = os.path.join(base_dir, '0/INglID/')\n",
    "im_path = os.path.join(zero_dir, 'ccidAfCorrected.zarr')\n",
    "version_num = 1\n",
    "task_dir = os.path.join(base_dir, str(version_num), 'INglID')"
   ]
  },
  {
   "cell_type": "code",
   "execution_count": 3,
   "id": "7c1f7536",
   "metadata": {},
   "outputs": [
    {
     "name": "stdout",
     "output_type": "stream",
     "text": [
      "<zarr.hierarchy.Group '/' read-only>\n"
     ]
    }
   ],
   "source": [
    "import py.zarr_utils as zarr_utils\n",
    "\n",
    "im, _ = zarr_utils.open_as_zarr(im_path, as_dask = True)"
   ]
  },
  {
   "cell_type": "code",
   "execution_count": 4,
   "id": "13f93a62",
   "metadata": {},
   "outputs": [
    {
     "name": "stdout",
     "output_type": "stream",
     "text": [
      "[181, 4, 33, 513, 515]\n",
      "[515, 513, 33, 4, 181]\n",
      "['X', 'Y', 'Z', 'C', 'T']\n"
     ]
    }
   ],
   "source": [
    "import py.ome_xml_utils as ome_xml_utils\n",
    "from py.dim_utils import DimUtils\n",
    "\n",
    "# get OME-XML\n",
    "omexml = ome_xml_utils.parse_meta(im_path)\n",
    "\n",
    "# create dim utils for image\n",
    "dim_utils = DimUtils(omexml, use_channel_axis = True)\n",
    "dim_utils.calc_image_dimensions(im[0].shape)"
   ]
  },
  {
   "cell_type": "code",
   "execution_count": 5,
   "id": "4cf3713a-34b0-4900-8456-8f78f18d244a",
   "metadata": {},
   "outputs": [],
   "source": [
    "import py.correction_utils as correction_utils"
   ]
  },
  {
   "cell_type": "code",
   "execution_count": 91,
   "id": "cc0786e1-8944-4c69-bd24-fef6edaba1cf",
   "metadata": {},
   "outputs": [
    {
     "data": {
      "text/plain": [
       "<module 'py.correction_utils' from '/Users/Dominik/R-workspace/cecelia/inst/py/correction_utils.py'>"
      ]
     },
     "execution_count": 91,
     "metadata": {},
     "output_type": "execute_result"
    }
   ],
   "source": [
    "import importlib\n",
    "importlib.reload(correction_utils)"
   ]
  },
  {
   "cell_type": "code",
   "execution_count": 92,
   "id": "667efe32-5a2b-419c-84f2-ed6773acdb67",
   "metadata": {
    "scrolled": true
   },
   "outputs": [
    {
     "name": "stderr",
     "output_type": "stream",
     "text": [
      "100%|█████████████████████████████████████████████████████████████████████████████████████████████████████████| 33/33 [05:23<00:00,  9.81s/it]\n"
     ]
    }
   ],
   "source": [
    "a = correction_utils.af_correct_image(\n",
    "    im[0], {\n",
    "        0: {'divisionChannels': [], 'rollingBallRadius': 0},\n",
    "        1: {'divisionChannels': [], 'rollingBallRadius': 40, 'rollingBallPadding' : 4},\n",
    "    }, dim_utils = dim_utils\n",
    ")"
   ]
  },
  {
   "cell_type": "code",
   "execution_count": 83,
   "id": "8175b10a-a818-4cb6-9fdd-17e10ccb3210",
   "metadata": {},
   "outputs": [
    {
     "name": "stderr",
     "output_type": "stream",
     "text": [
      "napari.manifest -> 'skan' could not be imported: Could not find file 'napari.yaml' in module 'skan'\n"
     ]
    }
   ],
   "source": [
    "import napari\n",
    "\n",
    "viewer = napari.Viewer()"
   ]
  },
  {
   "cell_type": "code",
   "execution_count": 93,
   "id": "be373128-2d84-49f2-b459-d709dae85717",
   "metadata": {},
   "outputs": [
    {
     "data": {
      "text/plain": [
       "[<Image layer 'Image' at 0x162d16fa0>,\n",
       " <Image layer 'Image [1]' at 0x16f135340>,\n",
       " <Image layer 'Image [2]' at 0x16f135400>,\n",
       " <Image layer 'Image [3]' at 0x16feae100>]"
      ]
     },
     "execution_count": 93,
     "metadata": {},
     "output_type": "execute_result"
    }
   ],
   "source": [
    "viewer.add_image(a, channel_axis = dim_utils.dim_idx('C'))"
   ]
  },
  {
   "cell_type": "code",
   "execution_count": null,
   "id": "8a57547c-a310-4554-9618-7e0a74c1b5ef",
   "metadata": {},
   "outputs": [],
   "source": [
    "# crop zero edges\n",
    "# https://stackoverflow.com/a/39466129\n",
    "def crop_zero_edges(im):\n",
    "    # argwhere will give you the coordinates of every non-zero point\n",
    "    true_points = np.argwhere(im)\n",
    "    \n",
    "    # take the smallest points and use them as the top left of your crop\n",
    "    top_left = true_points.min(axis=0)\n",
    "    \n",
    "    # take the largest points and use them as the bottom right of your crop\n",
    "    bottom_right = true_points.max(axis=0)\n",
    "\n",
    "    return {'tl': top_left, 'br': bottom_right}"
   ]
  },
  {
   "cell_type": "code",
   "execution_count": null,
   "id": "d8937c64-b1f8-4738-ab4e-371866ab5b6d",
   "metadata": {},
   "outputs": [],
   "source": [
    "rolling_ball_radius = 40\n",
    "rolling_ball_padding = 4"
   ]
  },
  {
   "cell_type": "code",
   "execution_count": null,
   "id": "8bb6d1d2-2bc2-4348-874e-9a44f07e157e",
   "metadata": {},
   "outputs": [],
   "source": [
    "import py.slice_utils as slice_utils"
   ]
  },
  {
   "cell_type": "code",
   "execution_count": null,
   "id": "f1987065-6116-49c4-9c24-98feea2fe30b",
   "metadata": {},
   "outputs": [],
   "source": [
    "# get slices\n",
    "slices = slice_utils.create_slices(im.shape, dim_utils)\n",
    "for i, x in enumerate(slices):\n",
    "    x = list(x)\n",
    "    x[dim_utils.dim_idx('C')] = slice(1, 2, 1)\n",
    "    slices[i] = tuple(x)"
   ]
  },
  {
   "cell_type": "code",
   "execution_count": null,
   "id": "a61200a8-f40a-499d-b77c-67a6c054c06b",
   "metadata": {},
   "outputs": [],
   "source": [
    "slices[1:2]"
   ]
  },
  {
   "cell_type": "code",
   "execution_count": null,
   "id": "88a0bbaa-03c2-45b2-b342-c33f5cc717ec",
   "metadata": {},
   "outputs": [],
   "source": [
    "import skimage\n",
    "from skimage.restoration import rolling_ball\n",
    "from skimage.morphology import disk"
   ]
  },
  {
   "cell_type": "code",
   "execution_count": null,
   "id": "0101cacb-b53c-4b24-99b0-c541656ac0c8",
   "metadata": {},
   "outputs": [],
   "source": [
    "cur_slices"
   ]
  },
  {
   "cell_type": "code",
   "execution_count": null,
   "id": "1c7b91c5-7403-46ac-8dcf-385e9548ccaf",
   "metadata": {},
   "outputs": [],
   "source": [
    "crop_slices"
   ]
  },
  {
   "cell_type": "code",
   "execution_count": null,
   "id": "e279b6a8-2018-446f-a21f-58b3bba196c0",
   "metadata": {},
   "outputs": [],
   "source": [
    "im[cur_slices][crop_slices].shape"
   ]
  },
  {
   "cell_type": "code",
   "execution_count": null,
   "id": "2bacc5ad-2402-4b2e-8c80-2ffd4b77736b",
   "metadata": {},
   "outputs": [],
   "source": [
    "# corrected_data = corrected_data - rolling_ball(corrected_data, radius = rolling_ball_radius)\n",
    "# TODO go through in 2D as 3D seems a bit much\n",
    "footprint = skimage.morphology.disk(rolling_ball_radius)\n",
    "\n",
    "def apply_2D_rolling_ball(im, slices, dim_utils, radius = 40, padding = 4):\n",
    "    im_to_process = np.squeeze(im[cur_slices])\n",
    "\n",
    "    edges = crop_zero_edges(im_to_process)\n",
    "    crop_slices = (\n",
    "        slice(edges['tl'][0] + padding,\n",
    "              edges['br'][0] - padding, 1),\n",
    "        slice(edges['tl'][1] + padding,\n",
    "              edges['br'][1] - padding, 1)\n",
    "    )\n",
    "\n",
    "    slices = list(slices)\n",
    "    slices[dim_utils.dim_idx('Y')] = crop_slices[0]\n",
    "    slices[dim_utils.dim_idx('X')] = crop_slices[1]\n",
    "    slices = tuple(slices)\n",
    "    \n",
    "    im[slices] = rolling_ball(\n",
    "        im_to_process[crop_slices], radius = radius)\n",
    "\n",
    "# go through slices\n",
    "for cur_slices in slices[1:2]:\n",
    "    if dim_utils.is_3D():\n",
    "        # go through Z\n",
    "        for z in range(dim_utils.dim_val('Z')):\n",
    "            print(f'> {z}')\n",
    "            \n",
    "            cur_slices = list(cur_slices)\n",
    "            cur_slices[dim_utils.dim_idx('Z')] = slice(z, z+1, 1)\n",
    "            cur_slices = tuple(cur_slices)\n",
    "            \n",
    "            apply_2D_rolling_ball(\n",
    "                im, cur_slices, dim_utils, rolling_ball_radius, rolling_ball_padding)\n",
    "    else:\n",
    "        apply_2D_rolling_ball(\n",
    "            im, cur_slices, dim_utils, rolling_ball_radius, rolling_ball_padding)"
   ]
  },
  {
   "cell_type": "code",
   "execution_count": null,
   "id": "57e54c9a-6db4-4317-831a-ef52d6f55754",
   "metadata": {},
   "outputs": [],
   "source": [
    "\n",
    "import math\n",
    "\n",
    "radius = 40\n",
    "padding = 4\n",
    "\n",
    "\n",
    "\n",
    "im_to_process = np.squeeze(im[slices])\n",
    "edges = crop_zero_edges(im_to_process)\n",
    "crop_slices = (\n",
    "    slice(edges['tl'][0] + padding, edges['br'][0] - padding, 1),\n",
    "    slice(edges['tl'][1] + padding, edges['br'][1] - padding, 1)\n",
    ")\n",
    "\n",
    "rolling_im = rolling_ball(im_to_process[crop_slices], radius = radius)"
   ]
  },
  {
   "cell_type": "code",
   "execution_count": null,
   "id": "383aa1ae-6c1c-4c34-950e-3047d28f92fc",
   "metadata": {},
   "outputs": [],
   "source": []
  },
  {
   "cell_type": "code",
   "execution_count": null,
   "id": "2261a2b5-ee82-4034-9ceb-a801f65d2ed5",
   "metadata": {},
   "outputs": [],
   "source": [
    "dim_utils.is_timeseries()"
   ]
  },
  {
   "cell_type": "code",
   "execution_count": null,
   "id": "326fac4d-8b83-4b53-9336-1c70ad047128",
   "metadata": {},
   "outputs": [],
   "source": [
    "# corrected_data = corrected_data - rolling_ball(corrected_data, radius = rolling_ball_radius)\n",
    "# TODO go through in 2D as 3D seems a bit much\n",
    "footprint = skimage.morphology.disk(rolling_ball_radius)\n",
    "\n",
    "if dim_utils.is_timeseries():\n",
    "\n",
    "im_to_process = np.squeeze(im[slices])\n",
    "edges = crop_zero_edges(im_to_process)\n",
    "crop_slices = (\n",
    "    slice(edges['tl'][0] + padding, edges['br'][0] - padding, 1),\n",
    "    slice(edges['tl'][1] + padding, edges['br'][1] - padding, 1)\n",
    ")\n",
    "\n",
    "rolling_im = rolling_ball(im_to_process[crop_slices], radius = radius)"
   ]
  },
  {
   "cell_type": "code",
   "execution_count": null,
   "id": "aaf149c7-3864-43f8-ba8b-665c87d83dd7",
   "metadata": {},
   "outputs": [],
   "source": [
    "# display results\n",
    "import matplotlib.pyplot as plt\n",
    "fig, axes = plt.subplots(nrows=1, ncols=3, figsize=(12, 4),\n",
    "                         sharex=True, sharey=True)\n",
    "\n",
    "ax = axes.ravel()\n",
    "\n",
    "# compute corrected image\n",
    "corrected_im = np.zeros_like(im_to_process)\n",
    "corrected_im[crop_slices] = im_to_process[crop_slices] - rolling_im\n",
    "\n",
    "ax[0].imshow(im_to_process, cmap=plt.cm.gray)\n",
    "ax[0].axis('Off')\n",
    "ax[0].set_title('Image', fontsize=20)\n",
    "\n",
    "ax[1].imshow(rolling_im, cmap=plt.cm.gray)\n",
    "ax[1].axis('Off')\n",
    "ax[1].set_title('Background', fontsize=20)\n",
    "\n",
    "ax[2].imshow(corrected_im, cmap=plt.cm.gray)\n",
    "ax[2].axis('Off')\n",
    "ax[2].set_title('Corrected', fontsize=20)\n",
    "\n",
    "fig.tight_layout()\n",
    "plt.show()"
   ]
  },
  {
   "cell_type": "code",
   "execution_count": null,
   "id": "ba517d61-765a-4e60-adbb-21076ad4d5f5",
   "metadata": {},
   "outputs": [],
   "source": []
  }
 ],
 "metadata": {
  "kernelspec": {
   "display_name": "Python 3 (ipykernel)",
   "language": "python",
   "name": "python3"
  },
  "language_info": {
   "codemirror_mode": {
    "name": "ipython",
    "version": 3
   },
   "file_extension": ".py",
   "mimetype": "text/x-python",
   "name": "python",
   "nbconvert_exporter": "python",
   "pygments_lexer": "ipython3",
   "version": "3.9.16"
  }
 },
 "nbformat": 4,
 "nbformat_minor": 5
}
