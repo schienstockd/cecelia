{
 "cells": [
  {
   "cell_type": "code",
   "execution_count": 1,
   "id": "a2fc902c",
   "metadata": {},
   "outputs": [],
   "source": [
    "import os\n",
    "import numpy as np\n",
    "# import working directory to check functions\n",
    "os.chdir('/Users/schiend/Desktop/DOHERTY/R-workspace/cecelia/inst')\n",
    "\n",
    "# config\n",
    "import py.config_utils as cfg\n",
    "\n",
    "%load_ext autoreload\n",
    "%autoreload 2"
   ]
  },
  {
   "cell_type": "code",
   "execution_count": 2,
   "id": "8f75f4eb",
   "metadata": {},
   "outputs": [],
   "source": [
    "base_dir = '/Volumes/Analysis_SSD/Dominik/cecelia/projects/8BR53W/ANALYSIS/'\n",
    "zero_dir = os.path.join(base_dir, '0/s4XQza/')\n",
    "im_path = os.path.join(zero_dir, 'ccidImage.ome.zarr')\n",
    "#im_path = os.path.join(zero_dir, 'ccidCorrected.zarr')\n",
    "#im_path = os.path.join(zero_dir, 'ccidSlidingWindow.zarr')\n",
    "version_num = 1\n",
    "task_dir = os.path.join(base_dir, str(version_num), 's4XQza')"
   ]
  },
  {
   "cell_type": "code",
   "execution_count": 3,
   "id": "96788271",
   "metadata": {},
   "outputs": [
    {
     "name": "stderr",
     "output_type": "stream",
     "text": [
      "napari.manifest -> 'skan' could not be imported: Could not find file 'napari.yaml' in module 'skan'\n"
     ]
    }
   ],
   "source": [
    "from py.napari_utils import NapariUtils\n",
    "\n",
    "napari_utils = NapariUtils()\n",
    "napari_utils.viewer = None\n",
    "napari_utils.open_viewer()\n",
    "napari_utils.task_dir = task_dir"
   ]
  },
  {
   "cell_type": "code",
   "execution_count": 4,
   "id": "75724ef2",
   "metadata": {},
   "outputs": [],
   "source": [
    "channel_names = [\n",
    "    'EB', 'T-A', 'T-B', 'AF', 'gen'\n",
    "]"
   ]
  },
  {
   "cell_type": "code",
   "execution_count": 5,
   "id": "10e3e72e",
   "metadata": {},
   "outputs": [
    {
     "name": "stdout",
     "output_type": "stream",
     "text": [
      "[60, 3, 27, 512, 512]\n",
      "[512, 512, 27, 3, 60]\n",
      "['X', 'Y', 'Z', 'C', 'T']\n",
      "[60, 3, 27, 512, 512]\n"
     ]
    }
   ],
   "source": [
    "napari_utils.open_image(\n",
    "    im_path,\n",
    "    use_channel_axis = True, as_dask = True,\n",
    "    downsample_z = False\n",
    ")"
   ]
  },
  {
   "cell_type": "code",
   "execution_count": 15,
   "id": "1f2f0678",
   "metadata": {},
   "outputs": [],
   "source": [
    "shifts = [[-0.14,0.51,0.28],\n",
    " [-0.08,0.57,0.35],\n",
    " [-0.17,0.6, 0.12],\n",
    " [ 0.,0.84,0.02],\n",
    " [ 0.03,0.85,0.39],\n",
    " [-0.04,0.6, 0.31],\n",
    " [ 0.,1.18,0.13],\n",
    " [-0.04,0.78,0.3 ],\n",
    " [-0.11,0.8, 0.12],\n",
    " [ 0.,0.94,0.6 ],\n",
    " [-0.09,0.95,0.24],\n",
    " [ 0.03,0.46,0.31],\n",
    " [-0.03,0.62,0.17],\n",
    " [-0.04,0.65,0.32],\n",
    " [ 0.05,0.78,0.01],\n",
    " [ 0.02,0.86 -0.17],\n",
    " [-0.04,0.29 -0.07],\n",
    " [ 0.02,0.25 -0.07],\n",
    " [-0.03,0.4, 0.22],\n",
    " [-0.07,0.31,0.18],\n",
    " [ 0.,0.2, 0.32],\n",
    " [ 0.02,0.49 -0.25],\n",
    " [-0.05,0.02 -0.04],\n",
    " [ 0.04 -0.31,0.02],\n",
    " [-0.01,0.33,0.06],\n",
    " [-0.09,0.23,0.21],\n",
    " [-0.01,0.34 -0.23],\n",
    " [ 0.08,0.23 -0.04],\n",
    " [ 0.07,0.11,0.14],\n",
    " [ 0.02,0.33,0.41],\n",
    " [ 0.03,0.23 -0.09],\n",
    " [ 0.07,0.52,0.05],\n",
    " [ 0.04,0.59,0.36],\n",
    " [ 0.08,0.14,0.34],\n",
    " [ 0.15,0.53,0.22],\n",
    " [ 0.08,0.21,0.14],\n",
    " [ 0.15,0.23,0.53],\n",
    " [ 0.17 -0.26,0.25],\n",
    " [ 0.13,0.03,0.23],\n",
    " [ 0.19 -0.18,0.19],\n",
    " [ 0.04 -0.04,0.27],\n",
    " [ 0.08,0.02 -0.32],\n",
    " [ 0.03,0.26 -0.1 ],\n",
    " [ 0.01,0.31 -0.09],\n",
    " [-0.07 -0.38,0.14],\n",
    " [ 0.04,0.32,0.21],\n",
    " [-0.06,0.49 -0.04],\n",
    " [-0.13,0.28,0.16],\n",
    " [-0.04,0.62,0.31],\n",
    " [-0.01,0.91,0.47],\n",
    " [ 0.01,1.07,0.49],\n",
    " [ 0.02,0.31,0.22],\n",
    " [ 0.05,0.58,0.38],\n",
    " [-0.12,0.86,0.58],\n",
    " [-0.05,0.81,0.02],\n",
    " [-0.06,0.61,0.18],\n",
    " [ 0.,0.97,0.14],\n",
    " [ 0.07,1.04,0.01],\n",
    " [-0.07,0.68,0.14]]"
   ]
  },
  {
   "cell_type": "code",
   "execution_count": 17,
   "id": "fb79f0b9",
   "metadata": {},
   "outputs": [
    {
     "name": "stderr",
     "output_type": "stream",
     "text": [
      "/var/folders/rb/m9wptf8x58x_82t7lg081kfs1fj7kv/T/ipykernel_9436/705515301.py:1: VisibleDeprecationWarning: Creating an ndarray from ragged nested sequences (which is a list-or-tuple of lists-or-tuples-or ndarrays with different lengths or shapes) is deprecated. If you meant to do this, you must specify 'dtype=object' when creating the ndarray.\n",
      "  np.array(shifts)\n"
     ]
    },
    {
     "data": {
      "text/plain": [
       "array([list([-0.14, 0.51, 0.28]), list([-0.08, 0.57, 0.35]),\n",
       "       list([-0.17, 0.6, 0.12]), list([0.0, 0.84, 0.02]),\n",
       "       list([0.03, 0.85, 0.39]), list([-0.04, 0.6, 0.31]),\n",
       "       list([0.0, 1.18, 0.13]), list([-0.04, 0.78, 0.3]),\n",
       "       list([-0.11, 0.8, 0.12]), list([0.0, 0.94, 0.6]),\n",
       "       list([-0.09, 0.95, 0.24]), list([0.03, 0.46, 0.31]),\n",
       "       list([-0.03, 0.62, 0.17]), list([-0.04, 0.65, 0.32]),\n",
       "       list([0.05, 0.78, 0.01]), list([0.02, 0.69]),\n",
       "       list([-0.04, 0.21999999999999997]), list([0.02, 0.18]),\n",
       "       list([-0.03, 0.4, 0.22]), list([-0.07, 0.31, 0.18]),\n",
       "       list([0.0, 0.2, 0.32]), list([0.02, 0.24]), list([-0.05, -0.02]),\n",
       "       list([-0.27, 0.02]), list([-0.01, 0.33, 0.06]),\n",
       "       list([-0.09, 0.23, 0.21]), list([-0.01, 0.11000000000000001]),\n",
       "       list([0.08, 0.19]), list([0.07, 0.11, 0.14]),\n",
       "       list([0.02, 0.33, 0.41]), list([0.03, 0.14]),\n",
       "       list([0.07, 0.52, 0.05]), list([0.04, 0.59, 0.36]),\n",
       "       list([0.08, 0.14, 0.34]), list([0.15, 0.53, 0.22]),\n",
       "       list([0.08, 0.21, 0.14]), list([0.15, 0.23, 0.53]),\n",
       "       list([-0.09, 0.25]), list([0.13, 0.03, 0.23]),\n",
       "       list([0.010000000000000009, 0.19]), list([0.0, 0.27]),\n",
       "       list([0.08, -0.3]), list([0.03, 0.16]), list([0.01, 0.22]),\n",
       "       list([-0.45, 0.14]), list([0.04, 0.32, 0.21]), list([-0.06, 0.45]),\n",
       "       list([-0.13, 0.28, 0.16]), list([-0.04, 0.62, 0.31]),\n",
       "       list([-0.01, 0.91, 0.47]), list([0.01, 1.07, 0.49]),\n",
       "       list([0.02, 0.31, 0.22]), list([0.05, 0.58, 0.38]),\n",
       "       list([-0.12, 0.86, 0.58]), list([-0.05, 0.81, 0.02]),\n",
       "       list([-0.06, 0.61, 0.18]), list([0.0, 0.97, 0.14]),\n",
       "       list([0.07, 1.04, 0.01]), list([-0.07, 0.68, 0.14])], dtype=object)"
      ]
     },
     "execution_count": 17,
     "metadata": {},
     "output_type": "execute_result"
    }
   ],
   "source": [
    "np.array(shifts)"
   ]
  },
  {
   "cell_type": "code",
   "execution_count": null,
   "id": "70c3beec",
   "metadata": {},
   "outputs": [],
   "source": [
    "# get shifts summary\n",
    "shifts_sum = shifts_summary(shifts, is_3D = dim_utils.is_3D())\n",
    "\n",
    "# get new image dimensions\n",
    "drift_im_shape, drift_im_shape_round = correction_im_shape(\n",
    "    input_array, dim_utils, shifts_sum\n",
    ")\n",
    "\n",
    "# get first image position\n",
    "first_im_pos = correction_first_im_pos(\n",
    "    drift_im_shape, dim_utils, shifts_sum\n",
    ")"
   ]
  },
  {
   "cell_type": "code",
   "execution_count": 10,
   "id": "de52b4b1",
   "metadata": {},
   "outputs": [
    {
     "data": {
      "text/plain": [
       "(60, 3, 27, 512, 512)"
      ]
     },
     "execution_count": 10,
     "metadata": {},
     "output_type": "execute_result"
    }
   ],
   "source": [
    "napari_utils.im_data[0].shape"
   ]
  },
  {
   "cell_type": "code",
   "execution_count": 7,
   "id": "22d33950",
   "metadata": {},
   "outputs": [
    {
     "data": {
      "text/plain": [
       "['T', 'C', 'Z', 'Y', 'X']"
      ]
     },
     "execution_count": 7,
     "metadata": {},
     "output_type": "execute_result"
    }
   ],
   "source": [
    "napari_utils.dim_utils.im_dim_order"
   ]
  },
  {
   "cell_type": "code",
   "execution_count": 9,
   "id": "21d43c05",
   "metadata": {},
   "outputs": [
    {
     "data": {
      "text/plain": [
       "[60, 3, 27, 512, 512]"
      ]
     },
     "execution_count": 9,
     "metadata": {},
     "output_type": "execute_result"
    }
   ],
   "source": [
    "napari_utils.dim_utils.dim_vals()"
   ]
  },
  {
   "cell_type": "code",
   "execution_count": 6,
   "id": "fbf114cd",
   "metadata": {},
   "outputs": [
    {
     "data": {
      "text/plain": [
       "['X', 'Y', 'Z']"
      ]
     },
     "execution_count": 6,
     "metadata": {},
     "output_type": "execute_result"
    }
   ],
   "source": [
    "napari_utils.dim_utils.spatial_axis()"
   ]
  },
  {
   "cell_type": "code",
   "execution_count": 44,
   "id": "a4795aa6",
   "metadata": {},
   "outputs": [
    {
     "name": "stdout",
     "output_type": "stream",
     "text": [
      "(live) default/tracked\n"
     ]
    }
   ],
   "source": [
    "# show populations\n",
    "napari_utils.show_pop_mapping('live')"
   ]
  },
  {
   "cell_type": "code",
   "execution_count": 43,
   "id": "4181f11d",
   "metadata": {},
   "outputs": [
    {
     "name": "stdout",
     "output_type": "stream",
     "text": [
      "{'base': '/Volumes/Analysis_SSD/Dominik/cecelia/projects/8BR53W/ANALYSIS/1/Bf68An/labels/default.zarr'}\n",
      "Rendering frames...\n"
     ]
    },
    {
     "name": "stderr",
     "output_type": "stream",
     "text": [
      "  0%|                                                    | 0/39 [00:00<?, ?it/s]IMAGEIO FFMPEG_WRITER WARNING: input image is not divisible by macro_block_size=16, resizing from (1694, 1588) to (1696, 1600) to ensure video compatibility with most codecs and players. To prevent resizing, make your input image divisible by the macro_block_size or set the macro_block_size to 1 (risking incompatibility).\n",
      "  3%|█▏                                          | 1/39 [00:00<00:09,  3.92it/s][swscaler @ 0x7f8e7d44a000] Warning: data is not aligned! This can lead to a speed loss\n",
      "100%|███████████████████████████████████████████| 39/39 [00:05<00:00,  7.02it/s]\n"
     ]
    }
   ],
   "source": [
    "napari_utils.show_labels_all(\n",
    "    show_labels = True,\n",
    "    show_points = False,\n",
    "    show_tracks = True,\n",
    "    value_names = ['default']\n",
    ")"
   ]
  },
  {
   "cell_type": "code",
   "execution_count": null,
   "id": "9dc9ea21",
   "metadata": {},
   "outputs": [],
   "source": [
    "# save image as tiff\n",
    "import py.tiff_utils as tiff_utils\n",
    "\n",
    "tiff_utils.save_as_tiff(\n",
    "    '/Volumes/USER_data/Dominik/Experiments/TEAGEN_SKIN/DATA/PuJo5p.tif',\n",
    "    napari_utils.im_data[0], napari_utils.dim_utils, imagej = True)"
   ]
  },
  {
   "cell_type": "code",
   "execution_count": null,
   "id": "11d94ed5",
   "metadata": {},
   "outputs": [],
   "source": [
    "print('here')"
   ]
  },
  {
   "cell_type": "code",
   "execution_count": null,
   "id": "845275bb",
   "metadata": {},
   "outputs": [],
   "source": [
    "napari_utils.im_scale"
   ]
  },
  {
   "cell_type": "code",
   "execution_count": 42,
   "id": "a1f26ae6",
   "metadata": {},
   "outputs": [
    {
     "data": {
      "text/plain": [
       "<napari._qt.widgets.qt_viewer_dock_widget.QtViewerDockWidget at 0x181e55310>"
      ]
     },
     "execution_count": 42,
     "metadata": {},
     "output_type": "execute_result"
    }
   ],
   "source": [
    "from napari_animation import AnimationWidget\n",
    "animation_widget = AnimationWidget(napari_utils.viewer)\n",
    "napari_utils.viewer.window.add_dock_widget(animation_widget, area='right')"
   ]
  },
  {
   "cell_type": "code",
   "execution_count": null,
   "id": "a6ab6541",
   "metadata": {},
   "outputs": [],
   "source": [
    "pop_type = 'live'\n",
    "pop_map = napari_utils.pop_utils.pop_map(napari_utils.task_dir, pop_type)\n",
    "pop_data = napari_utils.pop_utils.pop_data(napari_utils.task_dir, pop_type)"
   ]
  },
  {
   "cell_type": "code",
   "execution_count": null,
   "id": "971a2e9f",
   "metadata": {},
   "outputs": [],
   "source": [
    "pop_info = pop_map['5iaWSo']"
   ]
  },
  {
   "cell_type": "code",
   "execution_count": null,
   "id": "56530832",
   "metadata": {},
   "outputs": [],
   "source": [
    "pop_info"
   ]
  },
  {
   "cell_type": "code",
   "execution_count": null,
   "id": "bbf3c9e9",
   "metadata": {},
   "outputs": [],
   "source": []
  }
 ],
 "metadata": {
  "kernelspec": {
   "display_name": "Python 3 (ipykernel)",
   "language": "python",
   "name": "python3"
  },
  "language_info": {
   "codemirror_mode": {
    "name": "ipython",
    "version": 3
   },
   "file_extension": ".py",
   "mimetype": "text/x-python",
   "name": "python",
   "nbconvert_exporter": "python",
   "pygments_lexer": "ipython3",
   "version": "3.9.13"
  }
 },
 "nbformat": 4,
 "nbformat_minor": 5
}
