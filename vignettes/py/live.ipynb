{
 "cells": [
  {
   "cell_type": "code",
   "execution_count": 1,
   "id": "a2fc902c",
   "metadata": {},
   "outputs": [],
   "source": [
    "import os\n",
    "import numpy as np\n",
    "# import working directory to check functions\n",
    "os.chdir('/Users/Dominik/R-workspace/cecelia/inst')\n",
    "\n",
    "# MacOS\n",
    "os.environ['KMP_DUPLICATE_LIB_OK'] = 'TRUE'\n",
    "\n",
    "# config\n",
    "import py.config_utils as cfg\n",
    "\n",
    "%load_ext autoreload\n",
    "%autoreload 2"
   ]
  },
  {
   "cell_type": "code",
   "execution_count": 2,
   "id": "8f75f4eb",
   "metadata": {},
   "outputs": [],
   "source": [
    "base_dir = '/Volumes/USER_data/Dominik/CECELIA_BACKUP/CV5iNI/ANALYSIS/'\n",
    "zero_dir = os.path.join(base_dir, '0/IfaP9U/')\n",
    "#im_path = os.path.join(zero_dir, 'ccidImage.ome.zarr')\n",
    "im_path = os.path.join(zero_dir, 'ccidCorrected.zarr')\n",
    "#im_path = os.path.join(zero_dir, 'ccidSlidingWindow.zarr')\n",
    "version_num = 1\n",
    "task_dir = os.path.join(base_dir, str(version_num), 'IfaP9U')"
   ]
  },
  {
   "cell_type": "code",
   "execution_count": 3,
   "id": "68bceb7b",
   "metadata": {},
   "outputs": [
    {
     "name": "stderr",
     "output_type": "stream",
     "text": [
      "napari.manifest -> 'skan' could not be imported: Could not find file 'napari.yaml' in module 'skan'\n"
     ]
    }
   ],
   "source": [
    "from py.napari_utils import NapariUtils\n",
    "\n",
    "napari_utils = NapariUtils()\n",
    "napari_utils.open_viewer()\n",
    "napari_utils.task_dir = task_dir"
   ]
  },
  {
   "cell_type": "code",
   "execution_count": 4,
   "id": "75724ef2",
   "metadata": {},
   "outputs": [],
   "source": [
    "channel_names = [\n",
    "    # 'EB', 'T-A', 'T-B', 'AF', 'gen'\n",
    "    'One'\n",
    "]"
   ]
  },
  {
   "cell_type": "code",
   "execution_count": 5,
   "id": "10e3e72e",
   "metadata": {},
   "outputs": [
    {
     "name": "stdout",
     "output_type": "stream",
     "text": [
      "<zarr.hierarchy.Group '/' read-only>\n",
      "[62, 4, 19, 537, 542]\n",
      "[542, 537, 19, 4, 62]\n",
      "['X', 'Y', 'Z', 'C', 'T']\n",
      "[62, 4, 19, 537, 542]\n"
     ]
    }
   ],
   "source": [
    "napari_utils.open_image(\n",
    "    im_path,\n",
    "    use_channel_axis = True, as_dask = True,\n",
    "    downsample_z = False, squeeze = False\n",
    ")"
   ]
  },
  {
   "cell_type": "code",
   "execution_count": 6,
   "id": "7659217d",
   "metadata": {},
   "outputs": [],
   "source": [
    "import py.slice_utils as slice_utils"
   ]
  },
  {
   "cell_type": "code",
   "execution_count": 15,
   "id": "b5bf1e27",
   "metadata": {},
   "outputs": [
    {
     "data": {
      "text/plain": [
       "4"
      ]
     },
     "execution_count": 15,
     "metadata": {},
     "output_type": "execute_result"
    }
   ],
   "source": [
    "zarr_shape = list(napari_utils.im_data[0].shape)\n",
    "zarr_shape.pop(napari_utils.dim_utils.dim_idx('C'))"
   ]
  },
  {
   "cell_type": "code",
   "execution_count": 48,
   "id": "d7b71dee",
   "metadata": {},
   "outputs": [],
   "source": [
    "a = [[.1],[2],[34]]"
   ]
  },
  {
   "cell_type": "code",
   "execution_count": 50,
   "id": "bd1b992d",
   "metadata": {},
   "outputs": [],
   "source": [
    "a[1].insert(0, 1)"
   ]
  },
  {
   "cell_type": "code",
   "execution_count": 51,
   "id": "d648ce08",
   "metadata": {},
   "outputs": [
    {
     "data": {
      "text/plain": [
       "[[0.1], [1, 2], [34]]"
      ]
     },
     "execution_count": 51,
     "metadata": {},
     "output_type": "execute_result"
    }
   ],
   "source": [
    "a"
   ]
  },
  {
   "cell_type": "code",
   "execution_count": 59,
   "id": "6be2f4d2",
   "metadata": {},
   "outputs": [
    {
     "data": {
      "text/plain": [
       "[(slice(0, 1, 1), slice(0, 19, 1), slice(0, 537, 1), slice(0, 542, 1)),\n",
       " (slice(1, 2, 1), slice(0, 19, 1), slice(0, 537, 1), slice(0, 542, 1)),\n",
       " (slice(2, 3, 1), slice(0, 19, 1), slice(0, 537, 1), slice(0, 542, 1)),\n",
       " (slice(3, 4, 1), slice(0, 19, 1), slice(0, 537, 1), slice(0, 542, 1)),\n",
       " (slice(4, 5, 1), slice(0, 19, 1), slice(0, 537, 1), slice(0, 542, 1)),\n",
       " (slice(5, 6, 1), slice(0, 19, 1), slice(0, 537, 1), slice(0, 542, 1)),\n",
       " (slice(6, 7, 1), slice(0, 19, 1), slice(0, 537, 1), slice(0, 542, 1)),\n",
       " (slice(7, 8, 1), slice(0, 19, 1), slice(0, 537, 1), slice(0, 542, 1)),\n",
       " (slice(8, 9, 1), slice(0, 19, 1), slice(0, 537, 1), slice(0, 542, 1)),\n",
       " (slice(9, 10, 1), slice(0, 19, 1), slice(0, 537, 1), slice(0, 542, 1)),\n",
       " (slice(10, 11, 1), slice(0, 19, 1), slice(0, 537, 1), slice(0, 542, 1)),\n",
       " (slice(11, 12, 1), slice(0, 19, 1), slice(0, 537, 1), slice(0, 542, 1)),\n",
       " (slice(12, 13, 1), slice(0, 19, 1), slice(0, 537, 1), slice(0, 542, 1)),\n",
       " (slice(13, 14, 1), slice(0, 19, 1), slice(0, 537, 1), slice(0, 542, 1)),\n",
       " (slice(14, 15, 1), slice(0, 19, 1), slice(0, 537, 1), slice(0, 542, 1)),\n",
       " (slice(15, 16, 1), slice(0, 19, 1), slice(0, 537, 1), slice(0, 542, 1)),\n",
       " (slice(16, 17, 1), slice(0, 19, 1), slice(0, 537, 1), slice(0, 542, 1)),\n",
       " (slice(17, 18, 1), slice(0, 19, 1), slice(0, 537, 1), slice(0, 542, 1)),\n",
       " (slice(18, 19, 1), slice(0, 19, 1), slice(0, 537, 1), slice(0, 542, 1)),\n",
       " (slice(19, 20, 1), slice(0, 19, 1), slice(0, 537, 1), slice(0, 542, 1)),\n",
       " (slice(20, 21, 1), slice(0, 19, 1), slice(0, 537, 1), slice(0, 542, 1)),\n",
       " (slice(21, 22, 1), slice(0, 19, 1), slice(0, 537, 1), slice(0, 542, 1)),\n",
       " (slice(22, 23, 1), slice(0, 19, 1), slice(0, 537, 1), slice(0, 542, 1)),\n",
       " (slice(23, 24, 1), slice(0, 19, 1), slice(0, 537, 1), slice(0, 542, 1)),\n",
       " (slice(24, 25, 1), slice(0, 19, 1), slice(0, 537, 1), slice(0, 542, 1)),\n",
       " (slice(25, 26, 1), slice(0, 19, 1), slice(0, 537, 1), slice(0, 542, 1)),\n",
       " (slice(26, 27, 1), slice(0, 19, 1), slice(0, 537, 1), slice(0, 542, 1)),\n",
       " (slice(27, 28, 1), slice(0, 19, 1), slice(0, 537, 1), slice(0, 542, 1)),\n",
       " (slice(28, 29, 1), slice(0, 19, 1), slice(0, 537, 1), slice(0, 542, 1)),\n",
       " (slice(29, 30, 1), slice(0, 19, 1), slice(0, 537, 1), slice(0, 542, 1)),\n",
       " (slice(30, 31, 1), slice(0, 19, 1), slice(0, 537, 1), slice(0, 542, 1)),\n",
       " (slice(31, 32, 1), slice(0, 19, 1), slice(0, 537, 1), slice(0, 542, 1)),\n",
       " (slice(32, 33, 1), slice(0, 19, 1), slice(0, 537, 1), slice(0, 542, 1)),\n",
       " (slice(33, 34, 1), slice(0, 19, 1), slice(0, 537, 1), slice(0, 542, 1)),\n",
       " (slice(34, 35, 1), slice(0, 19, 1), slice(0, 537, 1), slice(0, 542, 1)),\n",
       " (slice(35, 36, 1), slice(0, 19, 1), slice(0, 537, 1), slice(0, 542, 1)),\n",
       " (slice(36, 37, 1), slice(0, 19, 1), slice(0, 537, 1), slice(0, 542, 1)),\n",
       " (slice(37, 38, 1), slice(0, 19, 1), slice(0, 537, 1), slice(0, 542, 1)),\n",
       " (slice(38, 39, 1), slice(0, 19, 1), slice(0, 537, 1), slice(0, 542, 1)),\n",
       " (slice(39, 40, 1), slice(0, 19, 1), slice(0, 537, 1), slice(0, 542, 1)),\n",
       " (slice(40, 41, 1), slice(0, 19, 1), slice(0, 537, 1), slice(0, 542, 1)),\n",
       " (slice(41, 42, 1), slice(0, 19, 1), slice(0, 537, 1), slice(0, 542, 1)),\n",
       " (slice(42, 43, 1), slice(0, 19, 1), slice(0, 537, 1), slice(0, 542, 1)),\n",
       " (slice(43, 44, 1), slice(0, 19, 1), slice(0, 537, 1), slice(0, 542, 1)),\n",
       " (slice(44, 45, 1), slice(0, 19, 1), slice(0, 537, 1), slice(0, 542, 1)),\n",
       " (slice(45, 46, 1), slice(0, 19, 1), slice(0, 537, 1), slice(0, 542, 1)),\n",
       " (slice(46, 47, 1), slice(0, 19, 1), slice(0, 537, 1), slice(0, 542, 1)),\n",
       " (slice(47, 48, 1), slice(0, 19, 1), slice(0, 537, 1), slice(0, 542, 1)),\n",
       " (slice(48, 49, 1), slice(0, 19, 1), slice(0, 537, 1), slice(0, 542, 1)),\n",
       " (slice(49, 50, 1), slice(0, 19, 1), slice(0, 537, 1), slice(0, 542, 1)),\n",
       " (slice(50, 51, 1), slice(0, 19, 1), slice(0, 537, 1), slice(0, 542, 1)),\n",
       " (slice(51, 52, 1), slice(0, 19, 1), slice(0, 537, 1), slice(0, 542, 1)),\n",
       " (slice(52, 53, 1), slice(0, 19, 1), slice(0, 537, 1), slice(0, 542, 1)),\n",
       " (slice(53, 54, 1), slice(0, 19, 1), slice(0, 537, 1), slice(0, 542, 1)),\n",
       " (slice(54, 55, 1), slice(0, 19, 1), slice(0, 537, 1), slice(0, 542, 1)),\n",
       " (slice(55, 56, 1), slice(0, 19, 1), slice(0, 537, 1), slice(0, 542, 1)),\n",
       " (slice(56, 57, 1), slice(0, 19, 1), slice(0, 537, 1), slice(0, 542, 1)),\n",
       " (slice(57, 58, 1), slice(0, 19, 1), slice(0, 537, 1), slice(0, 542, 1)),\n",
       " (slice(58, 59, 1), slice(0, 19, 1), slice(0, 537, 1), slice(0, 542, 1)),\n",
       " (slice(59, 60, 1), slice(0, 19, 1), slice(0, 537, 1), slice(0, 542, 1)),\n",
       " (slice(60, 61, 1), slice(0, 19, 1), slice(0, 537, 1), slice(0, 542, 1)),\n",
       " (slice(61, 62, 1), slice(0, 19, 1), slice(0, 537, 1), slice(0, 542, 1))]"
      ]
     },
     "execution_count": 59,
     "metadata": {},
     "output_type": "execute_result"
    }
   ],
   "source": [
    "slice_utils.create_slices(\n",
    "  zarr_shape, napari_utils.dim_utils, 1000, -1,\n",
    "  block_size_z = -1, overlap_z = -1)"
   ]
  },
  {
   "cell_type": "code",
   "execution_count": 10,
   "id": "f984f16f",
   "metadata": {},
   "outputs": [
    {
     "name": "stdout",
     "output_type": "stream",
     "text": [
      "{'base': '/Volumes/USER_data/Dominik/CECELIA_BACKUP/CV5iNI/ANALYSIS/1/DHiI67/labels/SHG.branch.zarr'}\n",
      "(12, 523, 523)\n"
     ]
    }
   ],
   "source": [
    "napari_utils.show_labels_all(\n",
    "    show_labels = True,\n",
    "    show_points = False,\n",
    "    show_tracks = False,\n",
    "    show_branching = True,\n",
    "    branching_property = 'weight',\n",
    "    value_names = ['SHG.branch']\n",
    ")"
   ]
  },
  {
   "cell_type": "code",
   "execution_count": 11,
   "id": "99f68987",
   "metadata": {},
   "outputs": [],
   "source": [
    "napari_utils.show_labels_all(\n",
    "    show_labels = False,\n",
    "    show_points = False,\n",
    "    show_tracks = True,\n",
    "    value_names = ['P14-CTDR']\n",
    ")"
   ]
  },
  {
   "cell_type": "code",
   "execution_count": null,
   "id": "8056458e",
   "metadata": {},
   "outputs": [],
   "source": [
    "# get timescale\n",
    "napari_utils.time_interval = 0.5"
   ]
  },
  {
   "cell_type": "code",
   "execution_count": null,
   "id": "d2c3b11e",
   "metadata": {},
   "outputs": [],
   "source": [
    "napari_utils.viewer.text_overlay.position = napa"
   ]
  },
  {
   "cell_type": "code",
   "execution_count": null,
   "id": "676e3976",
   "metadata": {},
   "outputs": [],
   "source": [
    "def update_slider(event):\n",
    "    # https://forum.image.sc/t/napari-how-add-a-text-label-time-always-in-the-same-spot-in-viewer/52932/5\n",
    "    time = napari_utils.viewer.dims.current_step[0]\n",
    "    napari_utils.viewer.text_overlay.text = str(datetime.timedelta(seconds = time * napari_utils.time_interval * 60))\n",
    "\n",
    "import datetime\n",
    "\n",
    "napari_utils.viewer.text_overlay.position\n",
    "napari_utils.viewer.text_overlay.visible = True\n",
    "napari_utils.viewer.text_overlay.font_size = 12\n",
    "napari_utils.viewer.text_overlay.color = 'white'\n",
    "napari_utils.viewer.dims.events.current_step.connect(update_slider)"
   ]
  },
  {
   "cell_type": "code",
   "execution_count": null,
   "id": "f6b6f4da",
   "metadata": {},
   "outputs": [],
   "source": [
    "napari_utils.im_scale"
   ]
  },
  {
   "cell_type": "code",
   "execution_count": null,
   "id": "4181f11d",
   "metadata": {},
   "outputs": [],
   "source": [
    "napari_utils.show_labels_all(\n",
    "    show_labels = True,\n",
    "    show_points = False,\n",
    "    show_tracks = False,\n",
    "    value_names = ['manual'],\n",
    "    as_np_array = True\n",
    ")"
   ]
  },
  {
   "cell_type": "code",
   "execution_count": null,
   "id": "a4795aa6",
   "metadata": {},
   "outputs": [],
   "source": [
    "# show populations\n",
    "napari_utils.show_pop_mapping('live')"
   ]
  },
  {
   "cell_type": "code",
   "execution_count": null,
   "id": "9dc9ea21",
   "metadata": {},
   "outputs": [],
   "source": [
    "# save image as tiff\n",
    "import py.tiff_utils as tiff_utils\n",
    "\n",
    "tiff_utils.save_as_tiff(\n",
    "    '/Volumes/USER_data/Dominik/Experiments/TEAGEN_SKIN/DATA/PuJo5p.tif',\n",
    "    napari_utils.im_data[0], napari_utils.dim_utils, imagej = True)"
   ]
  },
  {
   "cell_type": "code",
   "execution_count": null,
   "id": "11d94ed5",
   "metadata": {},
   "outputs": [],
   "source": [
    "print('here')"
   ]
  },
  {
   "cell_type": "code",
   "execution_count": null,
   "id": "845275bb",
   "metadata": {},
   "outputs": [],
   "source": [
    "napari_utils.im_scale"
   ]
  },
  {
   "cell_type": "code",
   "execution_count": null,
   "id": "a1f26ae6",
   "metadata": {},
   "outputs": [],
   "source": [
    "from napari_animation import AnimationWidget\n",
    "animation_widget = AnimationWidget(napari_utils.viewer)\n",
    "napari_utils.viewer.window.add_dock_widget(animation_widget, area='right')"
   ]
  },
  {
   "cell_type": "code",
   "execution_count": null,
   "id": "a6ab6541",
   "metadata": {},
   "outputs": [],
   "source": [
    "pop_type = 'live'\n",
    "pop_map = napari_utils.pop_utils.pop_map(napari_utils.task_dir, pop_type)\n",
    "pop_data = napari_utils.pop_utils.pop_data(napari_utils.task_dir, pop_type)"
   ]
  },
  {
   "cell_type": "code",
   "execution_count": null,
   "id": "971a2e9f",
   "metadata": {},
   "outputs": [],
   "source": [
    "pop_info = pop_map['5iaWSo']"
   ]
  },
  {
   "cell_type": "code",
   "execution_count": null,
   "id": "56530832",
   "metadata": {},
   "outputs": [],
   "source": [
    "pop_info"
   ]
  },
  {
   "cell_type": "code",
   "execution_count": null,
   "id": "bbf3c9e9",
   "metadata": {},
   "outputs": [],
   "source": []
  }
 ],
 "metadata": {
  "kernelspec": {
   "display_name": "Python 3 (ipykernel)",
   "language": "python",
   "name": "python3"
  },
  "language_info": {
   "codemirror_mode": {
    "name": "ipython",
    "version": 3
   },
   "file_extension": ".py",
   "mimetype": "text/x-python",
   "name": "python",
   "nbconvert_exporter": "python",
   "pygments_lexer": "ipython3",
   "version": "3.9.16"
  }
 },
 "nbformat": 4,
 "nbformat_minor": 5
}
