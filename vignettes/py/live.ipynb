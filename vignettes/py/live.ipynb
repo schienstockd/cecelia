{
 "cells": [
  {
   "cell_type": "code",
   "execution_count": 3,
   "id": "a2fc902c",
   "metadata": {},
   "outputs": [],
   "source": [
    "import os\n",
    "import numpy as np\n",
    "# import working directory to check functions\n",
    "os.chdir('/Users/Dominik/R-workspace/cecelia/inst')\n",
    "\n",
    "# MacOS\n",
    "os.environ['KMP_DUPLICATE_LIB_OK'] = 'TRUE'\n",
    "\n",
    "# config\n",
    "import py.config_utils as cfg\n",
    "\n",
    "%load_ext autoreload\n",
    "%autoreload 2"
   ]
  },
  {
   "cell_type": "code",
   "execution_count": 4,
   "id": "8f75f4eb",
   "metadata": {},
   "outputs": [],
   "source": [
    "base_dir = '/Volumes/USER_data/Dominik/CECELIA_BACKUP/CV5iNI/ANALYSIS/'\n",
    "zero_dir = os.path.join(base_dir, '0/HYmMxh/')\n",
    "#im_path = os.path.join(zero_dir, 'ccidImage.ome.zarr')\n",
    "#im_path = os.path.join(zero_dir, 'ccidCorrected.zarr')\n",
    "im_path = os.path.join(zero_dir, 'ccidSlidingWindow.zarr')\n",
    "version_num = 1\n",
    "task_dir = os.path.join(base_dir, str(version_num), 'HYmMxh')"
   ]
  },
  {
   "cell_type": "code",
   "execution_count": 1,
   "id": "6f3be9c6",
   "metadata": {},
   "outputs": [],
   "source": [
    "from ome_types import from_xml, from_tiff, to_xml"
   ]
  },
  {
   "cell_type": "code",
   "execution_count": 7,
   "id": "a6720c65",
   "metadata": {},
   "outputs": [],
   "source": [
    "xml_path = os.path.join(im_path, \"METADATA.ome.xml\")\n",
    "\n",
    "if os.path.isfile(xml_path) is False:\n",
    "    xml_path = os.path.join(im_path, \"OME\", \"METADATA.ome.xml\")\n",
    "\n",
    "# https://codecap.org/typeerror-a-bytes-like-object-is-required-not-str/\n",
    "with open(xml_path, \"rb\") as f:\n",
    "    xml_lines = f.readlines()\n",
    "\n",
    "# decode bytes\n",
    "xml_lines = [x.decode() for x in xml_lines]"
   ]
  },
  {
   "cell_type": "code",
   "execution_count": 11,
   "id": "455fb49f",
   "metadata": {},
   "outputs": [],
   "source": [
    "omexml = from_xml(xml_path)"
   ]
  },
  {
   "cell_type": "code",
   "execution_count": 27,
   "id": "fd51636e",
   "metadata": {},
   "outputs": [
    {
     "ename": "ImportError",
     "evalue": "cannot import name 'UnitsLength' from 'ome_types' (/Users/Dominik/Library/r-miniconda/envs/r-cecelia-env/lib/python3.9/site-packages/ome_types/__init__.py)",
     "output_type": "error",
     "traceback": [
      "\u001b[0;31m---------------------------------------------------------------------------\u001b[0m",
      "\u001b[0;31mImportError\u001b[0m                               Traceback (most recent call last)",
      "Cell \u001b[0;32mIn[27], line 1\u001b[0m\n\u001b[0;32m----> 1\u001b[0m \u001b[38;5;28;01mfrom\u001b[39;00m \u001b[38;5;21;01mome_types\u001b[39;00m \u001b[38;5;28;01mimport\u001b[39;00m UnitsLength\n",
      "\u001b[0;31mImportError\u001b[0m: cannot import name 'UnitsLength' from 'ome_types' (/Users/Dominik/Library/r-miniconda/envs/r-cecelia-env/lib/python3.9/site-packages/ome_types/__init__.py)"
     ]
    }
   ],
   "source": [
    "from ome_types.model import UnitsLength"
   ]
  },
  {
   "cell_type": "code",
   "execution_count": 35,
   "id": "f12c13ea",
   "metadata": {},
   "outputs": [],
   "source": [
    "from ome_types import model"
   ]
  },
  {
   "cell_type": "code",
   "execution_count": 36,
   "id": "2f846a19",
   "metadata": {},
   "outputs": [],
   "source": [
    "o = model.OME()"
   ]
  },
  {
   "cell_type": "code",
   "execution_count": 46,
   "id": "4a1a778f",
   "metadata": {},
   "outputs": [
    {
     "data": {
      "text/plain": [
       "<DimensionOrder.XYZCT: 'XYZCT'>"
      ]
     },
     "execution_count": 46,
     "metadata": {},
     "output_type": "execute_result"
    }
   ],
   "source": [
    "ome_types.model.pixels.DimensionOrder.XYZCT"
   ]
  },
  {
   "cell_type": "code",
   "execution_count": 52,
   "id": "aec5865a",
   "metadata": {},
   "outputs": [],
   "source": [
    "pixels.channels.append(model.channel.Channel(name='ds'))"
   ]
  },
  {
   "cell_type": "code",
   "execution_count": 68,
   "id": "cc8d5164",
   "metadata": {},
   "outputs": [],
   "source": [
    "pixels = ome_types.model.pixels.Pixels(\n",
    "    size_c=1,\n",
    "    size_x=1,\n",
    "    size_y=1,\n",
    "    size_t=1,\n",
    "    size_z=1,\n",
    "    physical_size_x=1,\n",
    "    physical_size_y=1,\n",
    "    physical_size_x_unit=model.pixels.UnitsLength.MICROMETER,\n",
    "    physical_size_y_unit=model.pixels.UnitsLength.MICROMETER,\n",
    "    type='uint16',\n",
    "    dimension_order=ome_types.model.pixels.DimensionOrder.XYZCT,\n",
    "    metadata_only=True\n",
    ")"
   ]
  },
  {
   "cell_type": "code",
   "execution_count": 69,
   "id": "c950f471",
   "metadata": {},
   "outputs": [
    {
     "data": {
      "text/plain": [
       "Pixels(\n",
       "   id='Pixels:8',\n",
       "   dimension_order='XYZCT',\n",
       "   size_c=1,\n",
       "   size_t=1,\n",
       "   size_x=1,\n",
       "   size_y=1,\n",
       "   size_z=1,\n",
       "   type='uint16',\n",
       "   metadata_only=True,\n",
       "   physical_size_x=1.0,\n",
       "   physical_size_y=1.0,\n",
       ")"
      ]
     },
     "execution_count": 69,
     "metadata": {},
     "output_type": "execute_result"
    }
   ],
   "source": [
    "pixels"
   ]
  },
  {
   "cell_type": "code",
   "execution_count": 70,
   "id": "e2b97f11",
   "metadata": {},
   "outputs": [],
   "source": [
    "o = model.OME(images=[model.Image(pixels=pixels)])"
   ]
  },
  {
   "cell_type": "code",
   "execution_count": 71,
   "id": "03cb16cd",
   "metadata": {
    "scrolled": false
   },
   "outputs": [
    {
     "data": {
      "text/plain": [
       "'<OME xmlns=\"http://www.openmicroscopy.org/Schemas/OME/2016-06\" xmlns:xsi=\"http://www.w3.org/2001/XMLSchema-instance\" xsi:schemaLocation=\"http://www.openmicroscopy.org/Schemas/OME/2016-06 http://www.openmicroscopy.org/Schemas/OME/2016-06/ome.xsd\">\\n    <Image ID=\"Image:4\">\\n        <Pixels DimensionOrder=\"XYZCT\" ID=\"Pixels:8\" SizeC=\"1\" SizeT=\"1\" SizeX=\"1\" SizeY=\"1\" SizeZ=\"1\" Type=\"uint16\" PhysicalSizeX=\"1.0\" PhysicalSizeY=\"1.0\">\\n            <MetadataOnly />\\n        </Pixels>\\n    </Image>\\n</OME>\\n'"
      ]
     },
     "execution_count": 71,
     "metadata": {},
     "output_type": "execute_result"
    }
   ],
   "source": [
    "o.to_xml()"
   ]
  },
  {
   "cell_type": "code",
   "execution_count": null,
   "id": "0577e9a4",
   "metadata": {},
   "outputs": [],
   "source": [
    "o = model.OME()\n",
    "pixels.channels.extend([model.Channel(), model.Channel()])\n",
    "img = model.Image(pixels=pixels)\n",
    "ome.projects.append(model.Project())\n",
    "ome.datasets.append(model.Dataset())\n",
    "ome.images.append(img)\n",
    "ome.structured_annotations.append(model.CommentAnnotation(value=\"test\"))"
   ]
  },
  {
   "cell_type": "code",
   "execution_count": 53,
   "id": "37be5eec",
   "metadata": {},
   "outputs": [
    {
     "data": {
      "text/plain": [
       "'<OME xmlns=\"http://www.openmicroscopy.org/Schemas/OME/2016-06\" xmlns:xsi=\"http://www.w3.org/2001/XMLSchema-instance\" xsi:schemaLocation=\"http://www.openmicroscopy.org/Schemas/OME/2016-06 http://www.openmicroscopy.org/Schemas/OME/2016-06/ome.xsd\" />\\n'"
      ]
     },
     "execution_count": 53,
     "metadata": {},
     "output_type": "execute_result"
    }
   ],
   "source": [
    "o.to_xml()"
   ]
  },
  {
   "cell_type": "code",
   "execution_count": 23,
   "id": "8cdea864",
   "metadata": {},
   "outputs": [
    {
     "ename": "ImportError",
     "evalue": "cannot import name 'UnitsLength' from 'ome_types.model' (/Users/Dominik/Library/r-miniconda/envs/r-cecelia-env/lib/python3.9/site-packages/ome_types/model/__init__.py)",
     "output_type": "error",
     "traceback": [
      "\u001b[0;31m---------------------------------------------------------------------------\u001b[0m",
      "\u001b[0;31mImportError\u001b[0m                               Traceback (most recent call last)",
      "Cell \u001b[0;32mIn[23], line 1\u001b[0m\n\u001b[0;32m----> 1\u001b[0m \u001b[38;5;28;01mfrom\u001b[39;00m \u001b[38;5;21;01mome_types\u001b[39;00m\u001b[38;5;21;01m.\u001b[39;00m\u001b[38;5;21;01mmodel\u001b[39;00m \u001b[38;5;28;01mimport\u001b[39;00m UnitsLength\n",
      "\u001b[0;31mImportError\u001b[0m: cannot import name 'UnitsLength' from 'ome_types.model' (/Users/Dominik/Library/r-miniconda/envs/r-cecelia-env/lib/python3.9/site-packages/ome_types/model/__init__.py)"
     ]
    }
   ],
   "source": [
    "from ome_types._autogenerated.ome_2016_06 import UnitsLength"
   ]
  },
  {
   "cell_type": "code",
   "execution_count": null,
   "id": "6ff79713",
   "metadata": {},
   "outputs": [],
   "source": [
    "ome_types.util.model."
   ]
  },
  {
   "cell_type": "code",
   "execution_count": 31,
   "id": "0bfc8c46",
   "metadata": {},
   "outputs": [
    {
     "data": {
      "text/plain": [
       "'µm'"
      ]
     },
     "execution_count": 31,
     "metadata": {},
     "output_type": "execute_result"
    }
   ],
   "source": [
    "omexml.images[0].pixels.type"
   ]
  },
  {
   "cell_type": "code",
   "execution_count": 49,
   "id": "9e7439ee",
   "metadata": {},
   "outputs": [
    {
     "data": {
      "text/plain": [
       "[Channel(\n",
       "    id='Channel:0:0',\n",
       "    samples_per_pixel=1,\n",
       " ),\n",
       " Channel(\n",
       "    id='Channel:0:1',\n",
       "    samples_per_pixel=1,\n",
       " ),\n",
       " Channel(\n",
       "    id='Channel:0:2',\n",
       "    samples_per_pixel=1,\n",
       " ),\n",
       " Channel(\n",
       "    id='Channel:0:3',\n",
       "    samples_per_pixel=1,\n",
       " )]"
      ]
     },
     "execution_count": 49,
     "metadata": {},
     "output_type": "execute_result"
    }
   ],
   "source": [
    "omexml.images[0].pixels.channels"
   ]
  },
  {
   "cell_type": "code",
   "execution_count": null,
   "id": "68bceb7b",
   "metadata": {},
   "outputs": [],
   "source": [
    "from py.napari_utils import NapariUtils\n",
    "\n",
    "napari_utils = NapariUtils()\n",
    "napari_utils.open_viewer()\n",
    "napari_utils.task_dir = task_dir"
   ]
  },
  {
   "cell_type": "code",
   "execution_count": null,
   "id": "75724ef2",
   "metadata": {},
   "outputs": [],
   "source": [
    "channel_names = [\n",
    "    # 'EB', 'T-A', 'T-B', 'AF', 'gen'\n",
    "    'One'\n",
    "]"
   ]
  },
  {
   "cell_type": "code",
   "execution_count": null,
   "id": "10e3e72e",
   "metadata": {},
   "outputs": [],
   "source": [
    "napari_utils.open_image(\n",
    "    im_path,\n",
    "    use_channel_axis = True, as_dask = True,\n",
    "    downsample_z = False, squeeze = False\n",
    ")"
   ]
  },
  {
   "cell_type": "code",
   "execution_count": null,
   "id": "112d6e0f",
   "metadata": {},
   "outputs": [],
   "source": [
    "import py.zarr_utils as zarr_utils"
   ]
  },
  {
   "cell_type": "code",
   "execution_count": null,
   "id": "fb96790b",
   "metadata": {},
   "outputs": [],
   "source": [
    "labels, _ = zarr_utils.open_labels_as_zarr(os.path.join(task_dir, 'labels', 'THG.zarr'))\n",
    "labels = labels[0]"
   ]
  },
  {
   "cell_type": "code",
   "execution_count": null,
   "id": "743d59fa",
   "metadata": {},
   "outputs": [],
   "source": [
    "labels.ndim"
   ]
  },
  {
   "cell_type": "code",
   "execution_count": null,
   "id": "01e6ee73",
   "metadata": {},
   "outputs": [],
   "source": [
    "from scipy import ndimage as ndi\n",
    "\n",
    "contours = np.copy(labels)\n",
    "eroded_labels = np.copy(labels)\n",
    "thickness = 1\n",
    "background_label = 0\n",
    "\n",
    "# go through all z-axis\n",
    "for i in range(labels.shape[0]):\n",
    "    cur_labels = labels[i,:,:]\n",
    "    \n",
    "    # adapted from from napari\n",
    "    # https://github.com/napari/napari/blob/996f502a7f94f68275625dd8b9e94978167f63f9/napari/layers/labels/_labels_utils.py#L208\n",
    "    struct_elem = ndi.generate_binary_structure(cur_labels.ndim, 1)\n",
    "    thick_struct_elem = ndi.iterate_structure(struct_elem, thickness).astype(bool)\n",
    "\n",
    "    dilated_labels = ndi.grey_dilation(cur_labels, footprint=struct_elem)\n",
    "    eroded_labels[i,:,:] = ndi.grey_erosion(cur_labels, footprint=thick_struct_elem)\n",
    "    not_boundaries = dilated_labels == eroded_labels[i,:,:]\n",
    "\n",
    "    contours[i,:,:][not_boundaries] = background_label\n",
    "    eroded_labels[i,:,:] = eroded_labels[i,:,:] - contours[i,:,:]"
   ]
  },
  {
   "cell_type": "code",
   "execution_count": null,
   "id": "36080b3e",
   "metadata": {},
   "outputs": [],
   "source": [
    "from skimage.morphology import skeletonize\n",
    "import matplotlib.pyplot as plt\n",
    "\n",
    "# perform skeletonization\n",
    "skeleton = skeletonize(contours)\n",
    "\n",
    "# now convert to skan\n",
    "import skan\n",
    "\n",
    "sk_skeleton = skan.Skeleton(skeleton)\n",
    "paths_table = skan.summarize(sk_skeleton)"
   ]
  },
  {
   "cell_type": "code",
   "execution_count": null,
   "id": "697d7bca",
   "metadata": {},
   "outputs": [],
   "source": [
    "from skimage.util import invert\n",
    "\n",
    "bin_labels = np.copy(eroded_labels)\n",
    "bin_labels[bin_labels > 0] = 2\n",
    "bin_labels[bin_labels == 0] = 1\n",
    "bin_labels[bin_labels == 2] = 0\n",
    "\n",
    "from skimage.morphology import (erosion, dilation, opening, closing,\n",
    "                                white_tophat)\n",
    "\n",
    "morph_labels = white_tophat(bin_labels, ndi.generate_binary_structure(bin_labels.ndim, 1))\n",
    "\n",
    "# perform skeletonization\n",
    "skeleton = skeletonize(morph_labels)\n",
    "\n",
    "# display results\n",
    "fig, axes = plt.subplots(nrows=1, ncols=3, figsize=(12, 4),\n",
    "                         sharex=True, sharey=True)\n",
    "\n",
    "ax = axes.ravel()\n",
    "\n",
    "z_val = 8\n",
    "ax[0].imshow(bin_labels[z_val,:,:], cmap=plt.cm.gray)\n",
    "ax[0].axis('off')\n",
    "ax[0].set_title('Bin', fontsize=20)\n",
    "\n",
    "ax[1].imshow(morph_labels[z_val,:,:], cmap=plt.cm.gray)\n",
    "ax[1].axis('off')\n",
    "ax[1].set_title('Contours', fontsize=20)\n",
    "\n",
    "ax[2].imshow(np.max(skeleton, axis=0), cmap=plt.cm.gray)\n",
    "ax[2].axis('off')\n",
    "ax[2].set_title('Skeleton', fontsize=20)\n",
    "\n",
    "fig.tight_layout()\n",
    "plt.show()"
   ]
  },
  {
   "cell_type": "code",
   "execution_count": null,
   "id": "b48a29f7",
   "metadata": {},
   "outputs": [],
   "source": [
    "import matplotlib.pyplot as plt\n",
    "import numpy as np\n",
    "from skimage import data\n",
    "from skimage.color import label2rgb\n",
    "from skimage.filters import sobel\n",
    "from skimage.morphology import dilation, disk\n",
    "from skimage.measure import label\n",
    "from skimage.segmentation import expand_labels, watershed\n",
    "\n",
    "coins = data.coins()\n",
    "\n",
    "# Make segmentation using edge-detection and watershed.\n",
    "edges = sobel(coins)\n",
    "\n",
    "# Identify some background and foreground pixels from the intensity values.\n",
    "# These pixels are used as seeds for watershed.\n",
    "markers = np.zeros_like(coins)\n",
    "foreground, background = 1, 2\n",
    "markers[coins < 30.0] = background\n",
    "markers[coins > 150.0] = foreground\n",
    "\n",
    "ws = watershed(edges, markers)\n",
    "seg1 = label(ws == foreground)\n",
    "\n",
    "# expanded = expand_labels(seg1, distance=10)\n",
    "expanded = dilation(seg1, disk(20))\n",
    "\n",
    "# Show the segmentations.\n",
    "fig, axes = plt.subplots(\n",
    "    nrows=1,\n",
    "    ncols=3,\n",
    "    figsize=(9, 5),\n",
    "    sharex=True,\n",
    "    sharey=True,\n",
    ")\n",
    "\n",
    "axes[0].imshow(coins, cmap=\"Greys_r\")\n",
    "axes[0].set_title(\"Original\")\n",
    "\n",
    "color1 = label2rgb(seg1, image=coins, bg_label=0)\n",
    "axes[1].imshow(color1)\n",
    "axes[1].set_title(\"Sobel+Watershed\")\n",
    "\n",
    "color2 = label2rgb(expanded, image=coins, bg_label=0)\n",
    "axes[2].imshow(color2)\n",
    "axes[2].set_title(\"Expanded labels\")\n",
    "\n",
    "for a in axes:\n",
    "    a.axis(\"off\")\n",
    "fig.tight_layout()\n",
    "plt.show()\n"
   ]
  },
  {
   "cell_type": "code",
   "execution_count": null,
   "id": "56f3e14b",
   "metadata": {},
   "outputs": [],
   "source": [
    "all([True, False])"
   ]
  },
  {
   "cell_type": "code",
   "execution_count": null,
   "id": "7659217d",
   "metadata": {},
   "outputs": [],
   "source": [
    "import py.slice_utils as slice_utils"
   ]
  },
  {
   "cell_type": "code",
   "execution_count": null,
   "id": "b5bf1e27",
   "metadata": {},
   "outputs": [],
   "source": [
    "zarr_shape = list(napari_utils.im_data[0].shape)\n",
    "zarr_shape.pop(napari_utils.dim_utils.dim_idx('C'))"
   ]
  },
  {
   "cell_type": "code",
   "execution_count": null,
   "id": "d7b71dee",
   "metadata": {},
   "outputs": [],
   "source": [
    "a = [[.1],[2],[34]]"
   ]
  },
  {
   "cell_type": "code",
   "execution_count": null,
   "id": "bd1b992d",
   "metadata": {},
   "outputs": [],
   "source": [
    "a[1].insert(0, 1)"
   ]
  },
  {
   "cell_type": "code",
   "execution_count": null,
   "id": "d648ce08",
   "metadata": {},
   "outputs": [],
   "source": [
    "a"
   ]
  },
  {
   "cell_type": "code",
   "execution_count": null,
   "id": "6be2f4d2",
   "metadata": {},
   "outputs": [],
   "source": [
    "slice_utils.create_slices(\n",
    "  zarr_shape, napari_utils.dim_utils, 1000, -1,\n",
    "  block_size_z = -1, overlap_z = -1)"
   ]
  },
  {
   "cell_type": "code",
   "execution_count": null,
   "id": "f984f16f",
   "metadata": {},
   "outputs": [],
   "source": [
    "napari_utils.show_labels_all(\n",
    "    show_labels = True,\n",
    "    show_points = False,\n",
    "    show_tracks = False,\n",
    "    show_branching = True,\n",
    "    branching_property = 'weight',\n",
    "    value_names = ['SHG.branch']\n",
    ")"
   ]
  },
  {
   "cell_type": "code",
   "execution_count": null,
   "id": "99f68987",
   "metadata": {},
   "outputs": [],
   "source": [
    "napari_utils.show_labels_all(\n",
    "    show_labels = False,\n",
    "    show_points = False,\n",
    "    show_tracks = True,\n",
    "    value_names = ['P14-CTDR']\n",
    ")"
   ]
  },
  {
   "cell_type": "code",
   "execution_count": null,
   "id": "8056458e",
   "metadata": {},
   "outputs": [],
   "source": [
    "# get timescale\n",
    "napari_utils.time_interval = 0.5"
   ]
  },
  {
   "cell_type": "code",
   "execution_count": null,
   "id": "d2c3b11e",
   "metadata": {},
   "outputs": [],
   "source": [
    "napari_utils.viewer.text_overlay.position = napa"
   ]
  },
  {
   "cell_type": "code",
   "execution_count": null,
   "id": "676e3976",
   "metadata": {},
   "outputs": [],
   "source": [
    "def update_slider(event):\n",
    "    # https://forum.image.sc/t/napari-how-add-a-text-label-time-always-in-the-same-spot-in-viewer/52932/5\n",
    "    time = napari_utils.viewer.dims.current_step[0]\n",
    "    napari_utils.viewer.text_overlay.text = str(datetime.timedelta(seconds = time * napari_utils.time_interval * 60))\n",
    "\n",
    "import datetime\n",
    "\n",
    "napari_utils.viewer.text_overlay.position\n",
    "napari_utils.viewer.text_overlay.visible = True\n",
    "napari_utils.viewer.text_overlay.font_size = 12\n",
    "napari_utils.viewer.text_overlay.color = 'white'\n",
    "napari_utils.viewer.dims.events.current_step.connect(update_slider)"
   ]
  },
  {
   "cell_type": "code",
   "execution_count": null,
   "id": "f6b6f4da",
   "metadata": {},
   "outputs": [],
   "source": [
    "napari_utils.im_scale"
   ]
  },
  {
   "cell_type": "code",
   "execution_count": null,
   "id": "4181f11d",
   "metadata": {},
   "outputs": [],
   "source": [
    "napari_utils.show_labels_all(\n",
    "    show_labels = True,\n",
    "    show_points = False,\n",
    "    show_tracks = False,\n",
    "    value_names = ['manual'],\n",
    "    as_np_array = True\n",
    ")"
   ]
  },
  {
   "cell_type": "code",
   "execution_count": null,
   "id": "a4795aa6",
   "metadata": {},
   "outputs": [],
   "source": [
    "# show populations\n",
    "napari_utils.show_pop_mapping('live')"
   ]
  },
  {
   "cell_type": "code",
   "execution_count": null,
   "id": "9dc9ea21",
   "metadata": {},
   "outputs": [],
   "source": [
    "# save image as tiff\n",
    "import py.tiff_utils as tiff_utils\n",
    "\n",
    "tiff_utils.save_as_tiff(\n",
    "    '/Volumes/USER_data/Dominik/Experiments/TEAGEN_SKIN/DATA/PuJo5p.tif',\n",
    "    napari_utils.im_data[0], napari_utils.dim_utils, imagej = True)"
   ]
  },
  {
   "cell_type": "code",
   "execution_count": null,
   "id": "11d94ed5",
   "metadata": {},
   "outputs": [],
   "source": [
    "print('here')"
   ]
  },
  {
   "cell_type": "code",
   "execution_count": null,
   "id": "845275bb",
   "metadata": {},
   "outputs": [],
   "source": [
    "napari_utils.im_scale"
   ]
  },
  {
   "cell_type": "code",
   "execution_count": null,
   "id": "a1f26ae6",
   "metadata": {},
   "outputs": [],
   "source": [
    "from napari_animation import AnimationWidget\n",
    "animation_widget = AnimationWidget(napari_utils.viewer)\n",
    "napari_utils.viewer.window.add_dock_widget(animation_widget, area='right')"
   ]
  },
  {
   "cell_type": "code",
   "execution_count": null,
   "id": "a6ab6541",
   "metadata": {},
   "outputs": [],
   "source": [
    "pop_type = 'live'\n",
    "pop_map = napari_utils.pop_utils.pop_map(napari_utils.task_dir, pop_type)\n",
    "pop_data = napari_utils.pop_utils.pop_data(napari_utils.task_dir, pop_type)"
   ]
  },
  {
   "cell_type": "code",
   "execution_count": null,
   "id": "971a2e9f",
   "metadata": {},
   "outputs": [],
   "source": [
    "pop_info = pop_map['5iaWSo']"
   ]
  },
  {
   "cell_type": "code",
   "execution_count": null,
   "id": "56530832",
   "metadata": {},
   "outputs": [],
   "source": [
    "pop_info"
   ]
  },
  {
   "cell_type": "code",
   "execution_count": null,
   "id": "bbf3c9e9",
   "metadata": {},
   "outputs": [],
   "source": []
  }
 ],
 "metadata": {
  "kernelspec": {
   "display_name": "Python 3 (ipykernel)",
   "language": "python",
   "name": "python3"
  },
  "language_info": {
   "codemirror_mode": {
    "name": "ipython",
    "version": 3
   },
   "file_extension": ".py",
   "mimetype": "text/x-python",
   "name": "python",
   "nbconvert_exporter": "python",
   "pygments_lexer": "ipython3",
   "version": "3.9.16"
  }
 },
 "nbformat": 4,
 "nbformat_minor": 5
}
