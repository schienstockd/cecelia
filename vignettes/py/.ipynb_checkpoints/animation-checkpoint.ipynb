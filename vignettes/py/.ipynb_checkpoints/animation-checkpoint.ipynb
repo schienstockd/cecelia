{
 "cells": [
  {
   "cell_type": "code",
   "execution_count": 1,
   "id": "a2fc902c",
   "metadata": {},
   "outputs": [],
   "source": [
    "import os\n",
    "import numpy as np\n",
    "# import working directory to check functions\n",
    "os.chdir('/Users/Dominik/R-workspace/cecelia/inst')\n",
    "\n",
    "# MacOS\n",
    "os.environ['KMP_DUPLICATE_LIB_OK'] = 'TRUE'\n",
    "\n",
    "# config\n",
    "import py.config_utils as cfg\n",
    "\n",
    "%load_ext autoreload\n",
    "%autoreload 2"
   ]
  },
  {
   "cell_type": "code",
   "execution_count": 2,
   "id": "8f75f4eb",
   "metadata": {},
   "outputs": [],
   "source": [
    "base_dir = '/Volumes/Analysis_SSD/Dominik/cecelia/projects/8BR53W/ANALYSIS/'\n",
    "zero_dir = os.path.join(base_dir, '0/yBPJeU/')\n",
    "#im_path = os.path.join(zero_dir, 'ccidImage.ome.zarr')\n",
    "im_path = os.path.join(zero_dir, 'ccidCorrected.zarr')\n",
    "#im_path = os.path.join(zero_dir, 'ccidSlidingWindow.zarr')\n",
    "version_num = 1\n",
    "task_dir = os.path.join(base_dir, str(version_num), 'yBPJeU')"
   ]
  },
  {
   "cell_type": "code",
   "execution_count": 3,
   "id": "68bceb7b",
   "metadata": {},
   "outputs": [
    {
     "name": "stderr",
     "output_type": "stream",
     "text": [
      "/Users/Dominik/R-workspace/cecelia/inst/py/shape_utils.py:6: FutureWarning: csv_to_layer_data was moved from napari.utils.io in v0.4.17. Import it from napari_builtins.io instead.\n",
      "  from napari.utils.io import csv_to_layer_data\n",
      "napari.manifest -> 'skan' could not be imported: Could not find file 'napari.yaml' in module 'skan'\n"
     ]
    }
   ],
   "source": [
    "from py.napari_utils import NapariUtils\n",
    "\n",
    "napari_utils = NapariUtils()\n",
    "napari_utils.open_viewer()\n",
    "napari_utils.task_dir = task_dir"
   ]
  },
  {
   "cell_type": "code",
   "execution_count": 4,
   "id": "75724ef2",
   "metadata": {},
   "outputs": [],
   "source": [
    "channel_names = [\n",
    "    'EB', 'T-A', 'T-B', 'AF', 'gen'\n",
    "    #'One'\n",
    "]"
   ]
  },
  {
   "cell_type": "code",
   "execution_count": 5,
   "id": "10e3e72e",
   "metadata": {},
   "outputs": [
    {
     "name": "stdout",
     "output_type": "stream",
     "text": [
      "[90, 4, 22, 520, 514]\n",
      "[514, 520, 22, 4, 90]\n",
      "['X', 'Y', 'Z', 'C', 'T']\n",
      "[90, 4, 22, 520, 514]\n"
     ]
    }
   ],
   "source": [
    "napari_utils.open_image(\n",
    "    im_path,\n",
    "    use_channel_axis = True, as_dask = True,\n",
    "    downsample_z = False, channel_names = channel_names,\n",
    "    show_3D = True, visible = [True, True, True, True, False],\n",
    "    channel_colormaps = ['gray', None, None, 'red', None]\n",
    ")"
   ]
  },
  {
   "cell_type": "code",
   "execution_count": 6,
   "id": "664c1d12",
   "metadata": {},
   "outputs": [],
   "source": [
    "value_name = 'OTI'"
   ]
  },
  {
   "cell_type": "code",
   "execution_count": null,
   "id": "9011e62c",
   "metadata": {},
   "outputs": [],
   "source": [
    "prop_df = napari_utils.label_props_utils.label_props_view(value_name = value_name)\\\n",
    "    .exclude_centroid_cols()\\\n",
    "    .exclude_obs_cols(['label'])\\\n",
    "    .as_df()\\\n",
    "    .dropna(subset=['track_id'])\\\n",
    "    .replace(False, 0)\\\n",
    "    .replace(True, 1)"
   ]
  },
  {
   "cell_type": "code",
   "execution_count": null,
   "id": "16668eab",
   "metadata": {},
   "outputs": [],
   "source": [
    "prop_df"
   ]
  },
  {
   "cell_type": "code",
   "execution_count": null,
   "id": "f41012a1",
   "metadata": {},
   "outputs": [],
   "source": [
    "i = 'live.cell.track.clusters.hmm_transitions_movement'"
   ]
  },
  {
   "cell_type": "code",
   "execution_count": null,
   "id": "0522603a",
   "metadata": {},
   "outputs": [],
   "source": [
    "prop_df[i]"
   ]
  },
  {
   "cell_type": "code",
   "execution_count": null,
   "id": "db576f5c",
   "metadata": {},
   "outputs": [],
   "source": [
    "import pandas as pd\n",
    "cat_columns = prop_df.select_dtypes(['category']).columns\n",
    "prop_df[cat_columns] = prop_df[cat_columns].apply(\n",
    "    lambda x: pd.to_numeric(x, errors = 'coerce'))"
   ]
  },
  {
   "cell_type": "code",
   "execution_count": null,
   "id": "a575cc7e",
   "metadata": {},
   "outputs": [],
   "source": [
    "np.unique(prop_df[i].isin([2]).values)"
   ]
  },
  {
   "cell_type": "code",
   "execution_count": null,
   "id": "38144b9d",
   "metadata": {},
   "outputs": [],
   "source": [
    "napari_utils.dim_utils.im_dim"
   ]
  },
  {
   "cell_type": "code",
   "execution_count": null,
   "id": "a97d4215",
   "metadata": {},
   "outputs": [],
   "source": [
    "napari_utils.viewer.window.resize(1300,1000)\n",
    "napari_utils.viewer.reset_view()"
   ]
  },
  {
   "cell_type": "code",
   "execution_count": 7,
   "id": "4181f11d",
   "metadata": {},
   "outputs": [
    {
     "name": "stdout",
     "output_type": "stream",
     "text": [
      "Index(['live.cell.hmm.transitions.movement',\n",
      "       'live.cell.track.clusters.hmm_transitions_movement',\n",
      "       'live.cell.track.clusters.hmm_movement'],\n",
      "      dtype='object')\n",
      "---\n",
      "[0, 1, 3, 4, 6]\n",
      "[False  True]\n",
      "1       5.0\n",
      "3       5.0\n",
      "4       5.0\n",
      "5       1.0\n",
      "6       1.0\n",
      "       ... \n",
      "3957    5.0\n",
      "3962    0.0\n",
      "3963    1.0\n",
      "3964    5.0\n",
      "3965    NaN\n",
      "Name: live.cell.track.clusters.hmm_transitions_movement, Length: 2396, dtype: float64\n",
      "[[  6.           0.           4.875      194.0625     453.33333333]\n",
      " [  7.           0.           7.0625     230.72836538 376.97596154]\n",
      " [  9.           0.           9.46117647  61.02352941 273.44470588]\n",
      " ...\n",
      " [196.          89.          14.4        314.14545455 304.47272727]\n",
      " [160.          89.          18.39097744 311.13909774 376.33458647]\n",
      " [148.          89.          18.26744186 512.18217054 430.70155039]]\n",
      "---\n",
      "[5]\n",
      "[False  True]\n",
      "1       5.0\n",
      "3       5.0\n",
      "4       5.0\n",
      "5       1.0\n",
      "6       1.0\n",
      "       ... \n",
      "3957    5.0\n",
      "3962    0.0\n",
      "3963    1.0\n",
      "3964    5.0\n",
      "3965    NaN\n",
      "Name: live.cell.track.clusters.hmm_transitions_movement, Length: 2396, dtype: float64\n",
      "[[  2.           0.           3.04484305 232.61434978 384.8161435 ]\n",
      " [  4.           0.           4.22916667  94.64583333 301.625     ]\n",
      " [  5.           0.           5.80794702 174.23178808 336.28145695]\n",
      " ...\n",
      " [194.          89.          17.22222222  69.59150327 127.28104575]\n",
      " [189.          89.          18.66197183 114.28873239 284.62676056]\n",
      " [ 19.          89.          18.64983165  96.35690236 457.86868687]]\n",
      "---\n",
      "[2]\n",
      "[False  True]\n",
      "1       5.0\n",
      "3       5.0\n",
      "4       5.0\n",
      "5       1.0\n",
      "6       1.0\n",
      "       ... \n",
      "3957    5.0\n",
      "3962    0.0\n",
      "3963    1.0\n",
      "3964    5.0\n",
      "3965    NaN\n",
      "Name: live.cell.track.clusters.hmm_transitions_movement, Length: 2396, dtype: float64\n",
      "[[ 21.           0.          12.73913043 315.72826087 355.39673913]\n",
      " [ 21.           1.          11.3231441  308.72925764 355.65938865]\n",
      " [ 21.           2.          10.92227979 299.65284974 353.63212435]\n",
      " [ 21.           3.          11.71856287 295.00598802 350.26946108]\n",
      " [ 21.           4.          11.55299539 291.         347.23041475]\n",
      " [ 21.           5.          12.23684211 286.01503759 346.14285714]\n",
      " [ 21.           6.          10.24539877 281.52760736 340.97546012]\n",
      " [ 21.           7.           8.03867403 279.35911602 337.33701657]\n",
      " [ 21.           8.           4.94298246 280.4122807  334.27631579]\n",
      " [ 21.           9.           2.546875   282.96875    336.15625   ]\n",
      " [ 84.          24.          12.28947368   3.89473684  18.08479532]\n",
      " [ 84.          25.           9.55801105   7.56629834  24.61325967]\n",
      " [ 84.          26.           8.6970684   12.88925081  28.67100977]\n",
      " [ 92.          27.           1.89705882  84.94852941 396.58088235]\n",
      " [ 84.          27.           7.01244813  13.95435685  31.19917012]\n",
      " [ 84.          28.           4.23674912  11.74558304  33.44522968]\n",
      " [ 92.          28.           3.37226277  89.15510949 394.38686131]\n",
      " [ 84.          29.           2.85770751   5.54545455  34.41897233]\n",
      " [ 92.          29.           3.7057101   89.08784773 391.33967789]\n",
      " [ 92.          30.           4.76647399  87.24508671 388.33872832]\n",
      " [ 92.          31.           5.37565582  85.23714586 385.52570829]\n",
      " [ 92.          32.           7.52022205  85.83029342 384.259318  ]\n",
      " [ 92.          33.           9.0554755   85.90778098 378.85086455]\n",
      " [ 92.          34.          11.06865465  89.33217753 374.80513176]\n",
      " [ 92.          35.          11.71890971  92.8483816  369.79982964]\n",
      " [ 92.          36.          10.98916968  91.55144404 362.46931408]\n",
      " [ 92.          37.          11.3741573   90.80337079 350.7741573 ]\n",
      " [ 92.          38.          12.11441648  92.49427918 340.85926773]\n",
      " [ 92.          39.          11.88077859  93.54014599 336.67396594]\n",
      " [ 92.          40.          10.41569767  89.42877907 335.42005814]\n",
      " [113.          41.           2.288      176.816      353.192     ]\n",
      " [ 92.          41.          11.87607759  92.00215517 329.96443966]\n",
      " [113.          42.           3.08658009 175.53246753 356.1991342 ]\n",
      " [ 92.          42.          14.02727273  93.14141414 325.11616162]\n",
      " [113.          43.           4.27480916 171.33206107 357.64885496]\n",
      " [ 92.          43.          14.73951049  89.3277972  321.85751748]\n",
      " [113.          44.           6.35990338 165.75603865 355.33091787]\n",
      " [ 92.          44.          16.10186916  83.90186916 315.53738318]\n",
      " [113.          45.           7.8806366  161.99469496 357.12732095]\n",
      " [ 92.          45.          15.91889219  82.60039565 310.95944609]\n",
      " [113.          46.           9.57995227 158.32458234 358.3699284 ]\n",
      " [ 92.          46.          16.46987952  82.05421687 306.91445783]\n",
      " [113.          47.          10.67184035 156.49445676 360.21064302]\n",
      " [ 92.          47.          17.05471956  78.01778386 301.52393981]\n",
      " [113.          48.          11.57667387 156.64146868 359.44492441]\n",
      " [ 92.          48.          17.07968127  77.01992032 300.2310757 ]\n",
      " [134.          49.           5.         193.4        272.60689655]\n",
      " [113.          49.          13.40764331 157.07165605 358.91878981]\n",
      " [113.          50.          14.97014925 157.11533243 358.82632293]\n",
      " [134.          51.           6.376      179.232      267.464     ]\n",
      " [113.          51.          16.67567568 155.37117117 361.21801802]\n",
      " [134.          52.           8.951417   167.48987854 268.45748988]\n",
      " [134.          53.          10.45226131 159.83417085 269.16080402]\n",
      " [134.          54.          14.26865672 156.96828358 270.32276119]\n",
      " [134.          55.          13.16666667 153.25       270.73958333]\n",
      " [134.          56.          14.27272727 142.7794971  278.76982592]\n",
      " [146.          56.          17.58860759  97.67088608 256.90295359]\n",
      " [134.          57.          11.878125   138.084375   285.909375  ]\n",
      " [146.          57.          18.20356234  97.22391858 253.05089059]\n",
      " [134.          58.          12.09508197 136.87213115 289.21639344]\n",
      " [146.          58.          18.08641975  99.59567901 245.10802469]\n",
      " [134.          59.          11.87959866 133.5451505  291.46822742]\n",
      " [146.          59.          18.32954545  97.70738636 238.53125   ]\n",
      " [134.          60.          11.38848921 131.74100719 292.46043165]\n",
      " [146.          60.          17.90866511  95.84074941 229.62529274]\n",
      " [134.          61.          10.11188811 127.55944056 292.52447552]\n",
      " [146.          61.          18.12461059  96.37383178 223.99065421]\n",
      " [134.          62.           7.70744681 125.15425532 298.4893617 ]\n",
      " [134.          63.           5.16853933 121.83520599 302.21722846]\n",
      " [146.          63.          17.76341463  99.97560976 215.07560976]\n",
      " [134.          64.           3.72483221 118.97315436 300.28187919]\n",
      " [146.          64.          17.39835729 103.99589322 209.91991786]\n",
      " [146.          65.          17.47833066 100.00802568 198.66452648]\n",
      " [146.          66.          15.97095436  96.99723375 192.09681881]\n",
      " [146.          68.          12.74603175 100.25044092 182.00529101]\n",
      " [146.          69.          10.24923077 103.38       181.78615385]\n",
      " [166.          70.          17.37763371  91.1458671  363.23662885]\n",
      " [166.          71.          17.42945736  87.52248062 364.70697674]\n",
      " [176.          72.           3.108      269.588      510.74      ]\n",
      " [166.          72.          16.72875     80.52       363.8425    ]\n",
      " [176.          73.           3.13944954 272.18899083 506.88990826]\n",
      " [166.          73.          17.09594096  75.9495695  362.01845018]\n",
      " [176.          74.           2.98604651 280.72325581 504.74883721]\n",
      " [166.          74.          16.58754028  68.83243824 358.19011815]\n",
      " [176.          75.           2.32083333 286.35416667 503.40416667]\n",
      " [187.          75.          10.42857143  44.75661376 263.15343915]\n",
      " [166.          75.          16.83830275  60.30848624 358.02752294]\n",
      " [176.          76.           2.0625     290.96875    500.5625    ]\n",
      " [187.          76.          10.58895706  44.23006135 263.45705521]\n",
      " [166.          76.          16.12512821  53.71076923 357.68615385]\n",
      " [176.          77.           1.71328671 302.15384615 496.86013986]\n",
      " [187.          77.          10.64542936  42.3767313  268.42936288]\n",
      " [166.          77.          16.1180881   46.83411434 356.09653233]\n",
      " [187.          78.           9.25680272  42.86564626 276.40136054]\n",
      " [166.          78.          15.32884903  41.97907324 357.47085202]\n",
      " [166.          79.          14.60082063  36.06799531 361.8898007 ]\n",
      " [187.          79.          11.41702128  45.70638298 286.80851064]\n",
      " [187.          80.          10.44648829  47.47324415 295.49498328]\n",
      " [166.          80.          15.15938865  29.6959607  362.76528384]\n",
      " [187.          81.           9.58351893  50.40311804 298.94877506]\n",
      " [166.          81.          14.49822821  22.38837704 362.72147413]\n",
      " [187.          82.           8.98979592  49.7329932  298.44217687]\n",
      " [166.          82.          13.49851279  18.89173111 362.23616895]\n",
      " [187.          83.           6.61597938  53.64690722 299.95876289]\n",
      " [166.          83.          12.68378812  13.84323167 363.0411985 ]\n",
      " [187.          84.           6.29970326  60.71513353 299.4272997 ]\n",
      " [166.          84.          13.18129219  10.36162006 359.38090646]\n",
      " [187.          85.           6.13793103  65.34482759 296.75862069]\n",
      " [187.          86.           3.46231156  67.6281407  294.56281407]\n",
      " [187.          87.           2.92        69.15       296.02      ]]\n"
     ]
    }
   ],
   "source": [
    "napari_utils.show_labels_all(\n",
    "    show_labels = False,\n",
    "    show_points = False,\n",
    "    show_tracks = True,\n",
    "    value_names = ['OTI'],\n",
    "    split_tracks = {\n",
    "        'live.cell.track.clusters.hmm_transitions_movement': {\n",
    "            'others': {'values': [0,1,3,4,6], 'colour': '#B3BCC2'},\n",
    "            'scanning': {'values': [5], 'colour': '#4682b4'},\n",
    "            'directed': {'values': [2], 'colour': '#AA1F5E'}\n",
    "        }\n",
    "    }\n",
    ")"
   ]
  },
  {
   "cell_type": "code",
   "execution_count": null,
   "id": "b5244cb6",
   "metadata": {},
   "outputs": [],
   "source": [
    "napari_utils.show_labels_all(\n",
    "    show_labels = False,\n",
    "    show_points = False,\n",
    "    show_tracks = True,\n",
    "    value_names = ['OTI']\n",
    ")"
   ]
  },
  {
   "cell_type": "code",
   "execution_count": null,
   "id": "25c2901b",
   "metadata": {},
   "outputs": [],
   "source": [
    "# helper function to dispaly the animation in the notebook\n",
    "from IPython.display import Video, display\n",
    "\n",
    "\n",
    "def jupyter_napari_animation(animation, **kwargs):\n",
    "    from pathlib import Path\n",
    "    from datetime import datetime\n",
    "\n",
    "    dir = Path.cwd() / \"media\"\n",
    "    dir.mkdir(exist_ok=True)\n",
    "    timestamp = datetime.now().strftime(\"%Y-%m-%d@%H-%M-%S\")\n",
    "    mov_name = \"napari_video\" + \"@\" + timestamp + \".mp4\"\n",
    "    path = dir / mov_name\n",
    "    animation.animate(path, **kwargs)\n",
    "    vid = Video(path, width=600, html_attributes=f\"controls autoplay loop\")\n",
    "    display(vid)\n",
    "\n"
   ]
  },
  {
   "cell_type": "code",
   "execution_count": null,
   "id": "ad2eebeb",
   "metadata": {},
   "outputs": [],
   "source": [
    "from napari_animation import Animation\n",
    "from napari_animation.easing import Easing"
   ]
  },
  {
   "cell_type": "code",
   "execution_count": null,
   "id": "83051db9",
   "metadata": {},
   "outputs": [],
   "source": [
    "movies_path = '/Users/Dominik/Downloads/movies'"
   ]
  },
  {
   "cell_type": "code",
   "execution_count": null,
   "id": "3708fe3c",
   "metadata": {},
   "outputs": [],
   "source": [
    "animation = Animation(napari_utils.viewer)\n",
    "\n",
    "# first\n",
    "dim_array = np.zeros_like(napari_utils.dim_utils.dim_vals(ignore_channel = True))\n",
    "t_val = napari_utils.dim_utils.dim_val('T')\n",
    "\n",
    "napari_utils.viewer.dims.current_step = list(dim_array)\n",
    "animation.capture_keyframe(steps = 0)\n",
    "\n",
    "# last\n",
    "dim_array[napari_utils.dim_utils.dim_idx('T', ignore_channel = True)] = t_val - 1\n",
    "\n",
    "napari_utils.viewer.dims.current_step = list(dim_array)\n",
    "animation.capture_keyframe(steps = t_val - 2)\n",
    "\n",
    "animation.animate(movies_path, canvas_only = True, fps = 10)"
   ]
  },
  {
   "cell_type": "code",
   "execution_count": null,
   "id": "a4795aa6",
   "metadata": {},
   "outputs": [],
   "source": [
    "# show populations\n",
    "napari_utils.show_pop_mapping('live')"
   ]
  },
  {
   "cell_type": "code",
   "execution_count": null,
   "id": "9dc9ea21",
   "metadata": {},
   "outputs": [],
   "source": [
    "# save image as tiff\n",
    "import py.tiff_utils as tiff_utils\n",
    "\n",
    "tiff_utils.save_as_tiff(\n",
    "    '/Volumes/USER_data/Dominik/Experiments/TEAGEN_SKIN/DATA/PuJo5p.tif',\n",
    "    napari_utils.im_data[0], napari_utils.dim_utils, imagej = True)"
   ]
  },
  {
   "cell_type": "code",
   "execution_count": null,
   "id": "11d94ed5",
   "metadata": {},
   "outputs": [],
   "source": [
    "print('here')"
   ]
  },
  {
   "cell_type": "code",
   "execution_count": null,
   "id": "845275bb",
   "metadata": {},
   "outputs": [],
   "source": [
    "napari_utils.im_scale"
   ]
  },
  {
   "cell_type": "code",
   "execution_count": null,
   "id": "a1f26ae6",
   "metadata": {},
   "outputs": [],
   "source": [
    "from napari_animation import AnimationWidget\n",
    "animation_widget = AnimationWidget(napari_utils.viewer)\n",
    "napari_utils.viewer.window.add_dock_widget(animation_widget, area='right')"
   ]
  },
  {
   "cell_type": "code",
   "execution_count": null,
   "id": "a6ab6541",
   "metadata": {},
   "outputs": [],
   "source": [
    "pop_type = 'live'\n",
    "pop_map = napari_utils.pop_utils.pop_map(napari_utils.task_dir, pop_type)\n",
    "pop_data = napari_utils.pop_utils.pop_data(napari_utils.task_dir, pop_type)"
   ]
  },
  {
   "cell_type": "code",
   "execution_count": null,
   "id": "971a2e9f",
   "metadata": {},
   "outputs": [],
   "source": [
    "pop_info = pop_map['5iaWSo']"
   ]
  },
  {
   "cell_type": "code",
   "execution_count": null,
   "id": "56530832",
   "metadata": {},
   "outputs": [],
   "source": [
    "pop_info"
   ]
  },
  {
   "cell_type": "code",
   "execution_count": null,
   "id": "bbf3c9e9",
   "metadata": {},
   "outputs": [],
   "source": []
  }
 ],
 "metadata": {
  "kernelspec": {
   "display_name": "Python 3 (ipykernel)",
   "language": "python",
   "name": "python3"
  },
  "language_info": {
   "codemirror_mode": {
    "name": "ipython",
    "version": 3
   },
   "file_extension": ".py",
   "mimetype": "text/x-python",
   "name": "python",
   "nbconvert_exporter": "python",
   "pygments_lexer": "ipython3",
   "version": "3.9.16"
  }
 },
 "nbformat": 4,
 "nbformat_minor": 5
}
