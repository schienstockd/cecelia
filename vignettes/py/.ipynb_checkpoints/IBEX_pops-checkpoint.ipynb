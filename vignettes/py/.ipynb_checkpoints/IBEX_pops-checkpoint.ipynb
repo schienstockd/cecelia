{
 "cells": [
  {
   "cell_type": "code",
   "execution_count": 1,
   "id": "a2fc902c",
   "metadata": {},
   "outputs": [],
   "source": [
    "import os\n",
    "import numpy as np\n",
    "# import working directory to check functions\n",
    "os.chdir('/Users/Dominik/R-workspace/cecelia/inst')\n",
    "\n",
    "# config\n",
    "import py.config_utils as cfg\n",
    "\n",
    "%load_ext autoreload\n",
    "%autoreload 2"
   ]
  },
  {
   "cell_type": "code",
   "execution_count": 2,
   "id": "8f75f4eb",
   "metadata": {},
   "outputs": [],
   "source": [
    "base_dir = '/Volumes/Analysis_SSD/Dominik/cecelia/projects/wEsnzt/ANALYSIS/'\n",
    "zero_dir = os.path.join(base_dir, '0/n22foC/')\n",
    "#im_path = os.path.join(zero_dir, 'ccidImage.ome.zarr')\n",
    "im_path = os.path.join(zero_dir, 'ccidRegistered.zarr')\n",
    "version_num = 1\n",
    "task_dir = os.path.join(base_dir, str(version_num), 'n22foC')"
   ]
  },
  {
   "cell_type": "code",
   "execution_count": 2,
   "id": "0da8a16c",
   "metadata": {},
   "outputs": [],
   "source": [
    "base_dir = '/Volumes/Analysis_SSD/Dominik/cecelia/projects/Wq59Z0/ANALYSIS/'\n",
    "zero_dir = os.path.join(base_dir, '0/f6YZeo/')\n",
    "im_path = os.path.join(zero_dir, 'ccidImage.ome.zarr')\n",
    "version_num = 1\n",
    "task_dir = os.path.join(base_dir, str(version_num), 'f6YZeo')"
   ]
  },
  {
   "cell_type": "code",
   "execution_count": 3,
   "id": "17cb2a7a",
   "metadata": {},
   "outputs": [],
   "source": [
    "import py.ome_xml_utils as ome_xml_utils\n",
    "from py.dim_utils import DimUtils\n",
    "from py.label_props_utils import LabelPropsUtils\n",
    "import py.zarr_utils as zarr_utils\n",
    "import pandas as pd"
   ]
  },
  {
   "cell_type": "code",
   "execution_count": 61,
   "id": "edc7d59c",
   "metadata": {},
   "outputs": [],
   "source": [
    "view = LabelPropsUtils(task_dir).label_props_view(value_name = 'default')"
   ]
  },
  {
   "cell_type": "code",
   "execution_count": 62,
   "id": "13896c2f",
   "metadata": {},
   "outputs": [
    {
     "data": {
      "text/plain": [
       "<py.label_props_view.LabelPropsView at 0x199549df0>"
      ]
     },
     "execution_count": 62,
     "metadata": {},
     "output_type": "execute_result"
    }
   ],
   "source": [
    "view.change_channel_names(['YAP', 'FRC', 'TUM', 'DAP', 'AF'])"
   ]
  },
  {
   "cell_type": "code",
   "execution_count": 63,
   "id": "a226b712",
   "metadata": {},
   "outputs": [
    {
     "data": {
      "text/plain": [
       "['bbox_min_z',\n",
       " 'bbox_min_y',\n",
       " 'bbox_min_x',\n",
       " 'bbox_max_z',\n",
       " 'bbox_max_y',\n",
       " 'bbox_max_x',\n",
       " 'YAP',\n",
       " 'FRC',\n",
       " 'TUM',\n",
       " 'DAP',\n",
       " 'AF',\n",
       " 'surface_area',\n",
       " 'volume',\n",
       " 'bbox_area',\n",
       " 'bbox_volume',\n",
       " 'convex_hull_area',\n",
       " 'convex_hull_volume',\n",
       " 'euler_number',\n",
       " 'extent',\n",
       " 'solidity',\n",
       " 'integral_mean_curvature',\n",
       " 'feret_diameter_max',\n",
       " 'equivalent_diameter',\n",
       " 'major_axis_length',\n",
       " 'minor_axis_length',\n",
       " 'interm_axis_length',\n",
       " 'ellipticity_oblate',\n",
       " 'ellipticity_prolate',\n",
       " 'ellipticity_interm_oblate',\n",
       " 'ellipticity_interm_prolate',\n",
       " 'surface_to_volume',\n",
       " 'compactness',\n",
       " 'sphericity',\n",
       " 'cyto_YAP',\n",
       " 'cyto_FRC',\n",
       " 'cyto_TUM',\n",
       " 'cyto_DAP',\n",
       " 'cyto_AF',\n",
       " 'nuc_YAP',\n",
       " 'nuc_FRC',\n",
       " 'nuc_TUM',\n",
       " 'nuc_DAP',\n",
       " 'nuc_AF']"
      ]
     },
     "execution_count": 63,
     "metadata": {},
     "output_type": "execute_result"
    }
   ],
   "source": [
    "view.col_names(data_type = 'vars')"
   ]
  },
  {
   "cell_type": "code",
   "execution_count": null,
   "id": "96788271",
   "metadata": {},
   "outputs": [],
   "source": [
    "from py.napari_utils import NapariUtils\n",
    "\n",
    "napari_utils = NapariUtils()\n",
    "napari_utils.viewer = None\n",
    "napari_utils.open_viewer()\n",
    "napari_utils.task_dir = task_dir"
   ]
  },
  {
   "cell_type": "code",
   "execution_count": null,
   "id": "75724ef2",
   "metadata": {},
   "outputs": [],
   "source": [
    "channel_names = [\n",
    "    #'BCL2','CD10','Hoechst 33342','CD20','CD3','Collagen IV','CD23','BCL6','CD138','IgD','CD31','CD21','CD163','HLA-DR','CD11c','CD1c','CD25','FOXP3','CD8','CD69','PD-1','CD4','CD38','SPARC','CD68','IRF4','ICOS','Ki-67','CD35','CXCL13','TCR Va7.2','CD44','CD106','a-SMA','Lyve-1','DC-SIGN','CD45','CLEC9a AF488'\n",
    "    'CD21','CD54','Hoechst','CD20','CD68','Glycophorin A','Fibrinogen','CD163','CD49a','CD138','CD15','HLA-DR','CD11c','Vimentin','CD4','CD31','Ki-67','CD3','CD8','SPARC','CD44','CD61','CD45','SMA','Lumican'\n",
    "]"
   ]
  },
  {
   "cell_type": "code",
   "execution_count": 26,
   "id": "06c6d78a",
   "metadata": {},
   "outputs": [],
   "source": [
    "im_res = 0.2840914\n",
    "\n",
    "im_slices = (\n",
    "    slice(None), slice(None), slice(None),\n",
    "    slice(round(925 / im_res), round(980 / im_res), 1),\n",
    "    slice(round(955 / im_res), round(1200 / im_res), 1)\n",
    ")\n",
    "stroma_slices = (\n",
    "    slice(None), slice(None),\n",
    "    slice(round(925 / im_res), round(980 / im_res), 1),\n",
    "    slice(round(955 / im_res), round(1200 / im_res), 1)\n",
    ")"
   ]
  },
  {
   "cell_type": "code",
   "execution_count": 27,
   "id": "10e3e72e",
   "metadata": {
    "scrolled": true
   },
   "outputs": [
    {
     "name": "stdout",
     "output_type": "stream",
     "text": [
      "[1, 25, 9, 6543, 12977]\n",
      "[12977, 6543, 9, 25, 1]\n",
      "['X', 'Y', 'Z', 'C', 'T']\n",
      "[1, 25, 9, 6543, 12977]\n"
     ]
    },
    {
     "ename": "RuntimeError",
     "evalue": "sequence argument must have length equal to input rank",
     "output_type": "error",
     "traceback": [
      "\u001b[0;31m---------------------------------------------------------------------------\u001b[0m",
      "\u001b[0;31mRuntimeError\u001b[0m                              Traceback (most recent call last)",
      "Input \u001b[0;32mIn [27]\u001b[0m, in \u001b[0;36m<cell line: 1>\u001b[0;34m()\u001b[0m\n\u001b[0;32m----> 1\u001b[0m \u001b[43mnapari_utils\u001b[49m\u001b[38;5;241;43m.\u001b[39;49m\u001b[43mopen_image\u001b[49m\u001b[43m(\u001b[49m\n\u001b[1;32m      2\u001b[0m \u001b[43m    \u001b[49m\u001b[43mim_path\u001b[49m\u001b[43m,\u001b[49m\n\u001b[1;32m      3\u001b[0m \u001b[43m    \u001b[49m\u001b[43muse_channel_axis\u001b[49m\u001b[43m \u001b[49m\u001b[38;5;241;43m=\u001b[39;49m\u001b[43m \u001b[49m\u001b[38;5;28;43;01mTrue\u001b[39;49;00m\u001b[43m,\u001b[49m\u001b[43m \u001b[49m\u001b[43mas_dask\u001b[49m\u001b[43m \u001b[49m\u001b[38;5;241;43m=\u001b[39;49m\u001b[43m \u001b[49m\u001b[38;5;28;43;01mTrue\u001b[39;49;00m\u001b[43m,\u001b[49m\n\u001b[1;32m      4\u001b[0m \u001b[43m    \u001b[49m\u001b[43mvisible\u001b[49m\u001b[43m \u001b[49m\u001b[38;5;241;43m=\u001b[39;49m\u001b[43m \u001b[49m\u001b[38;5;28;43;01mFalse\u001b[39;49;00m\u001b[43m,\u001b[49m\u001b[43m \u001b[49m\u001b[43mchannel_names\u001b[49m\u001b[43m \u001b[49m\u001b[38;5;241;43m=\u001b[39;49m\u001b[43m \u001b[49m\u001b[43mchannel_names\u001b[49m\u001b[43m,\u001b[49m\n\u001b[1;32m      5\u001b[0m \u001b[43m    \u001b[49m\u001b[43mmultiscales\u001b[49m\u001b[43m \u001b[49m\u001b[38;5;241;43m=\u001b[39;49m\u001b[43m \u001b[49m\u001b[38;5;241;43m1\u001b[39;49m\u001b[43m,\u001b[49m\u001b[43m \u001b[49m\u001b[43mshow_3D\u001b[49m\u001b[43m \u001b[49m\u001b[38;5;241;43m=\u001b[39;49m\u001b[43m \u001b[49m\u001b[38;5;28;43;01mTrue\u001b[39;49;00m\u001b[43m,\u001b[49m\u001b[43m \u001b[49m\u001b[43mslices\u001b[49m\u001b[43m \u001b[49m\u001b[38;5;241;43m=\u001b[39;49m\u001b[43m \u001b[49m\u001b[43mim_slices\u001b[49m\n\u001b[1;32m      6\u001b[0m \u001b[43m)\u001b[49m\n",
      "File \u001b[0;32m~/Desktop/DOHERTY/R-workspace/cecelia/inst/py/napari_utils.py:337\u001b[0m, in \u001b[0;36mNapariUtils.open_image\u001b[0;34m(self, im_path, use_channel_axis, channel_names, channel_colormaps, as_dask, show_3D, multiscales, compute_dask, contrast_limits, visible, squeeze, downsample_z, as_mip, slices)\u001b[0m\n\u001b[1;32m    335\u001b[0m \u001b[38;5;28;01mif\u001b[39;00m contrast_limits \u001b[38;5;129;01mis\u001b[39;00m \u001b[38;5;28;01mNone\u001b[39;00m \u001b[38;5;129;01mand\u001b[39;00m \u001b[38;5;129;01mnot\u001b[39;00m \u001b[38;5;28mself\u001b[39m\u001b[38;5;241m.\u001b[39mdim_utils\u001b[38;5;241m.\u001b[39mis_32_bit():\n\u001b[1;32m    336\u001b[0m   \u001b[38;5;28;01mfor\u001b[39;00m x \u001b[38;5;129;01min\u001b[39;00m \u001b[38;5;28mself\u001b[39m\u001b[38;5;241m.\u001b[39mviewer\u001b[38;5;241m.\u001b[39mlayers:\n\u001b[0;32m--> 337\u001b[0m     \u001b[43mx\u001b[49m\u001b[38;5;241;43m.\u001b[39;49m\u001b[43mreset_contrast_limits\u001b[49m\u001b[43m(\u001b[49m\u001b[43m)\u001b[49m\n\u001b[1;32m    339\u001b[0m \u001b[38;5;66;03m# show scalebar\u001b[39;00m\n\u001b[1;32m    340\u001b[0m \u001b[38;5;28mself\u001b[39m\u001b[38;5;241m.\u001b[39mviewer\u001b[38;5;241m.\u001b[39mscale_bar\u001b[38;5;241m.\u001b[39munit \u001b[38;5;241m=\u001b[39m \u001b[38;5;124m'\u001b[39m\u001b[38;5;124mum\u001b[39m\u001b[38;5;124m'\u001b[39m\n",
      "File \u001b[0;32m~/Library/r-miniconda/envs/r-cecelia-env/lib/python3.9/site-packages/napari/layers/intensity_mixin.py:41\u001b[0m, in \u001b[0;36mIntensityVisualizationMixin.reset_contrast_limits\u001b[0;34m(self, mode)\u001b[0m\n\u001b[1;32m     39\u001b[0m \u001b[38;5;124;03m\"\"\"Scale contrast limits to data range\"\"\"\u001b[39;00m\n\u001b[1;32m     40\u001b[0m mode \u001b[38;5;241m=\u001b[39m mode \u001b[38;5;129;01mor\u001b[39;00m \u001b[38;5;28mself\u001b[39m\u001b[38;5;241m.\u001b[39m_auto_contrast_source\n\u001b[0;32m---> 41\u001b[0m \u001b[38;5;28;43mself\u001b[39;49m\u001b[38;5;241;43m.\u001b[39;49m\u001b[43mcontrast_limits\u001b[49m \u001b[38;5;241m=\u001b[39m \u001b[38;5;28mself\u001b[39m\u001b[38;5;241m.\u001b[39m_calc_data_range(mode)\n",
      "File \u001b[0;32m~/Library/r-miniconda/envs/r-cecelia-env/lib/python3.9/site-packages/napari/layers/intensity_mixin.py:91\u001b[0m, in \u001b[0;36mIntensityVisualizationMixin.contrast_limits\u001b[0;34m(self, contrast_limits)\u001b[0m\n\u001b[1;32m     89\u001b[0m newrange[\u001b[38;5;241m1\u001b[39m] \u001b[38;5;241m=\u001b[39m \u001b[38;5;28mmax\u001b[39m(newrange[\u001b[38;5;241m1\u001b[39m], contrast_limits[\u001b[38;5;241m1\u001b[39m])\n\u001b[1;32m     90\u001b[0m \u001b[38;5;28mself\u001b[39m\u001b[38;5;241m.\u001b[39mcontrast_limits_range \u001b[38;5;241m=\u001b[39m newrange\n\u001b[0;32m---> 91\u001b[0m \u001b[38;5;28;43mself\u001b[39;49m\u001b[38;5;241;43m.\u001b[39;49m\u001b[43m_update_thumbnail\u001b[49m\u001b[43m(\u001b[49m\u001b[43m)\u001b[49m\n\u001b[1;32m     92\u001b[0m \u001b[38;5;28mself\u001b[39m\u001b[38;5;241m.\u001b[39mevents\u001b[38;5;241m.\u001b[39mcontrast_limits()\n",
      "File \u001b[0;32m~/Library/r-miniconda/envs/r-cecelia-env/lib/python3.9/site-packages/napari/layers/image/image.py:874\u001b[0m, in \u001b[0;36m_ImageBase._update_thumbnail\u001b[0;34m(self)\u001b[0m\n\u001b[1;32m    872\u001b[0m \u001b[38;5;28;01mwith\u001b[39;00m warnings\u001b[38;5;241m.\u001b[39mcatch_warnings():\n\u001b[1;32m    873\u001b[0m     warnings\u001b[38;5;241m.\u001b[39msimplefilter(\u001b[38;5;124m\"\u001b[39m\u001b[38;5;124mignore\u001b[39m\u001b[38;5;124m\"\u001b[39m)\n\u001b[0;32m--> 874\u001b[0m     downsampled \u001b[38;5;241m=\u001b[39m \u001b[43mndi\u001b[49m\u001b[38;5;241;43m.\u001b[39;49m\u001b[43mzoom\u001b[49m\u001b[43m(\u001b[49m\n\u001b[1;32m    875\u001b[0m \u001b[43m        \u001b[49m\u001b[43mimage\u001b[49m\u001b[43m,\u001b[49m\u001b[43m \u001b[49m\u001b[43mzoom_factor\u001b[49m\u001b[43m,\u001b[49m\u001b[43m \u001b[49m\u001b[43mprefilter\u001b[49m\u001b[38;5;241;43m=\u001b[39;49m\u001b[38;5;28;43;01mFalse\u001b[39;49;00m\u001b[43m,\u001b[49m\u001b[43m \u001b[49m\u001b[43morder\u001b[49m\u001b[38;5;241;43m=\u001b[39;49m\u001b[38;5;241;43m0\u001b[39;49m\n\u001b[1;32m    876\u001b[0m \u001b[43m    \u001b[49m\u001b[43m)\u001b[49m\n\u001b[1;32m    877\u001b[0m low, high \u001b[38;5;241m=\u001b[39m \u001b[38;5;28mself\u001b[39m\u001b[38;5;241m.\u001b[39mcontrast_limits\n\u001b[1;32m    878\u001b[0m downsampled \u001b[38;5;241m=\u001b[39m np\u001b[38;5;241m.\u001b[39mclip(downsampled, low, high)\n",
      "File \u001b[0;32m~/Library/r-miniconda/envs/r-cecelia-env/lib/python3.9/site-packages/scipy/ndimage/_interpolation.py:767\u001b[0m, in \u001b[0;36mzoom\u001b[0;34m(input, zoom, output, order, mode, cval, prefilter, grid_mode)\u001b[0m\n\u001b[1;32m    765\u001b[0m \u001b[38;5;28;01mif\u001b[39;00m \u001b[38;5;28minput\u001b[39m\u001b[38;5;241m.\u001b[39mndim \u001b[38;5;241m<\u001b[39m \u001b[38;5;241m1\u001b[39m:\n\u001b[1;32m    766\u001b[0m     \u001b[38;5;28;01mraise\u001b[39;00m \u001b[38;5;167;01mRuntimeError\u001b[39;00m(\u001b[38;5;124m'\u001b[39m\u001b[38;5;124minput and output rank must be > 0\u001b[39m\u001b[38;5;124m'\u001b[39m)\n\u001b[0;32m--> 767\u001b[0m zoom \u001b[38;5;241m=\u001b[39m \u001b[43m_ni_support\u001b[49m\u001b[38;5;241;43m.\u001b[39;49m\u001b[43m_normalize_sequence\u001b[49m\u001b[43m(\u001b[49m\u001b[43mzoom\u001b[49m\u001b[43m,\u001b[49m\u001b[43m \u001b[49m\u001b[38;5;28;43minput\u001b[39;49m\u001b[38;5;241;43m.\u001b[39;49m\u001b[43mndim\u001b[49m\u001b[43m)\u001b[49m\n\u001b[1;32m    768\u001b[0m output_shape \u001b[38;5;241m=\u001b[39m \u001b[38;5;28mtuple\u001b[39m(\n\u001b[1;32m    769\u001b[0m         [\u001b[38;5;28mint\u001b[39m(\u001b[38;5;28mround\u001b[39m(ii \u001b[38;5;241m*\u001b[39m jj)) \u001b[38;5;28;01mfor\u001b[39;00m ii, jj \u001b[38;5;129;01min\u001b[39;00m \u001b[38;5;28mzip\u001b[39m(\u001b[38;5;28minput\u001b[39m\u001b[38;5;241m.\u001b[39mshape, zoom)])\n\u001b[1;32m    770\u001b[0m complex_output \u001b[38;5;241m=\u001b[39m numpy\u001b[38;5;241m.\u001b[39miscomplexobj(\u001b[38;5;28minput\u001b[39m)\n",
      "File \u001b[0;32m~/Library/r-miniconda/envs/r-cecelia-env/lib/python3.9/site-packages/scipy/ndimage/_ni_support.py:67\u001b[0m, in \u001b[0;36m_normalize_sequence\u001b[0;34m(input, rank)\u001b[0m\n\u001b[1;32m     65\u001b[0m     \u001b[38;5;28;01mif\u001b[39;00m \u001b[38;5;28mlen\u001b[39m(normalized) \u001b[38;5;241m!=\u001b[39m rank:\n\u001b[1;32m     66\u001b[0m         err \u001b[38;5;241m=\u001b[39m \u001b[38;5;124m\"\u001b[39m\u001b[38;5;124msequence argument must have length equal to input rank\u001b[39m\u001b[38;5;124m\"\u001b[39m\n\u001b[0;32m---> 67\u001b[0m         \u001b[38;5;28;01mraise\u001b[39;00m \u001b[38;5;167;01mRuntimeError\u001b[39;00m(err)\n\u001b[1;32m     68\u001b[0m \u001b[38;5;28;01melse\u001b[39;00m:\n\u001b[1;32m     69\u001b[0m     normalized \u001b[38;5;241m=\u001b[39m [\u001b[38;5;28minput\u001b[39m] \u001b[38;5;241m*\u001b[39m rank\n",
      "\u001b[0;31mRuntimeError\u001b[0m: sequence argument must have length equal to input rank"
     ]
    }
   ],
   "source": [
    "napari_utils.open_image(\n",
    "    im_path,\n",
    "    use_channel_axis = True, as_dask = True,\n",
    "    visible = False, channel_names = channel_names,\n",
    "    multiscales = 1, show_3D = True, slices = im_slices\n",
    ")"
   ]
  },
  {
   "cell_type": "code",
   "execution_count": null,
   "id": "a6ab6541",
   "metadata": {},
   "outputs": [],
   "source": [
    "napari_utils.show_labels_all(\n",
    "    show_labels = True,\n",
    "    show_points = False,\n",
    "    value_names = ['stroma']\n",
    ")"
   ]
  },
  {
   "cell_type": "code",
   "execution_count": 28,
   "id": "fd636551",
   "metadata": {},
   "outputs": [
    {
     "name": "stdout",
     "output_type": "stream",
     "text": [
      "{'base': '/Volumes/Analysis_SSD/Dominik/cecelia/projects/wEsnzt/ANALYSIS/1/n22foC/labels/stroma.branch.zarr'}\n",
      "(1, 9, 6543, 12977)\n"
     ]
    },
    {
     "name": "stderr",
     "output_type": "stream",
     "text": [
      "/Users/schiend/Library/r-miniconda/envs/r-cecelia-env/lib/python3.9/site-packages/napari/layers/labels/labels.py:927: UserWarning: Contours are not displayed during 3D rendering\n",
      "  warnings.warn(\n",
      "/Users/schiend/Library/r-miniconda/envs/r-cecelia-env/lib/python3.9/site-packages/napari/layers/labels/labels.py:927: UserWarning: Contours are not displayed during 3D rendering\n",
      "  warnings.warn(\n",
      "/Users/schiend/Library/r-miniconda/envs/r-cecelia-env/lib/python3.9/site-packages/napari/layers/labels/labels.py:927: UserWarning: Contours are not displayed during 3D rendering\n",
      "  warnings.warn(\n"
     ]
    }
   ],
   "source": [
    "napari_utils.show_labels_all(\n",
    "    show_labels = True,\n",
    "    show_points = False,\n",
    "    value_names = ['stroma.branch'],\n",
    "    show_branching = True,\n",
    "    slices = stroma_slices\n",
    ")"
   ]
  },
  {
   "cell_type": "code",
   "execution_count": 11,
   "id": "4181f11d",
   "metadata": {},
   "outputs": [
    {
     "name": "stdout",
     "output_type": "stream",
     "text": [
      "{'base': '/Volumes/Analysis_SSD/Dominik/cecelia/projects/wEsnzt/ANALYSIS/1/n22foC/labels/default.zarr', 'cyto': '/Volumes/Analysis_SSD/Dominik/cecelia/projects/wEsnzt/ANALYSIS/1/n22foC/labels/default_cyto.zarr', 'nuc': '/Volumes/Analysis_SSD/Dominik/cecelia/projects/wEsnzt/ANALYSIS/1/n22foC/labels/default_nuc.zarr'}\n"
     ]
    }
   ],
   "source": [
    "napari_utils.show_labels_all(\n",
    "    show_labels = True,\n",
    "    show_points = False,\n",
    "    value_names = ['default'],\n",
    "    label_suffixes = {'default': ['cyto', 'nuc']}\n",
    ")"
   ]
  },
  {
   "cell_type": "code",
   "execution_count": null,
   "id": "664cbe50",
   "metadata": {},
   "outputs": [],
   "source": [
    "im_data, _ = zarr_utils.open_zarr(im_path, as_dask = True)\n",
    "omexml = ome_xml_utils.parse_meta(im_path)\n",
    "dim_utils = DimUtils(omexml)\n",
    "dim_utils.calc_image_dimensions(im_data[0].shape)"
   ]
  },
  {
   "cell_type": "code",
   "execution_count": null,
   "id": "9bf5c33f",
   "metadata": {},
   "outputs": [],
   "source": [
    "branch_path = os.path.join(task_dir, 'labels', 'stroma.branch.zarr')\n",
    "labels_path = os.path.join(task_dir, 'labels', 'default.zarr')"
   ]
  },
  {
   "cell_type": "code",
   "execution_count": null,
   "id": "7a1c9c5b",
   "metadata": {},
   "outputs": [],
   "source": [
    "# assign branching to cell labels\n",
    "branch_data, _ = zarr_utils.open_labels_as_zarr(branch_path)\n",
    "labels_data, _ = zarr_utils.open_labels_as_zarr(labels_path)"
   ]
  },
  {
   "cell_type": "code",
   "execution_count": null,
   "id": "bce39db9",
   "metadata": {},
   "outputs": [],
   "source": [
    "# TODO this is not good\n",
    "rgb = np.dstack(tuple([\n",
    "    np.amax(skeleton_labels[stroma_slices] * np.isin(\n",
    "    skeleton_labels[stroma_slices], paths_table.loc[paths_table['branch-type'] == x]['path-id'].values),\n",
    "            axis = 0)\n",
    "    for x in range(0, 3)\n",
    "]))"
   ]
  },
  {
   "cell_type": "code",
   "execution_count": null,
   "id": "2641f9d7",
   "metadata": {},
   "outputs": [],
   "source": [
    "# TODO fortify data?\n",
    "# you could use slicing here for large images\n",
    "branch_array = zarr_utils.fortify(branch_data[0])"
   ]
  },
  {
   "cell_type": "code",
   "execution_count": null,
   "id": "55ee96f5",
   "metadata": {},
   "outputs": [],
   "source": [
    "# get branch data\n",
    "branch_props = LabelPropsUtils(task_dir)\\\n",
    "    .label_props_view(value_name = 'stroma.branch')\\\n",
    "    .view_cols(['label', 'branch-type'])\\\n",
    "    .as_df()"
   ]
  },
  {
   "cell_type": "code",
   "execution_count": null,
   "id": "795eb076",
   "metadata": {},
   "outputs": [],
   "source": [
    "value_name = 'stroma.branch'\n",
    "type_counts = dict()\n",
    "\n",
    "# TODO there is probably a better way to do this\n",
    "for i in list(branch_props['branch-type'].unique()):\n",
    "    print(f'> get {i}')\n",
    "    \n",
    "    type_labels = branch_props.loc[branch_props['branch-type'] == i]['label'].values\n",
    "    type_idx = np.isin(branch_array, type_labels)\n",
    "    \n",
    "    # get labels for branch type\n",
    "    type_data = labels_data[0] * type_idx\n",
    "    \n",
    "    # get value counts for labels\n",
    "    type_counts[f'{value_name}_type_{i}'] = np.unique(type_data, return_counts = True)"
   ]
  },
  {
   "cell_type": "code",
   "execution_count": null,
   "id": "9749949b",
   "metadata": {},
   "outputs": [],
   "source": [
    "# convert counts to dataframe\n",
    "type_count_dfs = [\n",
    "    pd.DataFrame(np.stack(x).T, columns = ['label', i]) for i, x in type_counts.items()]"
   ]
  },
  {
   "cell_type": "code",
   "execution_count": null,
   "id": "d4be0e88",
   "metadata": {},
   "outputs": [],
   "source": [
    "# https://www.statology.org/pandas-merge-multiple-dataframes/\n",
    "from functools import reduce\n",
    "\n",
    "# merge\n",
    "type_count_df = reduce(lambda left,right: pd.merge(\n",
    "    left, right, on = ['label'], how = 'outer'), type_count_dfs)"
   ]
  },
  {
   "cell_type": "code",
   "execution_count": null,
   "id": "b557cdaa",
   "metadata": {},
   "outputs": [],
   "source": [
    "# get labels\n",
    "labels_ids = LabelPropsUtils(task_dir)\\\n",
    "    .label_props_view(value_name = 'default')\\\n",
    "    .view_label_col()\\\n",
    "    .values_obs()"
   ]
  },
  {
   "cell_type": "code",
   "execution_count": null,
   "id": "f4efc3e4",
   "metadata": {},
   "outputs": [],
   "source": [
    "# merge counts to labels\n",
    "merged_branching = labels_ids.join(type_count_df.set_index('label'), on = 'label')"
   ]
  },
  {
   "cell_type": "code",
   "execution_count": null,
   "id": "8b4d624a",
   "metadata": {},
   "outputs": [],
   "source": [
    "merged_branching.fillna(0, inplace = True)"
   ]
  },
  {
   "cell_type": "code",
   "execution_count": null,
   "id": "b4452496",
   "metadata": {},
   "outputs": [],
   "source": [
    "# convert to anndata spatial\n",
    "label_view = LabelPropsUtils(task_dir).label_props_view(value_name = 'stroma.branch')"
   ]
  },
  {
   "cell_type": "code",
   "execution_count": null,
   "id": "54e0e4d8",
   "metadata": {},
   "outputs": [],
   "source": [
    "label_view.adata.X[:, label_view.adata.var_names.get_loc('image-coord-dst-0')]"
   ]
  },
  {
   "cell_type": "code",
   "execution_count": null,
   "id": "6284ba2c",
   "metadata": {},
   "outputs": [],
   "source": [
    "dim_utils.im_scale(['z', 'x', 'y'])"
   ]
  },
  {
   "cell_type": "code",
   "execution_count": null,
   "id": "4400317a",
   "metadata": {},
   "outputs": [],
   "source": [
    "label_view.adata.X[:, label_view.adata.var_names.get_loc('coord-dst-0')]"
   ]
  },
  {
   "cell_type": "code",
   "execution_count": null,
   "id": "d370f384",
   "metadata": {},
   "outputs": [],
   "source": [
    "label_view.adata.var_names"
   ]
  },
  {
   "cell_type": "code",
   "execution_count": null,
   "id": "d5c144e1",
   "metadata": {},
   "outputs": [],
   "source": [
    "label_view.close()"
   ]
  },
  {
   "cell_type": "code",
   "execution_count": null,
   "id": "508341d9",
   "metadata": {},
   "outputs": [],
   "source": [
    "# locations are ZYX\n",
    "min_pos_idx = [label_view.adata.var_names.get_loc(i) for i in label_view.adata.var_names if i.startswith('image-coord-src-')]\n",
    "max_pos_idx = [label_view.adata.var_names.get_loc(i) for i in label_view.adata.var_names if i.startswith('image-coord-dst-')]"
   ]
  },
  {
   "cell_type": "code",
   "execution_count": null,
   "id": "c5d752ee",
   "metadata": {},
   "outputs": [],
   "source": [
    "min_pos_idx"
   ]
  },
  {
   "cell_type": "code",
   "execution_count": null,
   "id": "6d0b7c9a",
   "metadata": {},
   "outputs": [],
   "source": [
    "# create positions\n",
    "# locations are ZYX\n",
    "min_pos_idx = [label_view.adata.var_names.get_loc(i)\n",
    "    for i in label_view.adata.var_names if i.startswith('image-coord-src-')]\n",
    "max_pos_idx = [label_view.adata.var_names.get_loc(i)\n",
    "    for i in label_view.adata.var_names if i.startswith('image-coord-dst-')]"
   ]
  },
  {
   "cell_type": "code",
   "execution_count": null,
   "id": "a2838d21",
   "metadata": {},
   "outputs": [],
   "source": [
    "# get centre for coords\n",
    "# https://stackoverflow.com/a/18461943\n",
    "label_view.adata.obsm = {\n",
    "    'spatial': np.mean(\n",
    "          np.array([label_view.adata.X[:, min_pos_idx] * dim_utils.im_scale(['z', 'x', 'y']),\n",
    "                    label_view.adata.X[:, max_pos_idx] * dim_utils.im_scale(['z', 'x', 'y'])]),\n",
    "          axis=0)}\n",
    "\n",
    "# create column identifier\n",
    "label_view.adata.uns = {\n",
    "  'spatial_cols': np.array(['centroid_z', 'centroid_y', 'centroid_x']),\n",
    "  # 'spatial_neighbors': {\n",
    "  #     'connectivities_key': 'spatial_connectivities',\n",
    "  #     'distances_key': 'spatial_distances'\n",
    "  # }\n",
    "}"
   ]
  },
  {
   "cell_type": "code",
   "execution_count": null,
   "id": "a475a895",
   "metadata": {},
   "outputs": [],
   "source": [
    "label_view.adata.obsm['spatial']"
   ]
  },
  {
   "cell_type": "code",
   "execution_count": null,
   "id": "626595ad",
   "metadata": {},
   "outputs": [],
   "source": [
    "label_view.save()"
   ]
  },
  {
   "cell_type": "code",
   "execution_count": null,
   "id": "753e3aa3",
   "metadata": {},
   "outputs": [],
   "source": [
    "adata.uns = {\n",
    "    'spatial_cols': np.array(['centroid_z', 'centroid_y', 'centroid_x'])\n",
    "}"
   ]
  },
  {
   "cell_type": "code",
   "execution_count": null,
   "id": "2f339321",
   "metadata": {},
   "outputs": [],
   "source": [
    "# get connections\n",
    "label_view.save()"
   ]
  },
  {
   "cell_type": "code",
   "execution_count": null,
   "id": "0d36729e",
   "metadata": {},
   "outputs": [],
   "source": [
    "label_view = LabelPropsUtils(task_dir).label_props_view(value_name = 'default.sq')\n",
    "spatial_adata = label_view.as_adata()\n",
    "label_view.close()"
   ]
  },
  {
   "cell_type": "code",
   "execution_count": null,
   "id": "248a42c7",
   "metadata": {},
   "outputs": [],
   "source": [
    "spatial_adata.uns['spatial_neighbors']"
   ]
  },
  {
   "cell_type": "code",
   "execution_count": null,
   "id": "5b991194",
   "metadata": {},
   "outputs": [],
   "source": [
    "spatial_adata"
   ]
  },
  {
   "cell_type": "code",
   "execution_count": null,
   "id": "8ac79167",
   "metadata": {},
   "outputs": [],
   "source": [
    "spatial_adata.uns['spatial_cols']"
   ]
  },
  {
   "cell_type": "code",
   "execution_count": null,
   "id": "2d36e509",
   "metadata": {},
   "outputs": [],
   "source": [
    "spatial_adata.obsp['spatial_connectivities'].toarray().max()"
   ]
  },
  {
   "cell_type": "code",
   "execution_count": null,
   "id": "9bfcaf96",
   "metadata": {},
   "outputs": [],
   "source": [
    "# create dict\n",
    "merged_dict = {\n",
    "    i: merged_branching[i] for i in merged_branching.columns[merged_branching.columns != 'label']}\n",
    "\n",
    "# add to obs and save\n",
    "LabelPropsUtils(task_dir)\\\n",
    "    .label_props_view(value_name = 'default')\\\n",
    "    .add_obs(merged_dict)\\\n",
    "    .save()"
   ]
  },
  {
   "cell_type": "code",
   "execution_count": null,
   "id": "a5370243",
   "metadata": {},
   "outputs": [],
   "source": [
    "im_data[0].shape"
   ]
  },
  {
   "cell_type": "code",
   "execution_count": null,
   "id": "75db6b88",
   "metadata": {},
   "outputs": [],
   "source": [
    "# analyse stroma network\n",
    "stroma_data, _ = zarr_utils.open_labels_as_zarr(\n",
    "    '/Volumes/Analysis_SSD/Dominik/cecelia/projects/wEsnzt/ANALYSIS/1/n22foC/labels/stroma.zarr')"
   ]
  },
  {
   "cell_type": "code",
   "execution_count": null,
   "id": "1bbb0004",
   "metadata": {},
   "outputs": [],
   "source": [
    "from skimage.morphology import skeletonize\n",
    "import skan"
   ]
  },
  {
   "cell_type": "code",
   "execution_count": null,
   "id": "8d9179fc",
   "metadata": {},
   "outputs": [],
   "source": [
    "binary_skeleton = skeletonize(\n",
    "    (np.squeeze(stroma_data[0]) > 0).astype(np.uint8))\n",
    "skeleton = skan.Skeleton(binary_skeleton)"
   ]
  },
  {
   "cell_type": "code",
   "execution_count": null,
   "id": "78b6e3d5",
   "metadata": {},
   "outputs": [],
   "source": [
    "all_paths = [\n",
    "    skeleton.path_coordinates(i) for i in range(skeleton.n_paths)]"
   ]
  },
  {
   "cell_type": "code",
   "execution_count": null,
   "id": "57833476",
   "metadata": {},
   "outputs": [],
   "source": [
    "all_paths"
   ]
  },
  {
   "cell_type": "code",
   "execution_count": null,
   "id": "cdeeba59",
   "metadata": {},
   "outputs": [],
   "source": [
    "paths_table.columns"
   ]
  },
  {
   "cell_type": "code",
   "execution_count": null,
   "id": "7626caa8",
   "metadata": {},
   "outputs": [],
   "source": [
    "paths_table = skan.summarize(skeleton)"
   ]
  },
  {
   "cell_type": "code",
   "execution_count": null,
   "id": "5093f985",
   "metadata": {},
   "outputs": [],
   "source": [
    "paths_table['label'] = np.arange(skeleton.n_paths)"
   ]
  },
  {
   "cell_type": "code",
   "execution_count": null,
   "id": "ada86a45",
   "metadata": {},
   "outputs": [],
   "source": [
    "paths_table['random-path-id'] = np.random.default_rng().permutation(skeleton.n_paths)"
   ]
  },
  {
   "cell_type": "code",
   "execution_count": null,
   "id": "b37ccfa1",
   "metadata": {},
   "outputs": [],
   "source": [
    "paths_table.to_csv('/Volumes/USER_data/Dominik/Experiments/IBEX/CECELIA/stroma/n22foC_branching.csv')"
   ]
  },
  {
   "cell_type": "code",
   "execution_count": null,
   "id": "a946adb8",
   "metadata": {},
   "outputs": [],
   "source": [
    "# save table\n",
    "from py.label_props_utils import LabelPropsUtils\n",
    "\n",
    "task_dir = '/Volumes/USER_data/Dominik/Experiments/IBEX/CECELIA/stroma/'\n",
    "branching_name = 'stroma_branching'\n",
    "\n",
    "LabelPropsUtils(task_dir, cfg.value_dir(branching_name, 'labelProps'))\\\n",
    "    .label_props(\n",
    "      paths_table,\n",
    "      save = True,\n",
    "      obs_cols = [\n",
    "        'skeleton-id', 'node-id-src', 'node-id-dst', 'branch-type'\n",
    "        ]\n",
    "      )"
   ]
  },
  {
   "cell_type": "code",
   "execution_count": null,
   "id": "bfc6c3c3",
   "metadata": {},
   "outputs": [],
   "source": []
  },
  {
   "cell_type": "code",
   "execution_count": null,
   "id": "b73755d4",
   "metadata": {},
   "outputs": [],
   "source": [
    "# save labels\n",
    "zarr_utils.create_multiscales(\n",
    "    skimage.morphology.dilation(np.asarray(skeleton), skimage.morphology.ball(1)),\n",
    "    '/Volumes/USER_data/Dominik/Experiments/IBEX/CECELIA/stroma/skeleton.zarr',\n",
    "    dim_utils = napari_utils.dim_utils,\n",
    "    nscales = len(napari_utils.im_data),\n",
    "    keyword = 'labels',\n",
    "    ignore_channel = True,\n",
    "    reference_zarr = stroma_data[0]\n",
    ")"
   ]
  },
  {
   "cell_type": "code",
   "execution_count": null,
   "id": "51402e48",
   "metadata": {},
   "outputs": [],
   "source": [
    "os.path.join(branching_name, 'data')"
   ]
  },
  {
   "cell_type": "code",
   "execution_count": null,
   "id": "d49c9035",
   "metadata": {},
   "outputs": [],
   "source": [
    "import skimage.morphology"
   ]
  },
  {
   "cell_type": "code",
   "execution_count": null,
   "id": "f8328872",
   "metadata": {},
   "outputs": [],
   "source": [
    "skeleton_labels = skimage.morphology.dilation(np.asarray(skeleton), skimage.morphology.ball(1))"
   ]
  },
  {
   "cell_type": "code",
   "execution_count": null,
   "id": "a77d8036",
   "metadata": {},
   "outputs": [],
   "source": [
    "skeleton_path = os.path.join(task_dir, 'labels/stroma.branch.zarr')"
   ]
  },
  {
   "cell_type": "code",
   "execution_count": null,
   "id": "21b1560c",
   "metadata": {},
   "outputs": [],
   "source": [
    "nscales = len(stroma_data)"
   ]
  },
  {
   "cell_type": "code",
   "execution_count": null,
   "id": "a7145ea9",
   "metadata": {},
   "outputs": [],
   "source": [
    "import zarr"
   ]
  },
  {
   "cell_type": "code",
   "execution_count": null,
   "id": "c4ed2a05",
   "metadata": {},
   "outputs": [],
   "source": [
    "skeleton_store = zarr.open(\n",
    "    skeleton_path,\n",
    "    mode = 'w',\n",
    "    shape = stroma_data[0].shape,\n",
    "    chunks = stroma_data[0].chunks,\n",
    "    dtype = np.uint32)"
   ]
  },
  {
   "cell_type": "code",
   "execution_count": null,
   "id": "5be5afc6",
   "metadata": {},
   "outputs": [],
   "source": [
    "skeleton_store[:] = np.expand_dims(skeleton_labels, axis = 0)"
   ]
  },
  {
   "cell_type": "code",
   "execution_count": null,
   "id": "51131090",
   "metadata": {},
   "outputs": [],
   "source": [
    "multiscales_file_path = skeleton_path + '.multiscales'"
   ]
  },
  {
   "cell_type": "code",
   "execution_count": null,
   "id": "08b7f0f6",
   "metadata": {},
   "outputs": [],
   "source": [
    "napari_utils.dim_utils.dim_idx('X', ignore_channel = True)"
   ]
  },
  {
   "cell_type": "code",
   "execution_count": null,
   "id": "811984dd",
   "metadata": {},
   "outputs": [],
   "source": [
    "skeleton_store.shape"
   ]
  },
  {
   "cell_type": "code",
   "execution_count": null,
   "id": "8aa0b383",
   "metadata": {},
   "outputs": [],
   "source": [
    "zarr_utils.create_multiscales(\n",
    "    skeleton_store, multiscales_file_path,\n",
    "    dim_utils = napari_utils.dim_utils,\n",
    "    nscales = nscales,\n",
    "    keyword = 'labels',\n",
    "    ignore_channel = True\n",
    ")"
   ]
  },
  {
   "cell_type": "code",
   "execution_count": null,
   "id": "9568a095",
   "metadata": {},
   "outputs": [],
   "source": [
    "skeleton_layer = napari_utils.viewer.add_labels(\n",
    "    np.expand_dims(skeleton_labels, axis = napari_utils.dim_utils.dim_idx('T')),\n",
    "    properties = paths_table,\n",
    "    opacity = 1,\n",
    "    name = 'branching',\n",
    "    scale = napari_utils.im_scale\n",
    ")"
   ]
  },
  {
   "cell_type": "code",
   "execution_count": null,
   "id": "dfcf8d77",
   "metadata": {},
   "outputs": [],
   "source": [
    "# get branching distance\n",
    "#percentile = 99.8\n",
    "percentile = 100\n",
    "chnl_scale = 255\n",
    "#branching_values = paths_table['branch-distance'].values\n",
    "branching_values = paths_table['branch-type'].values\n",
    "label_ids = paths_table['path-id'].values\n",
    "\n",
    "# get max value from intensity\n",
    "max_chnl_val = np.percentile(branching_values, percentile)\n",
    "\n",
    "# how to select a map.. ?\n",
    "labels_cm = plt.cm.viridis(np.linspace(0, 1, num = chnl_scale))\n",
    "# labels_cm = plt.cm.bwr(np.linspace(0, 1, num = chnl_scale))\n",
    "\n",
    "# insert background\n",
    "labels_cm = np.insert(labels_cm, 0, 0, axis = 0)\n",
    "\n",
    "layer_chnl_colours = np.array(branching_values/max_chnl_val * chnl_scale - 1).astype(np.int)\n",
    "layer_chnl_colours[layer_chnl_colours >= chnl_scale] = chnl_scale - 1\n",
    "layer_chnl_colours[layer_chnl_colours <= 0] = 1\n",
    "layer_chnl_colours = list(layer_chnl_colours)\n",
    "\n",
    "# insert background\n",
    "layer_chnl_colours.insert(0, 0)\n",
    "\n",
    "# convert to dict\n",
    "skeleton_layer.color = {x: labels_cm[layer_chnl_colours[i]] for i, x in enumerate(label_ids)}"
   ]
  },
  {
   "cell_type": "code",
   "execution_count": null,
   "id": "697afe2f",
   "metadata": {},
   "outputs": [],
   "source": [
    "import matplotlib.pyplot as plt"
   ]
  },
  {
   "cell_type": "code",
   "execution_count": null,
   "id": "6cd2c0ed",
   "metadata": {},
   "outputs": [],
   "source": [
    "skeleton_labels.shape"
   ]
  },
  {
   "cell_type": "code",
   "execution_count": null,
   "id": "1657edde",
   "metadata": {},
   "outputs": [],
   "source": [
    "stroma_slices = (slice(None), slice(100, 1100, 1), slice(100, 1100, 1))"
   ]
  },
  {
   "cell_type": "code",
   "execution_count": null,
   "id": "844a13a1",
   "metadata": {},
   "outputs": [],
   "source": [
    "# TODO this is not good\n",
    "rgb = np.dstack(tuple([\n",
    "    np.amax(skeleton_labels[stroma_slices] * np.isin(\n",
    "    skeleton_labels[stroma_slices], paths_table.loc[paths_table['branch-type'] == x]['path-id'].values),\n",
    "            axis = 0)\n",
    "    for x in range(0, 3)\n",
    "]))"
   ]
  },
  {
   "cell_type": "code",
   "execution_count": null,
   "id": "39a8cd4a",
   "metadata": {},
   "outputs": [],
   "source": [
    "fig, axes = plt.subplots(nrows=1, ncols=1, figsize=(30, 30))\n",
    "\n",
    "axes.imshow(rgb)\n",
    "\n",
    "plt.tight_layout()\n",
    "plt.show()"
   ]
  },
  {
   "cell_type": "code",
   "execution_count": null,
   "id": "cbbb8567",
   "metadata": {},
   "outputs": [],
   "source": []
  }
 ],
 "metadata": {
  "kernelspec": {
   "display_name": "Python 3 (ipykernel)",
   "language": "python",
   "name": "python3"
  },
  "language_info": {
   "codemirror_mode": {
    "name": "ipython",
    "version": 3
   },
   "file_extension": ".py",
   "mimetype": "text/x-python",
   "name": "python",
   "nbconvert_exporter": "python",
   "pygments_lexer": "ipython3",
   "version": "3.9.16"
  }
 },
 "nbformat": 4,
 "nbformat_minor": 5
}
