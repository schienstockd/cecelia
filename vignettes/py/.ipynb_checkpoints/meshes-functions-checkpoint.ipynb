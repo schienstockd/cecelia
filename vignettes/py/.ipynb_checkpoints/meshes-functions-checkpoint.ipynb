{
 "cells": [
  {
   "cell_type": "code",
   "execution_count": 5,
   "id": "a2fc902c",
   "metadata": {},
   "outputs": [],
   "source": [
    "import os\n",
    "import numpy as np\n",
    "# import working directory to check functions\n",
    "os.chdir('/Users/schiend/Desktop/DOHERTY/R-workspace/cecelia/inst')\n",
    "\n",
    "# config\n",
    "import py.config_utils as cfg\n",
    "\n",
    "%load_ext autoreload\n",
    "%autoreload 2"
   ]
  },
  {
   "cell_type": "code",
   "execution_count": 6,
   "id": "8f75f4eb",
   "metadata": {},
   "outputs": [],
   "source": [
    "base_dir = '/Volumes/Analysis_SSD/Dominik/cecelia/projects/8BR53W/ANALYSIS/'\n",
    "zero_dir = os.path.join(base_dir, '0/SSmEIR/')\n",
    "#im_path = os.path.join(zero_dir, 'ccidImage.ome.zarr')\n",
    "im_path = os.path.join(zero_dir, 'ccidCorrected.zarr')\n",
    "version_num = 1\n",
    "task_dir = os.path.join(base_dir, str(version_num), 'SSmEIR')"
   ]
  },
  {
   "cell_type": "code",
   "execution_count": 7,
   "id": "96788271",
   "metadata": {},
   "outputs": [
    {
     "name": "stderr",
     "output_type": "stream",
     "text": [
      "Could not find Java JRE compatible with x86_64 architecture\n"
     ]
    }
   ],
   "source": [
    "from py.napari_utils import NapariUtils\n",
    "\n",
    "napari_utils = NapariUtils()\n",
    "napari_utils.viewer = None\n",
    "napari_utils.open_viewer()\n",
    "napari_utils.task_dir = task_dir"
   ]
  },
  {
   "cell_type": "code",
   "execution_count": 8,
   "id": "75724ef2",
   "metadata": {},
   "outputs": [],
   "source": [
    "channel_names = [\n",
    "    'EB', 'T-A', 'T-B', 'AF', 'gen'\n",
    "]"
   ]
  },
  {
   "cell_type": "code",
   "execution_count": 9,
   "id": "10e3e72e",
   "metadata": {},
   "outputs": [],
   "source": [
    "napari_utils.open_image(\n",
    "    im_path,\n",
    "    use_channel_axis = True, as_dask = True,\n",
    "    channel_names = channel_names,\n",
    "    downsample_z = False\n",
    ")"
   ]
  },
  {
   "cell_type": "code",
   "execution_count": 12,
   "id": "66246426",
   "metadata": {},
   "outputs": [
    {
     "data": {
      "text/plain": [
       "{'z': 2.099992309064516, 'y': 1.516634765625, 'x': 1.516634765625}"
      ]
     },
     "execution_count": 12,
     "metadata": {},
     "output_type": "execute_result"
    }
   ],
   "source": [
    "napari_utils.dim_utils.im_scale(['X', 'Y', 'Z'])"
   ]
  },
  {
   "cell_type": "code",
   "execution_count": 6,
   "id": "4181f11d",
   "metadata": {},
   "outputs": [
    {
     "name": "stdout",
     "output_type": "stream",
     "text": [
      "{'base': '/Volumes/Analysis_SSD/Dominik/cecelia/projects/8BR53W/ANALYSIS/1/SSmEIR/labels/T.zarr'}\n",
      "{'base': '/Volumes/Analysis_SSD/Dominik/cecelia/projects/8BR53W/ANALYSIS/1/SSmEIR/labels/LV.zarr'}\n"
     ]
    }
   ],
   "source": [
    "napari_utils.show_labels_all(\n",
    "    show_labels = True,\n",
    "    show_points = False,\n",
    "    show_tracks = True,\n",
    "    value_names = ['T', 'LV']\n",
    ")"
   ]
  },
  {
   "cell_type": "code",
   "execution_count": 7,
   "id": "a6ab6541",
   "metadata": {},
   "outputs": [],
   "source": [
    "import trimesh\n",
    "from collections import Counter\n",
    "import re\n",
    "import pandas as pd\n",
    "import numpy as np\n",
    "from tqdm import tqdm\n",
    "\n",
    "from py.label_props_utils import LabelPropsUtils\n",
    "from py.pop_utils import PopUtils\n",
    "\n",
    "import py.morpho_utils as morpho_utils\n",
    "import py.slice_utils as slice_utils\n",
    "\n",
    "import py.script_utils as script_utils\n",
    "import py.config_utils as cfg"
   ]
  },
  {
   "cell_type": "code",
   "execution_count": 8,
   "id": "8630ad98",
   "metadata": {},
   "outputs": [],
   "source": [
    "pops_a = ['T/tracked']\n",
    "pops_b = ['LV/tracked']"
   ]
  },
  {
   "cell_type": "code",
   "execution_count": 9,
   "id": "cf7076a4",
   "metadata": {},
   "outputs": [],
   "source": [
    "# init pop utils\n",
    "pop_utils = PopUtils()"
   ]
  },
  {
   "cell_type": "code",
   "execution_count": 10,
   "id": "099dd838",
   "metadata": {},
   "outputs": [],
   "source": [
    "# prepare bbox and centroid axis\n",
    "bbox_axis = ['x', 'y', 'z']\n",
    "centroid_axis = bbox_axis\n",
    "\n",
    "# prepare property columns to get\n",
    "prop_cols = [f'bbox_{side}_{axis}' for side in ['min', 'max'] for axis in bbox_axis]\n",
    "prop_cols.extend([f'centroid_{axis}' for axis in centroid_axis])"
   ]
  },
  {
   "cell_type": "code",
   "execution_count": 11,
   "id": "8a801054",
   "metadata": {},
   "outputs": [],
   "source": [
    "pop_df_a = pop_utils.pop_df(\n",
    "    task_dir,\n",
    "    LabelPropsUtils(task_dir),\n",
    "    'live',\n",
    "    cols = prop_cols,\n",
    "    pops = pops_a\n",
    ")"
   ]
  },
  {
   "cell_type": "code",
   "execution_count": 12,
   "id": "3bb1e60e",
   "metadata": {},
   "outputs": [],
   "source": [
    "# get contact populations\n",
    "pop_df_b = pop_utils.pop_df(\n",
    "    task_dir,\n",
    "    LabelPropsUtils(task_dir),\n",
    "    'live',\n",
    "    cols = prop_cols,\n",
    "    pops = pops_b\n",
    ")\n"
   ]
  },
  {
   "cell_type": "code",
   "execution_count": 13,
   "id": "fe5cfb41",
   "metadata": {},
   "outputs": [
    {
     "data": {
      "text/plain": [
       "{'z': 2.099992309064516, 'y': 1.516634765625, 'x': 1.516634765625}"
      ]
     },
     "execution_count": 13,
     "metadata": {},
     "output_type": "execute_result"
    }
   ],
   "source": [
    "im_res = napari_utils.dim_utils.im_scale(\n",
    "    as_dict = True, upper = False,\n",
    "    dims = ['z', 'y', 'x']\n",
    ")\n",
    "im_res"
   ]
  },
  {
   "cell_type": "code",
   "execution_count": 32,
   "id": "8e2e0c6f",
   "metadata": {},
   "outputs": [
    {
     "name": "stdout",
     "output_type": "stream",
     "text": [
      ">> get meshes for centroid_t 38\n",
      ">> get meshes for centroid_t 38\n"
     ]
    }
   ],
   "source": [
    "# load meshes\n",
    "meshes_a = morpho_utils.df_to_meshes(\n",
    "    task_dir,\n",
    "    pop_df_a, 'T',\n",
    "    'centroid_t',\n",
    "    [38],\n",
    "    im_res = im_res, is_3D = True,\n",
    "    add_value_name_to_name = False)\n",
    "meshes_b = morpho_utils.df_to_meshes(\n",
    "    task_dir,\n",
    "    pop_df_b, 'LV',\n",
    "    'centroid_t',\n",
    "    [38],\n",
    "    im_res = im_res, is_3D = True,\n",
    "    add_value_name_to_name = False)"
   ]
  },
  {
   "cell_type": "code",
   "execution_count": null,
   "id": "88d44eaa",
   "metadata": {},
   "outputs": [],
   "source": [
    "# add pop B to collision manager\n",
    "m = trimesh.collision.CollisionManager()\n",
    "\n",
    "for i, x in meshes_b.items():\n",
    "    m.add_object(i, x)"
   ]
  },
  {
   "cell_type": "code",
   "execution_count": null,
   "id": "4d56d74d",
   "metadata": {},
   "outputs": [],
   "source": [
    "m.min_distance_single(meshes_a[7486], return_name = True)[0]"
   ]
  },
  {
   "cell_type": "code",
   "execution_count": null,
   "id": "5cebd725",
   "metadata": {},
   "outputs": [],
   "source": [
    "# is object within another object?\n",
    "inside_object = False\n",
    "\n",
    "# use convex hull to test location\n",
    "meshes_b[709].convex_hull.contains(meshes_a[7486].vertices).all()"
   ]
  },
  {
   "cell_type": "code",
   "execution_count": null,
   "id": "0c25786e",
   "metadata": {},
   "outputs": [],
   "source": [
    "meshes_b[709].contains(meshes_a[7403].vertices).all()"
   ]
  },
  {
   "cell_type": "code",
   "execution_count": null,
   "id": "c0e362b8",
   "metadata": {},
   "outputs": [],
   "source": [
    "meshes_b"
   ]
  },
  {
   "cell_type": "code",
   "execution_count": 17,
   "id": "9b1aced6",
   "metadata": {},
   "outputs": [],
   "source": [
    "b = meshes_a[7403]"
   ]
  },
  {
   "cell_type": "code",
   "execution_count": 25,
   "id": "5e734d77",
   "metadata": {},
   "outputs": [],
   "source": [
    "b = meshes_a[7486]"
   ]
  },
  {
   "cell_type": "code",
   "execution_count": 30,
   "id": "bdaa013a",
   "metadata": {},
   "outputs": [],
   "source": [
    "c = meshes_b[709].split(only_watertight = True)"
   ]
  },
  {
   "cell_type": "code",
   "execution_count": 35,
   "id": "939bb7ae",
   "metadata": {},
   "outputs": [
    {
     "data": {
      "text/plain": [
       "False"
      ]
     },
     "execution_count": 35,
     "metadata": {},
     "output_type": "execute_result"
    }
   ],
   "source": [
    "meshes_b[709].contains([meshes_a[7403].center_mass]).all()"
   ]
  },
  {
   "cell_type": "code",
   "execution_count": 36,
   "id": "522d65aa",
   "metadata": {},
   "outputs": [
    {
     "data": {
      "text/plain": [
       "True"
      ]
     },
     "execution_count": 36,
     "metadata": {},
     "output_type": "execute_result"
    }
   ],
   "source": [
    "meshes_b[709].contains([meshes_a[7486].center_mass]).all()"
   ]
  },
  {
   "cell_type": "code",
   "execution_count": null,
   "id": "5b0c0559",
   "metadata": {},
   "outputs": [],
   "source": [
    "meshes_b[709].contains([meshes_a[7486].center_mass]).all()"
   ]
  },
  {
   "cell_type": "code",
   "execution_count": null,
   "id": "78c1f9e6",
   "metadata": {},
   "outputs": [],
   "source": [
    "trimesh.smoothing.filter_laplacian(\n",
    "    a, lamb = 1, iterations = 10).is_watertight"
   ]
  },
  {
   "cell_type": "code",
   "execution_count": null,
   "id": "c7b62fb2",
   "metadata": {},
   "outputs": [],
   "source": []
  }
 ],
 "metadata": {
  "kernelspec": {
   "display_name": "Python 3 (ipykernel)",
   "language": "python",
   "name": "python3"
  },
  "language_info": {
   "codemirror_mode": {
    "name": "ipython",
    "version": 3
   },
   "file_extension": ".py",
   "mimetype": "text/x-python",
   "name": "python",
   "nbconvert_exporter": "python",
   "pygments_lexer": "ipython3",
   "version": "3.9.13"
  }
 },
 "nbformat": 4,
 "nbformat_minor": 5
}
