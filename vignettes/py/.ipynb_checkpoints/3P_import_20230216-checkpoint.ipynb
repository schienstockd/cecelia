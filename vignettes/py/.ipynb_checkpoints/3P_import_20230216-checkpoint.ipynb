{
 "cells": [
  {
   "cell_type": "code",
   "execution_count": 1,
   "id": "a2fc902c",
   "metadata": {},
   "outputs": [],
   "source": [
    "import os\n",
    "import numpy as np\n",
    "# import working directory to check functions\n",
    "os.chdir('/Users/schiend/Desktop/DOHERTY/R-workspace/cecelia/inst')\n",
    "\n",
    "# config\n",
    "import py.config_utils as cfg\n",
    "\n",
    "%load_ext autoreload\n",
    "%autoreload 2"
   ]
  },
  {
   "cell_type": "code",
   "execution_count": 34,
   "id": "8f75f4eb",
   "metadata": {},
   "outputs": [],
   "source": [
    "base_dir = '/Volumes/USER_data/Communal/cecelia/data/3P/test-3PReverb-XCR1venus-Tomato-1300-Spleen1a/'\n",
    "im_path = os.path.join(base_dir, 'ChanA_001_001_001_001.tif')\n",
    "zarr_path = os.path.join(base_dir, 'stack.ome.zarr')"
   ]
  },
  {
   "cell_type": "code",
   "execution_count": 131,
   "id": "87b8006b",
   "metadata": {},
   "outputs": [],
   "source": [
    "# read in OME XML from first image sequence\n",
    "import tifffile\n",
    "import py.zarr_utils as zarr_utils\n",
    "import py.ome_xml_utils as ome_xml_utils\n",
    "from py.dim_utils import DimUtils\n",
    "\n",
    "im = tifffile.TiffFile(im_path)\n",
    "x = im.asarray()\n",
    "omexml = ome_xml_utils.parse_meta(im_path)\n",
    "dim_utils = DimUtils(omexml)\n",
    "dim_utils.calc_image_dimensions(x.shape)"
   ]
  },
  {
   "cell_type": "code",
   "execution_count": 67,
   "id": "c3774b1d",
   "metadata": {},
   "outputs": [],
   "source": [
    "# split y axis\n",
    "# TODO this is specific to Thorlabs 3P output\n",
    "split_size = int(dim_utils.dim_val('Y')/dim_utils.dim_val('X'))"
   ]
  },
  {
   "cell_type": "code",
   "execution_count": 116,
   "id": "de47c7c5",
   "metadata": {},
   "outputs": [],
   "source": [
    "# split array along Y\n",
    "x_split = np.array_split(x, split_size, axis = dim_utils.dim_idx('Y'))"
   ]
  },
  {
   "cell_type": "code",
   "execution_count": 159,
   "id": "3dc36a9a",
   "metadata": {},
   "outputs": [],
   "source": [
    "# get or create z axis\n",
    "z_dim = dim_utils.dim_idx('Z')\n",
    "stack_array = False\n",
    "\n",
    "if z_dim is None:\n",
    "    z_dim = dim_utils.default_order.index('Z')\n",
    "    stack_array = True\n",
    "    \n",
    "# skip frames?\n",
    "skip_frames = 2\n",
    "\n",
    "# scales\n",
    "nscales = 1\n",
    "\n",
    "# what is the depth?\n",
    "z_depth = 5"
   ]
  },
  {
   "cell_type": "code",
   "execution_count": 121,
   "id": "e34d72fc",
   "metadata": {},
   "outputs": [],
   "source": [
    "# concat or stack\n",
    "if stack_array is True:\n",
    "    x_new = np.stack(x_split[::skip_frames], axis = z_dim)\n",
    "else:\n",
    "    # TODO need to test this\n",
    "    x_new = np.concatenate(x_split[::skip_frames], axis = z_dim)"
   ]
  },
  {
   "cell_type": "code",
   "execution_count": 122,
   "id": "c76439b7",
   "metadata": {},
   "outputs": [
    {
     "name": "stdout",
     "output_type": "stream",
     "text": [
      "(3, 3, 4, 512, 512)\n",
      "None\n"
     ]
    },
    {
     "name": "stderr",
     "output_type": "stream",
     "text": [
      "/Users/schiend/Library/r-miniconda/envs/r-cecelia-env/lib/python3.9/site-packages/zarr/creation.py:233: UserWarning: ignoring keyword argument 'mode'\n",
      "  warn('ignoring keyword argument %r' % k)\n"
     ]
    }
   ],
   "source": [
    "# save back\n",
    "zarr_utils.create_multiscales(x_new, zarr_path, nscales = nscales)"
   ]
  },
  {
   "cell_type": "code",
   "execution_count": 160,
   "id": "d2b35ef6",
   "metadata": {},
   "outputs": [],
   "source": [
    "# change image dimensions in xml\n",
    "omexml_new = ome_xml_utils.set_im_size_with_dict(\n",
    "    omexml,\n",
    "    {'Z': x_new.shape[z_dim], 'Y': int(dim_utils.dim_val('Y')/split_size)})\n",
    "omexml_new = ome_xml_utils.set_physical_size_with_dict(omexml_new, {'Z': z_depth})"
   ]
  },
  {
   "cell_type": "code",
   "execution_count": 161,
   "id": "7f62fc5d",
   "metadata": {},
   "outputs": [],
   "source": [
    "# add metadata\n",
    "ome_xml_utils.write_ome_xml(zarr_path, omexml_new)"
   ]
  },
  {
   "cell_type": "code",
   "execution_count": 156,
   "id": "96788271",
   "metadata": {},
   "outputs": [],
   "source": [
    "from py.napari_utils import NapariUtils\n",
    "\n",
    "napari_utils = NapariUtils()\n",
    "napari_utils.viewer = None\n",
    "napari_utils.open_viewer()"
   ]
  },
  {
   "cell_type": "code",
   "execution_count": 157,
   "id": "75724ef2",
   "metadata": {},
   "outputs": [],
   "source": [
    "channel_names = [\n",
    "    'A', 'B', 'C', 'D'\n",
    "]"
   ]
  },
  {
   "cell_type": "code",
   "execution_count": 162,
   "id": "10e3e72e",
   "metadata": {},
   "outputs": [],
   "source": [
    "napari_utils.open_image(\n",
    "    zarr_path,\n",
    "    use_channel_axis = True, as_dask = True,\n",
    "    channel_names = channel_names\n",
    ")"
   ]
  },
  {
   "cell_type": "code",
   "execution_count": 155,
   "id": "d2003617",
   "metadata": {},
   "outputs": [
    {
     "data": {
      "text/plain": [
       "[1, 2.0, 1.148, 1.148]"
      ]
     },
     "execution_count": 155,
     "metadata": {},
     "output_type": "execute_result"
    }
   ],
   "source": [
    "napari_utils.im_scale"
   ]
  },
  {
   "cell_type": "code",
   "execution_count": 6,
   "id": "4181f11d",
   "metadata": {},
   "outputs": [
    {
     "name": "stdout",
     "output_type": "stream",
     "text": [
      "{'base': '/Volumes/Analysis_SSD/Dominik/cecelia/projects/8BR53W/ANALYSIS/1/9XHXrn/labels/tcells.gBT.zarr'}\n"
     ]
    }
   ],
   "source": [
    "napari_utils.show_labels_all(\n",
    "    show_labels = False,\n",
    "    show_points = False,\n",
    "    show_tracks = True,\n",
    "    value_names = ['tcells.gBT']\n",
    ")"
   ]
  },
  {
   "cell_type": "code",
   "execution_count": 7,
   "id": "a1f26ae6",
   "metadata": {},
   "outputs": [
    {
     "data": {
      "text/plain": [
       "<napari._qt.widgets.qt_viewer_dock_widget.QtViewerDockWidget at 0x1749c6af0>"
      ]
     },
     "execution_count": 7,
     "metadata": {},
     "output_type": "execute_result"
    }
   ],
   "source": [
    "from napari_animation import AnimationWidget\n",
    "animation_widget = AnimationWidget(napari_utils.viewer)\n",
    "napari_utils.viewer.window.add_dock_widget(animation_widget, area='right')"
   ]
  },
  {
   "cell_type": "code",
   "execution_count": 13,
   "id": "a4795aa6",
   "metadata": {},
   "outputs": [
    {
     "name": "stdout",
     "output_type": "stream",
     "text": [
      "(live) T.A/tracked\n",
      "(live) T.B/tracked\n",
      "(live) tracked/HMM.scanning\n",
      "(live) tracked/HMM.scanning\n",
      "(live) tracked/HMM.meandering\n",
      "(live) tracked/HMM.meandering\n",
      "(live) tracked/HMM.directed\n",
      "(live) tracked/HMM.directed\n"
     ]
    }
   ],
   "source": [
    "# show populations\n",
    "napari_utils.show_pop_mapping('live')"
   ]
  },
  {
   "cell_type": "code",
   "execution_count": null,
   "id": "a6ab6541",
   "metadata": {},
   "outputs": [],
   "source": []
  }
 ],
 "metadata": {
  "kernelspec": {
   "display_name": "Python 3 (ipykernel)",
   "language": "python",
   "name": "python3"
  },
  "language_info": {
   "codemirror_mode": {
    "name": "ipython",
    "version": 3
   },
   "file_extension": ".py",
   "mimetype": "text/x-python",
   "name": "python",
   "nbconvert_exporter": "python",
   "pygments_lexer": "ipython3",
   "version": "3.9.13"
  }
 },
 "nbformat": 4,
 "nbformat_minor": 5
}
