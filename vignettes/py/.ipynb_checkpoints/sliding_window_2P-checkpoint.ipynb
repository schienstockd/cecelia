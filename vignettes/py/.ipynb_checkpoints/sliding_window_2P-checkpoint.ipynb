{
 "cells": [
  {
   "cell_type": "code",
   "execution_count": 1,
   "id": "d913e680",
   "metadata": {},
   "outputs": [],
   "source": [
    "import os\n",
    "import numpy as np\n",
    "# import working directory to check functions\n",
    "os.chdir('/Users/schiend/Desktop/DOHERTY/R-workspace/cecelia/inst')\n",
    "\n",
    "# config\n",
    "import py.config_utils as cfg\n",
    "\n",
    "%load_ext autoreload\n",
    "%autoreload 2"
   ]
  },
  {
   "cell_type": "code",
   "execution_count": 2,
   "id": "e43a213a",
   "metadata": {},
   "outputs": [],
   "source": [
    "base_dir = '/Volumes/Analysis_SSD/Dominik/cecelia/projects/8BR53W/ANALYSIS/'"
   ]
  },
  {
   "cell_type": "code",
   "execution_count": 3,
   "id": "95055b49",
   "metadata": {},
   "outputs": [],
   "source": [
    "im_paths = [\n",
    "    #os.path.join(base_dir, '0', 'h4bJUq','ccidImage.ome.zarr'),\n",
    "    #os.path.join(base_dir, '0', 'h4bJUq','ccidCorrected.zarr'),\n",
    "    os.path.join(base_dir, '0', 'h4bJUq','_ccidCorrected.zarr'),\n",
    "]"
   ]
  },
  {
   "cell_type": "code",
   "execution_count": null,
   "id": "6360c671",
   "metadata": {},
   "outputs": [],
   "source": [
    "import modules.sources.cleanupImages.py.sliding_window_correct as sliding_window_correct\n",
    "\n",
    "params = {\n",
    "    'imPath': os.path.join(base_dir, '0', 'h4bJUq','_ccidCorrected.zarr'),\n",
    "    'imCorrectionPath': os.path.join(base_dir, '0', 'h4bJUq','ccidSliding.zarr'),\n",
    "    'slidingWindow': 2\n",
    "}\n",
    "\n",
    "sliding_window_correct.run(params)"
   ]
  },
  {
   "cell_type": "code",
   "execution_count": 16,
   "id": "85a4877d",
   "metadata": {},
   "outputs": [
    {
     "data": {
      "text/plain": [
       "[<Image layer 'Image [4]' at 0x1770070d0>,\n",
       " <Image layer 'Image [5]' at 0x178380fd0>,\n",
       " <Image layer 'Image [6]' at 0x1783a46d0>,\n",
       " <Image layer 'Image [7]' at 0x178439ee0>]"
      ]
     },
     "execution_count": 16,
     "metadata": {},
     "output_type": "execute_result"
    }
   ],
   "source": [
    "viewer.layers.clear()\n",
    "\n",
    "viewer.add_image(im, channel_axis = dim_utils[0].dim_idx('C'), blending = 'additive')\n",
    "viewer.add_image(sum_zarr, channel_axis = dim_utils[0].dim_idx('C'), blending = 'additive')"
   ]
  },
  {
   "cell_type": "code",
   "execution_count": null,
   "id": "ddf8db2e",
   "metadata": {},
   "outputs": [],
   "source": []
  }
 ],
 "metadata": {
  "kernelspec": {
   "display_name": "Python 3 (ipykernel)",
   "language": "python",
   "name": "python3"
  },
  "language_info": {
   "codemirror_mode": {
    "name": "ipython",
    "version": 3
   },
   "file_extension": ".py",
   "mimetype": "text/x-python",
   "name": "python",
   "nbconvert_exporter": "python",
   "pygments_lexer": "ipython3",
   "version": "3.9.13"
  }
 },
 "nbformat": 4,
 "nbformat_minor": 5
}
