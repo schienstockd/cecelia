{
 "cells": [
  {
   "cell_type": "code",
   "execution_count": 6,
   "id": "9026df42",
   "metadata": {},
   "outputs": [],
   "source": [
    "import os\n",
    "import numpy as np\n",
    "# import working directory to check functions\n",
    "os.chdir('/Users/schiend/Desktop/DOHERTY/R-workspace/cecelia/inst')\n",
    "\n",
    "# config\n",
    "import py.config_utils as cfg\n",
    "\n",
    "%load_ext autoreload\n",
    "%autoreload 2"
   ]
  },
  {
   "cell_type": "code",
   "execution_count": 7,
   "id": "4f8801bd",
   "metadata": {},
   "outputs": [],
   "source": [
    "base_dir = '/Volumes/Analysis_SSD/Dominik/cecelia/projects/wEsnzt/ANALYSIS/'"
   ]
  },
  {
   "cell_type": "code",
   "execution_count": 8,
   "id": "02e9fe45",
   "metadata": {},
   "outputs": [],
   "source": [
    "# Liver\n",
    "im_paths = [\n",
    "    os.path.join(base_dir, '0', 'SXejeM','ccidImage.ome.zarr'),\n",
    "    os.path.join(base_dir, '0', 'Iksums','ccidImage.ome.zarr'),\n",
    "    os.path.join(base_dir, '0', 'PTsqyH','ccidImage.ome.zarr'),\n",
    "    os.path.join(base_dir, '0', 'OO0Q6w','ccidImage.ome.zarr')\n",
    "]\n",
    "channel_ids = [3, 3, 3, 3]"
   ]
  },
  {
   "cell_type": "code",
   "execution_count": 9,
   "id": "3267b9c2",
   "metadata": {},
   "outputs": [
    {
     "name": "stderr",
     "output_type": "stream",
     "text": [
      "Could not find Java JRE compatible with x86_64 architecture\n"
     ]
    }
   ],
   "source": [
    "import py.zarr_utils as zarr_utils\n",
    "import py.ome_xml_utils as ome_xml_utils\n",
    "from py.dim_utils import DimUtils\n",
    "import py.correction_utils as correction_utils\n",
    "import matplotlib.pyplot as plt\n",
    "from skimage.color import combine_stains, rgb_from_hdx"
   ]
  },
  {
   "cell_type": "code",
   "execution_count": 10,
   "id": "17d0de13",
   "metadata": {},
   "outputs": [],
   "source": [
    "import py.zarr_utils as zarr_utils\n",
    "import py.ome_xml_utils as ome_xml_utils\n",
    "from py.dim_utils import DimUtils\n",
    "import py.correction_utils as correction_utils"
   ]
  },
  {
   "cell_type": "code",
   "execution_count": 1,
   "id": "f4523856",
   "metadata": {},
   "outputs": [],
   "source": [
    "import napari\n",
    "\n",
    "viewer = napari.Viewer()"
   ]
  },
  {
   "cell_type": "code",
   "execution_count": 16,
   "id": "ee4c176f",
   "metadata": {},
   "outputs": [],
   "source": [
    "# show alignment\n",
    "reg_im = zarr_utils.open_as_zarr('/Volumes/Analysis_SSD/Dominik/TMP/reg000.zarr')\n",
    "\n",
    "colors = ['gray', 'magenta', 'cyan', 'yellow']\n",
    "for i, x in enumerate([3, 10, 17, 24]):\n",
    "    viewer.add_image(reg_im[0][0][0, x, :, :, :], colormap=colors[i], blending='additive')"
   ]
  },
  {
   "cell_type": "code",
   "execution_count": null,
   "id": "636c50d9",
   "metadata": {},
   "outputs": [],
   "source": [
    "viewer.add_image(reg_im[0][0][0, :, :, :, :], channel_axis=1, blending='additive')"
   ]
  },
  {
   "cell_type": "code",
   "execution_count": null,
   "id": "001852b6",
   "metadata": {},
   "outputs": [],
   "source": [
    "# get image information\n",
    "im_zarrs = [zarr_utils.open_as_zarr(x, as_dask = True) for x in im_paths]\n",
    "im_zarrs = [x[0] for x in im_zarrs]"
   ]
  },
  {
   "cell_type": "code",
   "execution_count": null,
   "id": "5c47c132",
   "metadata": {},
   "outputs": [],
   "source": [
    "# create dim utils for images\n",
    "dim_utils = [\n",
    "    DimUtils(ome_xml_utils.parse_meta(x), use_channel_axis = True) for x in im_paths\n",
    "]\n",
    "\n",
    "for i, x in enumerate(dim_utils):\n",
    "    x.calc_image_dimensions(im_zarrs[i][0].shape)"
   ]
  },
  {
   "cell_type": "code",
   "execution_count": null,
   "id": "56275c94",
   "metadata": {},
   "outputs": [],
   "source": [
    "min([x.im_dim for x in dim_utils])"
   ]
  },
  {
   "cell_type": "code",
   "execution_count": null,
   "id": "7d73fd47",
   "metadata": {},
   "outputs": [],
   "source": [
    "# get images for translation and rotation for ITK\n",
    "import SimpleITK as sitk\n",
    "\n",
    "im = [zarr_utils.fortify(x[3])[0, channel_ids[i], :, :, :] for i, x in enumerate(im_zarrs)]\n",
    "mip = [np.amax(x, axis = 0) for i, x in enumerate(im)]\n",
    "\n",
    "combined_slices = tuple([\n",
    "    slice(0, min([x.shape[0] for x in mip]), 1),\n",
    "    slice(0, min([x.shape[1] for x in mip]), 1)\n",
    "])\n",
    "\n",
    "fig, axes = plt.subplots(2, 2, figsize=(12, 12))\n",
    "ax = axes.ravel()\n",
    "ax[0].set_title(\"A\")\n",
    "ax[0].imshow(mip[0], cmap='gray')\n",
    "ax[1].set_title(\"B\")\n",
    "ax[1].imshow(mip[1], cmap='gray')\n",
    "ax[2].set_title(\"B\")\n",
    "ax[2].imshow(mip[2], cmap='gray')\n",
    "ax[3].set_title(\"Combined\")\n",
    "ax[3].imshow(combine_stains(np.dstack([x[combined_slices] for x in mip[0:3]]), rgb_from_hdx))\n",
    "plt.show()"
   ]
  },
  {
   "cell_type": "code",
   "execution_count": null,
   "id": "b3d20969",
   "metadata": {},
   "outputs": [],
   "source": [
    "# try to register translation and rotation\n",
    "# https://simpleitk.readthedocs.io/en/master/link_ImageRegistrationMethod1_docs.html\n",
    "\n",
    "im0 = [zarr_utils.fortify(x[0])[0, channel_ids[i], :, :, :] for i, x in enumerate(im_zarrs)]\n",
    "sitk_im = [sitk.GetImageFromArray(x) for x in im0]"
   ]
  },
  {
   "cell_type": "code",
   "execution_count": null,
   "id": "8cf6459c",
   "metadata": {},
   "outputs": [],
   "source": [
    "import py.sitkibex as sitkibex\n",
    "\n",
    "# now .. try to translate the workflow from IBEX\n",
    "# https://github.com/niaid/imaris_extensions\n",
    "# https://github.com/niaid/sitk-ibex\n",
    "# https://zenodo.org/record/4632320#.Y5pbnOJBzRY\n",
    "# Disable the FFT option.\n",
    "# Enable the 2D affine option.\n",
    "\n",
    "sitk_tx = [\n",
    "    sitkibex.registration(\n",
    "        sitk_im[0],\n",
    "        x,\n",
    "        do_fft_initialization = False,\n",
    "        do_affine2d = True,\n",
    "        do_affine3d = False,\n",
    "        ignore_spacing = True,\n",
    "        sigma = 1.0,\n",
    "        auto_mask = False,\n",
    "        samples_per_parameter = 5000,\n",
    "        expand = None,\n",
    "    ) for x in sitk_im\n",
    "]"
   ]
  },
  {
   "cell_type": "code",
   "execution_count": null,
   "id": "0cdbf4ed",
   "metadata": {},
   "outputs": [],
   "source": [
    "print(sitk_tx[2])"
   ]
  },
  {
   "cell_type": "code",
   "execution_count": null,
   "id": "64cc979d",
   "metadata": {},
   "outputs": [],
   "source": [
    "mip[2].shape"
   ]
  },
  {
   "cell_type": "code",
   "execution_count": null,
   "id": "a4a1efc3",
   "metadata": {},
   "outputs": [],
   "source": [
    "mip[2].shape"
   ]
  },
  {
   "cell_type": "code",
   "execution_count": null,
   "id": "b981d4b0",
   "metadata": {},
   "outputs": [],
   "source": [
    "# resample image\n",
    "im_resampled = [sitkibex.resample(\n",
    "    fixed_image = sitk_im[0],\n",
    "    moving_image = x,\n",
    "    transform = sitk_tx[i]\n",
    "    #transform = None\n",
    ") for i, x in enumerate(sitk_im)]\n",
    "mip = [np.amax(sitk.GetArrayFromImage(x), axis = 0) for x in im_resampled]\n",
    "\n",
    "fig, axes = plt.subplots(2, 2, figsize=(40, 40))\n",
    "ax = axes.ravel()\n",
    "ax[0].set_title(\"A\")\n",
    "ax[0].imshow(mip[0], cmap='gray')\n",
    "ax[1].set_title(\"B\")\n",
    "ax[1].imshow(mip[1], cmap='gray')\n",
    "ax[2].set_title(\"B\")\n",
    "ax[2].imshow(mip[2], cmap='gray')\n",
    "ax[3].set_title(\"Combined\")\n",
    "ax[3].imshow(combine_stains(np.dstack([x[combined_slices] for x in mip[0:3]]), rgb_from_hdx))\n",
    "plt.show()"
   ]
  },
  {
   "cell_type": "code",
   "execution_count": null,
   "id": "daf32c80",
   "metadata": {},
   "outputs": [],
   "source": [
    ".shape"
   ]
  },
  {
   "cell_type": "code",
   "execution_count": null,
   "id": "bb30d175",
   "metadata": {},
   "outputs": [],
   "source": [
    "import numpy as np\n",
    "import matplotlib.pyplot as plt\n",
    "import math\n",
    "\n",
    "from skimage import data\n",
    "from skimage.registration import phase_cross_correlation\n",
    "from skimage.transform import warp_polar, rotate, rescale\n",
    "from skimage.util import img_as_float\n",
    "\n",
    "from skimage.color import rgb2gray\n",
    "from skimage.filters import window, difference_of_gaussians\n",
    "from scipy.fft import fft2, fftshift\n",
    "\n",
    "angle = 24\n",
    "scale = 1.4\n",
    "shiftr = 30\n",
    "shiftc = 15\n",
    "\n",
    "image = rgb2gray(data.retina())\n",
    "translated = image[shiftr:, shiftc:]\n",
    "rotated = rotate(translated, angle)\n",
    "rescaled = rescale(rotated, scale)\n",
    "sizer, sizec = image.shape\n",
    "rts_image = rescaled[:sizer, :sizec]\n",
    "\n",
    "# First, band-pass filter both images\n",
    "image = difference_of_gaussians(image, 5, 20)\n",
    "rts_image = difference_of_gaussians(rts_image, 5, 20)\n",
    "\n",
    "# window images\n",
    "wimage = image * window('hann', image.shape)\n",
    "rts_wimage = rts_image * window('hann', image.shape)\n",
    "\n",
    "# work with shifted FFT magnitudes\n",
    "image_fs = np.abs(fftshift(fft2(wimage)))\n",
    "rts_fs = np.abs(fftshift(fft2(rts_wimage)))\n",
    "\n",
    "# Create log-polar transformed FFT mag images and register\n",
    "shape = image_fs.shape\n",
    "radius = shape[0] // 8  # only take lower frequencies\n",
    "warped_image_fs = warp_polar(image_fs, radius=radius, output_shape=shape,\n",
    "                             scaling='log', order=0)\n",
    "warped_rts_fs = warp_polar(rts_fs, radius=radius, output_shape=shape,\n",
    "                           scaling='log', order=0)\n",
    "\n",
    "warped_image_fs = warped_image_fs[:shape[0] // 2, :]  # only use half of FFT\n",
    "warped_rts_fs = warped_rts_fs[:shape[0] // 2, :]\n",
    "shifts, error, phasediff = phase_cross_correlation(warped_image_fs,\n",
    "                                                   warped_rts_fs,\n",
    "                                                   upsample_factor=10)\n",
    "\n",
    "# Use translation parameters to calculate rotation and scaling parameters\n",
    "shiftr, shiftc = shifts[:2]\n",
    "recovered_angle = (360 / shape[0]) * shiftr\n",
    "klog = shape[1] / np.log(radius)\n",
    "shift_scale = np.exp(shiftc / klog)\n",
    "\n",
    "print(shifts)\n",
    "\n",
    "fig, axes = plt.subplots(2, 2, figsize=(8, 8))\n",
    "ax = axes.ravel()\n",
    "ax[0].set_title(\"Original Image FFT\\n(magnitude; zoomed)\")\n",
    "center = np.array(shape) // 2\n",
    "ax[0].imshow(image_fs[center[0] - radius:center[0] + radius,\n",
    "                      center[1] - radius:center[1] + radius],\n",
    "             cmap='magma')\n",
    "ax[1].set_title(\"Modified Image FFT\\n(magnitude; zoomed)\")\n",
    "ax[1].imshow(rts_fs[center[0] - radius:center[0] + radius,\n",
    "                    center[1] - radius:center[1] + radius],\n",
    "             cmap='magma')\n",
    "ax[2].set_title(\"Log-Polar-Transformed\\nOriginal FFT\")\n",
    "ax[2].imshow(warped_image_fs, cmap='magma')\n",
    "ax[3].set_title(\"Log-Polar-Transformed\\nModified FFT\")\n",
    "ax[3].imshow(warped_rts_fs, cmap='magma')\n",
    "fig.suptitle('Working in frequency domain can recover rotation and scaling')\n",
    "plt.show()\n",
    "\n",
    "print(f'Expected value for cc rotation in degrees: {angle}')\n",
    "print(f'Recovered value for cc rotation: {recovered_angle}')\n",
    "print()\n",
    "print(f'Expected value for scaling difference: {scale}')\n",
    "print(f'Recovered value for scaling difference: {shift_scale}')"
   ]
  },
  {
   "cell_type": "code",
   "execution_count": null,
   "id": "ca2263ce",
   "metadata": {},
   "outputs": [],
   "source": []
  },
  {
   "cell_type": "code",
   "execution_count": null,
   "id": "41613569",
   "metadata": {},
   "outputs": [],
   "source": [
    "from skimage.transform import SimilarityTransform\n",
    "tform = SimilarityTransform(translation=(0, -10))\n",
    "warped = warp(image, tform)"
   ]
  },
  {
   "cell_type": "code",
   "execution_count": null,
   "id": "14bd4f7e",
   "metadata": {},
   "outputs": [],
   "source": [
    "warped.shape"
   ]
  },
  {
   "cell_type": "code",
   "execution_count": null,
   "id": "6b4cc5a3",
   "metadata": {},
   "outputs": [],
   "source": [
    "import os\n",
    "import numpy as np\n",
    "# import working directory to check functions\n",
    "os.chdir('/Users/schiend/Desktop/DOHERTY/R-workspace/cecelia/inst')\n",
    "\n",
    "# config\n",
    "import py.config_utils as cfg\n",
    "\n",
    "%load_ext autoreload\n",
    "%autoreload 2"
   ]
  },
  {
   "cell_type": "code",
   "execution_count": null,
   "id": "ba019bcd",
   "metadata": {},
   "outputs": [],
   "source": [
    "base_dir = '/Volumes/Analysis_SSD/Dominik/cecelia/projects/wEsnzt/ANALYSIS/'"
   ]
  },
  {
   "cell_type": "code",
   "execution_count": null,
   "id": "ccc6e1c1",
   "metadata": {},
   "outputs": [],
   "source": [
    "# Kidney\n",
    "im_paths = [\n",
    "    os.path.join(base_dir, '0', '4Fw66S','ccidImage.ome.zarr'),\n",
    "    os.path.join(base_dir, '0', 'zCqv1H','ccidImage.ome.zarr'),\n",
    "    #os.path.join(base_dir, '0', 'pctYMs','ccidImage.ome.zarr'),\n",
    "    os.path.join(base_dir, '0', 'fEn4xi','ccidImage.ome.zarr')\n",
    "]\n",
    "channel_ids = [0, 0, 0]"
   ]
  },
  {
   "cell_type": "code",
   "execution_count": null,
   "id": "a402eb31",
   "metadata": {},
   "outputs": [],
   "source": [
    "# Spleen\n",
    "im_paths = [\n",
    "    os.path.join(base_dir, '0', 'n22foC','ccidImage.ome.zarr'),\n",
    "    os.path.join(base_dir, '0', 'kqmZjJ','ccidImage.ome.zarr'),\n",
    "    #os.path.join(base_dir, '0', '5gG1iw','ccidImage.ome.zarr'),\n",
    "    os.path.join(base_dir, '0', 'n1DVkY','ccidImage.ome.zarr')\n",
    "]\n",
    "channel_ids = [2, 3, 2]"
   ]
  },
  {
   "cell_type": "code",
   "execution_count": null,
   "id": "145b24e5",
   "metadata": {},
   "outputs": [],
   "source": [
    "# Liver\n",
    "im_paths = [\n",
    "    os.path.join(base_dir, '0', 'SXejeM','ccidImage.ome.zarr'),\n",
    "    os.path.join(base_dir, '0', 'Iksums','ccidImage.ome.zarr'),\n",
    "    os.path.join(base_dir, '0', 'PTsqyH','ccidImage.ome.zarr'),\n",
    "    os.path.join(base_dir, '0', 'OO0Q6w','ccidImage.ome.zarr')\n",
    "]\n",
    "channel_ids = [3, 3, 3, 3]"
   ]
  },
  {
   "cell_type": "code",
   "execution_count": null,
   "id": "cc8ff2ba",
   "metadata": {},
   "outputs": [],
   "source": [
    "# get image information\n",
    "im_zarrs = [zarr_utils.open_as_zarr(x, as_dask = True) for x in im_paths]\n",
    "im_zarrs = [x[0] for x in im_zarrs]"
   ]
  },
  {
   "cell_type": "code",
   "execution_count": null,
   "id": "a2ee58a0",
   "metadata": {},
   "outputs": [],
   "source": [
    "# create dim utils for images\n",
    "dim_utils = [\n",
    "    DimUtils(ome_xml_utils.parse_meta(x), use_channel_axis = True) for x in im_paths\n",
    "]\n",
    "\n",
    "for i, x in enumerate(dim_utils):\n",
    "    x.calc_image_dimensions(im_zarrs[i][0].shape)"
   ]
  },
  {
   "cell_type": "code",
   "execution_count": null,
   "id": "93ef1315",
   "metadata": {},
   "outputs": [],
   "source": [
    "import numpy as np\n",
    "import matplotlib.pyplot as plt\n",
    "import math\n",
    "import shutil\n",
    "import zarr\n",
    "\n",
    "from skimage.color import separate_stains, combine_stains, hdx_from_rgb, rgb_from_hdx\n",
    "from skimage.registration import phase_cross_correlation\n",
    "from skimage.transform import warp_polar, rotate, rescale, warp, SimilarityTransform, AffineTransform\n",
    "from skimage.util import img_as_float"
   ]
  },
  {
   "cell_type": "code",
   "execution_count": null,
   "id": "f2c8b8a2",
   "metadata": {},
   "outputs": [],
   "source": [
    "\"\"\"\n",
    "Get shifts for image registration\n",
    "\"\"\"\n",
    "def image_registration_shifts(ims, channel_ids, radius = 1000, upsample_factor = 20):\n",
    "    # warp image for rotation\n",
    "    im_polar = warp_polar(np.amax(ims[0], axis = 0), radius = radius, scaling = 'log')\n",
    "    \n",
    "    shifts = list()\n",
    "    rotations = list()\n",
    "    \n",
    "    # go through images and find shifts based on first image\n",
    "    for i in range(1, len(ims)):\n",
    "        # apply translation shifts\n",
    "        shift, error, diffphase = phase_cross_correlation(ims[0], ims[i], upsample_factor = upsample_factor)\n",
    "        shifts.append(shift)\n",
    "        \n",
    "        tform = SimilarityTransform(translation = (-shift[0], -shift[1]))\n",
    "        im_warped = warp(ims[i], tform)\n",
    "\n",
    "        # apply rotation\n",
    "        other_polar = warp_polar(np.amax(im_warped, axis = 0), radius = radius, scaling = 'log')\n",
    "\n",
    "        shift, error, diffphase = phase_cross_correlation(im_polar, other_polar, upsample_factor = upsample_factor)\n",
    "        rotations.append(shift)\n",
    "\n",
    "        tform = AffineTransform(rotation = math.radians(-shift[0]))\n",
    "        im_warped = warp(im_warped, tform)\n",
    "\n",
    "        # apply translation shifts\n",
    "        shift, error, diffphase = phase_cross_correlation(ims[0], im_warped, upsample_factor = upsample_factor)\n",
    "        shifts[-1] = shifts[-1] + shift\n",
    "    \n",
    "    # convert to array\n",
    "    return np.vstack(shifts), np.vstack(rotations)"
   ]
  },
  {
   "cell_type": "code",
   "execution_count": null,
   "id": "7aa9bc19",
   "metadata": {},
   "outputs": [],
   "source": [
    "\"\"\"\n",
    "Register image\n",
    "\"\"\"\n",
    "def im_registration(\n",
    "    input_arrays, dim_utils_list, phase_shift_channels,\n",
    "    reg_path = None, normalise_percentile = 98,\n",
    "    upsample_factor = 100, shifts = None):\n",
    "    "
   ]
  },
  {
   "cell_type": "code",
   "execution_count": null,
   "id": "5700151c",
   "metadata": {},
   "outputs": [],
   "source": [
    "input_arrays = im_zarrs\n",
    "dim_utils_list = dim_utils\n",
    "phase_shift_channels = channel_ids\n",
    "reg_path = '/Volumes/Analysis_SSD/Dominik/TMP/reg000'\n",
    "shifts = None\n",
    "upsample_factor = 20\n",
    "normalise_percentile = 98"
   ]
  },
  {
   "cell_type": "code",
   "execution_count": null,
   "id": "067a5896",
   "metadata": {},
   "outputs": [],
   "source": [
    "a = [1,2,34,5]"
   ]
  },
  {
   "cell_type": "code",
   "execution_count": null,
   "id": "27bdfc8a",
   "metadata": {},
   "outputs": [],
   "source": [
    "a[1:2]"
   ]
  },
  {
   "cell_type": "code",
   "execution_count": null,
   "id": "e90981cc",
   "metadata": {},
   "outputs": [],
   "source": [
    "for i, x in enumerate(a[1:2]):\n",
    "    print(i)"
   ]
  },
  {
   "cell_type": "code",
   "execution_count": null,
   "id": "bcdaf002",
   "metadata": {},
   "outputs": [],
   "source": [
    "# get shifts\n",
    "if shifts is None:\n",
    "    print('>> Get shifts')\n",
    "    # get shifts from lowest res\n",
    "    low_res = len(input_arrays[0]) - 1\n",
    "\n",
    "    im_slices = [0 for _ in range(len(input_arrays[0][0].shape))]\n",
    "    im_slices[dim_utils_list[0].dim_idx('X')] = slice(0, min([x.dim_val('X', scale = low_res) for x in dim_utils_list]))\n",
    "    im_slices[dim_utils_list[0].dim_idx('Y')] = slice(0, min([x.dim_val('Y', scale = low_res) for x in dim_utils_list]))\n",
    "\n",
    "    if dim_utils_list[0].is_3D() is True:\n",
    "        im_slices[dim_utils_list[0].dim_idx('Z')] = slice(None)\n",
    "\n",
    "    # get low resolution images for registration\n",
    "    ims = list()\n",
    "\n",
    "    for i, x in enumerate(input_arrays):\n",
    "        im_slices[dim_utils[i].dim_idx('C')] = phase_shift_channels[i]\n",
    "        ims.append(zarr_utils.fortify(x[low_res][tuple(im_slices)]))\n",
    "\n",
    "        # normalise image\n",
    "        percentile = (np.percentile(ims[-1], normalise_percentile),\n",
    "                      np.percentile(ims[-1], 100 - normalise_percentile))\n",
    "        ims[-1] = ((ims[-1] - percentile[1]) / (percentile[0] - percentile[1]))\n",
    "\n",
    "    # get shifts and rotations\n",
    "    shifts, rotations = image_registration_shifts(\n",
    "        ims, phase_shift_channels,\n",
    "        upsample_factor = upsample_factor)"
   ]
  },
  {
   "cell_type": "code",
   "execution_count": null,
   "id": "6dd00534",
   "metadata": {},
   "outputs": [],
   "source": [
    "# get shifts summary\n",
    "shifts_summary = correction_utils.shifts_summary(shifts, cumulative = False)\n",
    "\n",
    "# get new image dimensions\n",
    "reg_im_shape, reg_im_shape_round = correction_utils.correction_im_shape(\n",
    "    input_arrays[0][0], dim_utils_list[0], shifts_summary\n",
    ")\n",
    "\n",
    "# get first image position\n",
    "first_im_pos = correction_utils.correction_first_im_pos(\n",
    "    reg_im_shape, dim_utils_list[0], shifts_summary\n",
    ")"
   ]
  },
  {
   "cell_type": "code",
   "execution_count": null,
   "id": "f04fce56",
   "metadata": {},
   "outputs": [],
   "source": [
    "first_im_pos"
   ]
  },
  {
   "cell_type": "code",
   "execution_count": null,
   "id": "495bface",
   "metadata": {},
   "outputs": [],
   "source": [
    "# remove previous folder\n",
    "if reg_path is not None and os.path.exists(reg_path) is True:\n",
    "    shutil.rmtree(reg_path)\n",
    "\n",
    "# add channels for new image\n",
    "reg_im_shape_round = list(reg_im_shape_round)\n",
    "# remove channel for registration from sum?\n",
    "#reg_im_shape_round[dim_utils_list[0].dim_idx('C')] = sum([x.dim_val('C') - 1 for x in dim_utils_list]) + 1\n",
    "reg_im_shape_round[dim_utils_list[0].dim_idx('C')] = sum([x.dim_val('C') for x in dim_utils_list])\n",
    "reg_im_shape_round = tuple(reg_im_shape_round)\n",
    "\n",
    "# create array\n",
    "reg_zarr = zarr.create(\n",
    "    reg_im_shape_round,\n",
    "    dtype = input_arrays[0][0].dtype,\n",
    "    chunks = input_arrays[0][0].chunksize,\n",
    "    store = reg_path\n",
    ")\n",
    "\n",
    "# use first position for slice\n",
    "slices = first_im_pos"
   ]
  },
  {
   "cell_type": "code",
   "execution_count": null,
   "id": "75cedd17",
   "metadata": {},
   "outputs": [],
   "source": [
    "print('>> Apply shifts')\n",
    "\n",
    "# go through images and register to first image\n",
    "for i, x in enumerate(input_arrays):\n",
    "    # create slice\n",
    "    if i > 0:\n",
    "        new_slices = list()\n",
    "\n",
    "        # adjust slices\n",
    "        for j, y in enumerate(slices):\n",
    "            new_slices.append(slice(\n",
    "              # subtract '1' because there is no\n",
    "              # shift for the first frame\n",
    "              y.start + shifts[i - 1, j],\n",
    "              y.stop + shifts[i - 1, j],\n",
    "              1\n",
    "            ))\n",
    "\n",
    "        # push back\n",
    "        slices = new_slices\n",
    "\n",
    "    # round for slicing\n",
    "    new_slices = [slice(None) for _ in range(len(reg_im_shape_round))]\n",
    "\n",
    "    # set Z, X, Y for new slices\n",
    "    for j, y in enumerate(('Z', 'Y', 'X')):\n",
    "        new_slices[dim_utils_list[i].dim_idx(y)] =  slice(round(slices[j].start), round(slices[j].stop), 1)\n",
    "\n",
    "    # set channel for new slice\n",
    "    prev_channels = sum([x.dim_val('C') for x in dim_utils_list[0:i]])\n",
    "    new_slices[dim_utils_list[i].dim_idx('C')] = slice(\n",
    "        prev_channels, prev_channels + dim_utils_list[i].dim_val('C'), 1)\n",
    "\n",
    "    # convert to tuple\n",
    "    new_slices = tuple(new_slices)\n",
    "    \n",
    "    print(f'>> reg {i}')\n",
    "    print(f'> {new_slices}')\n",
    "\n",
    "    # add to image list\n",
    "    new_image = np.zeros(reg_im_shape_round)\n",
    "\n",
    "    # check that slices match dimension\n",
    "    if new_image[new_slices].shape != x[0].shape:\n",
    "        # get wrong dimensions\n",
    "        dif_dim = [x - y for x, y in zip(\n",
    "            new_image[new_slices].shape,\n",
    "            x[0].shape\n",
    "        )]\n",
    "\n",
    "        # adjust dimensions\n",
    "        new_slices = list(new_slices)\n",
    "\n",
    "        for j, y in enumerate(dif_dim):\n",
    "            if y > 0:\n",
    "              # add?\n",
    "              new_slices[j] = slice(\n",
    "                  new_slices[j].start + y,\n",
    "                  new_slices[j].stop, 1)\n",
    "\n",
    "            if y < 0:\n",
    "              # add?\n",
    "              if new_slices[j].start - y >= 0:\n",
    "                new_slices[j] = slice(\n",
    "                  new_slices[j].start + y,\n",
    "                  new_slices[j].stop, 1)\n",
    "\n",
    "              # subtract?\n",
    "              elif new_slices[j].stop + y < reg_zarr.shape[j]:\n",
    "                new_slices[j] = slice(\n",
    "                  new_slices[j].start,\n",
    "                  new_slices[j].stop + y, 1)\n",
    "\n",
    "        new_slices = tuple(new_slices)\n",
    "\n",
    "    # apply rotation and push to zarr\n",
    "    reg_zarr[new_slices] = warp(x[0], AffineTransform(rotation = math.radians(-rotations[i - 1][0])))"
   ]
  },
  {
   "cell_type": "code",
   "execution_count": null,
   "id": "51d9e811",
   "metadata": {},
   "outputs": [],
   "source": [
    "im_registration(im_zarrs, dim_utils, channel_ids, reg_path)"
   ]
  },
  {
   "cell_type": "code",
   "execution_count": null,
   "id": "83f7a0a9",
   "metadata": {},
   "outputs": [],
   "source": [
    "# prepare image to compare\n",
    "before_rgb_im = combine_stains(np.dstack([np.amax(x, axis = 0) for x in ims]), rgb_from_hdx)"
   ]
  },
  {
   "cell_type": "code",
   "execution_count": null,
   "id": "1371d8ba",
   "metadata": {
    "scrolled": false
   },
   "outputs": [],
   "source": [
    "# merge signal\n",
    "after_rgb_im = combine_stains(np.dstack(np.amax(x, axis = 0) for x in warped_im), rgb_from_hdx)\n",
    "after_rgb_zoom = combine_stains(np.dstack(np.amax(x, axis = 0) for x in warped_zarr), rgb_from_hdx)\n",
    "\n",
    "fig, axes = plt.subplots(2, 2, figsize=(40, 40))\n",
    "ax = axes.ravel()\n",
    "ax[0].set_title(\"Nuclei\")\n",
    "\n",
    "show_slices[dim_utils[0].dim_idx('C')] = channel_ids[0]\n",
    "ax[0].set_title(\"Before\")\n",
    "ax[0].imshow(before_rgb_im)\n",
    "ax[1].set_title(\"Aligned\")\n",
    "ax[1].imshow(after_rgb_im)\n",
    "ax[2].set_title(\"Before\")\n",
    "ax[2].imshow(before_rgb_zoom)\n",
    "ax[3].set_title(\"Aligned\")\n",
    "ax[3].imshow(after_rgb_zoom)\n",
    "plt.show()"
   ]
  },
  {
   "cell_type": "code",
   "execution_count": null,
   "id": "7ef7ac5c",
   "metadata": {},
   "outputs": [],
   "source": []
  }
 ],
 "metadata": {
  "kernelspec": {
   "display_name": "Python 3 (ipykernel)",
   "language": "python",
   "name": "python3"
  },
  "language_info": {
   "codemirror_mode": {
    "name": "ipython",
    "version": 3
   },
   "file_extension": ".py",
   "mimetype": "text/x-python",
   "name": "python",
   "nbconvert_exporter": "python",
   "pygments_lexer": "ipython3",
   "version": "3.9.13"
  }
 },
 "nbformat": 4,
 "nbformat_minor": 5
}
