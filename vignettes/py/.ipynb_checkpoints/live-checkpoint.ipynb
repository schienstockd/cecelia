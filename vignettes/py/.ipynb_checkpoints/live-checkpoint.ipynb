{
 "cells": [
  {
   "cell_type": "code",
   "execution_count": 1,
   "id": "a2fc902c",
   "metadata": {},
   "outputs": [],
   "source": [
    "import os\n",
    "import numpy as np\n",
    "# import working directory to check functions\n",
    "os.chdir('/Users/Dominik/R-workspace/cecelia/inst')\n",
    "\n",
    "# MacOS\n",
    "os.environ['KMP_DUPLICATE_LIB_OK'] = 'TRUE'\n",
    "\n",
    "# config\n",
    "import py.config_utils as cfg\n",
    "\n",
    "%load_ext autoreload\n",
    "%autoreload 2"
   ]
  },
  {
   "cell_type": "code",
   "execution_count": 2,
   "id": "8f75f4eb",
   "metadata": {},
   "outputs": [],
   "source": [
    "base_dir = '/Volumes/USER_data/Dominik/CECELIA_BACKUP/CV5iNI/ANALYSIS/'\n",
    "zero_dir = os.path.join(base_dir, '0/DHiI67/')\n",
    "#im_path = os.path.join(zero_dir, 'ccidImage.ome.zarr')\n",
    "#im_path = os.path.join(zero_dir, 'ccidCorrected.zarr')\n",
    "im_path = os.path.join(zero_dir, 'ccidSlidingWindow.zarr')\n",
    "version_num = 1\n",
    "task_dir = os.path.join(base_dir, str(version_num), 'DHiI67')"
   ]
  },
  {
   "cell_type": "code",
   "execution_count": 3,
   "id": "68bceb7b",
   "metadata": {},
   "outputs": [
    {
     "name": "stderr",
     "output_type": "stream",
     "text": [
      "napari.manifest -> 'skan' could not be imported: Could not find file 'napari.yaml' in module 'skan'\n"
     ]
    }
   ],
   "source": [
    "from py.napari_utils import NapariUtils\n",
    "\n",
    "napari_utils = NapariUtils()\n",
    "napari_utils.open_viewer()\n",
    "napari_utils.task_dir = task_dir"
   ]
  },
  {
   "cell_type": "code",
   "execution_count": 4,
   "id": "75724ef2",
   "metadata": {},
   "outputs": [],
   "source": [
    "channel_names = [\n",
    "    # 'EB', 'T-A', 'T-B', 'AF', 'gen'\n",
    "    'One'\n",
    "]"
   ]
  },
  {
   "cell_type": "code",
   "execution_count": 5,
   "id": "10e3e72e",
   "metadata": {},
   "outputs": [
    {
     "name": "stdout",
     "output_type": "stream",
     "text": [
      "<zarr.hierarchy.Group '/' read-only>\n",
      "[81, 5, 12, 523, 523]\n",
      "[523, 523, 12, 5, 81]\n",
      "['X', 'Y', 'Z', 'C', 'T']\n",
      "[81, 5, 12, 523, 523]\n"
     ]
    }
   ],
   "source": [
    "napari_utils.open_image(\n",
    "    im_path,\n",
    "    use_channel_axis = True, as_dask = True,\n",
    "    downsample_z = False, squeeze = False\n",
    ")"
   ]
  },
  {
   "cell_type": "code",
   "execution_count": 8,
   "id": "7eebabcb",
   "metadata": {},
   "outputs": [
    {
     "name": "stdout",
     "output_type": "stream",
     "text": [
      "{'base': '/Volumes/USER_data/Dominik/CECELIA_BACKUP/CV5iNI/ANALYSIS/1/DHiI67/labels/SHG.branch.zarr'}\n",
      "(12, 523, 523)\n"
     ]
    },
    {
     "ename": "KeyError",
     "evalue": "'branch-weights'",
     "output_type": "error",
     "traceback": [
      "\u001b[0;31m---------------------------------------------------------------------------\u001b[0m",
      "\u001b[0;31mKeyError\u001b[0m                                  Traceback (most recent call last)",
      "File \u001b[0;32m~/Library/r-miniconda/envs/r-cecelia-env/lib/python3.9/site-packages/pandas/core/indexes/base.py:3652\u001b[0m, in \u001b[0;36mIndex.get_loc\u001b[0;34m(self, key)\u001b[0m\n\u001b[1;32m   3651\u001b[0m \u001b[38;5;28;01mtry\u001b[39;00m:\n\u001b[0;32m-> 3652\u001b[0m     \u001b[38;5;28;01mreturn\u001b[39;00m \u001b[38;5;28;43mself\u001b[39;49m\u001b[38;5;241;43m.\u001b[39;49m\u001b[43m_engine\u001b[49m\u001b[38;5;241;43m.\u001b[39;49m\u001b[43mget_loc\u001b[49m\u001b[43m(\u001b[49m\u001b[43mcasted_key\u001b[49m\u001b[43m)\u001b[49m\n\u001b[1;32m   3653\u001b[0m \u001b[38;5;28;01mexcept\u001b[39;00m \u001b[38;5;167;01mKeyError\u001b[39;00m \u001b[38;5;28;01mas\u001b[39;00m err:\n",
      "File \u001b[0;32m~/Library/r-miniconda/envs/r-cecelia-env/lib/python3.9/site-packages/pandas/_libs/index.pyx:147\u001b[0m, in \u001b[0;36mpandas._libs.index.IndexEngine.get_loc\u001b[0;34m()\u001b[0m\n",
      "File \u001b[0;32m~/Library/r-miniconda/envs/r-cecelia-env/lib/python3.9/site-packages/pandas/_libs/index.pyx:176\u001b[0m, in \u001b[0;36mpandas._libs.index.IndexEngine.get_loc\u001b[0;34m()\u001b[0m\n",
      "File \u001b[0;32mpandas/_libs/hashtable_class_helper.pxi:7080\u001b[0m, in \u001b[0;36mpandas._libs.hashtable.PyObjectHashTable.get_item\u001b[0;34m()\u001b[0m\n",
      "File \u001b[0;32mpandas/_libs/hashtable_class_helper.pxi:7088\u001b[0m, in \u001b[0;36mpandas._libs.hashtable.PyObjectHashTable.get_item\u001b[0;34m()\u001b[0m\n",
      "\u001b[0;31mKeyError\u001b[0m: 'branch-weights'",
      "\nThe above exception was the direct cause of the following exception:\n",
      "\u001b[0;31mKeyError\u001b[0m                                  Traceback (most recent call last)",
      "Cell \u001b[0;32mIn[8], line 1\u001b[0m\n\u001b[0;32m----> 1\u001b[0m \u001b[43mnapari_utils\u001b[49m\u001b[38;5;241;43m.\u001b[39;49m\u001b[43mshow_labels_all\u001b[49m\u001b[43m(\u001b[49m\n\u001b[1;32m      2\u001b[0m \u001b[43m    \u001b[49m\u001b[43mshow_labels\u001b[49m\u001b[43m \u001b[49m\u001b[38;5;241;43m=\u001b[39;49m\u001b[43m \u001b[49m\u001b[38;5;28;43;01mTrue\u001b[39;49;00m\u001b[43m,\u001b[49m\n\u001b[1;32m      3\u001b[0m \u001b[43m    \u001b[49m\u001b[43mshow_points\u001b[49m\u001b[43m \u001b[49m\u001b[38;5;241;43m=\u001b[39;49m\u001b[43m \u001b[49m\u001b[38;5;28;43;01mFalse\u001b[39;49;00m\u001b[43m,\u001b[49m\n\u001b[1;32m      4\u001b[0m \u001b[43m    \u001b[49m\u001b[43mshow_tracks\u001b[49m\u001b[43m \u001b[49m\u001b[38;5;241;43m=\u001b[39;49m\u001b[43m \u001b[49m\u001b[38;5;28;43;01mFalse\u001b[39;49;00m\u001b[43m,\u001b[49m\n\u001b[1;32m      5\u001b[0m \u001b[43m    \u001b[49m\u001b[43mshow_branching\u001b[49m\u001b[43m \u001b[49m\u001b[38;5;241;43m=\u001b[39;49m\u001b[43m \u001b[49m\u001b[38;5;28;43;01mTrue\u001b[39;49;00m\u001b[43m,\u001b[49m\n\u001b[1;32m      6\u001b[0m \u001b[43m    \u001b[49m\u001b[43mbranching_property\u001b[49m\u001b[43m \u001b[49m\u001b[38;5;241;43m=\u001b[39;49m\u001b[43m \u001b[49m\u001b[38;5;124;43m'\u001b[39;49m\u001b[38;5;124;43mweights\u001b[39;49m\u001b[38;5;124;43m'\u001b[39;49m\u001b[43m,\u001b[49m\n\u001b[1;32m      7\u001b[0m \u001b[43m    \u001b[49m\u001b[43mvalue_names\u001b[49m\u001b[43m \u001b[49m\u001b[38;5;241;43m=\u001b[39;49m\u001b[43m \u001b[49m\u001b[43m[\u001b[49m\u001b[38;5;124;43m'\u001b[39;49m\u001b[38;5;124;43mSHG.branch\u001b[39;49m\u001b[38;5;124;43m'\u001b[39;49m\u001b[43m]\u001b[49m\n\u001b[1;32m      8\u001b[0m \u001b[43m)\u001b[49m\n",
      "File \u001b[0;32m~/R-workspace/cecelia/inst/py/napari_utils.py:444\u001b[0m, in \u001b[0;36mNapariUtils.show_labels_all\u001b[0;34m(self, value_names, label_suffixes, **kwargs)\u001b[0m\n\u001b[1;32m    440\u001b[0m \u001b[38;5;28;01mfor\u001b[39;00m i, x \u001b[38;5;129;01min\u001b[39;00m \u001b[38;5;28menumerate\u001b[39m(value_names):\n\u001b[1;32m    441\u001b[0m   \u001b[38;5;66;03m# get suffixes for value name\u001b[39;00m\n\u001b[1;32m    442\u001b[0m   value_name_suffixes \u001b[38;5;241m=\u001b[39m label_suffixes[x] \u001b[38;5;28;01mif\u001b[39;00m x \u001b[38;5;129;01min\u001b[39;00m label_suffixes \u001b[38;5;28;01melse\u001b[39;00m []\n\u001b[0;32m--> 444\u001b[0m   \u001b[38;5;28;43mself\u001b[39;49m\u001b[38;5;241;43m.\u001b[39;49m\u001b[43mshow_labels\u001b[49m\u001b[43m(\u001b[49m\u001b[43mx\u001b[49m\u001b[43m,\u001b[49m\u001b[43m \u001b[49m\u001b[43mlabel_suffixes\u001b[49m\u001b[43m \u001b[49m\u001b[38;5;241;43m=\u001b[39;49m\u001b[43m \u001b[49m\u001b[43mvalue_name_suffixes\u001b[49m\u001b[43m,\u001b[49m\u001b[43m \u001b[49m\u001b[38;5;241;43m*\u001b[39;49m\u001b[38;5;241;43m*\u001b[39;49m\u001b[43mkwargs\u001b[49m\u001b[43m)\u001b[49m\n",
      "File \u001b[0;32m~/R-workspace/cecelia/inst/py/napari_utils.py:581\u001b[0m, in \u001b[0;36mNapariUtils.show_labels\u001b[0;34m(self, value_name, show_labels, show_points, show_label_ids, as_np_array, show_tracks, points_colour, cache, label_suffixes, show_branching, branching_property, slices, split_tracks, tracks_blending)\u001b[0m\n\u001b[1;32m    575\u001b[0m paths_table \u001b[38;5;241m=\u001b[39m \u001b[38;5;28mself\u001b[39m\u001b[38;5;241m.\u001b[39mlabel_props_utils\\\n\u001b[1;32m    576\u001b[0m   \u001b[38;5;241m.\u001b[39mlabel_props_view(value_name \u001b[38;5;241m=\u001b[39m value_name)\\\n\u001b[1;32m    577\u001b[0m   \u001b[38;5;241m.\u001b[39mview_cols([\u001b[38;5;124m'\u001b[39m\u001b[38;5;124mlabel\u001b[39m\u001b[38;5;124m'\u001b[39m, branching_property_col])\\\n\u001b[1;32m    578\u001b[0m   \u001b[38;5;241m.\u001b[39mvalues_obs()\n\u001b[1;32m    580\u001b[0m \u001b[38;5;66;03m#branching_values = paths_table['branch-distance'].values\u001b[39;00m\n\u001b[0;32m--> 581\u001b[0m branching_values \u001b[38;5;241m=\u001b[39m \u001b[43mpaths_table\u001b[49m\u001b[43m[\u001b[49m\u001b[43mbranching_property_col\u001b[49m\u001b[43m]\u001b[49m\u001b[38;5;241m.\u001b[39mvalues\n\u001b[1;32m    583\u001b[0m \u001b[38;5;66;03m# get max value from intensity\u001b[39;00m\n\u001b[1;32m    584\u001b[0m max_chnl_val \u001b[38;5;241m=\u001b[39m np\u001b[38;5;241m.\u001b[39mpercentile(branching_values, percentile)\n",
      "File \u001b[0;32m~/Library/r-miniconda/envs/r-cecelia-env/lib/python3.9/site-packages/pandas/core/frame.py:3761\u001b[0m, in \u001b[0;36mDataFrame.__getitem__\u001b[0;34m(self, key)\u001b[0m\n\u001b[1;32m   3759\u001b[0m \u001b[38;5;28;01mif\u001b[39;00m \u001b[38;5;28mself\u001b[39m\u001b[38;5;241m.\u001b[39mcolumns\u001b[38;5;241m.\u001b[39mnlevels \u001b[38;5;241m>\u001b[39m \u001b[38;5;241m1\u001b[39m:\n\u001b[1;32m   3760\u001b[0m     \u001b[38;5;28;01mreturn\u001b[39;00m \u001b[38;5;28mself\u001b[39m\u001b[38;5;241m.\u001b[39m_getitem_multilevel(key)\n\u001b[0;32m-> 3761\u001b[0m indexer \u001b[38;5;241m=\u001b[39m \u001b[38;5;28;43mself\u001b[39;49m\u001b[38;5;241;43m.\u001b[39;49m\u001b[43mcolumns\u001b[49m\u001b[38;5;241;43m.\u001b[39;49m\u001b[43mget_loc\u001b[49m\u001b[43m(\u001b[49m\u001b[43mkey\u001b[49m\u001b[43m)\u001b[49m\n\u001b[1;32m   3762\u001b[0m \u001b[38;5;28;01mif\u001b[39;00m is_integer(indexer):\n\u001b[1;32m   3763\u001b[0m     indexer \u001b[38;5;241m=\u001b[39m [indexer]\n",
      "File \u001b[0;32m~/Library/r-miniconda/envs/r-cecelia-env/lib/python3.9/site-packages/pandas/core/indexes/base.py:3654\u001b[0m, in \u001b[0;36mIndex.get_loc\u001b[0;34m(self, key)\u001b[0m\n\u001b[1;32m   3652\u001b[0m     \u001b[38;5;28;01mreturn\u001b[39;00m \u001b[38;5;28mself\u001b[39m\u001b[38;5;241m.\u001b[39m_engine\u001b[38;5;241m.\u001b[39mget_loc(casted_key)\n\u001b[1;32m   3653\u001b[0m \u001b[38;5;28;01mexcept\u001b[39;00m \u001b[38;5;167;01mKeyError\u001b[39;00m \u001b[38;5;28;01mas\u001b[39;00m err:\n\u001b[0;32m-> 3654\u001b[0m     \u001b[38;5;28;01mraise\u001b[39;00m \u001b[38;5;167;01mKeyError\u001b[39;00m(key) \u001b[38;5;28;01mfrom\u001b[39;00m \u001b[38;5;21;01merr\u001b[39;00m\n\u001b[1;32m   3655\u001b[0m \u001b[38;5;28;01mexcept\u001b[39;00m \u001b[38;5;167;01mTypeError\u001b[39;00m:\n\u001b[1;32m   3656\u001b[0m     \u001b[38;5;66;03m# If we have a listlike key, _check_indexing_error will raise\u001b[39;00m\n\u001b[1;32m   3657\u001b[0m     \u001b[38;5;66;03m#  InvalidIndexError. Otherwise we fall through and re-raise\u001b[39;00m\n\u001b[1;32m   3658\u001b[0m     \u001b[38;5;66;03m#  the TypeError.\u001b[39;00m\n\u001b[1;32m   3659\u001b[0m     \u001b[38;5;28mself\u001b[39m\u001b[38;5;241m.\u001b[39m_check_indexing_error(key)\n",
      "\u001b[0;31mKeyError\u001b[0m: 'branch-weights'"
     ]
    }
   ],
   "source": [
    "napari_utils.show_labels_all(\n",
    "    show_labels = True,\n",
    "    show_points = False,\n",
    "    show_tracks = False,\n",
    "    show_branching = True,\n",
    "    branching_property = 'weight',\n",
    "    value_names = ['SHG.branch']\n",
    ")"
   ]
  },
  {
   "cell_type": "code",
   "execution_count": null,
   "id": "ac9b65a1",
   "metadata": {},
   "outputs": [],
   "source": [
    "napari_utils.show_labels_all(\n",
    "    show_labels = False,\n",
    "    show_points = False,\n",
    "    show_tracks = True,\n",
    "    value_names = ['P14-CTDR']\n",
    ")"
   ]
  },
  {
   "cell_type": "code",
   "execution_count": null,
   "id": "8056458e",
   "metadata": {},
   "outputs": [],
   "source": [
    "# get timescale\n",
    "napari_utils.time_interval = 0.5"
   ]
  },
  {
   "cell_type": "code",
   "execution_count": null,
   "id": "d2c3b11e",
   "metadata": {},
   "outputs": [],
   "source": [
    "napari_utils.viewer.text_overlay.position = napa"
   ]
  },
  {
   "cell_type": "code",
   "execution_count": null,
   "id": "676e3976",
   "metadata": {},
   "outputs": [],
   "source": [
    "def update_slider(event):\n",
    "    # https://forum.image.sc/t/napari-how-add-a-text-label-time-always-in-the-same-spot-in-viewer/52932/5\n",
    "    time = napari_utils.viewer.dims.current_step[0]\n",
    "    napari_utils.viewer.text_overlay.text = str(datetime.timedelta(seconds = time * napari_utils.time_interval * 60))\n",
    "\n",
    "import datetime\n",
    "\n",
    "napari_utils.viewer.text_overlay.position\n",
    "napari_utils.viewer.text_overlay.visible = True\n",
    "napari_utils.viewer.text_overlay.font_size = 12\n",
    "napari_utils.viewer.text_overlay.color = 'white'\n",
    "napari_utils.viewer.dims.events.current_step.connect(update_slider)"
   ]
  },
  {
   "cell_type": "code",
   "execution_count": null,
   "id": "f6b6f4da",
   "metadata": {},
   "outputs": [],
   "source": [
    "napari_utils.im_scale"
   ]
  },
  {
   "cell_type": "code",
   "execution_count": null,
   "id": "4181f11d",
   "metadata": {},
   "outputs": [],
   "source": [
    "napari_utils.show_labels_all(\n",
    "    show_labels = True,\n",
    "    show_points = False,\n",
    "    show_tracks = False,\n",
    "    value_names = ['manual'],\n",
    "    as_np_array = True\n",
    ")"
   ]
  },
  {
   "cell_type": "code",
   "execution_count": null,
   "id": "a4795aa6",
   "metadata": {},
   "outputs": [],
   "source": [
    "# show populations\n",
    "napari_utils.show_pop_mapping('live')"
   ]
  },
  {
   "cell_type": "code",
   "execution_count": null,
   "id": "9dc9ea21",
   "metadata": {},
   "outputs": [],
   "source": [
    "# save image as tiff\n",
    "import py.tiff_utils as tiff_utils\n",
    "\n",
    "tiff_utils.save_as_tiff(\n",
    "    '/Volumes/USER_data/Dominik/Experiments/TEAGEN_SKIN/DATA/PuJo5p.tif',\n",
    "    napari_utils.im_data[0], napari_utils.dim_utils, imagej = True)"
   ]
  },
  {
   "cell_type": "code",
   "execution_count": null,
   "id": "11d94ed5",
   "metadata": {},
   "outputs": [],
   "source": [
    "print('here')"
   ]
  },
  {
   "cell_type": "code",
   "execution_count": null,
   "id": "845275bb",
   "metadata": {},
   "outputs": [],
   "source": [
    "napari_utils.im_scale"
   ]
  },
  {
   "cell_type": "code",
   "execution_count": null,
   "id": "a1f26ae6",
   "metadata": {},
   "outputs": [],
   "source": [
    "from napari_animation import AnimationWidget\n",
    "animation_widget = AnimationWidget(napari_utils.viewer)\n",
    "napari_utils.viewer.window.add_dock_widget(animation_widget, area='right')"
   ]
  },
  {
   "cell_type": "code",
   "execution_count": null,
   "id": "a6ab6541",
   "metadata": {},
   "outputs": [],
   "source": [
    "pop_type = 'live'\n",
    "pop_map = napari_utils.pop_utils.pop_map(napari_utils.task_dir, pop_type)\n",
    "pop_data = napari_utils.pop_utils.pop_data(napari_utils.task_dir, pop_type)"
   ]
  },
  {
   "cell_type": "code",
   "execution_count": null,
   "id": "971a2e9f",
   "metadata": {},
   "outputs": [],
   "source": [
    "pop_info = pop_map['5iaWSo']"
   ]
  },
  {
   "cell_type": "code",
   "execution_count": null,
   "id": "56530832",
   "metadata": {},
   "outputs": [],
   "source": [
    "pop_info"
   ]
  },
  {
   "cell_type": "code",
   "execution_count": null,
   "id": "bbf3c9e9",
   "metadata": {},
   "outputs": [],
   "source": []
  }
 ],
 "metadata": {
  "kernelspec": {
   "display_name": "Python 3 (ipykernel)",
   "language": "python",
   "name": "python3"
  },
  "language_info": {
   "codemirror_mode": {
    "name": "ipython",
    "version": 3
   },
   "file_extension": ".py",
   "mimetype": "text/x-python",
   "name": "python",
   "nbconvert_exporter": "python",
   "pygments_lexer": "ipython3",
   "version": "3.9.16"
  }
 },
 "nbformat": 4,
 "nbformat_minor": 5
}
