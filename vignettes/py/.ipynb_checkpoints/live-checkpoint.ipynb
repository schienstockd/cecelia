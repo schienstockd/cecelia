{
 "cells": [
  {
   "cell_type": "code",
   "execution_count": 1,
   "id": "a2fc902c",
   "metadata": {},
   "outputs": [],
   "source": [
    "import os\n",
    "import numpy as np\n",
    "# import working directory to check functions\n",
    "os.chdir('/Users/Dominik/R-workspace/cecelia/inst')\n",
    "\n",
    "# MacOS\n",
    "os.environ['KMP_DUPLICATE_LIB_OK'] = 'TRUE'\n",
    "\n",
    "# config\n",
    "import py.config_utils as cfg\n",
    "\n",
    "%load_ext autoreload\n",
    "%autoreload 2"
   ]
  },
  {
   "cell_type": "code",
   "execution_count": 2,
   "id": "8f75f4eb",
   "metadata": {},
   "outputs": [],
   "source": [
    "#base_dir = '/Volumes/USER_data/Dominik/CECELIA_BACKUP/CV5iNI/ANALYSIS/'\n",
    "#base_dir = '/Volumes/Analysis_SSD/Communal/cecelia/projects/az8y8l/ANALYSIS'\n",
    "base_dir = '/Volumes/USER_data/Dominik/CECELIA_BACKUP/uh0h3c/ANALYSIS'\n",
    "\n",
    "zero_dir = os.path.join(base_dir, '0/kwLJ2A/')\n",
    "im_path = os.path.join(zero_dir, 'ccidImage.ome.zarr')\n",
    "#im_path = os.path.join(zero_dir, 'ccidCorrected.zarr')\n",
    "#im_path = os.path.join(zero_dir, 'ccidSlidingWindow.zarr')\n",
    "#im_path = os.path.join(zero_dir, 'ccidImage.zarr')\n",
    "#im_path = os.path.join(zero_dir, 'ccidN2V.zarr')\n",
    "version_num = 1\n",
    "task_dir = os.path.join(base_dir, str(version_num), 'kwLJ2A')"
   ]
  },
  {
   "cell_type": "code",
   "execution_count": 3,
   "id": "68bceb7b",
   "metadata": {},
   "outputs": [],
   "source": [
    "from py.napari_utils import NapariUtils\n",
    "\n",
    "napari_utils = NapariUtils()\n",
    "napari_utils.open_viewer()\n",
    "napari_utils.task_dir = task_dir"
   ]
  },
  {
   "cell_type": "code",
   "execution_count": 4,
   "id": "75724ef2",
   "metadata": {},
   "outputs": [],
   "source": [
    "channel_names = [\n",
    "    # 'EB', 'T-A', 'T-B', 'AF', 'gen'\n",
    "    'One'\n",
    "]"
   ]
  },
  {
   "cell_type": "code",
   "execution_count": 5,
   "id": "10e3e72e",
   "metadata": {},
   "outputs": [
    {
     "name": "stdout",
     "output_type": "stream",
     "text": [
      "<zarr.hierarchy.Group '/0' read-only>\n",
      "[4, 1, 1, 640, 680]\n",
      "[680, 640, 1, 1, 4]\n",
      "['X', 'Y', 'Z', 'C', 'T']\n",
      "[4, 1, 1, 640, 680]\n"
     ]
    }
   ],
   "source": [
    "napari_utils.open_image(\n",
    "    im_path,\n",
    "    use_channel_axis = True, as_dask = True,\n",
    "    downsample_z = False, squeeze = False,\n",
    "    visible = True, channel_names = channel_names\n",
    ")"
   ]
  },
  {
   "cell_type": "code",
   "execution_count": 6,
   "id": "83ed574f-9ac2-41de-98d4-f7d5d818c779",
   "metadata": {},
   "outputs": [
    {
     "name": "stdout",
     "output_type": "stream",
     "text": [
      "{'base': '/Volumes/USER_data/Dominik/CECELIA_BACKUP/uh0h3c/ANALYSIS/1/kwLJ2A/labels/fibres.zarr'}\n",
      "<zarr.hierarchy.Group '/' read-only>\n",
      "(4, 1, 640, 680)\n"
     ]
    }
   ],
   "source": [
    "napari_utils.show_labels_all(\n",
    "    show_labels = True,\n",
    "    show_points = False,\n",
    "    show_tracks = False,\n",
    "    value_names = ['fibres']\n",
    ")"
   ]
  },
  {
   "cell_type": "code",
   "execution_count": null,
   "id": "7ccb7263-3628-4240-a603-7567c4a833e4",
   "metadata": {},
   "outputs": [],
   "source": []
  },
  {
   "cell_type": "code",
   "execution_count": null,
   "id": "01565f2f-3806-4753-a470-d50e423f92e3",
   "metadata": {},
   "outputs": [],
   "source": [
    "napari_utils."
   ]
  },
  {
   "cell_type": "code",
   "execution_count": null,
   "id": "7bad7464-1544-4ec0-84fa-bee9cbdd543f",
   "metadata": {},
   "outputs": [],
   "source": [
    "# can you save back as 8bit with a normalised scale\n",
    "napari_utils.im_data[0]"
   ]
  },
  {
   "cell_type": "code",
   "execution_count": null,
   "id": "df9f560d-ba9e-4bf0-abdc-dfc2eac210c2",
   "metadata": {
    "scrolled": true
   },
   "outputs": [],
   "source": [
    "import py.zarr_utils as zarr_utils\n",
    "\n",
    "# you could subtract the minimum of every row to get rid of these stripes?\n",
    "channels = [9, 13]\n",
    "\n",
    "t_val = napari_utils.dim_utils.dim_val('T')\n",
    "c_val = napari_utils.dim_utils.dim_val('C')\n",
    "z_val = napari_utils.dim_utils.dim_val('Z')\n",
    "\n",
    "t_idx = napari_utils.dim_utils.dim_idx('T')\n",
    "c_idx = napari_utils.dim_utils.dim_idx('C')\n",
    "z_idx = napari_utils.dim_utils.dim_idx('Z')\n",
    "\n",
    "is_3D = napari_utils.dim_utils.is_3D()\n",
    "slices = [slice(None) for _ in range(len(napari_utils.im_data[0].shape))]\n",
    "\n",
    "im_data = napari_utils.im_data[0]\n",
    "\n",
    "def process_slice(im, stripe_perc = 20, axis = 1):\n",
    "    # get row value\n",
    "    row_perc = np.percentile(im, stripe_perc, axis = axis)\n",
    "    \n",
    "    # correct\n",
    "    corrected = (im.T - row_perc).T\n",
    "    corrected[corrected < 0] = 0\n",
    "    \n",
    "    return corrected.astype(im.dtype)\n",
    "\n",
    "# go through all channels, timepoints and Z\n",
    "for c in channels:\n",
    "    slices[c_idx] = c\n",
    "    if napari_utils.dim_utils.is_timeseries():\n",
    "        for t in range(t_val):\n",
    "            slices[t_idx] = t\n",
    "            \n",
    "            if is_3D:\n",
    "                for z in range(z_val):\n",
    "                    slices[z_idx] = z\n",
    "            \n",
    "                    im_data[tuple(slices)] = process_slice(zarr_utils.fortify(im_data[tuple(slices)]))\n",
    "            else:\n",
    "                im_data[tuple(slices)] = process_slice(zarr_utils.fortify(im_data[tuple(slices)]))\n",
    "    else:\n",
    "        if is_3D:\n",
    "            for z in range(z_val):\n",
    "                slices[z_idx] = z\n",
    "        \n",
    "                im_data[tuple(slices)] = process_slice(zarr_utils.fortify(im_data[tuple(slices)]))\n",
    "        else:\n",
    "            im_data[tuple(slices)] = process_slice(zarr_utils.fortify(im_data[tuple(slices)]))"
   ]
  },
  {
   "cell_type": "code",
   "execution_count": null,
   "id": "4a439222-7345-4e0c-a9db-63ff994698e6",
   "metadata": {},
   "outputs": [],
   "source": [
    "\n",
    "range(1)\n"
   ]
  },
  {
   "cell_type": "code",
   "execution_count": null,
   "id": "c1dc0a91-b66e-4d89-bfa1-de6afd4823a0",
   "metadata": {},
   "outputs": [],
   "source": []
  },
  {
   "cell_type": "code",
   "execution_count": null,
   "id": "a1d608fb-3803-454b-b50b-beb6a5cf6497",
   "metadata": {},
   "outputs": [],
   "source": []
  },
  {
   "cell_type": "code",
   "execution_count": null,
   "id": "bf6465bc-b69f-47d7-ac81-9381f3277884",
   "metadata": {},
   "outputs": [],
   "source": [
    "from matplotlib import pyplot as plt\n",
    "\n",
    "plt.figure(figsize=(30,30))\n",
    "plt.subplot(1,2,1)\n",
    "plt.imshow(\n",
    "    im, cmap='magma',\n",
    "    vmin=np.percentile(im,0.01),\n",
    "    vmax=np.percentile(im,99.99)\n",
    ")\n",
    "plt.title('Input')\n",
    "\n",
    "plt.subplot(1,2,2)\n",
    "plt.imshow(corrected,\n",
    "           cmap='magma',\n",
    "           vmin=np.percentile(corrected,0.01),\n",
    "           vmax=np.percentile(corrected,99.99)\n",
    "          )\n",
    "plt.title('Correction')"
   ]
  },
  {
   "cell_type": "code",
   "execution_count": null,
   "id": "74ab66c9-e54f-4df6-92d6-a41865353132",
   "metadata": {},
   "outputs": [],
   "source": [
    "import py.zarr_utils as zarr_utils\n",
    "\n",
    "im = zarr_utils.fortify(napari_utils.im_data[0])"
   ]
  },
  {
   "cell_type": "code",
   "execution_count": null,
   "id": "4181a825-ea2d-498c-98f9-efbff4e9e235",
   "metadata": {},
   "outputs": [],
   "source": [
    "a, a_chunks = zarr_utils.create_zarr_from_ndarray(\n",
    "    im, dim_utils = None, im_chunks = (1, 1, 1024, 1024), copy_values = False)"
   ]
  },
  {
   "cell_type": "code",
   "execution_count": null,
   "id": "9c961d72-94f2-4c48-a7f3-5c3e2489664e",
   "metadata": {},
   "outputs": [],
   "source": [
    "a.chunks"
   ]
  },
  {
   "cell_type": "code",
   "execution_count": null,
   "id": "19c17be8-a930-4037-b1a9-a4b469ff497d",
   "metadata": {},
   "outputs": [],
   "source": [
    "import py.zarr_utils as zarr_utils\n",
    "\n",
    "# can you somehow get the signal that is in all channels across the planes?\n",
    "#planes = (2, 6, 10)\n",
    "planes = (6, 10, 14)\n",
    "slices = [slice(None) for _ in range(len(napari_utils.im_data[0].shape))]\n",
    "c_idx = napari_utils.dim_utils.dim_idx('C')\n",
    "\n",
    "# go through planes\n",
    "imgs = []\n",
    "for i in planes:\n",
    "    slices[c_idx] = i\n",
    "    imgs.append(napari_utils.im_data[0][tuple(slices)])"
   ]
  },
  {
   "cell_type": "code",
   "execution_count": null,
   "id": "f37f05ec-d430-47b0-a656-1360cd6db783",
   "metadata": {},
   "outputs": [],
   "source": [
    "import dask.array as da\n",
    "\n",
    "im_max = da.max(da.stack(imgs), axis = 0)\n",
    "im_min = da.min(da.stack(imgs), axis = 0)"
   ]
  },
  {
   "cell_type": "code",
   "execution_count": null,
   "id": "fa7cc239-5ca8-4b62-a5ad-2832ba3c44d7",
   "metadata": {},
   "outputs": [],
   "source": [
    "im_max_array = zarr_utils.fortify(im_max)\n",
    "im_min_array = zarr_utils.fortify(im_min)"
   ]
  },
  {
   "cell_type": "code",
   "execution_count": null,
   "id": "7c70a590-88dc-43b0-b448-0e169c1c23c2",
   "metadata": {},
   "outputs": [],
   "source": [
    "im_max_range = (np.percentile(im_max_array, 0.01), np.percentile(im_max_array, 99.99))\n",
    "im_min_range = (np.percentile(im_min_array, 0.01), np.percentile(im_min_array, 99.99))\n",
    "(im_max_range, im_min_range)"
   ]
  },
  {
   "cell_type": "code",
   "execution_count": null,
   "id": "ecf60ac8-a31c-46f4-9bb2-d293019cdb86",
   "metadata": {},
   "outputs": [],
   "source": [
    "# normalise\n",
    "im_max_norm = (im_max_array - im_max_range[0]) / (im_max_range[1] - im_max_range[0])\n",
    "im_min_norm = (im_min_array - im_min_range[0]) / (im_min_range[1] - im_min_range[0])\n",
    "\n",
    "im_max_norm[im_max_norm > 1] = 1\n",
    "im_min_norm[im_min_norm > 1] = 1"
   ]
  },
  {
   "cell_type": "code",
   "execution_count": null,
   "id": "7876ad3a-6ab6-40d8-b38b-2d67c3b1cd21",
   "metadata": {},
   "outputs": [],
   "source": [
    "napari_utils.viewer.add_image(\n",
    "    im_max_norm,\n",
    "    scale = napari_utils.im_scale,\n",
    "    blending = 'additive',\n",
    "    colormap = 'green'\n",
    ")\n",
    "napari_utils.viewer.add_image(\n",
    "    im_min_norm,\n",
    "    scale = napari_utils.im_scale,\n",
    "    blending = 'additive',\n",
    "    colormap = 'magenta'\n",
    ")"
   ]
  },
  {
   "cell_type": "code",
   "execution_count": null,
   "id": "1ba322ae-edb2-4d0d-8afd-6f34843101cc",
   "metadata": {},
   "outputs": [],
   "source": [
    "im_norm_diff_range"
   ]
  },
  {
   "cell_type": "code",
   "execution_count": null,
   "id": "3213500f-d7d8-4330-8470-ead1bec8d25e",
   "metadata": {},
   "outputs": [],
   "source": [
    "#im_norm_diff = np.abs(im_max_norm - im_min_norm)\n",
    "im_norm_diff = (im_min_norm + 1) / (im_max_norm + 1)\n",
    "im_norm_diff_range = (im_norm_diff.min(), im_norm_diff.max())\n",
    "im_norm_diff = (im_norm_diff - im_norm_diff_range[0]) / (im_norm_diff_range[1] - im_norm_diff_range[0])"
   ]
  },
  {
   "cell_type": "code",
   "execution_count": null,
   "id": "927cbe3b-6e27-4377-a395-855670b050ba",
   "metadata": {},
   "outputs": [],
   "source": [
    "# take minimum across planes?\n",
    "napari_utils.viewer.add_image(\n",
    "    im_norm_diff,\n",
    "    scale = napari_utils.im_scale,\n",
    "    blending = 'additive',\n",
    "    colormap = 'gray'\n",
    ")"
   ]
  },
  {
   "cell_type": "code",
   "execution_count": null,
   "id": "a4005395-410f-4843-abf7-c1c756d7f472",
   "metadata": {
    "scrolled": true
   },
   "outputs": [],
   "source": [
    "napari_utils.show_labels_all(\n",
    "    show_labels = False,\n",
    "    show_points = False,\n",
    "    show_tracks = True,\n",
    "    value_names = ['IJ.manual']\n",
    ")"
   ]
  },
  {
   "cell_type": "code",
   "execution_count": null,
   "id": "fbe851b4-15d6-4006-9775-5346c55498c8",
   "metadata": {},
   "outputs": [],
   "source": [
    "napari_utils.dim_utils.im_scale(\n",
    "    dims = napari_utils.dim_utils.trimmed_default_dim_order(\n",
    "        ignore_channel = True, squeeze = True))"
   ]
  },
  {
   "cell_type": "code",
   "execution_count": null,
   "id": "74f7992a-415e-4aca-b9e0-14174a159b22",
   "metadata": {},
   "outputs": [],
   "source": [
    "napari_utils.im_scale.copy()"
   ]
  },
  {
   "cell_type": "code",
   "execution_count": null,
   "id": "8760f5b1-23da-4143-a605-d75717b70304",
   "metadata": {},
   "outputs": [],
   "source": [
    "value_name = 'merged'\n",
    "\n",
    "labels_view = napari_utils.label_props_utils.label_props_view(value_name = value_name)\n",
    "\n",
    "if labels_view is not None:\n",
    "    if labels_view.has_cols(['track_id'], dat_type = 'obs'):\n",
    "        # get tracks\n",
    "        tracks = labels_view.view_centroid_cols(napari_utils.dim_utils.im_dim_order)\\\n",
    "            .view_obs_cols(['track_id'])\\\n",
    "            .as_df()\\\n",
    "            .dropna()\\\n",
    "            .to_numpy()\n",
    "        \n",
    "        labels_view.close()"
   ]
  },
  {
   "cell_type": "code",
   "execution_count": null,
   "id": "c176511e-3edf-4916-8670-fa67d32fbc2f",
   "metadata": {},
   "outputs": [],
   "source": [
    "napari_utils.dim_utils.im_dim_order"
   ]
  },
  {
   "cell_type": "code",
   "execution_count": null,
   "id": "9bb5883c-4d6d-490b-b231-17594b866ba8",
   "metadata": {},
   "outputs": [],
   "source": [
    "napari_utils.im_scale"
   ]
  },
  {
   "cell_type": "code",
   "execution_count": null,
   "id": "f1222eb8-b073-488f-a734-2b0f5f0a3871",
   "metadata": {},
   "outputs": [],
   "source": [
    "tracks[0:4]"
   ]
  },
  {
   "cell_type": "code",
   "execution_count": null,
   "id": "a4aae6af-ac28-445b-9a6e-186dbd4eda50",
   "metadata": {},
   "outputs": [],
   "source": [
    "tracks2 = np.insert(tracks, 1, 0, axis = 1)"
   ]
  },
  {
   "cell_type": "code",
   "execution_count": null,
   "id": "1f5cfe52-89f9-487f-a562-ff824dcfac30",
   "metadata": {},
   "outputs": [],
   "source": [
    "tracks2.shape"
   ]
  },
  {
   "cell_type": "code",
   "execution_count": null,
   "id": "49349054-bd68-483a-a2ce-c5a70a6ba734",
   "metadata": {},
   "outputs": [],
   "source": [
    "len(napari_utils.im_scale)"
   ]
  },
  {
   "cell_type": "code",
   "execution_count": null,
   "id": "db363c58-49fd-462d-ab8e-3e5de3cbbbe2",
   "metadata": {},
   "outputs": [],
   "source": [
    "tracks.shape"
   ]
  },
  {
   "cell_type": "code",
   "execution_count": null,
   "id": "8fe526f1-e348-4e08-94f6-1ab91d667e07",
   "metadata": {},
   "outputs": [],
   "source": [
    "napari_utils.im_scale"
   ]
  },
  {
   "cell_type": "code",
   "execution_count": null,
   "id": "2a8db8b1-5a59-41cb-951b-fab8cb011ae1",
   "metadata": {},
   "outputs": [],
   "source": [
    "napari_utils.im_data[0].shape"
   ]
  },
  {
   "cell_type": "code",
   "execution_count": null,
   "id": "112d6e0f",
   "metadata": {},
   "outputs": [],
   "source": [
    "import py.zarr_utils as zarr_utils"
   ]
  },
  {
   "cell_type": "code",
   "execution_count": null,
   "id": "f4670140-cd93-40d5-a529-ffed7fb14578",
   "metadata": {},
   "outputs": [],
   "source": [
    "tmp, _ = zarr_utils.open_labels_as_zarr(os.path.join(task_dir, 'labels', 'merged_nuc.zarr'))"
   ]
  },
  {
   "cell_type": "code",
   "execution_count": null,
   "id": "b3f4f9b9-e1b1-4604-b7a5-bd92213752bd",
   "metadata": {},
   "outputs": [],
   "source": [
    "a = zarr_utils.fortify(tmp[0][0, 0, :, :])"
   ]
  },
  {
   "cell_type": "code",
   "execution_count": null,
   "id": "9371258f-0757-41a7-a08b-5aa12c4e59e3",
   "metadata": {},
   "outputs": [],
   "source": [
    "a.max()"
   ]
  },
  {
   "cell_type": "code",
   "execution_count": null,
   "id": "fb96790b",
   "metadata": {},
   "outputs": [],
   "source": [
    "labels = dict()\n",
    "\n",
    "tmp, _ = zarr_utils.open_labels_as_zarr(os.path.join(task_dir, 'labels', 'cells.zarr'))\n",
    "labels['cyto'] = zarr_utils.fortify(tmp[0][0, 0, :, :])\n",
    "tmp, _ = zarr_utils.open_labels_as_zarr(os.path.join(task_dir, 'labels', 'nuclei.zarr'))\n",
    "labels['nuc'] = zarr_utils.fortify(tmp[0][0, 0, :, :])"
   ]
  },
  {
   "cell_type": "code",
   "execution_count": null,
   "id": "743d59fa",
   "metadata": {},
   "outputs": [],
   "source": [
    "import py.label_utils as label_utils\n",
    "\n",
    "labels_merged = label_utils.match_masks(\n",
    "    [labels['nuc'], labels['cyto']],\n",
    "    # [interm_labels['cyto'], interm_labels['nuc']],\n",
    "    stitch_threshold = 0.05,\n",
    "    remove_unmatched = True\n",
    ")"
   ]
  },
  {
   "cell_type": "code",
   "execution_count": null,
   "id": "8dae58b7-da81-4b48-925d-36573d4e5f83",
   "metadata": {},
   "outputs": [],
   "source": [
    "napari_utils.viewer.add_labels(labels_merged[1])"
   ]
  },
  {
   "cell_type": "code",
   "execution_count": null,
   "id": "01e6ee73",
   "metadata": {},
   "outputs": [],
   "source": [
    "from scipy import ndimage as ndi\n",
    "\n",
    "contours = np.copy(labels)\n",
    "eroded_labels = np.copy(labels)\n",
    "thickness = 1\n",
    "background_label = 0\n",
    "\n",
    "# go through all z-axis\n",
    "for i in range(labels.shape[0]):\n",
    "    cur_labels = labels[i,:,:]\n",
    "    \n",
    "    # adapted from from napari\n",
    "    # https://github.com/napari/napari/blob/996f502a7f94f68275625dd8b9e94978167f63f9/napari/layers/labels/_labels_utils.py#L208\n",
    "    struct_elem = ndi.generate_binary_structure(cur_labels.ndim, 1)\n",
    "    thick_struct_elem = ndi.iterate_structure(struct_elem, thickness).astype(bool)\n",
    "\n",
    "    dilated_labels = ndi.grey_dilation(cur_labels, footprint=struct_elem)\n",
    "    eroded_labels[i,:,:] = ndi.grey_erosion(cur_labels, footprint=thick_struct_elem)\n",
    "    not_boundaries = dilated_labels == eroded_labels[i,:,:]\n",
    "\n",
    "    contours[i,:,:][not_boundaries] = background_label\n",
    "    eroded_labels[i,:,:] = eroded_labels[i,:,:] - contours[i,:,:]"
   ]
  },
  {
   "cell_type": "code",
   "execution_count": null,
   "id": "36080b3e",
   "metadata": {},
   "outputs": [],
   "source": [
    "from skimage.morphology import skeletonize\n",
    "import matplotlib.pyplot as plt\n",
    "\n",
    "# perform skeletonization\n",
    "skeleton = skeletonize(contours)\n",
    "\n",
    "# now convert to skan\n",
    "import skan\n",
    "\n",
    "sk_skeleton = skan.Skeleton(skeleton)\n",
    "paths_table = skan.summarize(sk_skeleton)"
   ]
  },
  {
   "cell_type": "code",
   "execution_count": null,
   "id": "697d7bca",
   "metadata": {},
   "outputs": [],
   "source": [
    "from skimage.util import invert\n",
    "\n",
    "bin_labels = np.copy(eroded_labels)\n",
    "bin_labels[bin_labels > 0] = 2\n",
    "bin_labels[bin_labels == 0] = 1\n",
    "bin_labels[bin_labels == 2] = 0\n",
    "\n",
    "from skimage.morphology import (erosion, dilation, opening, closing,\n",
    "                                white_tophat)\n",
    "\n",
    "morph_labels = white_tophat(bin_labels, ndi.generate_binary_structure(bin_labels.ndim, 1))\n",
    "\n",
    "# perform skeletonization\n",
    "skeleton = skeletonize(morph_labels)\n",
    "\n",
    "# display results\n",
    "fig, axes = plt.subplots(nrows=1, ncols=3, figsize=(12, 4),\n",
    "                         sharex=True, sharey=True)\n",
    "\n",
    "ax = axes.ravel()\n",
    "\n",
    "z_val = 8\n",
    "ax[0].imshow(bin_labels[z_val,:,:], cmap=plt.cm.gray)\n",
    "ax[0].axis('off')\n",
    "ax[0].set_title('Bin', fontsize=20)\n",
    "\n",
    "ax[1].imshow(morph_labels[z_val,:,:], cmap=plt.cm.gray)\n",
    "ax[1].axis('off')\n",
    "ax[1].set_title('Contours', fontsize=20)\n",
    "\n",
    "ax[2].imshow(np.max(skeleton, axis=0), cmap=plt.cm.gray)\n",
    "ax[2].axis('off')\n",
    "ax[2].set_title('Skeleton', fontsize=20)\n",
    "\n",
    "fig.tight_layout()\n",
    "plt.show()"
   ]
  },
  {
   "cell_type": "code",
   "execution_count": null,
   "id": "b48a29f7",
   "metadata": {},
   "outputs": [],
   "source": [
    "import matplotlib.pyplot as plt\n",
    "import numpy as np\n",
    "from skimage import data\n",
    "from skimage.color import label2rgb\n",
    "from skimage.filters import sobel\n",
    "from skimage.morphology import dilation, disk\n",
    "from skimage.measure import label\n",
    "from skimage.segmentation import expand_labels, watershed\n",
    "\n",
    "coins = data.coins()\n",
    "\n",
    "# Make segmentation using edge-detection and watershed.\n",
    "edges = sobel(coins)\n",
    "\n",
    "# Identify some background and foreground pixels from the intensity values.\n",
    "# These pixels are used as seeds for watershed.\n",
    "markers = np.zeros_like(coins)\n",
    "foreground, background = 1, 2\n",
    "markers[coins < 30.0] = background\n",
    "markers[coins > 150.0] = foreground\n",
    "\n",
    "ws = watershed(edges, markers)\n",
    "seg1 = label(ws == foreground)\n",
    "\n",
    "# expanded = expand_labels(seg1, distance=10)\n",
    "expanded = dilation(seg1, disk(20))\n",
    "\n",
    "# Show the segmentations.\n",
    "fig, axes = plt.subplots(\n",
    "    nrows=1,\n",
    "    ncols=3,\n",
    "    figsize=(9, 5),\n",
    "    sharex=True,\n",
    "    sharey=True,\n",
    ")\n",
    "\n",
    "axes[0].imshow(coins, cmap=\"Greys_r\")\n",
    "axes[0].set_title(\"Original\")\n",
    "\n",
    "color1 = label2rgb(seg1, image=coins, bg_label=0)\n",
    "axes[1].imshow(color1)\n",
    "axes[1].set_title(\"Sobel+Watershed\")\n",
    "\n",
    "color2 = label2rgb(expanded, image=coins, bg_label=0)\n",
    "axes[2].imshow(color2)\n",
    "axes[2].set_title(\"Expanded labels\")\n",
    "\n",
    "for a in axes:\n",
    "    a.axis(\"off\")\n",
    "fig.tight_layout()\n",
    "plt.show()\n"
   ]
  },
  {
   "cell_type": "code",
   "execution_count": null,
   "id": "56f3e14b",
   "metadata": {},
   "outputs": [],
   "source": [
    "all([True, False])"
   ]
  },
  {
   "cell_type": "code",
   "execution_count": null,
   "id": "7659217d",
   "metadata": {},
   "outputs": [],
   "source": [
    "import py.slice_utils as slice_utils"
   ]
  },
  {
   "cell_type": "code",
   "execution_count": null,
   "id": "b5bf1e27",
   "metadata": {},
   "outputs": [],
   "source": [
    "zarr_shape = list(napari_utils.im_data[0].shape)\n",
    "zarr_shape.pop(napari_utils.dim_utils.dim_idx('C'))"
   ]
  },
  {
   "cell_type": "code",
   "execution_count": null,
   "id": "d7b71dee",
   "metadata": {},
   "outputs": [],
   "source": [
    "a = [[.1],[2],[34]]"
   ]
  },
  {
   "cell_type": "code",
   "execution_count": null,
   "id": "bd1b992d",
   "metadata": {},
   "outputs": [],
   "source": [
    "a[1].insert(0, 1)"
   ]
  },
  {
   "cell_type": "code",
   "execution_count": null,
   "id": "d648ce08",
   "metadata": {},
   "outputs": [],
   "source": [
    "a"
   ]
  },
  {
   "cell_type": "code",
   "execution_count": null,
   "id": "6be2f4d2",
   "metadata": {},
   "outputs": [],
   "source": [
    "slice_utils.create_slices(\n",
    "  zarr_shape, napari_utils.dim_utils, 1000, -1,\n",
    "  block_size_z = -1, overlap_z = -1)"
   ]
  },
  {
   "cell_type": "code",
   "execution_count": null,
   "id": "f984f16f",
   "metadata": {},
   "outputs": [],
   "source": [
    "napari_utils.show_labels_all(\n",
    "    show_labels = True,\n",
    "    show_points = False,\n",
    "    show_tracks = False,\n",
    "    show_branching = True,\n",
    "    branching_property = 'weight',\n",
    "    value_names = ['SHG.branch']\n",
    ")"
   ]
  },
  {
   "cell_type": "code",
   "execution_count": null,
   "id": "99f68987",
   "metadata": {},
   "outputs": [],
   "source": [
    "napari_utils.show_labels_all(\n",
    "    show_labels = False,\n",
    "    show_points = False,\n",
    "    show_tracks = True,\n",
    "    value_names = ['P14-CTDR']\n",
    ")"
   ]
  },
  {
   "cell_type": "code",
   "execution_count": null,
   "id": "8056458e",
   "metadata": {},
   "outputs": [],
   "source": [
    "# get timescale\n",
    "napari_utils.time_interval = 0.5"
   ]
  },
  {
   "cell_type": "code",
   "execution_count": null,
   "id": "d2c3b11e",
   "metadata": {},
   "outputs": [],
   "source": [
    "napari_utils.viewer.text_overlay.position = napa"
   ]
  },
  {
   "cell_type": "code",
   "execution_count": null,
   "id": "676e3976",
   "metadata": {},
   "outputs": [],
   "source": [
    "def update_slider(event):\n",
    "    # https://forum.image.sc/t/napari-how-add-a-text-label-time-always-in-the-same-spot-in-viewer/52932/5\n",
    "    time = napari_utils.viewer.dims.current_step[0]\n",
    "    napari_utils.viewer.text_overlay.text = str(datetime.timedelta(seconds = time * napari_utils.time_interval * 60))\n",
    "\n",
    "import datetime\n",
    "\n",
    "napari_utils.viewer.text_overlay.position\n",
    "napari_utils.viewer.text_overlay.visible = True\n",
    "napari_utils.viewer.text_overlay.font_size = 12\n",
    "napari_utils.viewer.text_overlay.color = 'white'\n",
    "napari_utils.viewer.dims.events.current_step.connect(update_slider)"
   ]
  },
  {
   "cell_type": "code",
   "execution_count": null,
   "id": "f6b6f4da",
   "metadata": {},
   "outputs": [],
   "source": [
    "napari_utils.im_scale"
   ]
  },
  {
   "cell_type": "code",
   "execution_count": null,
   "id": "4181f11d",
   "metadata": {},
   "outputs": [],
   "source": [
    "napari_utils.show_labels_all(\n",
    "    show_labels = True,\n",
    "    show_points = False,\n",
    "    show_tracks = False,\n",
    "    value_names = ['manual'],\n",
    "    as_np_array = True\n",
    ")"
   ]
  },
  {
   "cell_type": "code",
   "execution_count": null,
   "id": "a4795aa6",
   "metadata": {},
   "outputs": [],
   "source": [
    "# show populations\n",
    "napari_utils.show_pop_mapping('live')"
   ]
  },
  {
   "cell_type": "code",
   "execution_count": null,
   "id": "9dc9ea21",
   "metadata": {},
   "outputs": [],
   "source": [
    "# save image as tiff\n",
    "import py.tiff_utils as tiff_utils\n",
    "\n",
    "tiff_utils.save_as_tiff(\n",
    "    '/Volumes/USER_data/Dominik/Experiments/TEAGEN_SKIN/DATA/PuJo5p.tif',\n",
    "    napari_utils.im_data[0], napari_utils.dim_utils, imagej = True)"
   ]
  },
  {
   "cell_type": "code",
   "execution_count": null,
   "id": "11d94ed5",
   "metadata": {},
   "outputs": [],
   "source": [
    "print('here')"
   ]
  },
  {
   "cell_type": "code",
   "execution_count": null,
   "id": "845275bb",
   "metadata": {},
   "outputs": [],
   "source": [
    "napari_utils.im_scale"
   ]
  },
  {
   "cell_type": "code",
   "execution_count": null,
   "id": "a1f26ae6",
   "metadata": {},
   "outputs": [],
   "source": [
    "from napari_animation import AnimationWidget\n",
    "animation_widget = AnimationWidget(napari_utils.viewer)\n",
    "napari_utils.viewer.window.add_dock_widget(animation_widget, area='right')"
   ]
  },
  {
   "cell_type": "code",
   "execution_count": null,
   "id": "a6ab6541",
   "metadata": {},
   "outputs": [],
   "source": [
    "pop_type = 'live'\n",
    "pop_map = napari_utils.pop_utils.pop_map(napari_utils.task_dir, pop_type)\n",
    "pop_data = napari_utils.pop_utils.pop_data(napari_utils.task_dir, pop_type)"
   ]
  },
  {
   "cell_type": "code",
   "execution_count": null,
   "id": "971a2e9f",
   "metadata": {},
   "outputs": [],
   "source": [
    "pop_info = pop_map['5iaWSo']"
   ]
  },
  {
   "cell_type": "code",
   "execution_count": null,
   "id": "56530832",
   "metadata": {},
   "outputs": [],
   "source": [
    "pop_info"
   ]
  },
  {
   "cell_type": "code",
   "execution_count": null,
   "id": "bbf3c9e9",
   "metadata": {},
   "outputs": [],
   "source": []
  }
 ],
 "metadata": {
  "kernelspec": {
   "display_name": "Python 3 (ipykernel)",
   "language": "python",
   "name": "python3"
  },
  "language_info": {
   "codemirror_mode": {
    "name": "ipython",
    "version": 3
   },
   "file_extension": ".py",
   "mimetype": "text/x-python",
   "name": "python",
   "nbconvert_exporter": "python",
   "pygments_lexer": "ipython3",
   "version": "3.9.18"
  }
 },
 "nbformat": 4,
 "nbformat_minor": 5
}
