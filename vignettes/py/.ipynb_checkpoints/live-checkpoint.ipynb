{
 "cells": [
  {
   "cell_type": "code",
   "execution_count": 1,
   "id": "a2fc902c",
   "metadata": {},
   "outputs": [],
   "source": [
    "import os\n",
    "import numpy as np\n",
    "# import working directory to check functions\n",
    "os.chdir('/Users/schiend/Desktop/DOHERTY/R-workspace/cecelia/inst')\n",
    "\n",
    "# config\n",
    "import py.config_utils as cfg\n",
    "\n",
    "%load_ext autoreload\n",
    "%autoreload 2"
   ]
  },
  {
   "cell_type": "code",
   "execution_count": null,
   "id": "8f75f4eb",
   "metadata": {},
   "outputs": [],
   "source": [
    "base_dir = '/Volumes/Analysis_SSD/Dominik/cecelia/projects/8BR53W/ANALYSIS/'\n",
    "zero_dir = os.path.join(base_dir, '0/s4XQza/')\n",
    "im_path = os.path.join(zero_dir, 'ccidImage.ome.zarr')\n",
    "#im_path = os.path.join(zero_dir, 'ccidCorrected.zarr')\n",
    "#im_path = os.path.join(zero_dir, 'ccidSlidingWindow.zarr')\n",
    "version_num = 1\n",
    "task_dir = os.path.join(base_dir, str(version_num), 's4XQza')"
   ]
  },
  {
   "cell_type": "code",
   "execution_count": 6,
   "id": "96788271",
   "metadata": {},
   "outputs": [],
   "source": [
    "from py.napari_utils import NapariUtils\n",
    "\n",
    "napari_utils = NapariUtils()\n",
    "napari_utils.viewer = None\n",
    "napari_utils.open_viewer()\n",
    "napari_utils.task_dir = task_dir"
   ]
  },
  {
   "cell_type": "code",
   "execution_count": 7,
   "id": "75724ef2",
   "metadata": {},
   "outputs": [],
   "source": [
    "channel_names = [\n",
    "    'EB', 'T-A', 'T-B', 'AF', 'gen'\n",
    "]"
   ]
  },
  {
   "cell_type": "code",
   "execution_count": 8,
   "id": "10e3e72e",
   "metadata": {},
   "outputs": [
    {
     "ename": "PathNotFoundError",
     "evalue": "nothing found at path ''",
     "output_type": "error",
     "traceback": [
      "\u001b[0;31m---------------------------------------------------------------------------\u001b[0m",
      "\u001b[0;31mPathNotFoundError\u001b[0m                         Traceback (most recent call last)",
      "Input \u001b[0;32mIn [8]\u001b[0m, in \u001b[0;36m<cell line: 1>\u001b[0;34m()\u001b[0m\n\u001b[0;32m----> 1\u001b[0m \u001b[43mnapari_utils\u001b[49m\u001b[38;5;241;43m.\u001b[39;49m\u001b[43mopen_image\u001b[49m\u001b[43m(\u001b[49m\n\u001b[1;32m      2\u001b[0m \u001b[43m    \u001b[49m\u001b[43mim_path\u001b[49m\u001b[43m,\u001b[49m\n\u001b[1;32m      3\u001b[0m \u001b[43m    \u001b[49m\u001b[43muse_channel_axis\u001b[49m\u001b[43m \u001b[49m\u001b[38;5;241;43m=\u001b[39;49m\u001b[43m \u001b[49m\u001b[38;5;28;43;01mTrue\u001b[39;49;00m\u001b[43m,\u001b[49m\u001b[43m \u001b[49m\u001b[43mas_dask\u001b[49m\u001b[43m \u001b[49m\u001b[38;5;241;43m=\u001b[39;49m\u001b[43m \u001b[49m\u001b[38;5;28;43;01mTrue\u001b[39;49;00m\u001b[43m,\u001b[49m\n\u001b[1;32m      4\u001b[0m \u001b[43m    \u001b[49m\u001b[43mdownsample_z\u001b[49m\u001b[43m \u001b[49m\u001b[38;5;241;43m=\u001b[39;49m\u001b[43m \u001b[49m\u001b[38;5;28;43;01mFalse\u001b[39;49;00m\u001b[43m,\u001b[49m\u001b[43m \u001b[49m\u001b[43msqueeze\u001b[49m\u001b[43m \u001b[49m\u001b[38;5;241;43m=\u001b[39;49m\u001b[43m \u001b[49m\u001b[38;5;28;43;01mTrue\u001b[39;49;00m\n\u001b[1;32m      5\u001b[0m \u001b[43m)\u001b[49m\n",
      "File \u001b[0;32m~/Desktop/DOHERTY/R-workspace/cecelia/inst/py/napari_utils.py:244\u001b[0m, in \u001b[0;36mNapariUtils.open_image\u001b[0;34m(self, im_path, use_channel_axis, channel_names, channel_colormaps, as_dask, show_3D, multiscales, compute_dask, contrast_limits, visible, squeeze, downsample_z, as_mip, slices)\u001b[0m\n\u001b[1;32m    241\u001b[0m \u001b[38;5;28mself\u001b[39m\u001b[38;5;241m.\u001b[39mas_dask \u001b[38;5;241m=\u001b[39m as_dask\n\u001b[1;32m    243\u001b[0m \u001b[38;5;66;03m# open as Zarr\u001b[39;00m\n\u001b[0;32m--> 244\u001b[0m \u001b[38;5;28mself\u001b[39m\u001b[38;5;241m.\u001b[39mim_data, \u001b[38;5;28mself\u001b[39m\u001b[38;5;241m.\u001b[39mzarr_group_info \u001b[38;5;241m=\u001b[39m \u001b[43mzarr_utils\u001b[49m\u001b[38;5;241;43m.\u001b[39;49m\u001b[43mopen_as_zarr\u001b[49m\u001b[43m(\u001b[49m\n\u001b[1;32m    245\u001b[0m \u001b[43m  \u001b[49m\u001b[38;5;28;43mself\u001b[39;49m\u001b[38;5;241;43m.\u001b[39;49m\u001b[43mim_path\u001b[49m\u001b[43m,\u001b[49m\u001b[43m \u001b[49m\u001b[43mmultiscales\u001b[49m\u001b[43m \u001b[49m\u001b[38;5;241;43m=\u001b[39;49m\u001b[43m \u001b[49m\u001b[43mmultiscales\u001b[49m\u001b[43m,\u001b[49m\u001b[43m \u001b[49m\u001b[43mas_dask\u001b[49m\u001b[43m \u001b[49m\u001b[38;5;241;43m=\u001b[39;49m\u001b[43m \u001b[49m\u001b[43mas_dask\u001b[49m\u001b[43m)\u001b[49m\n\u001b[1;32m    247\u001b[0m \u001b[38;5;66;03m# get OME-XML\u001b[39;00m\n\u001b[1;32m    248\u001b[0m \u001b[38;5;28mself\u001b[39m\u001b[38;5;241m.\u001b[39momexml \u001b[38;5;241m=\u001b[39m ome_xml_utils\u001b[38;5;241m.\u001b[39mparse_meta(\u001b[38;5;28mself\u001b[39m\u001b[38;5;241m.\u001b[39mim_path)\n",
      "File \u001b[0;32m~/Desktop/DOHERTY/R-workspace/cecelia/inst/py/zarr_utils.py:20\u001b[0m, in \u001b[0;36mopen_as_zarr\u001b[0;34m(im_path, multiscales, as_dask, mode)\u001b[0m\n\u001b[1;32m     18\u001b[0m \u001b[38;5;66;03m# open zarr\u001b[39;00m\n\u001b[1;32m     19\u001b[0m \u001b[38;5;28;01mif\u001b[39;00m im_ext \u001b[38;5;241m==\u001b[39m \u001b[38;5;124m\"\u001b[39m\u001b[38;5;124m.zarr\u001b[39m\u001b[38;5;124m\"\u001b[39m:\n\u001b[0;32m---> 20\u001b[0m   im_data, zarr_group_info \u001b[38;5;241m=\u001b[39m \u001b[43mopen_zarr\u001b[49m\u001b[43m(\u001b[49m\n\u001b[1;32m     21\u001b[0m \u001b[43m    \u001b[49m\u001b[43mim_path\u001b[49m\u001b[43m,\u001b[49m\u001b[43m \u001b[49m\u001b[43mmultiscales\u001b[49m\u001b[43m \u001b[49m\u001b[38;5;241;43m=\u001b[39;49m\u001b[43m \u001b[49m\u001b[43mmultiscales\u001b[49m\u001b[43m,\u001b[49m\u001b[43m \u001b[49m\u001b[43mas_dask\u001b[49m\u001b[43m \u001b[49m\u001b[38;5;241;43m=\u001b[39;49m\u001b[43m \u001b[49m\u001b[43mas_dask\u001b[49m\u001b[43m,\u001b[49m\u001b[43m \u001b[49m\u001b[43mmode\u001b[49m\u001b[43m \u001b[49m\u001b[38;5;241;43m=\u001b[39;49m\u001b[43m \u001b[49m\u001b[43mmode\u001b[49m\u001b[43m,\u001b[49m\n\u001b[1;32m     22\u001b[0m \u001b[43m    \u001b[49m\u001b[43momezarr\u001b[49m\u001b[43m \u001b[49m\u001b[38;5;241;43m=\u001b[39;49m\u001b[43m \u001b[49m\u001b[43mim_path\u001b[49m\u001b[38;5;241;43m.\u001b[39;49m\u001b[43mendswith\u001b[49m\u001b[43m(\u001b[49m\u001b[38;5;124;43m\"\u001b[39;49m\u001b[38;5;124;43mome.zarr\u001b[39;49m\u001b[38;5;124;43m\"\u001b[39;49m\u001b[43m)\u001b[49m\u001b[43m)\u001b[49m\n\u001b[1;32m     23\u001b[0m \u001b[38;5;28;01melse\u001b[39;00m:\n\u001b[1;32m     24\u001b[0m   \u001b[38;5;66;03m# open image\u001b[39;00m\n\u001b[1;32m     25\u001b[0m   im_data, zarr_group_info \u001b[38;5;241m=\u001b[39m open_image_as_zarr(\n\u001b[1;32m     26\u001b[0m     im_path, multiscales \u001b[38;5;241m=\u001b[39m multiscales, as_dask \u001b[38;5;241m=\u001b[39m as_dask)\n",
      "File \u001b[0;32m~/Desktop/DOHERTY/R-workspace/cecelia/inst/py/zarr_utils.py:41\u001b[0m, in \u001b[0;36mopen_zarr\u001b[0;34m(zarr_path, mode, multiscales, as_dask, omezarr)\u001b[0m\n\u001b[1;32m     33\u001b[0m \u001b[38;5;28;01mdef\u001b[39;00m \u001b[38;5;21mopen_zarr\u001b[39m(zarr_path, mode \u001b[38;5;241m=\u001b[39m \u001b[38;5;124m'\u001b[39m\u001b[38;5;124mr\u001b[39m\u001b[38;5;124m'\u001b[39m, multiscales \u001b[38;5;241m=\u001b[39m \u001b[38;5;28;01mNone\u001b[39;00m, as_dask \u001b[38;5;241m=\u001b[39m \u001b[38;5;28;01mFalse\u001b[39;00m,\n\u001b[1;32m     34\u001b[0m               omezarr \u001b[38;5;241m=\u001b[39m \u001b[38;5;28;01mFalse\u001b[39;00m):\n\u001b[1;32m     35\u001b[0m   \u001b[38;5;66;03m# open zarr store\u001b[39;00m\n\u001b[0;32m   (...)\u001b[0m\n\u001b[1;32m     39\u001b[0m   \n\u001b[1;32m     40\u001b[0m   \u001b[38;5;66;03m# convert to list\u001b[39;00m\n\u001b[0;32m---> 41\u001b[0m   zarr_data, zarr_group_info \u001b[38;5;241m=\u001b[39m \u001b[43mzarr_data_to_list\u001b[49m\u001b[43m(\u001b[49m\n\u001b[1;32m     42\u001b[0m \u001b[43m    \u001b[49m\u001b[43mzarr_path\u001b[49m\u001b[43m,\u001b[49m\u001b[43m \u001b[49m\u001b[43mmultiscales\u001b[49m\u001b[43m \u001b[49m\u001b[38;5;241;43m=\u001b[39;49m\u001b[43m \u001b[49m\u001b[43mmultiscales\u001b[49m\u001b[43m,\u001b[49m\u001b[43m \u001b[49m\u001b[43mmode\u001b[49m\u001b[43m \u001b[49m\u001b[38;5;241;43m=\u001b[39;49m\u001b[43m \u001b[49m\u001b[43mmode\u001b[49m\u001b[43m,\u001b[49m\u001b[43m \u001b[49m\u001b[43momezarr\u001b[49m\u001b[43m \u001b[49m\u001b[38;5;241;43m=\u001b[39;49m\u001b[43m \u001b[49m\u001b[43momezarr\u001b[49m\u001b[43m)\u001b[49m\n\u001b[1;32m     44\u001b[0m   \u001b[38;5;66;03m# convert to dask\u001b[39;00m\n\u001b[1;32m     45\u001b[0m   \u001b[38;5;28;01mif\u001b[39;00m as_dask \u001b[38;5;129;01mis\u001b[39;00m \u001b[38;5;28;01mTrue\u001b[39;00m:\n",
      "File \u001b[0;32m~/Desktop/DOHERTY/R-workspace/cecelia/inst/py/zarr_utils.py:140\u001b[0m, in \u001b[0;36mzarr_data_to_list\u001b[0;34m(zarr_store, multiscales, data_group, mode, omezarr)\u001b[0m\n\u001b[1;32m    136\u001b[0m   \u001b[38;5;28;01mif\u001b[39;00m os\u001b[38;5;241m.\u001b[39mpath\u001b[38;5;241m.\u001b[39mexists(os\u001b[38;5;241m.\u001b[39mpath\u001b[38;5;241m.\u001b[39mjoin(zarr_store, \u001b[38;5;124m'\u001b[39m\u001b[38;5;124m.zarray\u001b[39m\u001b[38;5;124m'\u001b[39m)) \u001b[38;5;129;01mand\u001b[39;00m os\u001b[38;5;241m.\u001b[39mpath\u001b[38;5;241m.\u001b[39mexists(os\u001b[38;5;241m.\u001b[39mpath\u001b[38;5;241m.\u001b[39mjoin(zarr_store, \u001b[38;5;124m'\u001b[39m\u001b[38;5;124m.group\u001b[39m\u001b[38;5;124m'\u001b[39m)):\n\u001b[1;32m    137\u001b[0m     \u001b[38;5;66;03m# remove .zarray\u001b[39;00m\n\u001b[1;32m    138\u001b[0m     os\u001b[38;5;241m.\u001b[39munlink(os\u001b[38;5;241m.\u001b[39mpath\u001b[38;5;241m.\u001b[39mjoin(zarr_store, \u001b[38;5;124m'\u001b[39m\u001b[38;5;124m.zarray\u001b[39m\u001b[38;5;124m'\u001b[39m))\n\u001b[0;32m--> 140\u001b[0m zgroup \u001b[38;5;241m=\u001b[39m \u001b[43mzarr\u001b[49m\u001b[38;5;241;43m.\u001b[39;49m\u001b[43mopen\u001b[49m\u001b[43m(\u001b[49m\u001b[43mzarr_store\u001b[49m\u001b[43m,\u001b[49m\u001b[43m \u001b[49m\u001b[43mmode\u001b[49m\u001b[43m \u001b[49m\u001b[38;5;241;43m=\u001b[39;49m\u001b[43m \u001b[49m\u001b[43mmode\u001b[49m\u001b[43m)\u001b[49m\n\u001b[1;32m    142\u001b[0m \u001b[38;5;66;03m# get first image in ome zarr bundle\u001b[39;00m\n\u001b[1;32m    143\u001b[0m \u001b[38;5;28;01mif\u001b[39;00m omezarr \u001b[38;5;129;01mis\u001b[39;00m \u001b[38;5;28;01mTrue\u001b[39;00m:\n",
      "File \u001b[0;32m~/Library/r-miniconda/envs/r-cecelia-env/lib/python3.9/site-packages/zarr/convenience.py:122\u001b[0m, in \u001b[0;36mopen\u001b[0;34m(store, mode, zarr_version, path, **kwargs)\u001b[0m\n\u001b[1;32m    120\u001b[0m     \u001b[38;5;28;01mreturn\u001b[39;00m open_group(_store, mode\u001b[38;5;241m=\u001b[39mmode, \u001b[38;5;241m*\u001b[39m\u001b[38;5;241m*\u001b[39mkwargs)\n\u001b[1;32m    121\u001b[0m \u001b[38;5;28;01melse\u001b[39;00m:\n\u001b[0;32m--> 122\u001b[0m     \u001b[38;5;28;01mraise\u001b[39;00m PathNotFoundError(path)\n",
      "\u001b[0;31mPathNotFoundError\u001b[0m: nothing found at path ''"
     ]
    }
   ],
   "source": [
    "napari_utils.open_image(\n",
    "    im_path,\n",
    "    use_channel_axis = True, as_dask = True,\n",
    "    downsample_z = False\n",
    ")"
   ]
  },
  {
   "cell_type": "code",
   "execution_count": 44,
   "id": "a4795aa6",
   "metadata": {},
   "outputs": [
    {
     "name": "stdout",
     "output_type": "stream",
     "text": [
      "(live) default/tracked\n"
     ]
    }
   ],
   "source": [
    "# show populations\n",
    "napari_utils.show_pop_mapping('live')"
   ]
  },
  {
   "cell_type": "code",
   "execution_count": 43,
   "id": "4181f11d",
   "metadata": {},
   "outputs": [
    {
     "name": "stdout",
     "output_type": "stream",
     "text": [
      "{'base': '/Volumes/Analysis_SSD/Dominik/cecelia/projects/8BR53W/ANALYSIS/1/Bf68An/labels/default.zarr'}\n",
      "Rendering frames...\n"
     ]
    },
    {
     "name": "stderr",
     "output_type": "stream",
     "text": [
      "  0%|                                                    | 0/39 [00:00<?, ?it/s]IMAGEIO FFMPEG_WRITER WARNING: input image is not divisible by macro_block_size=16, resizing from (1694, 1588) to (1696, 1600) to ensure video compatibility with most codecs and players. To prevent resizing, make your input image divisible by the macro_block_size or set the macro_block_size to 1 (risking incompatibility).\n",
      "  3%|█▏                                          | 1/39 [00:00<00:09,  3.92it/s][swscaler @ 0x7f8e7d44a000] Warning: data is not aligned! This can lead to a speed loss\n",
      "100%|███████████████████████████████████████████| 39/39 [00:05<00:00,  7.02it/s]\n"
     ]
    }
   ],
   "source": [
    "napari_utils.show_labels_all(\n",
    "    show_labels = True,\n",
    "    show_points = False,\n",
    "    show_tracks = True,\n",
    "    value_names = ['default']\n",
    ")"
   ]
  },
  {
   "cell_type": "code",
   "execution_count": null,
   "id": "9dc9ea21",
   "metadata": {},
   "outputs": [],
   "source": [
    "# save image as tiff\n",
    "import py.tiff_utils as tiff_utils\n",
    "\n",
    "tiff_utils.save_as_tiff(\n",
    "    '/Volumes/USER_data/Dominik/Experiments/TEAGEN_SKIN/DATA/PuJo5p.tif',\n",
    "    napari_utils.im_data[0], napari_utils.dim_utils, imagej = True)"
   ]
  },
  {
   "cell_type": "code",
   "execution_count": null,
   "id": "11d94ed5",
   "metadata": {},
   "outputs": [],
   "source": [
    "print('here')"
   ]
  },
  {
   "cell_type": "code",
   "execution_count": null,
   "id": "845275bb",
   "metadata": {},
   "outputs": [],
   "source": [
    "napari_utils.im_scale"
   ]
  },
  {
   "cell_type": "code",
   "execution_count": 42,
   "id": "a1f26ae6",
   "metadata": {},
   "outputs": [
    {
     "data": {
      "text/plain": [
       "<napari._qt.widgets.qt_viewer_dock_widget.QtViewerDockWidget at 0x181e55310>"
      ]
     },
     "execution_count": 42,
     "metadata": {},
     "output_type": "execute_result"
    }
   ],
   "source": [
    "from napari_animation import AnimationWidget\n",
    "animation_widget = AnimationWidget(napari_utils.viewer)\n",
    "napari_utils.viewer.window.add_dock_widget(animation_widget, area='right')"
   ]
  },
  {
   "cell_type": "code",
   "execution_count": null,
   "id": "a6ab6541",
   "metadata": {},
   "outputs": [],
   "source": [
    "pop_type = 'live'\n",
    "pop_map = napari_utils.pop_utils.pop_map(napari_utils.task_dir, pop_type)\n",
    "pop_data = napari_utils.pop_utils.pop_data(napari_utils.task_dir, pop_type)"
   ]
  },
  {
   "cell_type": "code",
   "execution_count": null,
   "id": "971a2e9f",
   "metadata": {},
   "outputs": [],
   "source": [
    "pop_info = pop_map['5iaWSo']"
   ]
  },
  {
   "cell_type": "code",
   "execution_count": null,
   "id": "56530832",
   "metadata": {},
   "outputs": [],
   "source": [
    "pop_info"
   ]
  },
  {
   "cell_type": "code",
   "execution_count": null,
   "id": "bbf3c9e9",
   "metadata": {},
   "outputs": [],
   "source": []
  }
 ],
 "metadata": {
  "kernelspec": {
   "display_name": "Python 3 (ipykernel)",
   "language": "python",
   "name": "python3"
  },
  "language_info": {
   "codemirror_mode": {
    "name": "ipython",
    "version": 3
   },
   "file_extension": ".py",
   "mimetype": "text/x-python",
   "name": "python",
   "nbconvert_exporter": "python",
   "pygments_lexer": "ipython3",
   "version": "3.9.13"
  }
 },
 "nbformat": 4,
 "nbformat_minor": 5
}
