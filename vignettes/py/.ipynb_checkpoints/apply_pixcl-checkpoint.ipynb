{
 "cells": [
  {
   "cell_type": "code",
   "execution_count": 1,
   "id": "f6627dec",
   "metadata": {},
   "outputs": [],
   "source": [
    "import os\n",
    "import numpy as np\n",
    "# import working directory to check functions\n",
    "os.chdir('/Users/schiend/Desktop/DOHERTY/R-workspace/cecelia/inst')\n",
    "\n",
    "# config\n",
    "import py.config_utils as cfg\n",
    "\n",
    "%load_ext autoreload\n",
    "%autoreload 2"
   ]
  },
  {
   "cell_type": "code",
   "execution_count": 3,
   "id": "b031ac5c",
   "metadata": {},
   "outputs": [],
   "source": [
    "base_dir = '/Volumes/Analysis_SSD/Dominik/cecelia/projects/pEdOoZ/ANALYSIS/'\n",
    "zero_dir = os.path.join(base_dir, '0/fhz81P/')\n",
    "im_path = os.path.join(zero_dir, 'ccidImage.ome.zarr')\n",
    "version_num = 2\n",
    "task_dir = os.path.join(base_dir, str(version_num), 'fhz81P')"
   ]
  },
  {
   "cell_type": "code",
   "execution_count": 4,
   "id": "7ab53731",
   "metadata": {},
   "outputs": [
    {
     "name": "stderr",
     "output_type": "stream",
     "text": [
      "Could not find Java JRE compatible with x86_64 architecture\n"
     ]
    }
   ],
   "source": [
    "from py.napari_utils import NapariUtils\n",
    "\n",
    "napari_utils = NapariUtils()\n",
    "napari_utils.viewer = None\n",
    "napari_utils.open_viewer()\n",
    "napari_utils.task_dir = task_dir"
   ]
  },
  {
   "cell_type": "code",
   "execution_count": 7,
   "id": "909d6568",
   "metadata": {},
   "outputs": [],
   "source": [
    "channel_names = [\n",
    "    'X127I_I127','X132Xe_Xe132','X138Ba_Ba138','X190BCKG_BCKG190',\n",
    "    'X191Ir_Ir191','X193Ir_Ir193','X195Pt_Pt195','X208Pb_Pb208',\n",
    "    'X80ArAr_ArAr80','B-Catenin_Ho165','CCR7_Gd158','CD14_Nd144',\n",
    "    'CD20_Dy161','CD29_Sm149','CD3_Er170','CD31_Sm147','CD4_Gd156',\n",
    "    'CD40_Er168','CD45_Sm152','CD45RA_Er166','CD45RO_Yb173',\n",
    "    'CD68_Tb159','CD8a_Dy162','cleaved-Caspase3_Yb172','CollagenI_Tm169',\n",
    "    'FoxP3_Gd155','GranzymeB_Er167','Histone-H3_Yb176','HLA-DR_Yb174',\n",
    "    'ICOS_Nd148','Ki67_Nd143','LAG3_Eu153','OX40_Eu151','PDL1_Nd150',\n",
    "    'pERK1-2_Yb171','S100_Lu175','SMA_Pr141','SOX10_Dy164',\n",
    "    'TIM3_Sm154','VISTA_Gd160'\n",
    "]"
   ]
  },
  {
   "cell_type": "code",
   "execution_count": 9,
   "id": "832270a0",
   "metadata": {},
   "outputs": [],
   "source": [
    "napari_utils.open_image(\n",
    "    im_path,\n",
    "    use_channel_axis = True,\n",
    "    as_dask = False,\n",
    "    visible = False,\n",
    "    squeeze = True,\n",
    "    channel_names = channel_names\n",
    ")"
   ]
  },
  {
   "cell_type": "code",
   "execution_count": 12,
   "id": "793f7f67",
   "metadata": {},
   "outputs": [],
   "source": [
    "from apoc import PixelClassifier"
   ]
  },
  {
   "cell_type": "code",
   "execution_count": 15,
   "id": "92e0d17a",
   "metadata": {},
   "outputs": [],
   "source": [
    "# check classifier\n",
    "cl_path = os.path.join(base_dir, '2', 'IIIII0', 'cl', 'pix', 'imc_ki67.cl')"
   ]
  },
  {
   "cell_type": "code",
   "execution_count": 17,
   "id": "f673f888",
   "metadata": {},
   "outputs": [],
   "source": [
    "cl_channel_names = ['Histone-H3_Yb176', 'Ki67_Nd143']"
   ]
  },
  {
   "cell_type": "code",
   "execution_count": 19,
   "id": "88de86db",
   "metadata": {},
   "outputs": [],
   "source": [
    "cl_channels = [channel_names.index(x) for x in cl_channel_names]"
   ]
  },
  {
   "cell_type": "code",
   "execution_count": 25,
   "id": "137aeae6",
   "metadata": {},
   "outputs": [],
   "source": [
    "import py.zarr_utils as zarr_utils\n",
    "import py.ome_xml_utils as ome_xml_utils\n",
    "from py.dim_utils import DimUtils"
   ]
  },
  {
   "cell_type": "code",
   "execution_count": 26,
   "id": "37589025",
   "metadata": {},
   "outputs": [
    {
     "ename": "NameError",
     "evalue": "name 'DimUtils' is not defined",
     "output_type": "error",
     "traceback": [
      "\u001b[0;31m---------------------------------------------------------------------------\u001b[0m",
      "\u001b[0;31mNameError\u001b[0m                                 Traceback (most recent call last)",
      "Input \u001b[0;32mIn [26]\u001b[0m, in \u001b[0;36m<cell line: 8>\u001b[0;34m()\u001b[0m\n\u001b[1;32m      5\u001b[0m omexml \u001b[38;5;241m=\u001b[39m ome_xml_utils\u001b[38;5;241m.\u001b[39mparse_meta(im_path)\n\u001b[1;32m      7\u001b[0m \u001b[38;5;66;03m# create dim utils for image\u001b[39;00m\n\u001b[0;32m----> 8\u001b[0m dim_utils \u001b[38;5;241m=\u001b[39m \u001b[43mDimUtils\u001b[49m(omexml, use_channel_axis \u001b[38;5;241m=\u001b[39m \u001b[38;5;28;01mTrue\u001b[39;00m)\n\u001b[1;32m      9\u001b[0m dim_utils\u001b[38;5;241m.\u001b[39mcalc_image_dimensions(im_dat[\u001b[38;5;241m0\u001b[39m]\u001b[38;5;241m.\u001b[39mshape)\n\u001b[1;32m     11\u001b[0m im \u001b[38;5;241m=\u001b[39m zarr_utils\u001b[38;5;241m.\u001b[39mfortify(im_dat[\u001b[38;5;241m0\u001b[39m])\n",
      "\u001b[0;31mNameError\u001b[0m: name 'DimUtils' is not defined"
     ]
    }
   ],
   "source": [
    "# get image information\n",
    "im_dat, zarr_group_info = zarr_utils.open_as_zarr(im_path, as_dask = False)\n",
    "\n",
    "# get OME-XML\n",
    "omexml = ome_xml_utils.parse_meta(im_path)\n",
    "\n",
    "# create dim utils for image\n",
    "dim_utils = DimUtils(omexml, use_channel_axis = True)\n",
    "dim_utils.calc_image_dimensions(im_dat[0].shape)\n",
    "\n",
    "im = zarr_utils.fortify(im_dat[0])"
   ]
  },
  {
   "cell_type": "code",
   "execution_count": 23,
   "id": "0b6f2f80",
   "metadata": {},
   "outputs": [
    {
     "ename": "IndexError",
     "evalue": "too many indices for array: array is 3-dimensional, but 5 were indexed",
     "output_type": "error",
     "traceback": [
      "\u001b[0;31m---------------------------------------------------------------------------\u001b[0m",
      "\u001b[0;31mIndexError\u001b[0m                                Traceback (most recent call last)",
      "Input \u001b[0;32mIn [23]\u001b[0m, in \u001b[0;36m<cell line: 6>\u001b[0;34m()\u001b[0m\n\u001b[1;32m      7\u001b[0m slices \u001b[38;5;241m=\u001b[39m [\u001b[38;5;28mslice\u001b[39m(\u001b[38;5;28;01mNone\u001b[39;00m) \u001b[38;5;28;01mfor\u001b[39;00m _ \u001b[38;5;129;01min\u001b[39;00m \u001b[38;5;28mrange\u001b[39m(\u001b[38;5;28mlen\u001b[39m(napari_utils\u001b[38;5;241m.\u001b[39mdim_utils\u001b[38;5;241m.\u001b[39mim_dim))]\n\u001b[1;32m      8\u001b[0m slices[napari_utils\u001b[38;5;241m.\u001b[39mdim_utils\u001b[38;5;241m.\u001b[39mdim_idx(\u001b[38;5;124m'\u001b[39m\u001b[38;5;124mC\u001b[39m\u001b[38;5;124m'\u001b[39m)] \u001b[38;5;241m=\u001b[39m x\n\u001b[1;32m     10\u001b[0m images\u001b[38;5;241m.\u001b[39mappend(\n\u001b[0;32m---> 11\u001b[0m     np\u001b[38;5;241m.\u001b[39msqueeze(zarr_utils\u001b[38;5;241m.\u001b[39mfortify(\u001b[43mim\u001b[49m\u001b[43m[\u001b[49m\u001b[38;5;28;43mtuple\u001b[39;49m\u001b[43m(\u001b[49m\u001b[43mslices\u001b[49m\u001b[43m)\u001b[49m\u001b[43m]\u001b[49m))\n\u001b[1;32m     12\u001b[0m )\n",
      "\u001b[0;31mIndexError\u001b[0m: too many indices for array: array is 3-dimensional, but 5 were indexed"
     ]
    }
   ],
   "source": [
    "# load channels for classification\n",
    "images = list()\n",
    "\n",
    "# ensure that channels are in ascending order\n",
    "cl_channels.sort()\n",
    "for x in cl_channels:\n",
    "    slices = [slice(None) for _ in range(len(dim_utils.im_dim))]\n",
    "    slices[napari_utils.dim_utils.dim_idx('C')] = x\n",
    "\n",
    "    images.append(\n",
    "        np.squeeze(zarr_utils.fortify(im[tuple(slices)]))\n",
    "    )"
   ]
  },
  {
   "cell_type": "code",
   "execution_count": 16,
   "id": "5ae60ed3",
   "metadata": {},
   "outputs": [],
   "source": [
    "cl_segmenter = PixelClassifier(opencl_filename = cl_path)"
   ]
  },
  {
   "cell_type": "code",
   "execution_count": null,
   "id": "9725fce4",
   "metadata": {},
   "outputs": [],
   "source": []
  },
  {
   "cell_type": "code",
   "execution_count": null,
   "id": "e99e26ae",
   "metadata": {},
   "outputs": [],
   "source": []
  },
  {
   "cell_type": "code",
   "execution_count": null,
   "id": "0de73a96",
   "metadata": {},
   "outputs": [],
   "source": []
  },
  {
   "cell_type": "code",
   "execution_count": null,
   "id": "7fe0c504",
   "metadata": {},
   "outputs": [],
   "source": [
    "import modules.tasks.sources.pixcl.py.apply_classifier as apply_classifier\n",
    "\n",
    "# define params\n",
    "params = {\n",
    "    'ccia': {\n",
    "    },\n",
    "    'taskDir': task_dir,\n",
    "    'imPath': im_path,\n",
    "    'clChannels': [0, 3],\n",
    "    'clPath': cl_path,\n",
    "    'normaliseImage': False,\n",
    "    'normPercentile': 99.98,\n",
    "    'saveMeshes': True,\n",
    "    'minObjectSize': 50\n",
    "}\n",
    "\n",
    "# run segmentation\n",
    "apply_classifier.run(params)"
   ]
  }
 ],
 "metadata": {
  "kernelspec": {
   "display_name": "Python 3 (ipykernel)",
   "language": "python",
   "name": "python3"
  },
  "language_info": {
   "codemirror_mode": {
    "name": "ipython",
    "version": 3
   },
   "file_extension": ".py",
   "mimetype": "text/x-python",
   "name": "python",
   "nbconvert_exporter": "python",
   "pygments_lexer": "ipython3",
   "version": "3.9.13"
  }
 },
 "nbformat": 4,
 "nbformat_minor": 5
}
