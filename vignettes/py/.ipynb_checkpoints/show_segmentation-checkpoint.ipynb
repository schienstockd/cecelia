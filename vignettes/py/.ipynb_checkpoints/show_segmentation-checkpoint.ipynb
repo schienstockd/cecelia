{
 "cells": [
  {
   "cell_type": "code",
   "execution_count": 1,
   "id": "a2fc902c",
   "metadata": {},
   "outputs": [],
   "source": [
    "import os\n",
    "import numpy as np\n",
    "# import working directory to check functions\n",
    "os.chdir('/Users/Dominik/R-workspace/cecelia/inst')\n",
    "\n",
    "# MacOS\n",
    "os.environ['KMP_DUPLICATE_LIB_OK'] = 'TRUE'\n",
    "\n",
    "# config\n",
    "import py.config_utils as cfg\n",
    "\n",
    "%load_ext autoreload\n",
    "%autoreload 2"
   ]
  },
  {
   "cell_type": "code",
   "execution_count": 2,
   "id": "8f75f4eb",
   "metadata": {},
   "outputs": [],
   "source": [
    "base_dir = '/Volumes/Analysis_SSD/Dominik/cecelia/projects/pEdOoZ/ANALYSIS/'\n",
    "zero_dir = os.path.join(base_dir, '0/llofh1/')\n",
    "im_path = os.path.join(zero_dir, 'ccidImage.ome.zarr')\n",
    "version_num = 2\n",
    "task_dir = os.path.join(base_dir, str(version_num), 'llofh1')"
   ]
  },
  {
   "cell_type": "code",
   "execution_count": 3,
   "id": "96788271",
   "metadata": {},
   "outputs": [
    {
     "name": "stderr",
     "output_type": "stream",
     "text": [
      "/Users/Dominik/R-workspace/cecelia/inst/py/shape_utils.py:6: FutureWarning: csv_to_layer_data was moved from napari.utils.io in v0.4.17. Import it from napari_builtins.io instead.\n",
      "  from napari.utils.io import csv_to_layer_data\n",
      "napari.manifest -> 'skan' could not be imported: Could not find file 'napari.yaml' in module 'skan'\n"
     ]
    }
   ],
   "source": [
    "from py.napari_utils import NapariUtils\n",
    "\n",
    "napari_utils = NapariUtils()\n",
    "napari_utils.viewer = None\n",
    "napari_utils.open_viewer()\n",
    "napari_utils.task_dir = task_dir"
   ]
  },
  {
   "cell_type": "code",
   "execution_count": null,
   "id": "75724ef2",
   "metadata": {},
   "outputs": [],
   "source": [
    "channel_names = [\n",
    "    'CD169-FITC', 'XCR1-APC', 'TCRb-BV421', 'x33D1-PE'\n",
    "]"
   ]
  },
  {
   "cell_type": "code",
   "execution_count": 6,
   "id": "10e3e72e",
   "metadata": {},
   "outputs": [
    {
     "name": "stdout",
     "output_type": "stream",
     "text": [
      "[1, 56, 1, 1440, 1920]\n",
      "[1920, 1440, 1, 56, 1]\n",
      "['X', 'Y', 'Z', 'C', 'T']\n",
      "[1, 56, 1, 1440, 1920]\n"
     ]
    }
   ],
   "source": [
    "napari_utils.open_image(\n",
    "    im_path,\n",
    "    use_channel_axis = True, as_dask = False,\n",
    "    visible = False, squeeze = False\n",
    ")"
   ]
  },
  {
   "cell_type": "code",
   "execution_count": 9,
   "id": "8cb531c4",
   "metadata": {},
   "outputs": [],
   "source": [
    "import py.zarr_utils as zarr_utils"
   ]
  },
  {
   "cell_type": "code",
   "execution_count": 10,
   "id": "22de180b",
   "metadata": {},
   "outputs": [],
   "source": [
    "labels_path = '/Volumes/Analysis_SSD/Dominik/cecelia/projects/pEdOoZ/ANALYSIS/2/llofh1/labels/stroma.test.zarr'"
   ]
  },
  {
   "cell_type": "code",
   "execution_count": 11,
   "id": "c2841614",
   "metadata": {},
   "outputs": [],
   "source": [
    "im_labels, group_info = zarr_utils.open_labels_as_zarr(\n",
    "    labels_path, multiscales = len(napari_utils.im_data))"
   ]
  },
  {
   "cell_type": "code",
   "execution_count": 13,
   "id": "804d8daa",
   "metadata": {},
   "outputs": [
    {
     "data": {
      "text/plain": [
       "array([0], dtype=uint32)"
      ]
     },
     "execution_count": 13,
     "metadata": {},
     "output_type": "execute_result"
    }
   ],
   "source": [
    "np.unique(im_labels[0])"
   ]
  },
  {
   "cell_type": "code",
   "execution_count": 8,
   "id": "4181f11d",
   "metadata": {},
   "outputs": [
    {
     "name": "stdout",
     "output_type": "stream",
     "text": [
      "{'base': '/Volumes/Analysis_SSD/Dominik/cecelia/projects/pEdOoZ/ANALYSIS/2/llofh1/labels/stroma.test.zarr'}\n",
      "(1, 1, 1440, 1920)\n"
     ]
    }
   ],
   "source": [
    "napari_utils.show_labels_all(\n",
    "    show_labels = True,\n",
    "    show_points = False,\n",
    "    value_names = ['stroma.test']\n",
    ")"
   ]
  },
  {
   "cell_type": "code",
   "execution_count": null,
   "id": "a4795aa6",
   "metadata": {},
   "outputs": [],
   "source": [
    "# show populations\n",
    "napari_utils.show_pop_mapping(\n",
    "    'flow', value_name = 'default')"
   ]
  },
  {
   "cell_type": "code",
   "execution_count": null,
   "id": "a6ab6541",
   "metadata": {},
   "outputs": [],
   "source": []
  }
 ],
 "metadata": {
  "kernelspec": {
   "display_name": "Python 3 (ipykernel)",
   "language": "python",
   "name": "python3"
  },
  "language_info": {
   "codemirror_mode": {
    "name": "ipython",
    "version": 3
   },
   "file_extension": ".py",
   "mimetype": "text/x-python",
   "name": "python",
   "nbconvert_exporter": "python",
   "pygments_lexer": "ipython3",
   "version": "3.9.16"
  }
 },
 "nbformat": 4,
 "nbformat_minor": 5
}
