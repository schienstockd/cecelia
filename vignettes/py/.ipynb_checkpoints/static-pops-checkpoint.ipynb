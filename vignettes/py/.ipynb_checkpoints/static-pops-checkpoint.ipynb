{
 "cells": [
  {
   "cell_type": "code",
   "execution_count": 1,
   "id": "a2fc902c",
   "metadata": {},
   "outputs": [],
   "source": [
    "import os\n",
    "import numpy as np\n",
    "# import working directory to check functions\n",
    "os.chdir('/Users/Dominik/R-workspace/cecelia/inst')\n",
    "\n",
    "# MacOS\n",
    "os.environ['KMP_DUPLICATE_LIB_OK'] = 'TRUE'\n",
    "\n",
    "# config\n",
    "import py.config_utils as cfg\n",
    "\n",
    "%load_ext autoreload\n",
    "%autoreload 2"
   ]
  },
  {
   "cell_type": "code",
   "execution_count": 2,
   "id": "8f75f4eb",
   "metadata": {},
   "outputs": [],
   "source": [
    "base_dir = '/Volumes/USER_data/Dominik/CECELIA_BACKUP/Fu1zEC/ANALYSIS'\n",
    "zero_dir = os.path.join(base_dir, '0/3J78wt/')\n",
    "im_path = os.path.join(zero_dir, 'ccidCpCorrected.zarr')\n",
    "version_num = 1\n",
    "task_dir = os.path.join(base_dir, str(version_num), '3J78wt')"
   ]
  },
  {
   "cell_type": "code",
   "execution_count": 4,
   "id": "96788271",
   "metadata": {},
   "outputs": [],
   "source": [
    "from py.napari_utils import NapariUtils\n",
    "\n",
    "napari_utils = NapariUtils()\n",
    "napari_utils.viewer = None\n",
    "napari_utils.open_viewer()\n",
    "napari_utils.task_dir = task_dir"
   ]
  },
  {
   "cell_type": "code",
   "execution_count": 5,
   "id": "75724ef2",
   "metadata": {},
   "outputs": [],
   "source": [
    "channel_names = [\n",
    "    'CD11b-BV421', 'B220-PB', 'XCR1-Venus', 'CD11c-PE', 'LCMV-AF594', 'P14-CTDR', 'CD3e-AF700', 'AF'\n",
    "]"
   ]
  },
  {
   "cell_type": "code",
   "execution_count": 6,
   "id": "10e3e72e",
   "metadata": {
    "scrolled": true
   },
   "outputs": [
    {
     "ename": "PathNotFoundError",
     "evalue": "nothing found at path ''",
     "output_type": "error",
     "traceback": [
      "\u001b[0;31m---------------------------------------------------------------------------\u001b[0m",
      "\u001b[0;31mPathNotFoundError\u001b[0m                         Traceback (most recent call last)",
      "Cell \u001b[0;32mIn[6], line 1\u001b[0m\n\u001b[0;32m----> 1\u001b[0m \u001b[43mnapari_utils\u001b[49m\u001b[38;5;241;43m.\u001b[39;49m\u001b[43mopen_image\u001b[49m\u001b[43m(\u001b[49m\n\u001b[1;32m      2\u001b[0m \u001b[43m    \u001b[49m\u001b[43mim_path\u001b[49m\u001b[43m,\u001b[49m\u001b[43m \u001b[49m\n\u001b[1;32m      3\u001b[0m \u001b[43m    \u001b[49m\u001b[43muse_channel_axis\u001b[49m\u001b[43m \u001b[49m\u001b[38;5;241;43m=\u001b[39;49m\u001b[43m \u001b[49m\u001b[38;5;28;43;01mTrue\u001b[39;49;00m\u001b[43m,\u001b[49m\u001b[43m \u001b[49m\u001b[43mas_dask\u001b[49m\u001b[43m \u001b[49m\u001b[38;5;241;43m=\u001b[39;49m\u001b[43m \u001b[49m\u001b[38;5;28;43;01mTrue\u001b[39;49;00m\u001b[43m,\u001b[49m\n\u001b[1;32m      4\u001b[0m \u001b[43m    \u001b[49m\u001b[43mvisible\u001b[49m\u001b[43m \u001b[49m\u001b[38;5;241;43m=\u001b[39;49m\u001b[43m \u001b[49m\u001b[38;5;28;43;01mTrue\u001b[39;49;00m\n\u001b[1;32m      5\u001b[0m \u001b[43m)\u001b[49m\n",
      "File \u001b[0;32m~/R-workspace/cecelia/inst/py/napari_utils.py:275\u001b[0m, in \u001b[0;36mNapariUtils.open_image\u001b[0;34m(self, im_path, use_channel_axis, channel_names, channel_colormaps, as_dask, show_3D, multiscales, compute_dask, contrast_limits, visible, squeeze, downsample_z, as_mip, slices)\u001b[0m\n\u001b[1;32m    272\u001b[0m \u001b[38;5;28mself\u001b[39m\u001b[38;5;241m.\u001b[39mas_dask \u001b[38;5;241m=\u001b[39m as_dask\n\u001b[1;32m    274\u001b[0m \u001b[38;5;66;03m# open as Zarr\u001b[39;00m\n\u001b[0;32m--> 275\u001b[0m \u001b[38;5;28mself\u001b[39m\u001b[38;5;241m.\u001b[39mim_data, \u001b[38;5;28mself\u001b[39m\u001b[38;5;241m.\u001b[39mzarr_group_info \u001b[38;5;241m=\u001b[39m \u001b[43mzarr_utils\u001b[49m\u001b[38;5;241;43m.\u001b[39;49m\u001b[43mopen_as_zarr\u001b[49m\u001b[43m(\u001b[49m\n\u001b[1;32m    276\u001b[0m \u001b[43m  \u001b[49m\u001b[38;5;28;43mself\u001b[39;49m\u001b[38;5;241;43m.\u001b[39;49m\u001b[43mim_path\u001b[49m\u001b[43m,\u001b[49m\u001b[43m \u001b[49m\u001b[43mmultiscales\u001b[49m\u001b[43m \u001b[49m\u001b[38;5;241;43m=\u001b[39;49m\u001b[43m \u001b[49m\u001b[43mmultiscales\u001b[49m\u001b[43m,\u001b[49m\u001b[43m \u001b[49m\u001b[43mas_dask\u001b[49m\u001b[43m \u001b[49m\u001b[38;5;241;43m=\u001b[39;49m\u001b[43m \u001b[49m\u001b[43mas_dask\u001b[49m\u001b[43m)\u001b[49m\n\u001b[1;32m    278\u001b[0m \u001b[38;5;66;03m# get OME-XML\u001b[39;00m\n\u001b[1;32m    279\u001b[0m \u001b[38;5;28mself\u001b[39m\u001b[38;5;241m.\u001b[39momexml \u001b[38;5;241m=\u001b[39m ome_xml_utils\u001b[38;5;241m.\u001b[39mparse_meta(\u001b[38;5;28mself\u001b[39m\u001b[38;5;241m.\u001b[39mim_path)\n",
      "File \u001b[0;32m~/R-workspace/cecelia/inst/py/zarr_utils.py:21\u001b[0m, in \u001b[0;36mopen_as_zarr\u001b[0;34m(im_path, multiscales, as_dask, mode)\u001b[0m\n\u001b[1;32m     19\u001b[0m \u001b[38;5;66;03m# open zarr\u001b[39;00m\n\u001b[1;32m     20\u001b[0m \u001b[38;5;28;01mif\u001b[39;00m im_ext \u001b[38;5;241m==\u001b[39m \u001b[38;5;124m\"\u001b[39m\u001b[38;5;124m.zarr\u001b[39m\u001b[38;5;124m\"\u001b[39m:\n\u001b[0;32m---> 21\u001b[0m   im_data, zarr_group_info \u001b[38;5;241m=\u001b[39m \u001b[43mopen_zarr\u001b[49m\u001b[43m(\u001b[49m\n\u001b[1;32m     22\u001b[0m \u001b[43m    \u001b[49m\u001b[43mim_path\u001b[49m\u001b[43m,\u001b[49m\u001b[43m \u001b[49m\u001b[43mmultiscales\u001b[49m\u001b[43m \u001b[49m\u001b[38;5;241;43m=\u001b[39;49m\u001b[43m \u001b[49m\u001b[43mmultiscales\u001b[49m\u001b[43m,\u001b[49m\u001b[43m \u001b[49m\u001b[43mas_dask\u001b[49m\u001b[43m \u001b[49m\u001b[38;5;241;43m=\u001b[39;49m\u001b[43m \u001b[49m\u001b[43mas_dask\u001b[49m\u001b[43m,\u001b[49m\u001b[43m \u001b[49m\u001b[43mmode\u001b[49m\u001b[43m \u001b[49m\u001b[38;5;241;43m=\u001b[39;49m\u001b[43m \u001b[49m\u001b[43mmode\u001b[49m\u001b[43m)\u001b[49m\n\u001b[1;32m     23\u001b[0m \u001b[38;5;28;01melse\u001b[39;00m:\n\u001b[1;32m     24\u001b[0m   \u001b[38;5;66;03m# open image\u001b[39;00m\n\u001b[1;32m     25\u001b[0m   im_data, zarr_group_info \u001b[38;5;241m=\u001b[39m open_image_as_zarr(\n\u001b[1;32m     26\u001b[0m     im_path, multiscales \u001b[38;5;241m=\u001b[39m multiscales, as_dask \u001b[38;5;241m=\u001b[39m as_dask)\n",
      "File \u001b[0;32m~/R-workspace/cecelia/inst/py/zarr_utils.py:40\u001b[0m, in \u001b[0;36mopen_zarr\u001b[0;34m(zarr_path, mode, multiscales, as_dask)\u001b[0m\n\u001b[1;32m     33\u001b[0m \u001b[38;5;28;01mdef\u001b[39;00m \u001b[38;5;21mopen_zarr\u001b[39m(zarr_path, mode \u001b[38;5;241m=\u001b[39m \u001b[38;5;124m'\u001b[39m\u001b[38;5;124mr\u001b[39m\u001b[38;5;124m'\u001b[39m, multiscales \u001b[38;5;241m=\u001b[39m \u001b[38;5;28;01mNone\u001b[39;00m, as_dask \u001b[38;5;241m=\u001b[39m \u001b[38;5;28;01mFalse\u001b[39;00m):\n\u001b[1;32m     34\u001b[0m   \u001b[38;5;66;03m# open zarr store\u001b[39;00m\n\u001b[1;32m     35\u001b[0m   \u001b[38;5;66;03m# TODO I could not get ome-zarr-py to work ..\u001b[39;00m\n\u001b[0;32m   (...)\u001b[0m\n\u001b[1;32m     38\u001b[0m   \n\u001b[1;32m     39\u001b[0m   \u001b[38;5;66;03m# convert to list\u001b[39;00m\n\u001b[0;32m---> 40\u001b[0m   zarr_data, zarr_group_info \u001b[38;5;241m=\u001b[39m \u001b[43mzarr_data_to_list\u001b[49m\u001b[43m(\u001b[49m\n\u001b[1;32m     41\u001b[0m \u001b[43m    \u001b[49m\u001b[43mzarr_path\u001b[49m\u001b[43m,\u001b[49m\u001b[43m \u001b[49m\u001b[43mmultiscales\u001b[49m\u001b[43m \u001b[49m\u001b[38;5;241;43m=\u001b[39;49m\u001b[43m \u001b[49m\u001b[43mmultiscales\u001b[49m\u001b[43m,\u001b[49m\u001b[43m \u001b[49m\u001b[43mmode\u001b[49m\u001b[43m \u001b[49m\u001b[38;5;241;43m=\u001b[39;49m\u001b[43m \u001b[49m\u001b[43mmode\u001b[49m\u001b[43m,\u001b[49m\u001b[43m \u001b[49m\u001b[43momezarr\u001b[49m\u001b[43m \u001b[49m\u001b[38;5;241;43m=\u001b[39;49m\u001b[43m \u001b[49m\u001b[43mzarr_path\u001b[49m\u001b[38;5;241;43m.\u001b[39;49m\u001b[43mendswith\u001b[49m\u001b[43m(\u001b[49m\u001b[38;5;124;43m'\u001b[39;49m\u001b[38;5;124;43m.ome.zarr\u001b[39;49m\u001b[38;5;124;43m'\u001b[39;49m\u001b[43m)\u001b[49m\u001b[43m)\u001b[49m\n\u001b[1;32m     43\u001b[0m   \u001b[38;5;66;03m# convert to dask\u001b[39;00m\n\u001b[1;32m     44\u001b[0m   \u001b[38;5;28;01mif\u001b[39;00m as_dask \u001b[38;5;129;01mis\u001b[39;00m \u001b[38;5;28;01mTrue\u001b[39;00m:\n",
      "File \u001b[0;32m~/R-workspace/cecelia/inst/py/zarr_utils.py:144\u001b[0m, in \u001b[0;36mzarr_data_to_list\u001b[0;34m(zarr_store, multiscales, data_group, mode, omezarr)\u001b[0m\n\u001b[1;32m    140\u001b[0m   \u001b[38;5;28;01mif\u001b[39;00m os\u001b[38;5;241m.\u001b[39mpath\u001b[38;5;241m.\u001b[39mexists(os\u001b[38;5;241m.\u001b[39mpath\u001b[38;5;241m.\u001b[39mjoin(zarr_store, \u001b[38;5;124m'\u001b[39m\u001b[38;5;124m.zarray\u001b[39m\u001b[38;5;124m'\u001b[39m)) \u001b[38;5;129;01mand\u001b[39;00m os\u001b[38;5;241m.\u001b[39mpath\u001b[38;5;241m.\u001b[39mexists(os\u001b[38;5;241m.\u001b[39mpath\u001b[38;5;241m.\u001b[39mjoin(zarr_store, \u001b[38;5;124m'\u001b[39m\u001b[38;5;124m.group\u001b[39m\u001b[38;5;124m'\u001b[39m)):\n\u001b[1;32m    141\u001b[0m     \u001b[38;5;66;03m# remove .zarray\u001b[39;00m\n\u001b[1;32m    142\u001b[0m     os\u001b[38;5;241m.\u001b[39munlink(os\u001b[38;5;241m.\u001b[39mpath\u001b[38;5;241m.\u001b[39mjoin(zarr_store, \u001b[38;5;124m'\u001b[39m\u001b[38;5;124m.zarray\u001b[39m\u001b[38;5;124m'\u001b[39m))\n\u001b[0;32m--> 144\u001b[0m zgroup \u001b[38;5;241m=\u001b[39m \u001b[43mzarr\u001b[49m\u001b[38;5;241;43m.\u001b[39;49m\u001b[43mopen\u001b[49m\u001b[43m(\u001b[49m\u001b[43mzarr_store\u001b[49m\u001b[43m,\u001b[49m\u001b[43m \u001b[49m\u001b[43mmode\u001b[49m\u001b[43m \u001b[49m\u001b[38;5;241;43m=\u001b[39;49m\u001b[43m \u001b[49m\u001b[43mmode\u001b[49m\u001b[43m)\u001b[49m\n\u001b[1;32m    146\u001b[0m \u001b[38;5;66;03m# get first image in ome zarr bundle\u001b[39;00m\n\u001b[1;32m    147\u001b[0m \u001b[38;5;28;01mif\u001b[39;00m omezarr \u001b[38;5;129;01mis\u001b[39;00m \u001b[38;5;28;01mTrue\u001b[39;00m:\n",
      "File \u001b[0;32m~/Library/r-miniconda/envs/r-cecelia-env/lib/python3.9/site-packages/zarr/convenience.py:130\u001b[0m, in \u001b[0;36mopen\u001b[0;34m(store, mode, zarr_version, path, **kwargs)\u001b[0m\n\u001b[1;32m    128\u001b[0m     \u001b[38;5;28;01mreturn\u001b[39;00m open_group(_store, mode\u001b[38;5;241m=\u001b[39mmode, \u001b[38;5;241m*\u001b[39m\u001b[38;5;241m*\u001b[39mkwargs)\n\u001b[1;32m    129\u001b[0m \u001b[38;5;28;01melse\u001b[39;00m:\n\u001b[0;32m--> 130\u001b[0m     \u001b[38;5;28;01mraise\u001b[39;00m PathNotFoundError(path)\n",
      "\u001b[0;31mPathNotFoundError\u001b[0m: nothing found at path ''"
     ]
    }
   ],
   "source": [
    "napari_utils.open_image(\n",
    "    im_path, \n",
    "    use_channel_axis = True, as_dask = True,\n",
    "    visible = False\n",
    ")"
   ]
  },
  {
   "cell_type": "code",
   "execution_count": 21,
   "id": "eff96f05-0220-4522-8b96-5be13299b85e",
   "metadata": {},
   "outputs": [],
   "source": [
    "# show populations\n",
    "napari_utils.show_pop_mapping('flow', value_name = 'default', points_size=50)"
   ]
  },
  {
   "cell_type": "code",
   "execution_count": 10,
   "id": "5dc5c200",
   "metadata": {},
   "outputs": [
    {
     "data": {
      "text/plain": [
       "0"
      ]
     },
     "execution_count": 10,
     "metadata": {},
     "output_type": "execute_result"
    }
   ],
   "source": [
    "# napari_utils.dim_utils.dim_idx('Z', ignore_channel = True, drop_time = True, default_order = False)"
   ]
  },
  {
   "cell_type": "code",
   "execution_count": null,
   "id": "4afd7f17",
   "metadata": {},
   "outputs": [],
   "source": [
    "napari_utils.dim_utils.dim_idx('Z', ignore_channel = False, ignore_time = True)"
   ]
  },
  {
   "cell_type": "code",
   "execution_count": null,
   "id": "e8a536ab",
   "metadata": {},
   "outputs": [],
   "source": [
    "for x in [x.lower() for x in napari_utils.dim_utils.spatial_axis()]:\n",
    "    dim_idx = napari_utils.dim_utils.dim_idx(x, ignore_channel = True, ignore_time = True, drop_z = True)\n",
    "    \n",
    "    print(f'{x} {dim_idx}')"
   ]
  },
  {
   "cell_type": "code",
   "execution_count": null,
   "id": "f35a02c0",
   "metadata": {},
   "outputs": [],
   "source": [
    "dim_idx"
   ]
  },
  {
   "cell_type": "code",
   "execution_count": null,
   "id": "f0a6b447",
   "metadata": {},
   "outputs": [],
   "source": [
    "napari_utils.im_scale"
   ]
  },
  {
   "cell_type": "code",
   "execution_count": null,
   "id": "4181f11d",
   "metadata": {},
   "outputs": [],
   "source": [
    "napari_utils.show_labels_all(\n",
    "    show_labels = False,\n",
    "    show_points = True,\n",
    "    value_names = ['default']\n",
    ")"
   ]
  },
  {
   "cell_type": "code",
   "execution_count": null,
   "id": "0c50bebf",
   "metadata": {},
   "outputs": [],
   "source": [
    "napari_utils.viewer_output_file = r''"
   ]
  },
  {
   "cell_type": "code",
   "execution_count": null,
   "id": "ad325b7f",
   "metadata": {},
   "outputs": [],
   "source": [
    "napari_utils.create_gate_populations_module()"
   ]
  },
  {
   "cell_type": "code",
   "execution_count": null,
   "id": "a4795aa6",
   "metadata": {},
   "outputs": [],
   "source": [
    "# show populations\n",
    "napari_utils.show_pop_mapping('flow', value_name = 'default', points_size=15)"
   ]
  },
  {
   "cell_type": "code",
   "execution_count": null,
   "id": "e161f7e9",
   "metadata": {},
   "outputs": [],
   "source": [
    "# show neighbours\n",
    "napari_utils.show_cell_neighbours(pop_type = 'flow', value_name = 'default')"
   ]
  },
  {
   "cell_type": "code",
   "execution_count": null,
   "id": "5f8dfa59",
   "metadata": {},
   "outputs": [],
   "source": []
  }
 ],
 "metadata": {
  "kernelspec": {
   "display_name": "Python 3 (ipykernel)",
   "language": "python",
   "name": "python3"
  },
  "language_info": {
   "codemirror_mode": {
    "name": "ipython",
    "version": 3
   },
   "file_extension": ".py",
   "mimetype": "text/x-python",
   "name": "python",
   "nbconvert_exporter": "python",
   "pygments_lexer": "ipython3",
   "version": "3.9.18"
  }
 },
 "nbformat": 4,
 "nbformat_minor": 5
}
