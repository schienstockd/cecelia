{
 "cells": [
  {
   "cell_type": "code",
   "execution_count": 1,
   "id": "822562ab",
   "metadata": {},
   "outputs": [],
   "source": [
    "import os\n",
    "import numpy as np\n",
    "# import working directory to check functions\n",
    "os.chdir('/Users/Dominik/R-workspace/cecelia/inst')\n",
    "\n",
    "# MacOS\n",
    "os.environ['KMP_DUPLICATE_LIB_OK'] = 'TRUE'\n",
    "\n",
    "# config\n",
    "import py.config_utils as cfg"
   ]
  },
  {
   "cell_type": "code",
   "execution_count": 2,
   "id": "4a04f1c6",
   "metadata": {},
   "outputs": [],
   "source": [
    "base_dir = '/Volumes/Analysis_SSD/Communal/cecelia/projects/az8y8l/ANALYSIS/'\n",
    "zero_dir = os.path.join(base_dir, '0/auDGLN/')\n",
    "im_path = os.path.join(zero_dir, 'ccidAvgCorrected.zarr')\n",
    "version_num = 1\n",
    "task_dir = os.path.join(base_dir, str(version_num), 'auDGLN')"
   ]
  },
  {
   "cell_type": "code",
   "execution_count": 3,
   "id": "dceee460-0d6c-4d45-be96-0f68463d3bac",
   "metadata": {},
   "outputs": [],
   "source": [
    "im_path = '/Users/Dominik/Downloads/ccidImage.ome.zarr'"
   ]
  },
  {
   "cell_type": "code",
   "execution_count": 46,
   "id": "9cd774ed-e3d8-42bf-b8ff-e08a18653740",
   "metadata": {},
   "outputs": [
    {
     "data": {
      "text/plain": [
       "'/Volumes/MDHS-Research/5300/5260/Lab-Mueller/Dominik Schienstock/Notebook/Experiments/HuBMAP/SPLEEN/HBM543.RSRV.265.ome.tif'"
      ]
     },
     "execution_count": 46,
     "metadata": {},
     "output_type": "execute_result"
    }
   ],
   "source": [
    "y"
   ]
  },
  {
   "cell_type": "code",
   "execution_count": 47,
   "id": "85d33e05-9639-4ccc-a6c2-0881df894cdc",
   "metadata": {},
   "outputs": [
    {
     "data": {
      "text/plain": [
       "True"
      ]
     },
     "execution_count": 47,
     "metadata": {},
     "output_type": "execute_result"
    }
   ],
   "source": [
    "im.ome_metadata is None"
   ]
  },
  {
   "cell_type": "code",
   "execution_count": 48,
   "id": "9707dd6f-1b68-44fb-ac8b-d64176162f11",
   "metadata": {},
   "outputs": [],
   "source": [
    "import tifffile\n",
    "from xml.etree import cElementTree as ET\n",
    "import glob\n",
    "\n",
    "wd = '/Volumes/MDHS-Research/5300/5260/Lab-Mueller/Dominik Schienstock/Notebook/Experiments/HuBMAP/'\n",
    "folders = os.listdir(wd)\n",
    "folders = [x for x in folders if os.path.isdir(os.path.join(wd, x))]\n",
    "\n",
    "# go through conditions\n",
    "for x in folders:\n",
    "    ims = glob.glob(os.path.join(wd, x, '*.ome.tif'))\n",
    "    \n",
    "    for y in ims:\n",
    "        out_path = y.replace('.ome.tif', '.txt')\n",
    "        \n",
    "        im = tifffile.TiffFile(y)\n",
    "        if im.ome_metadata is not None:\n",
    "            root = ET.fromstring(im.ome_metadata)\n",
    "            \n",
    "            xml_image = '{http://www.openmicroscopy.org/Schemas/OME/2016-06}Image'\n",
    "            xml_pixels = '{http://www.openmicroscopy.org/Schemas/OME/2016-06}Pixels'\n",
    "            \n",
    "            with open(out_path, 'w') as text_file:\n",
    "                for chnl in root.findall(xml_image + '/' + xml_pixels + '/'):\n",
    "                    if 'Name' in chnl.attrib.keys():\n",
    "                        text_file.write(chnl.attrib['Name'] + '\\n')"
   ]
  },
  {
   "cell_type": "code",
   "execution_count": 41,
   "id": "eddc5684-864a-43bc-ac21-ecfc1fcbe85b",
   "metadata": {},
   "outputs": [
    {
     "name": "stdout",
     "output_type": "stream",
     "text": [
      "CD107a\n",
      "CD11c\n",
      "CD20\n",
      "CD21\n",
      "CD3e\n",
      "CD4\n",
      "CD45RO\n",
      "CD8\n",
      "DAPI-02\n",
      "E-CAD\n",
      "Ki67\n"
     ]
    }
   ],
   "source": []
  },
  {
   "cell_type": "code",
   "execution_count": 23,
   "id": "2f850945-2041-4525-9f2c-2920a3eae1cc",
   "metadata": {},
   "outputs": [
    {
     "data": {
      "text/plain": [
       "'{http://www.openmicroscopy.org/Schemas/OME/2016-06}Image'"
      ]
     },
     "execution_count": 23,
     "metadata": {},
     "output_type": "execute_result"
    }
   ],
   "source": [
    "print({x.tag for x in root.findall(child.tag+\"/*\")})"
   ]
  },
  {
   "cell_type": "code",
   "execution_count": 9,
   "id": "72817db4-f7bd-4c42-83cd-27efa6bf3399",
   "metadata": {},
   "outputs": [
    {
     "data": {
      "text/plain": [
       "<re.Match object; span=(363, 2274), match='default.png\"><AcquisitionDate>2021-11-20T23:26:01>"
      ]
     },
     "execution_count": 9,
     "metadata": {},
     "output_type": "execute_result"
    }
   ],
   "source": [
    "import re \n",
    "\n",
    "re.search(r'(?<=Name=\").+(?=\")', im.ome_metadata) "
   ]
  },
  {
   "cell_type": "code",
   "execution_count": null,
   "id": "7c1f7536",
   "metadata": {
    "scrolled": true
   },
   "outputs": [],
   "source": [
    "import py.zarr_utils as zarr_utils\n",
    "\n",
    "im, _ = zarr_utils.open_as_zarr(im_path, as_dask=True)\n",
    "im = im[0]"
   ]
  },
  {
   "cell_type": "code",
   "execution_count": null,
   "id": "bd024b94-fc34-4e09-9126-b9d396a8a413",
   "metadata": {},
   "outputs": [],
   "source": [
    "import py.ome_xml_utils as ome_xml_utils\n",
    "from py.dim_utils import DimUtils\n",
    "\n",
    "# get OME-XML\n",
    "omexml = ome_xml_utils.parse_meta(im_path)\n",
    "\n",
    "# create dim utils for image\n",
    "dim_utils = DimUtils(omexml, use_channel_axis = True)\n",
    "dim_utils.calc_image_dimensions(im.shape)"
   ]
  },
  {
   "cell_type": "code",
   "execution_count": null,
   "id": "5f01e44b-cca2-4dab-aa3c-88b13af005fa",
   "metadata": {},
   "outputs": [],
   "source": [
    "x_idx = dim_utils.dim_idx('X')\n",
    "y_idx = dim_utils.dim_idx('Y')\n",
    "c_idx = dim_utils.dim_idx('C')\n",
    "z_idx = dim_utils.dim_idx('Z')\n",
    "\n",
    "x_val = dim_utils.dim_val('X')\n",
    "y_val = dim_utils.dim_val('Y')"
   ]
  },
  {
   "cell_type": "code",
   "execution_count": null,
   "id": "ce895bac-472f-4dae-8231-389028fe8f3d",
   "metadata": {},
   "outputs": [],
   "source": [
    "import py.zarr_utils as zarr_utils"
   ]
  },
  {
   "cell_type": "code",
   "execution_count": null,
   "id": "62eeb54c-cbe7-4e6b-ba92-93681a019bce",
   "metadata": {},
   "outputs": [],
   "source": [
    "slices = [slice(None) for _ in range(len(im.shape))]\n",
    "slices[c_idx] = 7\n",
    "\n",
    "im_flat = zarr_utils.fortify(im[tuple(slices)])"
   ]
  },
  {
   "cell_type": "code",
   "execution_count": null,
   "id": "82c0aa8e-f0ab-47ac-b839-2bcb5c3e8ab7",
   "metadata": {},
   "outputs": [],
   "source": [
    "im_flat.shape"
   ]
  },
  {
   "cell_type": "code",
   "execution_count": null,
   "id": "c3a4c122-776c-4ced-a613-927c798f6643",
   "metadata": {
    "scrolled": true
   },
   "outputs": [],
   "source": [
    "import math\n",
    "\n",
    "# get 2D heatmap from 3D image\n",
    "# get slices\n",
    "slices = [slice(None) for _ in range(len(im_flat.shape))]\n",
    "\n",
    "tile_xy = 200\n",
    "tile_offset = 20\n",
    "tile_list = list()\n",
    "\n",
    "# top left\n",
    "for k, z in enumerate(range(int(tile_xy/tile_offset))):\n",
    "    tile_list.append(np.zeros(im_flat.shape, dtype = im_flat.dtype))\n",
    "    \n",
    "    for i, x in enumerate(range(0 + (z * tile_offset) - int(tile_xy/2), x_val + (z * tile_offset), tile_xy)):\n",
    "        for j, y in enumerate(range(0 + (z * tile_offset) - int(tile_xy/2), y_val + (z * tile_offset), tile_xy)):\n",
    "            slices[dim_utils.dim_idx('X', ignore_channel = True)] = slice(x, x + tile_xy, 1)\n",
    "            slices[dim_utils.dim_idx('Y', ignore_channel = True)] = slice(y, y + tile_xy, 1)\n",
    "            \n",
    "            tile_list[-1][tuple(slices)] = np.average(im_flat[tuple(slices)])\n",
    "\n",
    "# bottom right\n",
    "for k, z in enumerate(range(int(tile_xy/tile_offset))):\n",
    "    tile_list.append(np.zeros(im_flat.shape, dtype = im_flat.dtype))\n",
    "    print(k)\n",
    "    \n",
    "    for i, x in enumerate(range(x_val - (z * tile_offset), 0 - (z * tile_offset) - int(tile_xy/2), -tile_xy)):\n",
    "        for j, y in enumerate(range(y_val - (z * tile_offset), 0 - (z * tile_offset) - int(tile_xy/2), -tile_xy)):\n",
    "            slices[dim_utils.dim_idx('X', ignore_channel = True)] = slice(x - tile_xy, x, 1)\n",
    "            slices[dim_utils.dim_idx('Y', ignore_channel = True)] = slice(y - tile_xy, y, 1)\n",
    "            \n",
    "            tile_list[-1][tuple(slices)] = np.average(im_flat[tuple(slices)])"
   ]
  },
  {
   "cell_type": "code",
   "execution_count": null,
   "id": "9124f78f-8b82-43dd-ac19-5d4992bc35b0",
   "metadata": {},
   "outputs": [],
   "source": [
    "# now puzzle together\n",
    "im_heat = np.average(np.stack(tile_list), axis = 0)\n",
    "\n",
    "viewer.add_image(im_heat)"
   ]
  },
  {
   "cell_type": "code",
   "execution_count": null,
   "id": "f4f35959-d53e-4396-be3d-c695b1b3a08d",
   "metadata": {},
   "outputs": [],
   "source": [
    "import napari\n",
    "\n",
    "viewer = napari.viewer.Viewer()"
   ]
  },
  {
   "cell_type": "code",
   "execution_count": null,
   "id": "a6e57c2e-f863-460b-ac4d-f7bbec7cc53a",
   "metadata": {
    "scrolled": true
   },
   "outputs": [],
   "source": [
    "viewer.add_image(im, channel_axis=1, visible=False)"
   ]
  },
  {
   "cell_type": "code",
   "execution_count": null,
   "id": "da3ea0c9-2e91-4f16-8fc5-9e0520edc147",
   "metadata": {},
   "outputs": [],
   "source": [
    "from skimage.morphology import disk\n",
    "from skimage.filters import rank\n",
    "\n",
    "footprint = disk(200)\n",
    "\n",
    "viewer.add_image(rank.mean_bilateral(np.squeeze(im_flat), footprint=footprint, s0=500, s1=500))"
   ]
  },
  {
   "cell_type": "code",
   "execution_count": null,
   "id": "e003f2dc-b503-4e4e-ba40-bb38351a623a",
   "metadata": {},
   "outputs": [],
   "source": [
    "import py.correction_utils as correction_utils"
   ]
  },
  {
   "cell_type": "code",
   "execution_count": null,
   "id": "274dc853-d958-4a08-ae4b-c3d0bdee278f",
   "metadata": {},
   "outputs": [],
   "source": [
    "x_idx = dim_utils.dim_idx('X')\n",
    "y_idx = dim_utils.dim_idx('Y')\n",
    "c_idx = dim_utils.dim_idx('C')\n",
    "c_val = dim_utils.dim_val('C')"
   ]
  },
  {
   "cell_type": "code",
   "execution_count": null,
   "id": "b7cb31cf-5dcc-48e4-858a-ac73e603d137",
   "metadata": {
    "scrolled": true
   },
   "outputs": [],
   "source": [
    "slices = [slice(None) for _ in range(len(im.shape))]\n",
    "slices[x_idx] = slice(500, 1000, 1)\n",
    "slices[y_idx] = slice(2000, 2500, 1)"
   ]
  },
  {
   "cell_type": "code",
   "execution_count": null,
   "id": "e2b8ae2a-020d-4b8c-abfc-92af179d0766",
   "metadata": {},
   "outputs": [],
   "source": [
    "list(range(0, 101, 10))"
   ]
  },
  {
   "cell_type": "code",
   "execution_count": null,
   "id": "1a82e728-baa0-4860-98f6-186c0e7b435d",
   "metadata": {
    "scrolled": true
   },
   "outputs": [],
   "source": [
    "from matplotlib import pyplot as plt\n",
    "\n",
    "plt.figure(figsize=(10,c_val * 5))\n",
    "percentile = 75\n",
    "\n",
    "im_slices = [slice(None) for _ in range(len(im.shape))]\n",
    "im_slices[x_idx] = slice(500, 1000, 1)\n",
    "im_slices[y_idx] = slice(2000, 2500, 1)\n",
    "\n",
    "for i, x in enumerate([4]):\n",
    "    for j, y in enumerate(range(0, 101, 10)):\n",
    "        a = correction_utils.af_correct_image(\n",
    "            im, {\n",
    "            #im[tuple(slices)], {\n",
    "                i: {\n",
    "                    'divisionChannels': list(range(c_val)),\n",
    "                    'summaryMode': 'percentile',\n",
    "                    'correctionMode': 'divide',\n",
    "                    'summaryPercentile': y,\n",
    "                    'channelPercentile': 0,\n",
    "                    'correctionPercentile': 0,\n",
    "                    'medianFilter': 0,\n",
    "                    'generateInverse': False,\n",
    "                    'correctionMin': 0.1,\n",
    "                    'correctionMax': 99.9\n",
    "                } for i in range(c_val)\n",
    "            }, dim_utils = dim_utils, gaussian_sigma = 0\n",
    "        )\n",
    "        \n",
    "        slices[c_idx] = x\n",
    "        im_slices[c_idx] = x\n",
    "        \n",
    "        plt.subplot(c_val,2,(j*2)+1)\n",
    "        plt.imshow(np.squeeze(im[tuple(slices)]), cmap='gray')\n",
    "        plt.title(i)\n",
    "        \n",
    "        plt.subplot(c_val,2,(j*2)+2)\n",
    "        plt.imshow(np.squeeze(a[tuple(im_slices)]), cmap='magma')\n",
    "        plt.title(f'DIFF {y}')"
   ]
  },
  {
   "cell_type": "code",
   "execution_count": null,
   "id": "36d2adb2-24f3-4299-adbf-80580cd069fd",
   "metadata": {},
   "outputs": [],
   "source": [
    "import napari\n",
    "\n",
    "viewer = napari.viewer.Viewer()"
   ]
  },
  {
   "cell_type": "code",
   "execution_count": null,
   "id": "58975439-5247-4650-8c1b-b8e62e162f87",
   "metadata": {},
   "outputs": [],
   "source": [
    "viewer.add_image(im, channel_axis=1, visible=False)"
   ]
  },
  {
   "cell_type": "code",
   "execution_count": null,
   "id": "0771d558-da5f-4493-9032-c5251edf1085",
   "metadata": {},
   "outputs": [],
   "source": [
    "import skimage.filters\n",
    "import skimage.morphology"
   ]
  },
  {
   "cell_type": "code",
   "execution_count": null,
   "id": "29e83978-2e01-41d4-aa48-f9e83204614a",
   "metadata": {},
   "outputs": [],
   "source": [
    "avg_slices = [slice(None) for _ in range(len(im.shape))]\n",
    "avg_slices[x_idx] = slice(500, 1000, 1)\n",
    "avg_slices[y_idx] = slice(2000, 2500, 1)"
   ]
  },
  {
   "cell_type": "code",
   "execution_count": null,
   "id": "37e70c7b-6ce7-41d6-a75d-49410afeba4b",
   "metadata": {},
   "outputs": [],
   "source": [
    "from matplotlib import pyplot as plt\n",
    "\n",
    "plt.figure(figsize=(10,c_val * 5))\n",
    "percentile = 75\n",
    "\n",
    "for i, x in enumerate(range(c_val)):  \n",
    "    slices[c_idx] = x\n",
    "    plt.subplot(c_val,2,(i*2)+1)\n",
    "    plt.imshow(np.squeeze(im[tuple(slices)]), cmap='gray')\n",
    "    plt.title(i)\n",
    "    \n",
    "    plt.subplot(c_val,2,(i*2)+2)\n",
    "    plt.imshow(np.squeeze(\n",
    "        (np.squeeze(im[tuple(slices)]) + 1) / (np.percentile(im[tuple(avg_slices)].compute(), percentile, axis = c_idx).astype(np.uint8) + 1)\n",
    "    ), cmap='magma')\n",
    "    plt.title(f'DIFF {i}')"
   ]
  },
  {
   "cell_type": "code",
   "execution_count": null,
   "id": "eadfb775-80ed-4e10-abe2-7f1ce5383ebc",
   "metadata": {},
   "outputs": [],
   "source": []
  },
  {
   "cell_type": "code",
   "execution_count": null,
   "id": "e55b3d25-318b-488a-8ad9-53a19b723dbc",
   "metadata": {},
   "outputs": [],
   "source": []
  }
 ],
 "metadata": {
  "kernelspec": {
   "display_name": "Python 3 (ipykernel)",
   "language": "python",
   "name": "python3"
  },
  "language_info": {
   "codemirror_mode": {
    "name": "ipython",
    "version": 3
   },
   "file_extension": ".py",
   "mimetype": "text/x-python",
   "name": "python",
   "nbconvert_exporter": "python",
   "pygments_lexer": "ipython3",
   "version": "3.9.18"
  }
 },
 "nbformat": 4,
 "nbformat_minor": 5
}
