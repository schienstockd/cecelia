{
 "cells": [
  {
   "cell_type": "code",
   "execution_count": 1,
   "id": "09a0bd5c",
   "metadata": {},
   "outputs": [],
   "source": [
    "import os\n",
    "import numpy as np\n",
    "# import working directory to check functions\n",
    "os.chdir('/Users/Dominik/R-workspace/cecelia/inst')\n",
    "\n",
    "# MacOS\n",
    "os.environ['KMP_DUPLICATE_LIB_OK'] = 'TRUE'\n",
    "\n",
    "# config\n",
    "import py.config_utils as cfg\n",
    "\n",
    "%load_ext autoreload\n",
    "%autoreload 2"
   ]
  },
  {
   "cell_type": "code",
   "execution_count": 2,
   "id": "624ccf0e",
   "metadata": {},
   "outputs": [],
   "source": [
    "base_dir = '/Volumes/USER_data/Dominik/CECELIA_BACKUP/5g6H4F/ANALYSIS/'\n",
    "zero_dir = os.path.join(base_dir, '0/aSf5Rr/')\n",
    "im_path = os.path.join(zero_dir, 'ccidImage.zarr')\n",
    "#im_path = os.path.join(zero_dir, 'ccidRegistered.zarr')\n",
    "version_num = 1\n",
    "task_dir = os.path.join(base_dir, str(version_num), 'aSf5Rr')"
   ]
  },
  {
   "cell_type": "code",
   "execution_count": 3,
   "id": "9aff368f",
   "metadata": {},
   "outputs": [],
   "source": [
    "import py.ome_xml_utils as ome_xml_utils\n",
    "from py.dim_utils import DimUtils\n",
    "import py.zarr_utils as zarr_utils"
   ]
  },
  {
   "cell_type": "code",
   "execution_count": 4,
   "id": "5565f642-1bcf-45a8-9363-983aa6a07ae1",
   "metadata": {},
   "outputs": [
    {
     "name": "stdout",
     "output_type": "stream",
     "text": [
      "<zarr.hierarchy.Group '/' read-only>\n",
      "[322, 25778, 35416]\n",
      "[35416, 25778, 322]\n",
      "['X', 'Y', 'C']\n"
     ]
    }
   ],
   "source": [
    "import py.ome_xml_utils as ome_xml_utils\n",
    "from py.dim_utils import DimUtils\n",
    "import py.zarr_utils as zarr_utils\n",
    "\n",
    "im, _ = zarr_utils.open_as_zarr(im_path, as_dask = True)\n",
    "\n",
    "# get OME-XML\n",
    "omexml = ome_xml_utils.parse_meta(im_path)\n",
    "\n",
    "# create dim utils for image\n",
    "dim_utils = DimUtils(omexml, use_channel_axis = True)\n",
    "dim_utils.calc_image_dimensions(im[0].shape)"
   ]
  },
  {
   "cell_type": "code",
   "execution_count": 19,
   "id": "6cdf7c06-dfb0-4681-8fef-b180be920d0e",
   "metadata": {
    "scrolled": true
   },
   "outputs": [],
   "source": [
    "from skimage import filters, measure, morphology, transform\n",
    "\n",
    "slices = [slice(None) for _ in range(len(im[0].shape))]\n",
    "slices[dim_utils.dim_idx('C')] = slice(1, dim_utils.dim_val('C'), 1)\n",
    "slices[dim_utils.dim_idx('X')] = slice(13000, 15000, 1)\n",
    "slices[dim_utils.dim_idx('Y')] = slice(13000, 15000, 1)\n",
    "slices = tuple(slices)\n",
    "\n",
    "#im_max = im[0][tuple(slices)].max(axis=dim_utils.dim_idx('C'))\n",
    "im_avg = im[0][slices].mean(axis=dim_utils.dim_idx('C'))\n",
    "im_sum = im[0][slices].sum(axis=dim_utils.dim_idx('C'))\n",
    "im_nuc = im[0][0, ...]\n",
    "\n",
    "slices_flat = [slice(None) for _ in range(len(im_nuc.shape))]\n",
    "slices_flat[0] = slice(13000, 15000, 1)\n",
    "slices_flat[1] = slice(13000, 15000, 1)\n",
    "slices_flat = tuple(slices_flat)"
   ]
  },
  {
   "cell_type": "code",
   "execution_count": 7,
   "id": "fd13336e",
   "metadata": {},
   "outputs": [],
   "source": [
    "from py.napari_utils import NapariUtils\n",
    "\n",
    "napari_utils = NapariUtils()\n",
    "napari_utils.viewer = None\n",
    "napari_utils.open_viewer()\n",
    "napari_utils.task_dir = task_dir"
   ]
  },
  {
   "cell_type": "code",
   "execution_count": 22,
   "id": "8c802d56-ceaf-4811-8829-371aff79b357",
   "metadata": {},
   "outputs": [
    {
     "data": {
      "text/plain": [
       "<Image layer 'im_avg' at 0x22c3451f0>"
      ]
     },
     "execution_count": 22,
     "metadata": {},
     "output_type": "execute_result"
    }
   ],
   "source": [
    "napari_utils.viewer.add_image(im_avg)"
   ]
  },
  {
   "cell_type": "code",
   "execution_count": 24,
   "id": "c83bcc59-4842-4b87-b497-ad6e765ca7d9",
   "metadata": {},
   "outputs": [
    {
     "data": {
      "text/plain": [
       "<Image layer 'Image' at 0x25be77820>"
      ]
     },
     "execution_count": 24,
     "metadata": {},
     "output_type": "execute_result"
    }
   ],
   "source": [
    "napari_utils.viewer.add_image(im_nuc[slices_flat])"
   ]
  },
  {
   "cell_type": "code",
   "execution_count": null,
   "id": "c94c2909",
   "metadata": {},
   "outputs": [],
   "source": [
    "napari_utils.open_image(\n",
    "    im_path,\n",
    "    use_channel_axis = True, as_dask = True,\n",
    "    visible = False, channel_names = im_channel_names\n",
    ")"
   ]
  },
  {
   "cell_type": "code",
   "execution_count": null,
   "id": "773023b1-44c6-46ec-bdba-947345fa1d77",
   "metadata": {},
   "outputs": [],
   "source": [
    "a"
   ]
  },
  {
   "cell_type": "code",
   "execution_count": null,
   "id": "1079ffd5-bf63-4576-b043-8606677bfbd6",
   "metadata": {},
   "outputs": [],
   "source": []
  },
  {
   "cell_type": "code",
   "execution_count": null,
   "id": "b50606eb",
   "metadata": {},
   "outputs": [],
   "source": [
    "napari_utils.show_labels_all(\n",
    "    show_labels = True,\n",
    "    show_points = False,\n",
    "    value_names = ['default']\n",
    ")"
   ]
  },
  {
   "cell_type": "code",
   "execution_count": null,
   "id": "282b4563",
   "metadata": {},
   "outputs": [],
   "source": [
    "napari_utils.show_labels_all(\n",
    "    show_labels = True,\n",
    "    show_points = False,\n",
    "    value_names = ['stroma']\n",
    ")"
   ]
  },
  {
   "cell_type": "code",
   "execution_count": null,
   "id": "869dc150",
   "metadata": {},
   "outputs": [],
   "source": [
    "napari_utils.show_labels_all(\n",
    "    show_labels = True,\n",
    "    show_points = False,\n",
    "    value_names = ['stroma.branch'],\n",
    "    show_branching = True\n",
    ")"
   ]
  },
  {
   "cell_type": "code",
   "execution_count": null,
   "id": "b1604423",
   "metadata": {},
   "outputs": [],
   "source": []
  }
 ],
 "metadata": {
  "kernelspec": {
   "display_name": "Python 3 (ipykernel)",
   "language": "python",
   "name": "python3"
  },
  "language_info": {
   "codemirror_mode": {
    "name": "ipython",
    "version": 3
   },
   "file_extension": ".py",
   "mimetype": "text/x-python",
   "name": "python",
   "nbconvert_exporter": "python",
   "pygments_lexer": "ipython3",
   "version": "3.9.18"
  }
 },
 "nbformat": 4,
 "nbformat_minor": 5
}
