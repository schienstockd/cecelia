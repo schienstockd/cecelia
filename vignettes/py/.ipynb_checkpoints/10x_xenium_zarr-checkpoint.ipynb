{
 "cells": [
  {
   "cell_type": "code",
   "execution_count": 2,
   "id": "09a0bd5c",
   "metadata": {},
   "outputs": [],
   "source": [
    "import os\n",
    "import numpy as np\n",
    "# import working directory to check functions\n",
    "os.chdir('/Users/Dominik/R-workspace/cecelia/inst')\n",
    "\n",
    "# MacOS\n",
    "os.environ['KMP_DUPLICATE_LIB_OK'] = 'TRUE'\n",
    "\n",
    "# config\n",
    "import py.config_utils as cfg\n",
    "\n",
    "%load_ext autoreload\n",
    "%autoreload 2"
   ]
  },
  {
   "cell_type": "code",
   "execution_count": 7,
   "id": "624ccf0e",
   "metadata": {},
   "outputs": [],
   "source": [
    "base_dir = '/Volumes/USER_data/Dominik/CECELIA_BACKUP/5g6H4F/ANALYSIS/'\n",
    "zero_dir = os.path.join(base_dir, '0/aSf5Rr/')\n",
    "im_path = os.path.join(zero_dir, 'ccidImage.zarr')\n",
    "#im_path = os.path.join(zero_dir, 'ccidRegistered.zarr')\n",
    "version_num = 1\n",
    "task_dir = os.path.join(base_dir, str(version_num), 'aSf5Rr')"
   ]
  },
  {
   "cell_type": "code",
   "execution_count": 4,
   "id": "9aff368f",
   "metadata": {},
   "outputs": [],
   "source": [
    "import py.ome_xml_utils as ome_xml_utils\n",
    "from py.dim_utils import DimUtils\n",
    "import py.zarr_utils as zarr_utils"
   ]
  },
  {
   "cell_type": "code",
   "execution_count": 5,
   "id": "fd13336e",
   "metadata": {},
   "outputs": [],
   "source": [
    "from py.napari_utils import NapariUtils\n",
    "\n",
    "napari_utils = NapariUtils()\n",
    "napari_utils.viewer = None\n",
    "napari_utils.open_viewer()\n",
    "napari_utils.task_dir = task_dir"
   ]
  },
  {
   "cell_type": "code",
   "execution_count": 10,
   "id": "27e9f255-d31b-4f80-8be9-0889d4d5bacf",
   "metadata": {},
   "outputs": [],
   "source": [
    "im_channel_names = [\n",
    "    'Hoechst','SEC11C','DAPK3','TCIM','NKG7','RAPGEF3','PPARG','CXCR4','PTRHD1','LUM','RUNX1','FAM49A','ITGAX','GLIPR1','HAVCR2','STC1','CXCL5','LPXN','S100A8','CLECL1','DUSP5','S100A14','PCLAF','TMEM147','BASP1','BTNL9','CLEC14A','CCDC6','SCD','SQLE','PDK4','C6orf132','KRT15','CEACAM6','CD83','PDE4A','CENPF','TUBB2B','KLRD1','antisense_SCRIB','CEACAM8','KRT23','LTB','GZMA','AKR1C3','MMP1','TCF7','C5orf46','EDN1','FASN','CD68','CCND1','CD86','MYBPC1','DSC2','SERPINB9','CCL5','CLDN4','DUSP2','FBLN1','KRT14','FOXC2','UCP1','SLAMF7','TIMP4','APOBEC3A','SOX18','SCGB2A1','CSF3','ANKRD28','POLR2J3','JUP','TRAF4','USP53','S100A4','LARS','ACTA2','HOXD8','APOBEC3B','PDGFRB','C1QA','NPM3','CAVIN2','CD274','LAG3','antisense_LGI3','SFRP1','NCAM1','CYP1A1','SSTR2','TFAP2A','MLPH','ERBB2','CTTN','GATA3','LDHB','RAMP2','SMS','ZEB2','AIF1','HMGA1','HDC','MAP3K8','CCL8','MRC1','MKI67','KARS','GPR183','MZB1','TRAC','TCEAL7','IL2RG','MUC6','CTLA4','PLD4','KRT5','CLIC6','antisense_ADCY4','KDR','ANKRD30A','EPCAM','TRAPPC3','CRISPLD2','FLNB','CCPG1','DSP','EDNRB','CXCL16','C2orf42','CD93','CCR7','PDGFRA','AGR3','EGFL7','SFRP4','SDC4','RTKN2','PTPRC','KRT6B','antisense_ULK3','TYROBP','LILRA4','CD8B','DPT','DNAAF1','KRT7','CLEC9A','VOPP1','PIM1','ITM2C','SEC24A','ADAM9','AVPR1A','LY86','REXO4','MEDAG','SELL','GJB2','TCF4','CD69','MMRN2','SLAMF1','FCER1A','MNDA','ADH1B','GZMK','KLRF1','PGR','SLC4A1','TACSTD2','ZNF562','CD247','ADGRE5','KLF5','PRDM1','POSTN','FCER1G','CXCL12','CD4','ITGAM','RORC','ANGPT2','FAM107B','KLRC1','PTN','CD80','MS4A1','PRF1','FOXP3','CYTIP','CD3G','PTGDS','HOXD9','antisense_BCL2L15','CLCA2','CRHBP','CDH1','FOXA1','TPD52','SERHL2','OCIAD2','ESR1','ACTG2','LYPD3','ELF3','SLC25A37','SMAP2','TUBA4A','IL2RA','VWF','MMP2','HOOK2','NDUFA4L2','C1QC','CD3E','FSTL3','antisense_PROKR2','FGL2','ALDH1A3','AQP3','CPA3','CX3CR1','MMP12','SPIB','AHSP','PDCD1LG2','LEP','BANK1','TCL1A','QARS','CD9','AKR1C1','DST','SRPK1','SH3YL1','LYZ','EIF4EBP1','ERN1','RAB30','SVIL','MPO','TPSAB1','ABCC11','RHOH','AR','IL3RA','ZEB1','TENT5C','CLDN5','IGF1','CD163','ANKRD29','CD8A','CTH','LPL','THAP2','IL7R','EGFR','TAC1','TIGIT','NARS','OXTR','MYO5B','ESM1','CAV1','IGSF6','TOP2A','BACE2','DNTTIP1','FBLIM1','LRRC15','DERL3','KIT','TRIB1','HPX','PCOLCE','SERPINA3','CCL20','OPRPN','CD3D','CTSG','TNFRSF17','CD79A','ADIPOQ','KRT16','ELF5','CD19','WARS','TOMM7','APOC1','LGALSL','SOX17','C15orf48','CD79B','PIGR','antisense_TRMU','MDM2','AQP1','SLC5A6','FCGR3A','DMKN','PELI1','PECAM1','MYLK','CDC42EP1','KLRB1','TIFA','antisense_MYLIP','LIF','GZMB','CD27','TCF15','KRT8','CCDC80','ENAH','CD14','MYH11','SNAI1','NOSTRIN','GNLY','CD1C','PDCD1'\n",
    "]"
   ]
  },
  {
   "cell_type": "code",
   "execution_count": 8,
   "id": "c94c2909",
   "metadata": {},
   "outputs": [
    {
     "name": "stdout",
     "output_type": "stream",
     "text": [
      "<zarr.hierarchy.Group '/' read-only>\n",
      "[322, 25778, 35416]\n",
      "[35416, 25778, 322]\n",
      "['X', 'Y', 'C']\n",
      "[322, 25778, 35416]\n"
     ]
    }
   ],
   "source": [
    "napari_utils.open_image(\n",
    "    im_path,\n",
    "    use_channel_axis = True, as_dask = True,\n",
    "    visible = False, channel_names = im_channel_names\n",
    ")"
   ]
  },
  {
   "cell_type": "code",
   "execution_count": 9,
   "id": "773023b1-44c6-46ec-bdba-947345fa1d77",
   "metadata": {},
   "outputs": [
    {
     "ename": "NameError",
     "evalue": "name 'a' is not defined",
     "output_type": "error",
     "traceback": [
      "\u001b[0;31m---------------------------------------------------------------------------\u001b[0m",
      "\u001b[0;31mNameError\u001b[0m                                 Traceback (most recent call last)",
      "Cell \u001b[0;32mIn[9], line 1\u001b[0m\n\u001b[0;32m----> 1\u001b[0m \u001b[43ma\u001b[49m\n",
      "\u001b[0;31mNameError\u001b[0m: name 'a' is not defined"
     ]
    }
   ],
   "source": [
    "a"
   ]
  },
  {
   "cell_type": "code",
   "execution_count": null,
   "id": "1079ffd5-bf63-4576-b043-8606677bfbd6",
   "metadata": {},
   "outputs": [],
   "source": []
  },
  {
   "cell_type": "code",
   "execution_count": null,
   "id": "b50606eb",
   "metadata": {},
   "outputs": [],
   "source": [
    "napari_utils.show_labels_all(\n",
    "    show_labels = True,\n",
    "    show_points = False,\n",
    "    value_names = ['default']\n",
    ")"
   ]
  },
  {
   "cell_type": "code",
   "execution_count": null,
   "id": "282b4563",
   "metadata": {},
   "outputs": [],
   "source": [
    "napari_utils.show_labels_all(\n",
    "    show_labels = True,\n",
    "    show_points = False,\n",
    "    value_names = ['stroma']\n",
    ")"
   ]
  },
  {
   "cell_type": "code",
   "execution_count": null,
   "id": "869dc150",
   "metadata": {},
   "outputs": [],
   "source": [
    "napari_utils.show_labels_all(\n",
    "    show_labels = True,\n",
    "    show_points = False,\n",
    "    value_names = ['stroma.branch'],\n",
    "    show_branching = True\n",
    ")"
   ]
  },
  {
   "cell_type": "code",
   "execution_count": null,
   "id": "b1604423",
   "metadata": {},
   "outputs": [],
   "source": []
  }
 ],
 "metadata": {
  "kernelspec": {
   "display_name": "Python 3 (ipykernel)",
   "language": "python",
   "name": "python3"
  },
  "language_info": {
   "codemirror_mode": {
    "name": "ipython",
    "version": 3
   },
   "file_extension": ".py",
   "mimetype": "text/x-python",
   "name": "python",
   "nbconvert_exporter": "python",
   "pygments_lexer": "ipython3",
   "version": "3.9.18"
  }
 },
 "nbformat": 4,
 "nbformat_minor": 5
}
