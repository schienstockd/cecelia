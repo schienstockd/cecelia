{
 "cells": [
  {
   "cell_type": "code",
   "execution_count": 1,
   "id": "09a0bd5c",
   "metadata": {},
   "outputs": [],
   "source": [
    "import os\n",
    "import numpy as np\n",
    "# import working directory to check functions\n",
    "os.chdir('/Users/schiend/Desktop/DOHERTY/R-workspace/cecelia/inst')\n",
    "\n",
    "# config\n",
    "import py.config_utils as cfg\n",
    "\n",
    "%load_ext autoreload\n",
    "%autoreload 2"
   ]
  },
  {
   "cell_type": "code",
   "execution_count": 2,
   "id": "624ccf0e",
   "metadata": {},
   "outputs": [],
   "source": [
    "base_dir = '/Volumes/Analysis_SSD/Dominik/cecelia/projects/5g6H4F/ANALYSIS/'\n",
    "zero_dir = os.path.join(base_dir, '0/aSf5Rr/')\n",
    "im_path = os.path.join(zero_dir, 'ccidImage.zarr')\n",
    "#im_path = os.path.join(zero_dir, 'ccidRegistered.zarr')\n",
    "version_num = 1\n",
    "task_dir = os.path.join(base_dir, str(version_num), 'aSf5Rr')"
   ]
  },
  {
   "cell_type": "code",
   "execution_count": 3,
   "id": "9aff368f",
   "metadata": {},
   "outputs": [
    {
     "name": "stderr",
     "output_type": "stream",
     "text": [
      "Could not find Java JRE compatible with x86_64 architecture\n"
     ]
    }
   ],
   "source": [
    "import py.ome_xml_utils as ome_xml_utils\n",
    "from py.dim_utils import DimUtils\n",
    "import py.zarr_utils as zarr_utils"
   ]
  },
  {
   "cell_type": "code",
   "execution_count": 4,
   "id": "fd13336e",
   "metadata": {},
   "outputs": [
    {
     "name": "stderr",
     "output_type": "stream",
     "text": [
      "napari.manifest -> 'skan' could not be imported: Could not find file 'napari.yaml' in module 'skan'\n"
     ]
    }
   ],
   "source": [
    "from py.napari_utils import NapariUtils\n",
    "\n",
    "napari_utils = NapariUtils()\n",
    "napari_utils.viewer = None\n",
    "napari_utils.open_viewer()\n",
    "napari_utils.task_dir = task_dir"
   ]
  },
  {
   "cell_type": "code",
   "execution_count": 10,
   "id": "ff08df62",
   "metadata": {},
   "outputs": [
    {
     "data": {
      "text/plain": [
       "0"
      ]
     },
     "execution_count": 10,
     "metadata": {},
     "output_type": "execute_result"
    }
   ],
   "source": [
    "im_data, _ = zarr_utils.open_zarr(im_path, as_dask = True)\n",
    "labels_data, _ = zarr_utils.open_labels_as_zarr(\n",
    "    os.path.join(task_dir, cfg.value_dir(value_name, 'labels')))\n",
    "omexml = ome_xml_utils.parse_meta(im_path)\n",
    "dim_utils = DimUtils(omexml)\n",
    "dim_utils.calc_image_dimensions(im_data[0].shape)"
   ]
  },
  {
   "cell_type": "code",
   "execution_count": 5,
   "id": "c94c2909",
   "metadata": {},
   "outputs": [
    {
     "name": "stdout",
     "output_type": "stream",
     "text": [
      "[322, 25778, 35416]\n"
     ]
    }
   ],
   "source": [
    "napari_utils.open_image(\n",
    "    im_path,\n",
    "    use_channel_axis = True, as_dask = True,\n",
    "    visible = False\n",
    ")"
   ]
  },
  {
   "cell_type": "code",
   "execution_count": 12,
   "id": "bee82d62",
   "metadata": {},
   "outputs": [
    {
     "name": "stdout",
     "output_type": "stream",
     "text": [
      "{'base': '/Volumes/Analysis_SSD/Dominik/cecelia/projects/5g6H4F/ANALYSIS/1/aSf5Rr/labels/default.zarr'}\n"
     ]
    }
   ],
   "source": [
    "napari_utils.show_labels_all(\n",
    "    show_labels = True,\n",
    "    show_points = False,\n",
    "    value_names = ['default']\n",
    ")"
   ]
  },
  {
   "cell_type": "code",
   "execution_count": 11,
   "id": "282b4563",
   "metadata": {},
   "outputs": [
    {
     "name": "stdout",
     "output_type": "stream",
     "text": [
      "{'base': '/Volumes/Analysis_SSD/Dominik/cecelia/projects/5g6H4F/ANALYSIS/1/aSf5Rr/labels/stroma.zarr'}\n"
     ]
    }
   ],
   "source": [
    "napari_utils.show_labels_all(\n",
    "    show_labels = True,\n",
    "    show_points = False,\n",
    "    value_names = ['stroma']\n",
    ")"
   ]
  },
  {
   "cell_type": "code",
   "execution_count": null,
   "id": "869dc150",
   "metadata": {},
   "outputs": [],
   "source": [
    "napari_utils.show_labels_all(\n",
    "    show_labels = True,\n",
    "    show_points = False,\n",
    "    value_names = ['stroma.branch'],\n",
    "    show_branching = True\n",
    ")"
   ]
  }
 ],
 "metadata": {
  "kernelspec": {
   "display_name": "Python 3 (ipykernel)",
   "language": "python",
   "name": "python3"
  },
  "language_info": {
   "codemirror_mode": {
    "name": "ipython",
    "version": 3
   },
   "file_extension": ".py",
   "mimetype": "text/x-python",
   "name": "python",
   "nbconvert_exporter": "python",
   "pygments_lexer": "ipython3",
   "version": "3.9.13"
  }
 },
 "nbformat": 4,
 "nbformat_minor": 5
}
