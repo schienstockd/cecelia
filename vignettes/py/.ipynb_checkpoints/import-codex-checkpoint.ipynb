{
 "cells": [
  {
   "cell_type": "code",
   "execution_count": 1,
   "id": "822562ab",
   "metadata": {},
   "outputs": [],
   "source": [
    "import os\n",
    "import numpy as np\n",
    "# import working directory to check functions\n",
    "os.chdir('/Users/Dominik/R-workspace/cecelia/inst')\n",
    "\n",
    "# MacOS\n",
    "os.environ['KMP_DUPLICATE_LIB_OK'] = 'TRUE'\n",
    "\n",
    "# config\n",
    "import py.config_utils as cfg"
   ]
  },
  {
   "cell_type": "code",
   "execution_count": 2,
   "id": "68185ac7-fa54-4bb0-80bf-1ac14291353f",
   "metadata": {},
   "outputs": [],
   "source": [
    "# how to import CODEX data that is registered but not assembled?\n",
    "im_path = '/Users/Dominik/Downloads/21-013_SP_CC2-C no LED 07DEC2021_reg001.tif'"
   ]
  },
  {
   "cell_type": "code",
   "execution_count": 3,
   "id": "a2451ccd-d0a3-4496-b79b-77578e6c927a",
   "metadata": {},
   "outputs": [],
   "source": [
    "import tifffile\n",
    "im = tifffile.TiffFile(im_path)"
   ]
  },
  {
   "cell_type": "code",
   "execution_count": 5,
   "id": "9596d511-7164-48a6-9eee-d3d6d47cf1d8",
   "metadata": {},
   "outputs": [],
   "source": [
    "import py.ome_xml_utils as ome_xml_utils\n",
    "from py.dim_utils import DimUtils\n",
    "\n",
    "x_array = im.asarray()"
   ]
  },
  {
   "cell_type": "code",
   "execution_count": 32,
   "id": "e7264b5a-ad34-412f-90a1-1d4fe91153ab",
   "metadata": {},
   "outputs": [],
   "source": [
    "im_meta = im.imagej_metadata"
   ]
  },
  {
   "cell_type": "code",
   "execution_count": 16,
   "id": "e6a3183e-9163-4c25-9d3f-5946f855f697",
   "metadata": {},
   "outputs": [],
   "source": [
    "new_shape = list(x_array.shape)\n",
    "new_shape = tuple([new_shape[0] * new_shape[1]] + new_shape[2:])"
   ]
  },
  {
   "cell_type": "code",
   "execution_count": 45,
   "id": "b0e8414a-02f9-4002-bb50-69048a2bf6af",
   "metadata": {},
   "outputs": [],
   "source": [
    "# reshuffle array\n",
    "idx_rm = [i for i, x in enumerate(im_meta['Labels']) if x != 'DAPI-02' and x.startswith(('DAPI-', 'Blank', 'Empty'))]\n",
    "y_array = np.delete(x_array.reshape(new_shape), idx_rm, axis = 0)"
   ]
  },
  {
   "cell_type": "code",
   "execution_count": 51,
   "id": "6df71db3-2a75-48c9-87f6-b9777be448de",
   "metadata": {},
   "outputs": [],
   "source": [
    "zarr_path = '/Users/Dominik/Downloads/21-013_SP_CC2-C no LED 07DEC2021_reg001.zarr'"
   ]
  },
  {
   "cell_type": "code",
   "execution_count": 71,
   "id": "da90d4c0-81db-45b8-98e2-80e0864d809f",
   "metadata": {},
   "outputs": [],
   "source": [
    "import py.zarr_utils as zarr_utils\n",
    "\n",
    "nscales = 6\n",
    "\n",
    "im_chunks = [1] * len(y_array.shape)\n",
    "im_chunks[-2] = 2048\n",
    "im_chunks[-1] = 2048\n",
    "im_chunks\n",
    "\n",
    "zarr_utils.create_multiscales(y_array, zarr_path, nscales = nscales,\n",
    "                              im_chunks = im_chunks, x_idx = 2, y_idx = 1)"
   ]
  },
  {
   "cell_type": "code",
   "execution_count": 89,
   "id": "d1de4a8a-bc4c-49b1-8dbb-fd4f8dff58b0",
   "metadata": {
    "scrolled": true
   },
   "outputs": [],
   "source": [
    "im_channels = [x for x in im_meta['Labels'] if x == 'DAPI-02' or not x.startswith(('DAPI-', 'Blank', 'Empty'))]"
   ]
  },
  {
   "cell_type": "code",
   "execution_count": 91,
   "id": "e075a092-3a56-4bf8-a5f5-3d63d90d3f16",
   "metadata": {},
   "outputs": [
    {
     "ename": "ValidationError",
     "evalue": "2 validation errors for Pixels\nsize_z\n  field required (type=value_error.missing)\nsize_t\n  field required (type=value_error.missing)",
     "output_type": "error",
     "traceback": [
      "\u001b[0;31m---------------------------------------------------------------------------\u001b[0m",
      "\u001b[0;31mValidationError\u001b[0m                           Traceback (most recent call last)",
      "Cell \u001b[0;32mIn[91], line 7\u001b[0m\n\u001b[1;32m      3\u001b[0m physical_size_x \u001b[38;5;241m=\u001b[39m \u001b[38;5;241m0.0003774\u001b[39m\n\u001b[1;32m      5\u001b[0m \u001b[38;5;66;03m# create metadata\u001b[39;00m\n\u001b[1;32m      6\u001b[0m \u001b[38;5;66;03m# TODO anything else?\u001b[39;00m\n\u001b[0;32m----> 7\u001b[0m pixels \u001b[38;5;241m=\u001b[39m \u001b[43mmodel\u001b[49m\u001b[38;5;241;43m.\u001b[39;49m\u001b[43mPixels\u001b[49m\u001b[43m(\u001b[49m\n\u001b[1;32m      8\u001b[0m \u001b[43m    \u001b[49m\u001b[43msize_c\u001b[49m\u001b[43m \u001b[49m\u001b[38;5;241;43m=\u001b[39;49m\u001b[43m \u001b[49m\u001b[43my_array\u001b[49m\u001b[38;5;241;43m.\u001b[39;49m\u001b[43mshape\u001b[49m\u001b[43m[\u001b[49m\u001b[38;5;241;43m0\u001b[39;49m\u001b[43m]\u001b[49m\u001b[43m,\u001b[49m\n\u001b[1;32m      9\u001b[0m \u001b[43m    \u001b[49m\u001b[43msize_x\u001b[49m\u001b[43m \u001b[49m\u001b[38;5;241;43m=\u001b[39;49m\u001b[43m \u001b[49m\u001b[43my_array\u001b[49m\u001b[38;5;241;43m.\u001b[39;49m\u001b[43mshape\u001b[49m\u001b[43m[\u001b[49m\u001b[38;5;241;43m2\u001b[39;49m\u001b[43m]\u001b[49m\u001b[43m,\u001b[49m\n\u001b[1;32m     10\u001b[0m \u001b[43m    \u001b[49m\u001b[43msize_y\u001b[49m\u001b[43m \u001b[49m\u001b[38;5;241;43m=\u001b[39;49m\u001b[43m \u001b[49m\u001b[43my_array\u001b[49m\u001b[38;5;241;43m.\u001b[39;49m\u001b[43mshape\u001b[49m\u001b[43m[\u001b[49m\u001b[38;5;241;43m1\u001b[39;49m\u001b[43m]\u001b[49m\u001b[43m,\u001b[49m\n\u001b[1;32m     11\u001b[0m \u001b[43m    \u001b[49m\u001b[43mphysical_size_x\u001b[49m\u001b[43m \u001b[49m\u001b[38;5;241;43m=\u001b[39;49m\u001b[43m \u001b[49m\u001b[43mphysical_size_x\u001b[49m\u001b[43m,\u001b[49m\n\u001b[1;32m     12\u001b[0m \u001b[43m    \u001b[49m\u001b[43mphysical_size_y\u001b[49m\u001b[43m \u001b[49m\u001b[38;5;241;43m=\u001b[39;49m\u001b[43m \u001b[49m\u001b[43mphysical_size_x\u001b[49m\u001b[43m,\u001b[49m\n\u001b[1;32m     13\u001b[0m \u001b[43m    \u001b[49m\u001b[43mphysical_size_x_unit\u001b[49m\u001b[43m \u001b[49m\u001b[38;5;241;43m=\u001b[39;49m\u001b[43m \u001b[49m\u001b[43mim_meta\u001b[49m\u001b[43m[\u001b[49m\u001b[38;5;124;43m'\u001b[39;49m\u001b[38;5;124;43munit\u001b[39;49m\u001b[38;5;124;43m'\u001b[39;49m\u001b[43m]\u001b[49m\u001b[43m,\u001b[49m\n\u001b[1;32m     14\u001b[0m \u001b[43m    \u001b[49m\u001b[43mphysical_size_y_unit\u001b[49m\u001b[43m \u001b[49m\u001b[38;5;241;43m=\u001b[39;49m\u001b[43m \u001b[49m\u001b[43mim_meta\u001b[49m\u001b[43m[\u001b[49m\u001b[38;5;124;43m'\u001b[39;49m\u001b[38;5;124;43munit\u001b[39;49m\u001b[38;5;124;43m'\u001b[39;49m\u001b[43m]\u001b[49m\u001b[43m,\u001b[49m\n\u001b[1;32m     15\u001b[0m \u001b[43m    \u001b[49m\u001b[38;5;28;43mtype\u001b[39;49m\u001b[43m \u001b[49m\u001b[38;5;241;43m=\u001b[39;49m\u001b[43m \u001b[49m\u001b[38;5;124;43m'\u001b[39;49m\u001b[38;5;124;43muint16\u001b[39;49m\u001b[38;5;124;43m'\u001b[39;49m\u001b[43m,\u001b[49m\n\u001b[1;32m     16\u001b[0m \u001b[43m    \u001b[49m\u001b[43mdimension_order\u001b[49m\u001b[43m \u001b[49m\u001b[38;5;241;43m=\u001b[39;49m\u001b[43m \u001b[49m\u001b[43mmodel\u001b[49m\u001b[38;5;241;43m.\u001b[39;49m\u001b[43mPixels_DimensionOrder\u001b[49m\u001b[38;5;241;43m.\u001b[39;49m\u001b[43mXYZCT\u001b[49m\u001b[43m,\u001b[49m\n\u001b[1;32m     17\u001b[0m \u001b[43m    \u001b[49m\u001b[43mmetadata_only\u001b[49m\u001b[43m \u001b[49m\u001b[38;5;241;43m=\u001b[39;49m\u001b[43m \u001b[49m\u001b[38;5;28;43;01mTrue\u001b[39;49;00m\n\u001b[1;32m     18\u001b[0m \u001b[43m)\u001b[49m\n\u001b[1;32m     20\u001b[0m \u001b[38;5;28;01mfor\u001b[39;00m x \u001b[38;5;129;01min\u001b[39;00m im_channels:\n\u001b[1;32m     21\u001b[0m     pixels\u001b[38;5;241m.\u001b[39mchannels\u001b[38;5;241m.\u001b[39mappend(model\u001b[38;5;241m.\u001b[39mChannel(name \u001b[38;5;241m=\u001b[39m x))\n",
      "File \u001b[0;32m~/Library/r-miniconda/envs/r-cecelia-env/lib/python3.9/site-packages/ome_types/_mixins/_base_type.py:117\u001b[0m, in \u001b[0;36mOMEType.__init__\u001b[0;34m(self, **data)\u001b[0m\n\u001b[1;32m    115\u001b[0m field_names \u001b[38;5;241m=\u001b[39m \u001b[38;5;28mset\u001b[39m(model_fields(\u001b[38;5;28mself\u001b[39m))\n\u001b[1;32m    116\u001b[0m _move_deprecated_fields(data, field_names)\n\u001b[0;32m--> 117\u001b[0m \u001b[38;5;28;43msuper\u001b[39;49m\u001b[43m(\u001b[49m\u001b[43m)\u001b[49m\u001b[38;5;241;43m.\u001b[39;49m\u001b[38;5;21;43m__init__\u001b[39;49m\u001b[43m(\u001b[49m\u001b[38;5;241;43m*\u001b[39;49m\u001b[38;5;241;43m*\u001b[39;49m\u001b[43mdata\u001b[49m\u001b[43m)\u001b[49m\n\u001b[1;32m    118\u001b[0m kwargs \u001b[38;5;241m=\u001b[39m \u001b[38;5;28mset\u001b[39m(data\u001b[38;5;241m.\u001b[39mkeys())\n\u001b[1;32m    119\u001b[0m extra \u001b[38;5;241m=\u001b[39m kwargs \u001b[38;5;241m-\u001b[39m field_names\n",
      "File \u001b[0;32m~/Library/r-miniconda/envs/r-cecelia-env/lib/python3.9/site-packages/pydantic/main.py:341\u001b[0m, in \u001b[0;36mpydantic.main.BaseModel.__init__\u001b[0;34m()\u001b[0m\n",
      "\u001b[0;31mValidationError\u001b[0m: 2 validation errors for Pixels\nsize_z\n  field required (type=value_error.missing)\nsize_t\n  field required (type=value_error.missing)"
     ]
    }
   ],
   "source": [
    "from ome_types import model\n",
    "\n",
    "physical_size_x = 0.0003774\n",
    "\n",
    "# create metadata\n",
    "# TODO anything else?\n",
    "pixels = model.Pixels(\n",
    "    size_c = y_array.shape[0],\n",
    "    size_x = y_array.shape[2],\n",
    "    size_y = y_array.shape[1],\n",
    "    size_t = 1,\n",
    "    size_z = 1,\n",
    "    physical_size_x = physical_size_x,\n",
    "    physical_size_y = physical_size_x,\n",
    "    physical_size_x_unit = im_meta['unit'],\n",
    "    physical_size_y_unit = im_meta['unit'],\n",
    "    type = 'uint16',\n",
    "    dimension_order = model.Pixels_DimensionOrder.XYZCT,\n",
    "    metadata_only = True\n",
    ")\n",
    "\n",
    "for x in im_channels:\n",
    "    pixels.channels.append(model.Channel(name = x))\n",
    "\n",
    "# add metadata\n",
    "im_metadata = model.OME(images=[model.Image(pixels=pixels)])\n",
    "\n",
    "ome_xml_utils.write_ome_xml(zarr_path, im_metadata)"
   ]
  },
  {
   "cell_type": "code",
   "execution_count": null,
   "id": "7f2b10c4-0344-4fb1-ada1-53acb683314f",
   "metadata": {},
   "outputs": [],
   "source": [
    "omexml = ome_xml_utils.parse_meta(im_path)\n",
    "dim_utils = DimUtils(omexml)\n",
    "dim_utils.calc_image_dimensions(x_array.shape)"
   ]
  },
  {
   "cell_type": "code",
   "execution_count": null,
   "id": "4a04f1c6",
   "metadata": {},
   "outputs": [],
   "source": [
    "base_dir = '/Volumes/USER_data/Dominik/CECELIA_BACKUP/Fu1zEC/ANALYSIS/'\n",
    "zero_dir = os.path.join(base_dir, '0/1I5oli/')\n",
    "im_path = os.path.join(zero_dir, 'ccidImage.ome.zarr')\n",
    "#im_path = os.path.join(zero_dir, 'ccidCpCorrected.zarr')\n",
    "version_num = 1\n",
    "task_dir = os.path.join(base_dir, str(version_num), '1I5oli')"
   ]
  },
  {
   "cell_type": "code",
   "execution_count": null,
   "id": "7c1f7536",
   "metadata": {},
   "outputs": [],
   "source": [
    "\n",
    "\n",
    "im, _ = zarr_utils.open_as_zarr(im_path, as_dask=True)\n",
    "im = im[0]"
   ]
  },
  {
   "cell_type": "code",
   "execution_count": null,
   "id": "13f93a62",
   "metadata": {
    "scrolled": true
   },
   "outputs": [],
   "source": [
    "import py.ome_xml_utils as ome_xml_utils\n",
    "from py.dim_utils import DimUtils\n",
    "\n",
    "# get OME-XML\n",
    "omexml = ome_xml_utils.parse_meta(im_path)\n",
    "\n",
    "# create dim utils for image\n",
    "dim_utils = DimUtils(omexml, use_channel_axis = True)\n",
    "dim_utils.calc_image_dimensions(im.shape)"
   ]
  },
  {
   "cell_type": "code",
   "execution_count": null,
   "id": "e003f2dc-b503-4e4e-ba40-bb38351a623a",
   "metadata": {},
   "outputs": [],
   "source": [
    "import py.correction_utils as correction_utils"
   ]
  },
  {
   "cell_type": "code",
   "execution_count": null,
   "id": "274dc853-d958-4a08-ae4b-c3d0bdee278f",
   "metadata": {},
   "outputs": [],
   "source": [
    "x_idx = dim_utils.dim_idx('X')\n",
    "y_idx = dim_utils.dim_idx('Y')\n",
    "c_idx = dim_utils.dim_idx('C')\n",
    "c_val = dim_utils.dim_val('C')"
   ]
  },
  {
   "cell_type": "code",
   "execution_count": null,
   "id": "b7cb31cf-5dcc-48e4-858a-ac73e603d137",
   "metadata": {
    "scrolled": true
   },
   "outputs": [],
   "source": [
    "slices = [slice(None) for _ in range(len(im.shape))]\n",
    "slices[x_idx] = slice(500, 1000, 1)\n",
    "slices[y_idx] = slice(2000, 2500, 1)\n",
    "\n",
    "a = correction_utils.af_correct_image(\n",
    "    im, {\n",
    "    #im[tuple(slices)], {\n",
    "        i: {\n",
    "            'divisionChannels': list(range(c_val)),\n",
    "            'summaryMode': 'percentile',\n",
    "            'correctionMode': 'divide',\n",
    "            'summaryPercentile': 75,\n",
    "            'channelPercentile': 0,\n",
    "            'correctionPercentile': 0,\n",
    "            'medianFilter': 0,\n",
    "            'generateInverse': False,\n",
    "            'correctionMin': 1,\n",
    "            'correctionMax': 99\n",
    "        } for i in range(c_val)\n",
    "    }, dim_utils = dim_utils, gaussian_sigma = 0\n",
    ")"
   ]
  },
  {
   "cell_type": "code",
   "execution_count": null,
   "id": "1a82e728-baa0-4860-98f6-186c0e7b435d",
   "metadata": {},
   "outputs": [],
   "source": [
    "from matplotlib import pyplot as plt\n",
    "\n",
    "plt.figure(figsize=(10,c_val * 5))\n",
    "percentile = 75\n",
    "\n",
    "im_slices = [slice(None) for _ in range(len(im.shape))]\n",
    "im_slices[x_idx] = slice(500, 1000, 1)\n",
    "im_slices[y_idx] = slice(2000, 2500, 1)\n",
    "\n",
    "for i, x in enumerate([12]):  \n",
    "    slices[c_idx] = x\n",
    "    im_slices[c_idx] = x\n",
    "    \n",
    "    plt.subplot(c_val,2,(i*2)+1)\n",
    "    plt.imshow(np.squeeze(im[tuple(slices)]), cmap='gray')\n",
    "    plt.title(i)\n",
    "    \n",
    "    plt.subplot(c_val,2,(i*2)+2)\n",
    "    plt.imshow(np.squeeze(a[tuple(im_slices)]), cmap='magma')\n",
    "    plt.title(f'DIFF {i}')"
   ]
  },
  {
   "cell_type": "code",
   "execution_count": null,
   "id": "36d2adb2-24f3-4299-adbf-80580cd069fd",
   "metadata": {},
   "outputs": [],
   "source": [
    "import napari\n",
    "\n",
    "viewer = napari.viewer.Viewer()"
   ]
  },
  {
   "cell_type": "code",
   "execution_count": null,
   "id": "58975439-5247-4650-8c1b-b8e62e162f87",
   "metadata": {},
   "outputs": [],
   "source": [
    "viewer.add_image(im, channel_axis=1, visible=False)"
   ]
  },
  {
   "cell_type": "code",
   "execution_count": null,
   "id": "0771d558-da5f-4493-9032-c5251edf1085",
   "metadata": {},
   "outputs": [],
   "source": [
    "import skimage.filters\n",
    "import skimage.morphology"
   ]
  },
  {
   "cell_type": "code",
   "execution_count": null,
   "id": "29e83978-2e01-41d4-aa48-f9e83204614a",
   "metadata": {},
   "outputs": [],
   "source": [
    "avg_slices = [slice(None) for _ in range(len(im.shape))]\n",
    "avg_slices[x_idx] = slice(500, 1000, 1)\n",
    "avg_slices[y_idx] = slice(2000, 2500, 1)"
   ]
  },
  {
   "cell_type": "code",
   "execution_count": null,
   "id": "37e70c7b-6ce7-41d6-a75d-49410afeba4b",
   "metadata": {},
   "outputs": [],
   "source": [
    "from matplotlib import pyplot as plt\n",
    "\n",
    "plt.figure(figsize=(10,c_val * 5))\n",
    "percentile = 75\n",
    "\n",
    "for i, x in enumerate(range(c_val)):  \n",
    "    slices[c_idx] = x\n",
    "    plt.subplot(c_val,2,(i*2)+1)\n",
    "    plt.imshow(np.squeeze(im[tuple(slices)]), cmap='gray')\n",
    "    plt.title(i)\n",
    "    \n",
    "    plt.subplot(c_val,2,(i*2)+2)\n",
    "    plt.imshow(np.squeeze(\n",
    "        (np.squeeze(im[tuple(slices)]) + 1) / (np.percentile(im[tuple(avg_slices)].compute(), percentile, axis = c_idx).astype(np.uint8) + 1)\n",
    "    ), cmap='magma')\n",
    "    plt.title(f'DIFF {i}')"
   ]
  },
  {
   "cell_type": "code",
   "execution_count": null,
   "id": "eadfb775-80ed-4e10-abe2-7f1ce5383ebc",
   "metadata": {},
   "outputs": [],
   "source": []
  },
  {
   "cell_type": "code",
   "execution_count": null,
   "id": "e55b3d25-318b-488a-8ad9-53a19b723dbc",
   "metadata": {},
   "outputs": [],
   "source": []
  }
 ],
 "metadata": {
  "kernelspec": {
   "display_name": "Python 3 (ipykernel)",
   "language": "python",
   "name": "python3"
  },
  "language_info": {
   "codemirror_mode": {
    "name": "ipython",
    "version": 3
   },
   "file_extension": ".py",
   "mimetype": "text/x-python",
   "name": "python",
   "nbconvert_exporter": "python",
   "pygments_lexer": "ipython3",
   "version": "3.9.18"
  }
 },
 "nbformat": 4,
 "nbformat_minor": 5
}
