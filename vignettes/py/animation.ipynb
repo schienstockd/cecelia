{
 "cells": [
  {
   "cell_type": "code",
   "execution_count": 1,
   "id": "a2fc902c",
   "metadata": {},
   "outputs": [],
   "source": [
    "import os\n",
    "import numpy as np\n",
    "# import working directory to check functions\n",
    "os.chdir('/Users/Dominik/R-workspace/cecelia/inst')\n",
    "\n",
    "# MacOS\n",
    "os.environ['KMP_DUPLICATE_LIB_OK'] = 'TRUE'\n",
    "\n",
    "# config\n",
    "import py.config_utils as cfg\n",
    "\n",
    "%load_ext autoreload\n",
    "%autoreload 2"
   ]
  },
  {
   "cell_type": "code",
   "execution_count": 2,
   "id": "8f75f4eb",
   "metadata": {},
   "outputs": [],
   "source": [
    "base_dir = '/Volumes/Analysis_SSD/Dominik/cecelia/projects/8BR53W/ANALYSIS/'\n",
    "zero_dir = os.path.join(base_dir, '0/yBPJeU/')\n",
    "#im_path = os.path.join(zero_dir, 'ccidImage.ome.zarr')\n",
    "im_path = os.path.join(zero_dir, 'ccidCorrected.zarr')\n",
    "#im_path = os.path.join(zero_dir, 'ccidSlidingWindow.zarr')\n",
    "version_num = 1\n",
    "task_dir = os.path.join(base_dir, str(version_num), 'yBPJeU')"
   ]
  },
  {
   "cell_type": "code",
   "execution_count": 3,
   "id": "68bceb7b",
   "metadata": {},
   "outputs": [
    {
     "name": "stderr",
     "output_type": "stream",
     "text": [
      "/Users/Dominik/R-workspace/cecelia/inst/py/shape_utils.py:6: FutureWarning: csv_to_layer_data was moved from napari.utils.io in v0.4.17. Import it from napari_builtins.io instead.\n",
      "  from napari.utils.io import csv_to_layer_data\n",
      "napari.manifest -> 'skan' could not be imported: Could not find file 'napari.yaml' in module 'skan'\n"
     ]
    }
   ],
   "source": [
    "from py.napari_utils import NapariUtils\n",
    "\n",
    "napari_utils = NapariUtils()\n",
    "napari_utils.open_viewer()\n",
    "napari_utils.task_dir = task_dir"
   ]
  },
  {
   "cell_type": "code",
   "execution_count": 4,
   "id": "75724ef2",
   "metadata": {},
   "outputs": [],
   "source": [
    "channel_names = [\n",
    "    'EB', 'T-A', 'T-B', 'AF', 'gen'\n",
    "    #'One'\n",
    "]"
   ]
  },
  {
   "cell_type": "code",
   "execution_count": 5,
   "id": "10e3e72e",
   "metadata": {},
   "outputs": [
    {
     "name": "stdout",
     "output_type": "stream",
     "text": [
      "[90, 4, 22, 520, 514]\n",
      "[514, 520, 22, 4, 90]\n",
      "['X', 'Y', 'Z', 'C', 'T']\n",
      "[90, 4, 22, 520, 514]\n"
     ]
    }
   ],
   "source": [
    "napari_utils.open_image(\n",
    "    im_path,\n",
    "    use_channel_axis = True, as_dask = True,\n",
    "    downsample_z = False, channel_names = channel_names,\n",
    "    show_3D = True, visible = [True, True, True, True, False],\n",
    "    channel_colormaps = ['gray', None, None, 'red', None]\n",
    ")"
   ]
  },
  {
   "cell_type": "code",
   "execution_count": 6,
   "id": "50e2f4f8",
   "metadata": {},
   "outputs": [],
   "source": [
    "value_name = 'OTI'"
   ]
  },
  {
   "cell_type": "code",
   "execution_count": null,
   "id": "710c4992",
   "metadata": {},
   "outputs": [],
   "source": [
    "prop_df = napari_utils.label_props_utils.label_props_view(value_name = value_name)\\\n",
    "    .exclude_centroid_cols()\\\n",
    "    .exclude_obs_cols(['label'])\\\n",
    "    .as_df()\\\n",
    "    .dropna(subset=['track_id'])\\\n",
    "    .replace(False, 0)\\\n",
    "    .replace(True, 1)"
   ]
  },
  {
   "cell_type": "code",
   "execution_count": null,
   "id": "3f8c9356",
   "metadata": {},
   "outputs": [],
   "source": [
    "prop_df"
   ]
  },
  {
   "cell_type": "code",
   "execution_count": null,
   "id": "ac0a4b5b",
   "metadata": {},
   "outputs": [],
   "source": [
    "i = 'live.cell.track.clusters.hmm_transitions_movement'"
   ]
  },
  {
   "cell_type": "code",
   "execution_count": null,
   "id": "7ca51ab2",
   "metadata": {},
   "outputs": [],
   "source": [
    "prop_df[i]"
   ]
  },
  {
   "cell_type": "code",
   "execution_count": null,
   "id": "8114a654",
   "metadata": {},
   "outputs": [],
   "source": [
    "import pandas as pd\n",
    "cat_columns = prop_df.select_dtypes(['category']).columns\n",
    "prop_df[cat_columns] = prop_df[cat_columns].apply(\n",
    "    lambda x: pd.to_numeric(x, errors = 'coerce'))"
   ]
  },
  {
   "cell_type": "code",
   "execution_count": null,
   "id": "06f0a8d0",
   "metadata": {},
   "outputs": [],
   "source": [
    "np.unique(prop_df[i].isin([2]).values)"
   ]
  },
  {
   "cell_type": "code",
   "execution_count": null,
   "id": "551d0220",
   "metadata": {},
   "outputs": [],
   "source": [
    "napari_utils.dim_utils.im_dim"
   ]
  },
  {
   "cell_type": "code",
   "execution_count": null,
   "id": "12c767f5",
   "metadata": {},
   "outputs": [],
   "source": [
    "napari_utils.viewer.window.resize(1300,1000)\n",
    "napari_utils.viewer.reset_view()"
   ]
  },
  {
   "cell_type": "code",
   "execution_count": 9,
   "id": "4181f11d",
   "metadata": {},
   "outputs": [
    {
     "name": "stdout",
     "output_type": "stream",
     "text": [
      "Index(['live.cell.hmm.transitions.movement',\n",
      "       'live.cell.track.clusters.hmm_transitions_movement',\n",
      "       'live.cell.track.clusters.hmm_movement'],\n",
      "      dtype='object')\n"
     ]
    },
    {
     "name": "stderr",
     "output_type": "stream",
     "text": [
      "/Users/Dominik/Library/r-miniconda/envs/r-cecelia-env/lib/python3.9/site-packages/napari/layers/tracks/tracks.py:623: UserWarning: Previous color_by key 'live.cell.track.clusters.hmm_transitions_movement' not present in features. Falling back to track_id\n",
      "  warn(\n",
      "/Users/Dominik/Library/r-miniconda/envs/r-cecelia-env/lib/python3.9/site-packages/napari/layers/tracks/tracks.py:623: UserWarning: Previous color_by key 'live.cell.track.clusters.hmm_transitions_movement' not present in features. Falling back to track_id\n",
      "  warn(\n",
      "/Users/Dominik/Library/r-miniconda/envs/r-cecelia-env/lib/python3.9/site-packages/napari/layers/tracks/tracks.py:623: UserWarning: Previous color_by key 'live.cell.track.clusters.hmm_transitions_movement' not present in features. Falling back to track_id\n",
      "  warn(\n"
     ]
    }
   ],
   "source": [
    "napari_utils.show_labels_all(\n",
    "    show_labels = False,\n",
    "    show_points = False,\n",
    "    show_tracks = True,\n",
    "    value_names = ['OTI'],\n",
    "    split_tracks = {\n",
    "        'live.cell.track.clusters.hmm_transitions_movement': {\n",
    "            'others': {'values': [0,1,3,4,6], 'colour': '#B3BCC2'},\n",
    "            'scanning': {'values': [5], 'colour': '#4682b4'},\n",
    "            'directed': {'values': [2], 'colour': '#AA1F5E'}\n",
    "        }\n",
    "    }\n",
    ")"
   ]
  },
  {
   "cell_type": "code",
   "execution_count": 8,
   "id": "4250f0d4",
   "metadata": {},
   "outputs": [
    {
     "name": "stdout",
     "output_type": "stream",
     "text": [
      "Index(['live.cell.hmm.transitions.movement',\n",
      "       'live.cell.track.clusters.hmm_transitions_movement',\n",
      "       'live.cell.track.clusters.hmm_movement'],\n",
      "      dtype='object')\n"
     ]
    }
   ],
   "source": [
    "napari_utils.show_labels_all(\n",
    "    show_labels = False,\n",
    "    show_points = False,\n",
    "    show_tracks = True,\n",
    "    value_names = ['OTI']\n",
    ")"
   ]
  },
  {
   "cell_type": "code",
   "execution_count": null,
   "id": "25c2901b",
   "metadata": {},
   "outputs": [],
   "source": [
    "# helper function to dispaly the animation in the notebook\n",
    "from IPython.display import Video, display\n",
    "\n",
    "\n",
    "def jupyter_napari_animation(animation, **kwargs):\n",
    "    from pathlib import Path\n",
    "    from datetime import datetime\n",
    "\n",
    "    dir = Path.cwd() / \"media\"\n",
    "    dir.mkdir(exist_ok=True)\n",
    "    timestamp = datetime.now().strftime(\"%Y-%m-%d@%H-%M-%S\")\n",
    "    mov_name = \"napari_video\" + \"@\" + timestamp + \".mp4\"\n",
    "    path = dir / mov_name\n",
    "    animation.animate(path, **kwargs)\n",
    "    vid = Video(path, width=600, html_attributes=f\"controls autoplay loop\")\n",
    "    display(vid)\n",
    "\n"
   ]
  },
  {
   "cell_type": "code",
   "execution_count": null,
   "id": "ad2eebeb",
   "metadata": {},
   "outputs": [],
   "source": [
    "from napari_animation import Animation\n",
    "from napari_animation.easing import Easing"
   ]
  },
  {
   "cell_type": "code",
   "execution_count": null,
   "id": "83051db9",
   "metadata": {},
   "outputs": [],
   "source": [
    "movies_path = '/Users/Dominik/Downloads/movies'"
   ]
  },
  {
   "cell_type": "code",
   "execution_count": null,
   "id": "3708fe3c",
   "metadata": {},
   "outputs": [],
   "source": [
    "animation = Animation(napari_utils.viewer)\n",
    "\n",
    "# first\n",
    "dim_array = np.zeros_like(napari_utils.dim_utils.dim_vals(ignore_channel = True))\n",
    "t_val = napari_utils.dim_utils.dim_val('T')\n",
    "\n",
    "napari_utils.viewer.dims.current_step = list(dim_array)\n",
    "animation.capture_keyframe(steps = 0)\n",
    "\n",
    "# last\n",
    "dim_array[napari_utils.dim_utils.dim_idx('T', ignore_channel = True)] = t_val - 1\n",
    "\n",
    "napari_utils.viewer.dims.current_step = list(dim_array)\n",
    "animation.capture_keyframe(steps = t_val - 2)\n",
    "\n",
    "animation.animate(movies_path, canvas_only = True, fps = 10)"
   ]
  },
  {
   "cell_type": "code",
   "execution_count": null,
   "id": "a4795aa6",
   "metadata": {},
   "outputs": [],
   "source": [
    "# show populations\n",
    "napari_utils.show_pop_mapping('live')"
   ]
  },
  {
   "cell_type": "code",
   "execution_count": null,
   "id": "9dc9ea21",
   "metadata": {},
   "outputs": [],
   "source": [
    "# save image as tiff\n",
    "import py.tiff_utils as tiff_utils\n",
    "\n",
    "tiff_utils.save_as_tiff(\n",
    "    '/Volumes/USER_data/Dominik/Experiments/TEAGEN_SKIN/DATA/PuJo5p.tif',\n",
    "    napari_utils.im_data[0], napari_utils.dim_utils, imagej = True)"
   ]
  },
  {
   "cell_type": "code",
   "execution_count": null,
   "id": "11d94ed5",
   "metadata": {},
   "outputs": [],
   "source": [
    "print('here')"
   ]
  },
  {
   "cell_type": "code",
   "execution_count": null,
   "id": "845275bb",
   "metadata": {},
   "outputs": [],
   "source": [
    "napari_utils.im_scale"
   ]
  },
  {
   "cell_type": "code",
   "execution_count": null,
   "id": "a1f26ae6",
   "metadata": {},
   "outputs": [],
   "source": [
    "from napari_animation import AnimationWidget\n",
    "animation_widget = AnimationWidget(napari_utils.viewer)\n",
    "napari_utils.viewer.window.add_dock_widget(animation_widget, area='right')"
   ]
  },
  {
   "cell_type": "code",
   "execution_count": null,
   "id": "a6ab6541",
   "metadata": {},
   "outputs": [],
   "source": [
    "pop_type = 'live'\n",
    "pop_map = napari_utils.pop_utils.pop_map(napari_utils.task_dir, pop_type)\n",
    "pop_data = napari_utils.pop_utils.pop_data(napari_utils.task_dir, pop_type)"
   ]
  },
  {
   "cell_type": "code",
   "execution_count": null,
   "id": "971a2e9f",
   "metadata": {},
   "outputs": [],
   "source": [
    "pop_info = pop_map['5iaWSo']"
   ]
  },
  {
   "cell_type": "code",
   "execution_count": null,
   "id": "56530832",
   "metadata": {},
   "outputs": [],
   "source": [
    "pop_info"
   ]
  },
  {
   "cell_type": "code",
   "execution_count": null,
   "id": "bbf3c9e9",
   "metadata": {},
   "outputs": [],
   "source": []
  }
 ],
 "metadata": {
  "kernelspec": {
   "display_name": "Python 3 (ipykernel)",
   "language": "python",
   "name": "python3"
  },
  "language_info": {
   "codemirror_mode": {
    "name": "ipython",
    "version": 3
   },
   "file_extension": ".py",
   "mimetype": "text/x-python",
   "name": "python",
   "nbconvert_exporter": "python",
   "pygments_lexer": "ipython3",
   "version": "3.9.16"
  }
 },
 "nbformat": 4,
 "nbformat_minor": 5
}
