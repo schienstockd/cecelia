{
 "cells": [
  {
   "cell_type": "code",
   "execution_count": 1,
   "id": "a2fc902c",
   "metadata": {},
   "outputs": [],
   "source": [
    "import os\n",
    "import numpy as np\n",
    "# import working directory to check functions\n",
    "os.chdir('/Users/Dominik/R-workspace/cecelia/inst')\n",
    "\n",
    "# MacOS\n",
    "os.environ['KMP_DUPLICATE_LIB_OK'] = 'TRUE'\n",
    "\n",
    "# config\n",
    "import py.config_utils as cfg\n",
    "\n",
    "%load_ext autoreload\n",
    "%autoreload 2"
   ]
  },
  {
   "cell_type": "code",
   "execution_count": 41,
   "id": "8f75f4eb",
   "metadata": {},
   "outputs": [],
   "source": [
    "base_dir = '/Volumes/USER_data/Dominik/CECELIA_BACKUP/Fu1zEC/ANALYSIS'\n",
    "zero_dir = os.path.join(base_dir, '0/dL6JBW/')\n",
    "im_path = os.path.join(zero_dir, 'ccidAfCorrected.zarr')\n",
    "version_num = 1\n",
    "task_dir = os.path.join(base_dir, str(version_num), 'dL6JBW')"
   ]
  },
  {
   "cell_type": "code",
   "execution_count": 3,
   "id": "9bb0c26e-0b83-4621-afb0-412bd85caed8",
   "metadata": {},
   "outputs": [],
   "source": [
    "from py.label_props_utils import LabelPropsUtils"
   ]
  },
  {
   "cell_type": "code",
   "execution_count": 42,
   "id": "f98bf481-2055-400e-8b78-2506d442b963",
   "metadata": {},
   "outputs": [],
   "source": [
    "value_name = 'default'"
   ]
  },
  {
   "cell_type": "code",
   "execution_count": 43,
   "id": "2ea3128f-852a-475c-942e-618a20834e33",
   "metadata": {},
   "outputs": [],
   "source": [
    "label_view = LabelPropsUtils(task_dir, value_name = value_name).label_props_view(read_only = False)"
   ]
  },
  {
   "cell_type": "code",
   "execution_count": 44,
   "id": "fe30fd3f-9cb1-49d5-8f2e-1e61175c23b9",
   "metadata": {},
   "outputs": [],
   "source": [
    "column_names = [\n",
    "    'mean_intensity_1', 'mean_intensity_2', 'mean_intensity_4', 'mean_intensity_5', 'mean_intensity_6', 'mean_intensity_7', 'mean_intensity_9', 'mean_intensity_10', 'mean_intensity_12', 'mean_intensity_14', 'mean_intensity_16', 'mean_intensity_17', 'mean_intensity_18', 'mean_intensity_19', 'mean_intensity_20', 'mean_intensity_22', 'mean_intensity_23', 'mean_intensity_24', 'mean_intensity_25', 'mean_intensity_26', 'mean_intensity_27', 'mean_intensity_28', 'mean_intensity_29', 'mean_intensity_30', 'mean_intensity_31', 'mean_intensity_37', 'mean_intensity_38', 'mean_intensity_40', 'mean_intensity_41', 'mean_intensity_43', 'mean_intensity_44', 'mean_intensity_45'\n",
    "]"
   ]
  },
  {
   "cell_type": "code",
   "execution_count": 45,
   "id": "678c5ef8-f2b1-4198-b384-f2bf6cd2960a",
   "metadata": {},
   "outputs": [
    {
     "data": {
      "text/plain": [
       "<py.label_props_view.LabelPropsView at 0x2383f53a0>"
      ]
     },
     "execution_count": 45,
     "metadata": {},
     "output_type": "execute_result"
    }
   ],
   "source": [
    "label_view\\\n",
    "    .view_cols(column_names)\\\n",
    "    .view_label_col()\\\n",
    "    .exclude_spatial_temporal()"
   ]
  },
  {
   "cell_type": "code",
   "execution_count": 46,
   "id": "12feeaee-0da0-4853-a3b1-918b02435181",
   "metadata": {},
   "outputs": [],
   "source": [
    "adata = label_view.adata\n",
    "label_view.close()"
   ]
  },
  {
   "cell_type": "code",
   "execution_count": 65,
   "id": "26c159a2-c97a-4dad-853b-786df7f4a1b7",
   "metadata": {},
   "outputs": [],
   "source": [
    "channel_map = {str(i): x for i, x in enumerate(['mean_intensity_1', 'mean_intensity_6', 'mean_intensity_12'])}"
   ]
  },
  {
   "cell_type": "code",
   "execution_count": 66,
   "id": "eedd2114-2b75-442a-bb51-83a60cbe7236",
   "metadata": {},
   "outputs": [],
   "source": [
    "channel_map_inv = {x: i for i, x in channel_map.items()}"
   ]
  },
  {
   "cell_type": "code",
   "execution_count": 67,
   "id": "2c03e693-776e-4340-a3dd-3a1661cdc5ea",
   "metadata": {},
   "outputs": [],
   "source": [
    "adata.var_names = [channel_map_inv[x] if x in channel_map_inv.keys() else x for x in adata.var_names]"
   ]
  },
  {
   "cell_type": "code",
   "execution_count": 68,
   "id": "4c8fc29b-b019-4b25-99e6-12fdd1f1530d",
   "metadata": {},
   "outputs": [
    {
     "data": {
      "text/plain": [
       "Index([                  0,  'mean_intensity_2',  'mean_intensity_4',\n",
       "        'mean_intensity_5',                   1,  'mean_intensity_7',\n",
       "        'mean_intensity_9', 'mean_intensity_10',                   2,\n",
       "       'mean_intensity_14', 'mean_intensity_16', 'mean_intensity_17',\n",
       "       'mean_intensity_18', 'mean_intensity_19', 'mean_intensity_20',\n",
       "       'mean_intensity_22', 'mean_intensity_23', 'mean_intensity_24',\n",
       "       'mean_intensity_25', 'mean_intensity_26', 'mean_intensity_27',\n",
       "       'mean_intensity_28', 'mean_intensity_29', 'mean_intensity_30',\n",
       "       'mean_intensity_31', 'mean_intensity_37', 'mean_intensity_38',\n",
       "       'mean_intensity_40', 'mean_intensity_41', 'mean_intensity_43',\n",
       "       'mean_intensity_44', 'mean_intensity_45'],\n",
       "      dtype='object')"
      ]
     },
     "execution_count": 68,
     "metadata": {},
     "output_type": "execute_result"
    }
   ],
   "source": [
    "adata.var_names"
   ]
  },
  {
   "cell_type": "code",
   "execution_count": 18,
   "id": "96788271",
   "metadata": {},
   "outputs": [],
   "source": [
    "from py.napari_utils import NapariUtils\n",
    "\n",
    "napari_utils = NapariUtils()\n",
    "napari_utils.viewer = None\n",
    "napari_utils.open_viewer()\n",
    "napari_utils.task_dir = task_dir"
   ]
  },
  {
   "cell_type": "code",
   "execution_count": 4,
   "id": "75724ef2",
   "metadata": {},
   "outputs": [],
   "source": [
    "channel_names = [\n",
    "    'CD11b-BV421', 'B220-PB', 'XCR1-Venus', 'CD11c-PE', 'LCMV-AF594', 'P14-CTDR', 'CD3e-AF700', 'AF'\n",
    "]"
   ]
  },
  {
   "cell_type": "code",
   "execution_count": 5,
   "id": "10e3e72e",
   "metadata": {
    "scrolled": true
   },
   "outputs": [
    {
     "name": "stdout",
     "output_type": "stream",
     "text": [
      "<zarr.hierarchy.Group '/' read-only>\n",
      "[1, 4, 1, 6944, 9536]\n",
      "[9536, 6944, 1, 4, 1]\n",
      "['X', 'Y', 'Z', 'C', 'T']\n",
      "[1, 4, 1, 6944, 9536]\n"
     ]
    }
   ],
   "source": [
    "napari_utils.open_image(\n",
    "    im_path, \n",
    "    use_channel_axis = True, as_dask = True,\n",
    "    visible = True\n",
    ")"
   ]
  },
  {
   "cell_type": "code",
   "execution_count": 21,
   "id": "eff96f05-0220-4522-8b96-5be13299b85e",
   "metadata": {},
   "outputs": [],
   "source": [
    "# show populations\n",
    "napari_utils.show_pop_mapping('flow', value_name = 'default', points_size=50)"
   ]
  },
  {
   "cell_type": "code",
   "execution_count": 10,
   "id": "5dc5c200",
   "metadata": {},
   "outputs": [
    {
     "data": {
      "text/plain": [
       "0"
      ]
     },
     "execution_count": 10,
     "metadata": {},
     "output_type": "execute_result"
    }
   ],
   "source": [
    "# napari_utils.dim_utils.dim_idx('Z', ignore_channel = True, drop_time = True, default_order = False)"
   ]
  },
  {
   "cell_type": "code",
   "execution_count": null,
   "id": "4afd7f17",
   "metadata": {},
   "outputs": [],
   "source": [
    "napari_utils.dim_utils.dim_idx('Z', ignore_channel = False, ignore_time = True)"
   ]
  },
  {
   "cell_type": "code",
   "execution_count": null,
   "id": "e8a536ab",
   "metadata": {},
   "outputs": [],
   "source": [
    "for x in [x.lower() for x in napari_utils.dim_utils.spatial_axis()]:\n",
    "    dim_idx = napari_utils.dim_utils.dim_idx(x, ignore_channel = True, ignore_time = True, drop_z = True)\n",
    "    \n",
    "    print(f'{x} {dim_idx}')"
   ]
  },
  {
   "cell_type": "code",
   "execution_count": null,
   "id": "f35a02c0",
   "metadata": {},
   "outputs": [],
   "source": [
    "dim_idx"
   ]
  },
  {
   "cell_type": "code",
   "execution_count": null,
   "id": "f0a6b447",
   "metadata": {},
   "outputs": [],
   "source": [
    "napari_utils.im_scale"
   ]
  },
  {
   "cell_type": "code",
   "execution_count": null,
   "id": "4181f11d",
   "metadata": {},
   "outputs": [],
   "source": [
    "napari_utils.show_labels_all(\n",
    "    show_labels = False,\n",
    "    show_points = True,\n",
    "    value_names = ['default']\n",
    ")"
   ]
  },
  {
   "cell_type": "code",
   "execution_count": null,
   "id": "0c50bebf",
   "metadata": {},
   "outputs": [],
   "source": [
    "napari_utils.viewer_output_file = r''"
   ]
  },
  {
   "cell_type": "code",
   "execution_count": null,
   "id": "ad325b7f",
   "metadata": {},
   "outputs": [],
   "source": [
    "napari_utils.create_gate_populations_module()"
   ]
  },
  {
   "cell_type": "code",
   "execution_count": null,
   "id": "a4795aa6",
   "metadata": {},
   "outputs": [],
   "source": [
    "# show populations\n",
    "napari_utils.show_pop_mapping('flow', value_name = 'default', points_size=15)"
   ]
  },
  {
   "cell_type": "code",
   "execution_count": null,
   "id": "e161f7e9",
   "metadata": {},
   "outputs": [],
   "source": [
    "# show neighbours\n",
    "napari_utils.show_cell_neighbours(pop_type = 'flow', value_name = 'default')"
   ]
  },
  {
   "cell_type": "code",
   "execution_count": null,
   "id": "5f8dfa59",
   "metadata": {},
   "outputs": [],
   "source": []
  }
 ],
 "metadata": {
  "kernelspec": {
   "display_name": "Python 3 (ipykernel)",
   "language": "python",
   "name": "python3"
  },
  "language_info": {
   "codemirror_mode": {
    "name": "ipython",
    "version": 3
   },
   "file_extension": ".py",
   "mimetype": "text/x-python",
   "name": "python",
   "nbconvert_exporter": "python",
   "pygments_lexer": "ipython3",
   "version": "3.9.18"
  }
 },
 "nbformat": 4,
 "nbformat_minor": 5
}
