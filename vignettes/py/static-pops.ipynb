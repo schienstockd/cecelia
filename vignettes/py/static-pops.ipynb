{
 "cells": [
  {
   "cell_type": "code",
   "execution_count": 1,
   "id": "a2fc902c",
   "metadata": {
    "tags": []
   },
   "outputs": [],
   "source": [
    "import os\n",
    "import numpy as np\n",
    "# import working directory to check functions\n",
    "os.chdir('/Users/Dominik/R-workspace/cecelia/inst')\n",
    "\n",
    "# MacOS\n",
    "os.environ['KMP_DUPLICATE_LIB_OK'] = 'TRUE'\n",
    "\n",
    "# config\n",
    "import py.config_utils as cfg\n",
    "\n",
    "%load_ext autoreload\n",
    "%autoreload 2"
   ]
  },
  {
   "cell_type": "code",
   "execution_count": 2,
   "id": "8f75f4eb",
   "metadata": {
    "tags": []
   },
   "outputs": [],
   "source": [
    "#base_dir = '/Volumes/USER_data/Dominik/CECELIA_BACKUP/aQj3uy/ANALYSIS'\n",
    "base_dir = '/Volumes/Analysis_SSD/Dominik/cecelia/projects/aQj3uy/ANALYSIS'\n",
    "zero_dir = os.path.join(base_dir, '0/lXEUZX/')\n",
    "im_path = os.path.join(zero_dir, 'ccidImage.ome.zarr')\n",
    "version_num = 1\n",
    "task_dir = os.path.join(base_dir, str(version_num), 'lXEUZX')"
   ]
  },
  {
   "cell_type": "code",
   "execution_count": 3,
   "id": "96788271",
   "metadata": {
    "tags": []
   },
   "outputs": [],
   "source": [
    "from py.napari_utils import NapariUtils\n",
    "\n",
    "napari_utils = NapariUtils()\n",
    "napari_utils.viewer = None\n",
    "napari_utils.open_viewer()\n",
    "napari_utils.task_dir = task_dir"
   ]
  },
  {
   "cell_type": "code",
   "execution_count": 4,
   "id": "75724ef2",
   "metadata": {
    "tags": []
   },
   "outputs": [],
   "source": [
    "channel_names = [\n",
    "    'CD11b-BV421', 'B220-PB', 'XCR1-Venus', 'CD11c-PE', 'LCMV-AF594', 'P14-CTDR', 'CD3e-AF700', 'AF'\n",
    "]"
   ]
  },
  {
   "cell_type": "code",
   "execution_count": 7,
   "id": "10e3e72e",
   "metadata": {
    "scrolled": true,
    "tags": []
   },
   "outputs": [
    {
     "name": "stdout",
     "output_type": "stream",
     "text": [
      "[101, 8, 512, 512]\n",
      "[512, 512, 8, 101]\n",
      "['X', 'Y', 'C', 'Z']\n",
      "[101, 8, 512, 512]\n",
      "> Image scale [4.0, 1.013, 1.013]\n"
     ]
    }
   ],
   "source": [
    "zero_dir = os.path.join(base_dir, '0/0U2nZ6/') # 2P\n",
    "zero_dir = os.path.join(base_dir, '0/lXEUZX/') # 3P\n",
    "im_path = os.path.join(zero_dir, 'ccidImage.ome.zarr')\n",
    "\n",
    "napari_utils.open_image(\n",
    "    im_path, \n",
    "    use_channel_axis = True, as_dask = True,\n",
    "    visible = False\n",
    ")"
   ]
  },
  {
   "cell_type": "code",
   "execution_count": 6,
   "id": "bf68081f-6755-488d-8c61-8769d2640ab2",
   "metadata": {
    "tags": []
   },
   "outputs": [
    {
     "data": {
      "text/plain": [
       "[0.25, 1.4792899408284024, 1.4792899408284024]"
      ]
     },
     "execution_count": 6,
     "metadata": {},
     "output_type": "execute_result"
    }
   ],
   "source": [
    "[1/x for x in [4.0, 0.676, 0.676]]"
   ]
  },
  {
   "cell_type": "code",
   "execution_count": null,
   "id": "eff96f05-0220-4522-8b96-5be13299b85e",
   "metadata": {
    "tags": []
   },
   "outputs": [],
   "source": [
    "# show populations\n",
    "napari_utils.show_pop_mapping('branch', value_name = 'LCMV.branch', points_size=50)"
   ]
  },
  {
   "cell_type": "code",
   "execution_count": null,
   "id": "5dc5c200",
   "metadata": {},
   "outputs": [],
   "source": [
    "# napari_utils.dim_utils.dim_idx('Z', ignore_channel = True, drop_time = True, default_order = False)"
   ]
  },
  {
   "cell_type": "code",
   "execution_count": null,
   "id": "4afd7f17",
   "metadata": {},
   "outputs": [],
   "source": [
    "napari_utils.dim_utils.dim_idx('Z', ignore_channel = False, ignore_time = True)"
   ]
  },
  {
   "cell_type": "code",
   "execution_count": null,
   "id": "e8a536ab",
   "metadata": {},
   "outputs": [],
   "source": [
    "for x in [x.lower() for x in napari_utils.dim_utils.spatial_axis()]:\n",
    "    dim_idx = napari_utils.dim_utils.dim_idx(x, ignore_channel = True, ignore_time = True, drop_z = True)\n",
    "    \n",
    "    print(f'{x} {dim_idx}')"
   ]
  },
  {
   "cell_type": "code",
   "execution_count": null,
   "id": "f35a02c0",
   "metadata": {},
   "outputs": [],
   "source": [
    "dim_idx"
   ]
  },
  {
   "cell_type": "code",
   "execution_count": null,
   "id": "f0a6b447",
   "metadata": {},
   "outputs": [],
   "source": [
    "napari_utils.im_scale"
   ]
  },
  {
   "cell_type": "code",
   "execution_count": null,
   "id": "4181f11d",
   "metadata": {},
   "outputs": [],
   "source": [
    "napari_utils.show_labels_all(\n",
    "    show_labels = False,\n",
    "    show_points = True,\n",
    "    value_names = ['default']\n",
    ")"
   ]
  },
  {
   "cell_type": "code",
   "execution_count": null,
   "id": "0c50bebf",
   "metadata": {},
   "outputs": [],
   "source": [
    "napari_utils.viewer_output_file = r''"
   ]
  },
  {
   "cell_type": "code",
   "execution_count": null,
   "id": "ad325b7f",
   "metadata": {},
   "outputs": [],
   "source": [
    "napari_utils.create_gate_populations_module()"
   ]
  },
  {
   "cell_type": "code",
   "execution_count": null,
   "id": "a4795aa6",
   "metadata": {},
   "outputs": [],
   "source": [
    "# show populations\n",
    "napari_utils.show_pop_mapping('flow', value_name = 'default', points_size=15)"
   ]
  },
  {
   "cell_type": "code",
   "execution_count": null,
   "id": "e161f7e9",
   "metadata": {},
   "outputs": [],
   "source": [
    "# show neighbours\n",
    "napari_utils.show_cell_neighbours(pop_type = 'flow', value_name = 'default')"
   ]
  },
  {
   "cell_type": "code",
   "execution_count": null,
   "id": "5f8dfa59",
   "metadata": {},
   "outputs": [],
   "source": []
  }
 ],
 "metadata": {
  "kernelspec": {
   "display_name": "Python 3 (ipykernel)",
   "language": "python",
   "name": "python3"
  },
  "language_info": {
   "codemirror_mode": {
    "name": "ipython",
    "version": 3
   },
   "file_extension": ".py",
   "mimetype": "text/x-python",
   "name": "python",
   "nbconvert_exporter": "python",
   "pygments_lexer": "ipython3",
   "version": "3.9.18"
  }
 },
 "nbformat": 4,
 "nbformat_minor": 5
}
