{
 "cells": [
  {
   "cell_type": "code",
   "execution_count": 1,
   "id": "a2fc902c",
   "metadata": {},
   "outputs": [],
   "source": [
    "import os\n",
    "import numpy as np\n",
    "# import working directory to check functions\n",
    "os.chdir('/Users/Dominik/R-workspace/cecelia/inst')\n",
    "\n",
    "# MacOS\n",
    "os.environ['KMP_DUPLICATE_LIB_OK'] = 'TRUE'\n",
    "\n",
    "# config\n",
    "import py.config_utils as cfg\n",
    "\n",
    "%load_ext autoreload\n",
    "%autoreload 2"
   ]
  },
  {
   "cell_type": "code",
   "execution_count": 2,
   "id": "8f75f4eb",
   "metadata": {},
   "outputs": [],
   "source": [
    "base_dir = '/Volumes/USER_data/Dominik/CECELIA_BACKUP/xfNbld/ANALYSIS'\n",
    "zero_dir = os.path.join(base_dir, '0/yzSuoF/')\n",
    "im_path = os.path.join(zero_dir, 'ccidAfCorrected.zarr')\n",
    "version_num = 1\n",
    "task_dir = os.path.join(base_dir, str(version_num), 'yzSuoF')"
   ]
  },
  {
   "cell_type": "code",
   "execution_count": 3,
   "id": "96788271",
   "metadata": {},
   "outputs": [],
   "source": [
    "from py.napari_utils import NapariUtils\n",
    "\n",
    "napari_utils = NapariUtils()\n",
    "napari_utils.viewer = None\n",
    "napari_utils.open_viewer()\n",
    "napari_utils.task_dir = task_dir"
   ]
  },
  {
   "cell_type": "code",
   "execution_count": 4,
   "id": "75724ef2",
   "metadata": {},
   "outputs": [],
   "source": [
    "channel_names = [\n",
    "    'CD11b-BV421', 'B220-PB', 'XCR1-Venus', 'CD11c-PE', 'LCMV-AF594', 'P14-CTDR', 'CD3e-AF700', 'AF'\n",
    "]"
   ]
  },
  {
   "cell_type": "code",
   "execution_count": 5,
   "id": "10e3e72e",
   "metadata": {
    "scrolled": true
   },
   "outputs": [
    {
     "name": "stdout",
     "output_type": "stream",
     "text": [
      "<zarr.hierarchy.Group '/' read-only>\n",
      "[1, 4, 1, 6944, 9536]\n",
      "[9536, 6944, 1, 4, 1]\n",
      "['X', 'Y', 'Z', 'C', 'T']\n",
      "[1, 4, 1, 6944, 9536]\n"
     ]
    }
   ],
   "source": [
    "napari_utils.open_image(\n",
    "    im_path, \n",
    "    use_channel_axis = True, as_dask = True,\n",
    "    visible = True\n",
    ")"
   ]
  },
  {
   "cell_type": "code",
   "execution_count": null,
   "id": "eff96f05-0220-4522-8b96-5be13299b85e",
   "metadata": {},
   "outputs": [
    {
     "name": "stdout",
     "output_type": "stream",
     "text": [
      ">> {'default': [42, 46, 53, 72, 83, 86, 87, 93, 94, 95, 100, 112, 113, 116, 117, 122, 125, 126, 135, 136, 140, 142, 148, 154, 156, 163, 172, 187, 188, 203, 206, 212, 215, 216, 217, 218, 219, 220, 221, 224, 225, 230, 232, 234, 238, 239, 245, 257, 268, 281, 326, 331, 333, 336, 338, 343, 360, 369, 371, 411, 412, 418, 429, 435, 445, 447, 449, 452, 459, 489, 490, 502, 506, 507, 509, 513, 522, 539, 542, 545, 546, 556, 573, 614, 618, 621, 622, 624, 626, 628, 630, 633, 634, 637, 647, 653, 654, 657, 664, 674, 701, 716, 724, 730, 732, 733, 741, 743, 744, 745, 749, 751, 753, 787, 802, 803, 820, 838, 839, 846, 847, 850, 880, 895, 905, 922, 923, 924, 927, 928, 932, 937, 946, 950, 960, 965, 966, 984, 997, 1012, 1020, 1025, 1027, 1028, 1029, 1031, 1032, 1033, 1035, 1042, 1046, 1090, 1105, 1106, 1135, 1144, 1150, 1154, 1157, 1162, 1178, 1183, 1184, 1185, 1192, 1193, 1203, 1206, 1215, 1217, 1219, 1226, 1227, 1235, 1243, 1246, 1252, 1254, 1258, 1265, 1267, 1270, 1277, 1281, 1286, 1289, 1290, 1291, 1300, 1303, 1320, 1321, 1325, 1326, 1327, 1328, 1331, 1350, 1351, 1356, 1361, 1363, 1366, 1385, 1386, 1390, 1400, 1402, 1408, 1409, 1418, 1421, 1432, 1441, 1473, 1479, 1481, 1482, 1492, 1494, 1496, 1498, 1499, 1514, 1569, 1574, 1577, 1578, 1581, 1583, 1586, 1589, 1592, 1594, 1597, 1602, 1605, 1616, 1636, 1637, 1638, 1641, 1652, 1656, 1666, 1672, 1685, 1705, 1714, 1739, 1773, 1781, 1783, 1797, 1830, 1835, 1850, 1851, 1852, 1857, 1863, 1871, 1917, 1923, 1924, 1927, 1929, 1930, 1936, 1937, 1945, 1982, 1983, 1987, 1989, 1993, 1995, 1998, 2001, 2003, 2008, 2010, 2016, 2024, 2034, 2055, 2061, 2068, 2094, 2100, 2106, 2112, 2116, 2124, 2126, 2127, 2129, 2130, 2132, 2134, 2136, 2141, 2142, 2145, 2146, 2147, 2148, 2149, 2150, 2151, 2171, 2174, 2184, 2190, 2201, 2213, 2224, 2247, 2263, 2271, 2280, 2282, 2288, 2309, 2310, 2317, 2321, 2323, 2343, 2379, 2381, 2383, 2388, 2390, 2410, 2414, 2455, 2501, 2503, 2505, 2516, 2524, 2526, 2539, 2564, 2629, 2645, 2649, 2650, 2651, 2652, 2661, 2666, 2668, 2669, 2670, 2672, 2676, 2679, 2680, 2681, 2682, 2683, 2686, 2690, 2700, 2703, 2772, 2779, 2788, 2806, 2808, 2809, 2816, 2819, 2822, 2823, 2824, 2825, 2830, 2833, 2836, 2838, 2839, 2841, 2845, 2853, 2855, 2856, 2863, 2869, 2870, 2872, 2874, 2875, 2879, 2883, 2884, 2885, 2888, 2891, 2895, 2906, 2907, 2908]}\n"
     ]
    }
   ],
   "source": [
    "# show populations\n",
    "napari_utils.show_pop_mapping('flow', value_name = 'default', points_size=50)"
   ]
  },
  {
   "cell_type": "code",
   "execution_count": 10,
   "id": "5dc5c200",
   "metadata": {},
   "outputs": [
    {
     "data": {
      "text/plain": [
       "0"
      ]
     },
     "execution_count": 10,
     "metadata": {},
     "output_type": "execute_result"
    }
   ],
   "source": [
    "# napari_utils.dim_utils.dim_idx('Z', ignore_channel = True, drop_time = True, default_order = False)"
   ]
  },
  {
   "cell_type": "code",
   "execution_count": null,
   "id": "4afd7f17",
   "metadata": {},
   "outputs": [],
   "source": [
    "napari_utils.dim_utils.dim_idx('Z', ignore_channel = False, ignore_time = True)"
   ]
  },
  {
   "cell_type": "code",
   "execution_count": null,
   "id": "e8a536ab",
   "metadata": {},
   "outputs": [],
   "source": [
    "for x in [x.lower() for x in napari_utils.dim_utils.spatial_axis()]:\n",
    "    dim_idx = napari_utils.dim_utils.dim_idx(x, ignore_channel = True, ignore_time = True, drop_z = True)\n",
    "    \n",
    "    print(f'{x} {dim_idx}')"
   ]
  },
  {
   "cell_type": "code",
   "execution_count": null,
   "id": "f35a02c0",
   "metadata": {},
   "outputs": [],
   "source": [
    "dim_idx"
   ]
  },
  {
   "cell_type": "code",
   "execution_count": null,
   "id": "f0a6b447",
   "metadata": {},
   "outputs": [],
   "source": [
    "napari_utils.im_scale"
   ]
  },
  {
   "cell_type": "code",
   "execution_count": null,
   "id": "4181f11d",
   "metadata": {},
   "outputs": [],
   "source": [
    "napari_utils.show_labels_all(\n",
    "    show_labels = False,\n",
    "    show_points = True,\n",
    "    value_names = ['default']\n",
    ")"
   ]
  },
  {
   "cell_type": "code",
   "execution_count": null,
   "id": "0c50bebf",
   "metadata": {},
   "outputs": [],
   "source": [
    "napari_utils.viewer_output_file = r''"
   ]
  },
  {
   "cell_type": "code",
   "execution_count": null,
   "id": "ad325b7f",
   "metadata": {},
   "outputs": [],
   "source": [
    "napari_utils.create_gate_populations_module()"
   ]
  },
  {
   "cell_type": "code",
   "execution_count": null,
   "id": "a4795aa6",
   "metadata": {},
   "outputs": [],
   "source": [
    "# show populations\n",
    "napari_utils.show_pop_mapping('flow', value_name = 'default', points_size=15)"
   ]
  },
  {
   "cell_type": "code",
   "execution_count": null,
   "id": "e161f7e9",
   "metadata": {},
   "outputs": [],
   "source": [
    "# show neighbours\n",
    "napari_utils.show_cell_neighbours(pop_type = 'flow', value_name = 'default')"
   ]
  },
  {
   "cell_type": "code",
   "execution_count": null,
   "id": "5f8dfa59",
   "metadata": {},
   "outputs": [],
   "source": []
  }
 ],
 "metadata": {
  "kernelspec": {
   "display_name": "Python 3 (ipykernel)",
   "language": "python",
   "name": "python3"
  },
  "language_info": {
   "codemirror_mode": {
    "name": "ipython",
    "version": 3
   },
   "file_extension": ".py",
   "mimetype": "text/x-python",
   "name": "python",
   "nbconvert_exporter": "python",
   "pygments_lexer": "ipython3",
   "version": "3.9.18"
  }
 },
 "nbformat": 4,
 "nbformat_minor": 5
}
