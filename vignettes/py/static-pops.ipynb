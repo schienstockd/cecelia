{
 "cells": [
  {
   "cell_type": "code",
   "execution_count": 1,
   "id": "a2fc902c",
   "metadata": {},
   "outputs": [],
   "source": [
    "import os\n",
    "import numpy as np\n",
    "# import working directory to check functions\n",
    "os.chdir('/Users/Dominik/R-workspace/cecelia/inst')\n",
    "\n",
    "# MacOS\n",
    "os.environ['KMP_DUPLICATE_LIB_OK'] = 'TRUE'\n",
    "\n",
    "# config\n",
    "import py.config_utils as cfg\n",
    "\n",
    "%load_ext autoreload\n",
    "%autoreload 2"
   ]
  },
  {
   "cell_type": "code",
   "execution_count": 6,
   "id": "8f75f4eb",
   "metadata": {},
   "outputs": [],
   "source": [
    "base_dir = '/Volumes/Analysis_SSD/Dominik/cecelia/projects/4DZwIe/ANALYSIS/'\n",
    "zero_dir = os.path.join(base_dir, '0/xHQxxI/')\n",
    "im_path = os.path.join(zero_dir, 'ccidImage.ome.zarr')\n",
    "version_num = 1\n",
    "task_dir = os.path.join(base_dir, str(version_num), 'xHQxxI')"
   ]
  },
  {
   "cell_type": "code",
   "execution_count": 7,
   "id": "96788271",
   "metadata": {},
   "outputs": [],
   "source": [
    "from py.napari_utils import NapariUtils\n",
    "\n",
    "napari_utils = NapariUtils()\n",
    "napari_utils.viewer = None\n",
    "napari_utils.open_viewer()\n",
    "napari_utils.task_dir = task_dir"
   ]
  },
  {
   "cell_type": "code",
   "execution_count": 8,
   "id": "75724ef2",
   "metadata": {},
   "outputs": [],
   "source": [
    "channel_names = [\n",
    "    'CD11b-BV421', 'B220-PB', 'XCR1-Venus', 'CD11c-PE', 'LCMV-AF594', 'P14-CTDR', 'CD3e-AF700', 'AF'\n",
    "]"
   ]
  },
  {
   "cell_type": "code",
   "execution_count": 9,
   "id": "10e3e72e",
   "metadata": {},
   "outputs": [
    {
     "name": "stdout",
     "output_type": "stream",
     "text": [
      "<zarr.hierarchy.Group '/0' read-only>\n",
      "[1, 4, 12, 4677, 6061]\n",
      "[6061, 4677, 12, 4, 1]\n",
      "['X', 'Y', 'Z', 'C', 'T']\n",
      "[1, 4, 12, 4677, 6061]\n"
     ]
    }
   ],
   "source": [
    "napari_utils.open_image(\n",
    "    im_path, \n",
    "    use_channel_axis = True, as_dask = True,\n",
    "    visible = True\n",
    ")"
   ]
  },
  {
   "cell_type": "code",
   "execution_count": 10,
   "id": "4181f11d",
   "metadata": {},
   "outputs": [],
   "source": [
    "napari_utils.show_labels_all(\n",
    "    show_labels = False,\n",
    "    show_points = True,\n",
    "    value_names = ['default']\n",
    ")"
   ]
  },
  {
   "cell_type": "code",
   "execution_count": null,
   "id": "0c50bebf",
   "metadata": {},
   "outputs": [],
   "source": [
    "napari_utils.viewer_output_file = r''"
   ]
  },
  {
   "cell_type": "code",
   "execution_count": 11,
   "id": "ad325b7f",
   "metadata": {},
   "outputs": [
    {
     "name": "stderr",
     "output_type": "stream",
     "text": [
      "Traceback (most recent call last):\n",
      "  File \"/Users/Dominik/Library/r-miniconda/envs/r-cecelia-env/lib/python3.9/site-packages/vispy/app/backends/_qt.py\", line 561, in keyPressEvent\n",
      "    self._keyEvent(self._vispy_canvas.events.key_press, ev)\n",
      "  File \"/Users/Dominik/Library/r-miniconda/envs/r-cecelia-env/lib/python3.9/site-packages/vispy/app/backends/_qt.py\", line 622, in _keyEvent\n",
      "    func(native=ev, key=key, text=str(ev.text()), modifiers=mod)\n",
      "  File \"/Users/Dominik/Library/r-miniconda/envs/r-cecelia-env/lib/python3.9/site-packages/vispy/util/event.py\", line 453, in __call__\n",
      "    self._invoke_callback(cb, event)\n",
      "  File \"/Users/Dominik/Library/r-miniconda/envs/r-cecelia-env/lib/python3.9/site-packages/vispy/util/event.py\", line 471, in _invoke_callback\n",
      "    _handle_exception(self.ignore_callback_errors,\n",
      "  File \"/Users/Dominik/Library/r-miniconda/envs/r-cecelia-env/lib/python3.9/site-packages/vispy/util/event.py\", line 469, in _invoke_callback\n",
      "    cb(event)\n",
      "  File \"/Users/Dominik/Library/r-miniconda/envs/r-cecelia-env/lib/python3.9/site-packages/napari/utils/key_bindings.py\", line 545, in on_key_press\n",
      "    self.press_key(combo)\n",
      "  File \"/Users/Dominik/Library/r-miniconda/envs/r-cecelia-env/lib/python3.9/site-packages/napari/utils/key_bindings.py\", line 470, in press_key\n",
      "    generator_or_callback = func()\n",
      "  File \"/Users/Dominik/R-workspace/cecelia/inst/py/napari_utils.py\", line 1386, in save_selected_points\n",
      "    self.selected_points_to_output('gatePopulationsSelectPoints')\n",
      "  File \"/Users/Dominik/R-workspace/cecelia/inst/py/napari_utils.py\", line 1329, in selected_points_to_output\n",
      "    self.write_to_output(selected_points_dict)\n",
      "  File \"/Users/Dominik/R-workspace/cecelia/inst/py/napari_utils.py\", line 1303, in write_to_output\n",
      "    with open(self.viewer_output_file, 'w+') as f:\n",
      "TypeError: expected str, bytes or os.PathLike object, not NoneType\n"
     ]
    }
   ],
   "source": [
    "napari_utils.create_gate_populations_module()"
   ]
  },
  {
   "cell_type": "code",
   "execution_count": null,
   "id": "a4795aa6",
   "metadata": {},
   "outputs": [],
   "source": [
    "# show populations\n",
    "napari_utils.show_pop_mapping('flow', value_name = 'default', points_size=15)"
   ]
  },
  {
   "cell_type": "code",
   "execution_count": null,
   "id": "e161f7e9",
   "metadata": {},
   "outputs": [],
   "source": [
    "# show neighbours\n",
    "napari_utils.show_cell_neighbours(pop_type = 'flow', value_name = 'default')"
   ]
  },
  {
   "cell_type": "code",
   "execution_count": null,
   "id": "5f8dfa59",
   "metadata": {},
   "outputs": [],
   "source": []
  }
 ],
 "metadata": {
  "kernelspec": {
   "display_name": "Python 3 (ipykernel)",
   "language": "python",
   "name": "python3"
  },
  "language_info": {
   "codemirror_mode": {
    "name": "ipython",
    "version": 3
   },
   "file_extension": ".py",
   "mimetype": "text/x-python",
   "name": "python",
   "nbconvert_exporter": "python",
   "pygments_lexer": "ipython3",
   "version": "3.9.16"
  }
 },
 "nbformat": 4,
 "nbformat_minor": 5
}
