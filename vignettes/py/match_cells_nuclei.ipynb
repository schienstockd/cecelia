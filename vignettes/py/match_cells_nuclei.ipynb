{
 "cells": [
  {
   "cell_type": "code",
   "execution_count": 1,
   "id": "6b4cc5a3",
   "metadata": {},
   "outputs": [],
   "source": [
    "import os\n",
    "import numpy as np\n",
    "# import working directory to check functions\n",
    "os.chdir('/Users/schiend/Desktop/DOHERTY/R-workspace/cecelia/inst')\n",
    "\n",
    "# config\n",
    "import py.config_utils as cfg\n",
    "\n",
    "%load_ext autoreload\n",
    "%autoreload 2"
   ]
  },
  {
   "cell_type": "code",
   "execution_count": 30,
   "id": "ba019bcd",
   "metadata": {},
   "outputs": [],
   "source": [
    "base_dir = '/Volumes/Analysis_SSD/Dominik/cecelia/projects/wEsnzt/ANALYSIS/'\n",
    "im_path = os.path.join(base_dir, '0', 'UEssFo', 'ccidImage.ome.zarr')\n",
    "nuc_path = os.path.join(base_dir, '1', 'UEssFo', 'labels', 'default_nuc.zarr')\n",
    "cyto_path = os.path.join(base_dir, '1', 'UEssFo', 'labels', 'default.zarr')"
   ]
  },
  {
   "cell_type": "code",
   "execution_count": 31,
   "id": "17d0de13",
   "metadata": {},
   "outputs": [],
   "source": [
    "import py.zarr_utils as zarr_utils\n",
    "import py.ome_xml_utils as ome_xml_utils\n",
    "from py.dim_utils import DimUtils\n",
    "import py.correction_utils as correction_utils"
   ]
  },
  {
   "cell_type": "code",
   "execution_count": 32,
   "id": "5c7da554",
   "metadata": {},
   "outputs": [],
   "source": [
    "nuc_labels, _ = zarr_utils.open_labels_as_zarr(nuc_path)\n",
    "cyto_labels, _ = zarr_utils.open_labels_as_zarr(cyto_path)\n",
    "nuc_array = zarr_utils.fortify(nuc_labels[0])\n",
    "cyto_array = zarr_utils.fortify(cyto_labels[0])"
   ]
  },
  {
   "cell_type": "code",
   "execution_count": 47,
   "id": "79ea4149",
   "metadata": {},
   "outputs": [],
   "source": [
    "x = nuc_array\n",
    "y = cyto_array"
   ]
  },
  {
   "cell_type": "code",
   "execution_count": 48,
   "id": "f3493f21",
   "metadata": {},
   "outputs": [],
   "source": [
    "# put label arrays into standard form then flatten them \n",
    "x = nuc_array.ravel()\n",
    "y = cyto_array.ravel()\n",
    "\n",
    "# preallocate a 'contact map' matrix\n",
    "overlap = np.zeros((1 + x.max(), 1 + y.max()), dtype = np.uint)\n",
    "\n",
    "# loop over the labels in x and add to the corresponding\n",
    "# overlap entry. If label A in x and label B in y share P\n",
    "# pixels, then the resulting overlap is P\n",
    "# len(x)=len(y), the number of pixels in the whole image \n",
    "for i in range(len(x)):\n",
    "    overlap[x[i], y[i]] += 1"
   ]
  },
  {
   "cell_type": "code",
   "execution_count": 51,
   "id": "a66d1ef4",
   "metadata": {},
   "outputs": [
    {
     "name": "stderr",
     "output_type": "stream",
     "text": [
      "/var/folders/rb/m9wptf8x58x_82t7lg081kfs1fj7kv/T/ipykernel_6378/2749182355.py:3: RuntimeWarning: invalid value encountered in divide\n",
      "  iou = overlap / (n_pixels_pred + n_pixels_true - overlap)\n"
     ]
    }
   ],
   "source": [
    "n_pixels_pred = np.sum(overlap, axis=0, keepdims=True)\n",
    "n_pixels_true = np.sum(overlap, axis=1, keepdims=True)\n",
    "iou = overlap / (n_pixels_pred + n_pixels_true - overlap)\n",
    "iou[np.isnan(iou)] = 0.0"
   ]
  },
  {
   "cell_type": "code",
   "execution_count": 63,
   "id": "d2cef4bc",
   "metadata": {},
   "outputs": [
    {
     "ename": "AttributeError",
     "evalue": "'numpy.ndarray' object has no attribute 'unique'",
     "output_type": "error",
     "traceback": [
      "\u001b[0;31m---------------------------------------------------------------------------\u001b[0m",
      "\u001b[0;31mAttributeError\u001b[0m                            Traceback (most recent call last)",
      "Input \u001b[0;32mIn [63]\u001b[0m, in \u001b[0;36m<cell line: 1>\u001b[0;34m()\u001b[0m\n\u001b[0;32m----> 1\u001b[0m \u001b[43m(\u001b[49m\u001b[43mnuc_array\u001b[49m\u001b[43m \u001b[49m\u001b[38;5;241;43m*\u001b[39;49m\u001b[43m \u001b[49m\u001b[43mnp\u001b[49m\u001b[38;5;241;43m.\u001b[39;49m\u001b[43misin\u001b[49m\u001b[43m(\u001b[49m\u001b[43mnuc_array\u001b[49m\u001b[43m,\u001b[49m\u001b[43m \u001b[49m\u001b[43m[\u001b[49m\u001b[38;5;241;43m3\u001b[39;49m\u001b[43m]\u001b[49m\u001b[43m)\u001b[49m\u001b[43m)\u001b[49m\u001b[38;5;241;43m.\u001b[39;49m\u001b[43munique\u001b[49m()\n",
      "\u001b[0;31mAttributeError\u001b[0m: 'numpy.ndarray' object has no attribute 'unique'"
     ]
    }
   ],
   "source": [
    "(nuc_array * np.isin(nuc_array, [3])).unique()"
   ]
  },
  {
   "cell_type": "code",
   "execution_count": 66,
   "id": "25d2483c",
   "metadata": {},
   "outputs": [
    {
     "ename": "SyntaxError",
     "evalue": "invalid syntax (3450693019.py, line 2)",
     "output_type": "error",
     "traceback": [
      "\u001b[0;36m  Input \u001b[0;32mIn [66]\u001b[0;36m\u001b[0m\n\u001b[0;31m    'nuc' = nuc_array\u001b[0m\n\u001b[0m          ^\u001b[0m\n\u001b[0;31mSyntaxError\u001b[0m\u001b[0;31m:\u001b[0m invalid syntax\n"
     ]
    }
   ],
   "source": [
    "masks = {\n",
    "    'nuc': nuc_array\n",
    "    'cyto': cyto_array\n",
    "}\n",
    "stitch_threshold = 0.2"
   ]
  },
  {
   "cell_type": "code",
   "execution_count": 65,
   "id": "f986153b",
   "metadata": {},
   "outputs": [
    {
     "data": {
      "text/plain": [
       "[279, 279]"
      ]
     },
     "execution_count": 65,
     "metadata": {},
     "output_type": "execute_result"
    }
   ],
   "source": [
    "[x.max() for x in masks if x is not None and x.max() > 0]"
   ]
  },
  {
   "cell_type": "code",
   "execution_count": 37,
   "id": "4c38e589",
   "metadata": {},
   "outputs": [
    {
     "name": "stderr",
     "output_type": "stream",
     "text": [
      "/var/folders/rb/m9wptf8x58x_82t7lg081kfs1fj7kv/T/ipykernel_6378/4133478527.py:5: RuntimeWarning: invalid value encountered in divide\n",
      "  iou = overlap / (n_pixels_pred + n_pixels_true - overlap)\n"
     ]
    }
   ],
   "source": [
    "mmax = masks[0].max()\n",
    "empty = 0\n",
    "\n",
    "for i in range(len(masks)-1):\n",
    "    iou = intersection_over_union(masks[i+1], masks[i])[1:,1:]\n",
    "    if not iou.size and empty == 0:\n",
    "        masks[i+1] = masks[i+1]\n",
    "        mmax = masks[i+1].max()\n",
    "    elif not iou.size and not empty == 0:\n",
    "        icount = masks[i+1].max()\n",
    "        istitch = np.arange(mmax+1, mmax + icount+1, 1, int)\n",
    "        mmax += icount\n",
    "        istitch = np.append(np.array(0), istitch)\n",
    "        masks[i+1] = istitch[masks[i+1]]\n",
    "    else:\n",
    "        iou[iou < stitch_threshold] = 0.0\n",
    "        iou[iou < iou.max(axis=0)] = 0.0\n",
    "        istitch = iou.argmax(axis=1) + 1\n",
    "        ino = np.nonzero(iou.max(axis=1)==0.0)[0]\n",
    "        istitch[ino] = np.arange(mmax+1, mmax+len(ino)+1, 1, int)\n",
    "        mmax += len(ino)\n",
    "        istitch = np.append(np.array(0), istitch)\n",
    "        masks[i+1] = istitch[masks[i+1]]\n",
    "        empty = 1"
   ]
  },
  {
   "cell_type": "code",
   "execution_count": 27,
   "id": "f4523856",
   "metadata": {},
   "outputs": [],
   "source": [
    "import napari\n",
    "\n",
    "viewer = napari.Viewer()"
   ]
  },
  {
   "cell_type": "code",
   "execution_count": 38,
   "id": "dd3f9881",
   "metadata": {},
   "outputs": [
    {
     "data": {
      "text/plain": [
       "<Labels layer 'Labels [1]' at 0x17e5d0160>"
      ]
     },
     "execution_count": 38,
     "metadata": {},
     "output_type": "execute_result"
    }
   ],
   "source": [
    "viewer.add_labels(masks[0])\n",
    "viewer.add_labels(masks[1])"
   ]
  },
  {
   "cell_type": "code",
   "execution_count": null,
   "id": "ced8fc6c",
   "metadata": {},
   "outputs": [],
   "source": [
    "viewer.add_labels(masks[0])"
   ]
  },
  {
   "cell_type": "code",
   "execution_count": null,
   "id": "ee4c176f",
   "metadata": {},
   "outputs": [],
   "source": [
    "# show alignment\n",
    "reg_im = zarr_utils.open_as_zarr('/Volumes/Analysis_SSD/Dominik/TMP/reg000.zarr')\n",
    "\n",
    "colors = ['gray', 'magenta', 'cyan', 'yellow']\n",
    "#for i, x in enumerate([3, 10, 17, 24]):\n",
    "for i, x in enumerate([3, 10]):\n",
    "    viewer.add_image(reg_im[0][0][0, x, :, :, :], colormap=colors[i], blending='additive')"
   ]
  },
  {
   "cell_type": "code",
   "execution_count": null,
   "id": "cc8ff2ba",
   "metadata": {},
   "outputs": [],
   "source": [
    "# get image information\n",
    "im_zarrs = [zarr_utils.open_as_zarr(x, as_dask = True) for x in im_paths]\n",
    "im_zarrs = [x[0] for x in im_zarrs]"
   ]
  },
  {
   "cell_type": "code",
   "execution_count": null,
   "id": "a2ee58a0",
   "metadata": {},
   "outputs": [],
   "source": [
    "# create dim utils for images\n",
    "dim_utils = [\n",
    "    DimUtils(ome_xml_utils.parse_meta(x), use_channel_axis = True) for x in im_paths\n",
    "]\n",
    "\n",
    "for i, x in enumerate(dim_utils):\n",
    "    x.calc_image_dimensions(im_zarrs[i][0].shape)"
   ]
  },
  {
   "cell_type": "code",
   "execution_count": null,
   "id": "93ef1315",
   "metadata": {},
   "outputs": [],
   "source": [
    "import numpy as np\n",
    "import matplotlib.pyplot as plt\n",
    "import math\n",
    "import shutil\n",
    "import zarr\n",
    "\n",
    "from skimage.color import separate_stains, combine_stains, hdx_from_rgb, rgb_from_hdx\n",
    "from skimage.registration import phase_cross_correlation\n",
    "from skimage.transform import warp_polar, rotate, rescale, warp, SimilarityTransform, AffineTransform\n",
    "from skimage.util import img_as_float"
   ]
  },
  {
   "cell_type": "code",
   "execution_count": null,
   "id": "f2c8b8a2",
   "metadata": {},
   "outputs": [],
   "source": [
    "\"\"\"\n",
    "Get shifts for image registration\n",
    "\"\"\"\n",
    "def image_registration_shifts(ims, channel_ids, radius = 1000, upsample_factor = 20):\n",
    "    # warp image for rotation\n",
    "    im_polar = warp_polar(np.amax(ims[0], axis = 0), radius = radius, scaling = 'log')\n",
    "    \n",
    "    shifts = list()\n",
    "    rotations = list()\n",
    "    \n",
    "    # go through images and find shifts based on first image\n",
    "    for i in range(1, len(ims)):\n",
    "        # apply translation shifts\n",
    "        shift, error, diffphase = phase_cross_correlation(ims[0], ims[i], upsample_factor = upsample_factor)\n",
    "        shifts.append(shift)\n",
    "        \n",
    "        tform = SimilarityTransform(translation = (-shift[0], -shift[1]))\n",
    "        im_warped = warp(ims[i], tform)\n",
    "\n",
    "        # apply rotation\n",
    "        other_polar = warp_polar(np.amax(im_warped, axis = 0), radius = radius, scaling = 'log')\n",
    "\n",
    "        shift, error, diffphase = phase_cross_correlation(im_polar, other_polar, upsample_factor = upsample_factor)\n",
    "        rotations.append(shift)\n",
    "\n",
    "        tform = AffineTransform(rotation = math.radians(-shift[0]))\n",
    "        im_warped = warp(im_warped, tform)\n",
    "\n",
    "        # apply translation shifts\n",
    "        shift, error, diffphase = phase_cross_correlation(ims[0], im_warped, upsample_factor = upsample_factor)\n",
    "        shifts[-1] = shifts[-1] + shift\n",
    "    \n",
    "    # convert to array\n",
    "    return np.vstack(shifts), np.vstack(rotations)"
   ]
  },
  {
   "cell_type": "code",
   "execution_count": null,
   "id": "7aa9bc19",
   "metadata": {},
   "outputs": [],
   "source": [
    "\"\"\"\n",
    "Register image\n",
    "\"\"\"\n",
    "def im_registration(\n",
    "    input_arrays, dim_utils_list, phase_shift_channels,\n",
    "    reg_path = None, normalise_percentile = 98,\n",
    "    upsample_factor = 100, shifts = None):\n",
    "    "
   ]
  },
  {
   "cell_type": "code",
   "execution_count": null,
   "id": "5700151c",
   "metadata": {},
   "outputs": [],
   "source": [
    "input_arrays = im_zarrs\n",
    "dim_utils_list = dim_utils\n",
    "phase_shift_channels = channel_ids\n",
    "reg_path = '/Volumes/Analysis_SSD/Dominik/TMP/reg000'\n",
    "shifts = None\n",
    "upsample_factor = 20\n",
    "normalise_percentile = 98"
   ]
  },
  {
   "cell_type": "code",
   "execution_count": null,
   "id": "bcdaf002",
   "metadata": {},
   "outputs": [],
   "source": [
    "# get shifts\n",
    "if shifts is None:\n",
    "    print('>> Get shifts')\n",
    "    # get shifts from lowest res\n",
    "    low_res = len(input_arrays[0]) - 1\n",
    "\n",
    "    im_slices = [0 for _ in range(len(input_arrays[0][0].shape))]\n",
    "    im_slices[dim_utils_list[0].dim_idx('X')] = slice(0, min([x.dim_val('X', scale = low_res) for x in dim_utils_list]))\n",
    "    im_slices[dim_utils_list[0].dim_idx('Y')] = slice(0, min([x.dim_val('Y', scale = low_res) for x in dim_utils_list]))\n",
    "\n",
    "    if dim_utils_list[0].is_3D() is True:\n",
    "        im_slices[dim_utils_list[0].dim_idx('Z')] = slice(None)\n",
    "\n",
    "    # get low resolution images for registration\n",
    "    ims = list()\n",
    "\n",
    "    for i, x in enumerate(input_arrays):\n",
    "        im_slices[dim_utils[i].dim_idx('C')] = phase_shift_channels[i]\n",
    "        ims.append(zarr_utils.fortify(x[low_res][tuple(im_slices)]))\n",
    "\n",
    "        # normalise image\n",
    "        percentile = (np.percentile(ims[-1], normalise_percentile),\n",
    "                      np.percentile(ims[-1], 100 - normalise_percentile))\n",
    "        ims[-1] = ((ims[-1] - percentile[1]) / (percentile[0] - percentile[1]))\n",
    "\n",
    "    # get shifts and rotations\n",
    "    shifts, rotations = image_registration_shifts(\n",
    "        ims, phase_shift_channels,\n",
    "        upsample_factor = upsample_factor)"
   ]
  },
  {
   "cell_type": "code",
   "execution_count": null,
   "id": "6dd00534",
   "metadata": {},
   "outputs": [],
   "source": [
    "# get shifts summary\n",
    "shifts_summary = correction_utils.shifts_summary(shifts, cumulative = False)\n",
    "\n",
    "# get new image dimensions\n",
    "reg_im_shape, reg_im_shape_round = correction_utils.correction_im_shape(\n",
    "    input_arrays[0][0], dim_utils_list[0], shifts_summary\n",
    ")\n",
    "\n",
    "# get first image position\n",
    "first_im_pos = correction_utils.correction_first_im_pos(\n",
    "    reg_im_shape, dim_utils_list[0], shifts_summary\n",
    ")"
   ]
  },
  {
   "cell_type": "code",
   "execution_count": null,
   "id": "f04fce56",
   "metadata": {},
   "outputs": [],
   "source": [
    "first_im_pos"
   ]
  },
  {
   "cell_type": "code",
   "execution_count": null,
   "id": "495bface",
   "metadata": {},
   "outputs": [],
   "source": [
    "# remove previous folder\n",
    "if reg_path is not None and os.path.exists(reg_path) is True:\n",
    "    shutil.rmtree(reg_path)\n",
    "\n",
    "# add channels for new image\n",
    "reg_im_shape_round = list(reg_im_shape_round)\n",
    "# remove channel for registration from sum?\n",
    "#reg_im_shape_round[dim_utils_list[0].dim_idx('C')] = sum([x.dim_val('C') - 1 for x in dim_utils_list]) + 1\n",
    "reg_im_shape_round[dim_utils_list[0].dim_idx('C')] = sum([x.dim_val('C') for x in dim_utils_list])\n",
    "reg_im_shape_round = tuple(reg_im_shape_round)\n",
    "\n",
    "# create array\n",
    "reg_zarr = zarr.create(\n",
    "    reg_im_shape_round,\n",
    "    dtype = input_arrays[0][0].dtype,\n",
    "    chunks = input_arrays[0][0].chunksize,\n",
    "    store = reg_path\n",
    ")\n",
    "\n",
    "# use first position for slice\n",
    "slices = first_im_pos"
   ]
  },
  {
   "cell_type": "code",
   "execution_count": null,
   "id": "75cedd17",
   "metadata": {},
   "outputs": [],
   "source": [
    "print('>> Apply shifts')\n",
    "\n",
    "# go through images and register to first image\n",
    "for i, x in enumerate(input_arrays):\n",
    "    # create slice\n",
    "    if i > 0:\n",
    "        new_slices = list()\n",
    "\n",
    "        # adjust slices\n",
    "        for j, y in enumerate(slices):\n",
    "            new_slices.append(slice(\n",
    "              # subtract '1' because there is no\n",
    "              # shift for the first frame\n",
    "              y.start + shifts[i - 1, j],\n",
    "              y.stop + shifts[i - 1, j],\n",
    "              1\n",
    "            ))\n",
    "\n",
    "        # push back\n",
    "        slices = new_slices\n",
    "\n",
    "    # round for slicing\n",
    "    new_slices = [slice(None) for _ in range(len(reg_im_shape_round))]\n",
    "\n",
    "    # set Z, X, Y for new slices\n",
    "    for j, y in enumerate(('Z', 'Y', 'X')):\n",
    "        new_slices[dim_utils_list[i].dim_idx(y)] =  slice(round(slices[j].start), round(slices[j].stop), 1)\n",
    "\n",
    "    # set channel for new slice\n",
    "    prev_channels = sum([x.dim_val('C') for x in dim_utils_list[0:i]])\n",
    "    new_slices[dim_utils_list[i].dim_idx('C')] = slice(\n",
    "        prev_channels, prev_channels + dim_utils_list[i].dim_val('C'), 1)\n",
    "\n",
    "    # convert to tuple\n",
    "    new_slices = tuple(new_slices)\n",
    "    \n",
    "    print(f'>> reg {i}')\n",
    "    print(f'> {new_slices}')\n",
    "\n",
    "    # add to image list\n",
    "    new_image = np.zeros(reg_im_shape_round)\n",
    "\n",
    "    # check that slices match dimension\n",
    "    if new_image[new_slices].shape != x[0].shape:\n",
    "        # get wrong dimensions\n",
    "        dif_dim = [x - y for x, y in zip(\n",
    "            new_image[new_slices].shape,\n",
    "            x[0].shape\n",
    "        )]\n",
    "\n",
    "        # adjust dimensions\n",
    "        new_slices = list(new_slices)\n",
    "\n",
    "        for j, y in enumerate(dif_dim):\n",
    "            if y > 0:\n",
    "              # add?\n",
    "              new_slices[j] = slice(\n",
    "                  new_slices[j].start + y,\n",
    "                  new_slices[j].stop, 1)\n",
    "\n",
    "            if y < 0:\n",
    "              # add?\n",
    "              if new_slices[j].start - y >= 0:\n",
    "                new_slices[j] = slice(\n",
    "                  new_slices[j].start + y,\n",
    "                  new_slices[j].stop, 1)\n",
    "\n",
    "              # subtract?\n",
    "              elif new_slices[j].stop + y < reg_zarr.shape[j]:\n",
    "                new_slices[j] = slice(\n",
    "                  new_slices[j].start,\n",
    "                  new_slices[j].stop + y, 1)\n",
    "\n",
    "        new_slices = tuple(new_slices)\n",
    "\n",
    "    # apply rotation and push to zarr\n",
    "    reg_zarr[new_slices] = warp(x[0], AffineTransform(rotation = math.radians(-rotations[i - 1][0])))"
   ]
  },
  {
   "cell_type": "code",
   "execution_count": null,
   "id": "51d9e811",
   "metadata": {},
   "outputs": [],
   "source": [
    "im_registration(im_zarrs, dim_utils, channel_ids, reg_path)"
   ]
  },
  {
   "cell_type": "code",
   "execution_count": null,
   "id": "83f7a0a9",
   "metadata": {},
   "outputs": [],
   "source": [
    "# prepare image to compare\n",
    "before_rgb_im = combine_stains(np.dstack([np.amax(x, axis = 0) for x in ims]), rgb_from_hdx)"
   ]
  },
  {
   "cell_type": "code",
   "execution_count": null,
   "id": "1371d8ba",
   "metadata": {
    "scrolled": false
   },
   "outputs": [],
   "source": [
    "# merge signal\n",
    "after_rgb_im = combine_stains(np.dstack(np.amax(x, axis = 0) for x in warped_im), rgb_from_hdx)\n",
    "after_rgb_zoom = combine_stains(np.dstack(np.amax(x, axis = 0) for x in warped_zarr), rgb_from_hdx)\n",
    "\n",
    "fig, axes = plt.subplots(2, 2, figsize=(40, 40))\n",
    "ax = axes.ravel()\n",
    "ax[0].set_title(\"Nuclei\")\n",
    "\n",
    "show_slices[dim_utils[0].dim_idx('C')] = channel_ids[0]\n",
    "ax[0].set_title(\"Before\")\n",
    "ax[0].imshow(before_rgb_im)\n",
    "ax[1].set_title(\"Aligned\")\n",
    "ax[1].imshow(after_rgb_im)\n",
    "ax[2].set_title(\"Before\")\n",
    "ax[2].imshow(before_rgb_zoom)\n",
    "ax[3].set_title(\"Aligned\")\n",
    "ax[3].imshow(after_rgb_zoom)\n",
    "plt.show()"
   ]
  },
  {
   "cell_type": "code",
   "execution_count": null,
   "id": "7ef7ac5c",
   "metadata": {},
   "outputs": [],
   "source": []
  }
 ],
 "metadata": {
  "kernelspec": {
   "display_name": "Python 3 (ipykernel)",
   "language": "python",
   "name": "python3"
  },
  "language_info": {
   "codemirror_mode": {
    "name": "ipython",
    "version": 3
   },
   "file_extension": ".py",
   "mimetype": "text/x-python",
   "name": "python",
   "nbconvert_exporter": "python",
   "pygments_lexer": "ipython3",
   "version": "3.9.13"
  }
 },
 "nbformat": 4,
 "nbformat_minor": 5
}
