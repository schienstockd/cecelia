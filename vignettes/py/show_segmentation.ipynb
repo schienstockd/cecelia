{
 "cells": [
  {
   "cell_type": "code",
   "execution_count": 1,
   "id": "a2fc902c",
   "metadata": {},
   "outputs": [],
   "source": [
    "import os\n",
    "import numpy as np\n",
    "# import working directory to check functions\n",
    "os.chdir('/Users/Dominik/R-workspace/cecelia/inst')\n",
    "\n",
    "# MacOS\n",
    "os.environ['KMP_DUPLICATE_LIB_OK'] = 'TRUE'\n",
    "\n",
    "# config\n",
    "import py.config_utils as cfg\n",
    "\n",
    "%load_ext autoreload\n",
    "%autoreload 2"
   ]
  },
  {
   "cell_type": "code",
   "execution_count": 2,
   "id": "8f75f4eb",
   "metadata": {},
   "outputs": [],
   "source": [
    "base_dir = '/Volumes/Analysis_SSD/Dominik/cecelia/projects/Wq59Z0/ANALYSIS/'\n",
    "zero_dir = os.path.join(base_dir, '0/f6YZeo/')\n",
    "im_path = os.path.join(zero_dir, 'ccidCorrected.zarr')\n",
    "version_num = 1\n",
    "task_dir = os.path.join(base_dir, str(version_num), 'f6YZeo')"
   ]
  },
  {
   "cell_type": "code",
   "execution_count": 4,
   "id": "8f11a17c-f446-47cc-9657-9bf8b16deeb3",
   "metadata": {},
   "outputs": [],
   "source": [
    "base_dir = '/Volumes/Analysis_SSD/Communal/cecelia/projects/az8y8l/ANALYSIS/'\n",
    "zero_dir = os.path.join(base_dir, '0/auDGLN/')\n",
    "im_path = os.path.join(zero_dir, 'ccidCorrected.zarr')\n",
    "version_num = 1\n",
    "task_dir = os.path.join(base_dir, str(version_num), 'auDGLN')"
   ]
  },
  {
   "cell_type": "code",
   "execution_count": 10,
   "id": "55c7679b-ee72-4940-8bab-c5e8323f6fb3",
   "metadata": {},
   "outputs": [],
   "source": [
    "import py.zarr_utils as zarr_utils\n",
    "import py.ome_xml_utils as ome_xml_utils\n",
    "from py.dim_utils import DimUtils"
   ]
  },
  {
   "cell_type": "code",
   "execution_count": 12,
   "id": "655d8464-b19f-4015-b744-439452884e2b",
   "metadata": {},
   "outputs": [
    {
     "name": "stdout",
     "output_type": "stream",
     "text": [
      "<zarr.hierarchy.Group '/' read-only>\n"
     ]
    }
   ],
   "source": [
    "labels_dat, _ = zarr_utils.open_labels_as_zarr(os.path.join(task_dir, 'labels', 'default.zarr'))"
   ]
  },
  {
   "cell_type": "code",
   "execution_count": 13,
   "id": "e3b561b2-f868-4395-827b-65a3adea629f",
   "metadata": {},
   "outputs": [
    {
     "data": {
      "text/plain": [
       "(1, 24, 8262, 3267)"
      ]
     },
     "execution_count": 13,
     "metadata": {},
     "output_type": "execute_result"
    }
   ],
   "source": [
    "labels_dat[0].shape"
   ]
  },
  {
   "cell_type": "code",
   "execution_count": 11,
   "id": "888646ae-feb2-48a9-9447-89caf10fdf8a",
   "metadata": {},
   "outputs": [
    {
     "name": "stdout",
     "output_type": "stream",
     "text": [
      "<zarr.hierarchy.Group '/' read-only>\n"
     ]
    },
    {
     "name": "stderr",
     "output_type": "stream",
     "text": [
      "/Users/Dominik/Library/r-miniconda/envs/r-cecelia-env/lib/python3.9/site-packages/ome_types/_mixins/_base_type.py:117: UserWarning: Casting invalid DichroicID 'Beamsplitter.2412-349' to 'Dichroic:0'\n",
      "  super().__init__(**data)\n",
      "/Users/Dominik/Library/r-miniconda/envs/r-cecelia-env/lib/python3.9/site-packages/ome_types/_mixins/_base_type.py:117: UserWarning: Casting invalid DichroicID 'Beamsplitter.1520-117' to 'Dichroic:1'\n",
      "  super().__init__(**data)\n",
      "/Users/Dominik/Library/r-miniconda/envs/r-cecelia-env/lib/python3.9/site-packages/ome_types/_mixins/_base_type.py:117: UserWarning: Casting invalid DichroicID 'SecondaryBeamsplitter.453001-4023-000' to 'Dichroic:2'\n",
      "  super().__init__(**data)\n"
     ]
    },
    {
     "name": "stdout",
     "output_type": "stream",
     "text": [
      "[1, 7, 24, 8262, 3267]\n",
      "[3267, 8262, 24, 7, 1]\n",
      "['X', 'Y', 'Z', 'C', 'T']\n"
     ]
    }
   ],
   "source": [
    "im_dat, zarr_group_info = zarr_utils.open_as_zarr(im_path)\n",
    "omexml = ome_xml_utils.parse_meta(im_path)\n",
    "dim_utils = DimUtils(omexml, use_channel_axis = True)\n",
    "dim_utils.calc_image_dimensions(im_dat[0].shape)"
   ]
  },
  {
   "cell_type": "code",
   "execution_count": 15,
   "id": "c5ce75ff-a786-4b10-be99-d819544f426a",
   "metadata": {},
   "outputs": [
    {
     "data": {
      "text/plain": [
       "0"
      ]
     },
     "execution_count": 15,
     "metadata": {},
     "output_type": "execute_result"
    }
   ],
   "source": [
    "dim_utils.dim_idx('z', ignore_channel=True, squeeze=True)"
   ]
  },
  {
   "cell_type": "code",
   "execution_count": 18,
   "id": "96788271",
   "metadata": {},
   "outputs": [],
   "source": [
    "from py.napari_utils import NapariUtils\n",
    "\n",
    "napari_utils = NapariUtils()\n",
    "napari_utils.viewer = None\n",
    "napari_utils.open_viewer()\n",
    "napari_utils.task_dir = task_dir"
   ]
  },
  {
   "cell_type": "code",
   "execution_count": 19,
   "id": "75724ef2",
   "metadata": {},
   "outputs": [],
   "source": [
    "channel_names = [\n",
    "    'CD169-FITC', 'XCR1-APC', 'TCRb-BV421', 'x33D1-PE'\n",
    "]"
   ]
  },
  {
   "cell_type": "code",
   "execution_count": 22,
   "id": "10e3e72e",
   "metadata": {},
   "outputs": [
    {
     "name": "stdout",
     "output_type": "stream",
     "text": [
      "<zarr.hierarchy.Group '/' read-only>\n",
      "[1, 5, 41, 1024, 1024]\n",
      "[1024, 1024, 41, 5, 1]\n",
      "['X', 'Y', 'Z', 'C', 'T']\n",
      "[1, 5, 41, 1024, 1024]\n"
     ]
    }
   ],
   "source": [
    "napari_utils.open_image(\n",
    "    im_path,\n",
    "    use_channel_axis = True, as_dask = True,\n",
    "    visible = True\n",
    ")"
   ]
  },
  {
   "cell_type": "code",
   "execution_count": 23,
   "id": "88459405",
   "metadata": {},
   "outputs": [],
   "source": [
    "# show populations\n",
    "napari_utils.show_pop_mapping(\n",
    "    'flow', value_name = 'default')"
   ]
  },
  {
   "cell_type": "code",
   "execution_count": null,
   "id": "714f1452",
   "metadata": {},
   "outputs": [],
   "source": [
    "napari_utils.viewer.window.screenshot"
   ]
  },
  {
   "cell_type": "code",
   "execution_count": 27,
   "id": "a5dc2ffd",
   "metadata": {},
   "outputs": [
    {
     "name": "stdout",
     "output_type": "stream",
     "text": [
      "{'base': '/Volumes/Analysis_SSD/Dominik/cecelia/projects/Wq59Z0/ANALYSIS/1/f6YZeo/labels/default.zarr'}\n",
      "(1, 41, 1024, 1024)\n"
     ]
    }
   ],
   "source": [
    "napari_utils.show_labels_all(\n",
    "    show_labels = True,\n",
    "    show_points = True,\n",
    "    show_label_ids = True,\n",
    "    value_names = ['default'],\n",
    "    \n",
    ")"
   ]
  },
  {
   "cell_type": "code",
   "execution_count": null,
   "id": "4181f11d",
   "metadata": {},
   "outputs": [],
   "source": [
    "napari_utils.show_labels_all(\n",
    "    show_labels = True,\n",
    "    show_points = False,\n",
    "    value_names = ['default'],\n",
    "    label_suffixes = {'default': ['cyto', 'nuc']}\n",
    ")"
   ]
  },
  {
   "cell_type": "code",
   "execution_count": null,
   "id": "be35ebba",
   "metadata": {},
   "outputs": [],
   "source": [
    "from napari_animation import AnimationWidget\n",
    "animation_widget = AnimationWidget(napari_utils.viewer)\n",
    "napari_utils.viewer.window.add_dock_widget(animation_widget, area='right')"
   ]
  },
  {
   "cell_type": "code",
   "execution_count": null,
   "id": "a4795aa6",
   "metadata": {},
   "outputs": [],
   "source": [
    "# show populations\n",
    "napari_utils.show_pop_mapping(\n",
    "    'flow', value_name = 'default')"
   ]
  },
  {
   "cell_type": "code",
   "execution_count": null,
   "id": "a6ab6541",
   "metadata": {},
   "outputs": [],
   "source": []
  }
 ],
 "metadata": {
  "kernelspec": {
   "display_name": "Python 3 (ipykernel)",
   "language": "python",
   "name": "python3"
  },
  "language_info": {
   "codemirror_mode": {
    "name": "ipython",
    "version": 3
   },
   "file_extension": ".py",
   "mimetype": "text/x-python",
   "name": "python",
   "nbconvert_exporter": "python",
   "pygments_lexer": "ipython3",
   "version": "3.9.18"
  }
 },
 "nbformat": 4,
 "nbformat_minor": 5
}
