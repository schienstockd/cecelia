{
 "cells": [
  {
   "cell_type": "code",
   "execution_count": 1,
   "id": "a2fc902c",
   "metadata": {},
   "outputs": [],
   "source": [
    "import os\n",
    "import numpy as np\n",
    "# import working directory to check functions\n",
    "os.chdir('/Users/Dominik/R-workspace/cecelia/inst')\n",
    "\n",
    "# MacOS\n",
    "os.environ['KMP_DUPLICATE_LIB_OK'] = 'TRUE'\n",
    "\n",
    "# config\n",
    "import py.config_utils as cfg\n",
    "\n",
    "%load_ext autoreload\n",
    "%autoreload 2"
   ]
  },
  {
   "cell_type": "code",
   "execution_count": 2,
   "id": "34788c43-2f29-4b99-8f25-f7a859d869eb",
   "metadata": {},
   "outputs": [],
   "source": [
    "import tifffile"
   ]
  },
  {
   "cell_type": "code",
   "execution_count": 94,
   "id": "fb50f3d4-1807-4228-a02d-cebd454ea59c",
   "metadata": {},
   "outputs": [],
   "source": [
    "im_path = '/Volumes/Lab-Mueller/Dominik Schienstock/Notebook/Experiments/FELIX_GARVAN/DATA/20231205/D10.tif'\n",
    "seq_rexp = '_(t)(\\d+)_(c)(\\d+)'"
   ]
  },
  {
   "cell_type": "code",
   "execution_count": 95,
   "id": "b52d9933-ebac-4e47-a64c-b84370e35582",
   "metadata": {},
   "outputs": [
    {
     "data": {
      "text/plain": [
       "'/Volumes/Lab-Mueller/Dominik Schienstock/Notebook/Experiments/FELIX_GARVAN/DATA/20231205/*.tif'"
      ]
     },
     "execution_count": 95,
     "metadata": {},
     "output_type": "execute_result"
    }
   ],
   "source": [
    "os.path.join(os.path.dirname(im_path), '*.tif')"
   ]
  },
  {
   "cell_type": "code",
   "execution_count": 20,
   "id": "e21fa3fd-2cb8-45f6-923c-e9e4298a76e4",
   "metadata": {},
   "outputs": [
    {
     "data": {
      "text/plain": [
       "'D10.tif'"
      ]
     },
     "execution_count": 20,
     "metadata": {},
     "output_type": "execute_result"
    }
   ],
   "source": [
    "import re\n",
    "re.sub(r'%s' %seq_rexp, '', os.path.basename(im_path))"
   ]
  },
  {
   "cell_type": "code",
   "execution_count": 21,
   "id": "1db07a4f-9562-40f0-9bd5-5e4dd3ca6700",
   "metadata": {},
   "outputs": [],
   "source": [
    "im = tifffile.TiffSequence(\n",
    "    os.path.join(os.path.dirname(im_path), '*.tif'), pattern = r'%s' %seq_rexp)"
   ]
  },
  {
   "cell_type": "code",
   "execution_count": 96,
   "id": "4ebcea83-1b9b-4111-80ad-573ae72eb625",
   "metadata": {},
   "outputs": [],
   "source": [
    "im2 = tifffile.TiffFile(im_path)"
   ]
  },
  {
   "cell_type": "code",
   "execution_count": 100,
   "id": "67f17a57-2559-468d-8854-4f5bd6037eaa",
   "metadata": {},
   "outputs": [
    {
     "data": {
      "text/plain": [
       "{'ImageJ': '1.54e',\n",
       " 'images': 576,\n",
       " 'channels': 3,\n",
       " 'frames': 192,\n",
       " 'hyperstack': True,\n",
       " 'mode': 'composite',\n",
       " 'unit': 'micron',\n",
       " 'finterval': 300,\n",
       " 'spacing': 0.43158382199411577,\n",
       " 'loop': False,\n",
       " 'min': 41.0,\n",
       " 'max': 555.0,\n",
       " 'Labels': ['c:1/3 t:1/192 - WellC10_ChannelAF488,AF555,TD_Seq0002.nd2 (series 6)',\n",
       "  'c:2/3 t:1/192 - WellC10_ChannelAF488,AF555,TD_Seq0002.nd2 (series 6)',\n",
       "  'c:3/3 t:1/192 - WellC10_ChannelAF488,AF555,TD_Seq0002.nd2 (series 6)',\n",
       "  'c:1/3 t:2/192 - WellC10_ChannelAF488,AF555,TD_Seq0002.nd2 (series 6)',\n",
       "  'c:2/3 t:2/192 - WellC10_ChannelAF488,AF555,TD_Seq0002.nd2 (series 6)',\n",
       "  'c:3/3 t:2/192 - WellC10_ChannelAF488,AF555,TD_Seq0002.nd2 (series 6)',\n",
       "  'c:1/3 t:3/192 - WellC10_ChannelAF488,AF555,TD_Seq0002.nd2 (series 6)',\n",
       "  'c:2/3 t:3/192 - WellC10_ChannelAF488,AF555,TD_Seq0002.nd2 (series 6)',\n",
       "  'c:3/3 t:3/192 - WellC10_ChannelAF488,AF555,TD_Seq0002.nd2 (series 6)',\n",
       "  'c:1/3 t:4/192 - WellC10_ChannelAF488,AF555,TD_Seq0002.nd2 (series 6)',\n",
       "  'c:2/3 t:4/192 - WellC10_ChannelAF488,AF555,TD_Seq0002.nd2 (series 6)',\n",
       "  'c:3/3 t:4/192 - WellC10_ChannelAF488,AF555,TD_Seq0002.nd2 (series 6)',\n",
       "  'c:1/3 t:5/192 - WellC10_ChannelAF488,AF555,TD_Seq0002.nd2 (series 6)',\n",
       "  'c:2/3 t:5/192 - WellC10_ChannelAF488,AF555,TD_Seq0002.nd2 (series 6)',\n",
       "  'c:3/3 t:5/192 - WellC10_ChannelAF488,AF555,TD_Seq0002.nd2 (series 6)',\n",
       "  'c:1/3 t:6/192 - WellC10_ChannelAF488,AF555,TD_Seq0002.nd2 (series 6)',\n",
       "  'c:2/3 t:6/192 - WellC10_ChannelAF488,AF555,TD_Seq0002.nd2 (series 6)',\n",
       "  'c:3/3 t:6/192 - WellC10_ChannelAF488,AF555,TD_Seq0002.nd2 (series 6)',\n",
       "  'c:1/3 t:7/192 - WellC10_ChannelAF488,AF555,TD_Seq0002.nd2 (series 6)',\n",
       "  'c:2/3 t:7/192 - WellC10_ChannelAF488,AF555,TD_Seq0002.nd2 (series 6)',\n",
       "  'c:3/3 t:7/192 - WellC10_ChannelAF488,AF555,TD_Seq0002.nd2 (series 6)',\n",
       "  'c:1/3 t:8/192 - WellC10_ChannelAF488,AF555,TD_Seq0002.nd2 (series 6)',\n",
       "  'c:2/3 t:8/192 - WellC10_ChannelAF488,AF555,TD_Seq0002.nd2 (series 6)',\n",
       "  'c:3/3 t:8/192 - WellC10_ChannelAF488,AF555,TD_Seq0002.nd2 (series 6)',\n",
       "  'c:1/3 t:9/192 - WellC10_ChannelAF488,AF555,TD_Seq0002.nd2 (series 6)',\n",
       "  'c:2/3 t:9/192 - WellC10_ChannelAF488,AF555,TD_Seq0002.nd2 (series 6)',\n",
       "  'c:3/3 t:9/192 - WellC10_ChannelAF488,AF555,TD_Seq0002.nd2 (series 6)',\n",
       "  'c:1/3 t:10/192 - WellC10_ChannelAF488,AF555,TD_Seq0002.nd2 (series 6)',\n",
       "  'c:2/3 t:10/192 - WellC10_ChannelAF488,AF555,TD_Seq0002.nd2 (series 6)',\n",
       "  'c:3/3 t:10/192 - WellC10_ChannelAF488,AF555,TD_Seq0002.nd2 (series 6)',\n",
       "  'c:1/3 t:11/192 - WellC10_ChannelAF488,AF555,TD_Seq0002.nd2 (series 6)',\n",
       "  'c:2/3 t:11/192 - WellC10_ChannelAF488,AF555,TD_Seq0002.nd2 (series 6)',\n",
       "  'c:3/3 t:11/192 - WellC10_ChannelAF488,AF555,TD_Seq0002.nd2 (series 6)',\n",
       "  'c:1/3 t:12/192 - WellC10_ChannelAF488,AF555,TD_Seq0002.nd2 (series 6)',\n",
       "  'c:2/3 t:12/192 - WellC10_ChannelAF488,AF555,TD_Seq0002.nd2 (series 6)',\n",
       "  'c:3/3 t:12/192 - WellC10_ChannelAF488,AF555,TD_Seq0002.nd2 (series 6)',\n",
       "  'c:1/3 t:13/192 - WellC10_ChannelAF488,AF555,TD_Seq0002.nd2 (series 6)',\n",
       "  'c:2/3 t:13/192 - WellC10_ChannelAF488,AF555,TD_Seq0002.nd2 (series 6)',\n",
       "  'c:3/3 t:13/192 - WellC10_ChannelAF488,AF555,TD_Seq0002.nd2 (series 6)',\n",
       "  'c:1/3 t:14/192 - WellC10_ChannelAF488,AF555,TD_Seq0002.nd2 (series 6)',\n",
       "  'c:2/3 t:14/192 - WellC10_ChannelAF488,AF555,TD_Seq0002.nd2 (series 6)',\n",
       "  'c:3/3 t:14/192 - WellC10_ChannelAF488,AF555,TD_Seq0002.nd2 (series 6)',\n",
       "  'c:1/3 t:15/192 - WellC10_ChannelAF488,AF555,TD_Seq0002.nd2 (series 6)',\n",
       "  'c:2/3 t:15/192 - WellC10_ChannelAF488,AF555,TD_Seq0002.nd2 (series 6)',\n",
       "  'c:3/3 t:15/192 - WellC10_ChannelAF488,AF555,TD_Seq0002.nd2 (series 6)',\n",
       "  'c:1/3 t:16/192 - WellC10_ChannelAF488,AF555,TD_Seq0002.nd2 (series 6)',\n",
       "  'c:2/3 t:16/192 - WellC10_ChannelAF488,AF555,TD_Seq0002.nd2 (series 6)',\n",
       "  'c:3/3 t:16/192 - WellC10_ChannelAF488,AF555,TD_Seq0002.nd2 (series 6)',\n",
       "  'c:1/3 t:17/192 - WellC10_ChannelAF488,AF555,TD_Seq0002.nd2 (series 6)',\n",
       "  'c:2/3 t:17/192 - WellC10_ChannelAF488,AF555,TD_Seq0002.nd2 (series 6)',\n",
       "  'c:3/3 t:17/192 - WellC10_ChannelAF488,AF555,TD_Seq0002.nd2 (series 6)',\n",
       "  'c:1/3 t:18/192 - WellC10_ChannelAF488,AF555,TD_Seq0002.nd2 (series 6)',\n",
       "  'c:2/3 t:18/192 - WellC10_ChannelAF488,AF555,TD_Seq0002.nd2 (series 6)',\n",
       "  'c:3/3 t:18/192 - WellC10_ChannelAF488,AF555,TD_Seq0002.nd2 (series 6)',\n",
       "  'c:1/3 t:19/192 - WellC10_ChannelAF488,AF555,TD_Seq0002.nd2 (series 6)',\n",
       "  'c:2/3 t:19/192 - WellC10_ChannelAF488,AF555,TD_Seq0002.nd2 (series 6)',\n",
       "  'c:3/3 t:19/192 - WellC10_ChannelAF488,AF555,TD_Seq0002.nd2 (series 6)',\n",
       "  'c:1/3 t:20/192 - WellC10_ChannelAF488,AF555,TD_Seq0002.nd2 (series 6)',\n",
       "  'c:2/3 t:20/192 - WellC10_ChannelAF488,AF555,TD_Seq0002.nd2 (series 6)',\n",
       "  'c:3/3 t:20/192 - WellC10_ChannelAF488,AF555,TD_Seq0002.nd2 (series 6)',\n",
       "  'c:1/3 t:21/192 - WellC10_ChannelAF488,AF555,TD_Seq0002.nd2 (series 6)',\n",
       "  'c:2/3 t:21/192 - WellC10_ChannelAF488,AF555,TD_Seq0002.nd2 (series 6)',\n",
       "  'c:3/3 t:21/192 - WellC10_ChannelAF488,AF555,TD_Seq0002.nd2 (series 6)',\n",
       "  'c:1/3 t:22/192 - WellC10_ChannelAF488,AF555,TD_Seq0002.nd2 (series 6)',\n",
       "  'c:2/3 t:22/192 - WellC10_ChannelAF488,AF555,TD_Seq0002.nd2 (series 6)',\n",
       "  'c:3/3 t:22/192 - WellC10_ChannelAF488,AF555,TD_Seq0002.nd2 (series 6)',\n",
       "  'c:1/3 t:23/192 - WellC10_ChannelAF488,AF555,TD_Seq0002.nd2 (series 6)',\n",
       "  'c:2/3 t:23/192 - WellC10_ChannelAF488,AF555,TD_Seq0002.nd2 (series 6)',\n",
       "  'c:3/3 t:23/192 - WellC10_ChannelAF488,AF555,TD_Seq0002.nd2 (series 6)',\n",
       "  'c:1/3 t:24/192 - WellC10_ChannelAF488,AF555,TD_Seq0002.nd2 (series 6)',\n",
       "  'c:2/3 t:24/192 - WellC10_ChannelAF488,AF555,TD_Seq0002.nd2 (series 6)',\n",
       "  'c:3/3 t:24/192 - WellC10_ChannelAF488,AF555,TD_Seq0002.nd2 (series 6)',\n",
       "  'c:1/3 t:25/192 - WellC10_ChannelAF488,AF555,TD_Seq0002.nd2 (series 6)',\n",
       "  'c:2/3 t:25/192 - WellC10_ChannelAF488,AF555,TD_Seq0002.nd2 (series 6)',\n",
       "  'c:3/3 t:25/192 - WellC10_ChannelAF488,AF555,TD_Seq0002.nd2 (series 6)',\n",
       "  'c:1/3 t:26/192 - WellC10_ChannelAF488,AF555,TD_Seq0002.nd2 (series 6)',\n",
       "  'c:2/3 t:26/192 - WellC10_ChannelAF488,AF555,TD_Seq0002.nd2 (series 6)',\n",
       "  'c:3/3 t:26/192 - WellC10_ChannelAF488,AF555,TD_Seq0002.nd2 (series 6)',\n",
       "  'c:1/3 t:27/192 - WellC10_ChannelAF488,AF555,TD_Seq0002.nd2 (series 6)',\n",
       "  'c:2/3 t:27/192 - WellC10_ChannelAF488,AF555,TD_Seq0002.nd2 (series 6)',\n",
       "  'c:3/3 t:27/192 - WellC10_ChannelAF488,AF555,TD_Seq0002.nd2 (series 6)',\n",
       "  'c:1/3 t:28/192 - WellC10_ChannelAF488,AF555,TD_Seq0002.nd2 (series 6)',\n",
       "  'c:2/3 t:28/192 - WellC10_ChannelAF488,AF555,TD_Seq0002.nd2 (series 6)',\n",
       "  'c:3/3 t:28/192 - WellC10_ChannelAF488,AF555,TD_Seq0002.nd2 (series 6)',\n",
       "  'c:1/3 t:29/192 - WellC10_ChannelAF488,AF555,TD_Seq0002.nd2 (series 6)',\n",
       "  'c:2/3 t:29/192 - WellC10_ChannelAF488,AF555,TD_Seq0002.nd2 (series 6)',\n",
       "  'c:3/3 t:29/192 - WellC10_ChannelAF488,AF555,TD_Seq0002.nd2 (series 6)',\n",
       "  'c:1/3 t:30/192 - WellC10_ChannelAF488,AF555,TD_Seq0002.nd2 (series 6)',\n",
       "  'c:2/3 t:30/192 - WellC10_ChannelAF488,AF555,TD_Seq0002.nd2 (series 6)',\n",
       "  'c:3/3 t:30/192 - WellC10_ChannelAF488,AF555,TD_Seq0002.nd2 (series 6)',\n",
       "  'c:1/3 t:31/192 - WellC10_ChannelAF488,AF555,TD_Seq0002.nd2 (series 6)',\n",
       "  'c:2/3 t:31/192 - WellC10_ChannelAF488,AF555,TD_Seq0002.nd2 (series 6)',\n",
       "  'c:3/3 t:31/192 - WellC10_ChannelAF488,AF555,TD_Seq0002.nd2 (series 6)',\n",
       "  'c:1/3 t:32/192 - WellC10_ChannelAF488,AF555,TD_Seq0002.nd2 (series 6)',\n",
       "  'c:2/3 t:32/192 - WellC10_ChannelAF488,AF555,TD_Seq0002.nd2 (series 6)',\n",
       "  'c:3/3 t:32/192 - WellC10_ChannelAF488,AF555,TD_Seq0002.nd2 (series 6)',\n",
       "  'c:1/3 t:33/192 - WellC10_ChannelAF488,AF555,TD_Seq0002.nd2 (series 6)',\n",
       "  'c:2/3 t:33/192 - WellC10_ChannelAF488,AF555,TD_Seq0002.nd2 (series 6)',\n",
       "  'c:3/3 t:33/192 - WellC10_ChannelAF488,AF555,TD_Seq0002.nd2 (series 6)',\n",
       "  'c:1/3 t:34/192 - WellC10_ChannelAF488,AF555,TD_Seq0002.nd2 (series 6)',\n",
       "  'c:2/3 t:34/192 - WellC10_ChannelAF488,AF555,TD_Seq0002.nd2 (series 6)',\n",
       "  'c:3/3 t:34/192 - WellC10_ChannelAF488,AF555,TD_Seq0002.nd2 (series 6)',\n",
       "  'c:1/3 t:35/192 - WellC10_ChannelAF488,AF555,TD_Seq0002.nd2 (series 6)',\n",
       "  'c:2/3 t:35/192 - WellC10_ChannelAF488,AF555,TD_Seq0002.nd2 (series 6)',\n",
       "  'c:3/3 t:35/192 - WellC10_ChannelAF488,AF555,TD_Seq0002.nd2 (series 6)',\n",
       "  'c:1/3 t:36/192 - WellC10_ChannelAF488,AF555,TD_Seq0002.nd2 (series 6)',\n",
       "  'c:2/3 t:36/192 - WellC10_ChannelAF488,AF555,TD_Seq0002.nd2 (series 6)',\n",
       "  'c:3/3 t:36/192 - WellC10_ChannelAF488,AF555,TD_Seq0002.nd2 (series 6)',\n",
       "  'c:1/3 t:37/192 - WellC10_ChannelAF488,AF555,TD_Seq0002.nd2 (series 6)',\n",
       "  'c:2/3 t:37/192 - WellC10_ChannelAF488,AF555,TD_Seq0002.nd2 (series 6)',\n",
       "  'c:3/3 t:37/192 - WellC10_ChannelAF488,AF555,TD_Seq0002.nd2 (series 6)',\n",
       "  'c:1/3 t:38/192 - WellC10_ChannelAF488,AF555,TD_Seq0002.nd2 (series 6)',\n",
       "  'c:2/3 t:38/192 - WellC10_ChannelAF488,AF555,TD_Seq0002.nd2 (series 6)',\n",
       "  'c:3/3 t:38/192 - WellC10_ChannelAF488,AF555,TD_Seq0002.nd2 (series 6)',\n",
       "  'c:1/3 t:39/192 - WellC10_ChannelAF488,AF555,TD_Seq0002.nd2 (series 6)',\n",
       "  'c:2/3 t:39/192 - WellC10_ChannelAF488,AF555,TD_Seq0002.nd2 (series 6)',\n",
       "  'c:3/3 t:39/192 - WellC10_ChannelAF488,AF555,TD_Seq0002.nd2 (series 6)',\n",
       "  'c:1/3 t:40/192 - WellC10_ChannelAF488,AF555,TD_Seq0002.nd2 (series 6)',\n",
       "  'c:2/3 t:40/192 - WellC10_ChannelAF488,AF555,TD_Seq0002.nd2 (series 6)',\n",
       "  'c:3/3 t:40/192 - WellC10_ChannelAF488,AF555,TD_Seq0002.nd2 (series 6)',\n",
       "  'c:1/3 t:41/192 - WellC10_ChannelAF488,AF555,TD_Seq0002.nd2 (series 6)',\n",
       "  'c:2/3 t:41/192 - WellC10_ChannelAF488,AF555,TD_Seq0002.nd2 (series 6)',\n",
       "  'c:3/3 t:41/192 - WellC10_ChannelAF488,AF555,TD_Seq0002.nd2 (series 6)',\n",
       "  'c:1/3 t:42/192 - WellC10_ChannelAF488,AF555,TD_Seq0002.nd2 (series 6)',\n",
       "  'c:2/3 t:42/192 - WellC10_ChannelAF488,AF555,TD_Seq0002.nd2 (series 6)',\n",
       "  'c:3/3 t:42/192 - WellC10_ChannelAF488,AF555,TD_Seq0002.nd2 (series 6)',\n",
       "  'c:1/3 t:43/192 - WellC10_ChannelAF488,AF555,TD_Seq0002.nd2 (series 6)',\n",
       "  'c:2/3 t:43/192 - WellC10_ChannelAF488,AF555,TD_Seq0002.nd2 (series 6)',\n",
       "  'c:3/3 t:43/192 - WellC10_ChannelAF488,AF555,TD_Seq0002.nd2 (series 6)',\n",
       "  'c:1/3 t:44/192 - WellC10_ChannelAF488,AF555,TD_Seq0002.nd2 (series 6)',\n",
       "  'c:2/3 t:44/192 - WellC10_ChannelAF488,AF555,TD_Seq0002.nd2 (series 6)',\n",
       "  'c:3/3 t:44/192 - WellC10_ChannelAF488,AF555,TD_Seq0002.nd2 (series 6)',\n",
       "  'c:1/3 t:45/192 - WellC10_ChannelAF488,AF555,TD_Seq0002.nd2 (series 6)',\n",
       "  'c:2/3 t:45/192 - WellC10_ChannelAF488,AF555,TD_Seq0002.nd2 (series 6)',\n",
       "  'c:3/3 t:45/192 - WellC10_ChannelAF488,AF555,TD_Seq0002.nd2 (series 6)',\n",
       "  'c:1/3 t:46/192 - WellC10_ChannelAF488,AF555,TD_Seq0002.nd2 (series 6)',\n",
       "  'c:2/3 t:46/192 - WellC10_ChannelAF488,AF555,TD_Seq0002.nd2 (series 6)',\n",
       "  'c:3/3 t:46/192 - WellC10_ChannelAF488,AF555,TD_Seq0002.nd2 (series 6)',\n",
       "  'c:1/3 t:47/192 - WellC10_ChannelAF488,AF555,TD_Seq0002.nd2 (series 6)',\n",
       "  'c:2/3 t:47/192 - WellC10_ChannelAF488,AF555,TD_Seq0002.nd2 (series 6)',\n",
       "  'c:3/3 t:47/192 - WellC10_ChannelAF488,AF555,TD_Seq0002.nd2 (series 6)',\n",
       "  'c:1/3 t:48/192 - WellC10_ChannelAF488,AF555,TD_Seq0002.nd2 (series 6)',\n",
       "  'c:2/3 t:48/192 - WellC10_ChannelAF488,AF555,TD_Seq0002.nd2 (series 6)',\n",
       "  'c:3/3 t:48/192 - WellC10_ChannelAF488,AF555,TD_Seq0002.nd2 (series 6)',\n",
       "  'c:1/3 t:49/192 - WellC10_ChannelAF488,AF555,TD_Seq0002.nd2 (series 6)',\n",
       "  'c:2/3 t:49/192 - WellC10_ChannelAF488,AF555,TD_Seq0002.nd2 (series 6)',\n",
       "  'c:3/3 t:49/192 - WellC10_ChannelAF488,AF555,TD_Seq0002.nd2 (series 6)',\n",
       "  'c:1/3 t:50/192 - WellC10_ChannelAF488,AF555,TD_Seq0002.nd2 (series 6)',\n",
       "  'c:2/3 t:50/192 - WellC10_ChannelAF488,AF555,TD_Seq0002.nd2 (series 6)',\n",
       "  'c:3/3 t:50/192 - WellC10_ChannelAF488,AF555,TD_Seq0002.nd2 (series 6)',\n",
       "  'c:1/3 t:51/192 - WellC10_ChannelAF488,AF555,TD_Seq0002.nd2 (series 6)',\n",
       "  'c:2/3 t:51/192 - WellC10_ChannelAF488,AF555,TD_Seq0002.nd2 (series 6)',\n",
       "  'c:3/3 t:51/192 - WellC10_ChannelAF488,AF555,TD_Seq0002.nd2 (series 6)',\n",
       "  'c:1/3 t:52/192 - WellC10_ChannelAF488,AF555,TD_Seq0002.nd2 (series 6)',\n",
       "  'c:2/3 t:52/192 - WellC10_ChannelAF488,AF555,TD_Seq0002.nd2 (series 6)',\n",
       "  'c:3/3 t:52/192 - WellC10_ChannelAF488,AF555,TD_Seq0002.nd2 (series 6)',\n",
       "  'c:1/3 t:53/192 - WellC10_ChannelAF488,AF555,TD_Seq0002.nd2 (series 6)',\n",
       "  'c:2/3 t:53/192 - WellC10_ChannelAF488,AF555,TD_Seq0002.nd2 (series 6)',\n",
       "  'c:3/3 t:53/192 - WellC10_ChannelAF488,AF555,TD_Seq0002.nd2 (series 6)',\n",
       "  'c:1/3 t:54/192 - WellC10_ChannelAF488,AF555,TD_Seq0002.nd2 (series 6)',\n",
       "  'c:2/3 t:54/192 - WellC10_ChannelAF488,AF555,TD_Seq0002.nd2 (series 6)',\n",
       "  'c:3/3 t:54/192 - WellC10_ChannelAF488,AF555,TD_Seq0002.nd2 (series 6)',\n",
       "  'c:1/3 t:55/192 - WellC10_ChannelAF488,AF555,TD_Seq0002.nd2 (series 6)',\n",
       "  'c:2/3 t:55/192 - WellC10_ChannelAF488,AF555,TD_Seq0002.nd2 (series 6)',\n",
       "  'c:3/3 t:55/192 - WellC10_ChannelAF488,AF555,TD_Seq0002.nd2 (series 6)',\n",
       "  'c:1/3 t:56/192 - WellC10_ChannelAF488,AF555,TD_Seq0002.nd2 (series 6)',\n",
       "  'c:2/3 t:56/192 - WellC10_ChannelAF488,AF555,TD_Seq0002.nd2 (series 6)',\n",
       "  'c:3/3 t:56/192 - WellC10_ChannelAF488,AF555,TD_Seq0002.nd2 (series 6)',\n",
       "  'c:1/3 t:57/192 - WellC10_ChannelAF488,AF555,TD_Seq0002.nd2 (series 6)',\n",
       "  'c:2/3 t:57/192 - WellC10_ChannelAF488,AF555,TD_Seq0002.nd2 (series 6)',\n",
       "  'c:3/3 t:57/192 - WellC10_ChannelAF488,AF555,TD_Seq0002.nd2 (series 6)',\n",
       "  'c:1/3 t:58/192 - WellC10_ChannelAF488,AF555,TD_Seq0002.nd2 (series 6)',\n",
       "  'c:2/3 t:58/192 - WellC10_ChannelAF488,AF555,TD_Seq0002.nd2 (series 6)',\n",
       "  'c:3/3 t:58/192 - WellC10_ChannelAF488,AF555,TD_Seq0002.nd2 (series 6)',\n",
       "  'c:1/3 t:59/192 - WellC10_ChannelAF488,AF555,TD_Seq0002.nd2 (series 6)',\n",
       "  'c:2/3 t:59/192 - WellC10_ChannelAF488,AF555,TD_Seq0002.nd2 (series 6)',\n",
       "  'c:3/3 t:59/192 - WellC10_ChannelAF488,AF555,TD_Seq0002.nd2 (series 6)',\n",
       "  'c:1/3 t:60/192 - WellC10_ChannelAF488,AF555,TD_Seq0002.nd2 (series 6)',\n",
       "  'c:2/3 t:60/192 - WellC10_ChannelAF488,AF555,TD_Seq0002.nd2 (series 6)',\n",
       "  'c:3/3 t:60/192 - WellC10_ChannelAF488,AF555,TD_Seq0002.nd2 (series 6)',\n",
       "  'c:1/3 t:61/192 - WellC10_ChannelAF488,AF555,TD_Seq0002.nd2 (series 6)',\n",
       "  'c:2/3 t:61/192 - WellC10_ChannelAF488,AF555,TD_Seq0002.nd2 (series 6)',\n",
       "  'c:3/3 t:61/192 - WellC10_ChannelAF488,AF555,TD_Seq0002.nd2 (series 6)',\n",
       "  'c:1/3 t:62/192 - WellC10_ChannelAF488,AF555,TD_Seq0002.nd2 (series 6)',\n",
       "  'c:2/3 t:62/192 - WellC10_ChannelAF488,AF555,TD_Seq0002.nd2 (series 6)',\n",
       "  'c:3/3 t:62/192 - WellC10_ChannelAF488,AF555,TD_Seq0002.nd2 (series 6)',\n",
       "  'c:1/3 t:63/192 - WellC10_ChannelAF488,AF555,TD_Seq0002.nd2 (series 6)',\n",
       "  'c:2/3 t:63/192 - WellC10_ChannelAF488,AF555,TD_Seq0002.nd2 (series 6)',\n",
       "  'c:3/3 t:63/192 - WellC10_ChannelAF488,AF555,TD_Seq0002.nd2 (series 6)',\n",
       "  'c:1/3 t:64/192 - WellC10_ChannelAF488,AF555,TD_Seq0002.nd2 (series 6)',\n",
       "  'c:2/3 t:64/192 - WellC10_ChannelAF488,AF555,TD_Seq0002.nd2 (series 6)',\n",
       "  'c:3/3 t:64/192 - WellC10_ChannelAF488,AF555,TD_Seq0002.nd2 (series 6)',\n",
       "  'c:1/3 t:65/192 - WellC10_ChannelAF488,AF555,TD_Seq0002.nd2 (series 6)',\n",
       "  'c:2/3 t:65/192 - WellC10_ChannelAF488,AF555,TD_Seq0002.nd2 (series 6)',\n",
       "  'c:3/3 t:65/192 - WellC10_ChannelAF488,AF555,TD_Seq0002.nd2 (series 6)',\n",
       "  'c:1/3 t:66/192 - WellC10_ChannelAF488,AF555,TD_Seq0002.nd2 (series 6)',\n",
       "  'c:2/3 t:66/192 - WellC10_ChannelAF488,AF555,TD_Seq0002.nd2 (series 6)',\n",
       "  'c:3/3 t:66/192 - WellC10_ChannelAF488,AF555,TD_Seq0002.nd2 (series 6)',\n",
       "  'c:1/3 t:67/192 - WellC10_ChannelAF488,AF555,TD_Seq0002.nd2 (series 6)',\n",
       "  'c:2/3 t:67/192 - WellC10_ChannelAF488,AF555,TD_Seq0002.nd2 (series 6)',\n",
       "  'c:3/3 t:67/192 - WellC10_ChannelAF488,AF555,TD_Seq0002.nd2 (series 6)',\n",
       "  'c:1/3 t:68/192 - WellC10_ChannelAF488,AF555,TD_Seq0002.nd2 (series 6)',\n",
       "  'c:2/3 t:68/192 - WellC10_ChannelAF488,AF555,TD_Seq0002.nd2 (series 6)',\n",
       "  'c:3/3 t:68/192 - WellC10_ChannelAF488,AF555,TD_Seq0002.nd2 (series 6)',\n",
       "  'c:1/3 t:69/192 - WellC10_ChannelAF488,AF555,TD_Seq0002.nd2 (series 6)',\n",
       "  'c:2/3 t:69/192 - WellC10_ChannelAF488,AF555,TD_Seq0002.nd2 (series 6)',\n",
       "  'c:3/3 t:69/192 - WellC10_ChannelAF488,AF555,TD_Seq0002.nd2 (series 6)',\n",
       "  'c:1/3 t:70/192 - WellC10_ChannelAF488,AF555,TD_Seq0002.nd2 (series 6)',\n",
       "  'c:2/3 t:70/192 - WellC10_ChannelAF488,AF555,TD_Seq0002.nd2 (series 6)',\n",
       "  'c:3/3 t:70/192 - WellC10_ChannelAF488,AF555,TD_Seq0002.nd2 (series 6)',\n",
       "  'c:1/3 t:71/192 - WellC10_ChannelAF488,AF555,TD_Seq0002.nd2 (series 6)',\n",
       "  'c:2/3 t:71/192 - WellC10_ChannelAF488,AF555,TD_Seq0002.nd2 (series 6)',\n",
       "  'c:3/3 t:71/192 - WellC10_ChannelAF488,AF555,TD_Seq0002.nd2 (series 6)',\n",
       "  'c:1/3 t:72/192 - WellC10_ChannelAF488,AF555,TD_Seq0002.nd2 (series 6)',\n",
       "  'c:2/3 t:72/192 - WellC10_ChannelAF488,AF555,TD_Seq0002.nd2 (series 6)',\n",
       "  'c:3/3 t:72/192 - WellC10_ChannelAF488,AF555,TD_Seq0002.nd2 (series 6)',\n",
       "  'c:1/3 t:73/192 - WellC10_ChannelAF488,AF555,TD_Seq0002.nd2 (series 6)',\n",
       "  'c:2/3 t:73/192 - WellC10_ChannelAF488,AF555,TD_Seq0002.nd2 (series 6)',\n",
       "  'c:3/3 t:73/192 - WellC10_ChannelAF488,AF555,TD_Seq0002.nd2 (series 6)',\n",
       "  'c:1/3 t:74/192 - WellC10_ChannelAF488,AF555,TD_Seq0002.nd2 (series 6)',\n",
       "  'c:2/3 t:74/192 - WellC10_ChannelAF488,AF555,TD_Seq0002.nd2 (series 6)',\n",
       "  'c:3/3 t:74/192 - WellC10_ChannelAF488,AF555,TD_Seq0002.nd2 (series 6)',\n",
       "  'c:1/3 t:75/192 - WellC10_ChannelAF488,AF555,TD_Seq0002.nd2 (series 6)',\n",
       "  'c:2/3 t:75/192 - WellC10_ChannelAF488,AF555,TD_Seq0002.nd2 (series 6)',\n",
       "  'c:3/3 t:75/192 - WellC10_ChannelAF488,AF555,TD_Seq0002.nd2 (series 6)',\n",
       "  'c:1/3 t:76/192 - WellC10_ChannelAF488,AF555,TD_Seq0002.nd2 (series 6)',\n",
       "  'c:2/3 t:76/192 - WellC10_ChannelAF488,AF555,TD_Seq0002.nd2 (series 6)',\n",
       "  'c:3/3 t:76/192 - WellC10_ChannelAF488,AF555,TD_Seq0002.nd2 (series 6)',\n",
       "  'c:1/3 t:77/192 - WellC10_ChannelAF488,AF555,TD_Seq0002.nd2 (series 6)',\n",
       "  'c:2/3 t:77/192 - WellC10_ChannelAF488,AF555,TD_Seq0002.nd2 (series 6)',\n",
       "  'c:3/3 t:77/192 - WellC10_ChannelAF488,AF555,TD_Seq0002.nd2 (series 6)',\n",
       "  'c:1/3 t:78/192 - WellC10_ChannelAF488,AF555,TD_Seq0002.nd2 (series 6)',\n",
       "  'c:2/3 t:78/192 - WellC10_ChannelAF488,AF555,TD_Seq0002.nd2 (series 6)',\n",
       "  'c:3/3 t:78/192 - WellC10_ChannelAF488,AF555,TD_Seq0002.nd2 (series 6)',\n",
       "  'c:1/3 t:79/192 - WellC10_ChannelAF488,AF555,TD_Seq0002.nd2 (series 6)',\n",
       "  'c:2/3 t:79/192 - WellC10_ChannelAF488,AF555,TD_Seq0002.nd2 (series 6)',\n",
       "  'c:3/3 t:79/192 - WellC10_ChannelAF488,AF555,TD_Seq0002.nd2 (series 6)',\n",
       "  'c:1/3 t:80/192 - WellC10_ChannelAF488,AF555,TD_Seq0002.nd2 (series 6)',\n",
       "  'c:2/3 t:80/192 - WellC10_ChannelAF488,AF555,TD_Seq0002.nd2 (series 6)',\n",
       "  'c:3/3 t:80/192 - WellC10_ChannelAF488,AF555,TD_Seq0002.nd2 (series 6)',\n",
       "  'c:1/3 t:81/192 - WellC10_ChannelAF488,AF555,TD_Seq0002.nd2 (series 6)',\n",
       "  'c:2/3 t:81/192 - WellC10_ChannelAF488,AF555,TD_Seq0002.nd2 (series 6)',\n",
       "  'c:3/3 t:81/192 - WellC10_ChannelAF488,AF555,TD_Seq0002.nd2 (series 6)',\n",
       "  'c:1/3 t:82/192 - WellC10_ChannelAF488,AF555,TD_Seq0002.nd2 (series 6)',\n",
       "  'c:2/3 t:82/192 - WellC10_ChannelAF488,AF555,TD_Seq0002.nd2 (series 6)',\n",
       "  'c:3/3 t:82/192 - WellC10_ChannelAF488,AF555,TD_Seq0002.nd2 (series 6)',\n",
       "  'c:1/3 t:83/192 - WellC10_ChannelAF488,AF555,TD_Seq0002.nd2 (series 6)',\n",
       "  'c:2/3 t:83/192 - WellC10_ChannelAF488,AF555,TD_Seq0002.nd2 (series 6)',\n",
       "  'c:3/3 t:83/192 - WellC10_ChannelAF488,AF555,TD_Seq0002.nd2 (series 6)',\n",
       "  'c:1/3 t:84/192 - WellC10_ChannelAF488,AF555,TD_Seq0002.nd2 (series 6)',\n",
       "  'c:2/3 t:84/192 - WellC10_ChannelAF488,AF555,TD_Seq0002.nd2 (series 6)',\n",
       "  'c:3/3 t:84/192 - WellC10_ChannelAF488,AF555,TD_Seq0002.nd2 (series 6)',\n",
       "  'c:1/3 t:85/192 - WellC10_ChannelAF488,AF555,TD_Seq0002.nd2 (series 6)',\n",
       "  'c:2/3 t:85/192 - WellC10_ChannelAF488,AF555,TD_Seq0002.nd2 (series 6)',\n",
       "  'c:3/3 t:85/192 - WellC10_ChannelAF488,AF555,TD_Seq0002.nd2 (series 6)',\n",
       "  'c:1/3 t:86/192 - WellC10_ChannelAF488,AF555,TD_Seq0002.nd2 (series 6)',\n",
       "  'c:2/3 t:86/192 - WellC10_ChannelAF488,AF555,TD_Seq0002.nd2 (series 6)',\n",
       "  'c:3/3 t:86/192 - WellC10_ChannelAF488,AF555,TD_Seq0002.nd2 (series 6)',\n",
       "  'c:1/3 t:87/192 - WellC10_ChannelAF488,AF555,TD_Seq0002.nd2 (series 6)',\n",
       "  'c:2/3 t:87/192 - WellC10_ChannelAF488,AF555,TD_Seq0002.nd2 (series 6)',\n",
       "  'c:3/3 t:87/192 - WellC10_ChannelAF488,AF555,TD_Seq0002.nd2 (series 6)',\n",
       "  'c:1/3 t:88/192 - WellC10_ChannelAF488,AF555,TD_Seq0002.nd2 (series 6)',\n",
       "  'c:2/3 t:88/192 - WellC10_ChannelAF488,AF555,TD_Seq0002.nd2 (series 6)',\n",
       "  'c:3/3 t:88/192 - WellC10_ChannelAF488,AF555,TD_Seq0002.nd2 (series 6)',\n",
       "  'c:1/3 t:89/192 - WellC10_ChannelAF488,AF555,TD_Seq0002.nd2 (series 6)',\n",
       "  'c:2/3 t:89/192 - WellC10_ChannelAF488,AF555,TD_Seq0002.nd2 (series 6)',\n",
       "  'c:3/3 t:89/192 - WellC10_ChannelAF488,AF555,TD_Seq0002.nd2 (series 6)',\n",
       "  'c:1/3 t:90/192 - WellC10_ChannelAF488,AF555,TD_Seq0002.nd2 (series 6)',\n",
       "  'c:2/3 t:90/192 - WellC10_ChannelAF488,AF555,TD_Seq0002.nd2 (series 6)',\n",
       "  'c:3/3 t:90/192 - WellC10_ChannelAF488,AF555,TD_Seq0002.nd2 (series 6)',\n",
       "  'c:1/3 t:91/192 - WellC10_ChannelAF488,AF555,TD_Seq0002.nd2 (series 6)',\n",
       "  'c:2/3 t:91/192 - WellC10_ChannelAF488,AF555,TD_Seq0002.nd2 (series 6)',\n",
       "  'c:3/3 t:91/192 - WellC10_ChannelAF488,AF555,TD_Seq0002.nd2 (series 6)',\n",
       "  'c:1/3 t:92/192 - WellC10_ChannelAF488,AF555,TD_Seq0002.nd2 (series 6)',\n",
       "  'c:2/3 t:92/192 - WellC10_ChannelAF488,AF555,TD_Seq0002.nd2 (series 6)',\n",
       "  'c:3/3 t:92/192 - WellC10_ChannelAF488,AF555,TD_Seq0002.nd2 (series 6)',\n",
       "  'c:1/3 t:93/192 - WellC10_ChannelAF488,AF555,TD_Seq0002.nd2 (series 6)',\n",
       "  'c:2/3 t:93/192 - WellC10_ChannelAF488,AF555,TD_Seq0002.nd2 (series 6)',\n",
       "  'c:3/3 t:93/192 - WellC10_ChannelAF488,AF555,TD_Seq0002.nd2 (series 6)',\n",
       "  'c:1/3 t:94/192 - WellC10_ChannelAF488,AF555,TD_Seq0002.nd2 (series 6)',\n",
       "  'c:2/3 t:94/192 - WellC10_ChannelAF488,AF555,TD_Seq0002.nd2 (series 6)',\n",
       "  'c:3/3 t:94/192 - WellC10_ChannelAF488,AF555,TD_Seq0002.nd2 (series 6)',\n",
       "  'c:1/3 t:95/192 - WellC10_ChannelAF488,AF555,TD_Seq0002.nd2 (series 6)',\n",
       "  'c:2/3 t:95/192 - WellC10_ChannelAF488,AF555,TD_Seq0002.nd2 (series 6)',\n",
       "  'c:3/3 t:95/192 - WellC10_ChannelAF488,AF555,TD_Seq0002.nd2 (series 6)',\n",
       "  'c:1/3 t:96/192 - WellC10_ChannelAF488,AF555,TD_Seq0002.nd2 (series 6)',\n",
       "  'c:2/3 t:96/192 - WellC10_ChannelAF488,AF555,TD_Seq0002.nd2 (series 6)',\n",
       "  'c:3/3 t:96/192 - WellC10_ChannelAF488,AF555,TD_Seq0002.nd2 (series 6)',\n",
       "  'c:1/3 t:97/192 - WellC10_ChannelAF488,AF555,TD_Seq0002.nd2 (series 6)',\n",
       "  'c:2/3 t:97/192 - WellC10_ChannelAF488,AF555,TD_Seq0002.nd2 (series 6)',\n",
       "  'c:3/3 t:97/192 - WellC10_ChannelAF488,AF555,TD_Seq0002.nd2 (series 6)',\n",
       "  'c:1/3 t:98/192 - WellC10_ChannelAF488,AF555,TD_Seq0002.nd2 (series 6)',\n",
       "  'c:2/3 t:98/192 - WellC10_ChannelAF488,AF555,TD_Seq0002.nd2 (series 6)',\n",
       "  'c:3/3 t:98/192 - WellC10_ChannelAF488,AF555,TD_Seq0002.nd2 (series 6)',\n",
       "  'c:1/3 t:99/192 - WellC10_ChannelAF488,AF555,TD_Seq0002.nd2 (series 6)',\n",
       "  'c:2/3 t:99/192 - WellC10_ChannelAF488,AF555,TD_Seq0002.nd2 (series 6)',\n",
       "  'c:3/3 t:99/192 - WellC10_ChannelAF488,AF555,TD_Seq0002.nd2 (series 6)',\n",
       "  'c:1/3 t:100/192 - WellC10_ChannelAF488,AF555,TD_Seq0002.nd2 (series 6)',\n",
       "  'c:2/3 t:100/192 - WellC10_ChannelAF488,AF555,TD_Seq0002.nd2 (series 6)',\n",
       "  'c:3/3 t:100/192 - WellC10_ChannelAF488,AF555,TD_Seq0002.nd2 (series 6)',\n",
       "  'c:1/3 t:101/192 - WellC10_ChannelAF488,AF555,TD_Seq0002.nd2 (series 6)',\n",
       "  'c:2/3 t:101/192 - WellC10_ChannelAF488,AF555,TD_Seq0002.nd2 (series 6)',\n",
       "  'c:3/3 t:101/192 - WellC10_ChannelAF488,AF555,TD_Seq0002.nd2 (series 6)',\n",
       "  'c:1/3 t:102/192 - WellC10_ChannelAF488,AF555,TD_Seq0002.nd2 (series 6)',\n",
       "  'c:2/3 t:102/192 - WellC10_ChannelAF488,AF555,TD_Seq0002.nd2 (series 6)',\n",
       "  'c:3/3 t:102/192 - WellC10_ChannelAF488,AF555,TD_Seq0002.nd2 (series 6)',\n",
       "  'c:1/3 t:103/192 - WellC10_ChannelAF488,AF555,TD_Seq0002.nd2 (series 6)',\n",
       "  'c:2/3 t:103/192 - WellC10_ChannelAF488,AF555,TD_Seq0002.nd2 (series 6)',\n",
       "  'c:3/3 t:103/192 - WellC10_ChannelAF488,AF555,TD_Seq0002.nd2 (series 6)',\n",
       "  'c:1/3 t:104/192 - WellC10_ChannelAF488,AF555,TD_Seq0002.nd2 (series 6)',\n",
       "  'c:2/3 t:104/192 - WellC10_ChannelAF488,AF555,TD_Seq0002.nd2 (series 6)',\n",
       "  'c:3/3 t:104/192 - WellC10_ChannelAF488,AF555,TD_Seq0002.nd2 (series 6)',\n",
       "  'c:1/3 t:105/192 - WellC10_ChannelAF488,AF555,TD_Seq0002.nd2 (series 6)',\n",
       "  'c:2/3 t:105/192 - WellC10_ChannelAF488,AF555,TD_Seq0002.nd2 (series 6)',\n",
       "  'c:3/3 t:105/192 - WellC10_ChannelAF488,AF555,TD_Seq0002.nd2 (series 6)',\n",
       "  'c:1/3 t:106/192 - WellC10_ChannelAF488,AF555,TD_Seq0002.nd2 (series 6)',\n",
       "  'c:2/3 t:106/192 - WellC10_ChannelAF488,AF555,TD_Seq0002.nd2 (series 6)',\n",
       "  'c:3/3 t:106/192 - WellC10_ChannelAF488,AF555,TD_Seq0002.nd2 (series 6)',\n",
       "  'c:1/3 t:107/192 - WellC10_ChannelAF488,AF555,TD_Seq0002.nd2 (series 6)',\n",
       "  'c:2/3 t:107/192 - WellC10_ChannelAF488,AF555,TD_Seq0002.nd2 (series 6)',\n",
       "  'c:3/3 t:107/192 - WellC10_ChannelAF488,AF555,TD_Seq0002.nd2 (series 6)',\n",
       "  'c:1/3 t:108/192 - WellC10_ChannelAF488,AF555,TD_Seq0002.nd2 (series 6)',\n",
       "  'c:2/3 t:108/192 - WellC10_ChannelAF488,AF555,TD_Seq0002.nd2 (series 6)',\n",
       "  'c:3/3 t:108/192 - WellC10_ChannelAF488,AF555,TD_Seq0002.nd2 (series 6)',\n",
       "  'c:1/3 t:109/192 - WellC10_ChannelAF488,AF555,TD_Seq0002.nd2 (series 6)',\n",
       "  'c:2/3 t:109/192 - WellC10_ChannelAF488,AF555,TD_Seq0002.nd2 (series 6)',\n",
       "  'c:3/3 t:109/192 - WellC10_ChannelAF488,AF555,TD_Seq0002.nd2 (series 6)',\n",
       "  'c:1/3 t:110/192 - WellC10_ChannelAF488,AF555,TD_Seq0002.nd2 (series 6)',\n",
       "  'c:2/3 t:110/192 - WellC10_ChannelAF488,AF555,TD_Seq0002.nd2 (series 6)',\n",
       "  'c:3/3 t:110/192 - WellC10_ChannelAF488,AF555,TD_Seq0002.nd2 (series 6)',\n",
       "  'c:1/3 t:111/192 - WellC10_ChannelAF488,AF555,TD_Seq0002.nd2 (series 6)',\n",
       "  'c:2/3 t:111/192 - WellC10_ChannelAF488,AF555,TD_Seq0002.nd2 (series 6)',\n",
       "  'c:3/3 t:111/192 - WellC10_ChannelAF488,AF555,TD_Seq0002.nd2 (series 6)',\n",
       "  'c:1/3 t:112/192 - WellC10_ChannelAF488,AF555,TD_Seq0002.nd2 (series 6)',\n",
       "  'c:2/3 t:112/192 - WellC10_ChannelAF488,AF555,TD_Seq0002.nd2 (series 6)',\n",
       "  'c:3/3 t:112/192 - WellC10_ChannelAF488,AF555,TD_Seq0002.nd2 (series 6)',\n",
       "  'c:1/3 t:113/192 - WellC10_ChannelAF488,AF555,TD_Seq0002.nd2 (series 6)',\n",
       "  'c:2/3 t:113/192 - WellC10_ChannelAF488,AF555,TD_Seq0002.nd2 (series 6)',\n",
       "  'c:3/3 t:113/192 - WellC10_ChannelAF488,AF555,TD_Seq0002.nd2 (series 6)',\n",
       "  'c:1/3 t:114/192 - WellC10_ChannelAF488,AF555,TD_Seq0002.nd2 (series 6)',\n",
       "  'c:2/3 t:114/192 - WellC10_ChannelAF488,AF555,TD_Seq0002.nd2 (series 6)',\n",
       "  'c:3/3 t:114/192 - WellC10_ChannelAF488,AF555,TD_Seq0002.nd2 (series 6)',\n",
       "  'c:1/3 t:115/192 - WellC10_ChannelAF488,AF555,TD_Seq0002.nd2 (series 6)',\n",
       "  'c:2/3 t:115/192 - WellC10_ChannelAF488,AF555,TD_Seq0002.nd2 (series 6)',\n",
       "  'c:3/3 t:115/192 - WellC10_ChannelAF488,AF555,TD_Seq0002.nd2 (series 6)',\n",
       "  'c:1/3 t:116/192 - WellC10_ChannelAF488,AF555,TD_Seq0002.nd2 (series 6)',\n",
       "  'c:2/3 t:116/192 - WellC10_ChannelAF488,AF555,TD_Seq0002.nd2 (series 6)',\n",
       "  'c:3/3 t:116/192 - WellC10_ChannelAF488,AF555,TD_Seq0002.nd2 (series 6)',\n",
       "  'c:1/3 t:117/192 - WellC10_ChannelAF488,AF555,TD_Seq0002.nd2 (series 6)',\n",
       "  'c:2/3 t:117/192 - WellC10_ChannelAF488,AF555,TD_Seq0002.nd2 (series 6)',\n",
       "  'c:3/3 t:117/192 - WellC10_ChannelAF488,AF555,TD_Seq0002.nd2 (series 6)',\n",
       "  'c:1/3 t:118/192 - WellC10_ChannelAF488,AF555,TD_Seq0002.nd2 (series 6)',\n",
       "  'c:2/3 t:118/192 - WellC10_ChannelAF488,AF555,TD_Seq0002.nd2 (series 6)',\n",
       "  'c:3/3 t:118/192 - WellC10_ChannelAF488,AF555,TD_Seq0002.nd2 (series 6)',\n",
       "  'c:1/3 t:119/192 - WellC10_ChannelAF488,AF555,TD_Seq0002.nd2 (series 6)',\n",
       "  'c:2/3 t:119/192 - WellC10_ChannelAF488,AF555,TD_Seq0002.nd2 (series 6)',\n",
       "  'c:3/3 t:119/192 - WellC10_ChannelAF488,AF555,TD_Seq0002.nd2 (series 6)',\n",
       "  'c:1/3 t:120/192 - WellC10_ChannelAF488,AF555,TD_Seq0002.nd2 (series 6)',\n",
       "  'c:2/3 t:120/192 - WellC10_ChannelAF488,AF555,TD_Seq0002.nd2 (series 6)',\n",
       "  'c:3/3 t:120/192 - WellC10_ChannelAF488,AF555,TD_Seq0002.nd2 (series 6)',\n",
       "  'c:1/3 t:121/192 - WellC10_ChannelAF488,AF555,TD_Seq0002.nd2 (series 6)',\n",
       "  'c:2/3 t:121/192 - WellC10_ChannelAF488,AF555,TD_Seq0002.nd2 (series 6)',\n",
       "  'c:3/3 t:121/192 - WellC10_ChannelAF488,AF555,TD_Seq0002.nd2 (series 6)',\n",
       "  'c:1/3 t:122/192 - WellC10_ChannelAF488,AF555,TD_Seq0002.nd2 (series 6)',\n",
       "  'c:2/3 t:122/192 - WellC10_ChannelAF488,AF555,TD_Seq0002.nd2 (series 6)',\n",
       "  'c:3/3 t:122/192 - WellC10_ChannelAF488,AF555,TD_Seq0002.nd2 (series 6)',\n",
       "  'c:1/3 t:123/192 - WellC10_ChannelAF488,AF555,TD_Seq0002.nd2 (series 6)',\n",
       "  'c:2/3 t:123/192 - WellC10_ChannelAF488,AF555,TD_Seq0002.nd2 (series 6)',\n",
       "  'c:3/3 t:123/192 - WellC10_ChannelAF488,AF555,TD_Seq0002.nd2 (series 6)',\n",
       "  'c:1/3 t:124/192 - WellC10_ChannelAF488,AF555,TD_Seq0002.nd2 (series 6)',\n",
       "  'c:2/3 t:124/192 - WellC10_ChannelAF488,AF555,TD_Seq0002.nd2 (series 6)',\n",
       "  'c:3/3 t:124/192 - WellC10_ChannelAF488,AF555,TD_Seq0002.nd2 (series 6)',\n",
       "  'c:1/3 t:125/192 - WellC10_ChannelAF488,AF555,TD_Seq0002.nd2 (series 6)',\n",
       "  'c:2/3 t:125/192 - WellC10_ChannelAF488,AF555,TD_Seq0002.nd2 (series 6)',\n",
       "  'c:3/3 t:125/192 - WellC10_ChannelAF488,AF555,TD_Seq0002.nd2 (series 6)',\n",
       "  'c:1/3 t:126/192 - WellC10_ChannelAF488,AF555,TD_Seq0002.nd2 (series 6)',\n",
       "  'c:2/3 t:126/192 - WellC10_ChannelAF488,AF555,TD_Seq0002.nd2 (series 6)',\n",
       "  'c:3/3 t:126/192 - WellC10_ChannelAF488,AF555,TD_Seq0002.nd2 (series 6)',\n",
       "  'c:1/3 t:127/192 - WellC10_ChannelAF488,AF555,TD_Seq0002.nd2 (series 6)',\n",
       "  'c:2/3 t:127/192 - WellC10_ChannelAF488,AF555,TD_Seq0002.nd2 (series 6)',\n",
       "  'c:3/3 t:127/192 - WellC10_ChannelAF488,AF555,TD_Seq0002.nd2 (series 6)',\n",
       "  'c:1/3 t:128/192 - WellC10_ChannelAF488,AF555,TD_Seq0002.nd2 (series 6)',\n",
       "  'c:2/3 t:128/192 - WellC10_ChannelAF488,AF555,TD_Seq0002.nd2 (series 6)',\n",
       "  'c:3/3 t:128/192 - WellC10_ChannelAF488,AF555,TD_Seq0002.nd2 (series 6)',\n",
       "  'c:1/3 t:129/192 - WellC10_ChannelAF488,AF555,TD_Seq0002.nd2 (series 6)',\n",
       "  'c:2/3 t:129/192 - WellC10_ChannelAF488,AF555,TD_Seq0002.nd2 (series 6)',\n",
       "  'c:3/3 t:129/192 - WellC10_ChannelAF488,AF555,TD_Seq0002.nd2 (series 6)',\n",
       "  'c:1/3 t:130/192 - WellC10_ChannelAF488,AF555,TD_Seq0002.nd2 (series 6)',\n",
       "  'c:2/3 t:130/192 - WellC10_ChannelAF488,AF555,TD_Seq0002.nd2 (series 6)',\n",
       "  'c:3/3 t:130/192 - WellC10_ChannelAF488,AF555,TD_Seq0002.nd2 (series 6)',\n",
       "  'c:1/3 t:131/192 - WellC10_ChannelAF488,AF555,TD_Seq0002.nd2 (series 6)',\n",
       "  'c:2/3 t:131/192 - WellC10_ChannelAF488,AF555,TD_Seq0002.nd2 (series 6)',\n",
       "  'c:3/3 t:131/192 - WellC10_ChannelAF488,AF555,TD_Seq0002.nd2 (series 6)',\n",
       "  'c:1/3 t:132/192 - WellC10_ChannelAF488,AF555,TD_Seq0002.nd2 (series 6)',\n",
       "  'c:2/3 t:132/192 - WellC10_ChannelAF488,AF555,TD_Seq0002.nd2 (series 6)',\n",
       "  'c:3/3 t:132/192 - WellC10_ChannelAF488,AF555,TD_Seq0002.nd2 (series 6)',\n",
       "  'c:1/3 t:133/192 - WellC10_ChannelAF488,AF555,TD_Seq0002.nd2 (series 6)',\n",
       "  'c:2/3 t:133/192 - WellC10_ChannelAF488,AF555,TD_Seq0002.nd2 (series 6)',\n",
       "  'c:3/3 t:133/192 - WellC10_ChannelAF488,AF555,TD_Seq0002.nd2 (series 6)',\n",
       "  'c:1/3 t:134/192 - WellC10_ChannelAF488,AF555,TD_Seq0002.nd2 (series 6)',\n",
       "  'c:2/3 t:134/192 - WellC10_ChannelAF488,AF555,TD_Seq0002.nd2 (series 6)',\n",
       "  'c:3/3 t:134/192 - WellC10_ChannelAF488,AF555,TD_Seq0002.nd2 (series 6)',\n",
       "  'c:1/3 t:135/192 - WellC10_ChannelAF488,AF555,TD_Seq0002.nd2 (series 6)',\n",
       "  'c:2/3 t:135/192 - WellC10_ChannelAF488,AF555,TD_Seq0002.nd2 (series 6)',\n",
       "  'c:3/3 t:135/192 - WellC10_ChannelAF488,AF555,TD_Seq0002.nd2 (series 6)',\n",
       "  'c:1/3 t:136/192 - WellC10_ChannelAF488,AF555,TD_Seq0002.nd2 (series 6)',\n",
       "  'c:2/3 t:136/192 - WellC10_ChannelAF488,AF555,TD_Seq0002.nd2 (series 6)',\n",
       "  'c:3/3 t:136/192 - WellC10_ChannelAF488,AF555,TD_Seq0002.nd2 (series 6)',\n",
       "  'c:1/3 t:137/192 - WellC10_ChannelAF488,AF555,TD_Seq0002.nd2 (series 6)',\n",
       "  'c:2/3 t:137/192 - WellC10_ChannelAF488,AF555,TD_Seq0002.nd2 (series 6)',\n",
       "  'c:3/3 t:137/192 - WellC10_ChannelAF488,AF555,TD_Seq0002.nd2 (series 6)',\n",
       "  'c:1/3 t:138/192 - WellC10_ChannelAF488,AF555,TD_Seq0002.nd2 (series 6)',\n",
       "  'c:2/3 t:138/192 - WellC10_ChannelAF488,AF555,TD_Seq0002.nd2 (series 6)',\n",
       "  'c:3/3 t:138/192 - WellC10_ChannelAF488,AF555,TD_Seq0002.nd2 (series 6)',\n",
       "  'c:1/3 t:139/192 - WellC10_ChannelAF488,AF555,TD_Seq0002.nd2 (series 6)',\n",
       "  'c:2/3 t:139/192 - WellC10_ChannelAF488,AF555,TD_Seq0002.nd2 (series 6)',\n",
       "  'c:3/3 t:139/192 - WellC10_ChannelAF488,AF555,TD_Seq0002.nd2 (series 6)',\n",
       "  'c:1/3 t:140/192 - WellC10_ChannelAF488,AF555,TD_Seq0002.nd2 (series 6)',\n",
       "  'c:2/3 t:140/192 - WellC10_ChannelAF488,AF555,TD_Seq0002.nd2 (series 6)',\n",
       "  'c:3/3 t:140/192 - WellC10_ChannelAF488,AF555,TD_Seq0002.nd2 (series 6)',\n",
       "  'c:1/3 t:141/192 - WellC10_ChannelAF488,AF555,TD_Seq0002.nd2 (series 6)',\n",
       "  'c:2/3 t:141/192 - WellC10_ChannelAF488,AF555,TD_Seq0002.nd2 (series 6)',\n",
       "  'c:3/3 t:141/192 - WellC10_ChannelAF488,AF555,TD_Seq0002.nd2 (series 6)',\n",
       "  'c:1/3 t:142/192 - WellC10_ChannelAF488,AF555,TD_Seq0002.nd2 (series 6)',\n",
       "  'c:2/3 t:142/192 - WellC10_ChannelAF488,AF555,TD_Seq0002.nd2 (series 6)',\n",
       "  'c:3/3 t:142/192 - WellC10_ChannelAF488,AF555,TD_Seq0002.nd2 (series 6)',\n",
       "  'c:1/3 t:143/192 - WellC10_ChannelAF488,AF555,TD_Seq0002.nd2 (series 6)',\n",
       "  'c:2/3 t:143/192 - WellC10_ChannelAF488,AF555,TD_Seq0002.nd2 (series 6)',\n",
       "  'c:3/3 t:143/192 - WellC10_ChannelAF488,AF555,TD_Seq0002.nd2 (series 6)',\n",
       "  'c:1/3 t:144/192 - WellC10_ChannelAF488,AF555,TD_Seq0002.nd2 (series 6)',\n",
       "  'c:2/3 t:144/192 - WellC10_ChannelAF488,AF555,TD_Seq0002.nd2 (series 6)',\n",
       "  'c:3/3 t:144/192 - WellC10_ChannelAF488,AF555,TD_Seq0002.nd2 (series 6)',\n",
       "  'c:1/3 t:145/192 - WellC10_ChannelAF488,AF555,TD_Seq0002.nd2 (series 6)',\n",
       "  'c:2/3 t:145/192 - WellC10_ChannelAF488,AF555,TD_Seq0002.nd2 (series 6)',\n",
       "  'c:3/3 t:145/192 - WellC10_ChannelAF488,AF555,TD_Seq0002.nd2 (series 6)',\n",
       "  'c:1/3 t:146/192 - WellC10_ChannelAF488,AF555,TD_Seq0002.nd2 (series 6)',\n",
       "  'c:2/3 t:146/192 - WellC10_ChannelAF488,AF555,TD_Seq0002.nd2 (series 6)',\n",
       "  'c:3/3 t:146/192 - WellC10_ChannelAF488,AF555,TD_Seq0002.nd2 (series 6)',\n",
       "  'c:1/3 t:147/192 - WellC10_ChannelAF488,AF555,TD_Seq0002.nd2 (series 6)',\n",
       "  'c:2/3 t:147/192 - WellC10_ChannelAF488,AF555,TD_Seq0002.nd2 (series 6)',\n",
       "  'c:3/3 t:147/192 - WellC10_ChannelAF488,AF555,TD_Seq0002.nd2 (series 6)',\n",
       "  'c:1/3 t:148/192 - WellC10_ChannelAF488,AF555,TD_Seq0002.nd2 (series 6)',\n",
       "  'c:2/3 t:148/192 - WellC10_ChannelAF488,AF555,TD_Seq0002.nd2 (series 6)',\n",
       "  'c:3/3 t:148/192 - WellC10_ChannelAF488,AF555,TD_Seq0002.nd2 (series 6)',\n",
       "  'c:1/3 t:149/192 - WellC10_ChannelAF488,AF555,TD_Seq0002.nd2 (series 6)',\n",
       "  'c:2/3 t:149/192 - WellC10_ChannelAF488,AF555,TD_Seq0002.nd2 (series 6)',\n",
       "  'c:3/3 t:149/192 - WellC10_ChannelAF488,AF555,TD_Seq0002.nd2 (series 6)',\n",
       "  'c:1/3 t:150/192 - WellC10_ChannelAF488,AF555,TD_Seq0002.nd2 (series 6)',\n",
       "  'c:2/3 t:150/192 - WellC10_ChannelAF488,AF555,TD_Seq0002.nd2 (series 6)',\n",
       "  'c:3/3 t:150/192 - WellC10_ChannelAF488,AF555,TD_Seq0002.nd2 (series 6)',\n",
       "  'c:1/3 t:151/192 - WellC10_ChannelAF488,AF555,TD_Seq0002.nd2 (series 6)',\n",
       "  'c:2/3 t:151/192 - WellC10_ChannelAF488,AF555,TD_Seq0002.nd2 (series 6)',\n",
       "  'c:3/3 t:151/192 - WellC10_ChannelAF488,AF555,TD_Seq0002.nd2 (series 6)',\n",
       "  'c:1/3 t:152/192 - WellC10_ChannelAF488,AF555,TD_Seq0002.nd2 (series 6)',\n",
       "  'c:2/3 t:152/192 - WellC10_ChannelAF488,AF555,TD_Seq0002.nd2 (series 6)',\n",
       "  'c:3/3 t:152/192 - WellC10_ChannelAF488,AF555,TD_Seq0002.nd2 (series 6)',\n",
       "  'c:1/3 t:153/192 - WellC10_ChannelAF488,AF555,TD_Seq0002.nd2 (series 6)',\n",
       "  'c:2/3 t:153/192 - WellC10_ChannelAF488,AF555,TD_Seq0002.nd2 (series 6)',\n",
       "  'c:3/3 t:153/192 - WellC10_ChannelAF488,AF555,TD_Seq0002.nd2 (series 6)',\n",
       "  'c:1/3 t:154/192 - WellC10_ChannelAF488,AF555,TD_Seq0002.nd2 (series 6)',\n",
       "  'c:2/3 t:154/192 - WellC10_ChannelAF488,AF555,TD_Seq0002.nd2 (series 6)',\n",
       "  'c:3/3 t:154/192 - WellC10_ChannelAF488,AF555,TD_Seq0002.nd2 (series 6)',\n",
       "  'c:1/3 t:155/192 - WellC10_ChannelAF488,AF555,TD_Seq0002.nd2 (series 6)',\n",
       "  'c:2/3 t:155/192 - WellC10_ChannelAF488,AF555,TD_Seq0002.nd2 (series 6)',\n",
       "  'c:3/3 t:155/192 - WellC10_ChannelAF488,AF555,TD_Seq0002.nd2 (series 6)',\n",
       "  'c:1/3 t:156/192 - WellC10_ChannelAF488,AF555,TD_Seq0002.nd2 (series 6)',\n",
       "  'c:2/3 t:156/192 - WellC10_ChannelAF488,AF555,TD_Seq0002.nd2 (series 6)',\n",
       "  'c:3/3 t:156/192 - WellC10_ChannelAF488,AF555,TD_Seq0002.nd2 (series 6)',\n",
       "  'c:1/3 t:157/192 - WellC10_ChannelAF488,AF555,TD_Seq0002.nd2 (series 6)',\n",
       "  'c:2/3 t:157/192 - WellC10_ChannelAF488,AF555,TD_Seq0002.nd2 (series 6)',\n",
       "  'c:3/3 t:157/192 - WellC10_ChannelAF488,AF555,TD_Seq0002.nd2 (series 6)',\n",
       "  'c:1/3 t:158/192 - WellC10_ChannelAF488,AF555,TD_Seq0002.nd2 (series 6)',\n",
       "  'c:2/3 t:158/192 - WellC10_ChannelAF488,AF555,TD_Seq0002.nd2 (series 6)',\n",
       "  'c:3/3 t:158/192 - WellC10_ChannelAF488,AF555,TD_Seq0002.nd2 (series 6)',\n",
       "  'c:1/3 t:159/192 - WellC10_ChannelAF488,AF555,TD_Seq0002.nd2 (series 6)',\n",
       "  'c:2/3 t:159/192 - WellC10_ChannelAF488,AF555,TD_Seq0002.nd2 (series 6)',\n",
       "  'c:3/3 t:159/192 - WellC10_ChannelAF488,AF555,TD_Seq0002.nd2 (series 6)',\n",
       "  'c:1/3 t:160/192 - WellC10_ChannelAF488,AF555,TD_Seq0002.nd2 (series 6)',\n",
       "  'c:2/3 t:160/192 - WellC10_ChannelAF488,AF555,TD_Seq0002.nd2 (series 6)',\n",
       "  'c:3/3 t:160/192 - WellC10_ChannelAF488,AF555,TD_Seq0002.nd2 (series 6)',\n",
       "  'c:1/3 t:161/192 - WellC10_ChannelAF488,AF555,TD_Seq0002.nd2 (series 6)',\n",
       "  'c:2/3 t:161/192 - WellC10_ChannelAF488,AF555,TD_Seq0002.nd2 (series 6)',\n",
       "  'c:3/3 t:161/192 - WellC10_ChannelAF488,AF555,TD_Seq0002.nd2 (series 6)',\n",
       "  'c:1/3 t:162/192 - WellC10_ChannelAF488,AF555,TD_Seq0002.nd2 (series 6)',\n",
       "  'c:2/3 t:162/192 - WellC10_ChannelAF488,AF555,TD_Seq0002.nd2 (series 6)',\n",
       "  'c:3/3 t:162/192 - WellC10_ChannelAF488,AF555,TD_Seq0002.nd2 (series 6)',\n",
       "  'c:1/3 t:163/192 - WellC10_ChannelAF488,AF555,TD_Seq0002.nd2 (series 6)',\n",
       "  'c:2/3 t:163/192 - WellC10_ChannelAF488,AF555,TD_Seq0002.nd2 (series 6)',\n",
       "  'c:3/3 t:163/192 - WellC10_ChannelAF488,AF555,TD_Seq0002.nd2 (series 6)',\n",
       "  'c:1/3 t:164/192 - WellC10_ChannelAF488,AF555,TD_Seq0002.nd2 (series 6)',\n",
       "  'c:2/3 t:164/192 - WellC10_ChannelAF488,AF555,TD_Seq0002.nd2 (series 6)',\n",
       "  'c:3/3 t:164/192 - WellC10_ChannelAF488,AF555,TD_Seq0002.nd2 (series 6)',\n",
       "  'c:1/3 t:165/192 - WellC10_ChannelAF488,AF555,TD_Seq0002.nd2 (series 6)',\n",
       "  'c:2/3 t:165/192 - WellC10_ChannelAF488,AF555,TD_Seq0002.nd2 (series 6)',\n",
       "  'c:3/3 t:165/192 - WellC10_ChannelAF488,AF555,TD_Seq0002.nd2 (series 6)',\n",
       "  'c:1/3 t:166/192 - WellC10_ChannelAF488,AF555,TD_Seq0002.nd2 (series 6)',\n",
       "  'c:2/3 t:166/192 - WellC10_ChannelAF488,AF555,TD_Seq0002.nd2 (series 6)',\n",
       "  'c:3/3 t:166/192 - WellC10_ChannelAF488,AF555,TD_Seq0002.nd2 (series 6)',\n",
       "  'c:1/3 t:167/192 - WellC10_ChannelAF488,AF555,TD_Seq0002.nd2 (series 6)',\n",
       "  'c:2/3 t:167/192 - WellC10_ChannelAF488,AF555,TD_Seq0002.nd2 (series 6)',\n",
       "  'c:3/3 t:167/192 - WellC10_ChannelAF488,AF555,TD_Seq0002.nd2 (series 6)',\n",
       "  'c:1/3 t:168/192 - WellC10_ChannelAF488,AF555,TD_Seq0002.nd2 (series 6)',\n",
       "  'c:2/3 t:168/192 - WellC10_ChannelAF488,AF555,TD_Seq0002.nd2 (series 6)',\n",
       "  'c:3/3 t:168/192 - WellC10_ChannelAF488,AF555,TD_Seq0002.nd2 (series 6)',\n",
       "  'c:1/3 t:169/192 - WellC10_ChannelAF488,AF555,TD_Seq0002.nd2 (series 6)',\n",
       "  'c:2/3 t:169/192 - WellC10_ChannelAF488,AF555,TD_Seq0002.nd2 (series 6)',\n",
       "  'c:3/3 t:169/192 - WellC10_ChannelAF488,AF555,TD_Seq0002.nd2 (series 6)',\n",
       "  'c:1/3 t:170/192 - WellC10_ChannelAF488,AF555,TD_Seq0002.nd2 (series 6)',\n",
       "  'c:2/3 t:170/192 - WellC10_ChannelAF488,AF555,TD_Seq0002.nd2 (series 6)',\n",
       "  'c:3/3 t:170/192 - WellC10_ChannelAF488,AF555,TD_Seq0002.nd2 (series 6)',\n",
       "  'c:1/3 t:171/192 - WellC10_ChannelAF488,AF555,TD_Seq0002.nd2 (series 6)',\n",
       "  'c:2/3 t:171/192 - WellC10_ChannelAF488,AF555,TD_Seq0002.nd2 (series 6)',\n",
       "  'c:3/3 t:171/192 - WellC10_ChannelAF488,AF555,TD_Seq0002.nd2 (series 6)',\n",
       "  'c:1/3 t:172/192 - WellC10_ChannelAF488,AF555,TD_Seq0002.nd2 (series 6)',\n",
       "  'c:2/3 t:172/192 - WellC10_ChannelAF488,AF555,TD_Seq0002.nd2 (series 6)',\n",
       "  'c:3/3 t:172/192 - WellC10_ChannelAF488,AF555,TD_Seq0002.nd2 (series 6)',\n",
       "  'c:1/3 t:173/192 - WellC10_ChannelAF488,AF555,TD_Seq0002.nd2 (series 6)',\n",
       "  'c:2/3 t:173/192 - WellC10_ChannelAF488,AF555,TD_Seq0002.nd2 (series 6)',\n",
       "  'c:3/3 t:173/192 - WellC10_ChannelAF488,AF555,TD_Seq0002.nd2 (series 6)',\n",
       "  'c:1/3 t:174/192 - WellC10_ChannelAF488,AF555,TD_Seq0002.nd2 (series 6)',\n",
       "  'c:2/3 t:174/192 - WellC10_ChannelAF488,AF555,TD_Seq0002.nd2 (series 6)',\n",
       "  'c:3/3 t:174/192 - WellC10_ChannelAF488,AF555,TD_Seq0002.nd2 (series 6)',\n",
       "  'c:1/3 t:175/192 - WellC10_ChannelAF488,AF555,TD_Seq0002.nd2 (series 6)',\n",
       "  'c:2/3 t:175/192 - WellC10_ChannelAF488,AF555,TD_Seq0002.nd2 (series 6)',\n",
       "  'c:3/3 t:175/192 - WellC10_ChannelAF488,AF555,TD_Seq0002.nd2 (series 6)',\n",
       "  'c:1/3 t:176/192 - WellC10_ChannelAF488,AF555,TD_Seq0002.nd2 (series 6)',\n",
       "  'c:2/3 t:176/192 - WellC10_ChannelAF488,AF555,TD_Seq0002.nd2 (series 6)',\n",
       "  'c:3/3 t:176/192 - WellC10_ChannelAF488,AF555,TD_Seq0002.nd2 (series 6)',\n",
       "  'c:1/3 t:177/192 - WellC10_ChannelAF488,AF555,TD_Seq0002.nd2 (series 6)',\n",
       "  'c:2/3 t:177/192 - WellC10_ChannelAF488,AF555,TD_Seq0002.nd2 (series 6)',\n",
       "  'c:3/3 t:177/192 - WellC10_ChannelAF488,AF555,TD_Seq0002.nd2 (series 6)',\n",
       "  'c:1/3 t:178/192 - WellC10_ChannelAF488,AF555,TD_Seq0002.nd2 (series 6)',\n",
       "  'c:2/3 t:178/192 - WellC10_ChannelAF488,AF555,TD_Seq0002.nd2 (series 6)',\n",
       "  'c:3/3 t:178/192 - WellC10_ChannelAF488,AF555,TD_Seq0002.nd2 (series 6)',\n",
       "  'c:1/3 t:179/192 - WellC10_ChannelAF488,AF555,TD_Seq0002.nd2 (series 6)',\n",
       "  'c:2/3 t:179/192 - WellC10_ChannelAF488,AF555,TD_Seq0002.nd2 (series 6)',\n",
       "  'c:3/3 t:179/192 - WellC10_ChannelAF488,AF555,TD_Seq0002.nd2 (series 6)',\n",
       "  'c:1/3 t:180/192 - WellC10_ChannelAF488,AF555,TD_Seq0002.nd2 (series 6)',\n",
       "  'c:2/3 t:180/192 - WellC10_ChannelAF488,AF555,TD_Seq0002.nd2 (series 6)',\n",
       "  'c:3/3 t:180/192 - WellC10_ChannelAF488,AF555,TD_Seq0002.nd2 (series 6)',\n",
       "  'c:1/3 t:181/192 - WellC10_ChannelAF488,AF555,TD_Seq0002.nd2 (series 6)',\n",
       "  'c:2/3 t:181/192 - WellC10_ChannelAF488,AF555,TD_Seq0002.nd2 (series 6)',\n",
       "  'c:3/3 t:181/192 - WellC10_ChannelAF488,AF555,TD_Seq0002.nd2 (series 6)',\n",
       "  'c:1/3 t:182/192 - WellC10_ChannelAF488,AF555,TD_Seq0002.nd2 (series 6)',\n",
       "  'c:2/3 t:182/192 - WellC10_ChannelAF488,AF555,TD_Seq0002.nd2 (series 6)',\n",
       "  'c:3/3 t:182/192 - WellC10_ChannelAF488,AF555,TD_Seq0002.nd2 (series 6)',\n",
       "  'c:1/3 t:183/192 - WellC10_ChannelAF488,AF555,TD_Seq0002.nd2 (series 6)',\n",
       "  'c:2/3 t:183/192 - WellC10_ChannelAF488,AF555,TD_Seq0002.nd2 (series 6)',\n",
       "  'c:3/3 t:183/192 - WellC10_ChannelAF488,AF555,TD_Seq0002.nd2 (series 6)',\n",
       "  'c:1/3 t:184/192 - WellC10_ChannelAF488,AF555,TD_Seq0002.nd2 (series 6)',\n",
       "  'c:2/3 t:184/192 - WellC10_ChannelAF488,AF555,TD_Seq0002.nd2 (series 6)',\n",
       "  'c:3/3 t:184/192 - WellC10_ChannelAF488,AF555,TD_Seq0002.nd2 (series 6)',\n",
       "  'c:1/3 t:185/192 - WellC10_ChannelAF488,AF555,TD_Seq0002.nd2 (series 6)',\n",
       "  'c:2/3 t:185/192 - WellC10_ChannelAF488,AF555,TD_Seq0002.nd2 (series 6)',\n",
       "  'c:3/3 t:185/192 - WellC10_ChannelAF488,AF555,TD_Seq0002.nd2 (series 6)',\n",
       "  'c:1/3 t:186/192 - WellC10_ChannelAF488,AF555,TD_Seq0002.nd2 (series 6)',\n",
       "  'c:2/3 t:186/192 - WellC10_ChannelAF488,AF555,TD_Seq0002.nd2 (series 6)',\n",
       "  'c:3/3 t:186/192 - WellC10_ChannelAF488,AF555,TD_Seq0002.nd2 (series 6)',\n",
       "  'c:1/3 t:187/192 - WellC10_ChannelAF488,AF555,TD_Seq0002.nd2 (series 6)',\n",
       "  'c:2/3 t:187/192 - WellC10_ChannelAF488,AF555,TD_Seq0002.nd2 (series 6)',\n",
       "  'c:3/3 t:187/192 - WellC10_ChannelAF488,AF555,TD_Seq0002.nd2 (series 6)',\n",
       "  'c:1/3 t:188/192 - WellC10_ChannelAF488,AF555,TD_Seq0002.nd2 (series 6)',\n",
       "  'c:2/3 t:188/192 - WellC10_ChannelAF488,AF555,TD_Seq0002.nd2 (series 6)',\n",
       "  'c:3/3 t:188/192 - WellC10_ChannelAF488,AF555,TD_Seq0002.nd2 (series 6)',\n",
       "  'c:1/3 t:189/192 - WellC10_ChannelAF488,AF555,TD_Seq0002.nd2 (series 6)',\n",
       "  'c:2/3 t:189/192 - WellC10_ChannelAF488,AF555,TD_Seq0002.nd2 (series 6)',\n",
       "  'c:3/3 t:189/192 - WellC10_ChannelAF488,AF555,TD_Seq0002.nd2 (series 6)',\n",
       "  'c:1/3 t:190/192 - WellC10_ChannelAF488,AF555,TD_Seq0002.nd2 (series 6)',\n",
       "  'c:2/3 t:190/192 - WellC10_ChannelAF488,AF555,TD_Seq0002.nd2 (series 6)',\n",
       "  'c:3/3 t:190/192 - WellC10_ChannelAF488,AF555,TD_Seq0002.nd2 (series 6)',\n",
       "  'c:1/3 t:191/192 - WellC10_ChannelAF488,AF555,TD_Seq0002.nd2 (series 6)',\n",
       "  'c:2/3 t:191/192 - WellC10_ChannelAF488,AF555,TD_Seq0002.nd2 (series 6)',\n",
       "  'c:3/3 t:191/192 - WellC10_ChannelAF488,AF555,TD_Seq0002.nd2 (series 6)',\n",
       "  'c:1/3 t:192/192 - WellC10_ChannelAF488,AF555,TD_Seq0002.nd2 (series 6)',\n",
       "  'c:2/3 t:192/192 - WellC10_ChannelAF488,AF555,TD_Seq0002.nd2 (series 6)',\n",
       "  'c:3/3 t:192/192 - WellC10_ChannelAF488,AF555,TD_Seq0002.nd2 (series 6)'],\n",
       " 'Ranges': (41.0, 555.0, 41.0, 555.0, 41.0, 555.0)}"
      ]
     },
     "execution_count": 100,
     "metadata": {},
     "output_type": "execute_result"
    }
   ],
   "source": [
    "im2.imagej_metadata"
   ]
  },
  {
   "cell_type": "code",
   "execution_count": 91,
   "id": "519c9240-8cf5-4b3c-aaa8-f6ec5a22475b",
   "metadata": {},
   "outputs": [],
   "source": [
    "from ome_types import from_xml, from_tiff, to_xml"
   ]
  },
  {
   "cell_type": "code",
   "execution_count": 93,
   "id": "ceaf5a97-85f6-457c-9f1e-de590b5c1008",
   "metadata": {},
   "outputs": [
    {
     "ename": "ValueError",
     "evalue": "Could not parse XML from b'ImageJ=1.54f\\nunit=micron\\nfinterval=300.0007629394531\\nmin=41.0\\nmax=555.0\\n'",
     "output_type": "error",
     "traceback": [
      "\u001b[0;31m---------------------------------------------------------------------------\u001b[0m",
      "\u001b[0;31mXMLSyntaxError\u001b[0m                            Traceback (most recent call last)",
      "File \u001b[0;32m~/Library/r-miniconda/envs/r-cecelia-env/lib/python3.9/site-packages/ome_types/_conversion.py:459\u001b[0m, in \u001b[0;36mensure_2016\u001b[0;34m(source, warn_on_schema_update, as_tree)\u001b[0m\n\u001b[1;32m    458\u001b[0m \u001b[38;5;28;01mtry\u001b[39;00m:\n\u001b[0;32m--> 459\u001b[0m     ns_in \u001b[38;5;241m=\u001b[39m \u001b[43m_get_ns_file\u001b[49m\u001b[43m(\u001b[49m\u001b[43mnormed_source\u001b[49m\u001b[43m)\u001b[49m\n\u001b[1;32m    460\u001b[0m \u001b[38;5;28;01mexcept\u001b[39;00m \u001b[38;5;167;01mException\u001b[39;00m \u001b[38;5;28;01mas\u001b[39;00m e:\n",
      "File \u001b[0;32m~/Library/r-miniconda/envs/r-cecelia-env/lib/python3.9/site-packages/ome_types/_conversion.py:567\u001b[0m, in \u001b[0;36m_get_ns_file\u001b[0;34m(source)\u001b[0m\n\u001b[1;32m    566\u001b[0m     source\u001b[38;5;241m.\u001b[39mseek(\u001b[38;5;241m0\u001b[39m)\n\u001b[0;32m--> 567\u001b[0m _, root \u001b[38;5;241m=\u001b[39m \u001b[38;5;28;43mnext\u001b[39;49m\u001b[43m(\u001b[49m\u001b[43mET\u001b[49m\u001b[38;5;241;43m.\u001b[39;49m\u001b[43miterparse\u001b[49m\u001b[43m(\u001b[49m\u001b[43msource\u001b[49m\u001b[43m,\u001b[49m\u001b[43m \u001b[49m\u001b[43mevents\u001b[49m\u001b[38;5;241;43m=\u001b[39;49m\u001b[43m(\u001b[49m\u001b[38;5;124;43m\"\u001b[39;49m\u001b[38;5;124;43mstart\u001b[39;49m\u001b[38;5;124;43m\"\u001b[39;49m\u001b[43m,\u001b[49m\u001b[43m)\u001b[49m\u001b[43m)\u001b[49m\u001b[43m)\u001b[49m\n\u001b[1;32m    568\u001b[0m \u001b[38;5;28;01mreturn\u001b[39;00m _get_ns_elem(root)\n",
      "File \u001b[0;32msrc/lxml/iterparse.pxi:210\u001b[0m, in \u001b[0;36mlxml.etree.iterparse.__next__\u001b[0;34m()\u001b[0m\n",
      "File \u001b[0;32msrc/lxml/iterparse.pxi:195\u001b[0m, in \u001b[0;36mlxml.etree.iterparse.__next__\u001b[0;34m()\u001b[0m\n",
      "File \u001b[0;32msrc/lxml/iterparse.pxi:230\u001b[0m, in \u001b[0;36mlxml.etree.iterparse._read_more_events\u001b[0;34m()\u001b[0m\n",
      "File \u001b[0;32msrc/lxml/parser.pxi:1379\u001b[0m, in \u001b[0;36mlxml.etree._FeedParser.feed\u001b[0;34m()\u001b[0m\n",
      "File \u001b[0;32msrc/lxml/parser.pxi:609\u001b[0m, in \u001b[0;36mlxml.etree._ParserContext._handleParseResult\u001b[0;34m()\u001b[0m\n",
      "File \u001b[0;32msrc/lxml/parser.pxi:618\u001b[0m, in \u001b[0;36mlxml.etree._ParserContext._handleParseResultDoc\u001b[0;34m()\u001b[0m\n",
      "File \u001b[0;32msrc/lxml/parser.pxi:728\u001b[0m, in \u001b[0;36mlxml.etree._handleParseResult\u001b[0;34m()\u001b[0m\n",
      "File \u001b[0;32msrc/lxml/parser.pxi:657\u001b[0m, in \u001b[0;36mlxml.etree._raiseParseError\u001b[0;34m()\u001b[0m\n",
      "\u001b[0;31mXMLSyntaxError\u001b[0m: Document is empty, line 1, column 1 (<string>, line 1)",
      "\nThe above exception was the direct cause of the following exception:\n",
      "\u001b[0;31mValueError\u001b[0m                                Traceback (most recent call last)",
      "Cell \u001b[0;32mIn[93], line 1\u001b[0m\n\u001b[0;32m----> 1\u001b[0m \u001b[43mfrom_tiff\u001b[49m\u001b[43m(\u001b[49m\u001b[43mim_path\u001b[49m\u001b[43m,\u001b[49m\u001b[43m \u001b[49m\u001b[43mvalidate\u001b[49m\u001b[38;5;241;43m=\u001b[39;49m\u001b[38;5;28;43;01mFalse\u001b[39;49;00m\u001b[43m)\u001b[49m\n",
      "File \u001b[0;32m~/Library/r-miniconda/envs/r-cecelia-env/lib/python3.9/site-packages/ome_types/_conversion.py:161\u001b[0m, in \u001b[0;36mfrom_tiff\u001b[0;34m(path, validate, parser_kwargs)\u001b[0m\n\u001b[1;32m    146\u001b[0m \u001b[38;5;250m\u001b[39m\u001b[38;5;124;03m\"\"\"Generate an OME object from a TIFF file.\u001b[39;00m\n\u001b[1;32m    147\u001b[0m \n\u001b[1;32m    148\u001b[0m \u001b[38;5;124;03mParameters\u001b[39;00m\n\u001b[0;32m   (...)\u001b[0m\n\u001b[1;32m    158\u001b[0m \u001b[38;5;124;03m    will be used.\u001b[39;00m\n\u001b[1;32m    159\u001b[0m \u001b[38;5;124;03m\"\"\"\u001b[39;00m\n\u001b[1;32m    160\u001b[0m xml \u001b[38;5;241m=\u001b[39m tiff2xml(path)\n\u001b[0;32m--> 161\u001b[0m \u001b[38;5;28;01mreturn\u001b[39;00m \u001b[43mfrom_xml\u001b[49m\u001b[43m(\u001b[49m\u001b[43mxml\u001b[49m\u001b[43m,\u001b[49m\u001b[43m \u001b[49m\u001b[43mvalidate\u001b[49m\u001b[38;5;241;43m=\u001b[39;49m\u001b[43mvalidate\u001b[49m\u001b[43m,\u001b[49m\u001b[43m \u001b[49m\u001b[43mparser_kwargs\u001b[49m\u001b[38;5;241;43m=\u001b[39;49m\u001b[43mparser_kwargs\u001b[49m\u001b[43m)\u001b[49m\n",
      "File \u001b[0;32m~/Library/r-miniconda/envs/r-cecelia-env/lib/python3.9/site-packages/ome_types/_conversion.py:121\u001b[0m, in \u001b[0;36mfrom_xml\u001b[0;34m(source, validate, parser, parser_kwargs, transformations, warn_on_schema_update)\u001b[0m\n\u001b[1;32m    119\u001b[0m     xml_2016 \u001b[38;5;241m=\u001b[39m validate_xml(source, warn_on_schema_update\u001b[38;5;241m=\u001b[39mwarn_on_schema_update)\n\u001b[1;32m    120\u001b[0m \u001b[38;5;28;01melse\u001b[39;00m:\n\u001b[0;32m--> 121\u001b[0m     xml_2016 \u001b[38;5;241m=\u001b[39m \u001b[43mensure_2016\u001b[49m\u001b[43m(\u001b[49m\n\u001b[1;32m    122\u001b[0m \u001b[43m        \u001b[49m\u001b[43msource\u001b[49m\u001b[43m,\u001b[49m\u001b[43m \u001b[49m\u001b[43mwarn_on_schema_update\u001b[49m\u001b[38;5;241;43m=\u001b[39;49m\u001b[43mwarn_on_schema_update\u001b[49m\u001b[43m,\u001b[49m\u001b[43m \u001b[49m\u001b[43mas_tree\u001b[49m\u001b[38;5;241;43m=\u001b[39;49m\u001b[38;5;28;43;01mTrue\u001b[39;49;00m\n\u001b[1;32m    123\u001b[0m \u001b[43m    \u001b[49m\u001b[43m)\u001b[49m\n\u001b[1;32m    125\u001b[0m \u001b[38;5;28;01mfor\u001b[39;00m transform \u001b[38;5;129;01min\u001b[39;00m transformations:\n\u001b[1;32m    126\u001b[0m     tree_out \u001b[38;5;241m=\u001b[39m transform(xml_2016)\n",
      "File \u001b[0;32m~/Library/r-miniconda/envs/r-cecelia-env/lib/python3.9/site-packages/ome_types/_conversion.py:461\u001b[0m, in \u001b[0;36mensure_2016\u001b[0;34m(source, warn_on_schema_update, as_tree)\u001b[0m\n\u001b[1;32m    459\u001b[0m     ns_in \u001b[38;5;241m=\u001b[39m _get_ns_file(normed_source)\n\u001b[1;32m    460\u001b[0m \u001b[38;5;28;01mexcept\u001b[39;00m \u001b[38;5;167;01mException\u001b[39;00m \u001b[38;5;28;01mas\u001b[39;00m e:\n\u001b[0;32m--> 461\u001b[0m     \u001b[38;5;28;01mraise\u001b[39;00m \u001b[38;5;167;01mValueError\u001b[39;00m(\u001b[38;5;124mf\u001b[39m\u001b[38;5;124m\"\u001b[39m\u001b[38;5;124mCould not parse XML from \u001b[39m\u001b[38;5;132;01m{\u001b[39;00msource\u001b[38;5;132;01m!r}\u001b[39;00m\u001b[38;5;124m\"\u001b[39m) \u001b[38;5;28;01mfrom\u001b[39;00m \u001b[38;5;21;01me\u001b[39;00m\n\u001b[1;32m    463\u001b[0m \u001b[38;5;66;03m# catch rare case of OME-XML with lowercase ome in namespace\u001b[39;00m\n\u001b[1;32m    464\u001b[0m \u001b[38;5;28;01mif\u001b[39;00m \u001b[38;5;124m\"\u001b[39m\u001b[38;5;124mSchemas/ome/\u001b[39m\u001b[38;5;124m\"\u001b[39m \u001b[38;5;129;01min\u001b[39;00m ns_in:\n",
      "\u001b[0;31mValueError\u001b[0m: Could not parse XML from b'ImageJ=1.54f\\nunit=micron\\nfinterval=300.0007629394531\\nmin=41.0\\nmax=555.0\\n'"
     ]
    }
   ],
   "source": [
    "from_tiff(im_path, validate=False)"
   ]
  },
  {
   "cell_type": "code",
   "execution_count": 57,
   "id": "babad9df-fe45-48eb-a954-5a0042756b0d",
   "metadata": {},
   "outputs": [
    {
     "data": {
      "text/plain": [
       "{'ImageJ': '1.54f',\n",
       " 'unit': 'micron',\n",
       " 'finterval': 300.0007629394531,\n",
       " 'min': 41.0,\n",
       " 'max': 555.0,\n",
       " 'Properties': {'Slice_Label': 'c:1/3 t:1/192 - WellC10_ChannelAF488,AF555,TD_Seq0002.nd2 (series 6)'}}"
      ]
     },
     "execution_count": 57,
     "metadata": {},
     "output_type": "execute_result"
    }
   ],
   "source": [
    "im2.imagej_metadata"
   ]
  },
  {
   "cell_type": "code",
   "execution_count": 49,
   "id": "2db2e3dc-f977-4439-99aa-537673b72054",
   "metadata": {},
   "outputs": [],
   "source": [
    "im_array = im.asarray()"
   ]
  },
  {
   "cell_type": "code",
   "execution_count": 51,
   "id": "edffd34b-5ef4-49a3-989b-170b414656d6",
   "metadata": {},
   "outputs": [],
   "source": [
    "len_dims = len(im.dims)\n",
    "len_shape = len(im_array.shape) - len_dims"
   ]
  },
  {
   "cell_type": "code",
   "execution_count": 55,
   "id": "7f3a6685-b215-4bfd-9f4e-338b3fdc930b",
   "metadata": {},
   "outputs": [
    {
     "data": {
      "text/plain": [
       "2"
      ]
     },
     "execution_count": 55,
     "metadata": {},
     "output_type": "execute_result"
    }
   ],
   "source": [
    "len_shape"
   ]
  },
  {
   "cell_type": "code",
   "execution_count": 47,
   "id": "ea5b3ce0-e96b-472d-aad8-4e50e4914876",
   "metadata": {},
   "outputs": [],
   "source": [
    "len_dims = len(im.dims)"
   ]
  },
  {
   "cell_type": "code",
   "execution_count": 69,
   "id": "665463a0-cf2c-416b-9201-f2b07998245b",
   "metadata": {},
   "outputs": [
    {
     "data": {
      "text/plain": [
       "'__annotations__'"
      ]
     },
     "execution_count": 69,
     "metadata": {},
     "output_type": "execute_result"
    }
   ],
   "source": [
    "dir(im2)[0]"
   ]
  },
  {
   "cell_type": "code",
   "execution_count": 71,
   "id": "4e50ea0c-ee8e-4e76-9b34-6fc4d55abc43",
   "metadata": {},
   "outputs": [],
   "source": [
    "re.match(r'.*_metadata', dir(im2)[0])"
   ]
  },
  {
   "cell_type": "code",
   "execution_count": 82,
   "id": "73d2ecd8-4d6c-4281-a266-70027f082842",
   "metadata": {},
   "outputs": [],
   "source": [
    "meta_list = [re.match(r'.*_metadata', x) for x in dir(im2)]\n",
    "meta_list = [x.string for x in meta_list if x is not None]"
   ]
  },
  {
   "cell_type": "code",
   "execution_count": null,
   "id": "50718306-e746-4f98-aafe-a35e8f09294b",
   "metadata": {},
   "outputs": [],
   "source": [
    "im2."
   ]
  },
  {
   "cell_type": "code",
   "execution_count": 90,
   "id": "571d722c-ff0a-47ee-b671-556491d89575",
   "metadata": {},
   "outputs": [
    {
     "data": {
      "text/plain": [
       "True"
      ]
     },
     "execution_count": 90,
     "metadata": {},
     "output_type": "execute_result"
    }
   ],
   "source": [
    "hasattr(im2, 'ome_metadata')"
   ]
  },
  {
   "cell_type": "code",
   "execution_count": 89,
   "id": "85241b6c-b5d3-4b56-8acf-70e03e566099",
   "metadata": {
    "scrolled": true
   },
   "outputs": [
    {
     "ename": "ValueError",
     "evalue": "Could not parse XML from b'ImageJ=1.54f\\nunit=micron\\nfinterval=300.0007629394531\\nmin=41.0\\nmax=555.0\\n'",
     "output_type": "error",
     "traceback": [
      "\u001b[0;31m---------------------------------------------------------------------------\u001b[0m",
      "\u001b[0;31mXMLSyntaxError\u001b[0m                            Traceback (most recent call last)",
      "File \u001b[0;32m~/Library/r-miniconda/envs/r-cecelia-env/lib/python3.9/site-packages/ome_types/_conversion.py:459\u001b[0m, in \u001b[0;36mensure_2016\u001b[0;34m(source, warn_on_schema_update, as_tree)\u001b[0m\n\u001b[1;32m    458\u001b[0m \u001b[38;5;28;01mtry\u001b[39;00m:\n\u001b[0;32m--> 459\u001b[0m     ns_in \u001b[38;5;241m=\u001b[39m \u001b[43m_get_ns_file\u001b[49m\u001b[43m(\u001b[49m\u001b[43mnormed_source\u001b[49m\u001b[43m)\u001b[49m\n\u001b[1;32m    460\u001b[0m \u001b[38;5;28;01mexcept\u001b[39;00m \u001b[38;5;167;01mException\u001b[39;00m \u001b[38;5;28;01mas\u001b[39;00m e:\n",
      "File \u001b[0;32m~/Library/r-miniconda/envs/r-cecelia-env/lib/python3.9/site-packages/ome_types/_conversion.py:567\u001b[0m, in \u001b[0;36m_get_ns_file\u001b[0;34m(source)\u001b[0m\n\u001b[1;32m    566\u001b[0m     source\u001b[38;5;241m.\u001b[39mseek(\u001b[38;5;241m0\u001b[39m)\n\u001b[0;32m--> 567\u001b[0m _, root \u001b[38;5;241m=\u001b[39m \u001b[38;5;28;43mnext\u001b[39;49m\u001b[43m(\u001b[49m\u001b[43mET\u001b[49m\u001b[38;5;241;43m.\u001b[39;49m\u001b[43miterparse\u001b[49m\u001b[43m(\u001b[49m\u001b[43msource\u001b[49m\u001b[43m,\u001b[49m\u001b[43m \u001b[49m\u001b[43mevents\u001b[49m\u001b[38;5;241;43m=\u001b[39;49m\u001b[43m(\u001b[49m\u001b[38;5;124;43m\"\u001b[39;49m\u001b[38;5;124;43mstart\u001b[39;49m\u001b[38;5;124;43m\"\u001b[39;49m\u001b[43m,\u001b[49m\u001b[43m)\u001b[49m\u001b[43m)\u001b[49m\u001b[43m)\u001b[49m\n\u001b[1;32m    568\u001b[0m \u001b[38;5;28;01mreturn\u001b[39;00m _get_ns_elem(root)\n",
      "File \u001b[0;32msrc/lxml/iterparse.pxi:210\u001b[0m, in \u001b[0;36mlxml.etree.iterparse.__next__\u001b[0;34m()\u001b[0m\n",
      "File \u001b[0;32msrc/lxml/iterparse.pxi:195\u001b[0m, in \u001b[0;36mlxml.etree.iterparse.__next__\u001b[0;34m()\u001b[0m\n",
      "File \u001b[0;32msrc/lxml/iterparse.pxi:230\u001b[0m, in \u001b[0;36mlxml.etree.iterparse._read_more_events\u001b[0;34m()\u001b[0m\n",
      "File \u001b[0;32msrc/lxml/parser.pxi:1379\u001b[0m, in \u001b[0;36mlxml.etree._FeedParser.feed\u001b[0;34m()\u001b[0m\n",
      "File \u001b[0;32msrc/lxml/parser.pxi:609\u001b[0m, in \u001b[0;36mlxml.etree._ParserContext._handleParseResult\u001b[0;34m()\u001b[0m\n",
      "File \u001b[0;32msrc/lxml/parser.pxi:618\u001b[0m, in \u001b[0;36mlxml.etree._ParserContext._handleParseResultDoc\u001b[0;34m()\u001b[0m\n",
      "File \u001b[0;32msrc/lxml/parser.pxi:728\u001b[0m, in \u001b[0;36mlxml.etree._handleParseResult\u001b[0;34m()\u001b[0m\n",
      "File \u001b[0;32msrc/lxml/parser.pxi:657\u001b[0m, in \u001b[0;36mlxml.etree._raiseParseError\u001b[0;34m()\u001b[0m\n",
      "\u001b[0;31mXMLSyntaxError\u001b[0m: Document is empty, line 1, column 1 (<string>, line 1)",
      "\nThe above exception was the direct cause of the following exception:\n",
      "\u001b[0;31mValueError\u001b[0m                                Traceback (most recent call last)",
      "Cell \u001b[0;32mIn[89], line 2\u001b[0m\n\u001b[1;32m      1\u001b[0m \u001b[38;5;28;01mimport\u001b[39;00m \u001b[38;5;21;01mpy\u001b[39;00m\u001b[38;5;21;01m.\u001b[39;00m\u001b[38;5;21;01mome_xml_utils\u001b[39;00m \u001b[38;5;28;01mas\u001b[39;00m \u001b[38;5;21;01mome_xml_utils\u001b[39;00m\n\u001b[0;32m----> 2\u001b[0m \u001b[43mome_xml_utils\u001b[49m\u001b[38;5;241;43m.\u001b[39;49m\u001b[43mparse_meta\u001b[49m\u001b[43m(\u001b[49m\u001b[43mim_path\u001b[49m\u001b[43m)\u001b[49m\n",
      "File \u001b[0;32m~/R-workspace/cecelia/inst/py/ome_xml_utils.py:249\u001b[0m, in \u001b[0;36mparse_meta\u001b[0;34m(im_path)\u001b[0m\n\u001b[1;32m    247\u001b[0m   omexml \u001b[38;5;241m=\u001b[39m parse_meta_from_zarr(im_path)\n\u001b[1;32m    248\u001b[0m \u001b[38;5;28;01melse\u001b[39;00m:\n\u001b[0;32m--> 249\u001b[0m   omexml \u001b[38;5;241m=\u001b[39m \u001b[43mparse_meta_from_tiff\u001b[49m\u001b[43m(\u001b[49m\u001b[43mim_path\u001b[49m\u001b[43m)\u001b[49m\n\u001b[1;32m    251\u001b[0m \u001b[38;5;28;01mreturn\u001b[39;00m omexml\n",
      "File \u001b[0;32m~/R-workspace/cecelia/inst/py/ome_xml_utils.py:212\u001b[0m, in \u001b[0;36mparse_meta_from_tiff\u001b[0;34m(im_path)\u001b[0m\n\u001b[1;32m    211\u001b[0m \u001b[38;5;28;01mdef\u001b[39;00m \u001b[38;5;21mparse_meta_from_tiff\u001b[39m(im_path):\n\u001b[0;32m--> 212\u001b[0m   \u001b[38;5;28;01mreturn\u001b[39;00m \u001b[43mfrom_tiff\u001b[49m\u001b[43m(\u001b[49m\u001b[43mim_path\u001b[49m\u001b[43m)\u001b[49m\n",
      "File \u001b[0;32m~/Library/r-miniconda/envs/r-cecelia-env/lib/python3.9/site-packages/ome_types/_conversion.py:161\u001b[0m, in \u001b[0;36mfrom_tiff\u001b[0;34m(path, validate, parser_kwargs)\u001b[0m\n\u001b[1;32m    146\u001b[0m \u001b[38;5;250m\u001b[39m\u001b[38;5;124;03m\"\"\"Generate an OME object from a TIFF file.\u001b[39;00m\n\u001b[1;32m    147\u001b[0m \n\u001b[1;32m    148\u001b[0m \u001b[38;5;124;03mParameters\u001b[39;00m\n\u001b[0;32m   (...)\u001b[0m\n\u001b[1;32m    158\u001b[0m \u001b[38;5;124;03m    will be used.\u001b[39;00m\n\u001b[1;32m    159\u001b[0m \u001b[38;5;124;03m\"\"\"\u001b[39;00m\n\u001b[1;32m    160\u001b[0m xml \u001b[38;5;241m=\u001b[39m tiff2xml(path)\n\u001b[0;32m--> 161\u001b[0m \u001b[38;5;28;01mreturn\u001b[39;00m \u001b[43mfrom_xml\u001b[49m\u001b[43m(\u001b[49m\u001b[43mxml\u001b[49m\u001b[43m,\u001b[49m\u001b[43m \u001b[49m\u001b[43mvalidate\u001b[49m\u001b[38;5;241;43m=\u001b[39;49m\u001b[43mvalidate\u001b[49m\u001b[43m,\u001b[49m\u001b[43m \u001b[49m\u001b[43mparser_kwargs\u001b[49m\u001b[38;5;241;43m=\u001b[39;49m\u001b[43mparser_kwargs\u001b[49m\u001b[43m)\u001b[49m\n",
      "File \u001b[0;32m~/Library/r-miniconda/envs/r-cecelia-env/lib/python3.9/site-packages/ome_types/_conversion.py:121\u001b[0m, in \u001b[0;36mfrom_xml\u001b[0;34m(source, validate, parser, parser_kwargs, transformations, warn_on_schema_update)\u001b[0m\n\u001b[1;32m    119\u001b[0m     xml_2016 \u001b[38;5;241m=\u001b[39m validate_xml(source, warn_on_schema_update\u001b[38;5;241m=\u001b[39mwarn_on_schema_update)\n\u001b[1;32m    120\u001b[0m \u001b[38;5;28;01melse\u001b[39;00m:\n\u001b[0;32m--> 121\u001b[0m     xml_2016 \u001b[38;5;241m=\u001b[39m \u001b[43mensure_2016\u001b[49m\u001b[43m(\u001b[49m\n\u001b[1;32m    122\u001b[0m \u001b[43m        \u001b[49m\u001b[43msource\u001b[49m\u001b[43m,\u001b[49m\u001b[43m \u001b[49m\u001b[43mwarn_on_schema_update\u001b[49m\u001b[38;5;241;43m=\u001b[39;49m\u001b[43mwarn_on_schema_update\u001b[49m\u001b[43m,\u001b[49m\u001b[43m \u001b[49m\u001b[43mas_tree\u001b[49m\u001b[38;5;241;43m=\u001b[39;49m\u001b[38;5;28;43;01mTrue\u001b[39;49;00m\n\u001b[1;32m    123\u001b[0m \u001b[43m    \u001b[49m\u001b[43m)\u001b[49m\n\u001b[1;32m    125\u001b[0m \u001b[38;5;28;01mfor\u001b[39;00m transform \u001b[38;5;129;01min\u001b[39;00m transformations:\n\u001b[1;32m    126\u001b[0m     tree_out \u001b[38;5;241m=\u001b[39m transform(xml_2016)\n",
      "File \u001b[0;32m~/Library/r-miniconda/envs/r-cecelia-env/lib/python3.9/site-packages/ome_types/_conversion.py:461\u001b[0m, in \u001b[0;36mensure_2016\u001b[0;34m(source, warn_on_schema_update, as_tree)\u001b[0m\n\u001b[1;32m    459\u001b[0m     ns_in \u001b[38;5;241m=\u001b[39m _get_ns_file(normed_source)\n\u001b[1;32m    460\u001b[0m \u001b[38;5;28;01mexcept\u001b[39;00m \u001b[38;5;167;01mException\u001b[39;00m \u001b[38;5;28;01mas\u001b[39;00m e:\n\u001b[0;32m--> 461\u001b[0m     \u001b[38;5;28;01mraise\u001b[39;00m \u001b[38;5;167;01mValueError\u001b[39;00m(\u001b[38;5;124mf\u001b[39m\u001b[38;5;124m\"\u001b[39m\u001b[38;5;124mCould not parse XML from \u001b[39m\u001b[38;5;132;01m{\u001b[39;00msource\u001b[38;5;132;01m!r}\u001b[39;00m\u001b[38;5;124m\"\u001b[39m) \u001b[38;5;28;01mfrom\u001b[39;00m \u001b[38;5;21;01me\u001b[39;00m\n\u001b[1;32m    463\u001b[0m \u001b[38;5;66;03m# catch rare case of OME-XML with lowercase ome in namespace\u001b[39;00m\n\u001b[1;32m    464\u001b[0m \u001b[38;5;28;01mif\u001b[39;00m \u001b[38;5;124m\"\u001b[39m\u001b[38;5;124mSchemas/ome/\u001b[39m\u001b[38;5;124m\"\u001b[39m \u001b[38;5;129;01min\u001b[39;00m ns_in:\n",
      "\u001b[0;31mValueError\u001b[0m: Could not parse XML from b'ImageJ=1.54f\\nunit=micron\\nfinterval=300.0007629394531\\nmin=41.0\\nmax=555.0\\n'"
     ]
    }
   ],
   "source": [
    "import py.ome_xml_utils as ome_xml_utils\n",
    "ome_xml_utils.parse_meta(im_path)"
   ]
  },
  {
   "cell_type": "code",
   "execution_count": 2,
   "id": "8f75f4eb",
   "metadata": {},
   "outputs": [],
   "source": [
    "base_dir = '/Volumes/Analysis_SSD/Dominik/cecelia/projects/Wq59Z0/ANALYSIS/'\n",
    "zero_dir = os.path.join(base_dir, '0/f6YZeo/')\n",
    "im_path = os.path.join(zero_dir, 'ccidCorrected.zarr')\n",
    "version_num = 1\n",
    "task_dir = os.path.join(base_dir, str(version_num), 'f6YZeo')"
   ]
  },
  {
   "cell_type": "code",
   "execution_count": 4,
   "id": "8f11a17c-f446-47cc-9657-9bf8b16deeb3",
   "metadata": {},
   "outputs": [],
   "source": [
    "base_dir = '/Volumes/Analysis_SSD/Communal/cecelia/projects/az8y8l/ANALYSIS/'\n",
    "zero_dir = os.path.join(base_dir, '0/auDGLN/')\n",
    "im_path = os.path.join(zero_dir, 'ccidCorrected.zarr')\n",
    "version_num = 1\n",
    "task_dir = os.path.join(base_dir, str(version_num), 'auDGLN')"
   ]
  },
  {
   "cell_type": "code",
   "execution_count": 10,
   "id": "55c7679b-ee72-4940-8bab-c5e8323f6fb3",
   "metadata": {},
   "outputs": [],
   "source": [
    "import py.zarr_utils as zarr_utils\n",
    "import py.ome_xml_utils as ome_xml_utils\n",
    "from py.dim_utils import DimUtils"
   ]
  },
  {
   "cell_type": "code",
   "execution_count": 12,
   "id": "655d8464-b19f-4015-b744-439452884e2b",
   "metadata": {},
   "outputs": [
    {
     "name": "stdout",
     "output_type": "stream",
     "text": [
      "<zarr.hierarchy.Group '/' read-only>\n"
     ]
    }
   ],
   "source": [
    "labels_dat, _ = zarr_utils.open_labels_as_zarr(os.path.join(task_dir, 'labels', 'default.zarr'))"
   ]
  },
  {
   "cell_type": "code",
   "execution_count": 13,
   "id": "e3b561b2-f868-4395-827b-65a3adea629f",
   "metadata": {},
   "outputs": [
    {
     "data": {
      "text/plain": [
       "(1, 24, 8262, 3267)"
      ]
     },
     "execution_count": 13,
     "metadata": {},
     "output_type": "execute_result"
    }
   ],
   "source": [
    "labels_dat[0].shape"
   ]
  },
  {
   "cell_type": "code",
   "execution_count": 11,
   "id": "888646ae-feb2-48a9-9447-89caf10fdf8a",
   "metadata": {},
   "outputs": [
    {
     "name": "stdout",
     "output_type": "stream",
     "text": [
      "<zarr.hierarchy.Group '/' read-only>\n"
     ]
    },
    {
     "name": "stderr",
     "output_type": "stream",
     "text": [
      "/Users/Dominik/Library/r-miniconda/envs/r-cecelia-env/lib/python3.9/site-packages/ome_types/_mixins/_base_type.py:117: UserWarning: Casting invalid DichroicID 'Beamsplitter.2412-349' to 'Dichroic:0'\n",
      "  super().__init__(**data)\n",
      "/Users/Dominik/Library/r-miniconda/envs/r-cecelia-env/lib/python3.9/site-packages/ome_types/_mixins/_base_type.py:117: UserWarning: Casting invalid DichroicID 'Beamsplitter.1520-117' to 'Dichroic:1'\n",
      "  super().__init__(**data)\n",
      "/Users/Dominik/Library/r-miniconda/envs/r-cecelia-env/lib/python3.9/site-packages/ome_types/_mixins/_base_type.py:117: UserWarning: Casting invalid DichroicID 'SecondaryBeamsplitter.453001-4023-000' to 'Dichroic:2'\n",
      "  super().__init__(**data)\n"
     ]
    },
    {
     "name": "stdout",
     "output_type": "stream",
     "text": [
      "[1, 7, 24, 8262, 3267]\n",
      "[3267, 8262, 24, 7, 1]\n",
      "['X', 'Y', 'Z', 'C', 'T']\n"
     ]
    }
   ],
   "source": [
    "im_dat, zarr_group_info = zarr_utils.open_as_zarr(im_path)\n",
    "omexml = ome_xml_utils.parse_meta(im_path)\n",
    "dim_utils = DimUtils(omexml, use_channel_axis = True)\n",
    "dim_utils.calc_image_dimensions(im_dat[0].shape)"
   ]
  },
  {
   "cell_type": "code",
   "execution_count": 15,
   "id": "c5ce75ff-a786-4b10-be99-d819544f426a",
   "metadata": {},
   "outputs": [
    {
     "data": {
      "text/plain": [
       "0"
      ]
     },
     "execution_count": 15,
     "metadata": {},
     "output_type": "execute_result"
    }
   ],
   "source": [
    "dim_utils.dim_idx('z', ignore_channel=True, squeeze=True)"
   ]
  },
  {
   "cell_type": "code",
   "execution_count": 18,
   "id": "96788271",
   "metadata": {},
   "outputs": [],
   "source": [
    "from py.napari_utils import NapariUtils\n",
    "\n",
    "napari_utils = NapariUtils()\n",
    "napari_utils.viewer = None\n",
    "napari_utils.open_viewer()\n",
    "napari_utils.task_dir = task_dir"
   ]
  },
  {
   "cell_type": "code",
   "execution_count": 19,
   "id": "75724ef2",
   "metadata": {},
   "outputs": [],
   "source": [
    "channel_names = [\n",
    "    'CD169-FITC', 'XCR1-APC', 'TCRb-BV421', 'x33D1-PE'\n",
    "]"
   ]
  },
  {
   "cell_type": "code",
   "execution_count": 22,
   "id": "10e3e72e",
   "metadata": {},
   "outputs": [
    {
     "name": "stdout",
     "output_type": "stream",
     "text": [
      "<zarr.hierarchy.Group '/' read-only>\n",
      "[1, 5, 41, 1024, 1024]\n",
      "[1024, 1024, 41, 5, 1]\n",
      "['X', 'Y', 'Z', 'C', 'T']\n",
      "[1, 5, 41, 1024, 1024]\n"
     ]
    }
   ],
   "source": [
    "napari_utils.open_image(\n",
    "    im_path,\n",
    "    use_channel_axis = True, as_dask = True,\n",
    "    visible = True\n",
    ")"
   ]
  },
  {
   "cell_type": "code",
   "execution_count": 23,
   "id": "88459405",
   "metadata": {},
   "outputs": [],
   "source": [
    "# show populations\n",
    "napari_utils.show_pop_mapping(\n",
    "    'flow', value_name = 'default')"
   ]
  },
  {
   "cell_type": "code",
   "execution_count": null,
   "id": "714f1452",
   "metadata": {},
   "outputs": [],
   "source": [
    "napari_utils.viewer.window.screenshot"
   ]
  },
  {
   "cell_type": "code",
   "execution_count": 27,
   "id": "a5dc2ffd",
   "metadata": {},
   "outputs": [
    {
     "name": "stdout",
     "output_type": "stream",
     "text": [
      "{'base': '/Volumes/Analysis_SSD/Dominik/cecelia/projects/Wq59Z0/ANALYSIS/1/f6YZeo/labels/default.zarr'}\n",
      "(1, 41, 1024, 1024)\n"
     ]
    }
   ],
   "source": [
    "napari_utils.show_labels_all(\n",
    "    show_labels = True,\n",
    "    show_points = True,\n",
    "    show_label_ids = True,\n",
    "    value_names = ['default'],\n",
    "    \n",
    ")"
   ]
  },
  {
   "cell_type": "code",
   "execution_count": null,
   "id": "4181f11d",
   "metadata": {},
   "outputs": [],
   "source": [
    "napari_utils.show_labels_all(\n",
    "    show_labels = True,\n",
    "    show_points = False,\n",
    "    value_names = ['default'],\n",
    "    label_suffixes = {'default': ['cyto', 'nuc']}\n",
    ")"
   ]
  },
  {
   "cell_type": "code",
   "execution_count": null,
   "id": "be35ebba",
   "metadata": {},
   "outputs": [],
   "source": [
    "from napari_animation import AnimationWidget\n",
    "animation_widget = AnimationWidget(napari_utils.viewer)\n",
    "napari_utils.viewer.window.add_dock_widget(animation_widget, area='right')"
   ]
  },
  {
   "cell_type": "code",
   "execution_count": null,
   "id": "a4795aa6",
   "metadata": {},
   "outputs": [],
   "source": [
    "# show populations\n",
    "napari_utils.show_pop_mapping(\n",
    "    'flow', value_name = 'default')"
   ]
  },
  {
   "cell_type": "code",
   "execution_count": null,
   "id": "a6ab6541",
   "metadata": {},
   "outputs": [],
   "source": []
  }
 ],
 "metadata": {
  "kernelspec": {
   "display_name": "Python 3 (ipykernel)",
   "language": "python",
   "name": "python3"
  },
  "language_info": {
   "codemirror_mode": {
    "name": "ipython",
    "version": 3
   },
   "file_extension": ".py",
   "mimetype": "text/x-python",
   "name": "python",
   "nbconvert_exporter": "python",
   "pygments_lexer": "ipython3",
   "version": "3.9.18"
  }
 },
 "nbformat": 4,
 "nbformat_minor": 5
}
