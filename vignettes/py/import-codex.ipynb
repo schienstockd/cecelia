{
 "cells": [
  {
   "cell_type": "code",
   "execution_count": 1,
   "id": "822562ab",
   "metadata": {},
   "outputs": [],
   "source": [
    "import os\n",
    "import numpy as np\n",
    "# import working directory to check functions\n",
    "os.chdir('/Users/Dominik/R-workspace/cecelia/inst')\n",
    "\n",
    "# MacOS\n",
    "os.environ['KMP_DUPLICATE_LIB_OK'] = 'TRUE'\n",
    "\n",
    "# config\n",
    "import py.config_utils as cfg"
   ]
  },
  {
   "cell_type": "code",
   "execution_count": 2,
   "id": "68185ac7-fa54-4bb0-80bf-1ac14291353f",
   "metadata": {},
   "outputs": [],
   "source": [
    "# how to import CODEX data that is registered but not assembled?\n",
    "im_path = '/Users/Dominik/Downloads/21-013_SP_CC2-C no LED 07DEC2021_reg001.tif'"
   ]
  },
  {
   "cell_type": "code",
   "execution_count": 102,
   "id": "6b7dc680-9745-40e4-b5b8-ade683b1b8bf",
   "metadata": {},
   "outputs": [],
   "source": [
    "im_path = '/Volumes/MDHS-Research/5300/5260/Lab-Mueller/Dominik Schienstock/Notebook/Experiments/HuBMAP/SPLEEN/HBM946.WMTC.283.ome.tif'"
   ]
  },
  {
   "cell_type": "code",
   "execution_count": 103,
   "id": "a2451ccd-d0a3-4496-b79b-77578e6c927a",
   "metadata": {},
   "outputs": [],
   "source": [
    "import tifffile\n",
    "im = tifffile.TiffFile(im_path)"
   ]
  },
  {
   "cell_type": "code",
   "execution_count": 104,
   "id": "55f001ff-4c32-4d0d-b637-dde121df1b3d",
   "metadata": {},
   "outputs": [
    {
     "data": {
      "text/plain": [
       "'<?xml version=\"1.0\" encoding=\"UTF-8\"?><OME xmlns=\"http://www.openmicroscopy.org/Schemas/OME/2016-06\" xmlns:xsi=\"http://www.w3.org/2001/XMLSchema-instance\" UUID=\"urn:uuid:867d0aed-0043-4a7e-8c50-71e812d9c324\" xsi:schemaLocation=\"http://www.openmicroscopy.org/Schemas/OME/2016-06 http://www.openmicroscopy.org/Schemas/OME/2016-06/ome.xsd\"><Image ID=\"Image:0\" Name=\"default.png\"><AcquisitionDate>2021-11-21T20:45:59.394</AcquisitionDate><Pixels BigEndian=\"true\" DimensionOrder=\"XYZCT\" ID=\"Pixels:0\" Interleaved=\"false\" PhysicalSizeX=\"377.4\" PhysicalSizeXUnit=\"nm\" PhysicalSizeY=\"377.4\" PhysicalSizeYUnit=\"nm\" SignificantBits=\"16\" SizeC=\"11\" SizeT=\"1\" SizeX=\"9974\" SizeY=\"9490\" SizeZ=\"1\" Type=\"uint16\"><Channel ID=\"Channel:0:0\" Name=\"CD107a\" SamplesPerPixel=\"1\"><LightPath/></Channel><Channel ID=\"Channel:0:1\" Name=\"CD11c\" SamplesPerPixel=\"1\"><LightPath/></Channel><Channel ID=\"Channel:0:2\" Name=\"CD20\" SamplesPerPixel=\"1\"><LightPath/></Channel><Channel ID=\"Channel:0:3\" Name=\"CD21\" SamplesPerPixel=\"1\"><LightPath/></Channel><Channel ID=\"Channel:0:4\" Name=\"CD3e\" SamplesPerPixel=\"1\"><LightPath/></Channel><Channel ID=\"Channel:0:5\" Name=\"CD4\" SamplesPerPixel=\"1\"><LightPath/></Channel><Channel ID=\"Channel:0:6\" Name=\"CD45RO\" SamplesPerPixel=\"1\"><LightPath/></Channel><Channel ID=\"Channel:0:7\" Name=\"CD8\" SamplesPerPixel=\"1\"><LightPath/></Channel><Channel ID=\"Channel:0:8\" Name=\"DAPI-02\" SamplesPerPixel=\"1\"><LightPath/></Channel><Channel ID=\"Channel:0:9\" Name=\"E-CAD\" SamplesPerPixel=\"1\"><LightPath/></Channel><Channel ID=\"Channel:0:10\" Name=\"Ki67\" SamplesPerPixel=\"1\"><LightPath/></Channel><TiffData IFD=\"0\" PlaneCount=\"11\"/></Pixels></Image><StructuredAnnotations><XMLAnnotation ID=\"Annotation:0\"><Value><OriginalMetadata><Key>SegmentationChannels</Key><Value><Nucleus>DAPI-02</Nucleus><Cell>CD45</Cell></Value></OriginalMetadata></Value></XMLAnnotation><XMLAnnotation ID=\"Annotation:1\" Namespace=\"openmicroscopy.org/OriginalMetadata\"><Value><OriginalMetadata><Key>SegmentationChannels</Key><Value>DAPI-02CD45</Value></OriginalMetadata></Value></XMLAnnotation><MapAnnotation ID=\"Annotation:Resolution:0\" Namespace=\"openmicroscopy.org/PyramidResolution\"><Value><M K=\"1\">4987 4745</M><M K=\"2\">2493 2372</M><M K=\"3\">1246 1186</M><M K=\"4\">623 593</M><M K=\"5\">311 296</M><M K=\"6\">155 148</M></Value></MapAnnotation></StructuredAnnotations></OME>'"
      ]
     },
     "execution_count": 104,
     "metadata": {},
     "output_type": "execute_result"
    }
   ],
   "source": [
    "im.ome_metadata"
   ]
  },
  {
   "cell_type": "code",
   "execution_count": 5,
   "id": "9596d511-7164-48a6-9eee-d3d6d47cf1d8",
   "metadata": {},
   "outputs": [],
   "source": [
    "import py.ome_xml_utils as ome_xml_utils\n",
    "from py.dim_utils import DimUtils\n",
    "\n",
    "x_array = im.asarray()"
   ]
  },
  {
   "cell_type": "code",
   "execution_count": 32,
   "id": "e7264b5a-ad34-412f-90a1-1d4fe91153ab",
   "metadata": {},
   "outputs": [],
   "source": [
    "im_meta = im.imagej_metadata"
   ]
  },
  {
   "cell_type": "code",
   "execution_count": 16,
   "id": "e6a3183e-9163-4c25-9d3f-5946f855f697",
   "metadata": {},
   "outputs": [],
   "source": [
    "new_shape = list(x_array.shape)\n",
    "new_shape = tuple([new_shape[0] * new_shape[1]] + new_shape[2:])"
   ]
  },
  {
   "cell_type": "code",
   "execution_count": 45,
   "id": "b0e8414a-02f9-4002-bb50-69048a2bf6af",
   "metadata": {},
   "outputs": [],
   "source": [
    "# reshuffle array\n",
    "idx_rm = [i for i, x in enumerate(im_meta['Labels']) if x != 'DAPI-02' and x.startswith(('DAPI-', 'Blank', 'Empty'))]\n",
    "y_array = np.delete(x_array.reshape(new_shape), idx_rm, axis = 0)"
   ]
  },
  {
   "cell_type": "code",
   "execution_count": 51,
   "id": "6df71db3-2a75-48c9-87f6-b9777be448de",
   "metadata": {},
   "outputs": [],
   "source": [
    "zarr_path = '/Users/Dominik/Downloads/21-013_SP_CC2-C no LED 07DEC2021_reg001.zarr'"
   ]
  },
  {
   "cell_type": "code",
   "execution_count": 71,
   "id": "da90d4c0-81db-45b8-98e2-80e0864d809f",
   "metadata": {},
   "outputs": [],
   "source": [
    "import py.zarr_utils as zarr_utils\n",
    "\n",
    "nscales = 6\n",
    "\n",
    "im_chunks = [1] * len(y_array.shape)\n",
    "im_chunks[-2] = 2048\n",
    "im_chunks[-1] = 2048\n",
    "im_chunks\n",
    "\n",
    "zarr_utils.create_multiscales(y_array, zarr_path, nscales = nscales,\n",
    "                              im_chunks = im_chunks, x_idx = 2, y_idx = 1)"
   ]
  },
  {
   "cell_type": "code",
   "execution_count": 89,
   "id": "d1de4a8a-bc4c-49b1-8dbb-fd4f8dff58b0",
   "metadata": {
    "scrolled": true
   },
   "outputs": [],
   "source": [
    "im_channels = [x for x in im_meta['Labels'] if x == 'DAPI-02' or not x.startswith(('DAPI-', 'Blank', 'Empty'))]"
   ]
  },
  {
   "cell_type": "code",
   "execution_count": 92,
   "id": "e075a092-3a56-4bf8-a5f5-3d63d90d3f16",
   "metadata": {},
   "outputs": [],
   "source": [
    "from ome_types import model\n",
    "\n",
    "physical_size_x = 0.0003774\n",
    "\n",
    "# create metadata\n",
    "# TODO anything else?\n",
    "pixels = model.Pixels(\n",
    "    size_c = y_array.shape[0],\n",
    "    size_x = y_array.shape[2],\n",
    "    size_y = y_array.shape[1],\n",
    "    size_t = 1,\n",
    "    size_z = 1,\n",
    "    physical_size_x = physical_size_x,\n",
    "    physical_size_y = physical_size_x,\n",
    "    physical_size_x_unit = im_meta['unit'],\n",
    "    physical_size_y_unit = im_meta['unit'],\n",
    "    type = 'uint16',\n",
    "    dimension_order = model.Pixels_DimensionOrder.XYZCT,\n",
    "    metadata_only = True\n",
    ")\n",
    "\n",
    "for x in im_channels:\n",
    "    pixels.channels.append(model.Channel(name = x))\n",
    "\n",
    "# add metadata\n",
    "im_metadata = model.OME(images=[model.Image(pixels=pixels)])\n",
    "\n",
    "ome_xml_utils.write_ome_xml(zarr_path, im_metadata)"
   ]
  },
  {
   "cell_type": "code",
   "execution_count": 95,
   "id": "f99384ca-53ab-4dc6-b7f2-b9a1c4273dfa",
   "metadata": {},
   "outputs": [],
   "source": [
    "from py.napari_utils import NapariUtils"
   ]
  },
  {
   "cell_type": "code",
   "execution_count": 97,
   "id": "1ebb1e02-431f-40f5-aa2e-10368ee9aad4",
   "metadata": {},
   "outputs": [],
   "source": [
    "napari_utils = NapariUtils()"
   ]
  },
  {
   "cell_type": "code",
   "execution_count": 98,
   "id": "6f3e60ee-aa51-4853-8c48-199817b6ae65",
   "metadata": {},
   "outputs": [],
   "source": [
    "napari_utils.open_viewer()"
   ]
  },
  {
   "cell_type": "code",
   "execution_count": 101,
   "id": "054b1e86-b0df-4890-8dd5-244a0707d2a6",
   "metadata": {},
   "outputs": [
    {
     "name": "stdout",
     "output_type": "stream",
     "text": [
      "<zarr.hierarchy.Group '/' read-only>\n",
      "[34, 9072, 9408]\n",
      "[9408, 9072, 34]\n",
      "['X', 'Y', 'C']\n",
      "[34, 9072, 9408]\n"
     ]
    }
   ],
   "source": [
    "napari_utils.open_image(zarr_path, use_channel_axis = True, channel_names = im_channels, visible = False)"
   ]
  },
  {
   "cell_type": "code",
   "execution_count": null,
   "id": "7c1f7536",
   "metadata": {},
   "outputs": [],
   "source": [
    "im, _ = zarr_utils.open_as_zarr(im_path, as_dask=True)"
   ]
  },
  {
   "cell_type": "code",
   "execution_count": null,
   "id": "36d2adb2-24f3-4299-adbf-80580cd069fd",
   "metadata": {},
   "outputs": [],
   "source": [
    "import napari\n",
    "\n",
    "viewer = napari.viewer.Viewer()"
   ]
  },
  {
   "cell_type": "code",
   "execution_count": null,
   "id": "58975439-5247-4650-8c1b-b8e62e162f87",
   "metadata": {},
   "outputs": [],
   "source": [
    "viewer.add_image(im, channel_axis=1, visible=False)"
   ]
  },
  {
   "cell_type": "code",
   "execution_count": null,
   "id": "0771d558-da5f-4493-9032-c5251edf1085",
   "metadata": {},
   "outputs": [],
   "source": [
    "import skimage.filters\n",
    "import skimage.morphology"
   ]
  },
  {
   "cell_type": "code",
   "execution_count": null,
   "id": "29e83978-2e01-41d4-aa48-f9e83204614a",
   "metadata": {},
   "outputs": [],
   "source": [
    "avg_slices = [slice(None) for _ in range(len(im.shape))]\n",
    "avg_slices[x_idx] = slice(500, 1000, 1)\n",
    "avg_slices[y_idx] = slice(2000, 2500, 1)"
   ]
  },
  {
   "cell_type": "code",
   "execution_count": null,
   "id": "37e70c7b-6ce7-41d6-a75d-49410afeba4b",
   "metadata": {},
   "outputs": [],
   "source": [
    "from matplotlib import pyplot as plt\n",
    "\n",
    "plt.figure(figsize=(10,c_val * 5))\n",
    "percentile = 75\n",
    "\n",
    "for i, x in enumerate(range(c_val)):  \n",
    "    slices[c_idx] = x\n",
    "    plt.subplot(c_val,2,(i*2)+1)\n",
    "    plt.imshow(np.squeeze(im[tuple(slices)]), cmap='gray')\n",
    "    plt.title(i)\n",
    "    \n",
    "    plt.subplot(c_val,2,(i*2)+2)\n",
    "    plt.imshow(np.squeeze(\n",
    "        (np.squeeze(im[tuple(slices)]) + 1) / (np.percentile(im[tuple(avg_slices)].compute(), percentile, axis = c_idx).astype(np.uint8) + 1)\n",
    "    ), cmap='magma')\n",
    "    plt.title(f'DIFF {i}')"
   ]
  },
  {
   "cell_type": "code",
   "execution_count": null,
   "id": "eadfb775-80ed-4e10-abe2-7f1ce5383ebc",
   "metadata": {},
   "outputs": [],
   "source": []
  },
  {
   "cell_type": "code",
   "execution_count": null,
   "id": "e55b3d25-318b-488a-8ad9-53a19b723dbc",
   "metadata": {},
   "outputs": [],
   "source": []
  }
 ],
 "metadata": {
  "kernelspec": {
   "display_name": "Python 3 (ipykernel)",
   "language": "python",
   "name": "python3"
  },
  "language_info": {
   "codemirror_mode": {
    "name": "ipython",
    "version": 3
   },
   "file_extension": ".py",
   "mimetype": "text/x-python",
   "name": "python",
   "nbconvert_exporter": "python",
   "pygments_lexer": "ipython3",
   "version": "3.9.18"
  }
 },
 "nbformat": 4,
 "nbformat_minor": 5
}
