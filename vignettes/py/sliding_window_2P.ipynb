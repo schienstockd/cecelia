{
 "cells": [
  {
   "cell_type": "code",
   "execution_count": 1,
   "id": "d913e680",
   "metadata": {},
   "outputs": [],
   "source": [
    "import os\n",
    "import numpy as np\n",
    "# import working directory to check functions\n",
    "os.chdir('/Users/schiend/Desktop/DOHERTY/R-workspace/cecelia/inst')\n",
    "\n",
    "# config\n",
    "import py.config_utils as cfg\n",
    "\n",
    "%load_ext autoreload\n",
    "%autoreload 2"
   ]
  },
  {
   "cell_type": "code",
   "execution_count": 2,
   "id": "e43a213a",
   "metadata": {},
   "outputs": [],
   "source": [
    "base_dir = '/Volumes/Analysis_SSD/Dominik/cecelia/projects/8BR53W/ANALYSIS/'"
   ]
  },
  {
   "cell_type": "code",
   "execution_count": 3,
   "id": "95055b49",
   "metadata": {},
   "outputs": [],
   "source": [
    "im_paths = [\n",
    "    #os.path.join(base_dir, '0', 'h4bJUq','ccidImage.ome.zarr'),\n",
    "    #os.path.join(base_dir, '0', 'h4bJUq','ccidCorrected.zarr'),\n",
    "    os.path.join(base_dir, '0', 'h4bJUq','_ccidCorrected.zarr'),\n",
    "]"
   ]
  },
  {
   "cell_type": "code",
   "execution_count": 30,
   "id": "b12002ba",
   "metadata": {},
   "outputs": [],
   "source": [
    "im_dat, zarr_group_info = zarr_utils.open_as_zarr(\n",
    "    os.path.join(base_dir, '0', 'h4bJUq','_ccidCorrected.zarr'), as_dask = True)"
   ]
  },
  {
   "cell_type": "code",
   "execution_count": 35,
   "id": "4e6be900",
   "metadata": {},
   "outputs": [
    {
     "data": {
      "text/plain": [
       "dtype('>u2')"
      ]
     },
     "execution_count": 35,
     "metadata": {},
     "output_type": "execute_result"
    }
   ],
   "source": [
    "im_dat[0].dtype"
   ]
  },
  {
   "cell_type": "code",
   "execution_count": 38,
   "id": "2769ec74",
   "metadata": {},
   "outputs": [
    {
     "name": "stdout",
     "output_type": "stream",
     "text": [
      ">> correct image by sliding window\n"
     ]
    },
    {
     "name": "stderr",
     "output_type": "stream",
     "text": [
      "100%|███████████████████████████████████████████████████████████████| 11/11 [04:14<00:00, 23.14s/it]\n"
     ]
    },
    {
     "name": "stdout",
     "output_type": "stream",
     "text": [
      ">> save back\n"
     ]
    }
   ],
   "source": [
    "import modules.sources.cleanupImages.py.sliding_window_correct as sliding_window_correct\n",
    "\n",
    "params = {\n",
    "    'imPath': os.path.join(base_dir, '0', 'h4bJUq','_ccidCorrected.zarr'),\n",
    "    'imCorrectionPath': os.path.join(base_dir, '0', 'h4bJUq','ccidSliding.zarr'),\n",
    "    'slidingWindow': 2\n",
    "}\n",
    "\n",
    "sliding_window_correct.run(params)"
   ]
  },
  {
   "cell_type": "code",
   "execution_count": 16,
   "id": "85a4877d",
   "metadata": {},
   "outputs": [
    {
     "data": {
      "text/plain": [
       "[<Image layer 'Image [4]' at 0x1770070d0>,\n",
       " <Image layer 'Image [5]' at 0x178380fd0>,\n",
       " <Image layer 'Image [6]' at 0x1783a46d0>,\n",
       " <Image layer 'Image [7]' at 0x178439ee0>]"
      ]
     },
     "execution_count": 16,
     "metadata": {},
     "output_type": "execute_result"
    }
   ],
   "source": [
    "viewer.layers.clear()\n",
    "\n",
    "viewer.add_image(im, channel_axis = dim_utils[0].dim_idx('C'), blending = 'additive')\n",
    "viewer.add_image(sum_zarr, channel_axis = dim_utils[0].dim_idx('C'), blending = 'additive')"
   ]
  },
  {
   "cell_type": "code",
   "execution_count": null,
   "id": "f73983b2",
   "metadata": {},
   "outputs": [],
   "source": []
  }
 ],
 "metadata": {
  "kernelspec": {
   "display_name": "Python 3 (ipykernel)",
   "language": "python",
   "name": "python3"
  },
  "language_info": {
   "codemirror_mode": {
    "name": "ipython",
    "version": 3
   },
   "file_extension": ".py",
   "mimetype": "text/x-python",
   "name": "python",
   "nbconvert_exporter": "python",
   "pygments_lexer": "ipython3",
   "version": "3.9.13"
  }
 },
 "nbformat": 4,
 "nbformat_minor": 5
}
