{
 "cells": [
  {
   "cell_type": "code",
   "execution_count": 1,
   "id": "a2fc902c",
   "metadata": {},
   "outputs": [],
   "source": [
    "import os\n",
    "import numpy as np\n",
    "# import working directory to check functions\n",
    "os.chdir('/Users/Dominik/R-workspace/cecelia/inst')\n",
    "\n",
    "# MacOS\n",
    "os.environ['KMP_DUPLICATE_LIB_OK'] = 'TRUE'\n",
    "\n",
    "# config\n",
    "import py.config_utils as cfg\n",
    "\n",
    "%load_ext autoreload\n",
    "%autoreload 2"
   ]
  },
  {
   "cell_type": "code",
   "execution_count": 2,
   "id": "8f75f4eb",
   "metadata": {},
   "outputs": [],
   "source": [
    "base_dir = '/Volumes/USER_data/Dominik/CECELIA_BACKUP/CV5iNI/ANALYSIS/'\n",
    "zero_dir = os.path.join(base_dir, '0/HYmMxh/')\n",
    "#im_path = os.path.join(zero_dir, 'ccidImage.ome.zarr')\n",
    "#im_path = os.path.join(zero_dir, 'ccidCorrected.zarr')\n",
    "im_path = os.path.join(zero_dir, 'ccidSlidingWindow.zarr')\n",
    "version_num = 1\n",
    "task_dir = os.path.join(base_dir, str(version_num), 'HYmMxh')"
   ]
  },
  {
   "cell_type": "code",
   "execution_count": 3,
   "id": "167a3d83-efca-47e4-9ded-d12e04442ecb",
   "metadata": {},
   "outputs": [],
   "source": [
    "base_dir = '/Volumes/USER_data/Dominik/CECELIA_BACKUP/Ar69Mq/ANALYSIS/'\n",
    "zero_dir = os.path.join(base_dir, '0/6VVbzF/')\n",
    "im_path = os.path.join(zero_dir, 'ccidImage.ome.zarr')\n",
    "version_num = 1\n",
    "task_dir = os.path.join(base_dir, str(version_num), '6VVbzF')"
   ]
  },
  {
   "cell_type": "code",
   "execution_count": 47,
   "id": "4771ab94-de16-4327-bfdc-17ab67a7fa0f",
   "metadata": {
    "scrolled": true
   },
   "outputs": [
    {
     "name": "stdout",
     "output_type": "stream",
     "text": [
      "<zarr.hierarchy.Group '/0' read-only>\n"
     ]
    }
   ],
   "source": [
    "import py.zarr_utils as zarr_utils\n",
    "\n",
    "im_data, _ = zarr_utils.open_zarr(im_path, as_dask = False)"
   ]
  },
  {
   "cell_type": "code",
   "execution_count": 48,
   "id": "91579a02-1d52-4c28-a64b-2a2804e165c7",
   "metadata": {},
   "outputs": [
    {
     "data": {
      "text/plain": [
       "(192, 3, 1, 2048, 2048)"
      ]
     },
     "execution_count": 48,
     "metadata": {},
     "output_type": "execute_result"
    }
   ],
   "source": [
    "im_data[0].shape"
   ]
  },
  {
   "cell_type": "code",
   "execution_count": 29,
   "id": "9e9a4c32-781c-4c3d-bf26-bcdd5da35c05",
   "metadata": {
    "scrolled": true
   },
   "outputs": [
    {
     "name": "stderr",
     "output_type": "stream",
     "text": [
      "[INFO][2023/12/08 01:05:57 PM] Loaded btrack: /Users/Dominik/Library/r-miniconda/envs/r-cecelia-env/lib/python3.9/site-packages/btrack/libs/libtracker.dylib\n",
      "[INFO][2023/12/08 01:05:57 PM] Starting BayesianTracker session\n",
      "[INFO][2023/12/08 01:05:57 PM] Loading configuration file: /Users/Dominik/cecelia/dev/models/btrackModels/cell_config.json\n",
      "[INFO][2023/12/08 01:05:57 PM] Objects are of type: <class 'pandas.core.frame.DataFrame'>\n"
     ]
    },
    {
     "name": "stdout",
     "output_type": "stream",
     "text": [
      "> Use labelProps/merged.h5ad\n",
      ">> Filter tracks by\n",
      "[]\n",
      "3\n",
      "['one', 'two', 'three']\n",
      ">> Start tracking objects\n"
     ]
    },
    {
     "name": "stderr",
     "output_type": "stream",
     "text": [
      "[INFO][2023/12/08 01:05:58 PM] Starting tracking... \n",
      "[INFO][2023/12/08 01:05:58 PM] Update using: ['MOTION']\n",
      "[INFO][2023/12/08 01:05:58 PM] Tracking objects in frames 0 to 99 (of 192)...\n",
      "[INFO][2023/12/08 01:06:23 PM]  - Timing (Bayesian updates: 350.13ms, Linking: 4.22ms)\n",
      "[INFO][2023/12/08 01:06:23 PM]  - Probabilities (Link: 0.74215, Lost: 0.08111)\n",
      "[INFO][2023/12/08 01:06:23 PM]  - Stats (Active: 522, Lost: 1332, Conflicts resolved: 986)\n",
      "[INFO][2023/12/08 01:06:23 PM] Tracking objects in frames 100 to 192 (of 192)...\n",
      "[INFO][2023/12/08 01:07:05 PM]  - Timing (Bayesian updates: 605.55ms, Linking: 5.72ms)\n",
      "[INFO][2023/12/08 01:07:05 PM]  - Probabilities (Link: 0.99868, Lost: 0.55955)\n",
      "[INFO][2023/12/08 01:07:05 PM] SUCCESS.\n",
      "[INFO][2023/12/08 01:07:05 PM]  - Found 4833 tracks in 192 frames (in 0.0s)\n",
      "[INFO][2023/12/08 01:07:05 PM]  - Inserted 856 dummy objects to fill tracking gaps\n",
      "[INFO][2023/12/08 01:07:05 PM] Loading hypothesis model: cell_hypothesis\n",
      "[INFO][2023/12/08 01:07:05 PM] Calculating hypotheses (relax: True)...\n",
      "[INFO][2023/12/08 01:07:05 PM] Setting up constraints matrix for global optimisation...\n",
      "[INFO][2023/12/08 01:07:05 PM] Using GLPK options: {'tm_lim': 600000}...\n",
      "[INFO][2023/12/08 01:07:05 PM] Optimizing...\n",
      "[INFO][2023/12/08 01:07:21 PM] Optimization complete. (Solution: optimal)\n",
      "[INFO][2023/12/08 01:07:21 PM]  - Fates.FALSE_POSITIVE: 0 (of 4833)\n",
      "[INFO][2023/12/08 01:07:21 PM]  - Fates.LINK: 2512 (of 5861)\n",
      "[INFO][2023/12/08 01:07:21 PM]  - Fates.DIVIDE: 779 (of 2378)\n",
      "[INFO][2023/12/08 01:07:21 PM]  - Fates.INITIALIZE_BORDER: 73 (of 166)\n",
      "[INFO][2023/12/08 01:07:21 PM]  - Fates.INITIALIZE_FRONT: 405 (of 439)\n",
      "[INFO][2023/12/08 01:07:21 PM]  - Fates.INITIALIZE_LAZY: 285 (of 4228)\n",
      "[INFO][2023/12/08 01:07:21 PM]  - Fates.TERMINATE_BORDER: 74 (of 145)\n",
      "[INFO][2023/12/08 01:07:21 PM]  - Fates.TERMINATE_BACK: 729 (of 779)\n",
      "[INFO][2023/12/08 01:07:21 PM]  - Fates.TERMINATE_LAZY: 739 (of 3909)\n",
      "[INFO][2023/12/08 01:07:21 PM]  - TOTAL: 22738 hypotheses\n"
     ]
    },
    {
     "name": "stdout",
     "output_type": "stream",
     "text": [
      "GLPK Integer Optimizer 5.0\n",
      "19332 rows, 22738 columns, 38188 non-zeros\n",
      "22738 integer variables, all of which are binary\n",
      "Preprocessing...\n",
      "9666 rows, 22738 columns, 38188 non-zeros\n",
      "22738 integer variables, all of which are binary\n",
      "Scaling...\n",
      " A: min|aij| =  1.000e+00  max|aij| =  1.000e+00  ratio =  1.000e+00\n",
      "Problem data seem to be well scaled\n",
      "Constructing initial basis...\n",
      "Size of triangular part is 9666\n",
      "Solving LP relaxation...\n",
      "GLPK Simplex Optimizer 5.0\n",
      "9666 rows, 22738 columns, 38188 non-zeros\n",
      "*     0: obj =   8.548150242e+03 inf =   0.000e+00 (8187)\n",
      "Perturbing LP to avoid stalling [758]...\n",
      "Removing LP perturbation [6377]...\n",
      "*  6377: obj =   2.284988351e+03 inf =   0.000e+00 (0) 7\n",
      "OPTIMAL LP SOLUTION FOUND\n",
      "Integer optimization begins...\n",
      "Long-step dual simplex will be used\n",
      "+  6377: mip =     not found yet >=              -inf        (1; 0)\n",
      "+  6429: >>>>>   2.289935489e+03 >=   2.285880558e+03   0.2% (36; 0)\n",
      "+  6604: mip =   2.289935489e+03 >=   2.287818333e+03 < 0.1% (73; 13)\n",
      "+  6916: mip =   2.289935489e+03 >=   2.289125354e+03 < 0.1% (62; 46)\n",
      "+  7079: >>>>>   2.289854985e+03 >=   2.289803754e+03 < 0.1% (26; 107)\n",
      "+  7094: mip =   2.289854985e+03 >=     tree is empty   0.0% (0; 225)\n",
      "INTEGER OPTIMAL SOLUTION FOUND\n"
     ]
    },
    {
     "name": "stderr",
     "output_type": "stream",
     "text": [
      "[INFO][2023/12/08 01:07:21 PM] Completed optimization with 2321 tracks\n",
      "[INFO][2023/12/08 01:07:21 PM] Ending BayesianTracker session\n"
     ]
    },
    {
     "name": "stdout",
     "output_type": "stream",
     "text": [
      "> found 2321 tracks\n",
      "> after filtering 1568\n",
      ">> Save back to label properties\n",
      "> Save to /Volumes/USER_data/Dominik/CECELIA_BACKUP/Ar69Mq/ANALYSIS/1/6VVbzF/labelProps/merged.h5ad\n"
     ]
    }
   ],
   "source": [
    "from py.bayesian_tracking_utils import BayesianTrackingUtils\n",
    "\n",
    "# define params\n",
    "params = {\n",
    "    'ccia': {\n",
    "        'value_name': 'merged',\n",
    "        'ccia_path': '/Users/Dominik/cecelia/dev/',\n",
    "        'channel_names': ['one', 'two', 'three']\n",
    "    },\n",
    "    'task_dir': task_dir,\n",
    "    'im_res': {'x': 0.431583821994115775, 'y': 0.431583821994115775},\n",
    "    'max_search_radius': 5,\n",
    "    'max_lost': 3,\n",
    "    'track_branching': True,\n",
    "    'accuracy': 0.98,\n",
    "    'prob_to_assign': 0.98,\n",
    "    'noise_inital': 300,\n",
    "    'noise_processing': 100,\n",
    "    'noise_measurements': 100,\n",
    "    'min_timepoints': 5,\n",
    "    'lambda_link': 10,\n",
    "    'lambda_branch': 100,\n",
    "    'lambda_time': 5,\n",
    "    'lambda_dist': 5,\n",
    "    'theta_time': 5,\n",
    "    'theta_dist': 5,\n",
    "    'dist_thresh': 20,\n",
    "    'time_thresh': 5,\n",
    "    'segmentation_miss_rate': 0.1,\n",
    "    'filters': []\n",
    "}\n",
    "\n",
    "# run tracking\n",
    "tracking_utils = BayesianTrackingUtils(params)\n",
    "tracks = tracking_utils.track_objects()"
   ]
  },
  {
   "cell_type": "code",
   "execution_count": 49,
   "id": "68bceb7b",
   "metadata": {},
   "outputs": [],
   "source": [
    "from py.napari_utils import NapariUtils\n",
    "\n",
    "napari_utils = NapariUtils()\n",
    "napari_utils.open_viewer()\n",
    "napari_utils.task_dir = task_dir"
   ]
  },
  {
   "cell_type": "code",
   "execution_count": 50,
   "id": "75724ef2",
   "metadata": {},
   "outputs": [],
   "source": [
    "channel_names = [\n",
    "    # 'EB', 'T-A', 'T-B', 'AF', 'gen'\n",
    "    'One'\n",
    "]"
   ]
  },
  {
   "cell_type": "code",
   "execution_count": 52,
   "id": "10e3e72e",
   "metadata": {},
   "outputs": [
    {
     "name": "stdout",
     "output_type": "stream",
     "text": [
      "<zarr.hierarchy.Group '/0' read-only>\n",
      "[192, 3, 1, 2048, 2048]\n",
      "[2048, 2048, 1, 3, 192]\n",
      "['X', 'Y', 'Z', 'C', 'T']\n",
      "[192, 3, 1, 2048, 2048]\n"
     ]
    }
   ],
   "source": [
    "napari_utils.open_image(\n",
    "    im_path,\n",
    "    use_channel_axis = True, as_dask = True,\n",
    "    downsample_z = False, squeeze = False\n",
    ")"
   ]
  },
  {
   "cell_type": "code",
   "execution_count": 74,
   "id": "afb04041-748c-4e5b-9e4c-d2989a6a556a",
   "metadata": {},
   "outputs": [],
   "source": [
    "napari_utils.show_labels_all(\n",
    "    show_labels = False,\n",
    "    show_points = False,\n",
    "    show_tracks = True,\n",
    "    value_names = ['merged']\n",
    ")"
   ]
  },
  {
   "cell_type": "code",
   "execution_count": 58,
   "id": "fd4669c6-c307-4361-9cb3-3bc2b7c02946",
   "metadata": {},
   "outputs": [],
   "source": [
    "import py.zarr_utils as zarr_utils\n",
    "\n",
    "tmp, _ = zarr_utils.open_labels_as_zarr(os.path.join(task_dir, 'labels', 'merged.tracks.zarr'))"
   ]
  },
  {
   "cell_type": "code",
   "execution_count": 67,
   "id": "06b4bb25-5e32-475c-a418-ed1d0454f1fd",
   "metadata": {},
   "outputs": [
    {
     "data": {
      "text/plain": [
       "0"
      ]
     },
     "execution_count": 67,
     "metadata": {},
     "output_type": "execute_result"
    }
   ],
   "source": [
    "napari_utils.dim_utils.dim_idx('Y', ignore_channel = True, ignore_time = True, drop_z = True)"
   ]
  },
  {
   "cell_type": "code",
   "execution_count": 71,
   "id": "43bec28a-6816-461f-bfa3-357c0bf07d06",
   "metadata": {},
   "outputs": [
    {
     "data": {
      "text/plain": [
       "[(slice(0, 2048, 1), slice(0, 2048, 1))]"
      ]
     },
     "execution_count": 71,
     "metadata": {},
     "output_type": "execute_result"
    }
   ],
   "source": [
    "import py.slice_utils as slice_utils\n",
    "\n",
    "slice_utils.create_slices(tmp[0].shape, napari_utils.dim_utils, ignore_time = True, drop_z = True)"
   ]
  },
  {
   "cell_type": "code",
   "execution_count": 4,
   "id": "112d6e0f",
   "metadata": {},
   "outputs": [],
   "source": [
    "import py.zarr_utils as zarr_utils"
   ]
  },
  {
   "cell_type": "code",
   "execution_count": 20,
   "id": "f4670140-cd93-40d5-a529-ffed7fb14578",
   "metadata": {},
   "outputs": [],
   "source": [
    "tmp, _ = zarr_utils.open_labels_as_zarr(os.path.join(task_dir, 'labels', 'merged_nuc.zarr'))"
   ]
  },
  {
   "cell_type": "code",
   "execution_count": 22,
   "id": "b3f4f9b9-e1b1-4604-b7a5-bd92213752bd",
   "metadata": {},
   "outputs": [],
   "source": [
    "a = zarr_utils.fortify(tmp[0][0, 0, :, :])"
   ]
  },
  {
   "cell_type": "code",
   "execution_count": 23,
   "id": "9371258f-0757-41a7-a08b-5aa12c4e59e3",
   "metadata": {},
   "outputs": [
    {
     "data": {
      "text/plain": [
       "0"
      ]
     },
     "execution_count": 23,
     "metadata": {},
     "output_type": "execute_result"
    }
   ],
   "source": [
    "a.max()"
   ]
  },
  {
   "cell_type": "code",
   "execution_count": 8,
   "id": "fb96790b",
   "metadata": {},
   "outputs": [],
   "source": [
    "labels = dict()\n",
    "\n",
    "tmp, _ = zarr_utils.open_labels_as_zarr(os.path.join(task_dir, 'labels', 'cells.zarr'))\n",
    "labels['cyto'] = zarr_utils.fortify(tmp[0][0, 0, :, :])\n",
    "tmp, _ = zarr_utils.open_labels_as_zarr(os.path.join(task_dir, 'labels', 'nuclei.zarr'))\n",
    "labels['nuc'] = zarr_utils.fortify(tmp[0][0, 0, :, :])"
   ]
  },
  {
   "cell_type": "code",
   "execution_count": 9,
   "id": "743d59fa",
   "metadata": {},
   "outputs": [],
   "source": [
    "import py.label_utils as label_utils\n",
    "\n",
    "labels_merged = label_utils.match_masks(\n",
    "    [labels['nuc'], labels['cyto']],\n",
    "    # [interm_labels['cyto'], interm_labels['nuc']],\n",
    "    stitch_threshold = 0.05,\n",
    "    remove_unmatched = True\n",
    ")"
   ]
  },
  {
   "cell_type": "code",
   "execution_count": 19,
   "id": "8dae58b7-da81-4b48-925d-36573d4e5f83",
   "metadata": {},
   "outputs": [
    {
     "data": {
      "text/plain": [
       "<Labels layer 'Labels [1]' at 0x2692ddfa0>"
      ]
     },
     "execution_count": 19,
     "metadata": {},
     "output_type": "execute_result"
    }
   ],
   "source": [
    "napari_utils.viewer.add_labels(labels_merged[1])"
   ]
  },
  {
   "cell_type": "code",
   "execution_count": null,
   "id": "01e6ee73",
   "metadata": {},
   "outputs": [],
   "source": [
    "from scipy import ndimage as ndi\n",
    "\n",
    "contours = np.copy(labels)\n",
    "eroded_labels = np.copy(labels)\n",
    "thickness = 1\n",
    "background_label = 0\n",
    "\n",
    "# go through all z-axis\n",
    "for i in range(labels.shape[0]):\n",
    "    cur_labels = labels[i,:,:]\n",
    "    \n",
    "    # adapted from from napari\n",
    "    # https://github.com/napari/napari/blob/996f502a7f94f68275625dd8b9e94978167f63f9/napari/layers/labels/_labels_utils.py#L208\n",
    "    struct_elem = ndi.generate_binary_structure(cur_labels.ndim, 1)\n",
    "    thick_struct_elem = ndi.iterate_structure(struct_elem, thickness).astype(bool)\n",
    "\n",
    "    dilated_labels = ndi.grey_dilation(cur_labels, footprint=struct_elem)\n",
    "    eroded_labels[i,:,:] = ndi.grey_erosion(cur_labels, footprint=thick_struct_elem)\n",
    "    not_boundaries = dilated_labels == eroded_labels[i,:,:]\n",
    "\n",
    "    contours[i,:,:][not_boundaries] = background_label\n",
    "    eroded_labels[i,:,:] = eroded_labels[i,:,:] - contours[i,:,:]"
   ]
  },
  {
   "cell_type": "code",
   "execution_count": null,
   "id": "36080b3e",
   "metadata": {},
   "outputs": [],
   "source": [
    "from skimage.morphology import skeletonize\n",
    "import matplotlib.pyplot as plt\n",
    "\n",
    "# perform skeletonization\n",
    "skeleton = skeletonize(contours)\n",
    "\n",
    "# now convert to skan\n",
    "import skan\n",
    "\n",
    "sk_skeleton = skan.Skeleton(skeleton)\n",
    "paths_table = skan.summarize(sk_skeleton)"
   ]
  },
  {
   "cell_type": "code",
   "execution_count": null,
   "id": "697d7bca",
   "metadata": {},
   "outputs": [],
   "source": [
    "from skimage.util import invert\n",
    "\n",
    "bin_labels = np.copy(eroded_labels)\n",
    "bin_labels[bin_labels > 0] = 2\n",
    "bin_labels[bin_labels == 0] = 1\n",
    "bin_labels[bin_labels == 2] = 0\n",
    "\n",
    "from skimage.morphology import (erosion, dilation, opening, closing,\n",
    "                                white_tophat)\n",
    "\n",
    "morph_labels = white_tophat(bin_labels, ndi.generate_binary_structure(bin_labels.ndim, 1))\n",
    "\n",
    "# perform skeletonization\n",
    "skeleton = skeletonize(morph_labels)\n",
    "\n",
    "# display results\n",
    "fig, axes = plt.subplots(nrows=1, ncols=3, figsize=(12, 4),\n",
    "                         sharex=True, sharey=True)\n",
    "\n",
    "ax = axes.ravel()\n",
    "\n",
    "z_val = 8\n",
    "ax[0].imshow(bin_labels[z_val,:,:], cmap=plt.cm.gray)\n",
    "ax[0].axis('off')\n",
    "ax[0].set_title('Bin', fontsize=20)\n",
    "\n",
    "ax[1].imshow(morph_labels[z_val,:,:], cmap=plt.cm.gray)\n",
    "ax[1].axis('off')\n",
    "ax[1].set_title('Contours', fontsize=20)\n",
    "\n",
    "ax[2].imshow(np.max(skeleton, axis=0), cmap=plt.cm.gray)\n",
    "ax[2].axis('off')\n",
    "ax[2].set_title('Skeleton', fontsize=20)\n",
    "\n",
    "fig.tight_layout()\n",
    "plt.show()"
   ]
  },
  {
   "cell_type": "code",
   "execution_count": null,
   "id": "b48a29f7",
   "metadata": {},
   "outputs": [],
   "source": [
    "import matplotlib.pyplot as plt\n",
    "import numpy as np\n",
    "from skimage import data\n",
    "from skimage.color import label2rgb\n",
    "from skimage.filters import sobel\n",
    "from skimage.morphology import dilation, disk\n",
    "from skimage.measure import label\n",
    "from skimage.segmentation import expand_labels, watershed\n",
    "\n",
    "coins = data.coins()\n",
    "\n",
    "# Make segmentation using edge-detection and watershed.\n",
    "edges = sobel(coins)\n",
    "\n",
    "# Identify some background and foreground pixels from the intensity values.\n",
    "# These pixels are used as seeds for watershed.\n",
    "markers = np.zeros_like(coins)\n",
    "foreground, background = 1, 2\n",
    "markers[coins < 30.0] = background\n",
    "markers[coins > 150.0] = foreground\n",
    "\n",
    "ws = watershed(edges, markers)\n",
    "seg1 = label(ws == foreground)\n",
    "\n",
    "# expanded = expand_labels(seg1, distance=10)\n",
    "expanded = dilation(seg1, disk(20))\n",
    "\n",
    "# Show the segmentations.\n",
    "fig, axes = plt.subplots(\n",
    "    nrows=1,\n",
    "    ncols=3,\n",
    "    figsize=(9, 5),\n",
    "    sharex=True,\n",
    "    sharey=True,\n",
    ")\n",
    "\n",
    "axes[0].imshow(coins, cmap=\"Greys_r\")\n",
    "axes[0].set_title(\"Original\")\n",
    "\n",
    "color1 = label2rgb(seg1, image=coins, bg_label=0)\n",
    "axes[1].imshow(color1)\n",
    "axes[1].set_title(\"Sobel+Watershed\")\n",
    "\n",
    "color2 = label2rgb(expanded, image=coins, bg_label=0)\n",
    "axes[2].imshow(color2)\n",
    "axes[2].set_title(\"Expanded labels\")\n",
    "\n",
    "for a in axes:\n",
    "    a.axis(\"off\")\n",
    "fig.tight_layout()\n",
    "plt.show()\n"
   ]
  },
  {
   "cell_type": "code",
   "execution_count": null,
   "id": "56f3e14b",
   "metadata": {},
   "outputs": [],
   "source": [
    "all([True, False])"
   ]
  },
  {
   "cell_type": "code",
   "execution_count": null,
   "id": "7659217d",
   "metadata": {},
   "outputs": [],
   "source": [
    "import py.slice_utils as slice_utils"
   ]
  },
  {
   "cell_type": "code",
   "execution_count": null,
   "id": "b5bf1e27",
   "metadata": {},
   "outputs": [],
   "source": [
    "zarr_shape = list(napari_utils.im_data[0].shape)\n",
    "zarr_shape.pop(napari_utils.dim_utils.dim_idx('C'))"
   ]
  },
  {
   "cell_type": "code",
   "execution_count": null,
   "id": "d7b71dee",
   "metadata": {},
   "outputs": [],
   "source": [
    "a = [[.1],[2],[34]]"
   ]
  },
  {
   "cell_type": "code",
   "execution_count": null,
   "id": "bd1b992d",
   "metadata": {},
   "outputs": [],
   "source": [
    "a[1].insert(0, 1)"
   ]
  },
  {
   "cell_type": "code",
   "execution_count": null,
   "id": "d648ce08",
   "metadata": {},
   "outputs": [],
   "source": [
    "a"
   ]
  },
  {
   "cell_type": "code",
   "execution_count": null,
   "id": "6be2f4d2",
   "metadata": {},
   "outputs": [],
   "source": [
    "slice_utils.create_slices(\n",
    "  zarr_shape, napari_utils.dim_utils, 1000, -1,\n",
    "  block_size_z = -1, overlap_z = -1)"
   ]
  },
  {
   "cell_type": "code",
   "execution_count": null,
   "id": "f984f16f",
   "metadata": {},
   "outputs": [],
   "source": [
    "napari_utils.show_labels_all(\n",
    "    show_labels = True,\n",
    "    show_points = False,\n",
    "    show_tracks = False,\n",
    "    show_branching = True,\n",
    "    branching_property = 'weight',\n",
    "    value_names = ['SHG.branch']\n",
    ")"
   ]
  },
  {
   "cell_type": "code",
   "execution_count": null,
   "id": "99f68987",
   "metadata": {},
   "outputs": [],
   "source": [
    "napari_utils.show_labels_all(\n",
    "    show_labels = False,\n",
    "    show_points = False,\n",
    "    show_tracks = True,\n",
    "    value_names = ['P14-CTDR']\n",
    ")"
   ]
  },
  {
   "cell_type": "code",
   "execution_count": null,
   "id": "8056458e",
   "metadata": {},
   "outputs": [],
   "source": [
    "# get timescale\n",
    "napari_utils.time_interval = 0.5"
   ]
  },
  {
   "cell_type": "code",
   "execution_count": null,
   "id": "d2c3b11e",
   "metadata": {},
   "outputs": [],
   "source": [
    "napari_utils.viewer.text_overlay.position = napa"
   ]
  },
  {
   "cell_type": "code",
   "execution_count": null,
   "id": "676e3976",
   "metadata": {},
   "outputs": [],
   "source": [
    "def update_slider(event):\n",
    "    # https://forum.image.sc/t/napari-how-add-a-text-label-time-always-in-the-same-spot-in-viewer/52932/5\n",
    "    time = napari_utils.viewer.dims.current_step[0]\n",
    "    napari_utils.viewer.text_overlay.text = str(datetime.timedelta(seconds = time * napari_utils.time_interval * 60))\n",
    "\n",
    "import datetime\n",
    "\n",
    "napari_utils.viewer.text_overlay.position\n",
    "napari_utils.viewer.text_overlay.visible = True\n",
    "napari_utils.viewer.text_overlay.font_size = 12\n",
    "napari_utils.viewer.text_overlay.color = 'white'\n",
    "napari_utils.viewer.dims.events.current_step.connect(update_slider)"
   ]
  },
  {
   "cell_type": "code",
   "execution_count": null,
   "id": "f6b6f4da",
   "metadata": {},
   "outputs": [],
   "source": [
    "napari_utils.im_scale"
   ]
  },
  {
   "cell_type": "code",
   "execution_count": null,
   "id": "4181f11d",
   "metadata": {},
   "outputs": [],
   "source": [
    "napari_utils.show_labels_all(\n",
    "    show_labels = True,\n",
    "    show_points = False,\n",
    "    show_tracks = False,\n",
    "    value_names = ['manual'],\n",
    "    as_np_array = True\n",
    ")"
   ]
  },
  {
   "cell_type": "code",
   "execution_count": null,
   "id": "a4795aa6",
   "metadata": {},
   "outputs": [],
   "source": [
    "# show populations\n",
    "napari_utils.show_pop_mapping('live')"
   ]
  },
  {
   "cell_type": "code",
   "execution_count": null,
   "id": "9dc9ea21",
   "metadata": {},
   "outputs": [],
   "source": [
    "# save image as tiff\n",
    "import py.tiff_utils as tiff_utils\n",
    "\n",
    "tiff_utils.save_as_tiff(\n",
    "    '/Volumes/USER_data/Dominik/Experiments/TEAGEN_SKIN/DATA/PuJo5p.tif',\n",
    "    napari_utils.im_data[0], napari_utils.dim_utils, imagej = True)"
   ]
  },
  {
   "cell_type": "code",
   "execution_count": null,
   "id": "11d94ed5",
   "metadata": {},
   "outputs": [],
   "source": [
    "print('here')"
   ]
  },
  {
   "cell_type": "code",
   "execution_count": null,
   "id": "845275bb",
   "metadata": {},
   "outputs": [],
   "source": [
    "napari_utils.im_scale"
   ]
  },
  {
   "cell_type": "code",
   "execution_count": null,
   "id": "a1f26ae6",
   "metadata": {},
   "outputs": [],
   "source": [
    "from napari_animation import AnimationWidget\n",
    "animation_widget = AnimationWidget(napari_utils.viewer)\n",
    "napari_utils.viewer.window.add_dock_widget(animation_widget, area='right')"
   ]
  },
  {
   "cell_type": "code",
   "execution_count": null,
   "id": "a6ab6541",
   "metadata": {},
   "outputs": [],
   "source": [
    "pop_type = 'live'\n",
    "pop_map = napari_utils.pop_utils.pop_map(napari_utils.task_dir, pop_type)\n",
    "pop_data = napari_utils.pop_utils.pop_data(napari_utils.task_dir, pop_type)"
   ]
  },
  {
   "cell_type": "code",
   "execution_count": null,
   "id": "971a2e9f",
   "metadata": {},
   "outputs": [],
   "source": [
    "pop_info = pop_map['5iaWSo']"
   ]
  },
  {
   "cell_type": "code",
   "execution_count": null,
   "id": "56530832",
   "metadata": {},
   "outputs": [],
   "source": [
    "pop_info"
   ]
  },
  {
   "cell_type": "code",
   "execution_count": null,
   "id": "bbf3c9e9",
   "metadata": {},
   "outputs": [],
   "source": []
  }
 ],
 "metadata": {
  "kernelspec": {
   "display_name": "Python 3 (ipykernel)",
   "language": "python",
   "name": "python3"
  },
  "language_info": {
   "codemirror_mode": {
    "name": "ipython",
    "version": 3
   },
   "file_extension": ".py",
   "mimetype": "text/x-python",
   "name": "python",
   "nbconvert_exporter": "python",
   "pygments_lexer": "ipython3",
   "version": "3.9.18"
  }
 },
 "nbformat": 4,
 "nbformat_minor": 5
}
