{
 "cells": [
  {
   "cell_type": "code",
   "execution_count": 2,
   "id": "a2fc902c",
   "metadata": {},
   "outputs": [],
   "source": [
    "import os\n",
    "import numpy as np\n",
    "# import working directory to check functions\n",
    "os.chdir('/Users/schiend/Desktop/DOHERTY/R-workspace/cecelia/inst')\n",
    "\n",
    "# config\n",
    "import py.config_utils as cfg\n",
    "\n",
    "%load_ext autoreload\n",
    "%autoreload 2"
   ]
  },
  {
   "cell_type": "code",
   "execution_count": 3,
   "id": "8f75f4eb",
   "metadata": {},
   "outputs": [],
   "source": [
    "base_dir = '/Volumes/USER_data/Dominik/Experiments/stomics/10x/Xenium_FFPE_Human_Breast_Cancer_Rep1_outs'\n",
    "transcripts_path = os.path.join(base_dir, 'transcripts.csv.gz')\n",
    "im_path = os.path.join(base_dir, 'morphology_mip.ome.tif')\n",
    "ts_zarr_path = os.path.join(base_dir, 'ts.zarr')"
   ]
  },
  {
   "cell_type": "code",
   "execution_count": 5,
   "id": "f2080963",
   "metadata": {},
   "outputs": [
    {
     "name": "stderr",
     "output_type": "stream",
     "text": [
      "/var/folders/rb/m9wptf8x58x_82t7lg081kfs1fj7kv/T/ipykernel_1743/935456629.py:4: FutureWarning: The error_bad_lines argument has been deprecated and will be removed in a future version. Use on_bad_lines in the future.\n",
      "\n",
      "\n",
      "  ts_data = pd.read_csv(transcripts_path, compression = 'gzip', error_bad_lines = False)\n"
     ]
    },
    {
     "data": {
      "text/html": [
       "<div>\n",
       "<style scoped>\n",
       "    .dataframe tbody tr th:only-of-type {\n",
       "        vertical-align: middle;\n",
       "    }\n",
       "\n",
       "    .dataframe tbody tr th {\n",
       "        vertical-align: top;\n",
       "    }\n",
       "\n",
       "    .dataframe thead th {\n",
       "        text-align: right;\n",
       "    }\n",
       "</style>\n",
       "<table border=\"1\" class=\"dataframe\">\n",
       "  <thead>\n",
       "    <tr style=\"text-align: right;\">\n",
       "      <th></th>\n",
       "      <th>transcript_id</th>\n",
       "      <th>cell_id</th>\n",
       "      <th>overlaps_nucleus</th>\n",
       "      <th>feature_name</th>\n",
       "      <th>x_location</th>\n",
       "      <th>y_location</th>\n",
       "      <th>z_location</th>\n",
       "      <th>qv</th>\n",
       "    </tr>\n",
       "  </thead>\n",
       "  <tbody>\n",
       "    <tr>\n",
       "      <th>0</th>\n",
       "      <td>281474976710656</td>\n",
       "      <td>565</td>\n",
       "      <td>0</td>\n",
       "      <td>SEC11C</td>\n",
       "      <td>4.395842</td>\n",
       "      <td>328.66647</td>\n",
       "      <td>12.019493</td>\n",
       "      <td>18.662480</td>\n",
       "    </tr>\n",
       "    <tr>\n",
       "      <th>1</th>\n",
       "      <td>281474976710657</td>\n",
       "      <td>540</td>\n",
       "      <td>0</td>\n",
       "      <td>NegControlCodeword_0502</td>\n",
       "      <td>5.074415</td>\n",
       "      <td>236.96484</td>\n",
       "      <td>7.608511</td>\n",
       "      <td>18.634956</td>\n",
       "    </tr>\n",
       "    <tr>\n",
       "      <th>2</th>\n",
       "      <td>281474976710658</td>\n",
       "      <td>562</td>\n",
       "      <td>0</td>\n",
       "      <td>SEC11C</td>\n",
       "      <td>4.702023</td>\n",
       "      <td>322.79715</td>\n",
       "      <td>12.289083</td>\n",
       "      <td>18.662480</td>\n",
       "    </tr>\n",
       "    <tr>\n",
       "      <th>3</th>\n",
       "      <td>281474976710659</td>\n",
       "      <td>271</td>\n",
       "      <td>0</td>\n",
       "      <td>DAPK3</td>\n",
       "      <td>4.906601</td>\n",
       "      <td>581.42865</td>\n",
       "      <td>11.222615</td>\n",
       "      <td>20.821745</td>\n",
       "    </tr>\n",
       "    <tr>\n",
       "      <th>4</th>\n",
       "      <td>281474976710660</td>\n",
       "      <td>291</td>\n",
       "      <td>0</td>\n",
       "      <td>TCIM</td>\n",
       "      <td>5.660699</td>\n",
       "      <td>720.85175</td>\n",
       "      <td>9.265523</td>\n",
       "      <td>18.017488</td>\n",
       "    </tr>\n",
       "    <tr>\n",
       "      <th>...</th>\n",
       "      <td>...</td>\n",
       "      <td>...</td>\n",
       "      <td>...</td>\n",
       "      <td>...</td>\n",
       "      <td>...</td>\n",
       "      <td>...</td>\n",
       "      <td>...</td>\n",
       "      <td>...</td>\n",
       "    </tr>\n",
       "    <tr>\n",
       "      <th>42638078</th>\n",
       "      <td>281805689407068</td>\n",
       "      <td>-1</td>\n",
       "      <td>0</td>\n",
       "      <td>HOXD8</td>\n",
       "      <td>5218.000500</td>\n",
       "      <td>5295.51950</td>\n",
       "      <td>30.560934</td>\n",
       "      <td>20.061079</td>\n",
       "    </tr>\n",
       "    <tr>\n",
       "      <th>42638079</th>\n",
       "      <td>281805689407071</td>\n",
       "      <td>135717</td>\n",
       "      <td>1</td>\n",
       "      <td>LUM</td>\n",
       "      <td>5218.804700</td>\n",
       "      <td>4792.92800</td>\n",
       "      <td>38.440426</td>\n",
       "      <td>21.389278</td>\n",
       "    </tr>\n",
       "    <tr>\n",
       "      <th>42638080</th>\n",
       "      <td>281805689407078</td>\n",
       "      <td>-1</td>\n",
       "      <td>0</td>\n",
       "      <td>LUM</td>\n",
       "      <td>5217.405000</td>\n",
       "      <td>5425.38600</td>\n",
       "      <td>30.519602</td>\n",
       "      <td>21.960102</td>\n",
       "    </tr>\n",
       "    <tr>\n",
       "      <th>42638081</th>\n",
       "      <td>281805689407083</td>\n",
       "      <td>-1</td>\n",
       "      <td>0</td>\n",
       "      <td>NARS</td>\n",
       "      <td>5220.155300</td>\n",
       "      <td>4839.70400</td>\n",
       "      <td>32.180700</td>\n",
       "      <td>25.970398</td>\n",
       "    </tr>\n",
       "    <tr>\n",
       "      <th>42638082</th>\n",
       "      <td>281805689407092</td>\n",
       "      <td>135716</td>\n",
       "      <td>0</td>\n",
       "      <td>LUM</td>\n",
       "      <td>5220.236000</td>\n",
       "      <td>4738.75200</td>\n",
       "      <td>30.208746</td>\n",
       "      <td>20.524120</td>\n",
       "    </tr>\n",
       "  </tbody>\n",
       "</table>\n",
       "<p>42638083 rows × 8 columns</p>\n",
       "</div>"
      ],
      "text/plain": [
       "            transcript_id  cell_id  overlaps_nucleus             feature_name  \\\n",
       "0         281474976710656      565                 0                   SEC11C   \n",
       "1         281474976710657      540                 0  NegControlCodeword_0502   \n",
       "2         281474976710658      562                 0                   SEC11C   \n",
       "3         281474976710659      271                 0                    DAPK3   \n",
       "4         281474976710660      291                 0                     TCIM   \n",
       "...                   ...      ...               ...                      ...   \n",
       "42638078  281805689407068       -1                 0                    HOXD8   \n",
       "42638079  281805689407071   135717                 1                      LUM   \n",
       "42638080  281805689407078       -1                 0                      LUM   \n",
       "42638081  281805689407083       -1                 0                     NARS   \n",
       "42638082  281805689407092   135716                 0                      LUM   \n",
       "\n",
       "           x_location  y_location  z_location         qv  \n",
       "0            4.395842   328.66647   12.019493  18.662480  \n",
       "1            5.074415   236.96484    7.608511  18.634956  \n",
       "2            4.702023   322.79715   12.289083  18.662480  \n",
       "3            4.906601   581.42865   11.222615  20.821745  \n",
       "4            5.660699   720.85175    9.265523  18.017488  \n",
       "...               ...         ...         ...        ...  \n",
       "42638078  5218.000500  5295.51950   30.560934  20.061079  \n",
       "42638079  5218.804700  4792.92800   38.440426  21.389278  \n",
       "42638080  5217.405000  5425.38600   30.519602  21.960102  \n",
       "42638081  5220.155300  4839.70400   32.180700  25.970398  \n",
       "42638082  5220.236000  4738.75200   30.208746  20.524120  \n",
       "\n",
       "[42638083 rows x 8 columns]"
      ]
     },
     "execution_count": 5,
     "metadata": {},
     "output_type": "execute_result"
    }
   ],
   "source": [
    "# read transcript data\n",
    "import pandas as pd\n",
    "\n",
    "ts_data = pd.read_csv(transcripts_path, compression = 'gzip', error_bad_lines = False)\n",
    "ts_data"
   ]
  },
  {
   "cell_type": "code",
   "execution_count": 6,
   "id": "ee843125",
   "metadata": {},
   "outputs": [],
   "source": [
    "max_values = ts_data['qv'].max()"
   ]
  },
  {
   "cell_type": "code",
   "execution_count": 71,
   "id": "64ba6d91",
   "metadata": {},
   "outputs": [
    {
     "data": {
      "text/plain": [
       "(25778, 35416)"
      ]
     },
     "execution_count": 71,
     "metadata": {},
     "output_type": "execute_result"
    }
   ],
   "source": [
    "# get data and meta data\n",
    "im_data, _ = zarr_utils.open_as_zarr(im_path)\n",
    "omexml = ome_xml_utils.parse_meta(im_path)\n",
    "dim_utils = DimUtils(omexml)\n",
    "dim_utils.calc_image_dimensions(im_data[0].shape)\n",
    "pixel_sizes = dim_utils.im_physical_sizes()"
   ]
  },
  {
   "cell_type": "code",
   "execution_count": 94,
   "id": "a144ad1a",
   "metadata": {},
   "outputs": [
    {
     "data": {
      "text/plain": [
       "8"
      ]
     },
     "execution_count": 94,
     "metadata": {},
     "output_type": "execute_result"
    }
   ],
   "source": [
    "len(im_data)"
   ]
  },
  {
   "cell_type": "code",
   "execution_count": 75,
   "id": "63735f68",
   "metadata": {},
   "outputs": [
    {
     "data": {
      "text/plain": [
       "[0, 0, 25778, 35416]"
      ]
     },
     "execution_count": 75,
     "metadata": {},
     "output_type": "execute_result"
    }
   ],
   "source": [
    "## convert to zarr image\n",
    "import math\n",
    "\n",
    "# build up image dimensions\n",
    "dim_cols = ['y_location', 'x_location']\n",
    "x_min, y_min = ts_data[dim_cols].min(axis = 0)\n",
    "x_max, y_max = ts_data[dim_cols].max(axis = 0)\n",
    "\n",
    "im_dim = [\n",
    "    0, 0,\n",
    "    dim_utils.im_dim[0],\n",
    "    dim_utils.im_dim[1]\n",
    "]\n",
    "im_dim"
   ]
  },
  {
   "cell_type": "code",
   "execution_count": 76,
   "id": "9d846b91",
   "metadata": {},
   "outputs": [],
   "source": [
    "channel_names = ts_data['feature_name'].unique()\n",
    "\n",
    "# filter blanks\n",
    "channel_names = [x for x in channel_names if x.startswith(('BLANK', 'NegControl')) is False]\n",
    "\n",
    "# DEBUG only use defined ones for now\n",
    "channel_names = [\n",
    "    # B\n",
    "    'BANK1', 'CD79A', 'MS4A1',\n",
    "    # T\n",
    "    'CCL5', 'CD4', 'CD8A', 'CXCR4', 'CYTIP',\n",
    "    'IL7R', 'LTB', 'TRAC',\n",
    "    # Mphage\n",
    "    #'APOC1', 'C15orf48', 'C1QA', 'C1QC', 'CD14', \n",
    "    #'CD163', 'CD68', 'FGL2', 'ITGAX', 'MMP12',\n",
    "    # DC\n",
    "    #'CCR7', 'CD83', 'IL3RA', 'LILRA4', 'PLD4',\n",
    "    # Stroma\n",
    "    #'ALDH1A3', 'GJB2', 'LUM', 'MMP2', 'POSTN', 'SFRP4'\n",
    "]\n",
    "\n",
    "num_channels = len(channel_names)"
   ]
  },
  {
   "cell_type": "code",
   "execution_count": 77,
   "id": "432e42ad",
   "metadata": {},
   "outputs": [],
   "source": [
    "import shutil\n",
    "import bioformats\n",
    "import zarr\n",
    "\n",
    "import py.ome_xml_utils as ome_xml_utils\n",
    "import py.zarr_utils as zarr_utils\n",
    "from py.dim_utils import DimUtils"
   ]
  },
  {
   "cell_type": "code",
   "execution_count": 78,
   "id": "98784bb5",
   "metadata": {},
   "outputs": [],
   "source": [
    "from scipy.sparse import coo_array\n",
    "import skimage.filters\n",
    "import skimage.morphology"
   ]
  },
  {
   "cell_type": "code",
   "execution_count": 79,
   "id": "43ef7938",
   "metadata": {},
   "outputs": [],
   "source": [
    "# add to napari\n",
    "from py.napari_utils import NapariUtils\n",
    "\n",
    "napari_utils = NapariUtils()\n",
    "napari_utils.viewer = None\n",
    "napari_utils.open_viewer()"
   ]
  },
  {
   "cell_type": "code",
   "execution_count": 80,
   "id": "ef2a3675",
   "metadata": {},
   "outputs": [
    {
     "name": "stdout",
     "output_type": "stream",
     "text": [
      "[25778, 35416]\n"
     ]
    }
   ],
   "source": [
    "napari_utils.open_image(\n",
    "    im_path, use_channel_axis = False, as_dask = True\n",
    ")"
   ]
  },
  {
   "cell_type": "code",
   "execution_count": 81,
   "id": "84536db0",
   "metadata": {},
   "outputs": [],
   "source": [
    "# create zarr\n",
    "zarr_shape = (\n",
    "    num_channels,\n",
    "    im_dim[2] - im_dim[0],\n",
    "    im_dim[3] - im_dim[1],\n",
    "    #im_dim[5] - im_dim[2]\n",
    ")\n",
    "  \n",
    "seq_image = zarr.open(\n",
    "    ts_zarr_path,\n",
    "    mode = 'w',\n",
    "    shape = zarr_shape,\n",
    "    chunks = (1, 512, 512),\n",
    "    dtype = np.float16\n",
    ")"
   ]
  },
  {
   "cell_type": "code",
   "execution_count": 86,
   "id": "fc116ccb",
   "metadata": {},
   "outputs": [
    {
     "name": "stdout",
     "output_type": "stream",
     "text": [
      "BANK1\n"
     ]
    },
    {
     "name": "stderr",
     "output_type": "stream",
     "text": [
      "\n",
      "KeyboardInterrupt\n",
      "\n"
     ]
    }
   ],
   "source": [
    "import random\n",
    "\n",
    "filter_value = 1\n",
    "\n",
    "shutil.rmtree(ts_zarr_path)\n",
    "\n",
    "# go through and create images\n",
    "for i, x in enumerate(channel_names):\n",
    "    print(x)\n",
    "    \n",
    "    y1 = ts_data.loc[ts_data['feature_name'] == x]\n",
    "    \n",
    "    # create sparse matrix\n",
    "    row  = y1[dim_cols[0]].values / pixel_sizes['y']\n",
    "    col  = y1[dim_cols[1]].values / pixel_sizes['x']\n",
    "    data = y1['qv'].values / max_values\n",
    "\n",
    "    y2 = coo_array((data, (row, col)), shape = zarr_shape[1:3]).toarray()\n",
    "\n",
    "    # copy in with gaussian\n",
    "    seq_image[i, :, :] = skimage.filters.gaussian(y2, filter_value)\n",
    "    \n",
    "    #seq_image[i, :, :] = skimage.filters.median(\n",
    "    #    seq_image[i, :, :], skimage.morphology.disk(filter_value))\n",
    "    \n",
    "# generate multiscales \n",
    "nscales = 5\n",
    "\n",
    "# TODO is there a more elegant way to do this .. ?\n",
    "if nscales > 1:\n",
    "    multiscales_file_path = ts_zarr_path + \".multiscales\"\n",
    "\n",
    "zarr_utils.create_multiscales(\n",
    "  seq_image, multiscales_file_path,\n",
    "  x_idx = 1, y_idx = 2,\n",
    "  nscales = nscales\n",
    ")\n",
    "\n",
    "# remove previous and rename multiscales\n",
    "shutil.rmtree(ts_zarr_path)\n",
    "os.rename(multiscales_file_path, ts_zarr_path)\n",
    "\n",
    "# build metadata\n",
    "o = bioformats.omexml.OMEXML()\n",
    "\n",
    "# TODO anything else?\n",
    "o.image().Pixels.channel_count = zarr_shape[0]\n",
    "o.image().Pixels.set_SizeC(zarr_shape[0])\n",
    "o.image().Pixels.set_SizeX(zarr_shape[2])\n",
    "o.image().Pixels.set_SizeY(zarr_shape[1])\n",
    "o.image().Pixels.set_PhysicalSizeX(1)\n",
    "o.image().Pixels.set_PhysicalSizeY(1)\n",
    "o.image().Pixels.set_PhysicalSizeXUnit('um')\n",
    "o.image().Pixels.set_PhysicalSizeYUnit('um')\n",
    "o.image().Pixels.set_PixelType('uint16')\n",
    "\n",
    "#for i, x in enumerate(channel_names[0:num_channels]):\n",
    "for i, x in enumerate(channel_names):\n",
    "    o.image().Pixels.Channel(i).Name = x\n",
    "\n",
    "# add metadata\n",
    "ome_xml_utils.write_ome_xml(ts_zarr_path, o)"
   ]
  },
  {
   "cell_type": "code",
   "execution_count": 87,
   "id": "b8ef04e4",
   "metadata": {},
   "outputs": [
    {
     "ename": "PathNotFoundError",
     "evalue": "nothing found at path ''",
     "output_type": "error",
     "traceback": [
      "\u001b[0;31m---------------------------------------------------------------------------\u001b[0m",
      "\u001b[0;31mPathNotFoundError\u001b[0m                         Traceback (most recent call last)",
      "Input \u001b[0;32mIn [87]\u001b[0m, in \u001b[0;36m<cell line: 1>\u001b[0;34m()\u001b[0m\n\u001b[0;32m----> 1\u001b[0m \u001b[43mnapari_utils\u001b[49m\u001b[38;5;241;43m.\u001b[39;49m\u001b[43mopen_image\u001b[49m\u001b[43m(\u001b[49m\n\u001b[1;32m      2\u001b[0m \u001b[43m    \u001b[49m\u001b[43mts_zarr_path\u001b[49m\u001b[43m,\u001b[49m\u001b[43m \u001b[49m\u001b[43muse_channel_axis\u001b[49m\u001b[43m \u001b[49m\u001b[38;5;241;43m=\u001b[39;49m\u001b[43m \u001b[49m\u001b[38;5;28;43;01mTrue\u001b[39;49;00m\u001b[43m,\u001b[49m\u001b[43m \u001b[49m\u001b[43mas_dask\u001b[49m\u001b[43m \u001b[49m\u001b[38;5;241;43m=\u001b[39;49m\u001b[43m \u001b[49m\u001b[38;5;28;43;01mTrue\u001b[39;49;00m\u001b[43m,\u001b[49m\u001b[43m \u001b[49m\n\u001b[1;32m      3\u001b[0m \u001b[43m    \u001b[49m\u001b[43mchannel_names\u001b[49m\u001b[43m \u001b[49m\u001b[38;5;241;43m=\u001b[39;49m\u001b[43m \u001b[49m\u001b[43mchannel_names\u001b[49m\u001b[43m,\u001b[49m\u001b[43m \u001b[49m\u001b[43mvisible\u001b[49m\u001b[43m \u001b[49m\u001b[38;5;241;43m=\u001b[39;49m\u001b[43m \u001b[49m\u001b[38;5;28;43;01mFalse\u001b[39;49;00m\u001b[43m,\u001b[49m\n\u001b[1;32m      4\u001b[0m \u001b[43m    \u001b[49m\u001b[43mcontrast_limits\u001b[49m\u001b[43m \u001b[49m\u001b[38;5;241;43m=\u001b[39;49m\u001b[43m \u001b[49m\u001b[43m[\u001b[49m\u001b[38;5;241;43m0\u001b[39;49m\u001b[43m,\u001b[49m\u001b[43m \u001b[49m\u001b[38;5;241;43m1\u001b[39;49m\u001b[43m]\u001b[49m\n\u001b[1;32m      5\u001b[0m \u001b[43m)\u001b[49m\n",
      "File \u001b[0;32m~/Desktop/DOHERTY/R-workspace/cecelia/inst/py/napari_utils.py:244\u001b[0m, in \u001b[0;36mNapariUtils.open_image\u001b[0;34m(self, im_path, use_channel_axis, channel_names, channel_colormaps, as_dask, show_3D, multiscales, compute_dask, contrast_limits, visible, squeeze, downsample_z, as_mip)\u001b[0m\n\u001b[1;32m    241\u001b[0m \u001b[38;5;28mself\u001b[39m\u001b[38;5;241m.\u001b[39mas_dask \u001b[38;5;241m=\u001b[39m as_dask\n\u001b[1;32m    243\u001b[0m \u001b[38;5;66;03m# open as Zarr\u001b[39;00m\n\u001b[0;32m--> 244\u001b[0m \u001b[38;5;28mself\u001b[39m\u001b[38;5;241m.\u001b[39mim_data, \u001b[38;5;28mself\u001b[39m\u001b[38;5;241m.\u001b[39mzarr_group_info \u001b[38;5;241m=\u001b[39m \u001b[43mzarr_utils\u001b[49m\u001b[38;5;241;43m.\u001b[39;49m\u001b[43mopen_as_zarr\u001b[49m\u001b[43m(\u001b[49m\n\u001b[1;32m    245\u001b[0m \u001b[43m  \u001b[49m\u001b[38;5;28;43mself\u001b[39;49m\u001b[38;5;241;43m.\u001b[39;49m\u001b[43mim_path\u001b[49m\u001b[43m,\u001b[49m\u001b[43m \u001b[49m\u001b[43mmultiscales\u001b[49m\u001b[43m \u001b[49m\u001b[38;5;241;43m=\u001b[39;49m\u001b[43m \u001b[49m\u001b[43mmultiscales\u001b[49m\u001b[43m,\u001b[49m\u001b[43m \u001b[49m\u001b[43mas_dask\u001b[49m\u001b[43m \u001b[49m\u001b[38;5;241;43m=\u001b[39;49m\u001b[43m \u001b[49m\u001b[43mas_dask\u001b[49m\u001b[43m)\u001b[49m\n\u001b[1;32m    247\u001b[0m \u001b[38;5;66;03m# get OME-XML\u001b[39;00m\n\u001b[1;32m    248\u001b[0m \u001b[38;5;28mself\u001b[39m\u001b[38;5;241m.\u001b[39momexml \u001b[38;5;241m=\u001b[39m ome_xml_utils\u001b[38;5;241m.\u001b[39mparse_meta(\u001b[38;5;28mself\u001b[39m\u001b[38;5;241m.\u001b[39mim_path)\n",
      "File \u001b[0;32m~/Desktop/DOHERTY/R-workspace/cecelia/inst/py/zarr_utils.py:20\u001b[0m, in \u001b[0;36mopen_as_zarr\u001b[0;34m(im_path, multiscales, as_dask, mode)\u001b[0m\n\u001b[1;32m     18\u001b[0m \u001b[38;5;66;03m# open zarr\u001b[39;00m\n\u001b[1;32m     19\u001b[0m \u001b[38;5;28;01mif\u001b[39;00m im_ext \u001b[38;5;241m==\u001b[39m \u001b[38;5;124m\"\u001b[39m\u001b[38;5;124m.zarr\u001b[39m\u001b[38;5;124m\"\u001b[39m:\n\u001b[0;32m---> 20\u001b[0m   im_data, zarr_group_info \u001b[38;5;241m=\u001b[39m \u001b[43mopen_zarr\u001b[49m\u001b[43m(\u001b[49m\n\u001b[1;32m     21\u001b[0m \u001b[43m    \u001b[49m\u001b[43mim_path\u001b[49m\u001b[43m,\u001b[49m\u001b[43m \u001b[49m\u001b[43mmultiscales\u001b[49m\u001b[43m \u001b[49m\u001b[38;5;241;43m=\u001b[39;49m\u001b[43m \u001b[49m\u001b[43mmultiscales\u001b[49m\u001b[43m,\u001b[49m\u001b[43m \u001b[49m\u001b[43mas_dask\u001b[49m\u001b[43m \u001b[49m\u001b[38;5;241;43m=\u001b[39;49m\u001b[43m \u001b[49m\u001b[43mas_dask\u001b[49m\u001b[43m,\u001b[49m\u001b[43m \u001b[49m\u001b[43mmode\u001b[49m\u001b[43m \u001b[49m\u001b[38;5;241;43m=\u001b[39;49m\u001b[43m \u001b[49m\u001b[43mmode\u001b[49m\u001b[43m,\u001b[49m\n\u001b[1;32m     22\u001b[0m \u001b[43m    \u001b[49m\u001b[43momezarr\u001b[49m\u001b[43m \u001b[49m\u001b[38;5;241;43m=\u001b[39;49m\u001b[43m \u001b[49m\u001b[43mim_path\u001b[49m\u001b[38;5;241;43m.\u001b[39;49m\u001b[43mendswith\u001b[49m\u001b[43m(\u001b[49m\u001b[38;5;124;43m\"\u001b[39;49m\u001b[38;5;124;43mome.zarr\u001b[39;49m\u001b[38;5;124;43m\"\u001b[39;49m\u001b[43m)\u001b[49m\u001b[43m)\u001b[49m\n\u001b[1;32m     23\u001b[0m \u001b[38;5;28;01melse\u001b[39;00m:\n\u001b[1;32m     24\u001b[0m   \u001b[38;5;66;03m# open image\u001b[39;00m\n\u001b[1;32m     25\u001b[0m   im_data, zarr_group_info \u001b[38;5;241m=\u001b[39m open_image_as_zarr(\n\u001b[1;32m     26\u001b[0m     im_path, multiscales \u001b[38;5;241m=\u001b[39m multiscales, as_dask \u001b[38;5;241m=\u001b[39m as_dask)\n",
      "File \u001b[0;32m~/Desktop/DOHERTY/R-workspace/cecelia/inst/py/zarr_utils.py:41\u001b[0m, in \u001b[0;36mopen_zarr\u001b[0;34m(zarr_path, mode, multiscales, as_dask, omezarr)\u001b[0m\n\u001b[1;32m     33\u001b[0m \u001b[38;5;28;01mdef\u001b[39;00m \u001b[38;5;21mopen_zarr\u001b[39m(zarr_path, mode \u001b[38;5;241m=\u001b[39m \u001b[38;5;124m'\u001b[39m\u001b[38;5;124mr\u001b[39m\u001b[38;5;124m'\u001b[39m, multiscales \u001b[38;5;241m=\u001b[39m \u001b[38;5;28;01mNone\u001b[39;00m, as_dask \u001b[38;5;241m=\u001b[39m \u001b[38;5;28;01mFalse\u001b[39;00m,\n\u001b[1;32m     34\u001b[0m               omezarr \u001b[38;5;241m=\u001b[39m \u001b[38;5;28;01mFalse\u001b[39;00m):\n\u001b[1;32m     35\u001b[0m   \u001b[38;5;66;03m# open zarr store\u001b[39;00m\n\u001b[0;32m   (...)\u001b[0m\n\u001b[1;32m     39\u001b[0m   \n\u001b[1;32m     40\u001b[0m   \u001b[38;5;66;03m# convert to list\u001b[39;00m\n\u001b[0;32m---> 41\u001b[0m   zarr_data, zarr_group_info \u001b[38;5;241m=\u001b[39m \u001b[43mzarr_data_to_list\u001b[49m\u001b[43m(\u001b[49m\n\u001b[1;32m     42\u001b[0m \u001b[43m    \u001b[49m\u001b[43mzarr_path\u001b[49m\u001b[43m,\u001b[49m\u001b[43m \u001b[49m\u001b[43mmultiscales\u001b[49m\u001b[43m \u001b[49m\u001b[38;5;241;43m=\u001b[39;49m\u001b[43m \u001b[49m\u001b[43mmultiscales\u001b[49m\u001b[43m,\u001b[49m\u001b[43m \u001b[49m\u001b[43mmode\u001b[49m\u001b[43m \u001b[49m\u001b[38;5;241;43m=\u001b[39;49m\u001b[43m \u001b[49m\u001b[43mmode\u001b[49m\u001b[43m,\u001b[49m\u001b[43m \u001b[49m\u001b[43momezarr\u001b[49m\u001b[43m \u001b[49m\u001b[38;5;241;43m=\u001b[39;49m\u001b[43m \u001b[49m\u001b[43momezarr\u001b[49m\u001b[43m)\u001b[49m\n\u001b[1;32m     44\u001b[0m   \u001b[38;5;66;03m# convert to dask\u001b[39;00m\n\u001b[1;32m     45\u001b[0m   \u001b[38;5;28;01mif\u001b[39;00m as_dask \u001b[38;5;129;01mis\u001b[39;00m \u001b[38;5;28;01mTrue\u001b[39;00m:\n",
      "File \u001b[0;32m~/Desktop/DOHERTY/R-workspace/cecelia/inst/py/zarr_utils.py:140\u001b[0m, in \u001b[0;36mzarr_data_to_list\u001b[0;34m(zarr_store, multiscales, data_group, mode, omezarr)\u001b[0m\n\u001b[1;32m    136\u001b[0m   \u001b[38;5;28;01mif\u001b[39;00m os\u001b[38;5;241m.\u001b[39mpath\u001b[38;5;241m.\u001b[39mexists(os\u001b[38;5;241m.\u001b[39mpath\u001b[38;5;241m.\u001b[39mjoin(zarr_store, \u001b[38;5;124m'\u001b[39m\u001b[38;5;124m.zarray\u001b[39m\u001b[38;5;124m'\u001b[39m)) \u001b[38;5;129;01mand\u001b[39;00m os\u001b[38;5;241m.\u001b[39mpath\u001b[38;5;241m.\u001b[39mexists(os\u001b[38;5;241m.\u001b[39mpath\u001b[38;5;241m.\u001b[39mjoin(zarr_store, \u001b[38;5;124m'\u001b[39m\u001b[38;5;124m.group\u001b[39m\u001b[38;5;124m'\u001b[39m)):\n\u001b[1;32m    137\u001b[0m     \u001b[38;5;66;03m# remove .zarray\u001b[39;00m\n\u001b[1;32m    138\u001b[0m     os\u001b[38;5;241m.\u001b[39munlink(os\u001b[38;5;241m.\u001b[39mpath\u001b[38;5;241m.\u001b[39mjoin(zarr_store, \u001b[38;5;124m'\u001b[39m\u001b[38;5;124m.zarray\u001b[39m\u001b[38;5;124m'\u001b[39m))\n\u001b[0;32m--> 140\u001b[0m zgroup \u001b[38;5;241m=\u001b[39m \u001b[43mzarr\u001b[49m\u001b[38;5;241;43m.\u001b[39;49m\u001b[43mopen\u001b[49m\u001b[43m(\u001b[49m\u001b[43mzarr_store\u001b[49m\u001b[43m,\u001b[49m\u001b[43m \u001b[49m\u001b[43mmode\u001b[49m\u001b[43m \u001b[49m\u001b[38;5;241;43m=\u001b[39;49m\u001b[43m \u001b[49m\u001b[43mmode\u001b[49m\u001b[43m)\u001b[49m\n\u001b[1;32m    142\u001b[0m \u001b[38;5;66;03m# get first image in ome zarr bundle\u001b[39;00m\n\u001b[1;32m    143\u001b[0m \u001b[38;5;28;01mif\u001b[39;00m omezarr \u001b[38;5;129;01mis\u001b[39;00m \u001b[38;5;28;01mTrue\u001b[39;00m:\n",
      "File \u001b[0;32m~/Library/r-miniconda/envs/r-cecelia-env/lib/python3.9/site-packages/zarr/convenience.py:122\u001b[0m, in \u001b[0;36mopen\u001b[0;34m(store, mode, zarr_version, path, **kwargs)\u001b[0m\n\u001b[1;32m    120\u001b[0m     \u001b[38;5;28;01mreturn\u001b[39;00m open_group(_store, mode\u001b[38;5;241m=\u001b[39mmode, \u001b[38;5;241m*\u001b[39m\u001b[38;5;241m*\u001b[39mkwargs)\n\u001b[1;32m    121\u001b[0m \u001b[38;5;28;01melse\u001b[39;00m:\n\u001b[0;32m--> 122\u001b[0m     \u001b[38;5;28;01mraise\u001b[39;00m PathNotFoundError(path)\n",
      "\u001b[0;31mPathNotFoundError\u001b[0m: nothing found at path ''"
     ]
    }
   ],
   "source": [
    "napari_utils.open_image(\n",
    "    ts_zarr_path, use_channel_axis = True, as_dask = True, \n",
    "    channel_names = channel_names, visible = False,\n",
    "    contrast_limits = [0, 1]\n",
    ")"
   ]
  },
  {
   "cell_type": "code",
   "execution_count": 50,
   "id": "9f70dc7a",
   "metadata": {},
   "outputs": [
    {
     "data": {
      "text/plain": [
       "'<OME xmlns=\"http://www.openmicroscopy.org/Schemas/OME/2016-06\" xmlns:xsi=\"http://www.w3.org/2001/XMLSchema-instance\" Creator=\"tifffile.py 2021.4.8\" UUID=\"urn:uuid:a73aa686-7468-11ed-89c9-06acdb970e37\" xsi:schemaLocation=\"http://www.openmicroscopy.org/Schemas/OME/2016-06 http://www.openmicroscopy.org/Schemas/OME/2016-06/ome.xsd\">\\n    <Plate ID=\"Plate:1\" WellOriginX=\"-0.0\" WellOriginXUnit=\"µm\" WellOriginY=\"-0.0\" WellOriginYUnit=\"µm\" />\\n    <Instrument ID=\"Instrument:1\">\\n        <Microscope Manufacturer=\"10x Genomics\" Model=\"Xenium\" />\\n    </Instrument>\\n    <Image ID=\"Image:0\" Name=\"Image0\">\\n        <InstrumentRef ID=\"Instrument:1\" />\\n        <Pixels DimensionOrder=\"XYZCT\" ID=\"Pixels:0\" SizeC=\"1\" SizeT=\"1\" SizeX=\"35416\" SizeY=\"25778\" SizeZ=\"1\" Type=\"uint16\" PhysicalSizeX=\"0.2125\" PhysicalSizeY=\"0.2125\">\\n            <Channel ID=\"Channel:0:0\" Color=\"-1\" Name=\"DAPI\" SamplesPerPixel=\"1\" />\\n            <TiffData PlaneCount=\"1\" />\\n        </Pixels>\\n    </Image>\\n</OME>'"
      ]
     },
     "execution_count": 50,
     "metadata": {},
     "output_type": "execute_result"
    }
   ],
   "source": [
    "ome_xml_utils.parse_from_tiff(im_path)"
   ]
  },
  {
   "cell_type": "code",
   "execution_count": null,
   "id": "87b8006b",
   "metadata": {},
   "outputs": [],
   "source": [
    "# read in OME XML from first image sequence\n",
    "import tifffile\n",
    "import py.zarr_utils as zarr_utils\n",
    "import py.ome_xml_utils as ome_xml_utils\n",
    "from py.dim_utils import DimUtils\n",
    "\n",
    "im = tifffile.TiffFile(im_path)\n",
    "x_array = im.asarray()\n",
    "omexml = ome_xml_utils.parse_meta(im_path)\n",
    "dim_utils = DimUtils(omexml)\n",
    "dim_utils.calc_image_dimensions(x_array.shape)"
   ]
  },
  {
   "cell_type": "code",
   "execution_count": null,
   "id": "c3774b1d",
   "metadata": {},
   "outputs": [],
   "source": [
    "# split y axis\n",
    "# TODO this is specific to Thorlabs 3P output\n",
    "split_size = int(dim_utils.dim_val('Y')/dim_utils.dim_val('X'))"
   ]
  },
  {
   "cell_type": "code",
   "execution_count": null,
   "id": "89b63009",
   "metadata": {},
   "outputs": [],
   "source": [
    "# DEBUG take first x slices\n",
    "debug_slices = 12\n",
    "debug_start_slice = 48"
   ]
  },
  {
   "cell_type": "code",
   "execution_count": null,
   "id": "de47c7c5",
   "metadata": {},
   "outputs": [],
   "source": [
    "# split array along Y\n",
    "x_split = np.array_split(x_array, split_size, axis = dim_utils.dim_idx('Y'))"
   ]
  },
  {
   "cell_type": "code",
   "execution_count": null,
   "id": "eb6c1f25",
   "metadata": {},
   "outputs": [],
   "source": [
    "x_split = [x[debug_start_slice:(debug_start_slice + debug_slices), :, :, :] for x in x_split]"
   ]
  },
  {
   "cell_type": "code",
   "execution_count": null,
   "id": "609f41f1",
   "metadata": {},
   "outputs": [],
   "source": [
    "stack_dim = 'Z'\n",
    "skip_tiles = 1\n",
    "nscales = 1\n",
    "physical_stack_scale = 2"
   ]
  },
  {
   "cell_type": "code",
   "execution_count": null,
   "id": "b853f334",
   "metadata": {},
   "outputs": [],
   "source": [
    "# get or create stack axis\n",
    "stack_dim_idx = dim_utils.dim_idx(stack_dim)\n",
    "stack_array = False\n",
    "\n",
    "# check whether to create this dimension\n",
    "if stack_dim_idx is None:\n",
    "    stack_dim_idx = dim_utils.default_order.index(stack_dim)\n",
    "    stack_array = True"
   ]
  },
  {
   "cell_type": "code",
   "execution_count": null,
   "id": "45c1801b",
   "metadata": {},
   "outputs": [],
   "source": [
    "import math"
   ]
  },
  {
   "cell_type": "code",
   "execution_count": null,
   "id": "76c1c498",
   "metadata": {},
   "outputs": [],
   "source": [
    "\"\"\"\n",
    "scale intensity\n",
    "exp[𝑚𝑛(Δ𝑧/ls − ln(𝑠))] \n",
    "m - multiphoton number\n",
    "n - plane index\n",
    "s - relative incident laser power ratio between planes\n",
    "d𝑧 - spacing between planes\n",
    "ls - mean free path\n",
    "\"\"\"\n",
    "def reverb_intensity_scale(m, n, s, dz, ls, x = None, scale = None):\n",
    "    # get y \n",
    "    y = 1/math.exp(m * n * (dz/ls - math.log(s)))\n",
    "    \n",
    "    # scale?\n",
    "    if scale is not None:\n",
    "        y = y/scale\n",
    "    \n",
    "    if x is not None:\n",
    "        return (x * y).astype(x.dtype)\n",
    "    else:\n",
    "        return y"
   ]
  },
  {
   "cell_type": "code",
   "execution_count": null,
   "id": "6983f5e4",
   "metadata": {},
   "outputs": [],
   "source": [
    "m = 3\n",
    "s = 2\n",
    "dz = 26\n",
    "ls = 200"
   ]
  },
  {
   "cell_type": "code",
   "execution_count": null,
   "id": "ccb53127",
   "metadata": {},
   "outputs": [],
   "source": [
    "reverb_intensity_scale(m, len(x_split_shift[::(skip_tiles + 1)]), s, dz, ls)"
   ]
  },
  {
   "cell_type": "code",
   "execution_count": null,
   "id": "abbca6c7",
   "metadata": {},
   "outputs": [],
   "source": [
    "# create shifts to create image\n",
    "shifts = np.array([\n",
    "    [14.74, -2.18],\n",
    "    [14.74, -2.18],\n",
    "    [13.41, 16.31],\n",
    "    [13.41, 16.31],\n",
    "    [8.92, -4.23],\n",
    "    [8.92, -4.23]\n",
    "])"
   ]
  },
  {
   "cell_type": "code",
   "execution_count": null,
   "id": "b37e2962",
   "metadata": {},
   "outputs": [],
   "source": [
    "# generate slices for images\n",
    "shift_slices_target = [[slice(None) for _ in x_array.shape] for _ in range(len(shifts))]\n",
    "shift_slices_source = [[slice(None) for _ in x_array.shape] for _ in range(len(shifts))]\n",
    "dim_val = dim_utils.dim_val('X')\n",
    "\n",
    "for i, shift in enumerate(shifts):\n",
    "    # create slices for source and target\n",
    "    if shift[0] > 0:\n",
    "        shift_slices_target[i][dim_utils.dim_idx('Y')] = slice(round(shift[0]), dim_val, 1)\n",
    "        shift_slices_source[i][dim_utils.dim_idx('Y')] = slice(0, dim_val - round(shift[0]), 1)\n",
    "    else:\n",
    "        shift_slices_target[i][dim_utils.dim_idx('Y')] = slice(0, dim_val + round(shift[0]), 1)\n",
    "        shift_slices_source[i][dim_utils.dim_idx('Y')] = slice(-round(shift[0]), dim_val, 1)\n",
    "        \n",
    "    if shift[1] > 0:\n",
    "        shift_slices_target[i][dim_utils.dim_idx('X')] = slice(round(shift[1]), dim_val, 1)\n",
    "        shift_slices_source[i][dim_utils.dim_idx('X')] = slice(0, dim_val - round(shift[1]), 1)\n",
    "    else:\n",
    "        shift_slices_target[i][dim_utils.dim_idx('X')] = slice(0, dim_val + round(shift[1]), 1)\n",
    "        shift_slices_source[i][dim_utils.dim_idx('X')] = slice(-round(shift[1]), dim_val, 1)\n",
    "    \n",
    "shift_slices_target = [tuple(x) for x in shift_slices_target]\n",
    "shift_slices_source = [tuple(x) for x in shift_slices_source]"
   ]
  },
  {
   "cell_type": "code",
   "execution_count": null,
   "id": "89e08a1b",
   "metadata": {},
   "outputs": [],
   "source": [
    "x_split_shift = x_split[:2]\n",
    "\n",
    "# generate new image\n",
    "for i, x in enumerate(x_split[2:]):\n",
    "    # zero image\n",
    "    zero_im = np.zeros_like(x)\n",
    "    \n",
    "    # copy image\n",
    "    zero_im[shift_slices_target[i]] = x[shift_slices_source[i]]\n",
    "    # zero_im[shift_slices_source[i]] = x[shift_slices_target[i]]\n",
    "    \n",
    "    x_split_shift.append(zero_im)"
   ]
  },
  {
   "cell_type": "code",
   "execution_count": null,
   "id": "ce9a50da",
   "metadata": {},
   "outputs": [],
   "source": [
    " if stack_array is True:\n",
    "    x_new = np.stack(\n",
    "        [reverb_intensity_scale(x, m, n + 1, s, dz, ls) \\\n",
    "         for n, x in enumerate(x_split[::(skip_tiles + 1)])],\n",
    "        axis = stack_dim_idx\n",
    "    )\n",
    "else:\n",
    "    # get max reverb scale\n",
    "    max_scale = reverb_intensity_scale(m, len(x_split_shift[::(skip_tiles + 1)]), s, dz, ls)\n",
    "    \n",
    "    # contact with shift slices\n",
    "    x_new_list = [reverb_intensity_scale(m, n + 1, s, dz, ls, x = x, scale = max_scale) \\\n",
    "         for n, x in enumerate(x_split_shift[::(skip_tiles + 1)])]\n",
    "    x_new_list.reverse()\n",
    "    \n",
    "    x_new = np.concatenate(x_new_list, axis = stack_dim_idx)"
   ]
  },
  {
   "cell_type": "code",
   "execution_count": null,
   "id": "d7dc2711",
   "metadata": {},
   "outputs": [],
   "source": [
    "# use median filter\n",
    "from skimage.filters.rank import median\n",
    "from skimage.morphology import ball"
   ]
  },
  {
   "cell_type": "code",
   "execution_count": null,
   "id": "e7720cab",
   "metadata": {},
   "outputs": [],
   "source": [
    "im_slices = [slice(None) for _ in range(len(x_new.shape))]\n",
    "\n",
    "for i in range(dim_utils.dim_val('C')):\n",
    "    im_slices = list(im_slices)\n",
    "    im_slices[dim_utils.dim_idx('C')] = i\n",
    "    im_slices = tuple(im_slices)\n",
    "    \n",
    "    x_new[im_slices] = median(x_new[im_slices], ball(3))"
   ]
  },
  {
   "cell_type": "code",
   "execution_count": null,
   "id": "ba0e839b",
   "metadata": {
    "scrolled": false
   },
   "outputs": [],
   "source": [
    "zarr_utils.create_multiscales(x_new, zarr_path, nscales = nscales)"
   ]
  },
  {
   "cell_type": "code",
   "execution_count": null,
   "id": "ccabb7f8",
   "metadata": {},
   "outputs": [],
   "source": [
    "# create shape dict for new image\n",
    "shape_dict = {'Y': int(dim_utils.dim_val('Y')/split_size)}\n",
    "shape_dict[stack_dim.upper()] = x_new.shape[stack_dim_idx]\n",
    "scale_dict = dict()\n",
    "scale_dict[stack_dim.upper()] = physical_stack_scale\n",
    "\n",
    "# change image dimensions in xml\n",
    "omexml_new = ome_xml_utils.set_im_size_with_dict(omexml, shape_dict)\n",
    "omexml_new = ome_xml_utils.set_physical_size_with_dict(omexml_new, scale_dict)\n",
    "\n",
    "# add metadata\n",
    "ome_xml_utils.write_ome_xml(zarr_path, omexml_new)"
   ]
  },
  {
   "cell_type": "code",
   "execution_count": null,
   "id": "96788271",
   "metadata": {},
   "outputs": [],
   "source": [
    "from py.napari_utils import NapariUtils\n",
    "\n",
    "napari_utils = NapariUtils()\n",
    "napari_utils.viewer = None\n",
    "napari_utils.open_viewer()"
   ]
  },
  {
   "cell_type": "code",
   "execution_count": null,
   "id": "75724ef2",
   "metadata": {},
   "outputs": [],
   "source": [
    "channel_names = [\n",
    "    'A', 'B', 'C', 'D'\n",
    "]"
   ]
  },
  {
   "cell_type": "code",
   "execution_count": null,
   "id": "10e3e72e",
   "metadata": {},
   "outputs": [],
   "source": [
    "napari_utils.open_image(\n",
    "    zarr_path,\n",
    "    use_channel_axis = True, as_dask = True,\n",
    "    channel_names = channel_names\n",
    ")"
   ]
  },
  {
   "cell_type": "code",
   "execution_count": null,
   "id": "a1f26ae6",
   "metadata": {},
   "outputs": [],
   "source": [
    "from napari_animation import AnimationWidget\n",
    "animation_widget = AnimationWidget(napari_utils.viewer)\n",
    "napari_utils.viewer.window.add_dock_widget(animation_widget, area='right')"
   ]
  },
  {
   "cell_type": "code",
   "execution_count": null,
   "id": "a6ab6541",
   "metadata": {},
   "outputs": [],
   "source": []
  },
  {
   "cell_type": "code",
   "execution_count": null,
   "id": "09a0bd5c",
   "metadata": {},
   "outputs": [],
   "source": []
  }
 ],
 "metadata": {
  "kernelspec": {
   "display_name": "Python 3 (ipykernel)",
   "language": "python",
   "name": "python3"
  },
  "language_info": {
   "codemirror_mode": {
    "name": "ipython",
    "version": 3
   },
   "file_extension": ".py",
   "mimetype": "text/x-python",
   "name": "python",
   "nbconvert_exporter": "python",
   "pygments_lexer": "ipython3",
   "version": "3.9.13"
  }
 },
 "nbformat": 4,
 "nbformat_minor": 5
}
