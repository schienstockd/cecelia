{
 "cells": [
  {
   "cell_type": "code",
   "execution_count": 1,
   "id": "a2fc902c",
   "metadata": {},
   "outputs": [],
   "source": [
    "import os\n",
    "import numpy as np\n",
    "# import working directory to check functions\n",
    "os.chdir('/Users/schiend/Desktop/DOHERTY/R-workspace/cecelia/inst')\n",
    "\n",
    "# config\n",
    "import py.config_utils as cfg\n",
    "\n",
    "%load_ext autoreload\n",
    "%autoreload 2"
   ]
  },
  {
   "cell_type": "code",
   "execution_count": 2,
   "id": "8f75f4eb",
   "metadata": {},
   "outputs": [],
   "source": [
    "#base_dir = '/Volumes/USER_data/Dominik/Experiments/stomics/10x/Xenium_FFPE_Human_Breast_Cancer_Rep1_outs'\n",
    "base_dir = '/Volumes/USER_data/Dominik/Experiments/stomics/10x/Xenium_V1_FF_Mouse_Brain_Coronal_Subset_CTX_HP_outs'\n",
    "transcripts_path = os.path.join(base_dir, 'transcripts.csv.gz')\n",
    "im_path = os.path.join(base_dir, 'morphology_mip.ome.tif')\n",
    "ts_zarr_path = os.path.join(base_dir, 'ts.zarr')"
   ]
  },
  {
   "cell_type": "code",
   "execution_count": 3,
   "id": "f2080963",
   "metadata": {},
   "outputs": [
    {
     "name": "stderr",
     "output_type": "stream",
     "text": [
      "/var/folders/rb/m9wptf8x58x_82t7lg081kfs1fj7kv/T/ipykernel_21855/935456629.py:4: FutureWarning: The error_bad_lines argument has been deprecated and will be removed in a future version. Use on_bad_lines in the future.\n",
      "\n",
      "\n",
      "  ts_data = pd.read_csv(transcripts_path, compression = 'gzip', error_bad_lines = False)\n"
     ]
    },
    {
     "data": {
      "text/html": [
       "<div>\n",
       "<style scoped>\n",
       "    .dataframe tbody tr th:only-of-type {\n",
       "        vertical-align: middle;\n",
       "    }\n",
       "\n",
       "    .dataframe tbody tr th {\n",
       "        vertical-align: top;\n",
       "    }\n",
       "\n",
       "    .dataframe thead th {\n",
       "        text-align: right;\n",
       "    }\n",
       "</style>\n",
       "<table border=\"1\" class=\"dataframe\">\n",
       "  <thead>\n",
       "    <tr style=\"text-align: right;\">\n",
       "      <th></th>\n",
       "      <th>transcript_id</th>\n",
       "      <th>cell_id</th>\n",
       "      <th>overlaps_nucleus</th>\n",
       "      <th>feature_name</th>\n",
       "      <th>x_location</th>\n",
       "      <th>y_location</th>\n",
       "      <th>z_location</th>\n",
       "      <th>qv</th>\n",
       "    </tr>\n",
       "  </thead>\n",
       "  <tbody>\n",
       "    <tr>\n",
       "      <th>0</th>\n",
       "      <td>281474976710658</td>\n",
       "      <td>7703</td>\n",
       "      <td>0</td>\n",
       "      <td>Dkk3</td>\n",
       "      <td>4820.3257</td>\n",
       "      <td>768.67926</td>\n",
       "      <td>15.693588</td>\n",
       "      <td>16.515629</td>\n",
       "    </tr>\n",
       "    <tr>\n",
       "      <th>1</th>\n",
       "      <td>281474976710659</td>\n",
       "      <td>7704</td>\n",
       "      <td>0</td>\n",
       "      <td>Dkk3</td>\n",
       "      <td>4820.8900</td>\n",
       "      <td>731.11847</td>\n",
       "      <td>15.173458</td>\n",
       "      <td>22.901026</td>\n",
       "    </tr>\n",
       "    <tr>\n",
       "      <th>2</th>\n",
       "      <td>281474976710661</td>\n",
       "      <td>7704</td>\n",
       "      <td>0</td>\n",
       "      <td>Dkk3</td>\n",
       "      <td>4821.7840</td>\n",
       "      <td>733.21240</td>\n",
       "      <td>14.517880</td>\n",
       "      <td>15.178098</td>\n",
       "    </tr>\n",
       "    <tr>\n",
       "      <th>3</th>\n",
       "      <td>281474976710664</td>\n",
       "      <td>7886</td>\n",
       "      <td>0</td>\n",
       "      <td>Bhlhe40</td>\n",
       "      <td>4824.4880</td>\n",
       "      <td>656.77610</td>\n",
       "      <td>15.052075</td>\n",
       "      <td>22.886139</td>\n",
       "    </tr>\n",
       "    <tr>\n",
       "      <th>4</th>\n",
       "      <td>281474976710665</td>\n",
       "      <td>7704</td>\n",
       "      <td>1</td>\n",
       "      <td>Bhlhe40</td>\n",
       "      <td>4825.7410</td>\n",
       "      <td>737.87180</td>\n",
       "      <td>17.312185</td>\n",
       "      <td>31.846780</td>\n",
       "    </tr>\n",
       "    <tr>\n",
       "      <th>...</th>\n",
       "      <td>...</td>\n",
       "      <td>...</td>\n",
       "      <td>...</td>\n",
       "      <td>...</td>\n",
       "      <td>...</td>\n",
       "      <td>...</td>\n",
       "      <td>...</td>\n",
       "      <td>...</td>\n",
       "    </tr>\n",
       "    <tr>\n",
       "      <th>11791432</th>\n",
       "      <td>281599531251574</td>\n",
       "      <td>35282</td>\n",
       "      <td>0</td>\n",
       "      <td>Acsbg1</td>\n",
       "      <td>3639.5240</td>\n",
       "      <td>2848.17260</td>\n",
       "      <td>14.729904</td>\n",
       "      <td>40.000000</td>\n",
       "    </tr>\n",
       "    <tr>\n",
       "      <th>11791433</th>\n",
       "      <td>281599531251575</td>\n",
       "      <td>35995</td>\n",
       "      <td>1</td>\n",
       "      <td>Rprm</td>\n",
       "      <td>3639.2470</td>\n",
       "      <td>2779.44730</td>\n",
       "      <td>15.175095</td>\n",
       "      <td>23.390734</td>\n",
       "    </tr>\n",
       "    <tr>\n",
       "      <th>11791434</th>\n",
       "      <td>281599531251577</td>\n",
       "      <td>36115</td>\n",
       "      <td>0</td>\n",
       "      <td>Sema6a</td>\n",
       "      <td>3640.4727</td>\n",
       "      <td>3067.59640</td>\n",
       "      <td>13.888914</td>\n",
       "      <td>40.000000</td>\n",
       "    </tr>\n",
       "    <tr>\n",
       "      <th>11791435</th>\n",
       "      <td>281599531251579</td>\n",
       "      <td>5454</td>\n",
       "      <td>1</td>\n",
       "      <td>Nell1</td>\n",
       "      <td>3639.4960</td>\n",
       "      <td>3456.90770</td>\n",
       "      <td>13.969896</td>\n",
       "      <td>40.000000</td>\n",
       "    </tr>\n",
       "    <tr>\n",
       "      <th>11791436</th>\n",
       "      <td>281599531251580</td>\n",
       "      <td>35963</td>\n",
       "      <td>0</td>\n",
       "      <td>Rasgrf2</td>\n",
       "      <td>3639.1548</td>\n",
       "      <td>2747.25420</td>\n",
       "      <td>13.552074</td>\n",
       "      <td>40.000000</td>\n",
       "    </tr>\n",
       "  </tbody>\n",
       "</table>\n",
       "<p>11791437 rows × 8 columns</p>\n",
       "</div>"
      ],
      "text/plain": [
       "            transcript_id  cell_id  overlaps_nucleus feature_name  x_location  \\\n",
       "0         281474976710658     7703                 0         Dkk3   4820.3257   \n",
       "1         281474976710659     7704                 0         Dkk3   4820.8900   \n",
       "2         281474976710661     7704                 0         Dkk3   4821.7840   \n",
       "3         281474976710664     7886                 0      Bhlhe40   4824.4880   \n",
       "4         281474976710665     7704                 1      Bhlhe40   4825.7410   \n",
       "...                   ...      ...               ...          ...         ...   \n",
       "11791432  281599531251574    35282                 0       Acsbg1   3639.5240   \n",
       "11791433  281599531251575    35995                 1         Rprm   3639.2470   \n",
       "11791434  281599531251577    36115                 0       Sema6a   3640.4727   \n",
       "11791435  281599531251579     5454                 1        Nell1   3639.4960   \n",
       "11791436  281599531251580    35963                 0      Rasgrf2   3639.1548   \n",
       "\n",
       "          y_location  z_location         qv  \n",
       "0          768.67926   15.693588  16.515629  \n",
       "1          731.11847   15.173458  22.901026  \n",
       "2          733.21240   14.517880  15.178098  \n",
       "3          656.77610   15.052075  22.886139  \n",
       "4          737.87180   17.312185  31.846780  \n",
       "...              ...         ...        ...  \n",
       "11791432  2848.17260   14.729904  40.000000  \n",
       "11791433  2779.44730   15.175095  23.390734  \n",
       "11791434  3067.59640   13.888914  40.000000  \n",
       "11791435  3456.90770   13.969896  40.000000  \n",
       "11791436  2747.25420   13.552074  40.000000  \n",
       "\n",
       "[11791437 rows x 8 columns]"
      ]
     },
     "execution_count": 3,
     "metadata": {},
     "output_type": "execute_result"
    }
   ],
   "source": [
    "# read transcript data\n",
    "import pandas as pd\n",
    "\n",
    "ts_data = pd.read_csv(transcripts_path, compression = 'gzip', error_bad_lines = False)\n",
    "ts_data"
   ]
  },
  {
   "cell_type": "code",
   "execution_count": 4,
   "id": "ee843125",
   "metadata": {},
   "outputs": [],
   "source": [
    "max_values = ts_data['qv'].max()"
   ]
  },
  {
   "cell_type": "code",
   "execution_count": 5,
   "id": "432e42ad",
   "metadata": {},
   "outputs": [
    {
     "name": "stderr",
     "output_type": "stream",
     "text": [
      "Could not find Java JRE compatible with x86_64 architecture\n"
     ]
    }
   ],
   "source": [
    "import shutil\n",
    "import bioformats\n",
    "import zarr\n",
    "\n",
    "import py.ome_xml_utils as ome_xml_utils\n",
    "import py.zarr_utils as zarr_utils\n",
    "from py.dim_utils import DimUtils"
   ]
  },
  {
   "cell_type": "code",
   "execution_count": 6,
   "id": "98784bb5",
   "metadata": {},
   "outputs": [],
   "source": [
    "from scipy.sparse import coo_array\n",
    "import skimage.filters\n",
    "import skimage.morphology"
   ]
  },
  {
   "cell_type": "code",
   "execution_count": 7,
   "id": "64ba6d91",
   "metadata": {},
   "outputs": [],
   "source": [
    "# get data and meta data\n",
    "im_data, _ = zarr_utils.open_as_zarr(im_path)\n",
    "omexml = ome_xml_utils.parse_meta(im_path)\n",
    "dim_utils = DimUtils(omexml)\n",
    "dim_utils.calc_image_dimensions(im_data[0].shape)\n",
    "pixel_sizes = dim_utils.im_physical_sizes()"
   ]
  },
  {
   "cell_type": "code",
   "execution_count": 8,
   "id": "273c150e",
   "metadata": {},
   "outputs": [
    {
     "data": {
      "text/plain": [
       "16652"
      ]
     },
     "execution_count": 8,
     "metadata": {},
     "output_type": "execute_result"
    }
   ],
   "source": [
    "dim_utils.im_dim[0]"
   ]
  },
  {
   "cell_type": "code",
   "execution_count": 9,
   "id": "63735f68",
   "metadata": {},
   "outputs": [
    {
     "data": {
      "text/plain": [
       "[0, 0, 16652, 25640]"
      ]
     },
     "execution_count": 9,
     "metadata": {},
     "output_type": "execute_result"
    }
   ],
   "source": [
    "## convert to zarr image\n",
    "import math\n",
    "\n",
    "# build up image dimensions\n",
    "dim_cols = ['y_location', 'x_location']\n",
    "x_min, y_min = ts_data[dim_cols].min(axis = 0)\n",
    "x_max, y_max = ts_data[dim_cols].max(axis = 0)\n",
    "\n",
    "im_dim = [\n",
    "    0, 0,\n",
    "    dim_utils.im_dim[0],\n",
    "    dim_utils.im_dim[1]\n",
    "    #crop['y'][1] - crop['y'][0],\n",
    "    #crop['x'][1] - crop['x'][0]\n",
    "]\n",
    "im_dim"
   ]
  },
  {
   "cell_type": "code",
   "execution_count": 10,
   "id": "c737e60c",
   "metadata": {},
   "outputs": [],
   "source": [
    "crop = {\n",
    "    'x': [20000, 25000],\n",
    "    'y': [10000, 15000],\n",
    "}"
   ]
  },
  {
   "cell_type": "code",
   "execution_count": 11,
   "id": "453eb63d",
   "metadata": {},
   "outputs": [],
   "source": [
    "# DEBUG only use defined ones for now\n",
    "channel_names = [\n",
    "    # B\n",
    "    'BANK1', 'CD79A', 'MS4A1',\n",
    "    # T\n",
    "    'CCL5', 'CD4', 'CD8A', 'CXCR4', 'CYTIP',\n",
    "    'IL7R', 'LTB', 'TRAC',\n",
    "    # Mphage\n",
    "    #'APOC1', 'C15orf48', 'C1QA', 'C1QC', 'CD14', \n",
    "    #'CD163', 'CD68', 'FGL2', 'ITGAX', 'MMP12',\n",
    "    # DC\n",
    "    #'CCR7', 'CD83', 'IL3RA', 'LILRA4', 'PLD4',\n",
    "    # Stroma\n",
    "    #'ALDH1A3', 'GJB2', 'LUM', 'MMP2', 'POSTN', 'SFRP4'\n",
    "]"
   ]
  },
  {
   "cell_type": "code",
   "execution_count": 12,
   "id": "5e345127",
   "metadata": {},
   "outputs": [],
   "source": [
    "channel_names = ts_data['feature_name'].unique()\n",
    "\n",
    "# filter blanks\n",
    "channel_names = [x for x in channel_names if x.startswith(('BLANK', 'NegControl')) is False]"
   ]
  },
  {
   "cell_type": "code",
   "execution_count": 13,
   "id": "05dd7356",
   "metadata": {},
   "outputs": [],
   "source": [
    "import random\n",
    "channel_names = random.sample(channel_names, 2)"
   ]
  },
  {
   "cell_type": "code",
   "execution_count": 14,
   "id": "9d846b91",
   "metadata": {},
   "outputs": [],
   "source": [
    "num_channels = len(channel_names)"
   ]
  },
  {
   "cell_type": "code",
   "execution_count": 15,
   "id": "4b5825df",
   "metadata": {},
   "outputs": [],
   "source": [
    "import matplotlib\n",
    "import matplotlib.pyplot as plt"
   ]
  },
  {
   "cell_type": "code",
   "execution_count": 16,
   "id": "9101469c",
   "metadata": {},
   "outputs": [
    {
     "ename": "NameError",
     "evalue": "name 'zarr_shape' is not defined",
     "output_type": "error",
     "traceback": [
      "\u001b[0;31m---------------------------------------------------------------------------\u001b[0m",
      "\u001b[0;31mNameError\u001b[0m                                 Traceback (most recent call last)",
      "Input \u001b[0;32mIn [16]\u001b[0m, in \u001b[0;36m<cell line: 11>\u001b[0;34m()\u001b[0m\n\u001b[1;32m      8\u001b[0m \u001b[38;5;66;03m#data = y1['qv'].values\u001b[39;00m\n\u001b[1;32m      9\u001b[0m data \u001b[38;5;241m=\u001b[39m np\u001b[38;5;241m.\u001b[39mrepeat(\u001b[38;5;241m1\u001b[39m, \u001b[38;5;28mlen\u001b[39m(y1\u001b[38;5;241m.\u001b[39mindex))\n\u001b[0;32m---> 11\u001b[0m y2 \u001b[38;5;241m=\u001b[39m coo_array((data, (row, col)), shape \u001b[38;5;241m=\u001b[39m \u001b[43mzarr_shape\u001b[49m[\u001b[38;5;241m1\u001b[39m:\u001b[38;5;241m3\u001b[39m])\u001b[38;5;241m.\u001b[39mtoarray()\u001b[38;5;241m.\u001b[39mastype(np\u001b[38;5;241m.\u001b[39muint8)\n",
      "\u001b[0;31mNameError\u001b[0m: name 'zarr_shape' is not defined"
     ]
    }
   ],
   "source": [
    "x = 'Slc17a6'\n",
    "\n",
    "y1 = ts_data.loc[ts_data['feature_name'] == x]\n",
    "\n",
    "# create sparse matrix\n",
    "row  = y1[dim_cols[0]].values / pixel_sizes['y']\n",
    "col  = y1[dim_cols[1]].values / pixel_sizes['x']\n",
    "#data = y1['qv'].values\n",
    "data = np.repeat(1, len(y1.index))\n",
    "\n",
    "y2 = coo_array((data, (row, col)), shape = zarr_shape[1:3]).toarray().astype(np.uint8)"
   ]
  },
  {
   "cell_type": "code",
   "execution_count": null,
   "id": "4e72c37d",
   "metadata": {},
   "outputs": [],
   "source": [
    "im_scale = 0.2125"
   ]
  },
  {
   "cell_type": "code",
   "execution_count": null,
   "id": "b2caaa32",
   "metadata": {},
   "outputs": [],
   "source": [
    "gray2rgb((im_dapi, im_filt, np.zeros_like(im_filt))).shape"
   ]
  },
  {
   "cell_type": "code",
   "execution_count": null,
   "id": "710c02fa",
   "metadata": {},
   "outputs": [],
   "source": [
    "im_filt.dtype"
   ]
  },
  {
   "cell_type": "code",
   "execution_count": null,
   "id": "f68ee1ee",
   "metadata": {},
   "outputs": [],
   "source": [
    "from skimage.color import combine_stains, rgb_from_rbd\n",
    "\n",
    "fig, axes = plt.subplots(nrows=1, ncols=3, figsize=(30, 10))\n",
    "\n",
    "im_dapi = im_data[0][\n",
    "    round(3200/im_scale):round(3400/im_scale),\n",
    "    round(4400/im_scale):round(4600/im_scale)\n",
    "]\n",
    "im_ori = y2[\n",
    "    round(3200/im_scale):round(3400/im_scale),\n",
    "    round(4400/im_scale):round(4600/im_scale)\n",
    "]\n",
    "im_sum = skimage.filters.rank.sum(im_ori, skimage.morphology.disk(6))\n",
    "\n",
    "# make donuts\n",
    "im_filt = (skimage.filters.gaussian(im_sum, 2, preserve_range = True) * (2**8-1)).astype(np.uint16)\n",
    "im_min = skimage.filters.rank.minimum(im_filt, skimage.morphology.disk(2))\n",
    "im_filt = skimage.filters.median(im_min, skimage.morphology.disk(2))\n",
    "\n",
    "axes[0].imshow(im_dapi)\n",
    "axes[1].imshow(im_sum)\n",
    "axes[2].imshow(im_filt)\n",
    "\n",
    "plt.tight_layout()\n",
    "plt.show()"
   ]
  },
  {
   "cell_type": "code",
   "execution_count": null,
   "id": "84536db0",
   "metadata": {},
   "outputs": [],
   "source": [
    "# create zarr\n",
    "zarr_shape = (\n",
    "    num_channels,\n",
    "    im_dim[2] - im_dim[0],\n",
    "    im_dim[3] - im_dim[1],\n",
    "    #im_dim[5] - im_dim[2]\n",
    ")\n",
    "  \n",
    "seq_image = zarr.open(\n",
    "    #ts_zarr_path,\n",
    "    mode = 'w',\n",
    "    shape = zarr_shape,\n",
    "    # chunks = (1, 512, 512),\n",
    "    chunks = tuple([1] + list(im_data[0].chunks)),\n",
    "    dtype = np.uint16\n",
    ")"
   ]
  },
  {
   "cell_type": "code",
   "execution_count": null,
   "id": "04a4f35f",
   "metadata": {},
   "outputs": [],
   "source": [
    "filter_value = 4\n",
    "sum_value = 6\n",
    "\n",
    "if os.path.exists(ts_zarr_path):\n",
    "    shutil.rmtree(ts_zarr_path)\n",
    "\n",
    "# go through and create images\n",
    "for i, x in enumerate(channel_names):\n",
    "    print(x)\n",
    "    \n",
    "    y1 = ts_data.loc[ts_data['feature_name'] == x]\n",
    "    \n",
    "    # create sparse matrix\n",
    "    row  = y1[dim_cols[0]].values / pixel_sizes['y']\n",
    "    col  = y1[dim_cols[1]].values / pixel_sizes['x']\n",
    "    #data = y1['qv'].values\n",
    "    data = np.repeat(1, len(y1.index))\n",
    "\n",
    "    y2 = coo_array((data, (row, col)), shape = zarr_shape[1:3]).toarray().astype(np.uint8)\n",
    "    \n",
    "    # TODO use Dask?\n",
    "    # sum\n",
    "    seq_image[i, :, :] = skimage.filters.rank.sum(\n",
    "        y2, skimage.morphology.disk(sum_value))\n",
    "    \n",
    "    # enhance donuts\n",
    "    seq_image[i, :, :] = (skimage.filters.gaussian(seq_image[i, :, :], filter_value, preserve_range = True) * (2**8-1)).astype(np.uint16)\n",
    "    seq_image[i, :, :] = skimage.filters.rank.minimum(seq_image[i, :, :], skimage.morphology.disk(filter_value))\n",
    "    seq_image[i, :, :] = skimage.filters.median(seq_image[i, :, :], skimage.morphology.disk(filter_value))\n",
    "    \n",
    "# generate multiscales \n",
    "nscales = len(im_data)\n",
    "\n",
    "# TODO is there a more elegant way to do this .. ?\n",
    "if nscales > 1:\n",
    "    multiscales_file_path = ts_zarr_path + \".multiscales\"\n",
    "\n",
    "zarr_utils.create_multiscales(\n",
    "  seq_image, multiscales_file_path,\n",
    "  x_idx = 1, y_idx = 2,\n",
    "  nscales = nscales\n",
    ")\n",
    "\n",
    "# remove previous and rename multiscales\n",
    "if os.path.exists(ts_zarr_path):\n",
    "    shutil.rmtree(ts_zarr_path)\n",
    "os.rename(multiscales_file_path, ts_zarr_path)"
   ]
  },
  {
   "cell_type": "code",
   "execution_count": null,
   "id": "fc116ccb",
   "metadata": {},
   "outputs": [],
   "source": [
    "# build metadata\n",
    "o = bioformats.omexml.OMEXML()\n",
    "\n",
    "# TODO anything else?\n",
    "o.image().Pixels.channel_count = zarr_shape[0]\n",
    "o.image().Pixels.set_SizeC(zarr_shape[0])\n",
    "o.image().Pixels.set_SizeX(zarr_shape[2])\n",
    "o.image().Pixels.set_SizeY(zarr_shape[1])\n",
    "o.image().Pixels.set_PhysicalSizeX(pixel_sizes['x'])\n",
    "o.image().Pixels.set_PhysicalSizeY(pixel_sizes['y'])\n",
    "o.image().Pixels.set_PhysicalSizeXUnit('um')\n",
    "o.image().Pixels.set_PhysicalSizeYUnit('um')\n",
    "o.image().Pixels.set_PixelType('uint16')\n",
    "\n",
    "#for i, x in enumerate(channel_names[0:num_channels]):\n",
    "for i, x in enumerate(channel_names):\n",
    "    o.image().Pixels.Channel(i).Name = x\n",
    "\n",
    "# add metadata\n",
    "ome_xml_utils.write_ome_xml(ts_zarr_path, o)"
   ]
  },
  {
   "cell_type": "code",
   "execution_count": null,
   "id": "b8ef04e4",
   "metadata": {},
   "outputs": [],
   "source": [
    "napari_utils.open_image(\n",
    "    ts_zarr_path, use_channel_axis = True, as_dask = True, \n",
    "    channel_names = channel_names, visible = False,\n",
    ")"
   ]
  },
  {
   "cell_type": "code",
   "execution_count": null,
   "id": "87b8006b",
   "metadata": {},
   "outputs": [],
   "source": [
    "# read in OME XML from first image sequence\n",
    "import tifffile\n",
    "import py.zarr_utils as zarr_utils\n",
    "import py.ome_xml_utils as ome_xml_utils\n",
    "from py.dim_utils import DimUtils\n",
    "\n",
    "im = tifffile.TiffFile(im_path)\n",
    "x_array = im.asarray()\n",
    "omexml = ome_xml_utils.parse_meta(im_path)\n",
    "dim_utils = DimUtils(omexml)\n",
    "dim_utils.calc_image_dimensions(x_array.shape)"
   ]
  },
  {
   "cell_type": "code",
   "execution_count": null,
   "id": "c3774b1d",
   "metadata": {},
   "outputs": [],
   "source": [
    "# split y axis\n",
    "# TODO this is specific to Thorlabs 3P output\n",
    "split_size = int(dim_utils.dim_val('Y')/dim_utils.dim_val('X'))"
   ]
  },
  {
   "cell_type": "code",
   "execution_count": null,
   "id": "89b63009",
   "metadata": {},
   "outputs": [],
   "source": [
    "# DEBUG take first x slices\n",
    "debug_slices = 12\n",
    "debug_start_slice = 48"
   ]
  },
  {
   "cell_type": "code",
   "execution_count": null,
   "id": "de47c7c5",
   "metadata": {},
   "outputs": [],
   "source": [
    "# split array along Y\n",
    "x_split = np.array_split(x_array, split_size, axis = dim_utils.dim_idx('Y'))"
   ]
  },
  {
   "cell_type": "code",
   "execution_count": null,
   "id": "eb6c1f25",
   "metadata": {},
   "outputs": [],
   "source": [
    "x_split = [x[debug_start_slice:(debug_start_slice + debug_slices), :, :, :] for x in x_split]"
   ]
  },
  {
   "cell_type": "code",
   "execution_count": null,
   "id": "609f41f1",
   "metadata": {},
   "outputs": [],
   "source": [
    "stack_dim = 'Z'\n",
    "skip_tiles = 1\n",
    "nscales = 1\n",
    "physical_stack_scale = 2"
   ]
  },
  {
   "cell_type": "code",
   "execution_count": null,
   "id": "b853f334",
   "metadata": {},
   "outputs": [],
   "source": [
    "# get or create stack axis\n",
    "stack_dim_idx = dim_utils.dim_idx(stack_dim)\n",
    "stack_array = False\n",
    "\n",
    "# check whether to create this dimension\n",
    "if stack_dim_idx is None:\n",
    "    stack_dim_idx = dim_utils.default_order.index(stack_dim)\n",
    "    stack_array = True"
   ]
  },
  {
   "cell_type": "code",
   "execution_count": null,
   "id": "45c1801b",
   "metadata": {},
   "outputs": [],
   "source": [
    "import math"
   ]
  },
  {
   "cell_type": "code",
   "execution_count": null,
   "id": "76c1c498",
   "metadata": {},
   "outputs": [],
   "source": [
    "\"\"\"\n",
    "scale intensity\n",
    "exp[𝑚𝑛(Δ𝑧/ls − ln(𝑠))] \n",
    "m - multiphoton number\n",
    "n - plane index\n",
    "s - relative incident laser power ratio between planes\n",
    "d𝑧 - spacing between planes\n",
    "ls - mean free path\n",
    "\"\"\"\n",
    "def reverb_intensity_scale(m, n, s, dz, ls, x = None, scale = None):\n",
    "    # get y \n",
    "    y = 1/math.exp(m * n * (dz/ls - math.log(s)))\n",
    "    \n",
    "    # scale?\n",
    "    if scale is not None:\n",
    "        y = y/scale\n",
    "    \n",
    "    if x is not None:\n",
    "        return (x * y).astype(x.dtype)\n",
    "    else:\n",
    "        return y"
   ]
  },
  {
   "cell_type": "code",
   "execution_count": null,
   "id": "6983f5e4",
   "metadata": {},
   "outputs": [],
   "source": [
    "m = 3\n",
    "s = 2\n",
    "dz = 26\n",
    "ls = 200"
   ]
  },
  {
   "cell_type": "code",
   "execution_count": null,
   "id": "ccb53127",
   "metadata": {},
   "outputs": [],
   "source": [
    "reverb_intensity_scale(m, len(x_split_shift[::(skip_tiles + 1)]), s, dz, ls)"
   ]
  },
  {
   "cell_type": "code",
   "execution_count": null,
   "id": "abbca6c7",
   "metadata": {},
   "outputs": [],
   "source": [
    "# create shifts to create image\n",
    "shifts = np.array([\n",
    "    [14.74, -2.18],\n",
    "    [14.74, -2.18],\n",
    "    [13.41, 16.31],\n",
    "    [13.41, 16.31],\n",
    "    [8.92, -4.23],\n",
    "    [8.92, -4.23]\n",
    "])"
   ]
  },
  {
   "cell_type": "code",
   "execution_count": null,
   "id": "b37e2962",
   "metadata": {},
   "outputs": [],
   "source": [
    "# generate slices for images\n",
    "shift_slices_target = [[slice(None) for _ in x_array.shape] for _ in range(len(shifts))]\n",
    "shift_slices_source = [[slice(None) for _ in x_array.shape] for _ in range(len(shifts))]\n",
    "dim_val = dim_utils.dim_val('X')\n",
    "\n",
    "for i, shift in enumerate(shifts):\n",
    "    # create slices for source and target\n",
    "    if shift[0] > 0:\n",
    "        shift_slices_target[i][dim_utils.dim_idx('Y')] = slice(round(shift[0]), dim_val, 1)\n",
    "        shift_slices_source[i][dim_utils.dim_idx('Y')] = slice(0, dim_val - round(shift[0]), 1)\n",
    "    else:\n",
    "        shift_slices_target[i][dim_utils.dim_idx('Y')] = slice(0, dim_val + round(shift[0]), 1)\n",
    "        shift_slices_source[i][dim_utils.dim_idx('Y')] = slice(-round(shift[0]), dim_val, 1)\n",
    "        \n",
    "    if shift[1] > 0:\n",
    "        shift_slices_target[i][dim_utils.dim_idx('X')] = slice(round(shift[1]), dim_val, 1)\n",
    "        shift_slices_source[i][dim_utils.dim_idx('X')] = slice(0, dim_val - round(shift[1]), 1)\n",
    "    else:\n",
    "        shift_slices_target[i][dim_utils.dim_idx('X')] = slice(0, dim_val + round(shift[1]), 1)\n",
    "        shift_slices_source[i][dim_utils.dim_idx('X')] = slice(-round(shift[1]), dim_val, 1)\n",
    "    \n",
    "shift_slices_target = [tuple(x) for x in shift_slices_target]\n",
    "shift_slices_source = [tuple(x) for x in shift_slices_source]"
   ]
  },
  {
   "cell_type": "code",
   "execution_count": null,
   "id": "89e08a1b",
   "metadata": {},
   "outputs": [],
   "source": [
    "x_split_shift = x_split[:2]\n",
    "\n",
    "# generate new image\n",
    "for i, x in enumerate(x_split[2:]):\n",
    "    # zero image\n",
    "    zero_im = np.zeros_like(x)\n",
    "    \n",
    "    # copy image\n",
    "    zero_im[shift_slices_target[i]] = x[shift_slices_source[i]]\n",
    "    # zero_im[shift_slices_source[i]] = x[shift_slices_target[i]]\n",
    "    \n",
    "    x_split_shift.append(zero_im)"
   ]
  },
  {
   "cell_type": "code",
   "execution_count": null,
   "id": "ce9a50da",
   "metadata": {},
   "outputs": [],
   "source": [
    " if stack_array is True:\n",
    "    x_new = np.stack(\n",
    "        [reverb_intensity_scale(x, m, n + 1, s, dz, ls) \\\n",
    "         for n, x in enumerate(x_split[::(skip_tiles + 1)])],\n",
    "        axis = stack_dim_idx\n",
    "    )\n",
    "else:\n",
    "    # get max reverb scale\n",
    "    max_scale = reverb_intensity_scale(m, len(x_split_shift[::(skip_tiles + 1)]), s, dz, ls)\n",
    "    \n",
    "    # contact with shift slices\n",
    "    x_new_list = [reverb_intensity_scale(m, n + 1, s, dz, ls, x = x, scale = max_scale) \\\n",
    "         for n, x in enumerate(x_split_shift[::(skip_tiles + 1)])]\n",
    "    x_new_list.reverse()\n",
    "    \n",
    "    x_new = np.concatenate(x_new_list, axis = stack_dim_idx)"
   ]
  },
  {
   "cell_type": "code",
   "execution_count": null,
   "id": "d7dc2711",
   "metadata": {},
   "outputs": [],
   "source": [
    "# use median filter\n",
    "from skimage.filters.rank import median\n",
    "from skimage.morphology import ball"
   ]
  },
  {
   "cell_type": "code",
   "execution_count": null,
   "id": "e7720cab",
   "metadata": {},
   "outputs": [],
   "source": [
    "im_slices = [slice(None) for _ in range(len(x_new.shape))]\n",
    "\n",
    "for i in range(dim_utils.dim_val('C')):\n",
    "    im_slices = list(im_slices)\n",
    "    im_slices[dim_utils.dim_idx('C')] = i\n",
    "    im_slices = tuple(im_slices)\n",
    "    \n",
    "    x_new[im_slices] = median(x_new[im_slices], ball(3))"
   ]
  },
  {
   "cell_type": "code",
   "execution_count": null,
   "id": "ba0e839b",
   "metadata": {
    "scrolled": false
   },
   "outputs": [],
   "source": [
    "zarr_utils.create_multiscales(x_new, zarr_path, nscales = nscales)"
   ]
  },
  {
   "cell_type": "code",
   "execution_count": null,
   "id": "ccabb7f8",
   "metadata": {},
   "outputs": [],
   "source": [
    "# create shape dict for new image\n",
    "shape_dict = {'Y': int(dim_utils.dim_val('Y')/split_size)}\n",
    "shape_dict[stack_dim.upper()] = x_new.shape[stack_dim_idx]\n",
    "scale_dict = dict()\n",
    "scale_dict[stack_dim.upper()] = physical_stack_scale\n",
    "\n",
    "# change image dimensions in xml\n",
    "omexml_new = ome_xml_utils.set_im_size_with_dict(omexml, shape_dict)\n",
    "omexml_new = ome_xml_utils.set_physical_size_with_dict(omexml_new, scale_dict)\n",
    "\n",
    "# add metadata\n",
    "ome_xml_utils.write_ome_xml(zarr_path, omexml_new)"
   ]
  },
  {
   "cell_type": "code",
   "execution_count": null,
   "id": "96788271",
   "metadata": {},
   "outputs": [],
   "source": [
    "from py.napari_utils import NapariUtils\n",
    "\n",
    "napari_utils = NapariUtils()\n",
    "napari_utils.viewer = None\n",
    "napari_utils.open_viewer()"
   ]
  },
  {
   "cell_type": "code",
   "execution_count": null,
   "id": "75724ef2",
   "metadata": {},
   "outputs": [],
   "source": [
    "channel_names = [\n",
    "    'A', 'B', 'C', 'D'\n",
    "]"
   ]
  },
  {
   "cell_type": "code",
   "execution_count": null,
   "id": "10e3e72e",
   "metadata": {},
   "outputs": [],
   "source": [
    "napari_utils.open_image(\n",
    "    zarr_path,\n",
    "    use_channel_axis = True, as_dask = True,\n",
    "    channel_names = channel_names\n",
    ")"
   ]
  },
  {
   "cell_type": "code",
   "execution_count": null,
   "id": "a1f26ae6",
   "metadata": {},
   "outputs": [],
   "source": [
    "from napari_animation import AnimationWidget\n",
    "animation_widget = AnimationWidget(napari_utils.viewer)\n",
    "napari_utils.viewer.window.add_dock_widget(animation_widget, area='right')"
   ]
  },
  {
   "cell_type": "code",
   "execution_count": null,
   "id": "a6ab6541",
   "metadata": {},
   "outputs": [],
   "source": []
  },
  {
   "cell_type": "code",
   "execution_count": null,
   "id": "09a0bd5c",
   "metadata": {},
   "outputs": [],
   "source": []
  }
 ],
 "metadata": {
  "kernelspec": {
   "display_name": "Python 3 (ipykernel)",
   "language": "python",
   "name": "python3"
  },
  "language_info": {
   "codemirror_mode": {
    "name": "ipython",
    "version": 3
   },
   "file_extension": ".py",
   "mimetype": "text/x-python",
   "name": "python",
   "nbconvert_exporter": "python",
   "pygments_lexer": "ipython3",
   "version": "3.9.13"
  }
 },
 "nbformat": 4,
 "nbformat_minor": 5
}
