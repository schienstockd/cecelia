{
 "cells": [
  {
   "cell_type": "code",
   "execution_count": 1,
   "id": "6b4cc5a3",
   "metadata": {},
   "outputs": [],
   "source": [
    "import os\n",
    "import numpy as np\n",
    "# import working directory to check functions\n",
    "os.chdir('/Users/Dominik/R-workspace/cecelia/inst')\n",
    "\n",
    "# config\n",
    "import py.config_utils as cfg\n",
    "\n",
    "%load_ext autoreload\n",
    "%autoreload 2"
   ]
  },
  {
   "cell_type": "code",
   "execution_count": 35,
   "id": "3483e251",
   "metadata": {},
   "outputs": [],
   "source": [
    "a = np.array([[0,5,2,3,2,3,4],[0,5,2,3,2,3,4]], dtype = np.uint32)\n",
    "b = np.array([[0,5,4,7,4,7,6],[0,5,2,3,2,3,4]], dtype = np.uint32)"
   ]
  },
  {
   "cell_type": "code",
   "execution_count": 38,
   "id": "5dcd7875",
   "metadata": {},
   "outputs": [],
   "source": [
    "_, idx_a =  np.unique(a, return_index=True)"
   ]
  },
  {
   "cell_type": "code",
   "execution_count": 39,
   "id": "425622eb",
   "metadata": {},
   "outputs": [],
   "source": [
    "_, idx_b =  np.unique(b, return_index=True)"
   ]
  },
  {
   "cell_type": "code",
   "execution_count": 43,
   "id": "725dcbf1",
   "metadata": {},
   "outputs": [
    {
     "data": {
      "text/plain": [
       "<zip at 0x127dfd2c0>"
      ]
     },
     "execution_count": 43,
     "metadata": {},
     "output_type": "execute_result"
    }
   ],
   "source": [
    "zip(a.ravel()[sorted(idx_a)], b.ravel()[sorted(idx_b)])"
   ]
  },
  {
   "cell_type": "code",
   "execution_count": null,
   "id": "38e24e63",
   "metadata": {},
   "outputs": [],
   "source": []
  },
  {
   "cell_type": "code",
   "execution_count": 32,
   "id": "06ff6c4d",
   "metadata": {},
   "outputs": [],
   "source": [
    "a[a == 4] = 5"
   ]
  },
  {
   "cell_type": "code",
   "execution_count": 33,
   "id": "ba3a090a",
   "metadata": {},
   "outputs": [
    {
     "data": {
      "text/plain": [
       "array([0, 5, 2, 3, 2, 3, 5], dtype=uint32)"
      ]
     },
     "execution_count": 33,
     "metadata": {},
     "output_type": "execute_result"
    }
   ],
   "source": [
    "a"
   ]
  },
  {
   "cell_type": "code",
   "execution_count": 26,
   "id": "e9132195",
   "metadata": {},
   "outputs": [
    {
     "name": "stdout",
     "output_type": "stream",
     "text": [
      "0 0\n",
      "5 5\n",
      "2 4\n",
      "3 7\n",
      "4 6\n"
     ]
    }
   ],
   "source": [
    "for x, y in zip(a[sorted(idx_a)], b[sorted(idx_b)]):\n",
    "    print(x, y)"
   ]
  },
  {
   "cell_type": "code",
   "execution_count": null,
   "id": "a9bcd1d2",
   "metadata": {},
   "outputs": [],
   "source": []
  },
  {
   "cell_type": "code",
   "execution_count": 7,
   "id": "c29dd27f",
   "metadata": {},
   "outputs": [],
   "source": [
    "from scipy.sparse import coo_array, csc_array, csr_array"
   ]
  },
  {
   "cell_type": "code",
   "execution_count": 5,
   "id": "4caeba3e",
   "metadata": {},
   "outputs": [],
   "source": [
    "x = np.array([0, 0, 1, 0])\n",
    "y = np.array([0, 0, 1, 2])"
   ]
  },
  {
   "cell_type": "code",
   "execution_count": 8,
   "id": "6502bc37",
   "metadata": {},
   "outputs": [],
   "source": [
    "z = [1] * len(x)\n",
    "\n",
    "overlap = coo_array((z, (x, y)), shape = (len(x), len(y)), dtype = np.uint16)\n",
    "overlap_array = overlap.toarray()"
   ]
  },
  {
   "cell_type": "code",
   "execution_count": 65,
   "id": "c2e09fc4",
   "metadata": {},
   "outputs": [
    {
     "data": {
      "text/plain": [
       "matrix([[0],\n",
       "        [1],\n",
       "        [0],\n",
       "        [0]])"
      ]
     },
     "execution_count": 65,
     "metadata": {},
     "output_type": "execute_result"
    }
   ],
   "source": [
    "overlap.argmax(axis=1)[:,0]"
   ]
  },
  {
   "cell_type": "code",
   "execution_count": 71,
   "id": "eb2146f0",
   "metadata": {},
   "outputs": [],
   "source": [
    "from sklearn import preprocessing\n",
    "iou = preprocessing.normalize(overlap, norm='l1', axis=1)"
   ]
  },
  {
   "cell_type": "code",
   "execution_count": 72,
   "id": "88d399bc",
   "metadata": {},
   "outputs": [],
   "source": [
    "iou[iou < 0.4] = 0"
   ]
  },
  {
   "cell_type": "code",
   "execution_count": 73,
   "id": "a294be60",
   "metadata": {},
   "outputs": [],
   "source": [
    "x=np.array(iou.argmax(axis = 0))[0,:]\n",
    "y=np.arange(0,x.size,1)\n",
    "z=iou.max(axis=0).toarray()[0,:]\n",
    "\n",
    "iou = coo_array((z, (x, y)), shape = (len(x), len(y)))"
   ]
  },
  {
   "cell_type": "code",
   "execution_count": 115,
   "id": "1b74c7bc",
   "metadata": {},
   "outputs": [],
   "source": [
    "a = np.array([1,2,3,4,5])\n",
    "x = [2,3]"
   ]
  },
  {
   "cell_type": "code",
   "execution_count": 121,
   "id": "631e51d1",
   "metadata": {},
   "outputs": [],
   "source": [
    "a[np.isin(a, [])] = 0"
   ]
  },
  {
   "cell_type": "code",
   "execution_count": 122,
   "id": "8cebbc0e",
   "metadata": {},
   "outputs": [
    {
     "data": {
      "text/plain": [
       "array([1, 0, 0, 4, 5])"
      ]
     },
     "execution_count": 122,
     "metadata": {},
     "output_type": "execute_result"
    }
   ],
   "source": [
    "a"
   ]
  },
  {
   "cell_type": "code",
   "execution_count": 76,
   "id": "9b447b8c",
   "metadata": {},
   "outputs": [],
   "source": [
    "ino = np.nonzero(iou.max(axis = 1).toarray() == 0.0)[0]"
   ]
  },
  {
   "cell_type": "code",
   "execution_count": 102,
   "id": "57b642fc",
   "metadata": {},
   "outputs": [
    {
     "data": {
      "text/plain": [
       "array([0, 1, 0, 0])"
      ]
     },
     "execution_count": 102,
     "metadata": {},
     "output_type": "execute_result"
    }
   ],
   "source": [
    "iou.toarray().argmax(axis=1)"
   ]
  },
  {
   "cell_type": "code",
   "execution_count": 113,
   "id": "7e607215",
   "metadata": {},
   "outputs": [
    {
     "data": {
      "text/plain": [
       "array([0, 1, 0, 0])"
      ]
     },
     "execution_count": 113,
     "metadata": {},
     "output_type": "execute_result"
    }
   ],
   "source": [
    " iou.argmax(axis = 1).A.ravel()"
   ]
  },
  {
   "cell_type": "code",
   "execution_count": 100,
   "id": "db8cbe02",
   "metadata": {},
   "outputs": [
    {
     "data": {
      "text/plain": [
       "(1, 4)"
      ]
     },
     "execution_count": 100,
     "metadata": {},
     "output_type": "execute_result"
    }
   ],
   "source": [
    "istitch.reshape((1,4)).shape"
   ]
  },
  {
   "cell_type": "code",
   "execution_count": 165,
   "id": "66e9466d",
   "metadata": {},
   "outputs": [
    {
     "data": {
      "text/plain": [
       "array([[5, 4, 4, 3],\n",
       "       [3, 2, 2, 1],\n",
       "       [2, 1, 1, 0],\n",
       "       [2, 1, 1, 0]], dtype=uint64)"
      ]
     },
     "execution_count": 165,
     "metadata": {},
     "output_type": "execute_result"
    }
   ],
   "source": [
    "n_pixels_x = np.sum(overlap_array, axis = 0, keepdims = True)\n",
    "n_pixels_true = np.sum(overlap_array, axis = 1, keepdims = True)\n",
    "(n_pixels_x + n_pixels_true)"
   ]
  },
  {
   "cell_type": "code",
   "execution_count": 196,
   "id": "d873cd5a",
   "metadata": {},
   "outputs": [
    {
     "data": {
      "text/plain": [
       "dtype('uint64')"
      ]
     },
     "execution_count": 196,
     "metadata": {},
     "output_type": "execute_result"
    }
   ],
   "source": [
    "n_pixels_x.dtype"
   ]
  },
  {
   "cell_type": "code",
   "execution_count": 195,
   "id": "7638abdb",
   "metadata": {},
   "outputs": [
    {
     "data": {
      "text/plain": [
       "array([[3, 4, 3, 3],\n",
       "       [3, 1, 2, 1],\n",
       "       [2, 1, 1, 0],\n",
       "       [2, 1, 1, 0]], dtype=uint64)"
      ]
     },
     "execution_count": 195,
     "metadata": {},
     "output_type": "execute_result"
    }
   ],
   "source": [
    "(n_pixels_x + n_pixels_true - overlap)"
   ]
  },
  {
   "cell_type": "code",
   "execution_count": null,
   "id": "53fe1f9b",
   "metadata": {},
   "outputs": [],
   "source": [
    "n_pixels_x = np.sum(overlap_array, axis = 0, keepdims = True, dtype = np.uint16)\n",
    "n_pixels_true = np.sum(overlap_array, axis = 1, keepdims = True, dtype = np.uint16)\n",
    "n_compose = (n_pixels_x + n_pixels_true - overlap)\n",
    "iou = np.divide(overlap_array, n_compose, dtype = np.float16, where = n_compose != 0)\n",
    "iou.dtype\n",
    "#iou[np.isnan(iou)] = 0.0"
   ]
  },
  {
   "cell_type": "code",
   "execution_count": null,
   "id": "6f0b92d4",
   "metadata": {},
   "outputs": [],
   "source": [
    "(n_pixels_x + n_pixels_true - overlap).dtype"
   ]
  },
  {
   "cell_type": "code",
   "execution_count": null,
   "id": "10bb4cce",
   "metadata": {},
   "outputs": [],
   "source": [
    "def method_a(overlap):\n",
    "    n_pixels_x = np.sum(overlap, axis = 0, keepdims = True, dtype = np.uint16)\n",
    "    n_pixels_true = np.sum(overlap, axis = 1, keepdims = True, dtype = np.uint16)\n",
    "    iou = overlap / (n_pixels_x + n_pixels_true - overlap)\n",
    "    print(iou.dtype)\n",
    "    #iou[np.isnan(iou)] = 0.0\n",
    "    \n",
    "    return iou\n",
    "\n",
    "method_a(overlap_array)"
   ]
  },
  {
   "cell_type": "code",
   "execution_count": null,
   "id": "2ee84ef4",
   "metadata": {},
   "outputs": [],
   "source": [
    "n_pixels_true.shape"
   ]
  },
  {
   "cell_type": "code",
   "execution_count": null,
   "id": "821cc5e8",
   "metadata": {},
   "outputs": [],
   "source": [
    "n_pixels_x = overlap.sum(axis = 0)\n",
    "n_pixels_true = overlap.sum(axis = 1)\n",
    "# reshape\n",
    "n_pixels_true = n_pixels_true.reshape((n_pixels_true.shape[0], 1))"
   ]
  },
  {
   "cell_type": "code",
   "execution_count": null,
   "id": "2c9fe0f8",
   "metadata": {},
   "outputs": [],
   "source": [
    "n_pixels_x + n_pixels_true"
   ]
  },
  {
   "cell_type": "code",
   "execution_count": null,
   "id": "23b45f54",
   "metadata": {},
   "outputs": [],
   "source": [
    "iou = overlap / (n_pixels_x + n_pixels_true - overlap)"
   ]
  },
  {
   "cell_type": "code",
   "execution_count": null,
   "id": "43837826",
   "metadata": {},
   "outputs": [],
   "source": [
    "def method_b(overlap):\n",
    "    n_pixels_x = overlap.sum(axis = 0)\n",
    "    n_pixels_true = overlap.sum(axis = 1)\n",
    "    # reshape\n",
    "    n_pixels_true = n_pixels_true.reshape((n_pixels_true.shape[0], 1))\n",
    "    n_compose = (n_pixels_x + n_pixels_true - overlap)\n",
    "    \n",
    "    iou = np.divide(overlap.toarray(), n_compose,\n",
    "                    dtype = np.float16, where = n_compose != 0)\n",
    "    iou[np.isnan(iou)] = 0.0\n",
    "    \n",
    "    return iou\n",
    "\n",
    "method_b(overlap)"
   ]
  },
  {
   "cell_type": "code",
   "execution_count": null,
   "id": "d968d846",
   "metadata": {},
   "outputs": [],
   "source": []
  },
  {
   "cell_type": "code",
   "execution_count": null,
   "id": "0a24fbb6",
   "metadata": {},
   "outputs": [],
   "source": [
    "if np.any(x) is True:\n",
    "    print('hello')"
   ]
  },
  {
   "cell_type": "code",
   "execution_count": null,
   "id": "e32a22fc",
   "metadata": {},
   "outputs": [],
   "source": [
    "np.min(x > 2)"
   ]
  },
  {
   "cell_type": "code",
   "execution_count": null,
   "id": "9831add6",
   "metadata": {},
   "outputs": [],
   "source": [
    "import sys\n",
    "\n",
    "def sizeof_fmt(num, suffix='B'):\n",
    "    ''' by Fred Cirera,  https://stackoverflow.com/a/1094933/1870254, modified'''\n",
    "    for unit in ['','Ki','Mi','Gi','Ti','Pi','Ei','Zi']:\n",
    "        if abs(num) < 1024.0:\n",
    "            return \"%3.1f %s%s\" % (num, unit, suffix)\n",
    "        num /= 1024.0\n",
    "    return \"%.1f %s%s\" % (num, 'Yi', suffix)"
   ]
  },
  {
   "cell_type": "code",
   "execution_count": null,
   "id": "8cfcde8f",
   "metadata": {},
   "outputs": [],
   "source": [
    "def print_mem_usage(context, num_vars = 10):\n",
    "    for name, size in sorted(((name, sys.getsizeof(value)) for name, value in list(\n",
    "                          context.items())), key= lambda x: -x[1])[:num_vars]:\n",
    "        print(\"{:>30}: {:>8}\".format(name, sizeof_fmt(size)))"
   ]
  },
  {
   "cell_type": "code",
   "execution_count": null,
   "id": "3643ab74",
   "metadata": {},
   "outputs": [],
   "source": [
    "print_mem_usage(locals(), 10)"
   ]
  },
  {
   "cell_type": "code",
   "execution_count": null,
   "id": "ba019bcd",
   "metadata": {},
   "outputs": [],
   "source": [
    "base_dir = '/Volumes/Analysis_SSD/Dominik/cecelia/projects/4DZwIe/ANALYSIS/'\n",
    "im_path = os.path.join(base_dir, '0', 'Fi2BUU', 'ccidImage.ome.zarr')\n",
    "cyto_path = os.path.join(base_dir, '1', 'Fi2BUU', 'labels', 'default.zarr')"
   ]
  },
  {
   "cell_type": "code",
   "execution_count": null,
   "id": "17d0de13",
   "metadata": {},
   "outputs": [],
   "source": [
    "import py.zarr_utils as zarr_utils\n",
    "import py.ome_xml_utils as ome_xml_utils\n",
    "from py.dim_utils import DimUtils\n",
    "import py.correction_utils as correction_utils\n",
    "import py.label_utils as label_utils"
   ]
  },
  {
   "cell_type": "code",
   "execution_count": null,
   "id": "310a2580",
   "metadata": {},
   "outputs": [],
   "source": [
    "cyto_labels, _ = zarr_utils.open_labels_as_zarr(cyto_path)"
   ]
  },
  {
   "cell_type": "code",
   "execution_count": null,
   "id": "5b1bb9f4",
   "metadata": {},
   "outputs": [],
   "source": [
    "slices = (None, None, )\n",
    "cyto_labels[0][]"
   ]
  },
  {
   "cell_type": "code",
   "execution_count": null,
   "id": "b8505855",
   "metadata": {},
   "outputs": [],
   "source": [
    "x = '/Volumes/Analysis_SSD/Dominik/TMP/x.zarr'"
   ]
  },
  {
   "cell_type": "code",
   "execution_count": null,
   "id": "c6a2e17e",
   "metadata": {},
   "outputs": [],
   "source": [
    "zarr_shape = list(cyto_labels[0].shape)\n",
    "zarr_chunks = list(zarr_utils.chunks(cyto_labels[0]))"
   ]
  },
  {
   "cell_type": "code",
   "execution_count": null,
   "id": "ceb89d76",
   "metadata": {},
   "outputs": [],
   "source": [
    "import zarr"
   ]
  },
  {
   "cell_type": "code",
   "execution_count": null,
   "id": "98dd5fea",
   "metadata": {},
   "outputs": [],
   "source": [
    "labels = zarr.open(\n",
    "    x,\n",
    "    mode = 'w',\n",
    "    shape = tuple(zarr_shape),\n",
    "    chunks = tuple(zarr_chunks),\n",
    "    dtype = np.uint32)"
   ]
  },
  {
   "cell_type": "code",
   "execution_count": null,
   "id": "2076a1be",
   "metadata": {},
   "outputs": [],
   "source": [
    "cur_slices_a = (slice(None), slice(0,21,1), slice(500,700,1), slice(400,600,1))\n",
    "cur_slices_b = (slice(None), slice(0,21,1), slice(400,600,1), slice(400,600,1))\n",
    "label_slices = tuple([0 if x == slice(None) else x for x in cur_slices_a])"
   ]
  },
  {
   "cell_type": "code",
   "execution_count": null,
   "id": "b6ce479b",
   "metadata": {},
   "outputs": [],
   "source": [
    "labels[label_slices] = np.amax(np.stack(\n",
    "    label_utils.match_masks(\n",
    "      # [alg_labels[j], labels[j][cur_slices]],\n",
    "      [np.squeeze(cyto_labels[0][cur_slices_a]), np.squeeze(cyto_labels[0][cur_slices_b])],\n",
    "      stitch_threshold = 0.2,\n",
    "      remove_unmatched = False\n",
    "      )\n",
    "    ), axis = 0)"
   ]
  },
  {
   "cell_type": "code",
   "execution_count": null,
   "id": "5c7da554",
   "metadata": {},
   "outputs": [],
   "source": [
    "nuc_array = zarr_utils.fortify(nuc_labels[0])\n",
    "cyto_array = zarr_utils.fortify(cyto_labels[0])"
   ]
  },
  {
   "cell_type": "code",
   "execution_count": null,
   "id": "79ea4149",
   "metadata": {},
   "outputs": [],
   "source": [
    "x = nuc_array\n",
    "y = cyto_array"
   ]
  },
  {
   "cell_type": "code",
   "execution_count": null,
   "id": "f3493f21",
   "metadata": {},
   "outputs": [],
   "source": [
    "# put label arrays into standard form then flatten them \n",
    "x = nuc_array.ravel()\n",
    "y = cyto_array.ravel()\n",
    "\n",
    "# preallocate a 'contact map' matrix\n",
    "overlap = np.zeros((1 + x.max(), 1 + y.max()), dtype = np.uint)\n",
    "\n",
    "# loop over the labels in x and add to the corresponding\n",
    "# overlap entry. If label A in x and label B in y share P\n",
    "# pixels, then the resulting overlap is P\n",
    "# len(x)=len(y), the number of pixels in the whole image \n",
    "for i in range(len(x)):\n",
    "    overlap[x[i], y[i]] += 1"
   ]
  },
  {
   "cell_type": "code",
   "execution_count": null,
   "id": "a66d1ef4",
   "metadata": {},
   "outputs": [],
   "source": [
    "n_pixels_pred = np.sum(overlap, axis=0, keepdims=True)\n",
    "n_pixels_true = np.sum(overlap, axis=1, keepdims=True)\n",
    "iou = overlap / (n_pixels_pred + n_pixels_true - overlap)\n",
    "iou[np.isnan(iou)] = 0.0"
   ]
  },
  {
   "cell_type": "code",
   "execution_count": null,
   "id": "d2cef4bc",
   "metadata": {},
   "outputs": [],
   "source": [
    "(nuc_array * np.isin(nuc_array, [3])).unique()"
   ]
  },
  {
   "cell_type": "code",
   "execution_count": null,
   "id": "25d2483c",
   "metadata": {},
   "outputs": [],
   "source": [
    "masks = {\n",
    "    'nuc': nuc_array\n",
    "    'cyto': cyto_array\n",
    "}\n",
    "stitch_threshold = 0.2"
   ]
  },
  {
   "cell_type": "code",
   "execution_count": null,
   "id": "f986153b",
   "metadata": {},
   "outputs": [],
   "source": [
    "[x.max() for x in masks if x is not None and x.max() > 0]"
   ]
  },
  {
   "cell_type": "code",
   "execution_count": null,
   "id": "4c38e589",
   "metadata": {},
   "outputs": [],
   "source": [
    "mmax = masks[0].max()\n",
    "empty = 0\n",
    "\n",
    "for i in range(len(masks)-1):\n",
    "    iou = intersection_over_union(masks[i+1], masks[i])[1:,1:]\n",
    "    if not iou.size and empty == 0:\n",
    "        masks[i+1] = masks[i+1]\n",
    "        mmax = masks[i+1].max()\n",
    "    elif not iou.size and not empty == 0:\n",
    "        icount = masks[i+1].max()\n",
    "        istitch = np.arange(mmax+1, mmax + icount+1, 1, int)\n",
    "        mmax += icount\n",
    "        istitch = np.append(np.array(0), istitch)\n",
    "        masks[i+1] = istitch[masks[i+1]]\n",
    "    else:\n",
    "        iou[iou < stitch_threshold] = 0.0\n",
    "        iou[iou < iou.max(axis=0)] = 0.0\n",
    "        istitch = iou.argmax(axis=1) + 1\n",
    "        ino = np.nonzero(iou.max(axis=1)==0.0)[0]\n",
    "        istitch[ino] = np.arange(mmax+1, mmax+len(ino)+1, 1, int)\n",
    "        mmax += len(ino)\n",
    "        istitch = np.append(np.array(0), istitch)\n",
    "        masks[i+1] = istitch[masks[i+1]]\n",
    "        empty = 1"
   ]
  },
  {
   "cell_type": "code",
   "execution_count": null,
   "id": "f4523856",
   "metadata": {},
   "outputs": [],
   "source": [
    "import napari\n",
    "\n",
    "viewer = napari.Viewer()"
   ]
  },
  {
   "cell_type": "code",
   "execution_count": null,
   "id": "dd3f9881",
   "metadata": {},
   "outputs": [],
   "source": [
    "viewer.add_labels(masks[0])\n",
    "viewer.add_labels(masks[1])"
   ]
  },
  {
   "cell_type": "code",
   "execution_count": null,
   "id": "ced8fc6c",
   "metadata": {},
   "outputs": [],
   "source": [
    "viewer.add_labels(masks[0])"
   ]
  },
  {
   "cell_type": "code",
   "execution_count": null,
   "id": "ee4c176f",
   "metadata": {},
   "outputs": [],
   "source": [
    "# show alignment\n",
    "reg_im = zarr_utils.open_as_zarr('/Volumes/Analysis_SSD/Dominik/TMP/reg000.zarr')\n",
    "\n",
    "colors = ['gray', 'magenta', 'cyan', 'yellow']\n",
    "#for i, x in enumerate([3, 10, 17, 24]):\n",
    "for i, x in enumerate([3, 10]):\n",
    "    viewer.add_image(reg_im[0][0][0, x, :, :, :], colormap=colors[i], blending='additive')"
   ]
  },
  {
   "cell_type": "code",
   "execution_count": null,
   "id": "cc8ff2ba",
   "metadata": {},
   "outputs": [],
   "source": [
    "# get image information\n",
    "im_zarrs = [zarr_utils.open_as_zarr(x, as_dask = True) for x in im_paths]\n",
    "im_zarrs = [x[0] for x in im_zarrs]"
   ]
  },
  {
   "cell_type": "code",
   "execution_count": null,
   "id": "a2ee58a0",
   "metadata": {},
   "outputs": [],
   "source": [
    "# create dim utils for images\n",
    "dim_utils = [\n",
    "    DimUtils(ome_xml_utils.parse_meta(x), use_channel_axis = True) for x in im_paths\n",
    "]\n",
    "\n",
    "for i, x in enumerate(dim_utils):\n",
    "    x.calc_image_dimensions(im_zarrs[i][0].shape)"
   ]
  },
  {
   "cell_type": "code",
   "execution_count": null,
   "id": "93ef1315",
   "metadata": {},
   "outputs": [],
   "source": [
    "import numpy as np\n",
    "import matplotlib.pyplot as plt\n",
    "import math\n",
    "import shutil\n",
    "import zarr\n",
    "\n",
    "from skimage.color import separate_stains, combine_stains, hdx_from_rgb, rgb_from_hdx\n",
    "from skimage.registration import phase_cross_correlation\n",
    "from skimage.transform import warp_polar, rotate, rescale, warp, SimilarityTransform, AffineTransform\n",
    "from skimage.util import img_as_float"
   ]
  },
  {
   "cell_type": "code",
   "execution_count": null,
   "id": "f2c8b8a2",
   "metadata": {},
   "outputs": [],
   "source": [
    "\"\"\"\n",
    "Get shifts for image registration\n",
    "\"\"\"\n",
    "def image_registration_shifts(ims, channel_ids, radius = 1000, upsample_factor = 20):\n",
    "    # warp image for rotation\n",
    "    im_polar = warp_polar(np.amax(ims[0], axis = 0), radius = radius, scaling = 'log')\n",
    "    \n",
    "    shifts = list()\n",
    "    rotations = list()\n",
    "    \n",
    "    # go through images and find shifts based on first image\n",
    "    for i in range(1, len(ims)):\n",
    "        # apply translation shifts\n",
    "        shift, error, diffphase = phase_cross_correlation(ims[0], ims[i], upsample_factor = upsample_factor)\n",
    "        shifts.append(shift)\n",
    "        \n",
    "        tform = SimilarityTransform(translation = (-shift[0], -shift[1]))\n",
    "        im_warped = warp(ims[i], tform)\n",
    "\n",
    "        # apply rotation\n",
    "        other_polar = warp_polar(np.amax(im_warped, axis = 0), radius = radius, scaling = 'log')\n",
    "\n",
    "        shift, error, diffphase = phase_cross_correlation(im_polar, other_polar, upsample_factor = upsample_factor)\n",
    "        rotations.append(shift)\n",
    "\n",
    "        tform = AffineTransform(rotation = math.radians(-shift[0]))\n",
    "        im_warped = warp(im_warped, tform)\n",
    "\n",
    "        # apply translation shifts\n",
    "        shift, error, diffphase = phase_cross_correlation(ims[0], im_warped, upsample_factor = upsample_factor)\n",
    "        shifts[-1] = shifts[-1] + shift\n",
    "    \n",
    "    # convert to array\n",
    "    return np.vstack(shifts), np.vstack(rotations)"
   ]
  },
  {
   "cell_type": "code",
   "execution_count": null,
   "id": "7aa9bc19",
   "metadata": {},
   "outputs": [],
   "source": [
    "\"\"\"\n",
    "Register image\n",
    "\"\"\"\n",
    "def im_registration(\n",
    "    input_arrays, dim_utils_list, phase_shift_channels,\n",
    "    reg_path = None, normalise_percentile = 98,\n",
    "    upsample_factor = 100, shifts = None):\n",
    "    "
   ]
  },
  {
   "cell_type": "code",
   "execution_count": null,
   "id": "5700151c",
   "metadata": {},
   "outputs": [],
   "source": [
    "input_arrays = im_zarrs\n",
    "dim_utils_list = dim_utils\n",
    "phase_shift_channels = channel_ids\n",
    "reg_path = '/Volumes/Analysis_SSD/Dominik/TMP/reg000'\n",
    "shifts = None\n",
    "upsample_factor = 20\n",
    "normalise_percentile = 98"
   ]
  },
  {
   "cell_type": "code",
   "execution_count": null,
   "id": "bcdaf002",
   "metadata": {},
   "outputs": [],
   "source": [
    "# get shifts\n",
    "if shifts is None:\n",
    "    print('>> Get shifts')\n",
    "    # get shifts from lowest res\n",
    "    low_res = len(input_arrays[0]) - 1\n",
    "\n",
    "    im_slices = [0 for _ in range(len(input_arrays[0][0].shape))]\n",
    "    im_slices[dim_utils_list[0].dim_idx('X')] = slice(0, min([x.dim_val('X', scale = low_res) for x in dim_utils_list]))\n",
    "    im_slices[dim_utils_list[0].dim_idx('Y')] = slice(0, min([x.dim_val('Y', scale = low_res) for x in dim_utils_list]))\n",
    "\n",
    "    if dim_utils_list[0].is_3D() is True:\n",
    "        im_slices[dim_utils_list[0].dim_idx('Z')] = slice(None)\n",
    "\n",
    "    # get low resolution images for registration\n",
    "    ims = list()\n",
    "\n",
    "    for i, x in enumerate(input_arrays):\n",
    "        im_slices[dim_utils[i].dim_idx('C')] = phase_shift_channels[i]\n",
    "        ims.append(zarr_utils.fortify(x[low_res][tuple(im_slices)]))\n",
    "\n",
    "        # normalise image\n",
    "        percentile = (np.percentile(ims[-1], normalise_percentile),\n",
    "                      np.percentile(ims[-1], 100 - normalise_percentile))\n",
    "        ims[-1] = ((ims[-1] - percentile[1]) / (percentile[0] - percentile[1]))\n",
    "\n",
    "    # get shifts and rotations\n",
    "    shifts, rotations = image_registration_shifts(\n",
    "        ims, phase_shift_channels,\n",
    "        upsample_factor = upsample_factor)"
   ]
  },
  {
   "cell_type": "code",
   "execution_count": null,
   "id": "6dd00534",
   "metadata": {},
   "outputs": [],
   "source": [
    "# get shifts summary\n",
    "shifts_summary = correction_utils.shifts_summary(shifts, cumulative = False)\n",
    "\n",
    "# get new image dimensions\n",
    "reg_im_shape, reg_im_shape_round = correction_utils.correction_im_shape(\n",
    "    input_arrays[0][0], dim_utils_list[0], shifts_summary\n",
    ")\n",
    "\n",
    "# get first image position\n",
    "first_im_pos = correction_utils.correction_first_im_pos(\n",
    "    reg_im_shape, dim_utils_list[0], shifts_summary\n",
    ")"
   ]
  },
  {
   "cell_type": "code",
   "execution_count": null,
   "id": "f04fce56",
   "metadata": {},
   "outputs": [],
   "source": [
    "first_im_pos"
   ]
  },
  {
   "cell_type": "code",
   "execution_count": null,
   "id": "495bface",
   "metadata": {},
   "outputs": [],
   "source": [
    "# remove previous folder\n",
    "if reg_path is not None and os.path.exists(reg_path) is True:\n",
    "    shutil.rmtree(reg_path)\n",
    "\n",
    "# add channels for new image\n",
    "reg_im_shape_round = list(reg_im_shape_round)\n",
    "# remove channel for registration from sum?\n",
    "#reg_im_shape_round[dim_utils_list[0].dim_idx('C')] = sum([x.dim_val('C') - 1 for x in dim_utils_list]) + 1\n",
    "reg_im_shape_round[dim_utils_list[0].dim_idx('C')] = sum([x.dim_val('C') for x in dim_utils_list])\n",
    "reg_im_shape_round = tuple(reg_im_shape_round)\n",
    "\n",
    "# create array\n",
    "reg_zarr = zarr.create(\n",
    "    reg_im_shape_round,\n",
    "    dtype = input_arrays[0][0].dtype,\n",
    "    chunks = input_arrays[0][0].chunksize,\n",
    "    store = reg_path\n",
    ")\n",
    "\n",
    "# use first position for slice\n",
    "slices = first_im_pos"
   ]
  },
  {
   "cell_type": "code",
   "execution_count": null,
   "id": "75cedd17",
   "metadata": {},
   "outputs": [],
   "source": [
    "print('>> Apply shifts')\n",
    "\n",
    "# go through images and register to first image\n",
    "for i, x in enumerate(input_arrays):\n",
    "    # create slice\n",
    "    if i > 0:\n",
    "        new_slices = list()\n",
    "\n",
    "        # adjust slices\n",
    "        for j, y in enumerate(slices):\n",
    "            new_slices.append(slice(\n",
    "              # subtract '1' because there is no\n",
    "              # shift for the first frame\n",
    "              y.start + shifts[i - 1, j],\n",
    "              y.stop + shifts[i - 1, j],\n",
    "              1\n",
    "            ))\n",
    "\n",
    "        # push back\n",
    "        slices = new_slices\n",
    "\n",
    "    # round for slicing\n",
    "    new_slices = [slice(None) for _ in range(len(reg_im_shape_round))]\n",
    "\n",
    "    # set Z, X, Y for new slices\n",
    "    for j, y in enumerate(('Z', 'Y', 'X')):\n",
    "        new_slices[dim_utils_list[i].dim_idx(y)] =  slice(round(slices[j].start), round(slices[j].stop), 1)\n",
    "\n",
    "    # set channel for new slice\n",
    "    prev_channels = sum([x.dim_val('C') for x in dim_utils_list[0:i]])\n",
    "    new_slices[dim_utils_list[i].dim_idx('C')] = slice(\n",
    "        prev_channels, prev_channels + dim_utils_list[i].dim_val('C'), 1)\n",
    "\n",
    "    # convert to tuple\n",
    "    new_slices = tuple(new_slices)\n",
    "    \n",
    "    print(f'>> reg {i}')\n",
    "    print(f'> {new_slices}')\n",
    "\n",
    "    # add to image list\n",
    "    new_image = np.zeros(reg_im_shape_round)\n",
    "\n",
    "    # check that slices match dimension\n",
    "    if new_image[new_slices].shape != x[0].shape:\n",
    "        # get wrong dimensions\n",
    "        dif_dim = [x - y for x, y in zip(\n",
    "            new_image[new_slices].shape,\n",
    "            x[0].shape\n",
    "        )]\n",
    "\n",
    "        # adjust dimensions\n",
    "        new_slices = list(new_slices)\n",
    "\n",
    "        for j, y in enumerate(dif_dim):\n",
    "            if y > 0:\n",
    "              # add?\n",
    "              new_slices[j] = slice(\n",
    "                  new_slices[j].start + y,\n",
    "                  new_slices[j].stop, 1)\n",
    "\n",
    "            if y < 0:\n",
    "              # add?\n",
    "              if new_slices[j].start - y >= 0:\n",
    "                new_slices[j] = slice(\n",
    "                  new_slices[j].start + y,\n",
    "                  new_slices[j].stop, 1)\n",
    "\n",
    "              # subtract?\n",
    "              elif new_slices[j].stop + y < reg_zarr.shape[j]:\n",
    "                new_slices[j] = slice(\n",
    "                  new_slices[j].start,\n",
    "                  new_slices[j].stop + y, 1)\n",
    "\n",
    "        new_slices = tuple(new_slices)\n",
    "\n",
    "    # apply rotation and push to zarr\n",
    "    reg_zarr[new_slices] = warp(x[0], AffineTransform(rotation = math.radians(-rotations[i - 1][0])))"
   ]
  },
  {
   "cell_type": "code",
   "execution_count": null,
   "id": "51d9e811",
   "metadata": {},
   "outputs": [],
   "source": [
    "im_registration(im_zarrs, dim_utils, channel_ids, reg_path)"
   ]
  },
  {
   "cell_type": "code",
   "execution_count": null,
   "id": "83f7a0a9",
   "metadata": {},
   "outputs": [],
   "source": [
    "# prepare image to compare\n",
    "before_rgb_im = combine_stains(np.dstack([np.amax(x, axis = 0) for x in ims]), rgb_from_hdx)"
   ]
  },
  {
   "cell_type": "code",
   "execution_count": null,
   "id": "1371d8ba",
   "metadata": {
    "scrolled": false
   },
   "outputs": [],
   "source": [
    "# merge signal\n",
    "after_rgb_im = combine_stains(np.dstack(np.amax(x, axis = 0) for x in warped_im), rgb_from_hdx)\n",
    "after_rgb_zoom = combine_stains(np.dstack(np.amax(x, axis = 0) for x in warped_zarr), rgb_from_hdx)\n",
    "\n",
    "fig, axes = plt.subplots(2, 2, figsize=(40, 40))\n",
    "ax = axes.ravel()\n",
    "ax[0].set_title(\"Nuclei\")\n",
    "\n",
    "show_slices[dim_utils[0].dim_idx('C')] = channel_ids[0]\n",
    "ax[0].set_title(\"Before\")\n",
    "ax[0].imshow(before_rgb_im)\n",
    "ax[1].set_title(\"Aligned\")\n",
    "ax[1].imshow(after_rgb_im)\n",
    "ax[2].set_title(\"Before\")\n",
    "ax[2].imshow(before_rgb_zoom)\n",
    "ax[3].set_title(\"Aligned\")\n",
    "ax[3].imshow(after_rgb_zoom)\n",
    "plt.show()"
   ]
  },
  {
   "cell_type": "code",
   "execution_count": null,
   "id": "7ef7ac5c",
   "metadata": {},
   "outputs": [],
   "source": []
  }
 ],
 "metadata": {
  "kernelspec": {
   "display_name": "Python 3 (ipykernel)",
   "language": "python",
   "name": "python3"
  },
  "language_info": {
   "codemirror_mode": {
    "name": "ipython",
    "version": 3
   },
   "file_extension": ".py",
   "mimetype": "text/x-python",
   "name": "python",
   "nbconvert_exporter": "python",
   "pygments_lexer": "ipython3",
   "version": "3.9.16"
  }
 },
 "nbformat": 4,
 "nbformat_minor": 5
}
