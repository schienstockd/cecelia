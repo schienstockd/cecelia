{
 "cells": [
  {
   "cell_type": "code",
   "execution_count": 1,
   "id": "a2fc902c",
   "metadata": {},
   "outputs": [],
   "source": [
    "import os\n",
    "import numpy as np\n",
    "# import working directory to check functions\n",
    "os.chdir('/Users/schiend/Desktop/DOHERTY/R-workspace/cecelia/inst')\n",
    "\n",
    "# config\n",
    "import py.config_utils as cfg\n",
    "\n",
    "%load_ext autoreload\n",
    "%autoreload 2"
   ]
  },
  {
   "cell_type": "code",
   "execution_count": 2,
   "id": "8f75f4eb",
   "metadata": {},
   "outputs": [],
   "source": [
    "base_dir = '/Volumes/Analysis_SSD/Dominik/cecelia/projects/pEdOoZ/ANALYSIS/'\n",
    "zero_dir = os.path.join(base_dir, '0/fhz81P/')\n",
    "im_path = os.path.join(zero_dir, 'ccidImage.ome.zarr')\n",
    "version_num = 2\n",
    "task_dir = os.path.join(base_dir, str(version_num), 'fhz81P')"
   ]
  },
  {
   "cell_type": "code",
   "execution_count": 3,
   "id": "1fa60818",
   "metadata": {},
   "outputs": [],
   "source": [
    "from py.label_props_utils import LabelPropsUtils"
   ]
  },
  {
   "cell_type": "code",
   "execution_count": 4,
   "id": "650e5250",
   "metadata": {},
   "outputs": [],
   "source": [
    "labels_view = LabelPropsUtils(task_dir = task_dir).label_props_view(value_name = 'default.sq')"
   ]
  },
  {
   "cell_type": "code",
   "execution_count": 5,
   "id": "98b31702",
   "metadata": {},
   "outputs": [
    {
     "data": {
      "text/html": [
       "<div>\n",
       "<style scoped>\n",
       "    .dataframe tbody tr th:only-of-type {\n",
       "        vertical-align: middle;\n",
       "    }\n",
       "\n",
       "    .dataframe tbody tr th {\n",
       "        vertical-align: top;\n",
       "    }\n",
       "\n",
       "    .dataframe thead th {\n",
       "        text-align: right;\n",
       "    }\n",
       "</style>\n",
       "<table border=\"1\" class=\"dataframe\">\n",
       "  <thead>\n",
       "    <tr style=\"text-align: right;\">\n",
       "      <th></th>\n",
       "      <th>from</th>\n",
       "      <th>to</th>\n",
       "      <th>dist</th>\n",
       "    </tr>\n",
       "  </thead>\n",
       "  <tbody>\n",
       "    <tr>\n",
       "      <th>0</th>\n",
       "      <td>0</td>\n",
       "      <td>52</td>\n",
       "      <td>49.812544</td>\n",
       "    </tr>\n",
       "    <tr>\n",
       "      <th>1</th>\n",
       "      <td>0</td>\n",
       "      <td>55</td>\n",
       "      <td>32.445523</td>\n",
       "    </tr>\n",
       "    <tr>\n",
       "      <th>2</th>\n",
       "      <td>0</td>\n",
       "      <td>83</td>\n",
       "      <td>31.488816</td>\n",
       "    </tr>\n",
       "    <tr>\n",
       "      <th>3</th>\n",
       "      <td>0</td>\n",
       "      <td>133</td>\n",
       "      <td>28.107706</td>\n",
       "    </tr>\n",
       "    <tr>\n",
       "      <th>4</th>\n",
       "      <td>0</td>\n",
       "      <td>165</td>\n",
       "      <td>48.005129</td>\n",
       "    </tr>\n",
       "    <tr>\n",
       "      <th>...</th>\n",
       "      <td>...</td>\n",
       "      <td>...</td>\n",
       "      <td>...</td>\n",
       "    </tr>\n",
       "    <tr>\n",
       "      <th>16057</th>\n",
       "      <td>2764</td>\n",
       "      <td>2715</td>\n",
       "      <td>24.365900</td>\n",
       "    </tr>\n",
       "    <tr>\n",
       "      <th>16058</th>\n",
       "      <td>2764</td>\n",
       "      <td>2716</td>\n",
       "      <td>32.707641</td>\n",
       "    </tr>\n",
       "    <tr>\n",
       "      <th>16059</th>\n",
       "      <td>2764</td>\n",
       "      <td>2721</td>\n",
       "      <td>19.825888</td>\n",
       "    </tr>\n",
       "    <tr>\n",
       "      <th>16060</th>\n",
       "      <td>2764</td>\n",
       "      <td>2722</td>\n",
       "      <td>24.786173</td>\n",
       "    </tr>\n",
       "    <tr>\n",
       "      <th>16061</th>\n",
       "      <td>2764</td>\n",
       "      <td>2750</td>\n",
       "      <td>42.507371</td>\n",
       "    </tr>\n",
       "  </tbody>\n",
       "</table>\n",
       "<p>16062 rows × 3 columns</p>\n",
       "</div>"
      ],
      "text/plain": [
       "       from    to       dist\n",
       "0         0    52  49.812544\n",
       "1         0    55  32.445523\n",
       "2         0    83  31.488816\n",
       "3         0   133  28.107706\n",
       "4         0   165  48.005129\n",
       "...     ...   ...        ...\n",
       "16057  2764  2715  24.365900\n",
       "16058  2764  2716  32.707641\n",
       "16059  2764  2721  19.825888\n",
       "16060  2764  2722  24.786173\n",
       "16061  2764  2750  42.507371\n",
       "\n",
       "[16062 rows x 3 columns]"
      ]
     },
     "execution_count": 5,
     "metadata": {},
     "output_type": "execute_result"
    }
   ],
   "source": [
    "labels_view.as_spatial_connectivities()"
   ]
  },
  {
   "cell_type": "code",
   "execution_count": 6,
   "id": "96788271",
   "metadata": {},
   "outputs": [
    {
     "name": "stderr",
     "output_type": "stream",
     "text": [
      "Could not find Java JRE compatible with x86_64 architecture\n"
     ]
    }
   ],
   "source": [
    "from py.napari_utils import NapariUtils\n",
    "\n",
    "napari_utils = NapariUtils()\n",
    "napari_utils.viewer = None\n",
    "napari_utils.open_viewer()\n",
    "napari_utils.task_dir = task_dir"
   ]
  },
  {
   "cell_type": "code",
   "execution_count": 7,
   "id": "75724ef2",
   "metadata": {},
   "outputs": [],
   "source": [
    "channel_names = [\n",
    "    'x80ArAr_ArAr80','x127I_I127','x132Xe_Xe132','x138Ba_Ba138','x190BCKG_BCKG190','x191Ir_Ir191','x193Ir_Ir193','x195Pt_Pt195','x208Pb_Pb208','B-Catenin_Ho165','CCR7_Gd158','CD3_Er170','CD4_Gd156','CD8a_Dy162','CD14_Nd144','CD20_Dy161','CD29_Sm149','CD31_Sm147','CD40_Er168','CD45_Sm152','CD45RA_Er166','CD45RO_Yb173','CD68_Tb159','cleaved-Caspase3_Yb172','CollagenI_Tm169','FoxP3_Gd155','GranzymeB_Er167','Histone-H3_Yb176','HLA-DR_Yb174','ICOS_Nd148','Ki67_Nd143','LAG3_Eu153','OX40_Eu151','PDL1_Nd150','pERK1-2_Yb171','S100_Lu175','SMA_Pr141','SOX10_Dy164','TIM3_Sm154','VISTA_Gd160'\n",
    "]"
   ]
  },
  {
   "cell_type": "code",
   "execution_count": 8,
   "id": "10e3e72e",
   "metadata": {},
   "outputs": [],
   "source": [
    "napari_utils.open_image(\n",
    "    im_path,\n",
    "    use_channel_axis = True, as_dask = False,\n",
    "    visible = False, squeeze = False,\n",
    "    channel_names = channel_names\n",
    ")"
   ]
  },
  {
   "cell_type": "code",
   "execution_count": 10,
   "id": "6e6d5bd1",
   "metadata": {},
   "outputs": [
    {
     "data": {
      "text/plain": [
       "(1, 1, 1, 898, 901)"
      ]
     },
     "execution_count": 10,
     "metadata": {},
     "output_type": "execute_result"
    }
   ],
   "source": [
    "napari_utils.im_data[0].chunks"
   ]
  },
  {
   "cell_type": "code",
   "execution_count": null,
   "id": "4181f11d",
   "metadata": {},
   "outputs": [],
   "source": [
    "napari_utils.show_labels_all(\n",
    "    show_labels = True,\n",
    "    show_points = True,\n",
    "    value_names = ['default']\n",
    ")"
   ]
  },
  {
   "cell_type": "code",
   "execution_count": null,
   "id": "a4795aa6",
   "metadata": {},
   "outputs": [],
   "source": [
    "# show populations\n",
    "napari_utils.show_pop_mapping(\n",
    "    \"clust\", value_name = \"default\")"
   ]
  },
  {
   "cell_type": "code",
   "execution_count": null,
   "id": "a6ab6541",
   "metadata": {},
   "outputs": [],
   "source": []
  }
 ],
 "metadata": {
  "kernelspec": {
   "display_name": "Python 3 (ipykernel)",
   "language": "python",
   "name": "python3"
  },
  "language_info": {
   "codemirror_mode": {
    "name": "ipython",
    "version": 3
   },
   "file_extension": ".py",
   "mimetype": "text/x-python",
   "name": "python",
   "nbconvert_exporter": "python",
   "pygments_lexer": "ipython3",
   "version": "3.9.13"
  }
 },
 "nbformat": 4,
 "nbformat_minor": 5
}
