{
 "cells": [
  {
   "cell_type": "code",
   "execution_count": 2,
   "id": "cb3d2b7f",
   "metadata": {},
   "outputs": [],
   "source": [
    "import napari\n",
    "from skimage import data\n",
    "import numpy as np\n",
    "\n",
    "hubble_image = data.hubble_deep_field()\n",
    "\n",
    "tracks_data = np.asarray([\n",
    "    [1, 0, 236, 0],\n",
    "    [1, 1, 236, 100],\n",
    "    [1, 2, 236, 200],\n",
    "    [1, 3, 236, 500],\n",
    "    [1, 4, 236, 1000],\n",
    "    [2, 0, 436, 0],\n",
    "    [2, 1, 436, 100],\n",
    "    [2, 2, 436, 200],\n",
    "    [2, 3, 436, 500],\n",
    "    [2, 4, 436, 1000],\n",
    "    [3, 0, 636, 0],\n",
    "    [3, 1, 636, 100],\n",
    "    [3, 2, 636, 200],\n",
    "    [3, 3, 636, 500],\n",
    "    [3, 4, 636, 1000]\n",
    "])\n",
    "track_confidence = np.array(5*[0.9] + 5*[0.3] + 5 * [0.1])\n",
    "properties = {\n",
    "    'time': tracks_data[:, 1],\n",
    "    'confidence': track_confidence\n",
    "}\n",
    "\n",
    "viewer = napari.view_image(hubble_image)\n",
    "viewer.add_tracks(tracks_data, properties=properties)\n",
    "napari.run()"
   ]
  },
  {
   "cell_type": "code",
   "execution_count": 4,
   "id": "1c3eeb03",
   "metadata": {},
   "outputs": [
    {
     "data": {
      "text/plain": [
       "<napari._qt.widgets.qt_viewer_dock_widget.QtViewerDockWidget at 0x176f893a0>"
      ]
     },
     "execution_count": 4,
     "metadata": {},
     "output_type": "execute_result"
    },
    {
     "name": "stdout",
     "output_type": "stream",
     "text": [
      "Rendering frames...\n"
     ]
    },
    {
     "name": "stderr",
     "output_type": "stream",
     "text": [
      "  0%|                                                     | 0/4 [00:00<?, ?it/s]IMAGEIO FFMPEG_WRITER WARNING: input image is not divisible by macro_block_size=16, resizing from (1536, 1436) to (1536, 1440) to ensure video compatibility with most codecs and players. To prevent resizing, make your input image divisible by the macro_block_size or set the macro_block_size to 1 (risking incompatibility).\n",
      "100%|█████████████████████████████████████████████| 4/4 [00:00<00:00,  6.08it/s]\n"
     ]
    },
    {
     "name": "stdout",
     "output_type": "stream",
     "text": [
      "Rendering frames...\n"
     ]
    },
    {
     "name": "stderr",
     "output_type": "stream",
     "text": [
      "  0%|                                                     | 0/4 [00:00<?, ?it/s]IMAGEIO FFMPEG_WRITER WARNING: input image is not divisible by macro_block_size=16, resizing from (1536, 1436) to (1536, 1440) to ensure video compatibility with most codecs and players. To prevent resizing, make your input image divisible by the macro_block_size or set the macro_block_size to 1 (risking incompatibility).\n",
      "100%|█████████████████████████████████████████████| 4/4 [00:00<00:00,  9.09it/s]\n"
     ]
    }
   ],
   "source": [
    "from napari_animation import AnimationWidget\n",
    "animation_widget = AnimationWidget(viewer)\n",
    "viewer.window.add_dock_widget(animation_widget, area='right')"
   ]
  },
  {
   "cell_type": "code",
   "execution_count": null,
   "id": "31d9cb2b",
   "metadata": {},
   "outputs": [],
   "source": []
  }
 ],
 "metadata": {
  "kernelspec": {
   "display_name": "Python 3 (ipykernel)",
   "language": "python",
   "name": "python3"
  },
  "language_info": {
   "codemirror_mode": {
    "name": "ipython",
    "version": 3
   },
   "file_extension": ".py",
   "mimetype": "text/x-python",
   "name": "python",
   "nbconvert_exporter": "python",
   "pygments_lexer": "ipython3",
   "version": "3.9.13"
  }
 },
 "nbformat": 4,
 "nbformat_minor": 5
}
