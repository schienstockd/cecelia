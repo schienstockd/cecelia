{
 "cells": [
  {
   "cell_type": "code",
   "execution_count": 24,
   "id": "a2fc902c",
   "metadata": {},
   "outputs": [
    {
     "name": "stdout",
     "output_type": "stream",
     "text": [
      "The autoreload extension is already loaded. To reload it, use:\n",
      "  %reload_ext autoreload\n"
     ]
    }
   ],
   "source": [
    "import os\n",
    "import numpy as np\n",
    "# import working directory to check functions\n",
    "os.chdir('/Users/schiend/Desktop/DOHERTY/R-workspace/cecelia/inst')\n",
    "\n",
    "# config\n",
    "import py.config_utils as cfg\n",
    "\n",
    "%load_ext autoreload\n",
    "%autoreload 2"
   ]
  },
  {
   "cell_type": "code",
   "execution_count": 25,
   "id": "8f75f4eb",
   "metadata": {},
   "outputs": [],
   "source": [
    "base_dir = '/Volumes/Analysis_SSD/Dominik/cecelia/projects/pEdOoZ/ANALYSIS/'\n",
    "zero_dir = os.path.join(base_dir, '0/rX45ew/')\n",
    "im_path = os.path.join(zero_dir, 'ccidImage.ome.zarr')\n",
    "version_num = 2\n",
    "task_dir = os.path.join(base_dir, str(version_num), 'rX45ew')"
   ]
  },
  {
   "cell_type": "code",
   "execution_count": 26,
   "id": "1fa60818",
   "metadata": {},
   "outputs": [],
   "source": [
    "from py.label_props_utils import LabelPropsUtils"
   ]
  },
  {
   "cell_type": "code",
   "execution_count": 27,
   "id": "650e5250",
   "metadata": {},
   "outputs": [],
   "source": [
    "labels_view = LabelPropsUtils(task_dir = task_dir).label_props_view(value_name = 'default')"
   ]
  },
  {
   "cell_type": "code",
   "execution_count": 28,
   "id": "a6ab6541",
   "metadata": {},
   "outputs": [
    {
     "data": {
      "text/plain": [
       "Index(['mean_intensity_0', 'mean_intensity_1', 'mean_intensity_2',\n",
       "       'mean_intensity_3', 'bbox_min_z', 'bbox_min_y', 'bbox_min_x',\n",
       "       'bbox_max_z', 'bbox_max_y', 'bbox_max_x', 'surface_area', 'volume',\n",
       "       'bbox_area', 'bbox_volume', 'convex_hull_area', 'convex_hull_volume',\n",
       "       'euler_number', 'extent', 'solidity', 'integral_mean_curvature',\n",
       "       'feret_diameter_max', 'equivalent_diameter', 'major_axis_length',\n",
       "       'minor_axis_length', 'interm_axis_length', 'ellipticity_oblate',\n",
       "       'ellipticity_prolate', 'ellipticity_interm_oblate',\n",
       "       'ellipticity_interm_prolate', 'surface_to_volume', 'compactness',\n",
       "       'sphericity', 'cyto_mean_intensity_0', 'cyto_mean_intensity_1',\n",
       "       'cyto_mean_intensity_2', 'cyto_mean_intensity_3',\n",
       "       'nuc_mean_intensity_0', 'nuc_mean_intensity_1', 'nuc_mean_intensity_2',\n",
       "       'nuc_mean_intensity_3'],\n",
       "      dtype='object')"
      ]
     },
     "execution_count": 28,
     "metadata": {},
     "output_type": "execute_result"
    }
   ],
   "source": [
    "labels_view.adata.var_names"
   ]
  },
  {
   "cell_type": "code",
   "execution_count": 29,
   "id": "a1636130",
   "metadata": {},
   "outputs": [],
   "source": [
    "labels_view.close()"
   ]
  },
  {
   "cell_type": "code",
   "execution_count": null,
   "id": "ee81d5c1",
   "metadata": {},
   "outputs": [],
   "source": []
  }
 ],
 "metadata": {
  "kernelspec": {
   "display_name": "Python 3 (ipykernel)",
   "language": "python",
   "name": "python3"
  },
  "language_info": {
   "codemirror_mode": {
    "name": "ipython",
    "version": 3
   },
   "file_extension": ".py",
   "mimetype": "text/x-python",
   "name": "python",
   "nbconvert_exporter": "python",
   "pygments_lexer": "ipython3",
   "version": "3.9.13"
  }
 },
 "nbformat": 4,
 "nbformat_minor": 5
}
