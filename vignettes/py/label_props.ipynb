{
 "cells": [
  {
   "cell_type": "code",
   "execution_count": 1,
   "id": "a2fc902c",
   "metadata": {},
   "outputs": [],
   "source": [
    "import os\n",
    "import numpy as np\n",
    "# import working directory to check functions\n",
    "os.chdir('/Users/Dominik/R-workspace/cecelia/inst')\n",
    "\n",
    "# config\n",
    "import py.config_utils as cfg\n",
    "\n",
    "%load_ext autoreload\n",
    "%autoreload 2"
   ]
  },
  {
   "cell_type": "code",
   "execution_count": 23,
   "id": "dd981b37",
   "metadata": {},
   "outputs": [],
   "source": [
    "uID = 'rh8UGg'\n",
    "base_dir = '/Volumes/Analysis_SSD/Dominik/cecelia/projects/8BR53W/ANALYSIS/'\n",
    "zero_dir = os.path.join(base_dir, '0', uID)\n",
    "im_path = os.path.join(zero_dir, 'ccidImage.ome.zarr')\n",
    "version_num = 1\n",
    "task_dir = os.path.join(base_dir, str(version_num), uID)"
   ]
  },
  {
   "cell_type": "code",
   "execution_count": 24,
   "id": "1fa60818",
   "metadata": {},
   "outputs": [],
   "source": [
    "from py.label_props_utils import LabelPropsUtils"
   ]
  },
  {
   "cell_type": "code",
   "execution_count": 34,
   "id": "ea27cd18",
   "metadata": {},
   "outputs": [],
   "source": [
    "label_props_utils = LabelPropsUtils(task_dir, value_name = 'tcells.gBT')"
   ]
  },
  {
   "cell_type": "code",
   "execution_count": 35,
   "id": "11a59724",
   "metadata": {},
   "outputs": [],
   "source": [
    "label_props_utils.label_props_view().save()"
   ]
  },
  {
   "cell_type": "code",
   "execution_count": 27,
   "id": "33dca976",
   "metadata": {},
   "outputs": [],
   "source": [
    "label_props_utils.close()"
   ]
  },
  {
   "cell_type": "code",
   "execution_count": null,
   "id": "ea0db98d",
   "metadata": {},
   "outputs": [],
   "source": [
    "uIDs = [\n",
    "    'lGh5vX', 'wGqPEx', '330M35', 'eqGfqA', 'abyuLw', 'PxwhNn', 'lC5pbY'\n",
    "]"
   ]
  },
  {
   "cell_type": "code",
   "execution_count": null,
   "id": "07980e2f",
   "metadata": {},
   "outputs": [],
   "source": [
    "for uID in uIDs:\n",
    "    print(uID)\n",
    "    \n",
    "    base_dir = '/Volumes/Analysis_SSD/Dominik/cecelia/projects/8BR53W/ANALYSIS/'\n",
    "    zero_dir = os.path.join(base_dir, '0', uID)\n",
    "    im_path = os.path.join(zero_dir, 'ccidImage.ome.zarr')\n",
    "    version_num = 1\n",
    "    task_dir = os.path.join(base_dir, str(version_num), uID)\n",
    "    \n",
    "    label_props_utils = LabelPropsUtils(task_dir, value_name = 'tcells.gDT')\n",
    "    \n",
    "    label_props_utils.label_props_view()\\\n",
    "        .del_obs([\n",
    "        'live.cell.min_distance#live.tcells.gBT',\n",
    "        'live.cell.contact#live.tcells.gBT',\n",
    "        'live.cell.contained_by#live.tcells.gBT',\n",
    "        'live.cell.contains_n#live.tcells.gBT',\n",
    "        'live.cell.contact_n#live.tcells.gBT',\n",
    "        'live.cell.contact_id#live.tcells.gBT'\n",
    "    ]).save()"
   ]
  },
  {
   "cell_type": "code",
   "execution_count": null,
   "id": "70ab29cc",
   "metadata": {},
   "outputs": [],
   "source": []
  }
 ],
 "metadata": {
  "kernelspec": {
   "display_name": "Python 3 (ipykernel)",
   "language": "python",
   "name": "python3"
  },
  "language_info": {
   "codemirror_mode": {
    "name": "ipython",
    "version": 3
   },
   "file_extension": ".py",
   "mimetype": "text/x-python",
   "name": "python",
   "nbconvert_exporter": "python",
   "pygments_lexer": "ipython3",
   "version": "3.9.16"
  }
 },
 "nbformat": 4,
 "nbformat_minor": 5
}
