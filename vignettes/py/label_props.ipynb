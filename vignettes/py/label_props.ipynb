{
 "cells": [
  {
   "cell_type": "code",
   "execution_count": 1,
   "id": "a2fc902c",
   "metadata": {},
   "outputs": [],
   "source": [
    "import os\n",
    "import numpy as np\n",
    "# import working directory to check functions\n",
    "os.chdir('/Users/Dominik/R-workspace/cecelia/inst')\n",
    "\n",
    "# MacOS\n",
    "os.environ['KMP_DUPLICATE_LIB_OK'] = 'TRUE'\n",
    "\n",
    "# config\n",
    "import py.config_utils as cfg\n",
    "\n",
    "%load_ext autoreload\n",
    "%autoreload 2"
   ]
  },
  {
   "cell_type": "code",
   "execution_count": 11,
   "id": "dd981b37",
   "metadata": {},
   "outputs": [],
   "source": [
    "base_dir = '/Volumes/USER_data/Dominik/CECELIA_BACKUP/Fu1zEC/ANALYSIS/'\n",
    "zero_dir = os.path.join(base_dir, '0/3J78wt/')\n",
    "im_path = os.path.join(zero_dir, 'ccidImage.ome.zarr')\n",
    "#im_path = os.path.join(zero_dir, 'ccidCorrected.zarr')\n",
    "#im_path = os.path.join(zero_dir, 'ccidSlidingWindow.zarr')\n",
    "version_num = 1\n",
    "task_dir = os.path.join(base_dir, str(version_num), '3J78wt')"
   ]
  },
  {
   "cell_type": "code",
   "execution_count": 12,
   "id": "1fa60818",
   "metadata": {},
   "outputs": [],
   "source": [
    "from py.label_props_utils import LabelPropsUtils"
   ]
  },
  {
   "cell_type": "code",
   "execution_count": 13,
   "id": "96606d2d-7805-41dc-8ecc-af30b492c84e",
   "metadata": {},
   "outputs": [
    {
     "data": {
      "text/plain": [
       "<py.label_props_utils.LabelPropsUtils at 0x19c490490>"
      ]
     },
     "execution_count": 13,
     "metadata": {},
     "output_type": "execute_result"
    }
   ],
   "source": [
    "LabelPropsUtils(task_dir, value_name = 'merged')"
   ]
  },
  {
   "cell_type": "code",
   "execution_count": 18,
   "id": "ea27cd18",
   "metadata": {
    "scrolled": true
   },
   "outputs": [],
   "source": [
    "labels_view = LabelPropsUtils(task_dir, value_name = 'default.sq').label_props_view()"
   ]
  },
  {
   "cell_type": "code",
   "execution_count": 19,
   "id": "bc22ea21-7ed8-4ec2-a7fe-d0e69104166e",
   "metadata": {
    "tags": []
   },
   "outputs": [],
   "source": [
    "adata = labels_view.adata"
   ]
  },
  {
   "cell_type": "code",
   "execution_count": 20,
   "id": "2f0efd63-344f-42c8-881a-059112ad4af0",
   "metadata": {
    "tags": []
   },
   "outputs": [],
   "source": [
    "labels_view.close()"
   ]
  },
  {
   "cell_type": "code",
   "execution_count": 23,
   "id": "2a452434-56d4-46ca-8c55-609ea1264c20",
   "metadata": {
    "tags": []
   },
   "outputs": [
    {
     "data": {
      "text/plain": [
       "<155037x155037 sparse matrix of type '<class 'numpy.float64'>'\n",
       "\twith 930146 stored elements in Compressed Sparse Row format>"
      ]
     },
     "execution_count": 23,
     "metadata": {},
     "output_type": "execute_result"
    }
   ],
   "source": [
    "adata.obsp['spatial_connectivities']"
   ]
  },
  {
   "cell_type": "code",
   "execution_count": 6,
   "id": "df3ac405-dfe7-48aa-806a-44b6e82be4c3",
   "metadata": {},
   "outputs": [
    {
     "data": {
      "text/plain": [
       "['mean_intensity_0', 'mean_intensity_1', 'mean_intensity_2']"
      ]
     },
     "execution_count": 6,
     "metadata": {},
     "output_type": "execute_result"
    }
   ],
   "source": [
    "labels_view.channel_columns()"
   ]
  },
  {
   "cell_type": "code",
   "execution_count": 22,
   "id": "33dca976",
   "metadata": {},
   "outputs": [],
   "source": [
    "label_props_utils.close()"
   ]
  },
  {
   "cell_type": "code",
   "execution_count": 7,
   "id": "31490d86-73a2-41bf-851e-2a7d4fc3cbbf",
   "metadata": {},
   "outputs": [],
   "source": [
    "labels_view.close()"
   ]
  },
  {
   "cell_type": "code",
   "execution_count": null,
   "id": "11a59724",
   "metadata": {},
   "outputs": [],
   "source": [
    "label_props_utils.label_props_view().save()"
   ]
  },
  {
   "cell_type": "code",
   "execution_count": null,
   "id": "ea0db98d",
   "metadata": {},
   "outputs": [],
   "source": [
    "uIDs = [\n",
    "    'lGh5vX', 'wGqPEx', '330M35', 'eqGfqA', 'abyuLw', 'PxwhNn', 'lC5pbY'\n",
    "]"
   ]
  },
  {
   "cell_type": "code",
   "execution_count": null,
   "id": "07980e2f",
   "metadata": {},
   "outputs": [],
   "source": [
    "for uID in uIDs:\n",
    "    print(uID)\n",
    "    \n",
    "    base_dir = '/Volumes/Analysis_SSD/Dominik/cecelia/projects/8BR53W/ANALYSIS/'\n",
    "    zero_dir = os.path.join(base_dir, '0', uID)\n",
    "    im_path = os.path.join(zero_dir, 'ccidImage.ome.zarr')\n",
    "    version_num = 1\n",
    "    task_dir = os.path.join(base_dir, str(version_num), uID)\n",
    "    \n",
    "    label_props_utils = LabelPropsUtils(task_dir, value_name = 'tcells.gDT')\n",
    "    \n",
    "    label_props_utils.label_props_view()\\\n",
    "        .del_obs([\n",
    "        'live.cell.min_distance#live.tcells.gBT',\n",
    "        'live.cell.contact#live.tcells.gBT',\n",
    "        'live.cell.contained_by#live.tcells.gBT',\n",
    "        'live.cell.contains_n#live.tcells.gBT',\n",
    "        'live.cell.contact_n#live.tcells.gBT',\n",
    "        'live.cell.contact_id#live.tcells.gBT'\n",
    "    ]).save()"
   ]
  },
  {
   "cell_type": "code",
   "execution_count": null,
   "id": "70ab29cc",
   "metadata": {},
   "outputs": [],
   "source": []
  }
 ],
 "metadata": {
  "kernelspec": {
   "display_name": "Python 3 (ipykernel)",
   "language": "python",
   "name": "python3"
  },
  "language_info": {
   "codemirror_mode": {
    "name": "ipython",
    "version": 3
   },
   "file_extension": ".py",
   "mimetype": "text/x-python",
   "name": "python",
   "nbconvert_exporter": "python",
   "pygments_lexer": "ipython3",
   "version": "3.9.18"
  }
 },
 "nbformat": 4,
 "nbformat_minor": 5
}
