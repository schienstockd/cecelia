{
 "cells": [
  {
   "cell_type": "code",
   "execution_count": 1,
   "id": "a2fc902c",
   "metadata": {},
   "outputs": [],
   "source": [
    "import os\n",
    "import numpy as np\n",
    "# import working directory to check functions\n",
    "os.chdir('/Users/Dominik/R-workspace/cecelia/inst')\n",
    "\n",
    "# config\n",
    "import py.config_utils as cfg\n",
    "\n",
    "%load_ext autoreload\n",
    "%autoreload 2"
   ]
  },
  {
   "cell_type": "code",
   "execution_count": 2,
   "id": "8f75f4eb",
   "metadata": {},
   "outputs": [],
   "source": [
    "base_dir = '/Volumes/Analysis_SSD/Dominik/cecelia/projects/8BR53W/ANALYSIS/'\n",
    "zero_dir = os.path.join(base_dir, '0/AiqZey/')\n",
    "im_path = os.path.join(zero_dir, 'ccidImage.ome.zarr')\n",
    "version_num = 1\n",
    "task_dir = os.path.join(base_dir, str(version_num), 'AiqZey')"
   ]
  },
  {
   "cell_type": "code",
   "execution_count": 4,
   "id": "1fa60818",
   "metadata": {},
   "outputs": [],
   "source": [
    "from py.label_props_utils import LabelPropsUtils"
   ]
  },
  {
   "cell_type": "code",
   "execution_count": 5,
   "id": "9416a692",
   "metadata": {},
   "outputs": [],
   "source": [
    "label_props_utils = LabelPropsUtils(task_dir, value_name = 'tcells.gDT')"
   ]
  },
  {
   "cell_type": "code",
   "execution_count": 6,
   "id": "d579b6d3",
   "metadata": {},
   "outputs": [
    {
     "data": {
      "text/html": [
       "<div>\n",
       "<style scoped>\n",
       "    .dataframe tbody tr th:only-of-type {\n",
       "        vertical-align: middle;\n",
       "    }\n",
       "\n",
       "    .dataframe tbody tr th {\n",
       "        vertical-align: top;\n",
       "    }\n",
       "\n",
       "    .dataframe thead th {\n",
       "        text-align: right;\n",
       "    }\n",
       "</style>\n",
       "<table border=\"1\" class=\"dataframe\">\n",
       "  <thead>\n",
       "    <tr style=\"text-align: right;\">\n",
       "      <th></th>\n",
       "      <th>label</th>\n",
       "      <th>track_id</th>\n",
       "      <th>cell_id</th>\n",
       "      <th>live.cell.speed</th>\n",
       "      <th>live.cell.angle</th>\n",
       "    </tr>\n",
       "  </thead>\n",
       "  <tbody>\n",
       "    <tr>\n",
       "      <th>0</th>\n",
       "      <td>1</td>\n",
       "      <td>1.0</td>\n",
       "      <td>1.0</td>\n",
       "      <td>NaN</td>\n",
       "      <td>NaN</td>\n",
       "    </tr>\n",
       "    <tr>\n",
       "      <th>1</th>\n",
       "      <td>2</td>\n",
       "      <td>2.0</td>\n",
       "      <td>1.0</td>\n",
       "      <td>NaN</td>\n",
       "      <td>NaN</td>\n",
       "    </tr>\n",
       "    <tr>\n",
       "      <th>2</th>\n",
       "      <td>3</td>\n",
       "      <td>14.0</td>\n",
       "      <td>1.0</td>\n",
       "      <td>NaN</td>\n",
       "      <td>NaN</td>\n",
       "    </tr>\n",
       "    <tr>\n",
       "      <th>3</th>\n",
       "      <td>4</td>\n",
       "      <td>13.0</td>\n",
       "      <td>1.0</td>\n",
       "      <td>NaN</td>\n",
       "      <td>NaN</td>\n",
       "    </tr>\n",
       "    <tr>\n",
       "      <th>4</th>\n",
       "      <td>5</td>\n",
       "      <td>12.0</td>\n",
       "      <td>1.0</td>\n",
       "      <td>NaN</td>\n",
       "      <td>NaN</td>\n",
       "    </tr>\n",
       "    <tr>\n",
       "      <th>...</th>\n",
       "      <td>...</td>\n",
       "      <td>...</td>\n",
       "      <td>...</td>\n",
       "      <td>...</td>\n",
       "      <td>...</td>\n",
       "    </tr>\n",
       "    <tr>\n",
       "      <th>1610</th>\n",
       "      <td>1611</td>\n",
       "      <td>17.0</td>\n",
       "      <td>51.0</td>\n",
       "      <td>1.695349</td>\n",
       "      <td>1.172276</td>\n",
       "    </tr>\n",
       "    <tr>\n",
       "      <th>1611</th>\n",
       "      <td>1612</td>\n",
       "      <td>169.0</td>\n",
       "      <td>6.0</td>\n",
       "      <td>11.183291</td>\n",
       "      <td>0.305869</td>\n",
       "    </tr>\n",
       "    <tr>\n",
       "      <th>1612</th>\n",
       "      <td>1613</td>\n",
       "      <td>41.0</td>\n",
       "      <td>69.0</td>\n",
       "      <td>4.220367</td>\n",
       "      <td>0.371206</td>\n",
       "    </tr>\n",
       "    <tr>\n",
       "      <th>1613</th>\n",
       "      <td>1614</td>\n",
       "      <td>26.0</td>\n",
       "      <td>71.0</td>\n",
       "      <td>1.468932</td>\n",
       "      <td>1.146835</td>\n",
       "    </tr>\n",
       "    <tr>\n",
       "      <th>1614</th>\n",
       "      <td>1615</td>\n",
       "      <td>132.0</td>\n",
       "      <td>22.0</td>\n",
       "      <td>3.695228</td>\n",
       "      <td>2.512216</td>\n",
       "    </tr>\n",
       "  </tbody>\n",
       "</table>\n",
       "<p>1615 rows × 5 columns</p>\n",
       "</div>"
      ],
      "text/plain": [
       "      label  track_id  cell_id  live.cell.speed  live.cell.angle\n",
       "0         1       1.0      1.0              NaN              NaN\n",
       "1         2       2.0      1.0              NaN              NaN\n",
       "2         3      14.0      1.0              NaN              NaN\n",
       "3         4      13.0      1.0              NaN              NaN\n",
       "4         5      12.0      1.0              NaN              NaN\n",
       "...     ...       ...      ...              ...              ...\n",
       "1610   1611      17.0     51.0         1.695349         1.172276\n",
       "1611   1612     169.0      6.0        11.183291         0.305869\n",
       "1612   1613      41.0     69.0         4.220367         0.371206\n",
       "1613   1614      26.0     71.0         1.468932         1.146835\n",
       "1614   1615     132.0     22.0         3.695228         2.512216\n",
       "\n",
       "[1615 rows x 5 columns]"
      ]
     },
     "execution_count": 6,
     "metadata": {},
     "output_type": "execute_result"
    }
   ],
   "source": [
    "label_props_utils.label_props_view()\\\n",
    "    .values_obs()"
   ]
  },
  {
   "cell_type": "code",
   "execution_count": 9,
   "id": "d185d332",
   "metadata": {},
   "outputs": [],
   "source": [
    "a = ['live.cell.speed', 'live.cell.angle', 'b']"
   ]
  },
  {
   "cell_type": "code",
   "execution_count": null,
   "id": "61fee27c",
   "metadata": {},
   "outputs": [],
   "source": [
    "[x for x in a if x in label_props_utils.label_props_view().col_names('obs')]"
   ]
  },
  {
   "cell_type": "code",
   "execution_count": 8,
   "id": "314fde69",
   "metadata": {},
   "outputs": [
    {
     "data": {
      "text/plain": [
       "['label', 'track_id', 'cell_id', 'live.cell.speed', 'live.cell.angle']"
      ]
     },
     "execution_count": 8,
     "metadata": {},
     "output_type": "execute_result"
    }
   ],
   "source": []
  },
  {
   "cell_type": "code",
   "execution_count": null,
   "id": "650e5250",
   "metadata": {},
   "outputs": [],
   "source": [
    "label_props_utils.label_props_view()\\\n",
    "    .del_obs([\n",
    "    #'live.cell.min_distance#live.tcells.gBT',\n",
    "    'live.cell.contact#live.tcells.gBT',\n",
    "    'live.cell.contained_by#live.tcells.gBT',\n",
    "    'live.cell.contains_n#live.tcells.gBT',\n",
    "    'live.cell.contact_n#live.tcells.gBT',\n",
    "    'live.cell.contact_id#live.tcells.gBT'\n",
    "]).save()"
   ]
  },
  {
   "cell_type": "code",
   "execution_count": null,
   "id": "ee81d5c1",
   "metadata": {},
   "outputs": [],
   "source": []
  }
 ],
 "metadata": {
  "kernelspec": {
   "display_name": "Python 3 (ipykernel)",
   "language": "python",
   "name": "python3"
  },
  "language_info": {
   "codemirror_mode": {
    "name": "ipython",
    "version": 3
   },
   "file_extension": ".py",
   "mimetype": "text/x-python",
   "name": "python",
   "nbconvert_exporter": "python",
   "pygments_lexer": "ipython3",
   "version": "3.9.16"
  }
 },
 "nbformat": 4,
 "nbformat_minor": 5
}
