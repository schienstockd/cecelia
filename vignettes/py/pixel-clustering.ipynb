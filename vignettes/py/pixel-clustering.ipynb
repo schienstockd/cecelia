{
 "cells": [
  {
   "cell_type": "code",
   "execution_count": 1,
   "id": "a2fc902c",
   "metadata": {
    "tags": []
   },
   "outputs": [],
   "source": [
    "import os\n",
    "import numpy as np\n",
    "# import working directory to check functions\n",
    "os.chdir('/Users/Dominik/R-workspace/cecelia/inst')\n",
    "\n",
    "# MacOS\n",
    "os.environ['KMP_DUPLICATE_LIB_OK'] = 'TRUE'\n",
    "\n",
    "# config\n",
    "import py.config_utils as cfg\n",
    "\n",
    "%load_ext autoreload\n",
    "%autoreload 2"
   ]
  },
  {
   "cell_type": "code",
   "execution_count": 2,
   "id": "abdf4b81-de55-4779-a326-7dd10fda2486",
   "metadata": {
    "tags": []
   },
   "outputs": [],
   "source": [
    "import py.ome_xml_utils as ome_xml_utils"
   ]
  },
  {
   "cell_type": "code",
   "execution_count": 3,
   "id": "b10d4d05-f1e8-42da-86f9-380101840300",
   "metadata": {
    "tags": []
   },
   "outputs": [],
   "source": [
    "import ome_types"
   ]
  },
  {
   "cell_type": "code",
   "execution_count": 4,
   "id": "176414db-af06-4093-b247-c896344122d3",
   "metadata": {
    "tags": []
   },
   "outputs": [],
   "source": [
    "ome_xml =ome_types.from_xml('/Volumes/MDHS-Research/5300/5260/Lab-Mueller/Dominik Schienstock/Notebook/Experiments/CODEX_HCC/LHCC35_8bit/ome.xml')"
   ]
  },
  {
   "cell_type": "code",
   "execution_count": 9,
   "id": "d10875d9-75b1-443e-a58f-d81fe7f92b73",
   "metadata": {
    "tags": []
   },
   "outputs": [],
   "source": [
    "import glob"
   ]
  },
  {
   "cell_type": "code",
   "execution_count": null,
   "id": "2173b7f5-9766-4ace-a9f7-8faf370f31fe",
   "metadata": {},
   "outputs": [],
   "source": [
    "impo"
   ]
  },
  {
   "cell_type": "code",
   "execution_count": 14,
   "id": "71ddd477-558e-4777-ac3c-1746bad70d4f",
   "metadata": {
    "tags": []
   },
   "outputs": [],
   "source": [
    "im = list()\n",
    "im_path = '/Volumes/MDHS-Research/5300/5260/Lab-Mueller/Dominik Schienstock/Notebook/Experiments/CODEX_HCC/LHCC35_8bit/'\n",
    "\n",
    "for i, x in enumerate(glob.glob(os.path.join(os.path.dirname(im_path), '*.tif*'))):\n",
    "    im.append(x)"
   ]
  },
  {
   "cell_type": "code",
   "execution_count": 15,
   "id": "1ce931eb-cba7-4437-8fe6-69547fee2703",
   "metadata": {
    "tags": []
   },
   "outputs": [
    {
     "data": {
      "text/plain": [
       "['/Volumes/MDHS-Research/5300/5260/Lab-Mueller/Dominik Schienstock/Notebook/Experiments/CODEX_HCC/LHCC35_8bit/reg001_cyc002_ch001_HOECHST 2.tif',\n",
       " '/Volumes/MDHS-Research/5300/5260/Lab-Mueller/Dominik Schienstock/Notebook/Experiments/CODEX_HCC/LHCC35_8bit/reg001_cyc002_ch002_CD56.tif',\n",
       " '/Volumes/MDHS-Research/5300/5260/Lab-Mueller/Dominik Schienstock/Notebook/Experiments/CODEX_HCC/LHCC35_8bit/reg001_cyc002_ch003_CD161.tif',\n",
       " '/Volumes/MDHS-Research/5300/5260/Lab-Mueller/Dominik Schienstock/Notebook/Experiments/CODEX_HCC/LHCC35_8bit/reg001_cyc002_ch004_TCRVa.tif',\n",
       " '/Volumes/MDHS-Research/5300/5260/Lab-Mueller/Dominik Schienstock/Notebook/Experiments/CODEX_HCC/LHCC35_8bit/reg001_cyc003_ch002_CD39.tif',\n",
       " '/Volumes/MDHS-Research/5300/5260/Lab-Mueller/Dominik Schienstock/Notebook/Experiments/CODEX_HCC/LHCC35_8bit/reg001_cyc003_ch003_CD25.tif',\n",
       " '/Volumes/MDHS-Research/5300/5260/Lab-Mueller/Dominik Schienstock/Notebook/Experiments/CODEX_HCC/LHCC35_8bit/reg001_cyc003_ch004_CD57.tif',\n",
       " '/Volumes/MDHS-Research/5300/5260/Lab-Mueller/Dominik Schienstock/Notebook/Experiments/CODEX_HCC/LHCC35_8bit/reg001_cyc004_ch002_CD40.tif',\n",
       " '/Volumes/MDHS-Research/5300/5260/Lab-Mueller/Dominik Schienstock/Notebook/Experiments/CODEX_HCC/LHCC35_8bit/reg001_cyc004_ch003_ICOS.tif',\n",
       " '/Volumes/MDHS-Research/5300/5260/Lab-Mueller/Dominik Schienstock/Notebook/Experiments/CODEX_HCC/LHCC35_8bit/reg001_cyc004_ch004_CD3.tif',\n",
       " '/Volumes/MDHS-Research/5300/5260/Lab-Mueller/Dominik Schienstock/Notebook/Experiments/CODEX_HCC/LHCC35_8bit/reg001_cyc005_ch003_CD62L.tif',\n",
       " '/Volumes/MDHS-Research/5300/5260/Lab-Mueller/Dominik Schienstock/Notebook/Experiments/CODEX_HCC/LHCC35_8bit/reg001_cyc005_ch004_LYVE-1.tif',\n",
       " '/Volumes/MDHS-Research/5300/5260/Lab-Mueller/Dominik Schienstock/Notebook/Experiments/CODEX_HCC/LHCC35_8bit/reg001_cyc006_ch002_CD45RO.tif',\n",
       " '/Volumes/MDHS-Research/5300/5260/Lab-Mueller/Dominik Schienstock/Notebook/Experiments/CODEX_HCC/LHCC35_8bit/reg001_cyc006_ch003_IL18Ra.tif',\n",
       " '/Volumes/MDHS-Research/5300/5260/Lab-Mueller/Dominik Schienstock/Notebook/Experiments/CODEX_HCC/LHCC35_8bit/reg001_cyc006_ch004_PD-L1.tif',\n",
       " '/Volumes/MDHS-Research/5300/5260/Lab-Mueller/Dominik Schienstock/Notebook/Experiments/CODEX_HCC/LHCC35_8bit/reg001_cyc007_ch002_CD45.tif',\n",
       " '/Volumes/MDHS-Research/5300/5260/Lab-Mueller/Dominik Schienstock/Notebook/Experiments/CODEX_HCC/LHCC35_8bit/reg001_cyc007_ch003_CD34.tif',\n",
       " '/Volumes/MDHS-Research/5300/5260/Lab-Mueller/Dominik Schienstock/Notebook/Experiments/CODEX_HCC/LHCC35_8bit/reg001_cyc008_ch002_CD163.tif',\n",
       " '/Volumes/MDHS-Research/5300/5260/Lab-Mueller/Dominik Schienstock/Notebook/Experiments/CODEX_HCC/LHCC35_8bit/reg001_cyc008_ch003_Ki67.tif',\n",
       " '/Volumes/MDHS-Research/5300/5260/Lab-Mueller/Dominik Schienstock/Notebook/Experiments/CODEX_HCC/LHCC35_8bit/reg001_cyc008_ch004_CD19.tif',\n",
       " '/Volumes/MDHS-Research/5300/5260/Lab-Mueller/Dominik Schienstock/Notebook/Experiments/CODEX_HCC/LHCC35_8bit/reg001_cyc009_ch004_CD4.tif',\n",
       " '/Volumes/MDHS-Research/5300/5260/Lab-Mueller/Dominik Schienstock/Notebook/Experiments/CODEX_HCC/LHCC35_8bit/reg001_cyc010_ch002_CD38.tif',\n",
       " '/Volumes/MDHS-Research/5300/5260/Lab-Mueller/Dominik Schienstock/Notebook/Experiments/CODEX_HCC/LHCC35_8bit/reg001_cyc010_ch003_CD279.tif',\n",
       " '/Volumes/MDHS-Research/5300/5260/Lab-Mueller/Dominik Schienstock/Notebook/Experiments/CODEX_HCC/LHCC35_8bit/reg001_cyc010_ch004_CD11c.tif',\n",
       " '/Volumes/MDHS-Research/5300/5260/Lab-Mueller/Dominik Schienstock/Notebook/Experiments/CODEX_HCC/LHCC35_8bit/reg001_cyc011_ch002_CD8.tif',\n",
       " '/Volumes/MDHS-Research/5300/5260/Lab-Mueller/Dominik Schienstock/Notebook/Experiments/CODEX_HCC/LHCC35_8bit/reg001_cyc011_ch003_CD11b.tif',\n",
       " '/Volumes/MDHS-Research/5300/5260/Lab-Mueller/Dominik Schienstock/Notebook/Experiments/CODEX_HCC/LHCC35_8bit/reg001_cyc011_ch004_CD16.tif',\n",
       " '/Volumes/MDHS-Research/5300/5260/Lab-Mueller/Dominik Schienstock/Notebook/Experiments/CODEX_HCC/LHCC35_8bit/reg001_cyc012_ch002_FoxP3.tif',\n",
       " '/Volumes/MDHS-Research/5300/5260/Lab-Mueller/Dominik Schienstock/Notebook/Experiments/CODEX_HCC/LHCC35_8bit/reg001_cyc012_ch003_CD69.tif',\n",
       " '/Volumes/MDHS-Research/5300/5260/Lab-Mueller/Dominik Schienstock/Notebook/Experiments/CODEX_HCC/LHCC35_8bit/reg001_cyc013_ch002_CD15.tif',\n",
       " '/Volumes/MDHS-Research/5300/5260/Lab-Mueller/Dominik Schienstock/Notebook/Experiments/CODEX_HCC/LHCC35_8bit/reg001_cyc013_ch003_HNFalpha.tif',\n",
       " '/Volumes/MDHS-Research/5300/5260/Lab-Mueller/Dominik Schienstock/Notebook/Experiments/CODEX_HCC/LHCC35_8bit/reg001_cyc014_ch002_pancytokeratin.tif',\n",
       " '/Volumes/MDHS-Research/5300/5260/Lab-Mueller/Dominik Schienstock/Notebook/Experiments/CODEX_HCC/LHCC35_8bit/reg001_cyc014_ch003_HLADR.tif',\n",
       " '/Volumes/MDHS-Research/5300/5260/Lab-Mueller/Dominik Schienstock/Notebook/Experiments/CODEX_HCC/LHCC35_8bit/reg001_cyc014_ch004_CD45RA.tif',\n",
       " '/Volumes/MDHS-Research/5300/5260/Lab-Mueller/Dominik Schienstock/Notebook/Experiments/CODEX_HCC/LHCC35_8bit/reg001_cyc015_ch004_aSMA.tif',\n",
       " '/Volumes/MDHS-Research/5300/5260/Lab-Mueller/Dominik Schienstock/Notebook/Experiments/CODEX_HCC/LHCC35_8bit/reg001_cyc016_ch002_CD66b.tif',\n",
       " '/Volumes/MDHS-Research/5300/5260/Lab-Mueller/Dominik Schienstock/Notebook/Experiments/CODEX_HCC/LHCC35_8bit/reg001_cyc018_ch002_CD68.tif',\n",
       " '/Volumes/MDHS-Research/5300/5260/Lab-Mueller/Dominik Schienstock/Notebook/Experiments/CODEX_HCC/LHCC35_8bit/reg001_cyc019_ch002_EPCAM.tif']"
      ]
     },
     "execution_count": 15,
     "metadata": {},
     "output_type": "execute_result"
    }
   ],
   "source": [
    "im"
   ]
  },
  {
   "cell_type": "code",
   "execution_count": null,
   "id": "b68c7496-8641-4e0e-a8e7-7e93d0d91471",
   "metadata": {
    "tags": []
   },
   "outputs": [],
   "source": [
    "ome_xml_utils.parse_meta_from_tiff('/Volumes/MDHS-Research/5300/5260/Lab-Mueller/Dominik Schienstock/Notebook/Experiments/CODEX_HCC/LHCC35_8bit/reg001_cyc002_ch001_HOECHST 2.tif')"
   ]
  },
  {
   "cell_type": "code",
   "execution_count": null,
   "id": "8f75f4eb",
   "metadata": {
    "tags": []
   },
   "outputs": [],
   "source": [
    "base_dir = '/Volumes/USER_data/Dominik/CECELIA_BACKUP/xfNbld/ANALYSIS'\n",
    "zero_dir = os.path.join(base_dir, '0/RPo4NO/')\n",
    "im_path = os.path.join(zero_dir, 'ccidImage.ome.zarr')\n",
    "version_num = 1\n",
    "task_dir = os.path.join(base_dir, str(version_num), 'RPo4NO')"
   ]
  },
  {
   "cell_type": "code",
   "execution_count": null,
   "id": "96788271",
   "metadata": {
    "tags": []
   },
   "outputs": [],
   "source": [
    "from py.napari_utils import NapariUtils\n",
    "\n",
    "napari_utils = NapariUtils()\n",
    "napari_utils.viewer = None\n",
    "napari_utils.open_viewer()\n",
    "napari_utils.task_dir = task_dir"
   ]
  },
  {
   "cell_type": "code",
   "execution_count": null,
   "id": "75724ef2",
   "metadata": {
    "tags": []
   },
   "outputs": [],
   "source": [
    "channel_names = [\n",
    "    'CD11b-BV421', 'B220-PB', 'XCR1-Venus', 'CD11c-PE', 'LCMV-AF594', 'P14-CTDR', 'CD3e-AF700', 'AF'\n",
    "]"
   ]
  },
  {
   "cell_type": "code",
   "execution_count": null,
   "id": "10e3e72e",
   "metadata": {
    "scrolled": true,
    "tags": []
   },
   "outputs": [],
   "source": [
    "napari_utils.open_image(\n",
    "    im_path, \n",
    "    use_channel_axis = True, as_dask = True,\n",
    "    visible = False\n",
    ")"
   ]
  },
  {
   "cell_type": "code",
   "execution_count": null,
   "id": "eff96f05-0220-4522-8b96-5be13299b85e",
   "metadata": {},
   "outputs": [],
   "source": [
    "# show populations\n",
    "napari_utils.show_pop_mapping('flow', value_name = 'default', points_size=50)"
   ]
  },
  {
   "cell_type": "code",
   "execution_count": null,
   "id": "5dc5c200",
   "metadata": {},
   "outputs": [],
   "source": [
    "# napari_utils.dim_utils.dim_idx('Z', ignore_channel = True, drop_time = True, default_order = False)"
   ]
  },
  {
   "cell_type": "code",
   "execution_count": null,
   "id": "4afd7f17",
   "metadata": {},
   "outputs": [],
   "source": [
    "napari_utils.dim_utils.dim_idx('Z', ignore_channel = False, ignore_time = True)"
   ]
  },
  {
   "cell_type": "code",
   "execution_count": null,
   "id": "e8a536ab",
   "metadata": {},
   "outputs": [],
   "source": [
    "for x in [x.lower() for x in napari_utils.dim_utils.spatial_axis()]:\n",
    "    dim_idx = napari_utils.dim_utils.dim_idx(x, ignore_channel = True, ignore_time = True, drop_z = True)\n",
    "    \n",
    "    print(f'{x} {dim_idx}')"
   ]
  },
  {
   "cell_type": "code",
   "execution_count": null,
   "id": "f35a02c0",
   "metadata": {},
   "outputs": [],
   "source": [
    "dim_idx"
   ]
  },
  {
   "cell_type": "code",
   "execution_count": null,
   "id": "f0a6b447",
   "metadata": {},
   "outputs": [],
   "source": [
    "napari_utils.im_scale"
   ]
  },
  {
   "cell_type": "code",
   "execution_count": null,
   "id": "4181f11d",
   "metadata": {},
   "outputs": [],
   "source": [
    "napari_utils.show_labels_all(\n",
    "    show_labels = False,\n",
    "    show_points = True,\n",
    "    value_names = ['default']\n",
    ")"
   ]
  },
  {
   "cell_type": "code",
   "execution_count": null,
   "id": "0c50bebf",
   "metadata": {},
   "outputs": [],
   "source": [
    "napari_utils.viewer_output_file = r''"
   ]
  },
  {
   "cell_type": "code",
   "execution_count": null,
   "id": "ad325b7f",
   "metadata": {},
   "outputs": [],
   "source": [
    "napari_utils.create_gate_populations_module()"
   ]
  },
  {
   "cell_type": "code",
   "execution_count": null,
   "id": "a4795aa6",
   "metadata": {},
   "outputs": [],
   "source": [
    "# show populations\n",
    "napari_utils.show_pop_mapping('flow', value_name = 'default', points_size=15)"
   ]
  },
  {
   "cell_type": "code",
   "execution_count": null,
   "id": "e161f7e9",
   "metadata": {},
   "outputs": [],
   "source": [
    "# show neighbours\n",
    "napari_utils.show_cell_neighbours(pop_type = 'flow', value_name = 'default')"
   ]
  },
  {
   "cell_type": "code",
   "execution_count": null,
   "id": "5f8dfa59",
   "metadata": {},
   "outputs": [],
   "source": []
  }
 ],
 "metadata": {
  "kernelspec": {
   "display_name": "Python 3 (ipykernel)",
   "language": "python",
   "name": "python3"
  },
  "language_info": {
   "codemirror_mode": {
    "name": "ipython",
    "version": 3
   },
   "file_extension": ".py",
   "mimetype": "text/x-python",
   "name": "python",
   "nbconvert_exporter": "python",
   "pygments_lexer": "ipython3",
   "version": "3.9.18"
  }
 },
 "nbformat": 4,
 "nbformat_minor": 5
}
