{
 "cells": [
  {
   "cell_type": "code",
   "execution_count": 2,
   "id": "96c6cbc2",
   "metadata": {},
   "outputs": [],
   "source": [
    "import numpy as np"
   ]
  },
  {
   "cell_type": "code",
   "execution_count": 3,
   "id": "6a54cbc6",
   "metadata": {},
   "outputs": [
    {
     "data": {
      "text/plain": [
       "array([[0, 0, 0],\n",
       "       [0, 0, 0],\n",
       "       [0, 0, 0],\n",
       "       [0, 0, 0],\n",
       "       [0, 0, 0],\n",
       "       [0, 0, 0],\n",
       "       [0, 0, 0],\n",
       "       [0, 0, 0],\n",
       "       [0, 0, 0],\n",
       "       [0, 0, 0],\n",
       "       [0, 0, 0],\n",
       "       [0, 0, 0]])"
      ]
     },
     "execution_count": 3,
     "metadata": {},
     "output_type": "execute_result"
    }
   ],
   "source": [
    "np.zeros([12, 3], dtype=int)"
   ]
  },
  {
   "cell_type": "code",
   "execution_count": 1,
   "id": "a2fc902c",
   "metadata": {},
   "outputs": [],
   "source": [
    "import os\n",
    "import numpy as np\n",
    "# import working directory to check functions\n",
    "os.chdir('/Users/schiend/Desktop/DOHERTY/R-workspace/cecelia/inst')\n",
    "\n",
    "# config\n",
    "import py.config_utils as cfg\n",
    "\n",
    "%load_ext autoreload\n",
    "%autoreload 2"
   ]
  },
  {
   "cell_type": "code",
   "execution_count": 2,
   "id": "8f75f4eb",
   "metadata": {},
   "outputs": [],
   "source": [
    "base_dir = '/Volumes/Analysis_SSD/Dominik/cecelia/projects/pEdOoZ/ANALYSIS/'\n",
    "zero_dir = os.path.join(base_dir, '0/fhz81P/')\n",
    "im_path = os.path.join(zero_dir, 'ccidImage.ome.zarr')\n",
    "version_num = 2\n",
    "task_dir = os.path.join(base_dir, str(version_num), 'fhz81P')"
   ]
  },
  {
   "cell_type": "code",
   "execution_count": 3,
   "id": "96788271",
   "metadata": {},
   "outputs": [
    {
     "name": "stderr",
     "output_type": "stream",
     "text": [
      "Could not find Java JRE compatible with x86_64 architecture\n"
     ]
    }
   ],
   "source": [
    "from py.napari_utils import NapariUtils\n",
    "\n",
    "napari_utils = NapariUtils()\n",
    "napari_utils.viewer = None\n",
    "napari_utils.open_viewer()\n",
    "napari_utils.task_dir = task_dir"
   ]
  },
  {
   "cell_type": "code",
   "execution_count": 4,
   "id": "75724ef2",
   "metadata": {},
   "outputs": [],
   "source": [
    "channel_names = [\n",
    "    'X127I_I127','X132Xe_Xe132','X138Ba_Ba138','X190BCKG_BCKG190',\n",
    "    'X191Ir_Ir191','X193Ir_Ir193','X195Pt_Pt195','X208Pb_Pb208',\n",
    "    'X80ArAr_ArAr80','B-Catenin_Ho165','CCR7_Gd158','CD14_Nd144',\n",
    "    'CD20_Dy161','CD29_Sm149','CD3_Er170','CD31_Sm147','CD4_Gd156',\n",
    "    'CD40_Er168','CD45_Sm152','CD45RA_Er166','CD45RO_Yb173',\n",
    "    'CD68_Tb159','CD8a_Dy162','cleaved-Caspase3_Yb172','CollagenI_Tm169',\n",
    "    'FoxP3_Gd155','GranzymeB_Er167','Histone-H3_Yb176','HLA-DR_Yb174',\n",
    "    'ICOS_Nd148','Ki67_Nd143','LAG3_Eu153','OX40_Eu151','PDL1_Nd150',\n",
    "    'pERK1-2_Yb171','S100_Lu175','SMA_Pr141','SOX10_Dy164',\n",
    "    'TIM3_Sm154','VISTA_Gd160'\n",
    "]"
   ]
  },
  {
   "cell_type": "code",
   "execution_count": 5,
   "id": "10e3e72e",
   "metadata": {},
   "outputs": [],
   "source": [
    "napari_utils.open_image(\n",
    "    im_path,\n",
    "    use_channel_axis = True,\n",
    "    as_dask = False,\n",
    "    visible = False,\n",
    "    squeeze = True,\n",
    "    channel_names = channel_names\n",
    ")"
   ]
  },
  {
   "cell_type": "code",
   "execution_count": 6,
   "id": "6fef6785",
   "metadata": {},
   "outputs": [],
   "source": [
    "from apoc import PixelClassifier"
   ]
  },
  {
   "cell_type": "code",
   "execution_count": 7,
   "id": "dc9995bc",
   "metadata": {},
   "outputs": [],
   "source": [
    "# check classifier\n",
    "cl_path = os.path.join(base_dir, '2', 'IIIII0', 'cl', 'pix', 'imc_ki67.cl')"
   ]
  },
  {
   "cell_type": "code",
   "execution_count": 8,
   "id": "054c749e",
   "metadata": {},
   "outputs": [],
   "source": [
    "cl_channel_names = ['Histone-H3_Yb176', 'Ki67_Nd143']"
   ]
  },
  {
   "cell_type": "code",
   "execution_count": 9,
   "id": "6a8a3317",
   "metadata": {},
   "outputs": [],
   "source": [
    "cl_channels = [channel_names.index(x) for x in cl_channel_names]"
   ]
  },
  {
   "cell_type": "code",
   "execution_count": 10,
   "id": "b3692ef0",
   "metadata": {},
   "outputs": [],
   "source": [
    "import py.zarr_utils as zarr_utils\n",
    "import py.ome_xml_utils as ome_xml_utils\n",
    "from py.dim_utils import DimUtils"
   ]
  },
  {
   "cell_type": "code",
   "execution_count": 11,
   "id": "c4fb4462",
   "metadata": {},
   "outputs": [],
   "source": [
    "# get image information\n",
    "im_dat, zarr_group_info = zarr_utils.open_as_zarr(im_path, as_dask = False)\n",
    "\n",
    "# get OME-XML\n",
    "omexml = ome_xml_utils.parse_meta(im_path)\n",
    "\n",
    "# create dim utils for image\n",
    "dim_utils = DimUtils(omexml, use_channel_axis = True)\n",
    "dim_utils.calc_image_dimensions(im_dat[0].shape)\n",
    "\n",
    "im = zarr_utils.fortify(im_dat[0])"
   ]
  },
  {
   "cell_type": "code",
   "execution_count": 12,
   "id": "44aeadf9",
   "metadata": {},
   "outputs": [],
   "source": [
    "# load channels for classification\n",
    "images = list()\n",
    "\n",
    "# ensure that channels are in ascending order\n",
    "cl_channels.sort()\n",
    "for x in cl_channels:\n",
    "    slices = [slice(None) for _ in range(len(dim_utils.im_dim))]\n",
    "    slices[napari_utils.dim_utils.dim_idx('C')] = x\n",
    "\n",
    "    images.append(\n",
    "        np.squeeze(zarr_utils.fortify(im[tuple(slices)]))\n",
    "    )"
   ]
  },
  {
   "cell_type": "code",
   "execution_count": 13,
   "id": "8b02031b",
   "metadata": {},
   "outputs": [],
   "source": [
    "cl_segmenter = PixelClassifier(opencl_filename = cl_path)"
   ]
  },
  {
   "cell_type": "code",
   "execution_count": 14,
   "id": "bc6e513d",
   "metadata": {},
   "outputs": [],
   "source": [
    "import pyclesperanto_prototype as cle"
   ]
  },
  {
   "cell_type": "code",
   "execution_count": 15,
   "id": "7fda8aaf",
   "metadata": {},
   "outputs": [
    {
     "data": {
      "text/plain": [
       "<Iris Pro on Platform: Apple (2 refs)>"
      ]
     },
     "execution_count": 15,
     "metadata": {},
     "output_type": "execute_result"
    }
   ],
   "source": [
    "cle.get_device()"
   ]
  },
  {
   "cell_type": "code",
   "execution_count": 16,
   "id": "7c3cc1b0",
   "metadata": {},
   "outputs": [],
   "source": [
    "cl_result = cl_segmenter.predict(image = images)"
   ]
  },
  {
   "cell_type": "code",
   "execution_count": 17,
   "id": "c24082f4",
   "metadata": {},
   "outputs": [
    {
     "data": {
      "text/html": [
       "<table>\n",
       "<tr>\n",
       "<td>\n",
       "<img src=\"data:image/png;base64,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\"></img>\n",
       "</td>\n",
       "<td style=\"text-align: center; vertical-align: top;\">\n",
       "<b><a href=\"https://github.com/clEsperanto/pyclesperanto_prototype\" target=\"_blank\">cle._</a> image</b><br/>\n",
       "<table>\n",
       "<tr><td>shape</td><td>(898,&nbsp;901)</td></tr>\n",
       "<tr><td>dtype</td><td>uint32</td></tr>\n",
       "<tr><td>size</td><td>3.1 MB</td></tr>\n",
       "<tr><td>min</td><td>1.0</td></tr><tr><td>max</td><td>2.0</td></tr>\n",
       "</table>\n",
       "\n",
       "</td>\n",
       "</tr>\n",
       "</table>"
      ],
      "text/plain": [
       "cl.OCLArray([[1, 1, 1, ..., 1, 1, 1],\n",
       "       [1, 1, 1, ..., 1, 1, 1],\n",
       "       [1, 1, 1, ..., 1, 1, 1],\n",
       "       ...,\n",
       "       [1, 1, 1, ..., 1, 1, 1],\n",
       "       [1, 1, 1, ..., 1, 1, 1],\n",
       "       [1, 1, 1, ..., 1, 1, 1]], dtype=uint32)"
      ]
     },
     "execution_count": 17,
     "metadata": {},
     "output_type": "execute_result"
    }
   ],
   "source": [
    "cl_result"
   ]
  },
  {
   "cell_type": "code",
   "execution_count": null,
   "id": "3c48ae8a",
   "metadata": {},
   "outputs": [],
   "source": []
  },
  {
   "cell_type": "code",
   "execution_count": null,
   "id": "e5ad736c",
   "metadata": {},
   "outputs": [],
   "source": [
    "import modules.tasks.sources.pixcl.py.apply_classifier as apply_classifier\n",
    "\n",
    "# define params\n",
    "params = {\n",
    "    'ccia': {\n",
    "    },\n",
    "    'taskDir': task_dir,\n",
    "    'imPath': im_path,\n",
    "    'clChannels': [0, 3],\n",
    "    'clPath': cl_path,\n",
    "    'normaliseImage': False,\n",
    "    'normPercentile': 99.98,\n",
    "    'saveMeshes': True,\n",
    "    'minObjectSize': 50\n",
    "}\n",
    "\n",
    "# run segmentation\n",
    "apply_classifier.run(params)"
   ]
  }
 ],
 "metadata": {
  "kernelspec": {
   "display_name": "Python 3 (ipykernel)",
   "language": "python",
   "name": "python3"
  },
  "language_info": {
   "codemirror_mode": {
    "name": "ipython",
    "version": 3
   },
   "file_extension": ".py",
   "mimetype": "text/x-python",
   "name": "python",
   "nbconvert_exporter": "python",
   "pygments_lexer": "ipython3",
   "version": "3.9.13"
  }
 },
 "nbformat": 4,
 "nbformat_minor": 5
}
