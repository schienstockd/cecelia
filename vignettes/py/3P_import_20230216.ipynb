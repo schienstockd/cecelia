{
 "cells": [
  {
   "cell_type": "code",
   "execution_count": null,
   "id": "a2fc902c",
   "metadata": {},
   "outputs": [],
   "source": [
    "import os\n",
    "import numpy as np\n",
    "# import working directory to check functions\n",
    "os.chdir('/Users/schiend/Desktop/DOHERTY/R-workspace/cecelia/inst')\n",
    "\n",
    "# config\n",
    "import py.config_utils as cfg\n",
    "\n",
    "%load_ext autoreload\n",
    "%autoreload 2"
   ]
  },
  {
   "cell_type": "code",
   "execution_count": 537,
   "id": "8f75f4eb",
   "metadata": {},
   "outputs": [],
   "source": [
    "base_dir = '/Volumes/USER_data/Dominik/Experiments/DS_N055/DATA/20230314/XCR1_LN-reverb-10mm-1300nm-1700nm-1'\n",
    "im_path = os.path.join(base_dir, 'ChanA_001_001_001_001.tif')\n",
    "zarr_path = base_dir + '.ome.zarr'"
   ]
  },
  {
   "cell_type": "code",
   "execution_count": 538,
   "id": "87b8006b",
   "metadata": {},
   "outputs": [],
   "source": [
    "# read in OME XML from first image sequence\n",
    "import tifffile\n",
    "import py.zarr_utils as zarr_utils\n",
    "import py.ome_xml_utils as ome_xml_utils\n",
    "from py.dim_utils import DimUtils\n",
    "\n",
    "im = tifffile.TiffFile(im_path)\n",
    "x_array = im.asarray()\n",
    "omexml = ome_xml_utils.parse_meta(im_path)\n",
    "dim_utils = DimUtils(omexml)\n",
    "dim_utils.calc_image_dimensions(x_array.shape)"
   ]
  },
  {
   "cell_type": "code",
   "execution_count": 539,
   "id": "c3774b1d",
   "metadata": {},
   "outputs": [],
   "source": [
    "# split y axis\n",
    "# TODO this is specific to Thorlabs 3P output\n",
    "split_size = int(dim_utils.dim_val('Y')/dim_utils.dim_val('X'))"
   ]
  },
  {
   "cell_type": "code",
   "execution_count": 739,
   "id": "89b63009",
   "metadata": {},
   "outputs": [],
   "source": [
    "# DEBUG take first x slices\n",
    "debug_slices = 12\n",
    "debug_start_slice = 48"
   ]
  },
  {
   "cell_type": "code",
   "execution_count": 740,
   "id": "de47c7c5",
   "metadata": {},
   "outputs": [],
   "source": [
    "# split array along Y\n",
    "x_split = np.array_split(x_array, split_size, axis = dim_utils.dim_idx('Y'))"
   ]
  },
  {
   "cell_type": "code",
   "execution_count": 741,
   "id": "eb6c1f25",
   "metadata": {},
   "outputs": [],
   "source": [
    "x_split = [x[debug_start_slice:(debug_start_slice + debug_slices), :, :, :] for x in x_split]"
   ]
  },
  {
   "cell_type": "code",
   "execution_count": 742,
   "id": "609f41f1",
   "metadata": {},
   "outputs": [],
   "source": [
    "stack_dim = 'Z'\n",
    "skip_tiles = 1\n",
    "nscales = 1\n",
    "physical_stack_scale = 2"
   ]
  },
  {
   "cell_type": "code",
   "execution_count": 743,
   "id": "b853f334",
   "metadata": {},
   "outputs": [],
   "source": [
    "# get or create stack axis\n",
    "stack_dim_idx = dim_utils.dim_idx(stack_dim)\n",
    "stack_array = False\n",
    "\n",
    "# check whether to create this dimension\n",
    "if stack_dim_idx is None:\n",
    "    stack_dim_idx = dim_utils.default_order.index(stack_dim)\n",
    "    stack_array = True"
   ]
  },
  {
   "cell_type": "code",
   "execution_count": 744,
   "id": "45c1801b",
   "metadata": {},
   "outputs": [],
   "source": [
    "import math"
   ]
  },
  {
   "cell_type": "code",
   "execution_count": 745,
   "id": "76c1c498",
   "metadata": {},
   "outputs": [],
   "source": [
    "\"\"\"\n",
    "scale intensity\n",
    "exp[𝑚𝑛(Δ𝑧/ls − ln(𝑠))] \n",
    "m - multiphoton number\n",
    "n - plane index\n",
    "s - relative incident laser power ratio between planes\n",
    "d𝑧 - spacing between planes\n",
    "ls - mean free path\n",
    "\"\"\"\n",
    "def reverb_intensity_scale(m, n, s, dz, ls, x = None, scale = None):\n",
    "    # get y \n",
    "    y = 1/math.exp(m * n * (dz/ls - math.log(s)))\n",
    "    \n",
    "    # scale?\n",
    "    if scale is not None:\n",
    "        y = y/scale\n",
    "    \n",
    "    if x is not None:\n",
    "        return (x * y).astype(x.dtype)\n",
    "    else:\n",
    "        return y"
   ]
  },
  {
   "cell_type": "code",
   "execution_count": 746,
   "id": "6983f5e4",
   "metadata": {},
   "outputs": [],
   "source": [
    "m = 3\n",
    "s = 2\n",
    "dz = 26\n",
    "ls = 200"
   ]
  },
  {
   "cell_type": "code",
   "execution_count": 747,
   "id": "ccb53127",
   "metadata": {},
   "outputs": [
    {
     "data": {
      "text/plain": [
       "860.7173476383321"
      ]
     },
     "execution_count": 747,
     "metadata": {},
     "output_type": "execute_result"
    }
   ],
   "source": [
    "reverb_intensity_scale(m, len(x_split_shift[::(skip_tiles + 1)]), s, dz, ls)"
   ]
  },
  {
   "cell_type": "code",
   "execution_count": 748,
   "id": "abbca6c7",
   "metadata": {},
   "outputs": [],
   "source": [
    "# create shifts to create image\n",
    "shifts = np.array([\n",
    "    [14.74, -2.18],\n",
    "    [14.74, -2.18],\n",
    "    [13.41, 16.31],\n",
    "    [13.41, 16.31],\n",
    "    [8.92, -4.23],\n",
    "    [8.92, -4.23]\n",
    "])"
   ]
  },
  {
   "cell_type": "code",
   "execution_count": 749,
   "id": "b37e2962",
   "metadata": {},
   "outputs": [],
   "source": [
    "# generate slices for images\n",
    "shift_slices_target = [[slice(None) for _ in x_array.shape] for _ in range(len(shifts))]\n",
    "shift_slices_source = [[slice(None) for _ in x_array.shape] for _ in range(len(shifts))]\n",
    "dim_val = dim_utils.dim_val('X')\n",
    "\n",
    "for i, shift in enumerate(shifts):\n",
    "    # create slices for source and target\n",
    "    if shift[0] > 0:\n",
    "        shift_slices_target[i][dim_utils.dim_idx('Y')] = slice(round(shift[0]), dim_val, 1)\n",
    "        shift_slices_source[i][dim_utils.dim_idx('Y')] = slice(0, dim_val - round(shift[0]), 1)\n",
    "    else:\n",
    "        shift_slices_target[i][dim_utils.dim_idx('Y')] = slice(0, dim_val + round(shift[0]), 1)\n",
    "        shift_slices_source[i][dim_utils.dim_idx('Y')] = slice(-round(shift[0]), dim_val, 1)\n",
    "        \n",
    "    if shift[1] > 0:\n",
    "        shift_slices_target[i][dim_utils.dim_idx('X')] = slice(round(shift[1]), dim_val, 1)\n",
    "        shift_slices_source[i][dim_utils.dim_idx('X')] = slice(0, dim_val - round(shift[1]), 1)\n",
    "    else:\n",
    "        shift_slices_target[i][dim_utils.dim_idx('X')] = slice(0, dim_val + round(shift[1]), 1)\n",
    "        shift_slices_source[i][dim_utils.dim_idx('X')] = slice(-round(shift[1]), dim_val, 1)\n",
    "    \n",
    "shift_slices_target = [tuple(x) for x in shift_slices_target]\n",
    "shift_slices_source = [tuple(x) for x in shift_slices_source]"
   ]
  },
  {
   "cell_type": "code",
   "execution_count": 750,
   "id": "89e08a1b",
   "metadata": {},
   "outputs": [],
   "source": [
    "x_split_shift = x_split[:2]\n",
    "\n",
    "# generate new image\n",
    "for i, x in enumerate(x_split[2:]):\n",
    "    # zero image\n",
    "    zero_im = np.zeros_like(x)\n",
    "    \n",
    "    # copy image\n",
    "    zero_im[shift_slices_target[i]] = x[shift_slices_source[i]]\n",
    "    # zero_im[shift_slices_source[i]] = x[shift_slices_target[i]]\n",
    "    \n",
    "    x_split_shift.append(zero_im)"
   ]
  },
  {
   "cell_type": "code",
   "execution_count": 751,
   "id": "ce9a50da",
   "metadata": {},
   "outputs": [],
   "source": [
    " if stack_array is True:\n",
    "    x_new = np.stack(\n",
    "        [reverb_intensity_scale(x, m, n + 1, s, dz, ls) \\\n",
    "         for n, x in enumerate(x_split[::(skip_tiles + 1)])],\n",
    "        axis = stack_dim_idx\n",
    "    )\n",
    "else:\n",
    "    # get max reverb scale\n",
    "    max_scale = reverb_intensity_scale(m, len(x_split_shift[::(skip_tiles + 1)]), s, dz, ls)\n",
    "    \n",
    "    # contact with shift slices\n",
    "    x_new_list = [reverb_intensity_scale(m, n + 1, s, dz, ls, x = x, scale = max_scale) \\\n",
    "         for n, x in enumerate(x_split_shift[::(skip_tiles + 1)])]\n",
    "    x_new_list.reverse()\n",
    "    \n",
    "    x_new = np.concatenate(x_new_list, axis = stack_dim_idx)"
   ]
  },
  {
   "cell_type": "code",
   "execution_count": 752,
   "id": "d7dc2711",
   "metadata": {},
   "outputs": [],
   "source": [
    "# use median filter\n",
    "from skimage.filters.rank import median\n",
    "from skimage.morphology import ball"
   ]
  },
  {
   "cell_type": "code",
   "execution_count": 753,
   "id": "e7720cab",
   "metadata": {},
   "outputs": [
    {
     "name": "stderr",
     "output_type": "stream",
     "text": [
      "/Users/schiend/Library/r-miniconda/envs/r-cecelia-env/lib/python3.9/site-packages/skimage/filters/rank/generic.py:276: UserWarning: Bad rank filter performance is expected due to a large number of bins (14642), equivalent to an approximate bitdepth of 13.8.\n",
      "  image, footprint, out, mask, n_bins = _handle_input_3D(\n",
      "/Users/schiend/Library/r-miniconda/envs/r-cecelia-env/lib/python3.9/site-packages/skimage/filters/rank/generic.py:276: UserWarning: Bad rank filter performance is expected due to a large number of bins (4628), equivalent to an approximate bitdepth of 12.2.\n",
      "  image, footprint, out, mask, n_bins = _handle_input_3D(\n",
      "/Users/schiend/Library/r-miniconda/envs/r-cecelia-env/lib/python3.9/site-packages/skimage/filters/rank/generic.py:276: UserWarning: Bad rank filter performance is expected due to a large number of bins (2205), equivalent to an approximate bitdepth of 11.1.\n",
      "  image, footprint, out, mask, n_bins = _handle_input_3D(\n"
     ]
    }
   ],
   "source": [
    "im_slices = [slice(None) for _ in range(len(x_new.shape))]\n",
    "\n",
    "for i in range(dim_utils.dim_val('C')):\n",
    "    im_slices = list(im_slices)\n",
    "    im_slices[dim_utils.dim_idx('C')] = i\n",
    "    im_slices = tuple(im_slices)\n",
    "    \n",
    "    x_new[im_slices] = median(x_new[im_slices], ball(3))"
   ]
  },
  {
   "cell_type": "code",
   "execution_count": 754,
   "id": "ba0e839b",
   "metadata": {
    "scrolled": false
   },
   "outputs": [
    {
     "name": "stdout",
     "output_type": "stream",
     "text": [
      "(48, 4, 512, 512)\n",
      "None\n"
     ]
    },
    {
     "name": "stderr",
     "output_type": "stream",
     "text": [
      "/Users/schiend/Library/r-miniconda/envs/r-cecelia-env/lib/python3.9/site-packages/zarr/creation.py:233: UserWarning: ignoring keyword argument 'mode'\n",
      "  warn('ignoring keyword argument %r' % k)\n"
     ]
    }
   ],
   "source": [
    "zarr_utils.create_multiscales(x_new, zarr_path, nscales = nscales)"
   ]
  },
  {
   "cell_type": "code",
   "execution_count": 755,
   "id": "ccabb7f8",
   "metadata": {},
   "outputs": [],
   "source": [
    "# create shape dict for new image\n",
    "shape_dict = {'Y': int(dim_utils.dim_val('Y')/split_size)}\n",
    "shape_dict[stack_dim.upper()] = x_new.shape[stack_dim_idx]\n",
    "scale_dict = dict()\n",
    "scale_dict[stack_dim.upper()] = physical_stack_scale\n",
    "\n",
    "# change image dimensions in xml\n",
    "omexml_new = ome_xml_utils.set_im_size_with_dict(omexml, shape_dict)\n",
    "omexml_new = ome_xml_utils.set_physical_size_with_dict(omexml_new, scale_dict)\n",
    "\n",
    "# add metadata\n",
    "ome_xml_utils.write_ome_xml(zarr_path, omexml_new)"
   ]
  },
  {
   "cell_type": "code",
   "execution_count": 756,
   "id": "96788271",
   "metadata": {},
   "outputs": [],
   "source": [
    "from py.napari_utils import NapariUtils\n",
    "\n",
    "napari_utils = NapariUtils()\n",
    "napari_utils.viewer = None\n",
    "napari_utils.open_viewer()"
   ]
  },
  {
   "cell_type": "code",
   "execution_count": 757,
   "id": "75724ef2",
   "metadata": {},
   "outputs": [],
   "source": [
    "channel_names = [\n",
    "    'A', 'B', 'C', 'D'\n",
    "]"
   ]
  },
  {
   "cell_type": "code",
   "execution_count": 758,
   "id": "10e3e72e",
   "metadata": {},
   "outputs": [
    {
     "name": "stdout",
     "output_type": "stream",
     "text": [
      "[48, 4, 512, 512]\n"
     ]
    }
   ],
   "source": [
    "napari_utils.open_image(\n",
    "    zarr_path,\n",
    "    use_channel_axis = True, as_dask = True,\n",
    "    channel_names = channel_names\n",
    ")"
   ]
  },
  {
   "cell_type": "code",
   "execution_count": 759,
   "id": "a1f26ae6",
   "metadata": {},
   "outputs": [
    {
     "data": {
      "text/plain": [
       "<napari._qt.widgets.qt_viewer_dock_widget.QtViewerDockWidget at 0x2490f1c10>"
      ]
     },
     "execution_count": 759,
     "metadata": {},
     "output_type": "execute_result"
    }
   ],
   "source": [
    "from napari_animation import AnimationWidget\n",
    "animation_widget = AnimationWidget(napari_utils.viewer)\n",
    "napari_utils.viewer.window.add_dock_widget(animation_widget, area='right')"
   ]
  },
  {
   "cell_type": "code",
   "execution_count": null,
   "id": "a6ab6541",
   "metadata": {},
   "outputs": [],
   "source": []
  },
  {
   "cell_type": "code",
   "execution_count": null,
   "id": "09a0bd5c",
   "metadata": {},
   "outputs": [],
   "source": []
  }
 ],
 "metadata": {
  "kernelspec": {
   "display_name": "Python 3 (ipykernel)",
   "language": "python",
   "name": "python3"
  },
  "language_info": {
   "codemirror_mode": {
    "name": "ipython",
    "version": 3
   },
   "file_extension": ".py",
   "mimetype": "text/x-python",
   "name": "python",
   "nbconvert_exporter": "python",
   "pygments_lexer": "ipython3",
   "version": "3.9.13"
  }
 },
 "nbformat": 4,
 "nbformat_minor": 5
}
